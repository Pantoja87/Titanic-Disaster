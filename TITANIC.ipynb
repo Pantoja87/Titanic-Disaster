{
 "cells": [
  {
   "cell_type": "markdown",
   "metadata": {
    "toc": true
   },
   "source": [
    "<h1>Table of Contents<span class=\"tocSkip\"></span></h1>\n",
    "<div class=\"toc\"><ul class=\"toc-item\"><li><span><a href=\"#Import-Dataset-Titanic\" data-toc-modified-id=\"Import-Dataset-Titanic-1\"><span class=\"toc-item-num\">1&nbsp;&nbsp;</span>Import Dataset Titanic</a></span><ul class=\"toc-item\"><li><span><a href=\"#Join-datasets\" data-toc-modified-id=\"Join-datasets-1.1\"><span class=\"toc-item-num\">1.1&nbsp;&nbsp;</span>Join datasets</a></span></li></ul></li><li><span><a href=\"#Analisss-exploratoria-do-Dataset\" data-toc-modified-id=\"Analisss-exploratoria-do-Dataset-2\"><span class=\"toc-item-num\">2&nbsp;&nbsp;</span>Analisss exploratoria do Dataset</a></span></li><li><span><a href=\"#Missing-Values\" data-toc-modified-id=\"Missing-Values-3\"><span class=\"toc-item-num\">3&nbsp;&nbsp;</span>Missing Values</a></span><ul class=\"toc-item\"><li><span><a href=\"#input-Age\" data-toc-modified-id=\"input-Age-3.1\"><span class=\"toc-item-num\">3.1&nbsp;&nbsp;</span>input Age</a></span><ul class=\"toc-item\"><li><span><a href=\"#Input-Age-por-Title-e-Pclasse-,-utilzando-a-Mediana\" data-toc-modified-id=\"Input-Age-por-Title-e-Pclasse-,-utilzando-a-Mediana-3.1.1\"><span class=\"toc-item-num\">3.1.1&nbsp;&nbsp;</span>Input Age por Title e Pclasse , utilzando a Mediana</a></span></li></ul></li><li><span><a href=\"#Input-Fare\" data-toc-modified-id=\"Input-Fare-3.2\"><span class=\"toc-item-num\">3.2&nbsp;&nbsp;</span>Input Fare</a></span></li><li><span><a href=\"#Input-Cabin\" data-toc-modified-id=\"Input-Cabin-3.3\"><span class=\"toc-item-num\">3.3&nbsp;&nbsp;</span>Input Cabin</a></span></li><li><span><a href=\"#Input-Embarked\" data-toc-modified-id=\"Input-Embarked-3.4\"><span class=\"toc-item-num\">3.4&nbsp;&nbsp;</span>Input Embarked</a></span></li></ul></li><li><span><a href=\"#Continuando-analise-exploratória\" data-toc-modified-id=\"Continuando-analise-exploratória-4\"><span class=\"toc-item-num\">4&nbsp;&nbsp;</span>Continuando analise exploratória</a></span></li><li><span><a href=\"#Feature-Engineer\" data-toc-modified-id=\"Feature-Engineer-5\"><span class=\"toc-item-num\">5&nbsp;&nbsp;</span>Feature Engineer</a></span><ul class=\"toc-item\"><li><span><a href=\"#Sobrenome\" data-toc-modified-id=\"Sobrenome-5.1\"><span class=\"toc-item-num\">5.1&nbsp;&nbsp;</span>Sobrenome</a></span></li><li><span><a href=\"#Homens-e-Mulheres-(Solteiros/Sozinhos)-(as)\" data-toc-modified-id=\"Homens-e-Mulheres-(Solteiros/Sozinhos)-(as)-5.2\"><span class=\"toc-item-num\">5.2&nbsp;&nbsp;</span>Homens e Mulheres (Solteiros/Sozinhos) (as)</a></span><ul class=\"toc-item\"><li><span><a href=\"#Sibsp\" data-toc-modified-id=\"Sibsp-5.2.1\"><span class=\"toc-item-num\">5.2.1&nbsp;&nbsp;</span>Sibsp</a></span></li><li><span><a href=\"#Parch\" data-toc-modified-id=\"Parch-5.2.2\"><span class=\"toc-item-num\">5.2.2&nbsp;&nbsp;</span>Parch</a></span></li></ul></li><li><span><a href=\"#Nomrmalização-Age-e-Fare-Min/Max\" data-toc-modified-id=\"Nomrmalização-Age-e-Fare-Min/Max-5.3\"><span class=\"toc-item-num\">5.3&nbsp;&nbsp;</span>Nomrmalização Age e Fare Min/Max</a></span></li><li><span><a href=\"#Age,-Discretização\" data-toc-modified-id=\"Age,-Discretização-5.4\"><span class=\"toc-item-num\">5.4&nbsp;&nbsp;</span>Age, Discretização</a></span></li><li><span><a href=\"#Nivel-Deck\" data-toc-modified-id=\"Nivel-Deck-5.5\"><span class=\"toc-item-num\">5.5&nbsp;&nbsp;</span>Nivel Deck</a></span></li></ul></li><li><span><a href=\"#Label-Enconding\" data-toc-modified-id=\"Label-Enconding-6\"><span class=\"toc-item-num\">6&nbsp;&nbsp;</span>Label Enconding</a></span><ul class=\"toc-item\"><li><span><a href=\"#Label-Enconding\" data-toc-modified-id=\"Label-Enconding-6.1\"><span class=\"toc-item-num\">6.1&nbsp;&nbsp;</span>Label Enconding</a></span></li></ul></li><li><span><a href=\"#MODELO\" data-toc-modified-id=\"MODELO-7\"><span class=\"toc-item-num\">7&nbsp;&nbsp;</span>MODELO</a></span></li><li><span><a href=\"#Predict\" data-toc-modified-id=\"Predict-8\"><span class=\"toc-item-num\">8&nbsp;&nbsp;</span>Predict</a></span></li></ul></div>"
   ]
  },
  {
   "cell_type": "code",
   "execution_count": 3084,
   "metadata": {
    "ExecuteTime": {
     "end_time": "2019-08-06T21:41:17.359774Z",
     "start_time": "2019-08-06T21:41:17.351771Z"
    }
   },
   "outputs": [],
   "source": [
    "\n",
    "import pandas as pd\n",
    "import numpy as np\n",
    "import matplotlib.pyplot as plt\n",
    "import seaborn as sns\n",
    "\n",
    "#IMAGENS.\n",
    "from IPython.display import Image as img\n",
    "\n",
    "#OUTROS.\n",
    "%matplotlib inline\n",
    "import warnings\n",
    "warnings.filterwarnings('ignore')"
   ]
  },
  {
   "cell_type": "markdown",
   "metadata": {},
   "source": [
    " # Import Dataset Titanic"
   ]
  },
  {
   "cell_type": "code",
   "execution_count": 3181,
   "metadata": {
    "ExecuteTime": {
     "end_time": "2019-08-06T21:55:03.397842Z",
     "start_time": "2019-08-06T21:55:03.381837Z"
    }
   },
   "outputs": [],
   "source": [
    "train_csv= pd.read_csv('train.csv')\n",
    "test_csv = pd.read_csv('test.csv')"
   ]
  },
  {
   "cell_type": "code",
   "execution_count": 3182,
   "metadata": {
    "ExecuteTime": {
     "end_time": "2019-08-06T21:55:03.887380Z",
     "start_time": "2019-08-06T21:55:03.872388Z"
    }
   },
   "outputs": [
    {
     "data": {
      "text/html": [
       "<div>\n",
       "<style scoped>\n",
       "    .dataframe tbody tr th:only-of-type {\n",
       "        vertical-align: middle;\n",
       "    }\n",
       "\n",
       "    .dataframe tbody tr th {\n",
       "        vertical-align: top;\n",
       "    }\n",
       "\n",
       "    .dataframe thead th {\n",
       "        text-align: right;\n",
       "    }\n",
       "</style>\n",
       "<table border=\"1\" class=\"dataframe\">\n",
       "  <thead>\n",
       "    <tr style=\"text-align: right;\">\n",
       "      <th></th>\n",
       "      <th>PassengerId</th>\n",
       "      <th>Survived</th>\n",
       "      <th>Pclass</th>\n",
       "      <th>Name</th>\n",
       "      <th>Sex</th>\n",
       "      <th>Age</th>\n",
       "      <th>SibSp</th>\n",
       "      <th>Parch</th>\n",
       "      <th>Ticket</th>\n",
       "      <th>Fare</th>\n",
       "      <th>Cabin</th>\n",
       "      <th>Embarked</th>\n",
       "    </tr>\n",
       "  </thead>\n",
       "  <tbody>\n",
       "    <tr>\n",
       "      <th>0</th>\n",
       "      <td>1</td>\n",
       "      <td>0</td>\n",
       "      <td>3</td>\n",
       "      <td>Braund, Mr. Owen Harris</td>\n",
       "      <td>male</td>\n",
       "      <td>22.0</td>\n",
       "      <td>1</td>\n",
       "      <td>0</td>\n",
       "      <td>A/5 21171</td>\n",
       "      <td>7.2500</td>\n",
       "      <td>NaN</td>\n",
       "      <td>S</td>\n",
       "    </tr>\n",
       "    <tr>\n",
       "      <th>1</th>\n",
       "      <td>2</td>\n",
       "      <td>1</td>\n",
       "      <td>1</td>\n",
       "      <td>Cumings, Mrs. John Bradley (Florence Briggs Th...</td>\n",
       "      <td>female</td>\n",
       "      <td>38.0</td>\n",
       "      <td>1</td>\n",
       "      <td>0</td>\n",
       "      <td>PC 17599</td>\n",
       "      <td>71.2833</td>\n",
       "      <td>C85</td>\n",
       "      <td>C</td>\n",
       "    </tr>\n",
       "    <tr>\n",
       "      <th>2</th>\n",
       "      <td>3</td>\n",
       "      <td>1</td>\n",
       "      <td>3</td>\n",
       "      <td>Heikkinen, Miss. Laina</td>\n",
       "      <td>female</td>\n",
       "      <td>26.0</td>\n",
       "      <td>0</td>\n",
       "      <td>0</td>\n",
       "      <td>STON/O2. 3101282</td>\n",
       "      <td>7.9250</td>\n",
       "      <td>NaN</td>\n",
       "      <td>S</td>\n",
       "    </tr>\n",
       "    <tr>\n",
       "      <th>3</th>\n",
       "      <td>4</td>\n",
       "      <td>1</td>\n",
       "      <td>1</td>\n",
       "      <td>Futrelle, Mrs. Jacques Heath (Lily May Peel)</td>\n",
       "      <td>female</td>\n",
       "      <td>35.0</td>\n",
       "      <td>1</td>\n",
       "      <td>0</td>\n",
       "      <td>113803</td>\n",
       "      <td>53.1000</td>\n",
       "      <td>C123</td>\n",
       "      <td>S</td>\n",
       "    </tr>\n",
       "    <tr>\n",
       "      <th>4</th>\n",
       "      <td>5</td>\n",
       "      <td>0</td>\n",
       "      <td>3</td>\n",
       "      <td>Allen, Mr. William Henry</td>\n",
       "      <td>male</td>\n",
       "      <td>35.0</td>\n",
       "      <td>0</td>\n",
       "      <td>0</td>\n",
       "      <td>373450</td>\n",
       "      <td>8.0500</td>\n",
       "      <td>NaN</td>\n",
       "      <td>S</td>\n",
       "    </tr>\n",
       "  </tbody>\n",
       "</table>\n",
       "</div>"
      ],
      "text/plain": [
       "   PassengerId  Survived  Pclass  \\\n",
       "0            1         0       3   \n",
       "1            2         1       1   \n",
       "2            3         1       3   \n",
       "3            4         1       1   \n",
       "4            5         0       3   \n",
       "\n",
       "                                                Name     Sex   Age  SibSp  \\\n",
       "0                            Braund, Mr. Owen Harris    male  22.0      1   \n",
       "1  Cumings, Mrs. John Bradley (Florence Briggs Th...  female  38.0      1   \n",
       "2                             Heikkinen, Miss. Laina  female  26.0      0   \n",
       "3       Futrelle, Mrs. Jacques Heath (Lily May Peel)  female  35.0      1   \n",
       "4                           Allen, Mr. William Henry    male  35.0      0   \n",
       "\n",
       "   Parch            Ticket     Fare Cabin Embarked  \n",
       "0      0         A/5 21171   7.2500   NaN        S  \n",
       "1      0          PC 17599  71.2833   C85        C  \n",
       "2      0  STON/O2. 3101282   7.9250   NaN        S  \n",
       "3      0            113803  53.1000  C123        S  \n",
       "4      0            373450   8.0500   NaN        S  "
      ]
     },
     "execution_count": 3182,
     "metadata": {},
     "output_type": "execute_result"
    }
   ],
   "source": [
    "train_csv.head()"
   ]
  },
  {
   "cell_type": "code",
   "execution_count": 3183,
   "metadata": {
    "ExecuteTime": {
     "end_time": "2019-08-06T21:55:04.870060Z",
     "start_time": "2019-08-06T21:55:04.856050Z"
    }
   },
   "outputs": [
    {
     "data": {
      "text/html": [
       "<div>\n",
       "<style scoped>\n",
       "    .dataframe tbody tr th:only-of-type {\n",
       "        vertical-align: middle;\n",
       "    }\n",
       "\n",
       "    .dataframe tbody tr th {\n",
       "        vertical-align: top;\n",
       "    }\n",
       "\n",
       "    .dataframe thead th {\n",
       "        text-align: right;\n",
       "    }\n",
       "</style>\n",
       "<table border=\"1\" class=\"dataframe\">\n",
       "  <thead>\n",
       "    <tr style=\"text-align: right;\">\n",
       "      <th></th>\n",
       "      <th>PassengerId</th>\n",
       "      <th>Pclass</th>\n",
       "      <th>Name</th>\n",
       "      <th>Sex</th>\n",
       "      <th>Age</th>\n",
       "      <th>SibSp</th>\n",
       "      <th>Parch</th>\n",
       "      <th>Ticket</th>\n",
       "      <th>Fare</th>\n",
       "      <th>Cabin</th>\n",
       "      <th>Embarked</th>\n",
       "    </tr>\n",
       "  </thead>\n",
       "  <tbody>\n",
       "    <tr>\n",
       "      <th>0</th>\n",
       "      <td>892</td>\n",
       "      <td>3</td>\n",
       "      <td>Kelly, Mr. James</td>\n",
       "      <td>male</td>\n",
       "      <td>34.5</td>\n",
       "      <td>0</td>\n",
       "      <td>0</td>\n",
       "      <td>330911</td>\n",
       "      <td>7.8292</td>\n",
       "      <td>NaN</td>\n",
       "      <td>Q</td>\n",
       "    </tr>\n",
       "    <tr>\n",
       "      <th>1</th>\n",
       "      <td>893</td>\n",
       "      <td>3</td>\n",
       "      <td>Wilkes, Mrs. James (Ellen Needs)</td>\n",
       "      <td>female</td>\n",
       "      <td>47.0</td>\n",
       "      <td>1</td>\n",
       "      <td>0</td>\n",
       "      <td>363272</td>\n",
       "      <td>7.0000</td>\n",
       "      <td>NaN</td>\n",
       "      <td>S</td>\n",
       "    </tr>\n",
       "    <tr>\n",
       "      <th>2</th>\n",
       "      <td>894</td>\n",
       "      <td>2</td>\n",
       "      <td>Myles, Mr. Thomas Francis</td>\n",
       "      <td>male</td>\n",
       "      <td>62.0</td>\n",
       "      <td>0</td>\n",
       "      <td>0</td>\n",
       "      <td>240276</td>\n",
       "      <td>9.6875</td>\n",
       "      <td>NaN</td>\n",
       "      <td>Q</td>\n",
       "    </tr>\n",
       "    <tr>\n",
       "      <th>3</th>\n",
       "      <td>895</td>\n",
       "      <td>3</td>\n",
       "      <td>Wirz, Mr. Albert</td>\n",
       "      <td>male</td>\n",
       "      <td>27.0</td>\n",
       "      <td>0</td>\n",
       "      <td>0</td>\n",
       "      <td>315154</td>\n",
       "      <td>8.6625</td>\n",
       "      <td>NaN</td>\n",
       "      <td>S</td>\n",
       "    </tr>\n",
       "    <tr>\n",
       "      <th>4</th>\n",
       "      <td>896</td>\n",
       "      <td>3</td>\n",
       "      <td>Hirvonen, Mrs. Alexander (Helga E Lindqvist)</td>\n",
       "      <td>female</td>\n",
       "      <td>22.0</td>\n",
       "      <td>1</td>\n",
       "      <td>1</td>\n",
       "      <td>3101298</td>\n",
       "      <td>12.2875</td>\n",
       "      <td>NaN</td>\n",
       "      <td>S</td>\n",
       "    </tr>\n",
       "  </tbody>\n",
       "</table>\n",
       "</div>"
      ],
      "text/plain": [
       "   PassengerId  Pclass                                          Name     Sex  \\\n",
       "0          892       3                              Kelly, Mr. James    male   \n",
       "1          893       3              Wilkes, Mrs. James (Ellen Needs)  female   \n",
       "2          894       2                     Myles, Mr. Thomas Francis    male   \n",
       "3          895       3                              Wirz, Mr. Albert    male   \n",
       "4          896       3  Hirvonen, Mrs. Alexander (Helga E Lindqvist)  female   \n",
       "\n",
       "    Age  SibSp  Parch   Ticket     Fare Cabin Embarked  \n",
       "0  34.5      0      0   330911   7.8292   NaN        Q  \n",
       "1  47.0      1      0   363272   7.0000   NaN        S  \n",
       "2  62.0      0      0   240276   9.6875   NaN        Q  \n",
       "3  27.0      0      0   315154   8.6625   NaN        S  \n",
       "4  22.0      1      1  3101298  12.2875   NaN        S  "
      ]
     },
     "execution_count": 3183,
     "metadata": {},
     "output_type": "execute_result"
    }
   ],
   "source": [
    "test_csv.head()"
   ]
  },
  {
   "cell_type": "code",
   "execution_count": 3184,
   "metadata": {
    "ExecuteTime": {
     "end_time": "2019-08-06T21:55:05.680740Z",
     "start_time": "2019-08-06T21:55:05.670748Z"
    }
   },
   "outputs": [
    {
     "name": "stdout",
     "output_type": "stream",
     "text": [
      "<class 'pandas.core.frame.DataFrame'>\n",
      "RangeIndex: 891 entries, 0 to 890\n",
      "Data columns (total 12 columns):\n",
      "PassengerId    891 non-null int64\n",
      "Survived       891 non-null int64\n",
      "Pclass         891 non-null int64\n",
      "Name           891 non-null object\n",
      "Sex            891 non-null object\n",
      "Age            714 non-null float64\n",
      "SibSp          891 non-null int64\n",
      "Parch          891 non-null int64\n",
      "Ticket         891 non-null object\n",
      "Fare           891 non-null float64\n",
      "Cabin          204 non-null object\n",
      "Embarked       889 non-null object\n",
      "dtypes: float64(2), int64(5), object(5)\n",
      "memory usage: 66.2+ KB\n"
     ]
    }
   ],
   "source": [
    "train_csv.info()"
   ]
  },
  {
   "cell_type": "code",
   "execution_count": 3185,
   "metadata": {
    "ExecuteTime": {
     "end_time": "2019-08-06T21:55:06.927753Z",
     "start_time": "2019-08-06T21:55:06.919244Z"
    }
   },
   "outputs": [
    {
     "name": "stdout",
     "output_type": "stream",
     "text": [
      "<class 'pandas.core.frame.DataFrame'>\n",
      "RangeIndex: 418 entries, 0 to 417\n",
      "Data columns (total 11 columns):\n",
      "PassengerId    418 non-null int64\n",
      "Pclass         418 non-null int64\n",
      "Name           418 non-null object\n",
      "Sex            418 non-null object\n",
      "Age            332 non-null float64\n",
      "SibSp          418 non-null int64\n",
      "Parch          418 non-null int64\n",
      "Ticket         418 non-null object\n",
      "Fare           417 non-null float64\n",
      "Cabin          91 non-null object\n",
      "Embarked       418 non-null object\n",
      "dtypes: float64(2), int64(4), object(5)\n",
      "memory usage: 27.8+ KB\n"
     ]
    }
   ],
   "source": [
    "test_csv.info()"
   ]
  },
  {
   "cell_type": "markdown",
   "metadata": {},
   "source": [
    "## Join datasets"
   ]
  },
  {
   "cell_type": "code",
   "execution_count": 3186,
   "metadata": {
    "ExecuteTime": {
     "end_time": "2019-08-06T21:55:09.943943Z",
     "start_time": "2019-08-06T21:55:09.934954Z"
    }
   },
   "outputs": [],
   "source": [
    "titanic=pd.concat([train_csv,test_csv],axis=0,ignore_index=False)\n"
   ]
  },
  {
   "cell_type": "code",
   "execution_count": 3187,
   "metadata": {
    "ExecuteTime": {
     "end_time": "2019-08-06T21:55:10.737248Z",
     "start_time": "2019-08-06T21:55:10.726756Z"
    }
   },
   "outputs": [
    {
     "name": "stdout",
     "output_type": "stream",
     "text": [
      "<class 'pandas.core.frame.DataFrame'>\n",
      "Int64Index: 1309 entries, 0 to 417\n",
      "Data columns (total 12 columns):\n",
      "Age            1046 non-null float64\n",
      "Cabin          295 non-null object\n",
      "Embarked       1307 non-null object\n",
      "Fare           1308 non-null float64\n",
      "Name           1309 non-null object\n",
      "Parch          1309 non-null int64\n",
      "PassengerId    1309 non-null int64\n",
      "Pclass         1309 non-null int64\n",
      "Sex            1309 non-null object\n",
      "SibSp          1309 non-null int64\n",
      "Survived       891 non-null float64\n",
      "Ticket         1309 non-null object\n",
      "dtypes: float64(3), int64(4), object(5)\n",
      "memory usage: 107.4+ KB\n"
     ]
    }
   ],
   "source": [
    "titanic.info()"
   ]
  },
  {
   "cell_type": "code",
   "execution_count": 3189,
   "metadata": {
    "ExecuteTime": {
     "end_time": "2019-08-06T21:55:24.452617Z",
     "start_time": "2019-08-06T21:55:24.408083Z"
    }
   },
   "outputs": [
    {
     "data": {
      "text/html": [
       "<div>\n",
       "<style scoped>\n",
       "    .dataframe tbody tr th:only-of-type {\n",
       "        vertical-align: middle;\n",
       "    }\n",
       "\n",
       "    .dataframe tbody tr th {\n",
       "        vertical-align: top;\n",
       "    }\n",
       "\n",
       "    .dataframe thead th {\n",
       "        text-align: right;\n",
       "    }\n",
       "</style>\n",
       "<table border=\"1\" class=\"dataframe\">\n",
       "  <thead>\n",
       "    <tr style=\"text-align: right;\">\n",
       "      <th></th>\n",
       "      <th>Age</th>\n",
       "      <th>Cabin</th>\n",
       "      <th>Embarked</th>\n",
       "      <th>Fare</th>\n",
       "      <th>Name</th>\n",
       "      <th>Parch</th>\n",
       "      <th>PassengerId</th>\n",
       "      <th>Pclass</th>\n",
       "      <th>Sex</th>\n",
       "      <th>SibSp</th>\n",
       "      <th>Survived</th>\n",
       "      <th>Ticket</th>\n",
       "    </tr>\n",
       "  </thead>\n",
       "  <tbody>\n",
       "    <tr>\n",
       "      <th>0</th>\n",
       "      <td>22.0</td>\n",
       "      <td>NaN</td>\n",
       "      <td>S</td>\n",
       "      <td>7.2500</td>\n",
       "      <td>Braund, Mr. Owen Harris</td>\n",
       "      <td>0</td>\n",
       "      <td>1</td>\n",
       "      <td>3</td>\n",
       "      <td>male</td>\n",
       "      <td>1</td>\n",
       "      <td>0.0</td>\n",
       "      <td>A/5 21171</td>\n",
       "    </tr>\n",
       "    <tr>\n",
       "      <th>1</th>\n",
       "      <td>38.0</td>\n",
       "      <td>C85</td>\n",
       "      <td>C</td>\n",
       "      <td>71.2833</td>\n",
       "      <td>Cumings, Mrs. John Bradley (Florence Briggs Th...</td>\n",
       "      <td>0</td>\n",
       "      <td>2</td>\n",
       "      <td>1</td>\n",
       "      <td>female</td>\n",
       "      <td>1</td>\n",
       "      <td>1.0</td>\n",
       "      <td>PC 17599</td>\n",
       "    </tr>\n",
       "    <tr>\n",
       "      <th>2</th>\n",
       "      <td>26.0</td>\n",
       "      <td>NaN</td>\n",
       "      <td>S</td>\n",
       "      <td>7.9250</td>\n",
       "      <td>Heikkinen, Miss. Laina</td>\n",
       "      <td>0</td>\n",
       "      <td>3</td>\n",
       "      <td>3</td>\n",
       "      <td>female</td>\n",
       "      <td>0</td>\n",
       "      <td>1.0</td>\n",
       "      <td>STON/O2. 3101282</td>\n",
       "    </tr>\n",
       "    <tr>\n",
       "      <th>3</th>\n",
       "      <td>35.0</td>\n",
       "      <td>C123</td>\n",
       "      <td>S</td>\n",
       "      <td>53.1000</td>\n",
       "      <td>Futrelle, Mrs. Jacques Heath (Lily May Peel)</td>\n",
       "      <td>0</td>\n",
       "      <td>4</td>\n",
       "      <td>1</td>\n",
       "      <td>female</td>\n",
       "      <td>1</td>\n",
       "      <td>1.0</td>\n",
       "      <td>113803</td>\n",
       "    </tr>\n",
       "    <tr>\n",
       "      <th>4</th>\n",
       "      <td>35.0</td>\n",
       "      <td>NaN</td>\n",
       "      <td>S</td>\n",
       "      <td>8.0500</td>\n",
       "      <td>Allen, Mr. William Henry</td>\n",
       "      <td>0</td>\n",
       "      <td>5</td>\n",
       "      <td>3</td>\n",
       "      <td>male</td>\n",
       "      <td>0</td>\n",
       "      <td>0.0</td>\n",
       "      <td>373450</td>\n",
       "    </tr>\n",
       "    <tr>\n",
       "      <th>5</th>\n",
       "      <td>NaN</td>\n",
       "      <td>NaN</td>\n",
       "      <td>Q</td>\n",
       "      <td>8.4583</td>\n",
       "      <td>Moran, Mr. James</td>\n",
       "      <td>0</td>\n",
       "      <td>6</td>\n",
       "      <td>3</td>\n",
       "      <td>male</td>\n",
       "      <td>0</td>\n",
       "      <td>0.0</td>\n",
       "      <td>330877</td>\n",
       "    </tr>\n",
       "    <tr>\n",
       "      <th>6</th>\n",
       "      <td>54.0</td>\n",
       "      <td>E46</td>\n",
       "      <td>S</td>\n",
       "      <td>51.8625</td>\n",
       "      <td>McCarthy, Mr. Timothy J</td>\n",
       "      <td>0</td>\n",
       "      <td>7</td>\n",
       "      <td>1</td>\n",
       "      <td>male</td>\n",
       "      <td>0</td>\n",
       "      <td>0.0</td>\n",
       "      <td>17463</td>\n",
       "    </tr>\n",
       "    <tr>\n",
       "      <th>7</th>\n",
       "      <td>2.0</td>\n",
       "      <td>NaN</td>\n",
       "      <td>S</td>\n",
       "      <td>21.0750</td>\n",
       "      <td>Palsson, Master. Gosta Leonard</td>\n",
       "      <td>1</td>\n",
       "      <td>8</td>\n",
       "      <td>3</td>\n",
       "      <td>male</td>\n",
       "      <td>3</td>\n",
       "      <td>0.0</td>\n",
       "      <td>349909</td>\n",
       "    </tr>\n",
       "    <tr>\n",
       "      <th>8</th>\n",
       "      <td>27.0</td>\n",
       "      <td>NaN</td>\n",
       "      <td>S</td>\n",
       "      <td>11.1333</td>\n",
       "      <td>Johnson, Mrs. Oscar W (Elisabeth Vilhelmina Berg)</td>\n",
       "      <td>2</td>\n",
       "      <td>9</td>\n",
       "      <td>3</td>\n",
       "      <td>female</td>\n",
       "      <td>0</td>\n",
       "      <td>1.0</td>\n",
       "      <td>347742</td>\n",
       "    </tr>\n",
       "    <tr>\n",
       "      <th>9</th>\n",
       "      <td>14.0</td>\n",
       "      <td>NaN</td>\n",
       "      <td>C</td>\n",
       "      <td>30.0708</td>\n",
       "      <td>Nasser, Mrs. Nicholas (Adele Achem)</td>\n",
       "      <td>0</td>\n",
       "      <td>10</td>\n",
       "      <td>2</td>\n",
       "      <td>female</td>\n",
       "      <td>1</td>\n",
       "      <td>1.0</td>\n",
       "      <td>237736</td>\n",
       "    </tr>\n",
       "    <tr>\n",
       "      <th>10</th>\n",
       "      <td>4.0</td>\n",
       "      <td>G6</td>\n",
       "      <td>S</td>\n",
       "      <td>16.7000</td>\n",
       "      <td>Sandstrom, Miss. Marguerite Rut</td>\n",
       "      <td>1</td>\n",
       "      <td>11</td>\n",
       "      <td>3</td>\n",
       "      <td>female</td>\n",
       "      <td>1</td>\n",
       "      <td>1.0</td>\n",
       "      <td>PP 9549</td>\n",
       "    </tr>\n",
       "    <tr>\n",
       "      <th>11</th>\n",
       "      <td>58.0</td>\n",
       "      <td>C103</td>\n",
       "      <td>S</td>\n",
       "      <td>26.5500</td>\n",
       "      <td>Bonnell, Miss. Elizabeth</td>\n",
       "      <td>0</td>\n",
       "      <td>12</td>\n",
       "      <td>1</td>\n",
       "      <td>female</td>\n",
       "      <td>0</td>\n",
       "      <td>1.0</td>\n",
       "      <td>113783</td>\n",
       "    </tr>\n",
       "    <tr>\n",
       "      <th>12</th>\n",
       "      <td>20.0</td>\n",
       "      <td>NaN</td>\n",
       "      <td>S</td>\n",
       "      <td>8.0500</td>\n",
       "      <td>Saundercock, Mr. William Henry</td>\n",
       "      <td>0</td>\n",
       "      <td>13</td>\n",
       "      <td>3</td>\n",
       "      <td>male</td>\n",
       "      <td>0</td>\n",
       "      <td>0.0</td>\n",
       "      <td>A/5. 2151</td>\n",
       "    </tr>\n",
       "    <tr>\n",
       "      <th>13</th>\n",
       "      <td>39.0</td>\n",
       "      <td>NaN</td>\n",
       "      <td>S</td>\n",
       "      <td>31.2750</td>\n",
       "      <td>Andersson, Mr. Anders Johan</td>\n",
       "      <td>5</td>\n",
       "      <td>14</td>\n",
       "      <td>3</td>\n",
       "      <td>male</td>\n",
       "      <td>1</td>\n",
       "      <td>0.0</td>\n",
       "      <td>347082</td>\n",
       "    </tr>\n",
       "    <tr>\n",
       "      <th>14</th>\n",
       "      <td>14.0</td>\n",
       "      <td>NaN</td>\n",
       "      <td>S</td>\n",
       "      <td>7.8542</td>\n",
       "      <td>Vestrom, Miss. Hulda Amanda Adolfina</td>\n",
       "      <td>0</td>\n",
       "      <td>15</td>\n",
       "      <td>3</td>\n",
       "      <td>female</td>\n",
       "      <td>0</td>\n",
       "      <td>0.0</td>\n",
       "      <td>350406</td>\n",
       "    </tr>\n",
       "    <tr>\n",
       "      <th>15</th>\n",
       "      <td>55.0</td>\n",
       "      <td>NaN</td>\n",
       "      <td>S</td>\n",
       "      <td>16.0000</td>\n",
       "      <td>Hewlett, Mrs. (Mary D Kingcome)</td>\n",
       "      <td>0</td>\n",
       "      <td>16</td>\n",
       "      <td>2</td>\n",
       "      <td>female</td>\n",
       "      <td>0</td>\n",
       "      <td>1.0</td>\n",
       "      <td>248706</td>\n",
       "    </tr>\n",
       "    <tr>\n",
       "      <th>16</th>\n",
       "      <td>2.0</td>\n",
       "      <td>NaN</td>\n",
       "      <td>Q</td>\n",
       "      <td>29.1250</td>\n",
       "      <td>Rice, Master. Eugene</td>\n",
       "      <td>1</td>\n",
       "      <td>17</td>\n",
       "      <td>3</td>\n",
       "      <td>male</td>\n",
       "      <td>4</td>\n",
       "      <td>0.0</td>\n",
       "      <td>382652</td>\n",
       "    </tr>\n",
       "    <tr>\n",
       "      <th>17</th>\n",
       "      <td>NaN</td>\n",
       "      <td>NaN</td>\n",
       "      <td>S</td>\n",
       "      <td>13.0000</td>\n",
       "      <td>Williams, Mr. Charles Eugene</td>\n",
       "      <td>0</td>\n",
       "      <td>18</td>\n",
       "      <td>2</td>\n",
       "      <td>male</td>\n",
       "      <td>0</td>\n",
       "      <td>1.0</td>\n",
       "      <td>244373</td>\n",
       "    </tr>\n",
       "    <tr>\n",
       "      <th>18</th>\n",
       "      <td>31.0</td>\n",
       "      <td>NaN</td>\n",
       "      <td>S</td>\n",
       "      <td>18.0000</td>\n",
       "      <td>Vander Planke, Mrs. Julius (Emelia Maria Vande...</td>\n",
       "      <td>0</td>\n",
       "      <td>19</td>\n",
       "      <td>3</td>\n",
       "      <td>female</td>\n",
       "      <td>1</td>\n",
       "      <td>0.0</td>\n",
       "      <td>345763</td>\n",
       "    </tr>\n",
       "    <tr>\n",
       "      <th>19</th>\n",
       "      <td>NaN</td>\n",
       "      <td>NaN</td>\n",
       "      <td>C</td>\n",
       "      <td>7.2250</td>\n",
       "      <td>Masselmani, Mrs. Fatima</td>\n",
       "      <td>0</td>\n",
       "      <td>20</td>\n",
       "      <td>3</td>\n",
       "      <td>female</td>\n",
       "      <td>0</td>\n",
       "      <td>1.0</td>\n",
       "      <td>2649</td>\n",
       "    </tr>\n",
       "    <tr>\n",
       "      <th>20</th>\n",
       "      <td>35.0</td>\n",
       "      <td>NaN</td>\n",
       "      <td>S</td>\n",
       "      <td>26.0000</td>\n",
       "      <td>Fynney, Mr. Joseph J</td>\n",
       "      <td>0</td>\n",
       "      <td>21</td>\n",
       "      <td>2</td>\n",
       "      <td>male</td>\n",
       "      <td>0</td>\n",
       "      <td>0.0</td>\n",
       "      <td>239865</td>\n",
       "    </tr>\n",
       "    <tr>\n",
       "      <th>21</th>\n",
       "      <td>34.0</td>\n",
       "      <td>D56</td>\n",
       "      <td>S</td>\n",
       "      <td>13.0000</td>\n",
       "      <td>Beesley, Mr. Lawrence</td>\n",
       "      <td>0</td>\n",
       "      <td>22</td>\n",
       "      <td>2</td>\n",
       "      <td>male</td>\n",
       "      <td>0</td>\n",
       "      <td>1.0</td>\n",
       "      <td>248698</td>\n",
       "    </tr>\n",
       "    <tr>\n",
       "      <th>22</th>\n",
       "      <td>15.0</td>\n",
       "      <td>NaN</td>\n",
       "      <td>Q</td>\n",
       "      <td>8.0292</td>\n",
       "      <td>McGowan, Miss. Anna \"Annie\"</td>\n",
       "      <td>0</td>\n",
       "      <td>23</td>\n",
       "      <td>3</td>\n",
       "      <td>female</td>\n",
       "      <td>0</td>\n",
       "      <td>1.0</td>\n",
       "      <td>330923</td>\n",
       "    </tr>\n",
       "    <tr>\n",
       "      <th>23</th>\n",
       "      <td>28.0</td>\n",
       "      <td>A6</td>\n",
       "      <td>S</td>\n",
       "      <td>35.5000</td>\n",
       "      <td>Sloper, Mr. William Thompson</td>\n",
       "      <td>0</td>\n",
       "      <td>24</td>\n",
       "      <td>1</td>\n",
       "      <td>male</td>\n",
       "      <td>0</td>\n",
       "      <td>1.0</td>\n",
       "      <td>113788</td>\n",
       "    </tr>\n",
       "    <tr>\n",
       "      <th>24</th>\n",
       "      <td>8.0</td>\n",
       "      <td>NaN</td>\n",
       "      <td>S</td>\n",
       "      <td>21.0750</td>\n",
       "      <td>Palsson, Miss. Torborg Danira</td>\n",
       "      <td>1</td>\n",
       "      <td>25</td>\n",
       "      <td>3</td>\n",
       "      <td>female</td>\n",
       "      <td>3</td>\n",
       "      <td>0.0</td>\n",
       "      <td>349909</td>\n",
       "    </tr>\n",
       "    <tr>\n",
       "      <th>25</th>\n",
       "      <td>38.0</td>\n",
       "      <td>NaN</td>\n",
       "      <td>S</td>\n",
       "      <td>31.3875</td>\n",
       "      <td>Asplund, Mrs. Carl Oscar (Selma Augusta Emilia...</td>\n",
       "      <td>5</td>\n",
       "      <td>26</td>\n",
       "      <td>3</td>\n",
       "      <td>female</td>\n",
       "      <td>1</td>\n",
       "      <td>1.0</td>\n",
       "      <td>347077</td>\n",
       "    </tr>\n",
       "    <tr>\n",
       "      <th>26</th>\n",
       "      <td>NaN</td>\n",
       "      <td>NaN</td>\n",
       "      <td>C</td>\n",
       "      <td>7.2250</td>\n",
       "      <td>Emir, Mr. Farred Chehab</td>\n",
       "      <td>0</td>\n",
       "      <td>27</td>\n",
       "      <td>3</td>\n",
       "      <td>male</td>\n",
       "      <td>0</td>\n",
       "      <td>0.0</td>\n",
       "      <td>2631</td>\n",
       "    </tr>\n",
       "    <tr>\n",
       "      <th>27</th>\n",
       "      <td>19.0</td>\n",
       "      <td>C23 C25 C27</td>\n",
       "      <td>S</td>\n",
       "      <td>263.0000</td>\n",
       "      <td>Fortune, Mr. Charles Alexander</td>\n",
       "      <td>2</td>\n",
       "      <td>28</td>\n",
       "      <td>1</td>\n",
       "      <td>male</td>\n",
       "      <td>3</td>\n",
       "      <td>0.0</td>\n",
       "      <td>19950</td>\n",
       "    </tr>\n",
       "    <tr>\n",
       "      <th>28</th>\n",
       "      <td>NaN</td>\n",
       "      <td>NaN</td>\n",
       "      <td>Q</td>\n",
       "      <td>7.8792</td>\n",
       "      <td>O'Dwyer, Miss. Ellen \"Nellie\"</td>\n",
       "      <td>0</td>\n",
       "      <td>29</td>\n",
       "      <td>3</td>\n",
       "      <td>female</td>\n",
       "      <td>0</td>\n",
       "      <td>1.0</td>\n",
       "      <td>330959</td>\n",
       "    </tr>\n",
       "    <tr>\n",
       "      <th>29</th>\n",
       "      <td>NaN</td>\n",
       "      <td>NaN</td>\n",
       "      <td>S</td>\n",
       "      <td>7.8958</td>\n",
       "      <td>Todoroff, Mr. Lalio</td>\n",
       "      <td>0</td>\n",
       "      <td>30</td>\n",
       "      <td>3</td>\n",
       "      <td>male</td>\n",
       "      <td>0</td>\n",
       "      <td>0.0</td>\n",
       "      <td>349216</td>\n",
       "    </tr>\n",
       "    <tr>\n",
       "      <th>...</th>\n",
       "      <td>...</td>\n",
       "      <td>...</td>\n",
       "      <td>...</td>\n",
       "      <td>...</td>\n",
       "      <td>...</td>\n",
       "      <td>...</td>\n",
       "      <td>...</td>\n",
       "      <td>...</td>\n",
       "      <td>...</td>\n",
       "      <td>...</td>\n",
       "      <td>...</td>\n",
       "      <td>...</td>\n",
       "    </tr>\n",
       "    <tr>\n",
       "      <th>388</th>\n",
       "      <td>21.0</td>\n",
       "      <td>NaN</td>\n",
       "      <td>Q</td>\n",
       "      <td>7.7500</td>\n",
       "      <td>Canavan, Mr. Patrick</td>\n",
       "      <td>0</td>\n",
       "      <td>1280</td>\n",
       "      <td>3</td>\n",
       "      <td>male</td>\n",
       "      <td>0</td>\n",
       "      <td>NaN</td>\n",
       "      <td>364858</td>\n",
       "    </tr>\n",
       "    <tr>\n",
       "      <th>389</th>\n",
       "      <td>6.0</td>\n",
       "      <td>NaN</td>\n",
       "      <td>S</td>\n",
       "      <td>21.0750</td>\n",
       "      <td>Palsson, Master. Paul Folke</td>\n",
       "      <td>1</td>\n",
       "      <td>1281</td>\n",
       "      <td>3</td>\n",
       "      <td>male</td>\n",
       "      <td>3</td>\n",
       "      <td>NaN</td>\n",
       "      <td>349909</td>\n",
       "    </tr>\n",
       "    <tr>\n",
       "      <th>390</th>\n",
       "      <td>23.0</td>\n",
       "      <td>B24</td>\n",
       "      <td>S</td>\n",
       "      <td>93.5000</td>\n",
       "      <td>Payne, Mr. Vivian Ponsonby</td>\n",
       "      <td>0</td>\n",
       "      <td>1282</td>\n",
       "      <td>1</td>\n",
       "      <td>male</td>\n",
       "      <td>0</td>\n",
       "      <td>NaN</td>\n",
       "      <td>12749</td>\n",
       "    </tr>\n",
       "    <tr>\n",
       "      <th>391</th>\n",
       "      <td>51.0</td>\n",
       "      <td>D28</td>\n",
       "      <td>S</td>\n",
       "      <td>39.4000</td>\n",
       "      <td>Lines, Mrs. Ernest H (Elizabeth Lindsey James)</td>\n",
       "      <td>1</td>\n",
       "      <td>1283</td>\n",
       "      <td>1</td>\n",
       "      <td>female</td>\n",
       "      <td>0</td>\n",
       "      <td>NaN</td>\n",
       "      <td>PC 17592</td>\n",
       "    </tr>\n",
       "    <tr>\n",
       "      <th>392</th>\n",
       "      <td>13.0</td>\n",
       "      <td>NaN</td>\n",
       "      <td>S</td>\n",
       "      <td>20.2500</td>\n",
       "      <td>Abbott, Master. Eugene Joseph</td>\n",
       "      <td>2</td>\n",
       "      <td>1284</td>\n",
       "      <td>3</td>\n",
       "      <td>male</td>\n",
       "      <td>0</td>\n",
       "      <td>NaN</td>\n",
       "      <td>C.A. 2673</td>\n",
       "    </tr>\n",
       "    <tr>\n",
       "      <th>393</th>\n",
       "      <td>47.0</td>\n",
       "      <td>NaN</td>\n",
       "      <td>S</td>\n",
       "      <td>10.5000</td>\n",
       "      <td>Gilbert, Mr. William</td>\n",
       "      <td>0</td>\n",
       "      <td>1285</td>\n",
       "      <td>2</td>\n",
       "      <td>male</td>\n",
       "      <td>0</td>\n",
       "      <td>NaN</td>\n",
       "      <td>C.A. 30769</td>\n",
       "    </tr>\n",
       "    <tr>\n",
       "      <th>394</th>\n",
       "      <td>29.0</td>\n",
       "      <td>NaN</td>\n",
       "      <td>S</td>\n",
       "      <td>22.0250</td>\n",
       "      <td>Kink-Heilmann, Mr. Anton</td>\n",
       "      <td>1</td>\n",
       "      <td>1286</td>\n",
       "      <td>3</td>\n",
       "      <td>male</td>\n",
       "      <td>3</td>\n",
       "      <td>NaN</td>\n",
       "      <td>315153</td>\n",
       "    </tr>\n",
       "    <tr>\n",
       "      <th>395</th>\n",
       "      <td>18.0</td>\n",
       "      <td>C31</td>\n",
       "      <td>S</td>\n",
       "      <td>60.0000</td>\n",
       "      <td>Smith, Mrs. Lucien Philip (Mary Eloise Hughes)</td>\n",
       "      <td>0</td>\n",
       "      <td>1287</td>\n",
       "      <td>1</td>\n",
       "      <td>female</td>\n",
       "      <td>1</td>\n",
       "      <td>NaN</td>\n",
       "      <td>13695</td>\n",
       "    </tr>\n",
       "    <tr>\n",
       "      <th>396</th>\n",
       "      <td>24.0</td>\n",
       "      <td>NaN</td>\n",
       "      <td>Q</td>\n",
       "      <td>7.2500</td>\n",
       "      <td>Colbert, Mr. Patrick</td>\n",
       "      <td>0</td>\n",
       "      <td>1288</td>\n",
       "      <td>3</td>\n",
       "      <td>male</td>\n",
       "      <td>0</td>\n",
       "      <td>NaN</td>\n",
       "      <td>371109</td>\n",
       "    </tr>\n",
       "    <tr>\n",
       "      <th>397</th>\n",
       "      <td>48.0</td>\n",
       "      <td>B41</td>\n",
       "      <td>C</td>\n",
       "      <td>79.2000</td>\n",
       "      <td>Frolicher-Stehli, Mrs. Maxmillian (Margaretha ...</td>\n",
       "      <td>1</td>\n",
       "      <td>1289</td>\n",
       "      <td>1</td>\n",
       "      <td>female</td>\n",
       "      <td>1</td>\n",
       "      <td>NaN</td>\n",
       "      <td>13567</td>\n",
       "    </tr>\n",
       "    <tr>\n",
       "      <th>398</th>\n",
       "      <td>22.0</td>\n",
       "      <td>NaN</td>\n",
       "      <td>S</td>\n",
       "      <td>7.7750</td>\n",
       "      <td>Larsson-Rondberg, Mr. Edvard A</td>\n",
       "      <td>0</td>\n",
       "      <td>1290</td>\n",
       "      <td>3</td>\n",
       "      <td>male</td>\n",
       "      <td>0</td>\n",
       "      <td>NaN</td>\n",
       "      <td>347065</td>\n",
       "    </tr>\n",
       "    <tr>\n",
       "      <th>399</th>\n",
       "      <td>31.0</td>\n",
       "      <td>NaN</td>\n",
       "      <td>Q</td>\n",
       "      <td>7.7333</td>\n",
       "      <td>Conlon, Mr. Thomas Henry</td>\n",
       "      <td>0</td>\n",
       "      <td>1291</td>\n",
       "      <td>3</td>\n",
       "      <td>male</td>\n",
       "      <td>0</td>\n",
       "      <td>NaN</td>\n",
       "      <td>21332</td>\n",
       "    </tr>\n",
       "    <tr>\n",
       "      <th>400</th>\n",
       "      <td>30.0</td>\n",
       "      <td>C7</td>\n",
       "      <td>S</td>\n",
       "      <td>164.8667</td>\n",
       "      <td>Bonnell, Miss. Caroline</td>\n",
       "      <td>0</td>\n",
       "      <td>1292</td>\n",
       "      <td>1</td>\n",
       "      <td>female</td>\n",
       "      <td>0</td>\n",
       "      <td>NaN</td>\n",
       "      <td>36928</td>\n",
       "    </tr>\n",
       "    <tr>\n",
       "      <th>401</th>\n",
       "      <td>38.0</td>\n",
       "      <td>NaN</td>\n",
       "      <td>S</td>\n",
       "      <td>21.0000</td>\n",
       "      <td>Gale, Mr. Harry</td>\n",
       "      <td>0</td>\n",
       "      <td>1293</td>\n",
       "      <td>2</td>\n",
       "      <td>male</td>\n",
       "      <td>1</td>\n",
       "      <td>NaN</td>\n",
       "      <td>28664</td>\n",
       "    </tr>\n",
       "    <tr>\n",
       "      <th>402</th>\n",
       "      <td>22.0</td>\n",
       "      <td>NaN</td>\n",
       "      <td>C</td>\n",
       "      <td>59.4000</td>\n",
       "      <td>Gibson, Miss. Dorothy Winifred</td>\n",
       "      <td>1</td>\n",
       "      <td>1294</td>\n",
       "      <td>1</td>\n",
       "      <td>female</td>\n",
       "      <td>0</td>\n",
       "      <td>NaN</td>\n",
       "      <td>112378</td>\n",
       "    </tr>\n",
       "    <tr>\n",
       "      <th>403</th>\n",
       "      <td>17.0</td>\n",
       "      <td>NaN</td>\n",
       "      <td>S</td>\n",
       "      <td>47.1000</td>\n",
       "      <td>Carrau, Mr. Jose Pedro</td>\n",
       "      <td>0</td>\n",
       "      <td>1295</td>\n",
       "      <td>1</td>\n",
       "      <td>male</td>\n",
       "      <td>0</td>\n",
       "      <td>NaN</td>\n",
       "      <td>113059</td>\n",
       "    </tr>\n",
       "    <tr>\n",
       "      <th>404</th>\n",
       "      <td>43.0</td>\n",
       "      <td>D40</td>\n",
       "      <td>C</td>\n",
       "      <td>27.7208</td>\n",
       "      <td>Frauenthal, Mr. Isaac Gerald</td>\n",
       "      <td>0</td>\n",
       "      <td>1296</td>\n",
       "      <td>1</td>\n",
       "      <td>male</td>\n",
       "      <td>1</td>\n",
       "      <td>NaN</td>\n",
       "      <td>17765</td>\n",
       "    </tr>\n",
       "    <tr>\n",
       "      <th>405</th>\n",
       "      <td>20.0</td>\n",
       "      <td>D38</td>\n",
       "      <td>C</td>\n",
       "      <td>13.8625</td>\n",
       "      <td>Nourney, Mr. Alfred (Baron von Drachstedt\")\"</td>\n",
       "      <td>0</td>\n",
       "      <td>1297</td>\n",
       "      <td>2</td>\n",
       "      <td>male</td>\n",
       "      <td>0</td>\n",
       "      <td>NaN</td>\n",
       "      <td>SC/PARIS 2166</td>\n",
       "    </tr>\n",
       "    <tr>\n",
       "      <th>406</th>\n",
       "      <td>23.0</td>\n",
       "      <td>NaN</td>\n",
       "      <td>S</td>\n",
       "      <td>10.5000</td>\n",
       "      <td>Ware, Mr. William Jeffery</td>\n",
       "      <td>0</td>\n",
       "      <td>1298</td>\n",
       "      <td>2</td>\n",
       "      <td>male</td>\n",
       "      <td>1</td>\n",
       "      <td>NaN</td>\n",
       "      <td>28666</td>\n",
       "    </tr>\n",
       "    <tr>\n",
       "      <th>407</th>\n",
       "      <td>50.0</td>\n",
       "      <td>C80</td>\n",
       "      <td>C</td>\n",
       "      <td>211.5000</td>\n",
       "      <td>Widener, Mr. George Dunton</td>\n",
       "      <td>1</td>\n",
       "      <td>1299</td>\n",
       "      <td>1</td>\n",
       "      <td>male</td>\n",
       "      <td>1</td>\n",
       "      <td>NaN</td>\n",
       "      <td>113503</td>\n",
       "    </tr>\n",
       "    <tr>\n",
       "      <th>408</th>\n",
       "      <td>NaN</td>\n",
       "      <td>NaN</td>\n",
       "      <td>Q</td>\n",
       "      <td>7.7208</td>\n",
       "      <td>Riordan, Miss. Johanna Hannah\"\"</td>\n",
       "      <td>0</td>\n",
       "      <td>1300</td>\n",
       "      <td>3</td>\n",
       "      <td>female</td>\n",
       "      <td>0</td>\n",
       "      <td>NaN</td>\n",
       "      <td>334915</td>\n",
       "    </tr>\n",
       "    <tr>\n",
       "      <th>409</th>\n",
       "      <td>3.0</td>\n",
       "      <td>NaN</td>\n",
       "      <td>S</td>\n",
       "      <td>13.7750</td>\n",
       "      <td>Peacock, Miss. Treasteall</td>\n",
       "      <td>1</td>\n",
       "      <td>1301</td>\n",
       "      <td>3</td>\n",
       "      <td>female</td>\n",
       "      <td>1</td>\n",
       "      <td>NaN</td>\n",
       "      <td>SOTON/O.Q. 3101315</td>\n",
       "    </tr>\n",
       "    <tr>\n",
       "      <th>410</th>\n",
       "      <td>NaN</td>\n",
       "      <td>NaN</td>\n",
       "      <td>Q</td>\n",
       "      <td>7.7500</td>\n",
       "      <td>Naughton, Miss. Hannah</td>\n",
       "      <td>0</td>\n",
       "      <td>1302</td>\n",
       "      <td>3</td>\n",
       "      <td>female</td>\n",
       "      <td>0</td>\n",
       "      <td>NaN</td>\n",
       "      <td>365237</td>\n",
       "    </tr>\n",
       "    <tr>\n",
       "      <th>411</th>\n",
       "      <td>37.0</td>\n",
       "      <td>C78</td>\n",
       "      <td>Q</td>\n",
       "      <td>90.0000</td>\n",
       "      <td>Minahan, Mrs. William Edward (Lillian E Thorpe)</td>\n",
       "      <td>0</td>\n",
       "      <td>1303</td>\n",
       "      <td>1</td>\n",
       "      <td>female</td>\n",
       "      <td>1</td>\n",
       "      <td>NaN</td>\n",
       "      <td>19928</td>\n",
       "    </tr>\n",
       "    <tr>\n",
       "      <th>412</th>\n",
       "      <td>28.0</td>\n",
       "      <td>NaN</td>\n",
       "      <td>S</td>\n",
       "      <td>7.7750</td>\n",
       "      <td>Henriksson, Miss. Jenny Lovisa</td>\n",
       "      <td>0</td>\n",
       "      <td>1304</td>\n",
       "      <td>3</td>\n",
       "      <td>female</td>\n",
       "      <td>0</td>\n",
       "      <td>NaN</td>\n",
       "      <td>347086</td>\n",
       "    </tr>\n",
       "    <tr>\n",
       "      <th>413</th>\n",
       "      <td>NaN</td>\n",
       "      <td>NaN</td>\n",
       "      <td>S</td>\n",
       "      <td>8.0500</td>\n",
       "      <td>Spector, Mr. Woolf</td>\n",
       "      <td>0</td>\n",
       "      <td>1305</td>\n",
       "      <td>3</td>\n",
       "      <td>male</td>\n",
       "      <td>0</td>\n",
       "      <td>NaN</td>\n",
       "      <td>A.5. 3236</td>\n",
       "    </tr>\n",
       "    <tr>\n",
       "      <th>414</th>\n",
       "      <td>39.0</td>\n",
       "      <td>C105</td>\n",
       "      <td>C</td>\n",
       "      <td>108.9000</td>\n",
       "      <td>Oliva y Ocana, Dona. Fermina</td>\n",
       "      <td>0</td>\n",
       "      <td>1306</td>\n",
       "      <td>1</td>\n",
       "      <td>female</td>\n",
       "      <td>0</td>\n",
       "      <td>NaN</td>\n",
       "      <td>PC 17758</td>\n",
       "    </tr>\n",
       "    <tr>\n",
       "      <th>415</th>\n",
       "      <td>38.5</td>\n",
       "      <td>NaN</td>\n",
       "      <td>S</td>\n",
       "      <td>7.2500</td>\n",
       "      <td>Saether, Mr. Simon Sivertsen</td>\n",
       "      <td>0</td>\n",
       "      <td>1307</td>\n",
       "      <td>3</td>\n",
       "      <td>male</td>\n",
       "      <td>0</td>\n",
       "      <td>NaN</td>\n",
       "      <td>SOTON/O.Q. 3101262</td>\n",
       "    </tr>\n",
       "    <tr>\n",
       "      <th>416</th>\n",
       "      <td>NaN</td>\n",
       "      <td>NaN</td>\n",
       "      <td>S</td>\n",
       "      <td>8.0500</td>\n",
       "      <td>Ware, Mr. Frederick</td>\n",
       "      <td>0</td>\n",
       "      <td>1308</td>\n",
       "      <td>3</td>\n",
       "      <td>male</td>\n",
       "      <td>0</td>\n",
       "      <td>NaN</td>\n",
       "      <td>359309</td>\n",
       "    </tr>\n",
       "    <tr>\n",
       "      <th>417</th>\n",
       "      <td>NaN</td>\n",
       "      <td>NaN</td>\n",
       "      <td>C</td>\n",
       "      <td>22.3583</td>\n",
       "      <td>Peter, Master. Michael J</td>\n",
       "      <td>1</td>\n",
       "      <td>1309</td>\n",
       "      <td>3</td>\n",
       "      <td>male</td>\n",
       "      <td>1</td>\n",
       "      <td>NaN</td>\n",
       "      <td>2668</td>\n",
       "    </tr>\n",
       "  </tbody>\n",
       "</table>\n",
       "<p>1309 rows × 12 columns</p>\n",
       "</div>"
      ],
      "text/plain": [
       "      Age        Cabin Embarked      Fare  \\\n",
       "0    22.0          NaN        S    7.2500   \n",
       "1    38.0          C85        C   71.2833   \n",
       "2    26.0          NaN        S    7.9250   \n",
       "3    35.0         C123        S   53.1000   \n",
       "4    35.0          NaN        S    8.0500   \n",
       "5     NaN          NaN        Q    8.4583   \n",
       "6    54.0          E46        S   51.8625   \n",
       "7     2.0          NaN        S   21.0750   \n",
       "8    27.0          NaN        S   11.1333   \n",
       "9    14.0          NaN        C   30.0708   \n",
       "10    4.0           G6        S   16.7000   \n",
       "11   58.0         C103        S   26.5500   \n",
       "12   20.0          NaN        S    8.0500   \n",
       "13   39.0          NaN        S   31.2750   \n",
       "14   14.0          NaN        S    7.8542   \n",
       "15   55.0          NaN        S   16.0000   \n",
       "16    2.0          NaN        Q   29.1250   \n",
       "17    NaN          NaN        S   13.0000   \n",
       "18   31.0          NaN        S   18.0000   \n",
       "19    NaN          NaN        C    7.2250   \n",
       "20   35.0          NaN        S   26.0000   \n",
       "21   34.0          D56        S   13.0000   \n",
       "22   15.0          NaN        Q    8.0292   \n",
       "23   28.0           A6        S   35.5000   \n",
       "24    8.0          NaN        S   21.0750   \n",
       "25   38.0          NaN        S   31.3875   \n",
       "26    NaN          NaN        C    7.2250   \n",
       "27   19.0  C23 C25 C27        S  263.0000   \n",
       "28    NaN          NaN        Q    7.8792   \n",
       "29    NaN          NaN        S    7.8958   \n",
       "..    ...          ...      ...       ...   \n",
       "388  21.0          NaN        Q    7.7500   \n",
       "389   6.0          NaN        S   21.0750   \n",
       "390  23.0          B24        S   93.5000   \n",
       "391  51.0          D28        S   39.4000   \n",
       "392  13.0          NaN        S   20.2500   \n",
       "393  47.0          NaN        S   10.5000   \n",
       "394  29.0          NaN        S   22.0250   \n",
       "395  18.0          C31        S   60.0000   \n",
       "396  24.0          NaN        Q    7.2500   \n",
       "397  48.0          B41        C   79.2000   \n",
       "398  22.0          NaN        S    7.7750   \n",
       "399  31.0          NaN        Q    7.7333   \n",
       "400  30.0           C7        S  164.8667   \n",
       "401  38.0          NaN        S   21.0000   \n",
       "402  22.0          NaN        C   59.4000   \n",
       "403  17.0          NaN        S   47.1000   \n",
       "404  43.0          D40        C   27.7208   \n",
       "405  20.0          D38        C   13.8625   \n",
       "406  23.0          NaN        S   10.5000   \n",
       "407  50.0          C80        C  211.5000   \n",
       "408   NaN          NaN        Q    7.7208   \n",
       "409   3.0          NaN        S   13.7750   \n",
       "410   NaN          NaN        Q    7.7500   \n",
       "411  37.0          C78        Q   90.0000   \n",
       "412  28.0          NaN        S    7.7750   \n",
       "413   NaN          NaN        S    8.0500   \n",
       "414  39.0         C105        C  108.9000   \n",
       "415  38.5          NaN        S    7.2500   \n",
       "416   NaN          NaN        S    8.0500   \n",
       "417   NaN          NaN        C   22.3583   \n",
       "\n",
       "                                                  Name  Parch  PassengerId  \\\n",
       "0                              Braund, Mr. Owen Harris      0            1   \n",
       "1    Cumings, Mrs. John Bradley (Florence Briggs Th...      0            2   \n",
       "2                               Heikkinen, Miss. Laina      0            3   \n",
       "3         Futrelle, Mrs. Jacques Heath (Lily May Peel)      0            4   \n",
       "4                             Allen, Mr. William Henry      0            5   \n",
       "5                                     Moran, Mr. James      0            6   \n",
       "6                              McCarthy, Mr. Timothy J      0            7   \n",
       "7                       Palsson, Master. Gosta Leonard      1            8   \n",
       "8    Johnson, Mrs. Oscar W (Elisabeth Vilhelmina Berg)      2            9   \n",
       "9                  Nasser, Mrs. Nicholas (Adele Achem)      0           10   \n",
       "10                     Sandstrom, Miss. Marguerite Rut      1           11   \n",
       "11                            Bonnell, Miss. Elizabeth      0           12   \n",
       "12                      Saundercock, Mr. William Henry      0           13   \n",
       "13                         Andersson, Mr. Anders Johan      5           14   \n",
       "14                Vestrom, Miss. Hulda Amanda Adolfina      0           15   \n",
       "15                    Hewlett, Mrs. (Mary D Kingcome)       0           16   \n",
       "16                                Rice, Master. Eugene      1           17   \n",
       "17                        Williams, Mr. Charles Eugene      0           18   \n",
       "18   Vander Planke, Mrs. Julius (Emelia Maria Vande...      0           19   \n",
       "19                             Masselmani, Mrs. Fatima      0           20   \n",
       "20                                Fynney, Mr. Joseph J      0           21   \n",
       "21                               Beesley, Mr. Lawrence      0           22   \n",
       "22                         McGowan, Miss. Anna \"Annie\"      0           23   \n",
       "23                        Sloper, Mr. William Thompson      0           24   \n",
       "24                       Palsson, Miss. Torborg Danira      1           25   \n",
       "25   Asplund, Mrs. Carl Oscar (Selma Augusta Emilia...      5           26   \n",
       "26                             Emir, Mr. Farred Chehab      0           27   \n",
       "27                      Fortune, Mr. Charles Alexander      2           28   \n",
       "28                       O'Dwyer, Miss. Ellen \"Nellie\"      0           29   \n",
       "29                                 Todoroff, Mr. Lalio      0           30   \n",
       "..                                                 ...    ...          ...   \n",
       "388                               Canavan, Mr. Patrick      0         1280   \n",
       "389                        Palsson, Master. Paul Folke      1         1281   \n",
       "390                         Payne, Mr. Vivian Ponsonby      0         1282   \n",
       "391     Lines, Mrs. Ernest H (Elizabeth Lindsey James)      1         1283   \n",
       "392                      Abbott, Master. Eugene Joseph      2         1284   \n",
       "393                               Gilbert, Mr. William      0         1285   \n",
       "394                           Kink-Heilmann, Mr. Anton      1         1286   \n",
       "395     Smith, Mrs. Lucien Philip (Mary Eloise Hughes)      0         1287   \n",
       "396                               Colbert, Mr. Patrick      0         1288   \n",
       "397  Frolicher-Stehli, Mrs. Maxmillian (Margaretha ...      1         1289   \n",
       "398                     Larsson-Rondberg, Mr. Edvard A      0         1290   \n",
       "399                           Conlon, Mr. Thomas Henry      0         1291   \n",
       "400                            Bonnell, Miss. Caroline      0         1292   \n",
       "401                                    Gale, Mr. Harry      0         1293   \n",
       "402                     Gibson, Miss. Dorothy Winifred      1         1294   \n",
       "403                             Carrau, Mr. Jose Pedro      0         1295   \n",
       "404                       Frauenthal, Mr. Isaac Gerald      0         1296   \n",
       "405       Nourney, Mr. Alfred (Baron von Drachstedt\")\"      0         1297   \n",
       "406                          Ware, Mr. William Jeffery      0         1298   \n",
       "407                         Widener, Mr. George Dunton      1         1299   \n",
       "408                    Riordan, Miss. Johanna Hannah\"\"      0         1300   \n",
       "409                          Peacock, Miss. Treasteall      1         1301   \n",
       "410                             Naughton, Miss. Hannah      0         1302   \n",
       "411    Minahan, Mrs. William Edward (Lillian E Thorpe)      0         1303   \n",
       "412                     Henriksson, Miss. Jenny Lovisa      0         1304   \n",
       "413                                 Spector, Mr. Woolf      0         1305   \n",
       "414                       Oliva y Ocana, Dona. Fermina      0         1306   \n",
       "415                       Saether, Mr. Simon Sivertsen      0         1307   \n",
       "416                                Ware, Mr. Frederick      0         1308   \n",
       "417                           Peter, Master. Michael J      1         1309   \n",
       "\n",
       "     Pclass     Sex  SibSp  Survived              Ticket  \n",
       "0         3    male      1       0.0           A/5 21171  \n",
       "1         1  female      1       1.0            PC 17599  \n",
       "2         3  female      0       1.0    STON/O2. 3101282  \n",
       "3         1  female      1       1.0              113803  \n",
       "4         3    male      0       0.0              373450  \n",
       "5         3    male      0       0.0              330877  \n",
       "6         1    male      0       0.0               17463  \n",
       "7         3    male      3       0.0              349909  \n",
       "8         3  female      0       1.0              347742  \n",
       "9         2  female      1       1.0              237736  \n",
       "10        3  female      1       1.0             PP 9549  \n",
       "11        1  female      0       1.0              113783  \n",
       "12        3    male      0       0.0           A/5. 2151  \n",
       "13        3    male      1       0.0              347082  \n",
       "14        3  female      0       0.0              350406  \n",
       "15        2  female      0       1.0              248706  \n",
       "16        3    male      4       0.0              382652  \n",
       "17        2    male      0       1.0              244373  \n",
       "18        3  female      1       0.0              345763  \n",
       "19        3  female      0       1.0                2649  \n",
       "20        2    male      0       0.0              239865  \n",
       "21        2    male      0       1.0              248698  \n",
       "22        3  female      0       1.0              330923  \n",
       "23        1    male      0       1.0              113788  \n",
       "24        3  female      3       0.0              349909  \n",
       "25        3  female      1       1.0              347077  \n",
       "26        3    male      0       0.0                2631  \n",
       "27        1    male      3       0.0               19950  \n",
       "28        3  female      0       1.0              330959  \n",
       "29        3    male      0       0.0              349216  \n",
       "..      ...     ...    ...       ...                 ...  \n",
       "388       3    male      0       NaN              364858  \n",
       "389       3    male      3       NaN              349909  \n",
       "390       1    male      0       NaN               12749  \n",
       "391       1  female      0       NaN            PC 17592  \n",
       "392       3    male      0       NaN           C.A. 2673  \n",
       "393       2    male      0       NaN          C.A. 30769  \n",
       "394       3    male      3       NaN              315153  \n",
       "395       1  female      1       NaN               13695  \n",
       "396       3    male      0       NaN              371109  \n",
       "397       1  female      1       NaN               13567  \n",
       "398       3    male      0       NaN              347065  \n",
       "399       3    male      0       NaN               21332  \n",
       "400       1  female      0       NaN               36928  \n",
       "401       2    male      1       NaN               28664  \n",
       "402       1  female      0       NaN              112378  \n",
       "403       1    male      0       NaN              113059  \n",
       "404       1    male      1       NaN               17765  \n",
       "405       2    male      0       NaN       SC/PARIS 2166  \n",
       "406       2    male      1       NaN               28666  \n",
       "407       1    male      1       NaN              113503  \n",
       "408       3  female      0       NaN              334915  \n",
       "409       3  female      1       NaN  SOTON/O.Q. 3101315  \n",
       "410       3  female      0       NaN              365237  \n",
       "411       1  female      1       NaN               19928  \n",
       "412       3  female      0       NaN              347086  \n",
       "413       3    male      0       NaN           A.5. 3236  \n",
       "414       1  female      0       NaN            PC 17758  \n",
       "415       3    male      0       NaN  SOTON/O.Q. 3101262  \n",
       "416       3    male      0       NaN              359309  \n",
       "417       3    male      1       NaN                2668  \n",
       "\n",
       "[1309 rows x 12 columns]"
      ]
     },
     "execution_count": 3189,
     "metadata": {},
     "output_type": "execute_result"
    }
   ],
   "source": [
    "titanic"
   ]
  },
  {
   "cell_type": "markdown",
   "metadata": {},
   "source": [
    "# Analisss exploratoria do Dataset "
   ]
  },
  {
   "cell_type": "code",
   "execution_count": 3093,
   "metadata": {
    "ExecuteTime": {
     "end_time": "2019-08-06T21:41:24.799173Z",
     "start_time": "2019-08-06T21:41:24.793168Z"
    }
   },
   "outputs": [
    {
     "name": "stdout",
     "output_type": "stream",
     "text": [
      "Percentual de Sobreviventes x Não Sobreviventes -  Survived\n",
      "0.0    41.94\n",
      "1.0    26.13\n",
      "Name: Sex, dtype: float64\n"
     ]
    }
   ],
   "source": [
    "print('Percentual de Sobreviventes x Não Sobreviventes - ',\n",
    "       round(titanic.groupby('Survived').Sex.count()/titanic.Name.count()*100,2))"
   ]
  },
  {
   "cell_type": "code",
   "execution_count": 3094,
   "metadata": {
    "ExecuteTime": {
     "end_time": "2019-08-06T21:41:25.447429Z",
     "start_time": "2019-08-06T21:41:25.439424Z"
    }
   },
   "outputs": [
    {
     "name": "stdout",
     "output_type": "stream",
     "text": [
      "Missig Values:\n"
     ]
    },
    {
     "data": {
      "text/plain": [
       "PassengerId       0\n",
       "Survived        418\n",
       "Pclass            0\n",
       "Name              0\n",
       "Sex               0\n",
       "Age             263\n",
       "SibSp             0\n",
       "Parch             0\n",
       "Ticket            0\n",
       "Fare              1\n",
       "Cabin          1014\n",
       "Embarked          2\n",
       "dtype: int64"
      ]
     },
     "execution_count": 3094,
     "metadata": {},
     "output_type": "execute_result"
    }
   ],
   "source": [
    "print('Missig Values:')\n",
    "titanic.isnull().sum()"
   ]
  },
  {
   "cell_type": "markdown",
   "metadata": {},
   "source": [
    "* Cabin e Age são os que mais faltam valores\n",
    "* Survived são do conjunto de teste, é o que vamos prever, por isso estão nulos"
   ]
  },
  {
   "cell_type": "code",
   "execution_count": 3095,
   "metadata": {
    "ExecuteTime": {
     "end_time": "2019-08-06T21:41:26.844545Z",
     "start_time": "2019-08-06T21:41:26.672367Z"
    }
   },
   "outputs": [
    {
     "data": {
      "text/plain": [
       "Text(0.5, 1.0, 'Distribution of the field Age')"
      ]
     },
     "execution_count": 3095,
     "metadata": {},
     "output_type": "execute_result"
    },
    {
     "data": {
      "image/png": "[encoded data removed]",
      "text/plain": [
       "<Figure size 432x288 with 1 Axes>"
      ]
     },
     "metadata": {
      "needs_background": "light"
     },
     "output_type": "display_data"
    }
   ],
   "source": [
    "titanic.Age.hist()\n",
    "plt.title(\"Distribution of the field Age\")"
   ]
  },
  {
   "cell_type": "markdown",
   "metadata": {},
   "source": [
    "* there are a concentration of the age between 18 and 35 years"
   ]
  },
  {
   "cell_type": "code",
   "execution_count": 3096,
   "metadata": {
    "ExecuteTime": {
     "end_time": "2019-08-06T21:41:28.114974Z",
     "start_time": "2019-08-06T21:41:27.951188Z"
    }
   },
   "outputs": [
    {
     "data": {
      "text/plain": [
       "Text(0.5, 1.0, 'Distribution of the field Fare')"
      ]
     },
     "execution_count": 3096,
     "metadata": {},
     "output_type": "execute_result"
    },
    {
     "data": {
      "image/png": "[encoded data removed]",
      "text/plain": [
       "<Figure size 432x288 with 1 Axes>"
      ]
     },
     "metadata": {
      "needs_background": "light"
     },
     "output_type": "display_data"
    }
   ],
   "source": [
    "titanic.Fare.hist()\n",
    "plt.title(\"Distribution of the field Fare\")"
   ]
  },
  {
   "cell_type": "markdown",
   "metadata": {},
   "source": [
    "* there are a concentration of the Fare between 0 and 50"
   ]
  },
  {
   "cell_type": "markdown",
   "metadata": {},
   "source": [
    "# Missing Values"
   ]
  },
  {
   "cell_type": "markdown",
   "metadata": {},
   "source": [
    " Com base no valores da feature Age e Cabin, vamos começar por elas o preenchimento dos \"Missing Values\""
   ]
  },
  {
   "cell_type": "markdown",
   "metadata": {},
   "source": [
    "## input Age"
   ]
  },
  {
   "cell_type": "markdown",
   "metadata": {},
   "source": [
    "Analise exploratoria de Age para encontrar a melhor maneira de inputar os dados"
   ]
  },
  {
   "cell_type": "markdown",
   "metadata": {},
   "source": [
    "Antes irei Criar uma nova coluna Suvived com Label- \"Vivo/Morto\""
   ]
  },
  {
   "cell_type": "code",
   "execution_count": 3097,
   "metadata": {
    "ExecuteTime": {
     "end_time": "2019-08-06T21:41:35.131418Z",
     "start_time": "2019-08-06T21:41:35.119397Z"
    }
   },
   "outputs": [],
   "source": [
    "titanic.loc[titanic.Survived==0,'Status_Survived']='Morto'\n",
    "titanic.loc[titanic.Survived==1,'Status_Survived']='Vivo'"
   ]
  },
  {
   "cell_type": "code",
   "execution_count": 3098,
   "metadata": {
    "ExecuteTime": {
     "end_time": "2019-08-06T21:41:35.936097Z",
     "start_time": "2019-08-06T21:41:35.920068Z"
    }
   },
   "outputs": [
    {
     "data": {
      "text/html": [
       "<div>\n",
       "<style scoped>\n",
       "    .dataframe tbody tr th:only-of-type {\n",
       "        vertical-align: middle;\n",
       "    }\n",
       "\n",
       "    .dataframe tbody tr th {\n",
       "        vertical-align: top;\n",
       "    }\n",
       "\n",
       "    .dataframe thead th {\n",
       "        text-align: right;\n",
       "    }\n",
       "</style>\n",
       "<table border=\"1\" class=\"dataframe\">\n",
       "  <thead>\n",
       "    <tr style=\"text-align: right;\">\n",
       "      <th></th>\n",
       "      <th>PassengerId</th>\n",
       "      <th>Survived</th>\n",
       "      <th>Pclass</th>\n",
       "      <th>Name</th>\n",
       "      <th>Sex</th>\n",
       "      <th>Age</th>\n",
       "      <th>SibSp</th>\n",
       "      <th>Parch</th>\n",
       "      <th>Ticket</th>\n",
       "      <th>Fare</th>\n",
       "      <th>Cabin</th>\n",
       "      <th>Embarked</th>\n",
       "      <th>Status_Survived</th>\n",
       "    </tr>\n",
       "  </thead>\n",
       "  <tbody>\n",
       "    <tr>\n",
       "      <th>0</th>\n",
       "      <td>1</td>\n",
       "      <td>0.0</td>\n",
       "      <td>3</td>\n",
       "      <td>Braund, Mr. Owen Harris</td>\n",
       "      <td>male</td>\n",
       "      <td>22.0</td>\n",
       "      <td>1</td>\n",
       "      <td>0</td>\n",
       "      <td>A/5 21171</td>\n",
       "      <td>7.2500</td>\n",
       "      <td>NaN</td>\n",
       "      <td>S</td>\n",
       "      <td>Morto</td>\n",
       "    </tr>\n",
       "    <tr>\n",
       "      <th>1</th>\n",
       "      <td>2</td>\n",
       "      <td>1.0</td>\n",
       "      <td>1</td>\n",
       "      <td>Cumings, Mrs. John Bradley (Florence Briggs Th...</td>\n",
       "      <td>female</td>\n",
       "      <td>38.0</td>\n",
       "      <td>1</td>\n",
       "      <td>0</td>\n",
       "      <td>PC 17599</td>\n",
       "      <td>71.2833</td>\n",
       "      <td>C85</td>\n",
       "      <td>C</td>\n",
       "      <td>Vivo</td>\n",
       "    </tr>\n",
       "    <tr>\n",
       "      <th>2</th>\n",
       "      <td>3</td>\n",
       "      <td>1.0</td>\n",
       "      <td>3</td>\n",
       "      <td>Heikkinen, Miss. Laina</td>\n",
       "      <td>female</td>\n",
       "      <td>26.0</td>\n",
       "      <td>0</td>\n",
       "      <td>0</td>\n",
       "      <td>STON/O2. 3101282</td>\n",
       "      <td>7.9250</td>\n",
       "      <td>NaN</td>\n",
       "      <td>S</td>\n",
       "      <td>Vivo</td>\n",
       "    </tr>\n",
       "    <tr>\n",
       "      <th>3</th>\n",
       "      <td>4</td>\n",
       "      <td>1.0</td>\n",
       "      <td>1</td>\n",
       "      <td>Futrelle, Mrs. Jacques Heath (Lily May Peel)</td>\n",
       "      <td>female</td>\n",
       "      <td>35.0</td>\n",
       "      <td>1</td>\n",
       "      <td>0</td>\n",
       "      <td>113803</td>\n",
       "      <td>53.1000</td>\n",
       "      <td>C123</td>\n",
       "      <td>S</td>\n",
       "      <td>Vivo</td>\n",
       "    </tr>\n",
       "    <tr>\n",
       "      <th>4</th>\n",
       "      <td>5</td>\n",
       "      <td>0.0</td>\n",
       "      <td>3</td>\n",
       "      <td>Allen, Mr. William Henry</td>\n",
       "      <td>male</td>\n",
       "      <td>35.0</td>\n",
       "      <td>0</td>\n",
       "      <td>0</td>\n",
       "      <td>373450</td>\n",
       "      <td>8.0500</td>\n",
       "      <td>NaN</td>\n",
       "      <td>S</td>\n",
       "      <td>Morto</td>\n",
       "    </tr>\n",
       "  </tbody>\n",
       "</table>\n",
       "</div>"
      ],
      "text/plain": [
       "   PassengerId  Survived  Pclass  \\\n",
       "0            1       0.0       3   \n",
       "1            2       1.0       1   \n",
       "2            3       1.0       3   \n",
       "3            4       1.0       1   \n",
       "4            5       0.0       3   \n",
       "\n",
       "                                                Name     Sex   Age  SibSp  \\\n",
       "0                            Braund, Mr. Owen Harris    male  22.0      1   \n",
       "1  Cumings, Mrs. John Bradley (Florence Briggs Th...  female  38.0      1   \n",
       "2                             Heikkinen, Miss. Laina  female  26.0      0   \n",
       "3       Futrelle, Mrs. Jacques Heath (Lily May Peel)  female  35.0      1   \n",
       "4                           Allen, Mr. William Henry    male  35.0      0   \n",
       "\n",
       "   Parch            Ticket     Fare Cabin Embarked Status_Survived  \n",
       "0      0         A/5 21171   7.2500   NaN        S           Morto  \n",
       "1      0          PC 17599  71.2833   C85        C            Vivo  \n",
       "2      0  STON/O2. 3101282   7.9250   NaN        S            Vivo  \n",
       "3      0            113803  53.1000  C123        S            Vivo  \n",
       "4      0            373450   8.0500   NaN        S           Morto  "
      ]
     },
     "execution_count": 3098,
     "metadata": {},
     "output_type": "execute_result"
    }
   ],
   "source": [
    "titanic.head()"
   ]
  },
  {
   "cell_type": "code",
   "execution_count": 3099,
   "metadata": {
    "ExecuteTime": {
     "end_time": "2019-08-06T21:41:37.048916Z",
     "start_time": "2019-08-06T21:41:36.840525Z"
    }
   },
   "outputs": [
    {
     "data": {
      "text/plain": [
       "Text(0.5, 1.0, 'Boxplot - Age x Survived')"
      ]
     },
     "execution_count": 3099,
     "metadata": {},
     "output_type": "execute_result"
    },
    {
     "data": {
      "image/png": "[encoded data removed]",
      "text/plain": [
       "<Figure size 432x432 with 1 Axes>"
      ]
     },
     "metadata": {
      "needs_background": "light"
     },
     "output_type": "display_data"
    }
   ],
   "source": [
    "g = sns.factorplot(x=\"Status_Survived\",y=\"Age\", hue ='Status_Survived',data=titanic,kind=\"box\", size = 6 , \n",
    "palette = \"muted\")\n",
    "g.despine(left=True)\n",
    "g = g.set_ylabels(\"Age\")\n",
    "plt.title('Boxplot - Age x Survived')"
   ]
  },
  {
   "cell_type": "code",
   "execution_count": 3100,
   "metadata": {
    "ExecuteTime": {
     "end_time": "2019-08-06T21:41:37.882743Z",
     "start_time": "2019-08-06T21:41:37.591463Z"
    }
   },
   "outputs": [
    {
     "data": {
      "text/plain": [
       "Text(0.5, 1.0, 'Boxplot - Age x Survived por Sex')"
      ]
     },
     "execution_count": 3100,
     "metadata": {},
     "output_type": "execute_result"
    },
    {
     "data": {
      "image/png": "[encoded data removed]",
      "text/plain": [
       "<Figure size 520.625x432 with 1 Axes>"
      ]
     },
     "metadata": {
      "needs_background": "light"
     },
     "output_type": "display_data"
    }
   ],
   "source": [
    "g = sns.factorplot(x=\"Sex\",y=\"Age\", hue ='Status_Survived',data=titanic,kind=\"box\", size = 6 , \n",
    "palette = \"muted\")\n",
    "g.despine(left=True)\n",
    "g = g.set_ylabels(\"Age\")\n",
    "plt.title('Boxplot - Age x Survived por Sex')"
   ]
  },
  {
   "cell_type": "code",
   "execution_count": 3101,
   "metadata": {
    "ExecuteTime": {
     "end_time": "2019-08-06T21:41:38.801214Z",
     "start_time": "2019-08-06T21:41:38.479105Z"
    }
   },
   "outputs": [
    {
     "data": {
      "text/plain": [
       "Text(0.5, 1.0, 'Boxplot - Age x Survived por Pclass')"
      ]
     },
     "execution_count": 3101,
     "metadata": {},
     "output_type": "execute_result"
    },
    {
     "data": {
      "image/png": "[encoded data removed]",
      "text/plain": [
       "<Figure size 520.625x432 with 1 Axes>"
      ]
     },
     "metadata": {
      "needs_background": "light"
     },
     "output_type": "display_data"
    }
   ],
   "source": [
    "g = sns.factorplot(x=\"Pclass\",y=\"Age\", hue ='Status_Survived',data=titanic,kind=\"box\", size = 6 , \n",
    "palette = \"muted\")\n",
    "g.despine(left=True)\n",
    "g = g.set_ylabels(\"Age\")\n",
    "plt.title('Boxplot - Age x Survived por Pclass')"
   ]
  },
  {
   "cell_type": "markdown",
   "metadata": {},
   "source": [
    "* Nitidamente podemos visualizar que conforme nivel Pclass aumenta(menor classe) a idade diminui.\n",
    "* Conforme visualizações acima Pclass é uma boa feature para inputar Age faltante,ou seja,por Pclass.\n"
   ]
  },
  {
   "cell_type": "markdown",
   "metadata": {},
   "source": [
    "***A Coluna Name também pode nos ajudar, pois nela há titulos, mr, miss, etc***"
   ]
  },
  {
   "cell_type": "code",
   "execution_count": 3102,
   "metadata": {
    "ExecuteTime": {
     "end_time": "2019-08-06T21:41:40.933527Z",
     "start_time": "2019-08-06T21:41:40.928023Z"
    }
   },
   "outputs": [],
   "source": [
    "titanic['Title']=[i.split(\",\")[1].split(\".\")[0].strip() for i in titanic[\"Name\"]]"
   ]
  },
  {
   "cell_type": "code",
   "execution_count": 3103,
   "metadata": {
    "ExecuteTime": {
     "end_time": "2019-08-06T21:41:41.977631Z",
     "start_time": "2019-08-06T21:41:41.968626Z"
    }
   },
   "outputs": [
    {
     "data": {
      "text/plain": [
       "Embarked\n",
       "C    270\n",
       "Q    123\n",
       "S    914\n",
       "Name: Title, dtype: int64"
      ]
     },
     "execution_count": 3103,
     "metadata": {},
     "output_type": "execute_result"
    }
   ],
   "source": [
    "titanic.groupby('Embarked').Title.count()"
   ]
  },
  {
   "cell_type": "code",
   "execution_count": 3104,
   "metadata": {
    "ExecuteTime": {
     "end_time": "2019-08-06T21:41:43.120180Z",
     "start_time": "2019-08-06T21:41:42.735497Z"
    }
   },
   "outputs": [
    {
     "data": {
      "text/plain": [
       "Text(0.5, 1.0, 'Quantidade de passageiros por Title')"
      ]
     },
     "execution_count": 3104,
     "metadata": {},
     "output_type": "execute_result"
    },
    {
     "data": {
      "image/png": "[encoded data removed]",
      "text/plain": [
       "<Figure size 1080x1080 with 1 Axes>"
      ]
     },
     "metadata": {
      "needs_background": "light"
     },
     "output_type": "display_data"
    }
   ],
   "source": [
    "g = sns.factorplot(\"Title\",\n",
    "                   data=titanic,\n",
    "                   size=15, \n",
    "                   kind=\"count\", \n",
    "                   palette=\"muted\")\n",
    "g.despine(left=True)\n",
    "g = g.set_ylabels(\"Count\")\n",
    "plt.title('Quantidade de passageiros por Title')"
   ]
  },
  {
   "cell_type": "markdown",
   "metadata": {},
   "source": [
    "* Há uma padrão em Mr, Mrs, Miss e Master\n",
    "* Vamos agrupar os outros que possuem poucos passageiros"
   ]
  },
  {
   "cell_type": "code",
   "execution_count": 3105,
   "metadata": {
    "ExecuteTime": {
     "end_time": "2019-08-06T21:41:44.790239Z",
     "start_time": "2019-08-06T21:41:44.783235Z"
    }
   },
   "outputs": [],
   "source": [
    "titanic[\"Title\"] = titanic[\"Title\"].replace(['Lady', 'the Countess','Countess','Capt', 'Col','Don', 'Dr', 'Major', 'Rev', 'Sir', 'Jonkheer', 'Dona'], 'Rare')\n",
    "titanic[\"Title\"] = titanic[\"Title\"].replace(['Mme','Mlle','Ms'], 'Miss')"
   ]
  },
  {
   "cell_type": "code",
   "execution_count": 3106,
   "metadata": {
    "ExecuteTime": {
     "end_time": "2019-08-06T21:41:45.674344Z",
     "start_time": "2019-08-06T21:41:45.487010Z"
    }
   },
   "outputs": [
    {
     "data": {
      "text/plain": [
       "Text(0.5, 1.0, 'Quantidade de passageiros por Title')"
      ]
     },
     "execution_count": 3106,
     "metadata": {},
     "output_type": "execute_result"
    },
    {
     "data": {
      "image/png": "[encoded data removed]",
      "text/plain": [
       "<Figure size 432x432 with 1 Axes>"
      ]
     },
     "metadata": {
      "needs_background": "light"
     },
     "output_type": "display_data"
    }
   ],
   "source": [
    "g = sns.factorplot(\"Title\",\n",
    "                   data=titanic,\n",
    "                   size=6, \n",
    "                   kind=\"count\", \n",
    "                   palette=\"muted\")\n",
    "g.despine(left=True)\n",
    "g = g.set_ylabels(\"Count\")\n",
    "plt.title('Quantidade de passageiros por Title')"
   ]
  },
  {
   "cell_type": "code",
   "execution_count": 3107,
   "metadata": {
    "ExecuteTime": {
     "end_time": "2019-08-06T21:41:49.005950Z",
     "start_time": "2019-08-06T21:41:48.998931Z"
    }
   },
   "outputs": [
    {
     "data": {
      "text/plain": [
       "Title\n",
       "Master     61\n",
       "Miss      265\n",
       "Mr        757\n",
       "Mrs       197\n",
       "Rare       29\n",
       "Name: Title, dtype: int64"
      ]
     },
     "execution_count": 3107,
     "metadata": {},
     "output_type": "execute_result"
    }
   ],
   "source": [
    "titanic.groupby('Title').Title.count()"
   ]
  },
  {
   "cell_type": "markdown",
   "metadata": {},
   "source": [
    "* Master - Homens Jovens\n",
    "* Miss - é usado antes de sobrenomes ou nomes completos de mulheres que não são casadas. É algo próximo a “senhorita”, em português.\n",
    "\n",
    "* Mr - Se utiliza antes de sobrenomes ou nomes completos de homens em geral, independente do seu estado civil.\n",
    "* Mrs- é usado antes de sobrenomes ou nomes completos de mulheres casadas.\n",
    "* Ms- é usado antes de sobrenomes ou nomes completos de mulheres em geral,independente do seu estado civil\n",
    "\n",
    "\n"
   ]
  },
  {
   "cell_type": "markdown",
   "metadata": {},
   "source": [
    "### Input Age por Title e Pclasse , utilzando a Mediana"
   ]
  },
  {
   "cell_type": "code",
   "execution_count": 3108,
   "metadata": {
    "ExecuteTime": {
     "end_time": "2019-08-06T21:41:51.103152Z",
     "start_time": "2019-08-06T21:41:51.095152Z"
    }
   },
   "outputs": [],
   "source": [
    "df_media= titanic.groupby(['Pclass','Title']).Age.median().reset_index()"
   ]
  },
  {
   "cell_type": "code",
   "execution_count": 3109,
   "metadata": {
    "ExecuteTime": {
     "end_time": "2019-08-06T21:41:51.833696Z",
     "start_time": "2019-08-06T21:41:51.822688Z"
    },
    "code_folding": []
   },
   "outputs": [],
   "source": [
    "df_merge= pd.merge(titanic,df_media, on=['Pclass','Title'])   "
   ]
  },
  {
   "cell_type": "code",
   "execution_count": 3110,
   "metadata": {
    "ExecuteTime": {
     "end_time": "2019-08-06T21:41:52.600620Z",
     "start_time": "2019-08-06T21:41:52.591630Z"
    }
   },
   "outputs": [],
   "source": [
    "df_merge.loc[df_merge.Age_x.isna()==True,'Age_x'] = df_merge.loc[df_merge.Age_x.isna()==True,'Age_y']"
   ]
  },
  {
   "cell_type": "code",
   "execution_count": 3111,
   "metadata": {
    "ExecuteTime": {
     "end_time": "2019-08-06T21:41:53.276293Z",
     "start_time": "2019-08-06T21:41:53.271805Z"
    }
   },
   "outputs": [],
   "source": [
    "df_merge =df_merge.rename(columns={'Age_x':'Age'})"
   ]
  },
  {
   "cell_type": "code",
   "execution_count": 3112,
   "metadata": {
    "ExecuteTime": {
     "end_time": "2019-08-06T21:41:54.009760Z",
     "start_time": "2019-08-06T21:41:54.006776Z"
    }
   },
   "outputs": [],
   "source": [
    "titanic=df_merge"
   ]
  },
  {
   "cell_type": "code",
   "execution_count": 3113,
   "metadata": {
    "ExecuteTime": {
     "end_time": "2019-08-06T21:41:54.863772Z",
     "start_time": "2019-08-06T21:41:54.855770Z"
    }
   },
   "outputs": [
    {
     "name": "stdout",
     "output_type": "stream",
     "text": [
      "Missig Values:\n"
     ]
    },
    {
     "data": {
      "text/plain": [
       "PassengerId           0\n",
       "Survived            418\n",
       "Pclass                0\n",
       "Name                  0\n",
       "Sex                   0\n",
       "Age                   0\n",
       "SibSp                 0\n",
       "Parch                 0\n",
       "Ticket                0\n",
       "Fare                  1\n",
       "Cabin              1014\n",
       "Embarked              2\n",
       "Status_Survived     418\n",
       "Title                 0\n",
       "Age_y                 0\n",
       "dtype: int64"
      ]
     },
     "execution_count": 3113,
     "metadata": {},
     "output_type": "execute_result"
    }
   ],
   "source": [
    "print('Missig Values:')\n",
    "df_merge.isnull().sum()"
   ]
  },
  {
   "cell_type": "code",
   "execution_count": 3114,
   "metadata": {
    "ExecuteTime": {
     "end_time": "2019-08-06T21:41:56.480933Z",
     "start_time": "2019-08-06T21:41:56.295723Z"
    }
   },
   "outputs": [
    {
     "data": {
      "text/plain": [
       "Text(0.5, 1.0, 'Distribution of the field Age')"
      ]
     },
     "execution_count": 3114,
     "metadata": {},
     "output_type": "execute_result"
    },
    {
     "data": {
      "image/png": "[encoded data removed]",
      "text/plain": [
       "<Figure size 432x288 with 1 Axes>"
      ]
     },
     "metadata": {
      "needs_background": "light"
     },
     "output_type": "display_data"
    }
   ],
   "source": [
    "titanic.Age.hist()\n",
    "plt.title(\"Distribution of the field Age\")"
   ]
  },
  {
   "cell_type": "markdown",
   "metadata": {},
   "source": [
    "* A distribuição teve uma leve mudança com pico de passageiros entre 25 e 32 anos aprox."
   ]
  },
  {
   "cell_type": "markdown",
   "metadata": {},
   "source": [
    "## Input Fare"
   ]
  },
  {
   "cell_type": "code",
   "execution_count": 3115,
   "metadata": {
    "ExecuteTime": {
     "end_time": "2019-08-06T21:41:58.470705Z",
     "start_time": "2019-08-06T21:41:58.463698Z"
    }
   },
   "outputs": [],
   "source": [
    "titanic.loc[titanic.Fare.isna(),'Fare']=titanic.Fare.mean()"
   ]
  },
  {
   "cell_type": "code",
   "execution_count": 3116,
   "metadata": {
    "ExecuteTime": {
     "end_time": "2019-08-06T21:41:59.095574Z",
     "start_time": "2019-08-06T21:41:59.087558Z"
    }
   },
   "outputs": [
    {
     "data": {
      "text/plain": [
       "PassengerId           0\n",
       "Survived            418\n",
       "Pclass                0\n",
       "Name                  0\n",
       "Sex                   0\n",
       "Age                   0\n",
       "SibSp                 0\n",
       "Parch                 0\n",
       "Ticket                0\n",
       "Fare                  0\n",
       "Cabin              1014\n",
       "Embarked              2\n",
       "Status_Survived     418\n",
       "Title                 0\n",
       "Age_y                 0\n",
       "dtype: int64"
      ]
     },
     "execution_count": 3116,
     "metadata": {},
     "output_type": "execute_result"
    }
   ],
   "source": [
    "titanic.isna().sum()"
   ]
  },
  {
   "cell_type": "markdown",
   "metadata": {},
   "source": [
    "## Input Cabin"
   ]
  },
  {
   "cell_type": "markdown",
   "metadata": {},
   "source": [
    " Vamos tentar combinar informações de Ticket e Fare para tentar determinar a Cabin"
   ]
  },
  {
   "cell_type": "code",
   "execution_count": 3117,
   "metadata": {
    "ExecuteTime": {
     "end_time": "2019-08-06T21:42:01.416768Z",
     "start_time": "2019-08-06T21:42:01.406746Z"
    }
   },
   "outputs": [
    {
     "name": "stdout",
     "output_type": "stream",
     "text": [
      "<class 'pandas.core.frame.DataFrame'>\n",
      "Int64Index: 1309 entries, 0 to 1308\n",
      "Data columns (total 15 columns):\n",
      "PassengerId        1309 non-null int64\n",
      "Survived           891 non-null float64\n",
      "Pclass             1309 non-null int64\n",
      "Name               1309 non-null object\n",
      "Sex                1309 non-null object\n",
      "Age                1309 non-null float64\n",
      "SibSp              1309 non-null int64\n",
      "Parch              1309 non-null int64\n",
      "Ticket             1309 non-null object\n",
      "Fare               1309 non-null float64\n",
      "Cabin              295 non-null object\n",
      "Embarked           1307 non-null object\n",
      "Status_Survived    891 non-null object\n",
      "Title              1309 non-null object\n",
      "Age_y              1309 non-null float64\n",
      "dtypes: float64(4), int64(4), object(7)\n",
      "memory usage: 127.8+ KB\n"
     ]
    }
   ],
   "source": [
    "titanic.info()"
   ]
  },
  {
   "cell_type": "code",
   "execution_count": 3118,
   "metadata": {
    "ExecuteTime": {
     "end_time": "2019-08-06T21:42:02.280586Z",
     "start_time": "2019-08-06T21:42:02.263592Z"
    }
   },
   "outputs": [
    {
     "data": {
      "text/html": [
       "<div>\n",
       "<style scoped>\n",
       "    .dataframe tbody tr th:only-of-type {\n",
       "        vertical-align: middle;\n",
       "    }\n",
       "\n",
       "    .dataframe tbody tr th {\n",
       "        vertical-align: top;\n",
       "    }\n",
       "\n",
       "    .dataframe thead th {\n",
       "        text-align: right;\n",
       "    }\n",
       "</style>\n",
       "<table border=\"1\" class=\"dataframe\">\n",
       "  <thead>\n",
       "    <tr style=\"text-align: right;\">\n",
       "      <th></th>\n",
       "      <th>PassengerId</th>\n",
       "      <th>Survived</th>\n",
       "      <th>Pclass</th>\n",
       "      <th>Name</th>\n",
       "      <th>Sex</th>\n",
       "      <th>Age</th>\n",
       "      <th>SibSp</th>\n",
       "      <th>Parch</th>\n",
       "      <th>Ticket</th>\n",
       "      <th>Fare</th>\n",
       "      <th>Cabin</th>\n",
       "      <th>Embarked</th>\n",
       "      <th>Status_Survived</th>\n",
       "      <th>Title</th>\n",
       "      <th>Age_y</th>\n",
       "    </tr>\n",
       "  </thead>\n",
       "  <tbody>\n",
       "    <tr>\n",
       "      <th>0</th>\n",
       "      <td>1</td>\n",
       "      <td>0.0</td>\n",
       "      <td>3</td>\n",
       "      <td>Braund, Mr. Owen Harris</td>\n",
       "      <td>male</td>\n",
       "      <td>22.0</td>\n",
       "      <td>1</td>\n",
       "      <td>0</td>\n",
       "      <td>A/5 21171</td>\n",
       "      <td>7.2500</td>\n",
       "      <td>NaN</td>\n",
       "      <td>S</td>\n",
       "      <td>Morto</td>\n",
       "      <td>Mr</td>\n",
       "      <td>26.0</td>\n",
       "    </tr>\n",
       "    <tr>\n",
       "      <th>1</th>\n",
       "      <td>5</td>\n",
       "      <td>0.0</td>\n",
       "      <td>3</td>\n",
       "      <td>Allen, Mr. William Henry</td>\n",
       "      <td>male</td>\n",
       "      <td>35.0</td>\n",
       "      <td>0</td>\n",
       "      <td>0</td>\n",
       "      <td>373450</td>\n",
       "      <td>8.0500</td>\n",
       "      <td>NaN</td>\n",
       "      <td>S</td>\n",
       "      <td>Morto</td>\n",
       "      <td>Mr</td>\n",
       "      <td>26.0</td>\n",
       "    </tr>\n",
       "    <tr>\n",
       "      <th>2</th>\n",
       "      <td>6</td>\n",
       "      <td>0.0</td>\n",
       "      <td>3</td>\n",
       "      <td>Moran, Mr. James</td>\n",
       "      <td>male</td>\n",
       "      <td>26.0</td>\n",
       "      <td>0</td>\n",
       "      <td>0</td>\n",
       "      <td>330877</td>\n",
       "      <td>8.4583</td>\n",
       "      <td>NaN</td>\n",
       "      <td>Q</td>\n",
       "      <td>Morto</td>\n",
       "      <td>Mr</td>\n",
       "      <td>26.0</td>\n",
       "    </tr>\n",
       "    <tr>\n",
       "      <th>3</th>\n",
       "      <td>13</td>\n",
       "      <td>0.0</td>\n",
       "      <td>3</td>\n",
       "      <td>Saundercock, Mr. William Henry</td>\n",
       "      <td>male</td>\n",
       "      <td>20.0</td>\n",
       "      <td>0</td>\n",
       "      <td>0</td>\n",
       "      <td>A/5. 2151</td>\n",
       "      <td>8.0500</td>\n",
       "      <td>NaN</td>\n",
       "      <td>S</td>\n",
       "      <td>Morto</td>\n",
       "      <td>Mr</td>\n",
       "      <td>26.0</td>\n",
       "    </tr>\n",
       "    <tr>\n",
       "      <th>4</th>\n",
       "      <td>14</td>\n",
       "      <td>0.0</td>\n",
       "      <td>3</td>\n",
       "      <td>Andersson, Mr. Anders Johan</td>\n",
       "      <td>male</td>\n",
       "      <td>39.0</td>\n",
       "      <td>1</td>\n",
       "      <td>5</td>\n",
       "      <td>347082</td>\n",
       "      <td>31.2750</td>\n",
       "      <td>NaN</td>\n",
       "      <td>S</td>\n",
       "      <td>Morto</td>\n",
       "      <td>Mr</td>\n",
       "      <td>26.0</td>\n",
       "    </tr>\n",
       "  </tbody>\n",
       "</table>\n",
       "</div>"
      ],
      "text/plain": [
       "   PassengerId  Survived  Pclass                            Name   Sex   Age  \\\n",
       "0            1       0.0       3         Braund, Mr. Owen Harris  male  22.0   \n",
       "1            5       0.0       3        Allen, Mr. William Henry  male  35.0   \n",
       "2            6       0.0       3                Moran, Mr. James  male  26.0   \n",
       "3           13       0.0       3  Saundercock, Mr. William Henry  male  20.0   \n",
       "4           14       0.0       3     Andersson, Mr. Anders Johan  male  39.0   \n",
       "\n",
       "   SibSp  Parch     Ticket     Fare Cabin Embarked Status_Survived Title  \\\n",
       "0      1      0  A/5 21171   7.2500   NaN        S           Morto    Mr   \n",
       "1      0      0     373450   8.0500   NaN        S           Morto    Mr   \n",
       "2      0      0     330877   8.4583   NaN        Q           Morto    Mr   \n",
       "3      0      0  A/5. 2151   8.0500   NaN        S           Morto    Mr   \n",
       "4      1      5     347082  31.2750   NaN        S           Morto    Mr   \n",
       "\n",
       "   Age_y  \n",
       "0   26.0  \n",
       "1   26.0  \n",
       "2   26.0  \n",
       "3   26.0  \n",
       "4   26.0  "
      ]
     },
     "execution_count": 3118,
     "metadata": {},
     "output_type": "execute_result"
    }
   ],
   "source": [
    "titanic.head()"
   ]
  },
  {
   "cell_type": "code",
   "execution_count": 3119,
   "metadata": {
    "ExecuteTime": {
     "end_time": "2019-08-06T21:42:03.275634Z",
     "start_time": "2019-08-06T21:42:03.271631Z"
    }
   },
   "outputs": [],
   "source": [
    "titanic['Ft_Cabin'] = titanic['Ticket'].str.strip()"
   ]
  },
  {
   "cell_type": "code",
   "execution_count": 3120,
   "metadata": {
    "ExecuteTime": {
     "end_time": "2019-08-06T21:42:04.053570Z",
     "start_time": "2019-08-06T21:42:04.047566Z"
    }
   },
   "outputs": [
    {
     "data": {
      "text/plain": [
       "array(['A', nan, 'S', 'W', 'SOTON', 'C', 'STON', 'Fa', 'LINE', 'CA', 'PP',\n",
       "       'SC', 'AQ', 'LP', 'PC', 'F', 'P', 'WE', 'SW', 'SCO', 'SO'],\n",
       "      dtype=object)"
      ]
     },
     "execution_count": 3120,
     "metadata": {},
     "output_type": "execute_result"
    }
   ],
   "source": [
    "titanic.Ft_Cabin.str.extract('([a-zA-Z]+)', expand=False).unique()"
   ]
  },
  {
   "cell_type": "code",
   "execution_count": 3121,
   "metadata": {
    "ExecuteTime": {
     "end_time": "2019-08-06T21:42:04.997527Z",
     "start_time": "2019-08-06T21:42:04.991524Z"
    }
   },
   "outputs": [],
   "source": [
    "titanic['Ft_Cabin'] = titanic.Ft_Cabin.str.extract('([a-zA-Z])', expand=False)"
   ]
  },
  {
   "cell_type": "code",
   "execution_count": 3122,
   "metadata": {
    "ExecuteTime": {
     "end_time": "2019-08-06T21:42:06.621256Z",
     "start_time": "2019-08-06T21:42:05.807586Z"
    }
   },
   "outputs": [],
   "source": [
    "titanic.Ft_Cabin[titanic.Ft_Cabin.isna()] = 'Uknow'"
   ]
  },
  {
   "cell_type": "code",
   "execution_count": 3124,
   "metadata": {
    "ExecuteTime": {
     "end_time": "2019-08-06T21:42:15.916490Z",
     "start_time": "2019-08-06T21:42:15.909503Z"
    }
   },
   "outputs": [
    {
     "data": {
      "text/plain": [
       "Ft_Cabin\n",
       "A         42\n",
       "C         77\n",
       "F         13\n",
       "L          5\n",
       "P         98\n",
       "S         98\n",
       "Uknow    957\n",
       "W         19\n",
       "Name: Ft_Cabin, dtype: int64"
      ]
     },
     "execution_count": 3124,
     "metadata": {},
     "output_type": "execute_result"
    }
   ],
   "source": [
    "titanic.groupby('Ft_Cabin').Ft_Cabin.count()"
   ]
  },
  {
   "cell_type": "code",
   "execution_count": 3125,
   "metadata": {
    "ExecuteTime": {
     "end_time": "2019-08-06T21:42:25.137010Z",
     "start_time": "2019-08-06T21:42:25.127992Z"
    }
   },
   "outputs": [
    {
     "data": {
      "text/plain": [
       "PassengerId           0\n",
       "Survived            418\n",
       "Pclass                0\n",
       "Name                  0\n",
       "Sex                   0\n",
       "Age                   0\n",
       "SibSp                 0\n",
       "Parch                 0\n",
       "Ticket                0\n",
       "Fare                  0\n",
       "Cabin              1014\n",
       "Embarked              2\n",
       "Status_Survived     418\n",
       "Title                 0\n",
       "Age_y                 0\n",
       "Ft_Cabin              0\n",
       "dtype: int64"
      ]
     },
     "execution_count": 3125,
     "metadata": {},
     "output_type": "execute_result"
    }
   ],
   "source": [
    "titanic.isna().sum()"
   ]
  },
  {
   "cell_type": "code",
   "execution_count": 3126,
   "metadata": {
    "ExecuteTime": {
     "end_time": "2019-08-06T21:42:27.302800Z",
     "start_time": "2019-08-06T21:42:26.534680Z"
    }
   },
   "outputs": [],
   "source": [
    "titanic.Ft_Cabin[titanic.Ft_Cabin =='Uknow'] = titanic.Cabin[titanic.Ft_Cabin =='Uknow'].str.extract('([a-zA-Z])', expand=False)"
   ]
  },
  {
   "cell_type": "code",
   "execution_count": 3127,
   "metadata": {
    "ExecuteTime": {
     "end_time": "2019-08-06T21:42:28.227290Z",
     "start_time": "2019-08-06T21:42:27.430770Z"
    }
   },
   "outputs": [],
   "source": [
    "titanic.Ft_Cabin[titanic.Ft_Cabin.isna()] = 'Uknow'"
   ]
  },
  {
   "cell_type": "code",
   "execution_count": 3128,
   "metadata": {
    "ExecuteTime": {
     "end_time": "2019-08-06T21:42:28.382248Z",
     "start_time": "2019-08-06T21:42:28.361247Z"
    }
   },
   "outputs": [
    {
     "data": {
      "text/html": [
       "<div>\n",
       "<style scoped>\n",
       "    .dataframe tbody tr th:only-of-type {\n",
       "        vertical-align: middle;\n",
       "    }\n",
       "\n",
       "    .dataframe tbody tr th {\n",
       "        vertical-align: top;\n",
       "    }\n",
       "\n",
       "    .dataframe thead th {\n",
       "        text-align: right;\n",
       "    }\n",
       "</style>\n",
       "<table border=\"1\" class=\"dataframe\">\n",
       "  <thead>\n",
       "    <tr style=\"text-align: right;\">\n",
       "      <th></th>\n",
       "      <th>PassengerId</th>\n",
       "      <th>Survived</th>\n",
       "      <th>Pclass</th>\n",
       "      <th>Name</th>\n",
       "      <th>Sex</th>\n",
       "      <th>Age</th>\n",
       "      <th>SibSp</th>\n",
       "      <th>Parch</th>\n",
       "      <th>Ticket</th>\n",
       "      <th>Fare</th>\n",
       "      <th>Cabin</th>\n",
       "      <th>Embarked</th>\n",
       "      <th>Status_Survived</th>\n",
       "      <th>Title</th>\n",
       "      <th>Age_y</th>\n",
       "    </tr>\n",
       "    <tr>\n",
       "      <th>Ft_Cabin</th>\n",
       "      <th></th>\n",
       "      <th></th>\n",
       "      <th></th>\n",
       "      <th></th>\n",
       "      <th></th>\n",
       "      <th></th>\n",
       "      <th></th>\n",
       "      <th></th>\n",
       "      <th></th>\n",
       "      <th></th>\n",
       "      <th></th>\n",
       "      <th></th>\n",
       "      <th></th>\n",
       "      <th></th>\n",
       "      <th></th>\n",
       "    </tr>\n",
       "  </thead>\n",
       "  <tbody>\n",
       "    <tr>\n",
       "      <th>A</th>\n",
       "      <td>57</td>\n",
       "      <td>41</td>\n",
       "      <td>57</td>\n",
       "      <td>57</td>\n",
       "      <td>57</td>\n",
       "      <td>57</td>\n",
       "      <td>57</td>\n",
       "      <td>57</td>\n",
       "      <td>57</td>\n",
       "      <td>57</td>\n",
       "      <td>15</td>\n",
       "      <td>57</td>\n",
       "      <td>41</td>\n",
       "      <td>57</td>\n",
       "      <td>57</td>\n",
       "    </tr>\n",
       "    <tr>\n",
       "      <th>B</th>\n",
       "      <td>40</td>\n",
       "      <td>31</td>\n",
       "      <td>40</td>\n",
       "      <td>40</td>\n",
       "      <td>40</td>\n",
       "      <td>40</td>\n",
       "      <td>40</td>\n",
       "      <td>40</td>\n",
       "      <td>40</td>\n",
       "      <td>40</td>\n",
       "      <td>40</td>\n",
       "      <td>38</td>\n",
       "      <td>31</td>\n",
       "      <td>40</td>\n",
       "      <td>40</td>\n",
       "    </tr>\n",
       "    <tr>\n",
       "      <th>C</th>\n",
       "      <td>148</td>\n",
       "      <td>91</td>\n",
       "      <td>148</td>\n",
       "      <td>148</td>\n",
       "      <td>148</td>\n",
       "      <td>148</td>\n",
       "      <td>148</td>\n",
       "      <td>148</td>\n",
       "      <td>148</td>\n",
       "      <td>148</td>\n",
       "      <td>73</td>\n",
       "      <td>148</td>\n",
       "      <td>91</td>\n",
       "      <td>148</td>\n",
       "      <td>148</td>\n",
       "    </tr>\n",
       "    <tr>\n",
       "      <th>D</th>\n",
       "      <td>35</td>\n",
       "      <td>26</td>\n",
       "      <td>35</td>\n",
       "      <td>35</td>\n",
       "      <td>35</td>\n",
       "      <td>35</td>\n",
       "      <td>35</td>\n",
       "      <td>35</td>\n",
       "      <td>35</td>\n",
       "      <td>35</td>\n",
       "      <td>35</td>\n",
       "      <td>35</td>\n",
       "      <td>26</td>\n",
       "      <td>35</td>\n",
       "      <td>35</td>\n",
       "    </tr>\n",
       "    <tr>\n",
       "      <th>E</th>\n",
       "      <td>29</td>\n",
       "      <td>23</td>\n",
       "      <td>29</td>\n",
       "      <td>29</td>\n",
       "      <td>29</td>\n",
       "      <td>29</td>\n",
       "      <td>29</td>\n",
       "      <td>29</td>\n",
       "      <td>29</td>\n",
       "      <td>29</td>\n",
       "      <td>29</td>\n",
       "      <td>29</td>\n",
       "      <td>23</td>\n",
       "      <td>29</td>\n",
       "      <td>29</td>\n",
       "    </tr>\n",
       "    <tr>\n",
       "      <th>F</th>\n",
       "      <td>31</td>\n",
       "      <td>18</td>\n",
       "      <td>31</td>\n",
       "      <td>31</td>\n",
       "      <td>31</td>\n",
       "      <td>31</td>\n",
       "      <td>31</td>\n",
       "      <td>31</td>\n",
       "      <td>31</td>\n",
       "      <td>31</td>\n",
       "      <td>20</td>\n",
       "      <td>31</td>\n",
       "      <td>18</td>\n",
       "      <td>31</td>\n",
       "      <td>31</td>\n",
       "    </tr>\n",
       "    <tr>\n",
       "      <th>G</th>\n",
       "      <td>2</td>\n",
       "      <td>2</td>\n",
       "      <td>2</td>\n",
       "      <td>2</td>\n",
       "      <td>2</td>\n",
       "      <td>2</td>\n",
       "      <td>2</td>\n",
       "      <td>2</td>\n",
       "      <td>2</td>\n",
       "      <td>2</td>\n",
       "      <td>2</td>\n",
       "      <td>2</td>\n",
       "      <td>2</td>\n",
       "      <td>2</td>\n",
       "      <td>2</td>\n",
       "    </tr>\n",
       "    <tr>\n",
       "      <th>L</th>\n",
       "      <td>5</td>\n",
       "      <td>4</td>\n",
       "      <td>5</td>\n",
       "      <td>5</td>\n",
       "      <td>5</td>\n",
       "      <td>5</td>\n",
       "      <td>5</td>\n",
       "      <td>5</td>\n",
       "      <td>5</td>\n",
       "      <td>5</td>\n",
       "      <td>0</td>\n",
       "      <td>5</td>\n",
       "      <td>4</td>\n",
       "      <td>5</td>\n",
       "      <td>5</td>\n",
       "    </tr>\n",
       "    <tr>\n",
       "      <th>P</th>\n",
       "      <td>98</td>\n",
       "      <td>65</td>\n",
       "      <td>98</td>\n",
       "      <td>98</td>\n",
       "      <td>98</td>\n",
       "      <td>98</td>\n",
       "      <td>98</td>\n",
       "      <td>98</td>\n",
       "      <td>98</td>\n",
       "      <td>98</td>\n",
       "      <td>70</td>\n",
       "      <td>98</td>\n",
       "      <td>65</td>\n",
       "      <td>98</td>\n",
       "      <td>98</td>\n",
       "    </tr>\n",
       "    <tr>\n",
       "      <th>S</th>\n",
       "      <td>98</td>\n",
       "      <td>65</td>\n",
       "      <td>98</td>\n",
       "      <td>98</td>\n",
       "      <td>98</td>\n",
       "      <td>98</td>\n",
       "      <td>98</td>\n",
       "      <td>98</td>\n",
       "      <td>98</td>\n",
       "      <td>98</td>\n",
       "      <td>5</td>\n",
       "      <td>98</td>\n",
       "      <td>65</td>\n",
       "      <td>98</td>\n",
       "      <td>98</td>\n",
       "    </tr>\n",
       "    <tr>\n",
       "      <th>T</th>\n",
       "      <td>1</td>\n",
       "      <td>1</td>\n",
       "      <td>1</td>\n",
       "      <td>1</td>\n",
       "      <td>1</td>\n",
       "      <td>1</td>\n",
       "      <td>1</td>\n",
       "      <td>1</td>\n",
       "      <td>1</td>\n",
       "      <td>1</td>\n",
       "      <td>1</td>\n",
       "      <td>1</td>\n",
       "      <td>1</td>\n",
       "      <td>1</td>\n",
       "      <td>1</td>\n",
       "    </tr>\n",
       "    <tr>\n",
       "      <th>Uknow</th>\n",
       "      <td>746</td>\n",
       "      <td>511</td>\n",
       "      <td>746</td>\n",
       "      <td>746</td>\n",
       "      <td>746</td>\n",
       "      <td>746</td>\n",
       "      <td>746</td>\n",
       "      <td>746</td>\n",
       "      <td>746</td>\n",
       "      <td>746</td>\n",
       "      <td>0</td>\n",
       "      <td>746</td>\n",
       "      <td>511</td>\n",
       "      <td>746</td>\n",
       "      <td>746</td>\n",
       "    </tr>\n",
       "    <tr>\n",
       "      <th>W</th>\n",
       "      <td>19</td>\n",
       "      <td>13</td>\n",
       "      <td>19</td>\n",
       "      <td>19</td>\n",
       "      <td>19</td>\n",
       "      <td>19</td>\n",
       "      <td>19</td>\n",
       "      <td>19</td>\n",
       "      <td>19</td>\n",
       "      <td>19</td>\n",
       "      <td>5</td>\n",
       "      <td>19</td>\n",
       "      <td>13</td>\n",
       "      <td>19</td>\n",
       "      <td>19</td>\n",
       "    </tr>\n",
       "  </tbody>\n",
       "</table>\n",
       "</div>"
      ],
      "text/plain": [
       "          PassengerId  Survived  Pclass  Name  Sex  Age  SibSp  Parch  Ticket  \\\n",
       "Ft_Cabin                                                                        \n",
       "A                  57        41      57    57   57   57     57     57      57   \n",
       "B                  40        31      40    40   40   40     40     40      40   \n",
       "C                 148        91     148   148  148  148    148    148     148   \n",
       "D                  35        26      35    35   35   35     35     35      35   \n",
       "E                  29        23      29    29   29   29     29     29      29   \n",
       "F                  31        18      31    31   31   31     31     31      31   \n",
       "G                   2         2       2     2    2    2      2      2       2   \n",
       "L                   5         4       5     5    5    5      5      5       5   \n",
       "P                  98        65      98    98   98   98     98     98      98   \n",
       "S                  98        65      98    98   98   98     98     98      98   \n",
       "T                   1         1       1     1    1    1      1      1       1   \n",
       "Uknow             746       511     746   746  746  746    746    746     746   \n",
       "W                  19        13      19    19   19   19     19     19      19   \n",
       "\n",
       "          Fare  Cabin  Embarked  Status_Survived  Title  Age_y  \n",
       "Ft_Cabin                                                        \n",
       "A           57     15        57               41     57     57  \n",
       "B           40     40        38               31     40     40  \n",
       "C          148     73       148               91    148    148  \n",
       "D           35     35        35               26     35     35  \n",
       "E           29     29        29               23     29     29  \n",
       "F           31     20        31               18     31     31  \n",
       "G            2      2         2                2      2      2  \n",
       "L            5      0         5                4      5      5  \n",
       "P           98     70        98               65     98     98  \n",
       "S           98      5        98               65     98     98  \n",
       "T            1      1         1                1      1      1  \n",
       "Uknow      746      0       746              511    746    746  \n",
       "W           19      5        19               13     19     19  "
      ]
     },
     "execution_count": 3128,
     "metadata": {},
     "output_type": "execute_result"
    }
   ],
   "source": [
    "titanic.groupby('Ft_Cabin').count()"
   ]
  },
  {
   "cell_type": "code",
   "execution_count": 3129,
   "metadata": {
    "ExecuteTime": {
     "end_time": "2019-08-06T21:42:43.684744Z",
     "start_time": "2019-08-06T21:42:43.679741Z"
    }
   },
   "outputs": [],
   "source": [
    "titanic[\"Ft_Cabin\"] = titanic[\"Ft_Cabin\"].replace(['L','T','W'], 'G')\n"
   ]
  },
  {
   "cell_type": "code",
   "execution_count": 3130,
   "metadata": {
    "ExecuteTime": {
     "end_time": "2019-08-06T21:42:44.358445Z",
     "start_time": "2019-08-06T21:42:44.351458Z"
    }
   },
   "outputs": [],
   "source": [
    "titanic.loc[titanic.Cabin.isna(),'Cabin'] = 'Uknow'"
   ]
  },
  {
   "cell_type": "code",
   "execution_count": 3131,
   "metadata": {
    "ExecuteTime": {
     "end_time": "2019-08-06T21:42:45.028815Z",
     "start_time": "2019-08-06T21:42:45.022829Z"
    }
   },
   "outputs": [],
   "source": [
    "titanic.loc[titanic.Ft_Cabin.isna(),'Ft_Cabin'] = 'Uknow'\n"
   ]
  },
  {
   "cell_type": "code",
   "execution_count": 3132,
   "metadata": {
    "ExecuteTime": {
     "end_time": "2019-08-06T21:42:45.693403Z",
     "start_time": "2019-08-06T21:42:45.686401Z"
    }
   },
   "outputs": [
    {
     "data": {
      "text/plain": [
       "Ft_Cabin\n",
       "A         41\n",
       "B         31\n",
       "C         91\n",
       "D         26\n",
       "E         23\n",
       "F         18\n",
       "G         20\n",
       "P         65\n",
       "S         65\n",
       "Uknow    511\n",
       "Name: Survived, dtype: int64"
      ]
     },
     "execution_count": 3132,
     "metadata": {},
     "output_type": "execute_result"
    }
   ],
   "source": [
    "titanic.groupby('Ft_Cabin').Survived.count()\n"
   ]
  },
  {
   "cell_type": "code",
   "execution_count": 3133,
   "metadata": {
    "ExecuteTime": {
     "end_time": "2019-08-06T21:42:51.284953Z",
     "start_time": "2019-08-06T21:42:51.277965Z"
    }
   },
   "outputs": [
    {
     "data": {
      "text/plain": [
       "PassengerId          0\n",
       "Survived           418\n",
       "Pclass               0\n",
       "Name                 0\n",
       "Sex                  0\n",
       "Age                  0\n",
       "SibSp                0\n",
       "Parch                0\n",
       "Ticket               0\n",
       "Fare                 0\n",
       "Cabin                0\n",
       "Embarked             2\n",
       "Status_Survived    418\n",
       "Title                0\n",
       "Age_y                0\n",
       "Ft_Cabin             0\n",
       "dtype: int64"
      ]
     },
     "execution_count": 3133,
     "metadata": {},
     "output_type": "execute_result"
    }
   ],
   "source": [
    "titanic.isnull().sum()"
   ]
  },
  {
   "cell_type": "markdown",
   "metadata": {},
   "source": [
    "## Input Embarked"
   ]
  },
  {
   "cell_type": "code",
   "execution_count": 3134,
   "metadata": {
    "ExecuteTime": {
     "end_time": "2019-08-06T21:42:55.603414Z",
     "start_time": "2019-08-06T21:42:55.598429Z"
    }
   },
   "outputs": [
    {
     "name": "stdout",
     "output_type": "stream",
     "text": [
      "0    S\n",
      "dtype: object\n"
     ]
    }
   ],
   "source": [
    "mode =  titanic.Embarked.mode()\n",
    "print(mode)\n"
   ]
  },
  {
   "cell_type": "code",
   "execution_count": 3135,
   "metadata": {
    "ExecuteTime": {
     "end_time": "2019-08-06T21:42:56.173050Z",
     "start_time": "2019-08-06T21:42:56.167047Z"
    }
   },
   "outputs": [],
   "source": [
    "titanic.loc[titanic.Embarked.isna(),'Embarked'] = 'S'"
   ]
  },
  {
   "cell_type": "code",
   "execution_count": 3136,
   "metadata": {
    "ExecuteTime": {
     "end_time": "2019-08-06T21:42:56.650350Z",
     "start_time": "2019-08-06T21:42:56.645845Z"
    }
   },
   "outputs": [
    {
     "data": {
      "text/plain": [
       "0"
      ]
     },
     "execution_count": 3136,
     "metadata": {},
     "output_type": "execute_result"
    }
   ],
   "source": [
    "titanic.Embarked.isna().sum()"
   ]
  },
  {
   "cell_type": "markdown",
   "metadata": {},
   "source": [
    "* Por ser apenas dua observações , foi preenchida com a moda"
   ]
  },
  {
   "cell_type": "markdown",
   "metadata": {},
   "source": [
    "# Continuando analise exploratória "
   ]
  },
  {
   "cell_type": "code",
   "execution_count": 3137,
   "metadata": {
    "ExecuteTime": {
     "end_time": "2019-08-06T21:42:59.545408Z",
     "start_time": "2019-08-06T21:42:59.527384Z"
    }
   },
   "outputs": [
    {
     "data": {
      "text/html": [
       "<div>\n",
       "<style scoped>\n",
       "    .dataframe tbody tr th:only-of-type {\n",
       "        vertical-align: middle;\n",
       "    }\n",
       "\n",
       "    .dataframe tbody tr th {\n",
       "        vertical-align: top;\n",
       "    }\n",
       "\n",
       "    .dataframe thead th {\n",
       "        text-align: right;\n",
       "    }\n",
       "</style>\n",
       "<table border=\"1\" class=\"dataframe\">\n",
       "  <thead>\n",
       "    <tr style=\"text-align: right;\">\n",
       "      <th></th>\n",
       "      <th>PassengerId</th>\n",
       "      <th>Survived</th>\n",
       "      <th>Pclass</th>\n",
       "      <th>Name</th>\n",
       "      <th>Sex</th>\n",
       "      <th>Age</th>\n",
       "      <th>SibSp</th>\n",
       "      <th>Parch</th>\n",
       "      <th>Ticket</th>\n",
       "      <th>Fare</th>\n",
       "      <th>Cabin</th>\n",
       "      <th>Embarked</th>\n",
       "      <th>Status_Survived</th>\n",
       "      <th>Title</th>\n",
       "      <th>Age_y</th>\n",
       "      <th>Ft_Cabin</th>\n",
       "    </tr>\n",
       "  </thead>\n",
       "  <tbody>\n",
       "    <tr>\n",
       "      <th>0</th>\n",
       "      <td>1</td>\n",
       "      <td>0.0</td>\n",
       "      <td>3</td>\n",
       "      <td>Braund, Mr. Owen Harris</td>\n",
       "      <td>male</td>\n",
       "      <td>22.0</td>\n",
       "      <td>1</td>\n",
       "      <td>0</td>\n",
       "      <td>A/5 21171</td>\n",
       "      <td>7.2500</td>\n",
       "      <td>Uknow</td>\n",
       "      <td>S</td>\n",
       "      <td>Morto</td>\n",
       "      <td>Mr</td>\n",
       "      <td>26.0</td>\n",
       "      <td>A</td>\n",
       "    </tr>\n",
       "    <tr>\n",
       "      <th>1</th>\n",
       "      <td>5</td>\n",
       "      <td>0.0</td>\n",
       "      <td>3</td>\n",
       "      <td>Allen, Mr. William Henry</td>\n",
       "      <td>male</td>\n",
       "      <td>35.0</td>\n",
       "      <td>0</td>\n",
       "      <td>0</td>\n",
       "      <td>373450</td>\n",
       "      <td>8.0500</td>\n",
       "      <td>Uknow</td>\n",
       "      <td>S</td>\n",
       "      <td>Morto</td>\n",
       "      <td>Mr</td>\n",
       "      <td>26.0</td>\n",
       "      <td>Uknow</td>\n",
       "    </tr>\n",
       "    <tr>\n",
       "      <th>2</th>\n",
       "      <td>6</td>\n",
       "      <td>0.0</td>\n",
       "      <td>3</td>\n",
       "      <td>Moran, Mr. James</td>\n",
       "      <td>male</td>\n",
       "      <td>26.0</td>\n",
       "      <td>0</td>\n",
       "      <td>0</td>\n",
       "      <td>330877</td>\n",
       "      <td>8.4583</td>\n",
       "      <td>Uknow</td>\n",
       "      <td>Q</td>\n",
       "      <td>Morto</td>\n",
       "      <td>Mr</td>\n",
       "      <td>26.0</td>\n",
       "      <td>Uknow</td>\n",
       "    </tr>\n",
       "    <tr>\n",
       "      <th>3</th>\n",
       "      <td>13</td>\n",
       "      <td>0.0</td>\n",
       "      <td>3</td>\n",
       "      <td>Saundercock, Mr. William Henry</td>\n",
       "      <td>male</td>\n",
       "      <td>20.0</td>\n",
       "      <td>0</td>\n",
       "      <td>0</td>\n",
       "      <td>A/5. 2151</td>\n",
       "      <td>8.0500</td>\n",
       "      <td>Uknow</td>\n",
       "      <td>S</td>\n",
       "      <td>Morto</td>\n",
       "      <td>Mr</td>\n",
       "      <td>26.0</td>\n",
       "      <td>A</td>\n",
       "    </tr>\n",
       "    <tr>\n",
       "      <th>4</th>\n",
       "      <td>14</td>\n",
       "      <td>0.0</td>\n",
       "      <td>3</td>\n",
       "      <td>Andersson, Mr. Anders Johan</td>\n",
       "      <td>male</td>\n",
       "      <td>39.0</td>\n",
       "      <td>1</td>\n",
       "      <td>5</td>\n",
       "      <td>347082</td>\n",
       "      <td>31.2750</td>\n",
       "      <td>Uknow</td>\n",
       "      <td>S</td>\n",
       "      <td>Morto</td>\n",
       "      <td>Mr</td>\n",
       "      <td>26.0</td>\n",
       "      <td>Uknow</td>\n",
       "    </tr>\n",
       "  </tbody>\n",
       "</table>\n",
       "</div>"
      ],
      "text/plain": [
       "   PassengerId  Survived  Pclass                            Name   Sex   Age  \\\n",
       "0            1       0.0       3         Braund, Mr. Owen Harris  male  22.0   \n",
       "1            5       0.0       3        Allen, Mr. William Henry  male  35.0   \n",
       "2            6       0.0       3                Moran, Mr. James  male  26.0   \n",
       "3           13       0.0       3  Saundercock, Mr. William Henry  male  20.0   \n",
       "4           14       0.0       3     Andersson, Mr. Anders Johan  male  39.0   \n",
       "\n",
       "   SibSp  Parch     Ticket     Fare  Cabin Embarked Status_Survived Title  \\\n",
       "0      1      0  A/5 21171   7.2500  Uknow        S           Morto    Mr   \n",
       "1      0      0     373450   8.0500  Uknow        S           Morto    Mr   \n",
       "2      0      0     330877   8.4583  Uknow        Q           Morto    Mr   \n",
       "3      0      0  A/5. 2151   8.0500  Uknow        S           Morto    Mr   \n",
       "4      1      5     347082  31.2750  Uknow        S           Morto    Mr   \n",
       "\n",
       "   Age_y Ft_Cabin  \n",
       "0   26.0        A  \n",
       "1   26.0    Uknow  \n",
       "2   26.0    Uknow  \n",
       "3   26.0        A  \n",
       "4   26.0    Uknow  "
      ]
     },
     "execution_count": 3137,
     "metadata": {},
     "output_type": "execute_result"
    }
   ],
   "source": [
    "titanic.head()"
   ]
  },
  {
   "cell_type": "code",
   "execution_count": 3138,
   "metadata": {
    "ExecuteTime": {
     "end_time": "2019-08-06T21:43:05.977458Z",
     "start_time": "2019-08-06T21:43:05.805404Z"
    }
   },
   "outputs": [
    {
     "data": {
      "image/png": "[encoded data removed]",
      "text/plain": [
       "<Figure size 576x432 with 1 Axes>"
      ]
     },
     "metadata": {
      "needs_background": "light"
     },
     "output_type": "display_data"
    }
   ],
   "source": [
    "titanic.groupby('Sex').agg({'Sex':['count'],'Survived':['sum']}).plot.bar(figsize=(8, 6));\n"
   ]
  },
  {
   "cell_type": "code",
   "execution_count": 3139,
   "metadata": {
    "ExecuteTime": {
     "end_time": "2019-08-06T21:43:06.687208Z",
     "start_time": "2019-08-06T21:43:06.518531Z"
    }
   },
   "outputs": [
    {
     "data": {
      "image/png": "[encoded data removed]",
      "text/plain": [
       "<Figure size 576x432 with 1 Axes>"
      ]
     },
     "metadata": {
      "needs_background": "light"
     },
     "output_type": "display_data"
    }
   ],
   "source": [
    "titanic.groupby('Pclass').agg({'Pclass':['count'],'Survived':['sum']}).plot.bar(figsize=(8, 6));\n"
   ]
  },
  {
   "cell_type": "code",
   "execution_count": 3140,
   "metadata": {
    "ExecuteTime": {
     "end_time": "2019-08-06T21:43:08.585374Z",
     "start_time": "2019-08-06T21:43:08.358166Z"
    }
   },
   "outputs": [
    {
     "data": {
      "image/png": "[encoded data removed]",
      "text/plain": [
       "<Figure size 576x432 with 1 Axes>"
      ]
     },
     "metadata": {
      "needs_background": "light"
     },
     "output_type": "display_data"
    }
   ],
   "source": [
    "titanic.groupby('Ft_Cabin').agg({'Ft_Cabin':['count'],'Survived':['sum']}).plot.bar(figsize=(8, 6));\n"
   ]
  },
  {
   "cell_type": "code",
   "execution_count": 3141,
   "metadata": {
    "ExecuteTime": {
     "end_time": "2019-08-06T21:43:09.052649Z",
     "start_time": "2019-08-06T21:43:08.888482Z"
    }
   },
   "outputs": [
    {
     "data": {
      "image/png": "[encoded data removed]",
      "text/plain": [
       "<Figure size 576x432 with 1 Axes>"
      ]
     },
     "metadata": {
      "needs_background": "light"
     },
     "output_type": "display_data"
    }
   ],
   "source": [
    "titanic.groupby('Embarked').agg({'Embarked':['count'],'Survived':['sum']}).plot.bar(figsize=(8, 6));\n"
   ]
  },
  {
   "cell_type": "code",
   "execution_count": 3142,
   "metadata": {
    "ExecuteTime": {
     "end_time": "2019-08-06T21:43:09.965265Z",
     "start_time": "2019-08-06T21:43:09.614193Z"
    }
   },
   "outputs": [
    {
     "data": {
      "image/png": "[encoded data removed]",
      "text/plain": [
       "<Figure size 576x432 with 1 Axes>"
      ]
     },
     "metadata": {
      "needs_background": "light"
     },
     "output_type": "display_data"
    }
   ],
   "source": [
    "titanic.groupby(['Pclass','Ft_Cabin']).agg({'Pclass':['count'],'Survived':['sum']}).plot.bar(figsize=(8, 6));"
   ]
  },
  {
   "cell_type": "code",
   "execution_count": 3143,
   "metadata": {
    "ExecuteTime": {
     "end_time": "2019-08-06T21:43:10.794920Z",
     "start_time": "2019-08-06T21:43:10.589054Z"
    }
   },
   "outputs": [
    {
     "data": {
      "image/png": "[encoded data removed]",
      "text/plain": [
       "<Figure size 576x432 with 1 Axes>"
      ]
     },
     "metadata": {
      "needs_background": "light"
     },
     "output_type": "display_data"
    }
   ],
   "source": [
    "titanic.groupby(['Sex','Title']).agg({'Sex':['count'],'Survived':['sum']}).plot.bar(figsize=(8, 6));"
   ]
  },
  {
   "cell_type": "code",
   "execution_count": 3144,
   "metadata": {
    "ExecuteTime": {
     "end_time": "2019-08-06T21:43:13.349711Z",
     "start_time": "2019-08-06T21:43:13.206099Z"
    }
   },
   "outputs": [
    {
     "data": {
      "text/plain": [
       "Text(0.5, 1.0, 'Homens Sozinhos')"
      ]
     },
     "execution_count": 3144,
     "metadata": {},
     "output_type": "execute_result"
    },
    {
     "data": {
      "image/png": "[encoded data removed]",
      "text/plain": [
       "<Figure size 576x432 with 1 Axes>"
      ]
     },
     "metadata": {
      "needs_background": "light"
     },
     "output_type": "display_data"
    }
   ],
   "source": [
    "titanic[(titanic.SibSp==0)&(titanic.Parch==0)&(titanic.Title=='Mr')].groupby('Survived').Title.count().plot.bar(figsize=(8, 6));\n",
    "plt.title('Homens Sozinhos')"
   ]
  },
  {
   "cell_type": "code",
   "execution_count": 3145,
   "metadata": {
    "ExecuteTime": {
     "end_time": "2019-08-06T21:43:13.889479Z",
     "start_time": "2019-08-06T21:43:13.878498Z"
    }
   },
   "outputs": [
    {
     "name": "stdout",
     "output_type": "stream",
     "text": [
      "11.0\n",
      "80.0\n"
     ]
    }
   ],
   "source": [
    "print(titanic[(titanic.SibSp==0)&(titanic.Parch==0)&(titanic.Title=='Mr')].Age.min())\n",
    "print(titanic[(titanic.SibSp==0)&(titanic.Parch==0)&(titanic.Title=='Mr')].Age.max())\n",
    "\n"
   ]
  },
  {
   "cell_type": "code",
   "execution_count": 3146,
   "metadata": {
    "ExecuteTime": {
     "end_time": "2019-08-06T21:43:14.822982Z",
     "start_time": "2019-08-06T21:43:14.678031Z"
    }
   },
   "outputs": [
    {
     "data": {
      "text/plain": [
       "Text(0.5, 1.0, 'Mulheres Sozinhas')"
      ]
     },
     "execution_count": 3146,
     "metadata": {},
     "output_type": "execute_result"
    },
    {
     "data": {
      "image/png": "[encoded data removed]",
      "text/plain": [
       "<Figure size 576x432 with 1 Axes>"
      ]
     },
     "metadata": {
      "needs_background": "light"
     },
     "output_type": "display_data"
    }
   ],
   "source": [
    "titanic[(titanic.SibSp==0)&(titanic.Parch==0)&(titanic.Title=='Miss')].groupby('Survived').Title.count().plot.bar(figsize=(8, 6));\n",
    "plt.title('Mulheres Sozinhas')"
   ]
  },
  {
   "cell_type": "code",
   "execution_count": 3147,
   "metadata": {
    "ExecuteTime": {
     "end_time": "2019-08-06T21:43:15.441076Z",
     "start_time": "2019-08-06T21:43:15.430068Z"
    }
   },
   "outputs": [
    {
     "name": "stdout",
     "output_type": "stream",
     "text": [
      "5.0\n",
      "58.0\n"
     ]
    }
   ],
   "source": [
    "print(titanic[(titanic.SibSp==0)&(titanic.Parch==0)&(titanic.Title=='Miss')].Age.min())\n",
    "print(titanic[(titanic.SibSp==0)&(titanic.Parch==0)&(titanic.Title=='Miss')].Age.max())\n",
    "\n"
   ]
  },
  {
   "cell_type": "markdown",
   "metadata": {
    "ExecuteTime": {
     "end_time": "2019-07-25T14:41:45.391937Z",
     "start_time": "2019-07-25T14:41:44.770033Z"
    }
   },
   "source": [
    "# Feature Engineer"
   ]
  },
  {
   "cell_type": "markdown",
   "metadata": {},
   "source": [
    "## Sobrenome"
   ]
  },
  {
   "cell_type": "code",
   "execution_count": 3148,
   "metadata": {
    "ExecuteTime": {
     "end_time": "2019-08-06T21:43:17.211983Z",
     "start_time": "2019-08-06T21:43:17.204995Z"
    }
   },
   "outputs": [],
   "source": [
    "titanic['Ft_Sobrenome']=[i.split(\".\")[0].split(\",\")[0].strip() for i in titanic[\"Name\"]]"
   ]
  },
  {
   "cell_type": "code",
   "execution_count": 3149,
   "metadata": {
    "ExecuteTime": {
     "end_time": "2019-08-06T21:43:17.783563Z",
     "start_time": "2019-08-06T21:43:17.758017Z"
    }
   },
   "outputs": [
    {
     "data": {
      "text/html": [
       "<div>\n",
       "<style scoped>\n",
       "    .dataframe tbody tr th:only-of-type {\n",
       "        vertical-align: middle;\n",
       "    }\n",
       "\n",
       "    .dataframe tbody tr th {\n",
       "        vertical-align: top;\n",
       "    }\n",
       "\n",
       "    .dataframe thead th {\n",
       "        text-align: right;\n",
       "    }\n",
       "</style>\n",
       "<table border=\"1\" class=\"dataframe\">\n",
       "  <thead>\n",
       "    <tr style=\"text-align: right;\">\n",
       "      <th></th>\n",
       "      <th>PassengerId</th>\n",
       "      <th>Survived</th>\n",
       "      <th>Pclass</th>\n",
       "      <th>Name</th>\n",
       "      <th>Sex</th>\n",
       "      <th>Age</th>\n",
       "      <th>SibSp</th>\n",
       "      <th>Parch</th>\n",
       "      <th>Ticket</th>\n",
       "      <th>Fare</th>\n",
       "      <th>Cabin</th>\n",
       "      <th>Embarked</th>\n",
       "      <th>Status_Survived</th>\n",
       "      <th>Title</th>\n",
       "      <th>Age_y</th>\n",
       "      <th>Ft_Cabin</th>\n",
       "      <th>Ft_Sobrenome</th>\n",
       "    </tr>\n",
       "  </thead>\n",
       "  <tbody>\n",
       "    <tr>\n",
       "      <th>4</th>\n",
       "      <td>14</td>\n",
       "      <td>0.0</td>\n",
       "      <td>3</td>\n",
       "      <td>Andersson, Mr. Anders Johan</td>\n",
       "      <td>male</td>\n",
       "      <td>39.0</td>\n",
       "      <td>1</td>\n",
       "      <td>5</td>\n",
       "      <td>347082</td>\n",
       "      <td>31.2750</td>\n",
       "      <td>Uknow</td>\n",
       "      <td>S</td>\n",
       "      <td>Morto</td>\n",
       "      <td>Mr</td>\n",
       "      <td>26.0</td>\n",
       "      <td>Uknow</td>\n",
       "      <td>Andersson</td>\n",
       "    </tr>\n",
       "    <tr>\n",
       "      <th>50</th>\n",
       "      <td>147</td>\n",
       "      <td>1.0</td>\n",
       "      <td>3</td>\n",
       "      <td>Andersson, Mr. August Edvard (\"Wennerstrom\")</td>\n",
       "      <td>male</td>\n",
       "      <td>27.0</td>\n",
       "      <td>0</td>\n",
       "      <td>0</td>\n",
       "      <td>350043</td>\n",
       "      <td>7.7958</td>\n",
       "      <td>Uknow</td>\n",
       "      <td>S</td>\n",
       "      <td>Vivo</td>\n",
       "      <td>Mr</td>\n",
       "      <td>26.0</td>\n",
       "      <td>Uknow</td>\n",
       "      <td>Andersson</td>\n",
       "    </tr>\n",
       "    <tr>\n",
       "      <th>425</th>\n",
       "      <td>1212</td>\n",
       "      <td>NaN</td>\n",
       "      <td>3</td>\n",
       "      <td>Andersson, Mr. Johan Samuel</td>\n",
       "      <td>male</td>\n",
       "      <td>26.0</td>\n",
       "      <td>0</td>\n",
       "      <td>0</td>\n",
       "      <td>347075</td>\n",
       "      <td>7.7750</td>\n",
       "      <td>Uknow</td>\n",
       "      <td>S</td>\n",
       "      <td>NaN</td>\n",
       "      <td>Mr</td>\n",
       "      <td>26.0</td>\n",
       "      <td>Uknow</td>\n",
       "      <td>Andersson</td>\n",
       "    </tr>\n",
       "    <tr>\n",
       "      <th>536</th>\n",
       "      <td>69</td>\n",
       "      <td>1.0</td>\n",
       "      <td>3</td>\n",
       "      <td>Andersson, Miss. Erna Alexandra</td>\n",
       "      <td>female</td>\n",
       "      <td>17.0</td>\n",
       "      <td>4</td>\n",
       "      <td>2</td>\n",
       "      <td>3101281</td>\n",
       "      <td>7.9250</td>\n",
       "      <td>Uknow</td>\n",
       "      <td>S</td>\n",
       "      <td>Vivo</td>\n",
       "      <td>Miss</td>\n",
       "      <td>18.0</td>\n",
       "      <td>Uknow</td>\n",
       "      <td>Andersson</td>\n",
       "    </tr>\n",
       "    <tr>\n",
       "      <th>546</th>\n",
       "      <td>120</td>\n",
       "      <td>0.0</td>\n",
       "      <td>3</td>\n",
       "      <td>Andersson, Miss. Ellis Anna Maria</td>\n",
       "      <td>female</td>\n",
       "      <td>2.0</td>\n",
       "      <td>4</td>\n",
       "      <td>2</td>\n",
       "      <td>347082</td>\n",
       "      <td>31.2750</td>\n",
       "      <td>Uknow</td>\n",
       "      <td>S</td>\n",
       "      <td>Morto</td>\n",
       "      <td>Miss</td>\n",
       "      <td>18.0</td>\n",
       "      <td>Uknow</td>\n",
       "      <td>Andersson</td>\n",
       "    </tr>\n",
       "    <tr>\n",
       "      <th>594</th>\n",
       "      <td>542</td>\n",
       "      <td>0.0</td>\n",
       "      <td>3</td>\n",
       "      <td>Andersson, Miss. Ingeborg Constanzia</td>\n",
       "      <td>female</td>\n",
       "      <td>9.0</td>\n",
       "      <td>4</td>\n",
       "      <td>2</td>\n",
       "      <td>347082</td>\n",
       "      <td>31.2750</td>\n",
       "      <td>Uknow</td>\n",
       "      <td>S</td>\n",
       "      <td>Morto</td>\n",
       "      <td>Miss</td>\n",
       "      <td>18.0</td>\n",
       "      <td>Uknow</td>\n",
       "      <td>Andersson</td>\n",
       "    </tr>\n",
       "    <tr>\n",
       "      <th>595</th>\n",
       "      <td>543</td>\n",
       "      <td>0.0</td>\n",
       "      <td>3</td>\n",
       "      <td>Andersson, Miss. Sigrid Elisabeth</td>\n",
       "      <td>female</td>\n",
       "      <td>11.0</td>\n",
       "      <td>4</td>\n",
       "      <td>2</td>\n",
       "      <td>347082</td>\n",
       "      <td>31.2750</td>\n",
       "      <td>Uknow</td>\n",
       "      <td>S</td>\n",
       "      <td>Morto</td>\n",
       "      <td>Miss</td>\n",
       "      <td>18.0</td>\n",
       "      <td>Uknow</td>\n",
       "      <td>Andersson</td>\n",
       "    </tr>\n",
       "    <tr>\n",
       "      <th>620</th>\n",
       "      <td>814</td>\n",
       "      <td>0.0</td>\n",
       "      <td>3</td>\n",
       "      <td>Andersson, Miss. Ebba Iris Alfrida</td>\n",
       "      <td>female</td>\n",
       "      <td>6.0</td>\n",
       "      <td>4</td>\n",
       "      <td>2</td>\n",
       "      <td>347082</td>\n",
       "      <td>31.2750</td>\n",
       "      <td>Uknow</td>\n",
       "      <td>S</td>\n",
       "      <td>Morto</td>\n",
       "      <td>Miss</td>\n",
       "      <td>18.0</td>\n",
       "      <td>Uknow</td>\n",
       "      <td>Andersson</td>\n",
       "    </tr>\n",
       "    <tr>\n",
       "      <th>654</th>\n",
       "      <td>1106</td>\n",
       "      <td>NaN</td>\n",
       "      <td>3</td>\n",
       "      <td>Andersson, Miss. Ida Augusta Margareta</td>\n",
       "      <td>female</td>\n",
       "      <td>38.0</td>\n",
       "      <td>4</td>\n",
       "      <td>2</td>\n",
       "      <td>347091</td>\n",
       "      <td>7.7750</td>\n",
       "      <td>Uknow</td>\n",
       "      <td>S</td>\n",
       "      <td>NaN</td>\n",
       "      <td>Miss</td>\n",
       "      <td>18.0</td>\n",
       "      <td>Uknow</td>\n",
       "      <td>Andersson</td>\n",
       "    </tr>\n",
       "    <tr>\n",
       "      <th>861</th>\n",
       "      <td>851</td>\n",
       "      <td>0.0</td>\n",
       "      <td>3</td>\n",
       "      <td>Andersson, Master. Sigvard Harald Elias</td>\n",
       "      <td>male</td>\n",
       "      <td>4.0</td>\n",
       "      <td>4</td>\n",
       "      <td>2</td>\n",
       "      <td>347082</td>\n",
       "      <td>31.2750</td>\n",
       "      <td>Uknow</td>\n",
       "      <td>S</td>\n",
       "      <td>Morto</td>\n",
       "      <td>Master</td>\n",
       "      <td>6.0</td>\n",
       "      <td>Uknow</td>\n",
       "      <td>Andersson</td>\n",
       "    </tr>\n",
       "    <tr>\n",
       "      <th>909</th>\n",
       "      <td>611</td>\n",
       "      <td>0.0</td>\n",
       "      <td>3</td>\n",
       "      <td>Andersson, Mrs. Anders Johan (Alfrida Konstant...</td>\n",
       "      <td>female</td>\n",
       "      <td>39.0</td>\n",
       "      <td>1</td>\n",
       "      <td>5</td>\n",
       "      <td>347082</td>\n",
       "      <td>31.2750</td>\n",
       "      <td>Uknow</td>\n",
       "      <td>S</td>\n",
       "      <td>Morto</td>\n",
       "      <td>Mrs</td>\n",
       "      <td>31.0</td>\n",
       "      <td>Uknow</td>\n",
       "      <td>Andersson</td>\n",
       "    </tr>\n",
       "  </tbody>\n",
       "</table>\n",
       "</div>"
      ],
      "text/plain": [
       "     PassengerId  Survived  Pclass  \\\n",
       "4             14       0.0       3   \n",
       "50           147       1.0       3   \n",
       "425         1212       NaN       3   \n",
       "536           69       1.0       3   \n",
       "546          120       0.0       3   \n",
       "594          542       0.0       3   \n",
       "595          543       0.0       3   \n",
       "620          814       0.0       3   \n",
       "654         1106       NaN       3   \n",
       "861          851       0.0       3   \n",
       "909          611       0.0       3   \n",
       "\n",
       "                                                  Name     Sex   Age  SibSp  \\\n",
       "4                          Andersson, Mr. Anders Johan    male  39.0      1   \n",
       "50        Andersson, Mr. August Edvard (\"Wennerstrom\")    male  27.0      0   \n",
       "425                        Andersson, Mr. Johan Samuel    male  26.0      0   \n",
       "536                    Andersson, Miss. Erna Alexandra  female  17.0      4   \n",
       "546                  Andersson, Miss. Ellis Anna Maria  female   2.0      4   \n",
       "594               Andersson, Miss. Ingeborg Constanzia  female   9.0      4   \n",
       "595                  Andersson, Miss. Sigrid Elisabeth  female  11.0      4   \n",
       "620                 Andersson, Miss. Ebba Iris Alfrida  female   6.0      4   \n",
       "654             Andersson, Miss. Ida Augusta Margareta  female  38.0      4   \n",
       "861            Andersson, Master. Sigvard Harald Elias    male   4.0      4   \n",
       "909  Andersson, Mrs. Anders Johan (Alfrida Konstant...  female  39.0      1   \n",
       "\n",
       "     Parch   Ticket     Fare  Cabin Embarked Status_Survived   Title  Age_y  \\\n",
       "4        5   347082  31.2750  Uknow        S           Morto      Mr   26.0   \n",
       "50       0   350043   7.7958  Uknow        S            Vivo      Mr   26.0   \n",
       "425      0   347075   7.7750  Uknow        S             NaN      Mr   26.0   \n",
       "536      2  3101281   7.9250  Uknow        S            Vivo    Miss   18.0   \n",
       "546      2   347082  31.2750  Uknow        S           Morto    Miss   18.0   \n",
       "594      2   347082  31.2750  Uknow        S           Morto    Miss   18.0   \n",
       "595      2   347082  31.2750  Uknow        S           Morto    Miss   18.0   \n",
       "620      2   347082  31.2750  Uknow        S           Morto    Miss   18.0   \n",
       "654      2   347091   7.7750  Uknow        S             NaN    Miss   18.0   \n",
       "861      2   347082  31.2750  Uknow        S           Morto  Master    6.0   \n",
       "909      5   347082  31.2750  Uknow        S           Morto     Mrs   31.0   \n",
       "\n",
       "    Ft_Cabin Ft_Sobrenome  \n",
       "4      Uknow    Andersson  \n",
       "50     Uknow    Andersson  \n",
       "425    Uknow    Andersson  \n",
       "536    Uknow    Andersson  \n",
       "546    Uknow    Andersson  \n",
       "594    Uknow    Andersson  \n",
       "595    Uknow    Andersson  \n",
       "620    Uknow    Andersson  \n",
       "654    Uknow    Andersson  \n",
       "861    Uknow    Andersson  \n",
       "909    Uknow    Andersson  "
      ]
     },
     "execution_count": 3149,
     "metadata": {},
     "output_type": "execute_result"
    }
   ],
   "source": [
    "titanic[(titanic.Ft_Sobrenome=='Andersson')]"
   ]
  },
  {
   "cell_type": "markdown",
   "metadata": {},
   "source": [
    "## Homens e Mulheres (Solteiros/Sozinhos) (as)"
   ]
  },
  {
   "cell_type": "markdown",
   "metadata": {
    "ExecuteTime": {
     "end_time": "2019-08-01T18:35:16.128132Z",
     "start_time": "2019-08-01T18:35:15.952453Z"
    }
   },
   "source": [
    "\n",
    "### Sibsp\n"
   ]
  },
  {
   "cell_type": "markdown",
   "metadata": {},
   "source": [
    "sibsp : O conjunto de dados define relações familiares desta forma  \n",
    "Irmão = irmã, irmão, meio-irmão, irmã adotiva  \n",
    "Esposa = marido, esposa (amantes e noivas foram ignorados)  "
   ]
  },
  {
   "cell_type": "markdown",
   "metadata": {
    "ExecuteTime": {
     "end_time": "2019-08-01T21:15:27.461375Z",
     "start_time": "2019-08-01T21:15:27.388301Z"
    }
   },
   "source": [
    "### Parch\n",
    "parch : O conjunto de dados define as relações familiares desta forma   \n",
    "Pai = mãe, pai  \n",
    "Criança = filha, filho, enteada, enteado  \n",
    "Algumas crianças viajavam apenas com uma babá, portanto parch = 0 para elas."
   ]
  },
  {
   "cell_type": "code",
   "execution_count": 3150,
   "metadata": {
    "ExecuteTime": {
     "end_time": "2019-08-06T21:43:20.875836Z",
     "start_time": "2019-08-06T21:43:20.852825Z"
    }
   },
   "outputs": [],
   "source": [
    "titanic.loc[titanic.Title=='Mrs'  ,'Ft_Civil'] ='M_Casada'\n",
    "titanic.loc[(titanic.SibSp==0)&(titanic.Parch==0)&(titanic.Title=='Miss') ,'Ft_Civil'] ='M_Solteira'\n",
    "titanic.loc[(titanic.SibSp==0)&(titanic.Parch==0)&(titanic.Title=='Ms')   ,'Ft_Civil'] ='M_Solteira'\n",
    "titanic.loc[(titanic.SibSp==0)&(titanic.Parch==0)&(titanic.Title=='Mr')   ,'Ft_Civil'] ='H_Solteiro'\n"
   ]
  },
  {
   "cell_type": "code",
   "execution_count": 3151,
   "metadata": {
    "ExecuteTime": {
     "end_time": "2019-08-06T21:43:21.628043Z",
     "start_time": "2019-08-06T21:43:21.621021Z"
    }
   },
   "outputs": [],
   "source": [
    "titanic.loc[titanic.Ft_Civil.isna(),'Ft_Civil']='N_declarado'"
   ]
  },
  {
   "cell_type": "code",
   "execution_count": 3152,
   "metadata": {
    "ExecuteTime": {
     "end_time": "2019-08-06T21:43:22.577722Z",
     "start_time": "2019-08-06T21:43:22.557726Z"
    }
   },
   "outputs": [
    {
     "data": {
      "text/html": [
       "<div>\n",
       "<style scoped>\n",
       "    .dataframe tbody tr th:only-of-type {\n",
       "        vertical-align: middle;\n",
       "    }\n",
       "\n",
       "    .dataframe tbody tr th {\n",
       "        vertical-align: top;\n",
       "    }\n",
       "\n",
       "    .dataframe thead th {\n",
       "        text-align: right;\n",
       "    }\n",
       "</style>\n",
       "<table border=\"1\" class=\"dataframe\">\n",
       "  <thead>\n",
       "    <tr style=\"text-align: right;\">\n",
       "      <th></th>\n",
       "      <th>PassengerId</th>\n",
       "      <th>Survived</th>\n",
       "      <th>Pclass</th>\n",
       "      <th>Name</th>\n",
       "      <th>Sex</th>\n",
       "      <th>Age</th>\n",
       "      <th>SibSp</th>\n",
       "      <th>Parch</th>\n",
       "      <th>Ticket</th>\n",
       "      <th>Fare</th>\n",
       "      <th>Cabin</th>\n",
       "      <th>Embarked</th>\n",
       "      <th>Status_Survived</th>\n",
       "      <th>Title</th>\n",
       "      <th>Age_y</th>\n",
       "      <th>Ft_Cabin</th>\n",
       "      <th>Ft_Sobrenome</th>\n",
       "      <th>Ft_Civil</th>\n",
       "    </tr>\n",
       "  </thead>\n",
       "  <tbody>\n",
       "    <tr>\n",
       "      <th>35</th>\n",
       "      <td>105</td>\n",
       "      <td>0.0</td>\n",
       "      <td>3</td>\n",
       "      <td>Gustafsson, Mr. Anders Vilhelm</td>\n",
       "      <td>male</td>\n",
       "      <td>37.0</td>\n",
       "      <td>2</td>\n",
       "      <td>0</td>\n",
       "      <td>3101276</td>\n",
       "      <td>7.9250</td>\n",
       "      <td>Uknow</td>\n",
       "      <td>S</td>\n",
       "      <td>Morto</td>\n",
       "      <td>Mr</td>\n",
       "      <td>26.0</td>\n",
       "      <td>Uknow</td>\n",
       "      <td>Gustafsson</td>\n",
       "      <td>N_declarado</td>\n",
       "    </tr>\n",
       "    <tr>\n",
       "      <th>124</th>\n",
       "      <td>380</td>\n",
       "      <td>0.0</td>\n",
       "      <td>3</td>\n",
       "      <td>Gustafsson, Mr. Karl Gideon</td>\n",
       "      <td>male</td>\n",
       "      <td>19.0</td>\n",
       "      <td>0</td>\n",
       "      <td>0</td>\n",
       "      <td>347069</td>\n",
       "      <td>7.7750</td>\n",
       "      <td>Uknow</td>\n",
       "      <td>S</td>\n",
       "      <td>Morto</td>\n",
       "      <td>Mr</td>\n",
       "      <td>26.0</td>\n",
       "      <td>Uknow</td>\n",
       "      <td>Gustafsson</td>\n",
       "      <td>H_Solteiro</td>\n",
       "    </tr>\n",
       "    <tr>\n",
       "      <th>129</th>\n",
       "      <td>393</td>\n",
       "      <td>0.0</td>\n",
       "      <td>3</td>\n",
       "      <td>Gustafsson, Mr. Johan Birger</td>\n",
       "      <td>male</td>\n",
       "      <td>28.0</td>\n",
       "      <td>2</td>\n",
       "      <td>0</td>\n",
       "      <td>3101277</td>\n",
       "      <td>7.9250</td>\n",
       "      <td>Uknow</td>\n",
       "      <td>S</td>\n",
       "      <td>Morto</td>\n",
       "      <td>Mr</td>\n",
       "      <td>26.0</td>\n",
       "      <td>Uknow</td>\n",
       "      <td>Gustafsson</td>\n",
       "      <td>N_declarado</td>\n",
       "    </tr>\n",
       "    <tr>\n",
       "      <th>313</th>\n",
       "      <td>877</td>\n",
       "      <td>0.0</td>\n",
       "      <td>3</td>\n",
       "      <td>Gustafsson, Mr. Alfred Ossian</td>\n",
       "      <td>male</td>\n",
       "      <td>20.0</td>\n",
       "      <td>0</td>\n",
       "      <td>0</td>\n",
       "      <td>7534</td>\n",
       "      <td>9.8458</td>\n",
       "      <td>Uknow</td>\n",
       "      <td>S</td>\n",
       "      <td>Morto</td>\n",
       "      <td>Mr</td>\n",
       "      <td>26.0</td>\n",
       "      <td>Uknow</td>\n",
       "      <td>Gustafsson</td>\n",
       "      <td>H_Solteiro</td>\n",
       "    </tr>\n",
       "  </tbody>\n",
       "</table>\n",
       "</div>"
      ],
      "text/plain": [
       "     PassengerId  Survived  Pclass                            Name   Sex  \\\n",
       "35           105       0.0       3  Gustafsson, Mr. Anders Vilhelm  male   \n",
       "124          380       0.0       3     Gustafsson, Mr. Karl Gideon  male   \n",
       "129          393       0.0       3    Gustafsson, Mr. Johan Birger  male   \n",
       "313          877       0.0       3   Gustafsson, Mr. Alfred Ossian  male   \n",
       "\n",
       "      Age  SibSp  Parch   Ticket    Fare  Cabin Embarked Status_Survived  \\\n",
       "35   37.0      2      0  3101276  7.9250  Uknow        S           Morto   \n",
       "124  19.0      0      0   347069  7.7750  Uknow        S           Morto   \n",
       "129  28.0      2      0  3101277  7.9250  Uknow        S           Morto   \n",
       "313  20.0      0      0     7534  9.8458  Uknow        S           Morto   \n",
       "\n",
       "    Title  Age_y Ft_Cabin Ft_Sobrenome     Ft_Civil  \n",
       "35     Mr   26.0    Uknow   Gustafsson  N_declarado  \n",
       "124    Mr   26.0    Uknow   Gustafsson   H_Solteiro  \n",
       "129    Mr   26.0    Uknow   Gustafsson  N_declarado  \n",
       "313    Mr   26.0    Uknow   Gustafsson   H_Solteiro  "
      ]
     },
     "execution_count": 3152,
     "metadata": {},
     "output_type": "execute_result"
    }
   ],
   "source": [
    "titanic[(titanic.Ft_Sobrenome=='Gustafsson')]"
   ]
  },
  {
   "cell_type": "code",
   "execution_count": 3153,
   "metadata": {
    "ExecuteTime": {
     "end_time": "2019-08-06T21:43:23.577787Z",
     "start_time": "2019-08-06T21:43:23.514224Z"
    }
   },
   "outputs": [
    {
     "data": {
      "text/html": [
       "<div>\n",
       "<style scoped>\n",
       "    .dataframe tbody tr th:only-of-type {\n",
       "        vertical-align: middle;\n",
       "    }\n",
       "\n",
       "    .dataframe tbody tr th {\n",
       "        vertical-align: top;\n",
       "    }\n",
       "\n",
       "    .dataframe thead th {\n",
       "        text-align: right;\n",
       "    }\n",
       "</style>\n",
       "<table border=\"1\" class=\"dataframe\">\n",
       "  <thead>\n",
       "    <tr style=\"text-align: right;\">\n",
       "      <th></th>\n",
       "      <th>PassengerId</th>\n",
       "      <th>Survived</th>\n",
       "      <th>Pclass</th>\n",
       "      <th>Name</th>\n",
       "      <th>Sex</th>\n",
       "      <th>Age</th>\n",
       "      <th>SibSp</th>\n",
       "      <th>Parch</th>\n",
       "      <th>Ticket</th>\n",
       "      <th>Fare</th>\n",
       "      <th>Cabin</th>\n",
       "      <th>Embarked</th>\n",
       "      <th>Status_Survived</th>\n",
       "      <th>Title</th>\n",
       "      <th>Age_y</th>\n",
       "      <th>Ft_Cabin</th>\n",
       "      <th>Ft_Sobrenome</th>\n",
       "      <th>Ft_Civil</th>\n",
       "    </tr>\n",
       "  </thead>\n",
       "  <tbody>\n",
       "    <tr>\n",
       "      <th>0</th>\n",
       "      <td>1</td>\n",
       "      <td>0.0</td>\n",
       "      <td>3</td>\n",
       "      <td>Braund, Mr. Owen Harris</td>\n",
       "      <td>male</td>\n",
       "      <td>22.00</td>\n",
       "      <td>1</td>\n",
       "      <td>0</td>\n",
       "      <td>A/5 21171</td>\n",
       "      <td>7.2500</td>\n",
       "      <td>Uknow</td>\n",
       "      <td>S</td>\n",
       "      <td>Morto</td>\n",
       "      <td>Mr</td>\n",
       "      <td>26.0</td>\n",
       "      <td>A</td>\n",
       "      <td>Braund</td>\n",
       "      <td>N_declarado</td>\n",
       "    </tr>\n",
       "    <tr>\n",
       "      <th>4</th>\n",
       "      <td>14</td>\n",
       "      <td>0.0</td>\n",
       "      <td>3</td>\n",
       "      <td>Andersson, Mr. Anders Johan</td>\n",
       "      <td>male</td>\n",
       "      <td>39.00</td>\n",
       "      <td>1</td>\n",
       "      <td>5</td>\n",
       "      <td>347082</td>\n",
       "      <td>31.2750</td>\n",
       "      <td>Uknow</td>\n",
       "      <td>S</td>\n",
       "      <td>Morto</td>\n",
       "      <td>Mr</td>\n",
       "      <td>26.0</td>\n",
       "      <td>Uknow</td>\n",
       "      <td>Andersson</td>\n",
       "      <td>N_declarado</td>\n",
       "    </tr>\n",
       "    <tr>\n",
       "      <th>11</th>\n",
       "      <td>47</td>\n",
       "      <td>0.0</td>\n",
       "      <td>3</td>\n",
       "      <td>Lennon, Mr. Denis</td>\n",
       "      <td>male</td>\n",
       "      <td>26.00</td>\n",
       "      <td>1</td>\n",
       "      <td>0</td>\n",
       "      <td>370371</td>\n",
       "      <td>15.5000</td>\n",
       "      <td>Uknow</td>\n",
       "      <td>Q</td>\n",
       "      <td>Morto</td>\n",
       "      <td>Mr</td>\n",
       "      <td>26.0</td>\n",
       "      <td>Uknow</td>\n",
       "      <td>Lennon</td>\n",
       "      <td>N_declarado</td>\n",
       "    </tr>\n",
       "    <tr>\n",
       "      <th>12</th>\n",
       "      <td>49</td>\n",
       "      <td>0.0</td>\n",
       "      <td>3</td>\n",
       "      <td>Samaan, Mr. Youssef</td>\n",
       "      <td>male</td>\n",
       "      <td>26.00</td>\n",
       "      <td>2</td>\n",
       "      <td>0</td>\n",
       "      <td>2662</td>\n",
       "      <td>21.6792</td>\n",
       "      <td>Uknow</td>\n",
       "      <td>C</td>\n",
       "      <td>Morto</td>\n",
       "      <td>Mr</td>\n",
       "      <td>26.0</td>\n",
       "      <td>Uknow</td>\n",
       "      <td>Samaan</td>\n",
       "      <td>N_declarado</td>\n",
       "    </tr>\n",
       "    <tr>\n",
       "      <th>17</th>\n",
       "      <td>70</td>\n",
       "      <td>0.0</td>\n",
       "      <td>3</td>\n",
       "      <td>Kink, Mr. Vincenz</td>\n",
       "      <td>male</td>\n",
       "      <td>26.00</td>\n",
       "      <td>2</td>\n",
       "      <td>0</td>\n",
       "      <td>315151</td>\n",
       "      <td>8.6625</td>\n",
       "      <td>Uknow</td>\n",
       "      <td>S</td>\n",
       "      <td>Morto</td>\n",
       "      <td>Mr</td>\n",
       "      <td>26.0</td>\n",
       "      <td>Uknow</td>\n",
       "      <td>Kink</td>\n",
       "      <td>N_declarado</td>\n",
       "    </tr>\n",
       "    <tr>\n",
       "      <th>18</th>\n",
       "      <td>74</td>\n",
       "      <td>0.0</td>\n",
       "      <td>3</td>\n",
       "      <td>Chronopoulos, Mr. Apostolos</td>\n",
       "      <td>male</td>\n",
       "      <td>26.00</td>\n",
       "      <td>1</td>\n",
       "      <td>0</td>\n",
       "      <td>2680</td>\n",
       "      <td>14.4542</td>\n",
       "      <td>Uknow</td>\n",
       "      <td>C</td>\n",
       "      <td>Morto</td>\n",
       "      <td>Mr</td>\n",
       "      <td>26.0</td>\n",
       "      <td>Uknow</td>\n",
       "      <td>Chronopoulos</td>\n",
       "      <td>N_declarado</td>\n",
       "    </tr>\n",
       "    <tr>\n",
       "      <th>25</th>\n",
       "      <td>87</td>\n",
       "      <td>0.0</td>\n",
       "      <td>3</td>\n",
       "      <td>Ford, Mr. William Neal</td>\n",
       "      <td>male</td>\n",
       "      <td>16.00</td>\n",
       "      <td>1</td>\n",
       "      <td>3</td>\n",
       "      <td>W./C. 6608</td>\n",
       "      <td>34.3750</td>\n",
       "      <td>Uknow</td>\n",
       "      <td>S</td>\n",
       "      <td>Morto</td>\n",
       "      <td>Mr</td>\n",
       "      <td>26.0</td>\n",
       "      <td>G</td>\n",
       "      <td>Ford</td>\n",
       "      <td>N_declarado</td>\n",
       "    </tr>\n",
       "    <tr>\n",
       "      <th>30</th>\n",
       "      <td>94</td>\n",
       "      <td>0.0</td>\n",
       "      <td>3</td>\n",
       "      <td>Dean, Mr. Bertram Frank</td>\n",
       "      <td>male</td>\n",
       "      <td>26.00</td>\n",
       "      <td>1</td>\n",
       "      <td>2</td>\n",
       "      <td>C.A. 2315</td>\n",
       "      <td>20.5750</td>\n",
       "      <td>Uknow</td>\n",
       "      <td>S</td>\n",
       "      <td>Morto</td>\n",
       "      <td>Mr</td>\n",
       "      <td>26.0</td>\n",
       "      <td>C</td>\n",
       "      <td>Dean</td>\n",
       "      <td>N_declarado</td>\n",
       "    </tr>\n",
       "    <tr>\n",
       "      <th>35</th>\n",
       "      <td>105</td>\n",
       "      <td>0.0</td>\n",
       "      <td>3</td>\n",
       "      <td>Gustafsson, Mr. Anders Vilhelm</td>\n",
       "      <td>male</td>\n",
       "      <td>37.00</td>\n",
       "      <td>2</td>\n",
       "      <td>0</td>\n",
       "      <td>3101276</td>\n",
       "      <td>7.9250</td>\n",
       "      <td>Uknow</td>\n",
       "      <td>S</td>\n",
       "      <td>Morto</td>\n",
       "      <td>Mr</td>\n",
       "      <td>26.0</td>\n",
       "      <td>Uknow</td>\n",
       "      <td>Gustafsson</td>\n",
       "      <td>N_declarado</td>\n",
       "    </tr>\n",
       "    <tr>\n",
       "      <th>52</th>\n",
       "      <td>154</td>\n",
       "      <td>0.0</td>\n",
       "      <td>3</td>\n",
       "      <td>van Billiard, Mr. Austin Blyler</td>\n",
       "      <td>male</td>\n",
       "      <td>40.50</td>\n",
       "      <td>0</td>\n",
       "      <td>2</td>\n",
       "      <td>A/5. 851</td>\n",
       "      <td>14.5000</td>\n",
       "      <td>Uknow</td>\n",
       "      <td>S</td>\n",
       "      <td>Morto</td>\n",
       "      <td>Mr</td>\n",
       "      <td>26.0</td>\n",
       "      <td>A</td>\n",
       "      <td>van Billiard</td>\n",
       "      <td>N_declarado</td>\n",
       "    </tr>\n",
       "    <tr>\n",
       "      <th>56</th>\n",
       "      <td>161</td>\n",
       "      <td>0.0</td>\n",
       "      <td>3</td>\n",
       "      <td>Cribb, Mr. John Hatfield</td>\n",
       "      <td>male</td>\n",
       "      <td>44.00</td>\n",
       "      <td>0</td>\n",
       "      <td>1</td>\n",
       "      <td>371362</td>\n",
       "      <td>16.1000</td>\n",
       "      <td>Uknow</td>\n",
       "      <td>S</td>\n",
       "      <td>Morto</td>\n",
       "      <td>Mr</td>\n",
       "      <td>26.0</td>\n",
       "      <td>Uknow</td>\n",
       "      <td>Cribb</td>\n",
       "      <td>N_declarado</td>\n",
       "    </tr>\n",
       "    <tr>\n",
       "      <th>61</th>\n",
       "      <td>176</td>\n",
       "      <td>0.0</td>\n",
       "      <td>3</td>\n",
       "      <td>Klasen, Mr. Klas Albin</td>\n",
       "      <td>male</td>\n",
       "      <td>18.00</td>\n",
       "      <td>1</td>\n",
       "      <td>1</td>\n",
       "      <td>350404</td>\n",
       "      <td>7.8542</td>\n",
       "      <td>Uknow</td>\n",
       "      <td>S</td>\n",
       "      <td>Morto</td>\n",
       "      <td>Mr</td>\n",
       "      <td>26.0</td>\n",
       "      <td>Uknow</td>\n",
       "      <td>Klasen</td>\n",
       "      <td>N_declarado</td>\n",
       "    </tr>\n",
       "    <tr>\n",
       "      <th>63</th>\n",
       "      <td>189</td>\n",
       "      <td>0.0</td>\n",
       "      <td>3</td>\n",
       "      <td>Bourke, Mr. John</td>\n",
       "      <td>male</td>\n",
       "      <td>40.00</td>\n",
       "      <td>1</td>\n",
       "      <td>1</td>\n",
       "      <td>364849</td>\n",
       "      <td>15.5000</td>\n",
       "      <td>Uknow</td>\n",
       "      <td>Q</td>\n",
       "      <td>Morto</td>\n",
       "      <td>Mr</td>\n",
       "      <td>26.0</td>\n",
       "      <td>Uknow</td>\n",
       "      <td>Bourke</td>\n",
       "      <td>N_declarado</td>\n",
       "    </tr>\n",
       "    <tr>\n",
       "      <th>66</th>\n",
       "      <td>198</td>\n",
       "      <td>0.0</td>\n",
       "      <td>3</td>\n",
       "      <td>Olsen, Mr. Karl Siegwart Andreas</td>\n",
       "      <td>male</td>\n",
       "      <td>42.00</td>\n",
       "      <td>0</td>\n",
       "      <td>1</td>\n",
       "      <td>4579</td>\n",
       "      <td>8.4042</td>\n",
       "      <td>Uknow</td>\n",
       "      <td>S</td>\n",
       "      <td>Morto</td>\n",
       "      <td>Mr</td>\n",
       "      <td>26.0</td>\n",
       "      <td>Uknow</td>\n",
       "      <td>Olsen</td>\n",
       "      <td>N_declarado</td>\n",
       "    </tr>\n",
       "    <tr>\n",
       "      <th>68</th>\n",
       "      <td>202</td>\n",
       "      <td>0.0</td>\n",
       "      <td>3</td>\n",
       "      <td>Sage, Mr. Frederick</td>\n",
       "      <td>male</td>\n",
       "      <td>26.00</td>\n",
       "      <td>8</td>\n",
       "      <td>2</td>\n",
       "      <td>CA. 2343</td>\n",
       "      <td>69.5500</td>\n",
       "      <td>Uknow</td>\n",
       "      <td>S</td>\n",
       "      <td>Morto</td>\n",
       "      <td>Mr</td>\n",
       "      <td>26.0</td>\n",
       "      <td>C</td>\n",
       "      <td>Sage</td>\n",
       "      <td>N_declarado</td>\n",
       "    </tr>\n",
       "    <tr>\n",
       "      <th>72</th>\n",
       "      <td>207</td>\n",
       "      <td>0.0</td>\n",
       "      <td>3</td>\n",
       "      <td>Backstrom, Mr. Karl Alfred</td>\n",
       "      <td>male</td>\n",
       "      <td>32.00</td>\n",
       "      <td>1</td>\n",
       "      <td>0</td>\n",
       "      <td>3101278</td>\n",
       "      <td>15.8500</td>\n",
       "      <td>Uknow</td>\n",
       "      <td>S</td>\n",
       "      <td>Morto</td>\n",
       "      <td>Mr</td>\n",
       "      <td>26.0</td>\n",
       "      <td>Uknow</td>\n",
       "      <td>Backstrom</td>\n",
       "      <td>N_declarado</td>\n",
       "    </tr>\n",
       "    <tr>\n",
       "      <th>76</th>\n",
       "      <td>215</td>\n",
       "      <td>0.0</td>\n",
       "      <td>3</td>\n",
       "      <td>Kiernan, Mr. Philip</td>\n",
       "      <td>male</td>\n",
       "      <td>26.00</td>\n",
       "      <td>1</td>\n",
       "      <td>0</td>\n",
       "      <td>367229</td>\n",
       "      <td>7.7500</td>\n",
       "      <td>Uknow</td>\n",
       "      <td>Q</td>\n",
       "      <td>Morto</td>\n",
       "      <td>Mr</td>\n",
       "      <td>26.0</td>\n",
       "      <td>Uknow</td>\n",
       "      <td>Kiernan</td>\n",
       "      <td>N_declarado</td>\n",
       "    </tr>\n",
       "    <tr>\n",
       "      <th>86</th>\n",
       "      <td>254</td>\n",
       "      <td>0.0</td>\n",
       "      <td>3</td>\n",
       "      <td>Lobb, Mr. William Arthur</td>\n",
       "      <td>male</td>\n",
       "      <td>30.00</td>\n",
       "      <td>1</td>\n",
       "      <td>0</td>\n",
       "      <td>A/5. 3336</td>\n",
       "      <td>16.1000</td>\n",
       "      <td>Uknow</td>\n",
       "      <td>S</td>\n",
       "      <td>Morto</td>\n",
       "      <td>Mr</td>\n",
       "      <td>26.0</td>\n",
       "      <td>A</td>\n",
       "      <td>Lobb</td>\n",
       "      <td>N_declarado</td>\n",
       "    </tr>\n",
       "    <tr>\n",
       "      <th>88</th>\n",
       "      <td>267</td>\n",
       "      <td>0.0</td>\n",
       "      <td>3</td>\n",
       "      <td>Panula, Mr. Ernesti Arvid</td>\n",
       "      <td>male</td>\n",
       "      <td>16.00</td>\n",
       "      <td>4</td>\n",
       "      <td>1</td>\n",
       "      <td>3101295</td>\n",
       "      <td>39.6875</td>\n",
       "      <td>Uknow</td>\n",
       "      <td>S</td>\n",
       "      <td>Morto</td>\n",
       "      <td>Mr</td>\n",
       "      <td>26.0</td>\n",
       "      <td>Uknow</td>\n",
       "      <td>Panula</td>\n",
       "      <td>N_declarado</td>\n",
       "    </tr>\n",
       "    <tr>\n",
       "      <th>89</th>\n",
       "      <td>268</td>\n",
       "      <td>1.0</td>\n",
       "      <td>3</td>\n",
       "      <td>Persson, Mr. Ernst Ulrik</td>\n",
       "      <td>male</td>\n",
       "      <td>25.00</td>\n",
       "      <td>1</td>\n",
       "      <td>0</td>\n",
       "      <td>347083</td>\n",
       "      <td>7.7750</td>\n",
       "      <td>Uknow</td>\n",
       "      <td>S</td>\n",
       "      <td>Vivo</td>\n",
       "      <td>Mr</td>\n",
       "      <td>26.0</td>\n",
       "      <td>Uknow</td>\n",
       "      <td>Persson</td>\n",
       "      <td>N_declarado</td>\n",
       "    </tr>\n",
       "    <tr>\n",
       "      <th>100</th>\n",
       "      <td>302</td>\n",
       "      <td>1.0</td>\n",
       "      <td>3</td>\n",
       "      <td>McCoy, Mr. Bernard</td>\n",
       "      <td>male</td>\n",
       "      <td>26.00</td>\n",
       "      <td>2</td>\n",
       "      <td>0</td>\n",
       "      <td>367226</td>\n",
       "      <td>23.2500</td>\n",
       "      <td>Uknow</td>\n",
       "      <td>Q</td>\n",
       "      <td>Vivo</td>\n",
       "      <td>Mr</td>\n",
       "      <td>26.0</td>\n",
       "      <td>Uknow</td>\n",
       "      <td>McCoy</td>\n",
       "      <td>N_declarado</td>\n",
       "    </tr>\n",
       "    <tr>\n",
       "      <th>106</th>\n",
       "      <td>325</td>\n",
       "      <td>0.0</td>\n",
       "      <td>3</td>\n",
       "      <td>Sage, Mr. George John Jr</td>\n",
       "      <td>male</td>\n",
       "      <td>26.00</td>\n",
       "      <td>8</td>\n",
       "      <td>2</td>\n",
       "      <td>CA. 2343</td>\n",
       "      <td>69.5500</td>\n",
       "      <td>Uknow</td>\n",
       "      <td>S</td>\n",
       "      <td>Morto</td>\n",
       "      <td>Mr</td>\n",
       "      <td>26.0</td>\n",
       "      <td>C</td>\n",
       "      <td>Sage</td>\n",
       "      <td>N_declarado</td>\n",
       "    </tr>\n",
       "    <tr>\n",
       "      <th>108</th>\n",
       "      <td>334</td>\n",
       "      <td>0.0</td>\n",
       "      <td>3</td>\n",
       "      <td>Vander Planke, Mr. Leo Edmondus</td>\n",
       "      <td>male</td>\n",
       "      <td>16.00</td>\n",
       "      <td>2</td>\n",
       "      <td>0</td>\n",
       "      <td>345764</td>\n",
       "      <td>18.0000</td>\n",
       "      <td>Uknow</td>\n",
       "      <td>S</td>\n",
       "      <td>Morto</td>\n",
       "      <td>Mr</td>\n",
       "      <td>26.0</td>\n",
       "      <td>Uknow</td>\n",
       "      <td>Vander Planke</td>\n",
       "      <td>N_declarado</td>\n",
       "    </tr>\n",
       "    <tr>\n",
       "      <th>113</th>\n",
       "      <td>353</td>\n",
       "      <td>0.0</td>\n",
       "      <td>3</td>\n",
       "      <td>Elias, Mr. Tannous</td>\n",
       "      <td>male</td>\n",
       "      <td>15.00</td>\n",
       "      <td>1</td>\n",
       "      <td>1</td>\n",
       "      <td>2695</td>\n",
       "      <td>7.2292</td>\n",
       "      <td>Uknow</td>\n",
       "      <td>C</td>\n",
       "      <td>Morto</td>\n",
       "      <td>Mr</td>\n",
       "      <td>26.0</td>\n",
       "      <td>Uknow</td>\n",
       "      <td>Elias</td>\n",
       "      <td>N_declarado</td>\n",
       "    </tr>\n",
       "    <tr>\n",
       "      <th>114</th>\n",
       "      <td>354</td>\n",
       "      <td>0.0</td>\n",
       "      <td>3</td>\n",
       "      <td>Arnold-Franchi, Mr. Josef</td>\n",
       "      <td>male</td>\n",
       "      <td>25.00</td>\n",
       "      <td>1</td>\n",
       "      <td>0</td>\n",
       "      <td>349237</td>\n",
       "      <td>17.8000</td>\n",
       "      <td>Uknow</td>\n",
       "      <td>S</td>\n",
       "      <td>Morto</td>\n",
       "      <td>Mr</td>\n",
       "      <td>26.0</td>\n",
       "      <td>Uknow</td>\n",
       "      <td>Arnold-Franchi</td>\n",
       "      <td>N_declarado</td>\n",
       "    </tr>\n",
       "    <tr>\n",
       "      <th>117</th>\n",
       "      <td>361</td>\n",
       "      <td>0.0</td>\n",
       "      <td>3</td>\n",
       "      <td>Skoog, Mr. Wilhelm</td>\n",
       "      <td>male</td>\n",
       "      <td>40.00</td>\n",
       "      <td>1</td>\n",
       "      <td>4</td>\n",
       "      <td>347088</td>\n",
       "      <td>27.9000</td>\n",
       "      <td>Uknow</td>\n",
       "      <td>S</td>\n",
       "      <td>Morto</td>\n",
       "      <td>Mr</td>\n",
       "      <td>26.0</td>\n",
       "      <td>Uknow</td>\n",
       "      <td>Skoog</td>\n",
       "      <td>N_declarado</td>\n",
       "    </tr>\n",
       "    <tr>\n",
       "      <th>119</th>\n",
       "      <td>365</td>\n",
       "      <td>0.0</td>\n",
       "      <td>3</td>\n",
       "      <td>O'Brien, Mr. Thomas</td>\n",
       "      <td>male</td>\n",
       "      <td>26.00</td>\n",
       "      <td>1</td>\n",
       "      <td>0</td>\n",
       "      <td>370365</td>\n",
       "      <td>15.5000</td>\n",
       "      <td>Uknow</td>\n",
       "      <td>Q</td>\n",
       "      <td>Morto</td>\n",
       "      <td>Mr</td>\n",
       "      <td>26.0</td>\n",
       "      <td>Uknow</td>\n",
       "      <td>O'Brien</td>\n",
       "      <td>N_declarado</td>\n",
       "    </tr>\n",
       "    <tr>\n",
       "      <th>121</th>\n",
       "      <td>372</td>\n",
       "      <td>0.0</td>\n",
       "      <td>3</td>\n",
       "      <td>Wiklund, Mr. Jakob Alfred</td>\n",
       "      <td>male</td>\n",
       "      <td>18.00</td>\n",
       "      <td>1</td>\n",
       "      <td>0</td>\n",
       "      <td>3101267</td>\n",
       "      <td>6.4958</td>\n",
       "      <td>Uknow</td>\n",
       "      <td>S</td>\n",
       "      <td>Morto</td>\n",
       "      <td>Mr</td>\n",
       "      <td>26.0</td>\n",
       "      <td>Uknow</td>\n",
       "      <td>Wiklund</td>\n",
       "      <td>N_declarado</td>\n",
       "    </tr>\n",
       "    <tr>\n",
       "      <th>129</th>\n",
       "      <td>393</td>\n",
       "      <td>0.0</td>\n",
       "      <td>3</td>\n",
       "      <td>Gustafsson, Mr. Johan Birger</td>\n",
       "      <td>male</td>\n",
       "      <td>28.00</td>\n",
       "      <td>2</td>\n",
       "      <td>0</td>\n",
       "      <td>3101277</td>\n",
       "      <td>7.9250</td>\n",
       "      <td>Uknow</td>\n",
       "      <td>S</td>\n",
       "      <td>Morto</td>\n",
       "      <td>Mr</td>\n",
       "      <td>26.0</td>\n",
       "      <td>Uknow</td>\n",
       "      <td>Gustafsson</td>\n",
       "      <td>N_declarado</td>\n",
       "    </tr>\n",
       "    <tr>\n",
       "      <th>133</th>\n",
       "      <td>404</td>\n",
       "      <td>0.0</td>\n",
       "      <td>3</td>\n",
       "      <td>Hakkarainen, Mr. Pekka Pietari</td>\n",
       "      <td>male</td>\n",
       "      <td>28.00</td>\n",
       "      <td>1</td>\n",
       "      <td>0</td>\n",
       "      <td>STON/O2. 3101279</td>\n",
       "      <td>15.8500</td>\n",
       "      <td>Uknow</td>\n",
       "      <td>S</td>\n",
       "      <td>Morto</td>\n",
       "      <td>Mr</td>\n",
       "      <td>26.0</td>\n",
       "      <td>S</td>\n",
       "      <td>Hakkarainen</td>\n",
       "      <td>N_declarado</td>\n",
       "    </tr>\n",
       "    <tr>\n",
       "      <th>...</th>\n",
       "      <td>...</td>\n",
       "      <td>...</td>\n",
       "      <td>...</td>\n",
       "      <td>...</td>\n",
       "      <td>...</td>\n",
       "      <td>...</td>\n",
       "      <td>...</td>\n",
       "      <td>...</td>\n",
       "      <td>...</td>\n",
       "      <td>...</td>\n",
       "      <td>...</td>\n",
       "      <td>...</td>\n",
       "      <td>...</td>\n",
       "      <td>...</td>\n",
       "      <td>...</td>\n",
       "      <td>...</td>\n",
       "      <td>...</td>\n",
       "      <td>...</td>\n",
       "    </tr>\n",
       "    <tr>\n",
       "      <th>1278</th>\n",
       "      <td>1167</td>\n",
       "      <td>NaN</td>\n",
       "      <td>2</td>\n",
       "      <td>Bryhl, Miss. Dagmar Jenny Ingeborg</td>\n",
       "      <td>female</td>\n",
       "      <td>20.00</td>\n",
       "      <td>1</td>\n",
       "      <td>0</td>\n",
       "      <td>236853</td>\n",
       "      <td>26.0000</td>\n",
       "      <td>Uknow</td>\n",
       "      <td>S</td>\n",
       "      <td>NaN</td>\n",
       "      <td>Miss</td>\n",
       "      <td>20.0</td>\n",
       "      <td>Uknow</td>\n",
       "      <td>Bryhl</td>\n",
       "      <td>N_declarado</td>\n",
       "    </tr>\n",
       "    <tr>\n",
       "      <th>1279</th>\n",
       "      <td>1188</td>\n",
       "      <td>NaN</td>\n",
       "      <td>2</td>\n",
       "      <td>Laroche, Miss. Louise</td>\n",
       "      <td>female</td>\n",
       "      <td>1.00</td>\n",
       "      <td>1</td>\n",
       "      <td>2</td>\n",
       "      <td>SC/Paris 2123</td>\n",
       "      <td>41.5792</td>\n",
       "      <td>Uknow</td>\n",
       "      <td>C</td>\n",
       "      <td>NaN</td>\n",
       "      <td>Miss</td>\n",
       "      <td>20.0</td>\n",
       "      <td>S</td>\n",
       "      <td>Laroche</td>\n",
       "      <td>N_declarado</td>\n",
       "    </tr>\n",
       "    <tr>\n",
       "      <th>1280</th>\n",
       "      <td>1218</td>\n",
       "      <td>NaN</td>\n",
       "      <td>2</td>\n",
       "      <td>Becker, Miss. Ruth Elizabeth</td>\n",
       "      <td>female</td>\n",
       "      <td>12.00</td>\n",
       "      <td>2</td>\n",
       "      <td>1</td>\n",
       "      <td>230136</td>\n",
       "      <td>39.0000</td>\n",
       "      <td>F4</td>\n",
       "      <td>S</td>\n",
       "      <td>NaN</td>\n",
       "      <td>Miss</td>\n",
       "      <td>20.0</td>\n",
       "      <td>F</td>\n",
       "      <td>Becker</td>\n",
       "      <td>N_declarado</td>\n",
       "    </tr>\n",
       "    <tr>\n",
       "      <th>1282</th>\n",
       "      <td>1277</td>\n",
       "      <td>NaN</td>\n",
       "      <td>2</td>\n",
       "      <td>Herman, Miss. Kate</td>\n",
       "      <td>female</td>\n",
       "      <td>24.00</td>\n",
       "      <td>1</td>\n",
       "      <td>2</td>\n",
       "      <td>220845</td>\n",
       "      <td>65.0000</td>\n",
       "      <td>Uknow</td>\n",
       "      <td>S</td>\n",
       "      <td>NaN</td>\n",
       "      <td>Miss</td>\n",
       "      <td>20.0</td>\n",
       "      <td>Uknow</td>\n",
       "      <td>Herman</td>\n",
       "      <td>N_declarado</td>\n",
       "    </tr>\n",
       "    <tr>\n",
       "      <th>1283</th>\n",
       "      <td>79</td>\n",
       "      <td>1.0</td>\n",
       "      <td>2</td>\n",
       "      <td>Caldwell, Master. Alden Gates</td>\n",
       "      <td>male</td>\n",
       "      <td>0.83</td>\n",
       "      <td>0</td>\n",
       "      <td>2</td>\n",
       "      <td>248738</td>\n",
       "      <td>29.0000</td>\n",
       "      <td>Uknow</td>\n",
       "      <td>S</td>\n",
       "      <td>Vivo</td>\n",
       "      <td>Master</td>\n",
       "      <td>2.0</td>\n",
       "      <td>Uknow</td>\n",
       "      <td>Caldwell</td>\n",
       "      <td>N_declarado</td>\n",
       "    </tr>\n",
       "    <tr>\n",
       "      <th>1284</th>\n",
       "      <td>184</td>\n",
       "      <td>1.0</td>\n",
       "      <td>2</td>\n",
       "      <td>Becker, Master. Richard F</td>\n",
       "      <td>male</td>\n",
       "      <td>1.00</td>\n",
       "      <td>2</td>\n",
       "      <td>1</td>\n",
       "      <td>230136</td>\n",
       "      <td>39.0000</td>\n",
       "      <td>F4</td>\n",
       "      <td>S</td>\n",
       "      <td>Vivo</td>\n",
       "      <td>Master</td>\n",
       "      <td>2.0</td>\n",
       "      <td>F</td>\n",
       "      <td>Becker</td>\n",
       "      <td>N_declarado</td>\n",
       "    </tr>\n",
       "    <tr>\n",
       "      <th>1285</th>\n",
       "      <td>194</td>\n",
       "      <td>1.0</td>\n",
       "      <td>2</td>\n",
       "      <td>Navratil, Master. Michel M</td>\n",
       "      <td>male</td>\n",
       "      <td>3.00</td>\n",
       "      <td>1</td>\n",
       "      <td>1</td>\n",
       "      <td>230080</td>\n",
       "      <td>26.0000</td>\n",
       "      <td>F2</td>\n",
       "      <td>S</td>\n",
       "      <td>Vivo</td>\n",
       "      <td>Master</td>\n",
       "      <td>2.0</td>\n",
       "      <td>F</td>\n",
       "      <td>Navratil</td>\n",
       "      <td>N_declarado</td>\n",
       "    </tr>\n",
       "    <tr>\n",
       "      <th>1286</th>\n",
       "      <td>341</td>\n",
       "      <td>1.0</td>\n",
       "      <td>2</td>\n",
       "      <td>Navratil, Master. Edmond Roger</td>\n",
       "      <td>male</td>\n",
       "      <td>2.00</td>\n",
       "      <td>1</td>\n",
       "      <td>1</td>\n",
       "      <td>230080</td>\n",
       "      <td>26.0000</td>\n",
       "      <td>F2</td>\n",
       "      <td>S</td>\n",
       "      <td>Vivo</td>\n",
       "      <td>Master</td>\n",
       "      <td>2.0</td>\n",
       "      <td>F</td>\n",
       "      <td>Navratil</td>\n",
       "      <td>N_declarado</td>\n",
       "    </tr>\n",
       "    <tr>\n",
       "      <th>1287</th>\n",
       "      <td>408</td>\n",
       "      <td>1.0</td>\n",
       "      <td>2</td>\n",
       "      <td>Richards, Master. William Rowe</td>\n",
       "      <td>male</td>\n",
       "      <td>3.00</td>\n",
       "      <td>1</td>\n",
       "      <td>1</td>\n",
       "      <td>29106</td>\n",
       "      <td>18.7500</td>\n",
       "      <td>Uknow</td>\n",
       "      <td>S</td>\n",
       "      <td>Vivo</td>\n",
       "      <td>Master</td>\n",
       "      <td>2.0</td>\n",
       "      <td>Uknow</td>\n",
       "      <td>Richards</td>\n",
       "      <td>N_declarado</td>\n",
       "    </tr>\n",
       "    <tr>\n",
       "      <th>1288</th>\n",
       "      <td>550</td>\n",
       "      <td>1.0</td>\n",
       "      <td>2</td>\n",
       "      <td>Davies, Master. John Morgan Jr</td>\n",
       "      <td>male</td>\n",
       "      <td>8.00</td>\n",
       "      <td>1</td>\n",
       "      <td>1</td>\n",
       "      <td>C.A. 33112</td>\n",
       "      <td>36.7500</td>\n",
       "      <td>Uknow</td>\n",
       "      <td>S</td>\n",
       "      <td>Vivo</td>\n",
       "      <td>Master</td>\n",
       "      <td>2.0</td>\n",
       "      <td>C</td>\n",
       "      <td>Davies</td>\n",
       "      <td>N_declarado</td>\n",
       "    </tr>\n",
       "    <tr>\n",
       "      <th>1289</th>\n",
       "      <td>756</td>\n",
       "      <td>1.0</td>\n",
       "      <td>2</td>\n",
       "      <td>Hamalainen, Master. Viljo</td>\n",
       "      <td>male</td>\n",
       "      <td>0.67</td>\n",
       "      <td>1</td>\n",
       "      <td>1</td>\n",
       "      <td>250649</td>\n",
       "      <td>14.5000</td>\n",
       "      <td>Uknow</td>\n",
       "      <td>S</td>\n",
       "      <td>Vivo</td>\n",
       "      <td>Master</td>\n",
       "      <td>2.0</td>\n",
       "      <td>Uknow</td>\n",
       "      <td>Hamalainen</td>\n",
       "      <td>N_declarado</td>\n",
       "    </tr>\n",
       "    <tr>\n",
       "      <th>1290</th>\n",
       "      <td>828</td>\n",
       "      <td>1.0</td>\n",
       "      <td>2</td>\n",
       "      <td>Mallet, Master. Andre</td>\n",
       "      <td>male</td>\n",
       "      <td>1.00</td>\n",
       "      <td>0</td>\n",
       "      <td>2</td>\n",
       "      <td>S.C./PARIS 2079</td>\n",
       "      <td>37.0042</td>\n",
       "      <td>Uknow</td>\n",
       "      <td>C</td>\n",
       "      <td>Vivo</td>\n",
       "      <td>Master</td>\n",
       "      <td>2.0</td>\n",
       "      <td>S</td>\n",
       "      <td>Mallet</td>\n",
       "      <td>N_declarado</td>\n",
       "    </tr>\n",
       "    <tr>\n",
       "      <th>1291</th>\n",
       "      <td>832</td>\n",
       "      <td>1.0</td>\n",
       "      <td>2</td>\n",
       "      <td>Richards, Master. George Sibley</td>\n",
       "      <td>male</td>\n",
       "      <td>0.83</td>\n",
       "      <td>1</td>\n",
       "      <td>1</td>\n",
       "      <td>29106</td>\n",
       "      <td>18.7500</td>\n",
       "      <td>Uknow</td>\n",
       "      <td>S</td>\n",
       "      <td>Vivo</td>\n",
       "      <td>Master</td>\n",
       "      <td>2.0</td>\n",
       "      <td>Uknow</td>\n",
       "      <td>Richards</td>\n",
       "      <td>N_declarado</td>\n",
       "    </tr>\n",
       "    <tr>\n",
       "      <th>1292</th>\n",
       "      <td>981</td>\n",
       "      <td>NaN</td>\n",
       "      <td>2</td>\n",
       "      <td>Wells, Master. Ralph Lester</td>\n",
       "      <td>male</td>\n",
       "      <td>2.00</td>\n",
       "      <td>1</td>\n",
       "      <td>1</td>\n",
       "      <td>29103</td>\n",
       "      <td>23.0000</td>\n",
       "      <td>Uknow</td>\n",
       "      <td>S</td>\n",
       "      <td>NaN</td>\n",
       "      <td>Master</td>\n",
       "      <td>2.0</td>\n",
       "      <td>Uknow</td>\n",
       "      <td>Wells</td>\n",
       "      <td>N_declarado</td>\n",
       "    </tr>\n",
       "    <tr>\n",
       "      <th>1293</th>\n",
       "      <td>1086</td>\n",
       "      <td>NaN</td>\n",
       "      <td>2</td>\n",
       "      <td>Drew, Master. Marshall Brines</td>\n",
       "      <td>male</td>\n",
       "      <td>8.00</td>\n",
       "      <td>0</td>\n",
       "      <td>2</td>\n",
       "      <td>28220</td>\n",
       "      <td>32.5000</td>\n",
       "      <td>Uknow</td>\n",
       "      <td>S</td>\n",
       "      <td>NaN</td>\n",
       "      <td>Master</td>\n",
       "      <td>2.0</td>\n",
       "      <td>Uknow</td>\n",
       "      <td>Drew</td>\n",
       "      <td>N_declarado</td>\n",
       "    </tr>\n",
       "    <tr>\n",
       "      <th>1294</th>\n",
       "      <td>150</td>\n",
       "      <td>0.0</td>\n",
       "      <td>2</td>\n",
       "      <td>Byles, Rev. Thomas Roussel Davids</td>\n",
       "      <td>male</td>\n",
       "      <td>42.00</td>\n",
       "      <td>0</td>\n",
       "      <td>0</td>\n",
       "      <td>244310</td>\n",
       "      <td>13.0000</td>\n",
       "      <td>Uknow</td>\n",
       "      <td>S</td>\n",
       "      <td>Morto</td>\n",
       "      <td>Rare</td>\n",
       "      <td>41.5</td>\n",
       "      <td>Uknow</td>\n",
       "      <td>Byles</td>\n",
       "      <td>N_declarado</td>\n",
       "    </tr>\n",
       "    <tr>\n",
       "      <th>1295</th>\n",
       "      <td>151</td>\n",
       "      <td>0.0</td>\n",
       "      <td>2</td>\n",
       "      <td>Bateman, Rev. Robert James</td>\n",
       "      <td>male</td>\n",
       "      <td>51.00</td>\n",
       "      <td>0</td>\n",
       "      <td>0</td>\n",
       "      <td>S.O.P. 1166</td>\n",
       "      <td>12.5250</td>\n",
       "      <td>Uknow</td>\n",
       "      <td>S</td>\n",
       "      <td>Morto</td>\n",
       "      <td>Rare</td>\n",
       "      <td>41.5</td>\n",
       "      <td>S</td>\n",
       "      <td>Bateman</td>\n",
       "      <td>N_declarado</td>\n",
       "    </tr>\n",
       "    <tr>\n",
       "      <th>1296</th>\n",
       "      <td>250</td>\n",
       "      <td>0.0</td>\n",
       "      <td>2</td>\n",
       "      <td>Carter, Rev. Ernest Courtenay</td>\n",
       "      <td>male</td>\n",
       "      <td>54.00</td>\n",
       "      <td>1</td>\n",
       "      <td>0</td>\n",
       "      <td>244252</td>\n",
       "      <td>26.0000</td>\n",
       "      <td>Uknow</td>\n",
       "      <td>S</td>\n",
       "      <td>Morto</td>\n",
       "      <td>Rare</td>\n",
       "      <td>41.5</td>\n",
       "      <td>Uknow</td>\n",
       "      <td>Carter</td>\n",
       "      <td>N_declarado</td>\n",
       "    </tr>\n",
       "    <tr>\n",
       "      <th>1297</th>\n",
       "      <td>318</td>\n",
       "      <td>0.0</td>\n",
       "      <td>2</td>\n",
       "      <td>Moraweck, Dr. Ernest</td>\n",
       "      <td>male</td>\n",
       "      <td>54.00</td>\n",
       "      <td>0</td>\n",
       "      <td>0</td>\n",
       "      <td>29011</td>\n",
       "      <td>14.0000</td>\n",
       "      <td>Uknow</td>\n",
       "      <td>S</td>\n",
       "      <td>Morto</td>\n",
       "      <td>Rare</td>\n",
       "      <td>41.5</td>\n",
       "      <td>Uknow</td>\n",
       "      <td>Moraweck</td>\n",
       "      <td>N_declarado</td>\n",
       "    </tr>\n",
       "    <tr>\n",
       "      <th>1298</th>\n",
       "      <td>399</td>\n",
       "      <td>0.0</td>\n",
       "      <td>2</td>\n",
       "      <td>Pain, Dr. Alfred</td>\n",
       "      <td>male</td>\n",
       "      <td>23.00</td>\n",
       "      <td>0</td>\n",
       "      <td>0</td>\n",
       "      <td>244278</td>\n",
       "      <td>10.5000</td>\n",
       "      <td>Uknow</td>\n",
       "      <td>S</td>\n",
       "      <td>Morto</td>\n",
       "      <td>Rare</td>\n",
       "      <td>41.5</td>\n",
       "      <td>Uknow</td>\n",
       "      <td>Pain</td>\n",
       "      <td>N_declarado</td>\n",
       "    </tr>\n",
       "    <tr>\n",
       "      <th>1299</th>\n",
       "      <td>627</td>\n",
       "      <td>0.0</td>\n",
       "      <td>2</td>\n",
       "      <td>Kirkland, Rev. Charles Leonard</td>\n",
       "      <td>male</td>\n",
       "      <td>57.00</td>\n",
       "      <td>0</td>\n",
       "      <td>0</td>\n",
       "      <td>219533</td>\n",
       "      <td>12.3500</td>\n",
       "      <td>Uknow</td>\n",
       "      <td>Q</td>\n",
       "      <td>Morto</td>\n",
       "      <td>Rare</td>\n",
       "      <td>41.5</td>\n",
       "      <td>Uknow</td>\n",
       "      <td>Kirkland</td>\n",
       "      <td>N_declarado</td>\n",
       "    </tr>\n",
       "    <tr>\n",
       "      <th>1300</th>\n",
       "      <td>849</td>\n",
       "      <td>0.0</td>\n",
       "      <td>2</td>\n",
       "      <td>Harper, Rev. John</td>\n",
       "      <td>male</td>\n",
       "      <td>28.00</td>\n",
       "      <td>0</td>\n",
       "      <td>1</td>\n",
       "      <td>248727</td>\n",
       "      <td>33.0000</td>\n",
       "      <td>Uknow</td>\n",
       "      <td>S</td>\n",
       "      <td>Morto</td>\n",
       "      <td>Rare</td>\n",
       "      <td>41.5</td>\n",
       "      <td>Uknow</td>\n",
       "      <td>Harper</td>\n",
       "      <td>N_declarado</td>\n",
       "    </tr>\n",
       "    <tr>\n",
       "      <th>1301</th>\n",
       "      <td>887</td>\n",
       "      <td>0.0</td>\n",
       "      <td>2</td>\n",
       "      <td>Montvila, Rev. Juozas</td>\n",
       "      <td>male</td>\n",
       "      <td>27.00</td>\n",
       "      <td>0</td>\n",
       "      <td>0</td>\n",
       "      <td>211536</td>\n",
       "      <td>13.0000</td>\n",
       "      <td>Uknow</td>\n",
       "      <td>S</td>\n",
       "      <td>Morto</td>\n",
       "      <td>Rare</td>\n",
       "      <td>41.5</td>\n",
       "      <td>Uknow</td>\n",
       "      <td>Montvila</td>\n",
       "      <td>N_declarado</td>\n",
       "    </tr>\n",
       "    <tr>\n",
       "      <th>1302</th>\n",
       "      <td>1041</td>\n",
       "      <td>NaN</td>\n",
       "      <td>2</td>\n",
       "      <td>Lahtinen, Rev. William</td>\n",
       "      <td>male</td>\n",
       "      <td>30.00</td>\n",
       "      <td>1</td>\n",
       "      <td>1</td>\n",
       "      <td>250651</td>\n",
       "      <td>26.0000</td>\n",
       "      <td>Uknow</td>\n",
       "      <td>S</td>\n",
       "      <td>NaN</td>\n",
       "      <td>Rare</td>\n",
       "      <td>41.5</td>\n",
       "      <td>Uknow</td>\n",
       "      <td>Lahtinen</td>\n",
       "      <td>N_declarado</td>\n",
       "    </tr>\n",
       "    <tr>\n",
       "      <th>1303</th>\n",
       "      <td>1056</td>\n",
       "      <td>NaN</td>\n",
       "      <td>2</td>\n",
       "      <td>Peruschitz, Rev. Joseph Maria</td>\n",
       "      <td>male</td>\n",
       "      <td>41.00</td>\n",
       "      <td>0</td>\n",
       "      <td>0</td>\n",
       "      <td>237393</td>\n",
       "      <td>13.0000</td>\n",
       "      <td>Uknow</td>\n",
       "      <td>S</td>\n",
       "      <td>NaN</td>\n",
       "      <td>Rare</td>\n",
       "      <td>41.5</td>\n",
       "      <td>Uknow</td>\n",
       "      <td>Peruschitz</td>\n",
       "      <td>N_declarado</td>\n",
       "    </tr>\n",
       "    <tr>\n",
       "      <th>1304</th>\n",
       "      <td>306</td>\n",
       "      <td>1.0</td>\n",
       "      <td>1</td>\n",
       "      <td>Allison, Master. Hudson Trevor</td>\n",
       "      <td>male</td>\n",
       "      <td>0.92</td>\n",
       "      <td>1</td>\n",
       "      <td>2</td>\n",
       "      <td>113781</td>\n",
       "      <td>151.5500</td>\n",
       "      <td>C22 C26</td>\n",
       "      <td>S</td>\n",
       "      <td>Vivo</td>\n",
       "      <td>Master</td>\n",
       "      <td>6.0</td>\n",
       "      <td>C</td>\n",
       "      <td>Allison</td>\n",
       "      <td>N_declarado</td>\n",
       "    </tr>\n",
       "    <tr>\n",
       "      <th>1305</th>\n",
       "      <td>446</td>\n",
       "      <td>1.0</td>\n",
       "      <td>1</td>\n",
       "      <td>Dodge, Master. Washington</td>\n",
       "      <td>male</td>\n",
       "      <td>4.00</td>\n",
       "      <td>0</td>\n",
       "      <td>2</td>\n",
       "      <td>33638</td>\n",
       "      <td>81.8583</td>\n",
       "      <td>A34</td>\n",
       "      <td>S</td>\n",
       "      <td>Vivo</td>\n",
       "      <td>Master</td>\n",
       "      <td>6.0</td>\n",
       "      <td>A</td>\n",
       "      <td>Dodge</td>\n",
       "      <td>N_declarado</td>\n",
       "    </tr>\n",
       "    <tr>\n",
       "      <th>1306</th>\n",
       "      <td>803</td>\n",
       "      <td>1.0</td>\n",
       "      <td>1</td>\n",
       "      <td>Carter, Master. William Thornton II</td>\n",
       "      <td>male</td>\n",
       "      <td>11.00</td>\n",
       "      <td>1</td>\n",
       "      <td>2</td>\n",
       "      <td>113760</td>\n",
       "      <td>120.0000</td>\n",
       "      <td>B96 B98</td>\n",
       "      <td>S</td>\n",
       "      <td>Vivo</td>\n",
       "      <td>Master</td>\n",
       "      <td>6.0</td>\n",
       "      <td>B</td>\n",
       "      <td>Carter</td>\n",
       "      <td>N_declarado</td>\n",
       "    </tr>\n",
       "    <tr>\n",
       "      <th>1307</th>\n",
       "      <td>956</td>\n",
       "      <td>NaN</td>\n",
       "      <td>1</td>\n",
       "      <td>Ryerson, Master. John Borie</td>\n",
       "      <td>male</td>\n",
       "      <td>13.00</td>\n",
       "      <td>2</td>\n",
       "      <td>2</td>\n",
       "      <td>PC 17608</td>\n",
       "      <td>262.3750</td>\n",
       "      <td>B57 B59 B63 B66</td>\n",
       "      <td>C</td>\n",
       "      <td>NaN</td>\n",
       "      <td>Master</td>\n",
       "      <td>6.0</td>\n",
       "      <td>P</td>\n",
       "      <td>Ryerson</td>\n",
       "      <td>N_declarado</td>\n",
       "    </tr>\n",
       "    <tr>\n",
       "      <th>1308</th>\n",
       "      <td>1088</td>\n",
       "      <td>NaN</td>\n",
       "      <td>1</td>\n",
       "      <td>Spedden, Master. Robert Douglas</td>\n",
       "      <td>male</td>\n",
       "      <td>6.00</td>\n",
       "      <td>0</td>\n",
       "      <td>2</td>\n",
       "      <td>16966</td>\n",
       "      <td>134.5000</td>\n",
       "      <td>E34</td>\n",
       "      <td>C</td>\n",
       "      <td>NaN</td>\n",
       "      <td>Master</td>\n",
       "      <td>6.0</td>\n",
       "      <td>E</td>\n",
       "      <td>Spedden</td>\n",
       "      <td>N_declarado</td>\n",
       "    </tr>\n",
       "  </tbody>\n",
       "</table>\n",
       "<p>378 rows × 18 columns</p>\n",
       "</div>"
      ],
      "text/plain": [
       "      PassengerId  Survived  Pclass                                 Name  \\\n",
       "0               1       0.0       3              Braund, Mr. Owen Harris   \n",
       "4              14       0.0       3          Andersson, Mr. Anders Johan   \n",
       "11             47       0.0       3                    Lennon, Mr. Denis   \n",
       "12             49       0.0       3                  Samaan, Mr. Youssef   \n",
       "17             70       0.0       3                    Kink, Mr. Vincenz   \n",
       "18             74       0.0       3          Chronopoulos, Mr. Apostolos   \n",
       "25             87       0.0       3               Ford, Mr. William Neal   \n",
       "30             94       0.0       3              Dean, Mr. Bertram Frank   \n",
       "35            105       0.0       3       Gustafsson, Mr. Anders Vilhelm   \n",
       "52            154       0.0       3      van Billiard, Mr. Austin Blyler   \n",
       "56            161       0.0       3             Cribb, Mr. John Hatfield   \n",
       "61            176       0.0       3               Klasen, Mr. Klas Albin   \n",
       "63            189       0.0       3                     Bourke, Mr. John   \n",
       "66            198       0.0       3     Olsen, Mr. Karl Siegwart Andreas   \n",
       "68            202       0.0       3                  Sage, Mr. Frederick   \n",
       "72            207       0.0       3           Backstrom, Mr. Karl Alfred   \n",
       "76            215       0.0       3                  Kiernan, Mr. Philip   \n",
       "86            254       0.0       3             Lobb, Mr. William Arthur   \n",
       "88            267       0.0       3            Panula, Mr. Ernesti Arvid   \n",
       "89            268       1.0       3             Persson, Mr. Ernst Ulrik   \n",
       "100           302       1.0       3                   McCoy, Mr. Bernard   \n",
       "106           325       0.0       3             Sage, Mr. George John Jr   \n",
       "108           334       0.0       3      Vander Planke, Mr. Leo Edmondus   \n",
       "113           353       0.0       3                   Elias, Mr. Tannous   \n",
       "114           354       0.0       3            Arnold-Franchi, Mr. Josef   \n",
       "117           361       0.0       3                   Skoog, Mr. Wilhelm   \n",
       "119           365       0.0       3                  O'Brien, Mr. Thomas   \n",
       "121           372       0.0       3            Wiklund, Mr. Jakob Alfred   \n",
       "129           393       0.0       3         Gustafsson, Mr. Johan Birger   \n",
       "133           404       0.0       3       Hakkarainen, Mr. Pekka Pietari   \n",
       "...           ...       ...     ...                                  ...   \n",
       "1278         1167       NaN       2  Bryhl, Miss. Dagmar Jenny Ingeborg    \n",
       "1279         1188       NaN       2                Laroche, Miss. Louise   \n",
       "1280         1218       NaN       2         Becker, Miss. Ruth Elizabeth   \n",
       "1282         1277       NaN       2                   Herman, Miss. Kate   \n",
       "1283           79       1.0       2        Caldwell, Master. Alden Gates   \n",
       "1284          184       1.0       2            Becker, Master. Richard F   \n",
       "1285          194       1.0       2           Navratil, Master. Michel M   \n",
       "1286          341       1.0       2       Navratil, Master. Edmond Roger   \n",
       "1287          408       1.0       2       Richards, Master. William Rowe   \n",
       "1288          550       1.0       2       Davies, Master. John Morgan Jr   \n",
       "1289          756       1.0       2            Hamalainen, Master. Viljo   \n",
       "1290          828       1.0       2                Mallet, Master. Andre   \n",
       "1291          832       1.0       2      Richards, Master. George Sibley   \n",
       "1292          981       NaN       2          Wells, Master. Ralph Lester   \n",
       "1293         1086       NaN       2        Drew, Master. Marshall Brines   \n",
       "1294          150       0.0       2    Byles, Rev. Thomas Roussel Davids   \n",
       "1295          151       0.0       2           Bateman, Rev. Robert James   \n",
       "1296          250       0.0       2        Carter, Rev. Ernest Courtenay   \n",
       "1297          318       0.0       2                 Moraweck, Dr. Ernest   \n",
       "1298          399       0.0       2                     Pain, Dr. Alfred   \n",
       "1299          627       0.0       2       Kirkland, Rev. Charles Leonard   \n",
       "1300          849       0.0       2                    Harper, Rev. John   \n",
       "1301          887       0.0       2                Montvila, Rev. Juozas   \n",
       "1302         1041       NaN       2               Lahtinen, Rev. William   \n",
       "1303         1056       NaN       2        Peruschitz, Rev. Joseph Maria   \n",
       "1304          306       1.0       1       Allison, Master. Hudson Trevor   \n",
       "1305          446       1.0       1            Dodge, Master. Washington   \n",
       "1306          803       1.0       1  Carter, Master. William Thornton II   \n",
       "1307          956       NaN       1          Ryerson, Master. John Borie   \n",
       "1308         1088       NaN       1      Spedden, Master. Robert Douglas   \n",
       "\n",
       "         Sex    Age  SibSp  Parch            Ticket      Fare  \\\n",
       "0       male  22.00      1      0         A/5 21171    7.2500   \n",
       "4       male  39.00      1      5            347082   31.2750   \n",
       "11      male  26.00      1      0            370371   15.5000   \n",
       "12      male  26.00      2      0              2662   21.6792   \n",
       "17      male  26.00      2      0            315151    8.6625   \n",
       "18      male  26.00      1      0              2680   14.4542   \n",
       "25      male  16.00      1      3        W./C. 6608   34.3750   \n",
       "30      male  26.00      1      2         C.A. 2315   20.5750   \n",
       "35      male  37.00      2      0           3101276    7.9250   \n",
       "52      male  40.50      0      2          A/5. 851   14.5000   \n",
       "56      male  44.00      0      1            371362   16.1000   \n",
       "61      male  18.00      1      1            350404    7.8542   \n",
       "63      male  40.00      1      1            364849   15.5000   \n",
       "66      male  42.00      0      1              4579    8.4042   \n",
       "68      male  26.00      8      2          CA. 2343   69.5500   \n",
       "72      male  32.00      1      0           3101278   15.8500   \n",
       "76      male  26.00      1      0            367229    7.7500   \n",
       "86      male  30.00      1      0         A/5. 3336   16.1000   \n",
       "88      male  16.00      4      1           3101295   39.6875   \n",
       "89      male  25.00      1      0            347083    7.7750   \n",
       "100     male  26.00      2      0            367226   23.2500   \n",
       "106     male  26.00      8      2          CA. 2343   69.5500   \n",
       "108     male  16.00      2      0            345764   18.0000   \n",
       "113     male  15.00      1      1              2695    7.2292   \n",
       "114     male  25.00      1      0            349237   17.8000   \n",
       "117     male  40.00      1      4            347088   27.9000   \n",
       "119     male  26.00      1      0            370365   15.5000   \n",
       "121     male  18.00      1      0           3101267    6.4958   \n",
       "129     male  28.00      2      0           3101277    7.9250   \n",
       "133     male  28.00      1      0  STON/O2. 3101279   15.8500   \n",
       "...      ...    ...    ...    ...               ...       ...   \n",
       "1278  female  20.00      1      0            236853   26.0000   \n",
       "1279  female   1.00      1      2     SC/Paris 2123   41.5792   \n",
       "1280  female  12.00      2      1            230136   39.0000   \n",
       "1282  female  24.00      1      2            220845   65.0000   \n",
       "1283    male   0.83      0      2            248738   29.0000   \n",
       "1284    male   1.00      2      1            230136   39.0000   \n",
       "1285    male   3.00      1      1            230080   26.0000   \n",
       "1286    male   2.00      1      1            230080   26.0000   \n",
       "1287    male   3.00      1      1             29106   18.7500   \n",
       "1288    male   8.00      1      1        C.A. 33112   36.7500   \n",
       "1289    male   0.67      1      1            250649   14.5000   \n",
       "1290    male   1.00      0      2   S.C./PARIS 2079   37.0042   \n",
       "1291    male   0.83      1      1             29106   18.7500   \n",
       "1292    male   2.00      1      1             29103   23.0000   \n",
       "1293    male   8.00      0      2             28220   32.5000   \n",
       "1294    male  42.00      0      0            244310   13.0000   \n",
       "1295    male  51.00      0      0       S.O.P. 1166   12.5250   \n",
       "1296    male  54.00      1      0            244252   26.0000   \n",
       "1297    male  54.00      0      0             29011   14.0000   \n",
       "1298    male  23.00      0      0            244278   10.5000   \n",
       "1299    male  57.00      0      0            219533   12.3500   \n",
       "1300    male  28.00      0      1            248727   33.0000   \n",
       "1301    male  27.00      0      0            211536   13.0000   \n",
       "1302    male  30.00      1      1            250651   26.0000   \n",
       "1303    male  41.00      0      0            237393   13.0000   \n",
       "1304    male   0.92      1      2            113781  151.5500   \n",
       "1305    male   4.00      0      2             33638   81.8583   \n",
       "1306    male  11.00      1      2            113760  120.0000   \n",
       "1307    male  13.00      2      2          PC 17608  262.3750   \n",
       "1308    male   6.00      0      2             16966  134.5000   \n",
       "\n",
       "                Cabin Embarked Status_Survived   Title  Age_y Ft_Cabin  \\\n",
       "0               Uknow        S           Morto      Mr   26.0        A   \n",
       "4               Uknow        S           Morto      Mr   26.0    Uknow   \n",
       "11              Uknow        Q           Morto      Mr   26.0    Uknow   \n",
       "12              Uknow        C           Morto      Mr   26.0    Uknow   \n",
       "17              Uknow        S           Morto      Mr   26.0    Uknow   \n",
       "18              Uknow        C           Morto      Mr   26.0    Uknow   \n",
       "25              Uknow        S           Morto      Mr   26.0        G   \n",
       "30              Uknow        S           Morto      Mr   26.0        C   \n",
       "35              Uknow        S           Morto      Mr   26.0    Uknow   \n",
       "52              Uknow        S           Morto      Mr   26.0        A   \n",
       "56              Uknow        S           Morto      Mr   26.0    Uknow   \n",
       "61              Uknow        S           Morto      Mr   26.0    Uknow   \n",
       "63              Uknow        Q           Morto      Mr   26.0    Uknow   \n",
       "66              Uknow        S           Morto      Mr   26.0    Uknow   \n",
       "68              Uknow        S           Morto      Mr   26.0        C   \n",
       "72              Uknow        S           Morto      Mr   26.0    Uknow   \n",
       "76              Uknow        Q           Morto      Mr   26.0    Uknow   \n",
       "86              Uknow        S           Morto      Mr   26.0        A   \n",
       "88              Uknow        S           Morto      Mr   26.0    Uknow   \n",
       "89              Uknow        S            Vivo      Mr   26.0    Uknow   \n",
       "100             Uknow        Q            Vivo      Mr   26.0    Uknow   \n",
       "106             Uknow        S           Morto      Mr   26.0        C   \n",
       "108             Uknow        S           Morto      Mr   26.0    Uknow   \n",
       "113             Uknow        C           Morto      Mr   26.0    Uknow   \n",
       "114             Uknow        S           Morto      Mr   26.0    Uknow   \n",
       "117             Uknow        S           Morto      Mr   26.0    Uknow   \n",
       "119             Uknow        Q           Morto      Mr   26.0    Uknow   \n",
       "121             Uknow        S           Morto      Mr   26.0    Uknow   \n",
       "129             Uknow        S           Morto      Mr   26.0    Uknow   \n",
       "133             Uknow        S           Morto      Mr   26.0        S   \n",
       "...               ...      ...             ...     ...    ...      ...   \n",
       "1278            Uknow        S             NaN    Miss   20.0    Uknow   \n",
       "1279            Uknow        C             NaN    Miss   20.0        S   \n",
       "1280               F4        S             NaN    Miss   20.0        F   \n",
       "1282            Uknow        S             NaN    Miss   20.0    Uknow   \n",
       "1283            Uknow        S            Vivo  Master    2.0    Uknow   \n",
       "1284               F4        S            Vivo  Master    2.0        F   \n",
       "1285               F2        S            Vivo  Master    2.0        F   \n",
       "1286               F2        S            Vivo  Master    2.0        F   \n",
       "1287            Uknow        S            Vivo  Master    2.0    Uknow   \n",
       "1288            Uknow        S            Vivo  Master    2.0        C   \n",
       "1289            Uknow        S            Vivo  Master    2.0    Uknow   \n",
       "1290            Uknow        C            Vivo  Master    2.0        S   \n",
       "1291            Uknow        S            Vivo  Master    2.0    Uknow   \n",
       "1292            Uknow        S             NaN  Master    2.0    Uknow   \n",
       "1293            Uknow        S             NaN  Master    2.0    Uknow   \n",
       "1294            Uknow        S           Morto    Rare   41.5    Uknow   \n",
       "1295            Uknow        S           Morto    Rare   41.5        S   \n",
       "1296            Uknow        S           Morto    Rare   41.5    Uknow   \n",
       "1297            Uknow        S           Morto    Rare   41.5    Uknow   \n",
       "1298            Uknow        S           Morto    Rare   41.5    Uknow   \n",
       "1299            Uknow        Q           Morto    Rare   41.5    Uknow   \n",
       "1300            Uknow        S           Morto    Rare   41.5    Uknow   \n",
       "1301            Uknow        S           Morto    Rare   41.5    Uknow   \n",
       "1302            Uknow        S             NaN    Rare   41.5    Uknow   \n",
       "1303            Uknow        S             NaN    Rare   41.5    Uknow   \n",
       "1304          C22 C26        S            Vivo  Master    6.0        C   \n",
       "1305              A34        S            Vivo  Master    6.0        A   \n",
       "1306          B96 B98        S            Vivo  Master    6.0        B   \n",
       "1307  B57 B59 B63 B66        C             NaN  Master    6.0        P   \n",
       "1308              E34        C             NaN  Master    6.0        E   \n",
       "\n",
       "        Ft_Sobrenome     Ft_Civil  \n",
       "0             Braund  N_declarado  \n",
       "4          Andersson  N_declarado  \n",
       "11            Lennon  N_declarado  \n",
       "12            Samaan  N_declarado  \n",
       "17              Kink  N_declarado  \n",
       "18      Chronopoulos  N_declarado  \n",
       "25              Ford  N_declarado  \n",
       "30              Dean  N_declarado  \n",
       "35        Gustafsson  N_declarado  \n",
       "52      van Billiard  N_declarado  \n",
       "56             Cribb  N_declarado  \n",
       "61            Klasen  N_declarado  \n",
       "63            Bourke  N_declarado  \n",
       "66             Olsen  N_declarado  \n",
       "68              Sage  N_declarado  \n",
       "72         Backstrom  N_declarado  \n",
       "76           Kiernan  N_declarado  \n",
       "86              Lobb  N_declarado  \n",
       "88            Panula  N_declarado  \n",
       "89           Persson  N_declarado  \n",
       "100            McCoy  N_declarado  \n",
       "106             Sage  N_declarado  \n",
       "108    Vander Planke  N_declarado  \n",
       "113            Elias  N_declarado  \n",
       "114   Arnold-Franchi  N_declarado  \n",
       "117            Skoog  N_declarado  \n",
       "119          O'Brien  N_declarado  \n",
       "121          Wiklund  N_declarado  \n",
       "129       Gustafsson  N_declarado  \n",
       "133      Hakkarainen  N_declarado  \n",
       "...              ...          ...  \n",
       "1278           Bryhl  N_declarado  \n",
       "1279         Laroche  N_declarado  \n",
       "1280          Becker  N_declarado  \n",
       "1282          Herman  N_declarado  \n",
       "1283        Caldwell  N_declarado  \n",
       "1284          Becker  N_declarado  \n",
       "1285        Navratil  N_declarado  \n",
       "1286        Navratil  N_declarado  \n",
       "1287        Richards  N_declarado  \n",
       "1288          Davies  N_declarado  \n",
       "1289      Hamalainen  N_declarado  \n",
       "1290          Mallet  N_declarado  \n",
       "1291        Richards  N_declarado  \n",
       "1292           Wells  N_declarado  \n",
       "1293            Drew  N_declarado  \n",
       "1294           Byles  N_declarado  \n",
       "1295         Bateman  N_declarado  \n",
       "1296          Carter  N_declarado  \n",
       "1297        Moraweck  N_declarado  \n",
       "1298            Pain  N_declarado  \n",
       "1299        Kirkland  N_declarado  \n",
       "1300          Harper  N_declarado  \n",
       "1301        Montvila  N_declarado  \n",
       "1302        Lahtinen  N_declarado  \n",
       "1303      Peruschitz  N_declarado  \n",
       "1304         Allison  N_declarado  \n",
       "1305           Dodge  N_declarado  \n",
       "1306          Carter  N_declarado  \n",
       "1307         Ryerson  N_declarado  \n",
       "1308         Spedden  N_declarado  \n",
       "\n",
       "[378 rows x 18 columns]"
      ]
     },
     "execution_count": 3153,
     "metadata": {},
     "output_type": "execute_result"
    }
   ],
   "source": [
    "titanic[(titanic.Ft_Civil=='N_declarado')]"
   ]
  },
  {
   "cell_type": "code",
   "execution_count": 3154,
   "metadata": {
    "ExecuteTime": {
     "end_time": "2019-08-06T21:43:24.432682Z",
     "start_time": "2019-08-06T21:43:24.414684Z"
    }
   },
   "outputs": [
    {
     "data": {
      "text/html": [
       "<div>\n",
       "<style scoped>\n",
       "    .dataframe tbody tr th:only-of-type {\n",
       "        vertical-align: middle;\n",
       "    }\n",
       "\n",
       "    .dataframe tbody tr th {\n",
       "        vertical-align: top;\n",
       "    }\n",
       "\n",
       "    .dataframe thead tr th {\n",
       "        text-align: left;\n",
       "    }\n",
       "\n",
       "    .dataframe thead tr:last-of-type th {\n",
       "        text-align: right;\n",
       "    }\n",
       "</style>\n",
       "<table border=\"1\" class=\"dataframe\">\n",
       "  <thead>\n",
       "    <tr>\n",
       "      <th></th>\n",
       "      <th></th>\n",
       "      <th>Sex</th>\n",
       "      <th>Survived</th>\n",
       "    </tr>\n",
       "    <tr>\n",
       "      <th></th>\n",
       "      <th></th>\n",
       "      <th>count</th>\n",
       "      <th>sum</th>\n",
       "    </tr>\n",
       "    <tr>\n",
       "      <th>Sex</th>\n",
       "      <th>Ft_Civil</th>\n",
       "      <th></th>\n",
       "      <th></th>\n",
       "    </tr>\n",
       "  </thead>\n",
       "  <tbody>\n",
       "    <tr>\n",
       "      <th rowspan=\"3\" valign=\"top\">female</th>\n",
       "      <th>M_Casada</th>\n",
       "      <td>197</td>\n",
       "      <td>99.0</td>\n",
       "    </tr>\n",
       "    <tr>\n",
       "      <th>M_Solteira</th>\n",
       "      <td>155</td>\n",
       "      <td>79.0</td>\n",
       "    </tr>\n",
       "    <tr>\n",
       "      <th>N_declarado</th>\n",
       "      <td>114</td>\n",
       "      <td>55.0</td>\n",
       "    </tr>\n",
       "    <tr>\n",
       "      <th rowspan=\"2\" valign=\"top\">male</th>\n",
       "      <th>H_Solteiro</th>\n",
       "      <td>579</td>\n",
       "      <td>61.0</td>\n",
       "    </tr>\n",
       "    <tr>\n",
       "      <th>N_declarado</th>\n",
       "      <td>264</td>\n",
       "      <td>48.0</td>\n",
       "    </tr>\n",
       "  </tbody>\n",
       "</table>\n",
       "</div>"
      ],
      "text/plain": [
       "                     Sex Survived\n",
       "                   count      sum\n",
       "Sex    Ft_Civil                  \n",
       "female M_Casada      197     99.0\n",
       "       M_Solteira    155     79.0\n",
       "       N_declarado   114     55.0\n",
       "male   H_Solteiro    579     61.0\n",
       "       N_declarado   264     48.0"
      ]
     },
     "execution_count": 3154,
     "metadata": {},
     "output_type": "execute_result"
    }
   ],
   "source": [
    "titanic.groupby(['Sex','Ft_Civil']).agg({'Sex':['count'],'Survived':['sum']})"
   ]
  },
  {
   "cell_type": "code",
   "execution_count": 3155,
   "metadata": {
    "ExecuteTime": {
     "end_time": "2019-08-06T21:43:25.634938Z",
     "start_time": "2019-08-06T21:43:25.405226Z"
    }
   },
   "outputs": [
    {
     "data": {
      "image/png": "[encoded data removed]",
      "text/plain": [
       "<Figure size 576x432 with 1 Axes>"
      ]
     },
     "metadata": {
      "needs_background": "light"
     },
     "output_type": "display_data"
    }
   ],
   "source": [
    "titanic.groupby(['Sex','Ft_Civil']).agg({'Sex':['count'],'Survived':['sum']}).plot.bar(figsize=(8, 6));"
   ]
  },
  {
   "cell_type": "markdown",
   "metadata": {},
   "source": [
    "## Nomrmalização Age e Fare Min/Max"
   ]
  },
  {
   "cell_type": "code",
   "execution_count": 3156,
   "metadata": {
    "ExecuteTime": {
     "end_time": "2019-08-06T21:43:29.179543Z",
     "start_time": "2019-08-06T21:43:29.166537Z"
    }
   },
   "outputs": [],
   "source": [
    "from sklearn import preprocessing\n",
    "\n",
    "scaler = preprocessing.MinMaxScaler(feature_range=(0,1))\n",
    "\n",
    "# fit and transform in one step\n",
    "titanic['Norm_Age'] = scaler.fit_transform(titanic[['Age']])\n",
    "titanic['Norm_Fare'] = scaler.fit_transform(titanic[['Fare']])\n",
    "\n"
   ]
  },
  {
   "cell_type": "code",
   "execution_count": 3157,
   "metadata": {
    "ExecuteTime": {
     "end_time": "2019-08-06T21:43:31.086977Z",
     "start_time": "2019-08-06T21:43:30.846266Z"
    }
   },
   "outputs": [
    {
     "data": {
      "image/png": "[encoded data removed]",
      "text/plain": [
       "<Figure size 432x288 with 1 Axes>"
      ]
     },
     "metadata": {
      "needs_background": "light"
     },
     "output_type": "display_data"
    }
   ],
   "source": [
    "ax = sns.scatterplot(x=\"Age\", y=\"Fare\", hue='Survived', data=train_csv)"
   ]
  },
  {
   "cell_type": "code",
   "execution_count": 3158,
   "metadata": {
    "ExecuteTime": {
     "end_time": "2019-08-06T21:43:31.670632Z",
     "start_time": "2019-08-06T21:43:31.358808Z"
    }
   },
   "outputs": [
    {
     "data": {
      "image/png": "[encoded data removed]",
      "text/plain": [
       "<Figure size 432x288 with 1 Axes>"
      ]
     },
     "metadata": {
      "needs_background": "light"
     },
     "output_type": "display_data"
    }
   ],
   "source": [
    "ax = sns.scatterplot(x=\"Age\", y=\"Fare\", hue='Title', data=titanic)"
   ]
  },
  {
   "cell_type": "code",
   "execution_count": 3159,
   "metadata": {
    "ExecuteTime": {
     "end_time": "2019-08-06T21:43:32.413406Z",
     "start_time": "2019-08-06T21:43:32.109725Z"
    }
   },
   "outputs": [
    {
     "data": {
      "image/png": "[encoded data removed]",
      "text/plain": [
       "<Figure size 432x288 with 1 Axes>"
      ]
     },
     "metadata": {
      "needs_background": "light"
     },
     "output_type": "display_data"
    }
   ],
   "source": [
    "ax = sns.scatterplot(x=\"Age\", y=\"Fare\", hue='Ft_Civil', data=titanic)"
   ]
  },
  {
   "cell_type": "markdown",
   "metadata": {},
   "source": [
    "## Age, Discretização"
   ]
  },
  {
   "cell_type": "code",
   "execution_count": 3160,
   "metadata": {
    "ExecuteTime": {
     "end_time": "2019-08-06T21:43:33.902163Z",
     "start_time": "2019-08-06T21:43:33.877661Z"
    }
   },
   "outputs": [],
   "source": [
    "titanic.loc[titanic.Age  <  12,'Ft_Fx_Age'] = 'Criança'\n",
    "\n",
    "titanic.loc[(titanic.Age >= 12) & (titanic.Age < 25),'Ft_Fx_Age']  = 'Jovem'\n",
    "\n",
    "titanic.loc[(titanic.Age >= 25) & (titanic.Age < 40),'Ft_Fx_Age']  = 'Adulto'\n",
    "\n",
    "titanic.loc[(titanic.Age >= 40) & (titanic.Age < 50),'Ft_Fx_Age']  = 'Experiente'\n",
    "\n",
    "titanic.loc[titanic.Age  >= 50 ,'Ft_Fx_Age'] = 'Senior'\n",
    "\n"
   ]
  },
  {
   "cell_type": "code",
   "execution_count": 3161,
   "metadata": {
    "ExecuteTime": {
     "end_time": "2019-08-06T21:43:35.025399Z",
     "start_time": "2019-08-06T21:43:34.860964Z"
    }
   },
   "outputs": [
    {
     "data": {
      "image/png": "[encoded data removed]",
      "text/plain": [
       "<Figure size 432x288 with 1 Axes>"
      ]
     },
     "metadata": {
      "needs_background": "light"
     },
     "output_type": "display_data"
    }
   ],
   "source": [
    "p = sns.countplot(data=titanic,\n",
    "                  x = 'Ft_Fx_Age',\n",
    "                  hue = 'Survived')"
   ]
  },
  {
   "cell_type": "code",
   "execution_count": 3162,
   "metadata": {
    "ExecuteTime": {
     "end_time": "2019-08-06T21:43:42.636307Z",
     "start_time": "2019-08-06T21:43:42.621282Z"
    }
   },
   "outputs": [],
   "source": [
    "titanic.loc[titanic.Ft_Fx_Age=='Criança','Prioridade']='0'\n",
    "\n",
    "titanic.loc[titanic.Sex=='female','Prioridade']='0'\n",
    "\n",
    "titanic.loc[titanic.Sex=='male','Prioridade']='1'"
   ]
  },
  {
   "cell_type": "code",
   "execution_count": 3163,
   "metadata": {
    "ExecuteTime": {
     "end_time": "2019-08-06T21:43:43.611347Z",
     "start_time": "2019-08-06T21:43:43.421440Z"
    }
   },
   "outputs": [
    {
     "data": {
      "image/png": "[encoded data removed]",
      "text/plain": [
       "<Figure size 576x432 with 1 Axes>"
      ]
     },
     "metadata": {
      "needs_background": "light"
     },
     "output_type": "display_data"
    }
   ],
   "source": [
    "titanic.groupby(['Prioridade','Pclass']).agg({'Prioridade':['count'],'Survived':['sum']}).plot.bar(figsize=(8, 6));"
   ]
  },
  {
   "cell_type": "markdown",
   "metadata": {},
   "source": [
    "## Nivel Deck"
   ]
  },
  {
   "cell_type": "code",
   "execution_count": 3164,
   "metadata": {
    "ExecuteTime": {
     "end_time": "2019-08-06T21:43:47.803202Z",
     "start_time": "2019-08-06T21:43:47.797215Z"
    }
   },
   "outputs": [
    {
     "data": {
      "text/plain": [
       "Ft_Cabin\n",
       "A         57\n",
       "B         40\n",
       "C        148\n",
       "D         35\n",
       "E         29\n",
       "F         31\n",
       "G         27\n",
       "P         98\n",
       "S         98\n",
       "Uknow    746\n",
       "Name: Ft_Cabin, dtype: int64"
      ]
     },
     "execution_count": 3164,
     "metadata": {},
     "output_type": "execute_result"
    }
   ],
   "source": [
    "titanic.groupby('Ft_Cabin').Ft_Cabin.count()\n"
   ]
  },
  {
   "cell_type": "code",
   "execution_count": 3165,
   "metadata": {
    "ExecuteTime": {
     "end_time": "2019-08-06T21:43:48.603417Z",
     "start_time": "2019-08-06T21:43:48.564380Z"
    }
   },
   "outputs": [],
   "source": [
    "titanic.loc[titanic.Ft_Cabin=='S','Ft_Deck']='Superior'\n",
    "titanic.loc[titanic.Ft_Cabin=='P','Ft_Deck']='Superior'\n",
    "\n",
    "\n",
    "titanic.loc[titanic.Ft_Cabin=='A','Ft_Deck']='Superior'\n",
    "titanic.loc[titanic.Ft_Cabin=='B','Ft_Deck']='Superior'\n",
    "titanic.loc[titanic.Ft_Cabin=='C','Ft_Deck']='Superior'\n",
    "\n",
    "titanic.loc[titanic.Ft_Cabin=='D','Ft_Deck']='Meio'\n",
    "titanic.loc[titanic.Ft_Cabin=='E','Ft_Deck']='Meio'\n",
    "\n",
    "titanic.loc[titanic.Ft_Cabin=='F','Ft_Deck']='Inferior'\n",
    "titanic.loc[titanic.Ft_Cabin=='G','Ft_Deck']='Inferior'\n",
    "\n",
    "titanic.loc[titanic.Ft_Cabin=='Uknow','Ft_Deck']='know'\n",
    "\n"
   ]
  },
  {
   "cell_type": "code",
   "execution_count": 3166,
   "metadata": {
    "ExecuteTime": {
     "end_time": "2019-08-06T21:43:49.292503Z",
     "start_time": "2019-08-06T21:43:49.285501Z"
    }
   },
   "outputs": [
    {
     "data": {
      "text/plain": [
       "Ft_Deck\n",
       "Inferior     58\n",
       "Meio         64\n",
       "Superior    441\n",
       "know        746\n",
       "Name: Ft_Deck, dtype: int64"
      ]
     },
     "execution_count": 3166,
     "metadata": {},
     "output_type": "execute_result"
    }
   ],
   "source": [
    "titanic.groupby('Ft_Deck').Ft_Deck.count()\n"
   ]
  },
  {
   "cell_type": "code",
   "execution_count": 3167,
   "metadata": {
    "ExecuteTime": {
     "end_time": "2019-08-06T21:43:50.231286Z",
     "start_time": "2019-08-06T21:43:50.013305Z"
    }
   },
   "outputs": [
    {
     "data": {
      "image/png": "[encoded data removed]",
      "text/plain": [
       "<Figure size 576x432 with 1 Axes>"
      ]
     },
     "metadata": {
      "needs_background": "light"
     },
     "output_type": "display_data"
    }
   ],
   "source": [
    "titanic.groupby(['Ft_Deck','Sex']).agg({'Ft_Deck':['count'],'Survived':['sum']}).plot.bar(figsize=(8, 6));"
   ]
  },
  {
   "cell_type": "markdown",
   "metadata": {},
   "source": [
    "# Label Enconding"
   ]
  },
  {
   "cell_type": "code",
   "execution_count": 3168,
   "metadata": {
    "ExecuteTime": {
     "end_time": "2019-08-06T21:43:51.553288Z",
     "start_time": "2019-08-06T21:43:51.549283Z"
    }
   },
   "outputs": [
    {
     "data": {
      "text/plain": [
       "array(['male', 'female'], dtype=object)"
      ]
     },
     "execution_count": 3168,
     "metadata": {},
     "output_type": "execute_result"
    }
   ],
   "source": [
    "titanic.Sex.unique()"
   ]
  },
  {
   "cell_type": "code",
   "execution_count": 3169,
   "metadata": {
    "ExecuteTime": {
     "end_time": "2019-08-06T21:43:52.243274Z",
     "start_time": "2019-08-06T21:43:52.236248Z"
    }
   },
   "outputs": [
    {
     "data": {
      "text/plain": [
       "array([1, 0], dtype=int64)"
      ]
     },
     "execution_count": 3169,
     "metadata": {},
     "output_type": "execute_result"
    }
   ],
   "source": [
    "titanic['Lb_enconder_Sex']= titanic['Sex'].map( {'female':0, 'male':1})\n",
    "titanic.Lb_enconder_Sex.unique()"
   ]
  },
  {
   "cell_type": "markdown",
   "metadata": {},
   "source": [
    "## Label Enconding"
   ]
  },
  {
   "cell_type": "code",
   "execution_count": 3170,
   "metadata": {
    "ExecuteTime": {
     "end_time": "2019-08-06T21:43:53.497117Z",
     "start_time": "2019-08-06T21:43:53.493112Z"
    }
   },
   "outputs": [],
   "source": [
    "from sklearn.preprocessing import LabelEncoder"
   ]
  },
  {
   "cell_type": "code",
   "execution_count": 3171,
   "metadata": {
    "ExecuteTime": {
     "end_time": "2019-08-06T21:43:54.242480Z",
     "start_time": "2019-08-06T21:43:54.229479Z"
    }
   },
   "outputs": [],
   "source": [
    "label_encoder  = LabelEncoder()\n",
    "label_encoder  = label_encoder.fit(titanic.Ft_Cabin)\n",
    "titanic['OneHt_Ft_Cabin'] = label_encoder.transform(titanic.Ft_Cabin)\n",
    "\n",
    "label_encoder  = LabelEncoder()\n",
    "label_encoder  = label_encoder.fit(titanic.Embarked)\n",
    "titanic['OneHt_Embarked'] = label_encoder.transform(titanic.Embarked)\n",
    "\n",
    "\n",
    "\n",
    "label_encoder  = LabelEncoder()\n",
    "label_encoder  = label_encoder.fit(titanic.Ft_Civil)\n",
    "titanic['OneHt_Civil'] = label_encoder.transform(titanic.Ft_Civil)\n",
    "\n",
    "label_encoder  = LabelEncoder()\n",
    "label_encoder  = label_encoder.fit(titanic.Ft_Fx_Age)\n",
    "titanic['OneHt_Fx_Age'] = label_encoder.transform(titanic.Ft_Fx_Age)\n",
    "\n",
    "label_encoder  = LabelEncoder()\n",
    "label_encoder  = label_encoder.fit(titanic.Ft_Deck)\n",
    "titanic['OneHt_Ft_Deck'] = label_encoder.transform(titanic.Ft_Deck)"
   ]
  },
  {
   "cell_type": "code",
   "execution_count": 3172,
   "metadata": {
    "ExecuteTime": {
     "end_time": "2019-08-06T21:43:55.527454Z",
     "start_time": "2019-08-06T21:43:55.502420Z"
    }
   },
   "outputs": [
    {
     "data": {
      "text/html": [
       "<div>\n",
       "<style scoped>\n",
       "    .dataframe tbody tr th:only-of-type {\n",
       "        vertical-align: middle;\n",
       "    }\n",
       "\n",
       "    .dataframe tbody tr th {\n",
       "        vertical-align: top;\n",
       "    }\n",
       "\n",
       "    .dataframe thead th {\n",
       "        text-align: right;\n",
       "    }\n",
       "</style>\n",
       "<table border=\"1\" class=\"dataframe\">\n",
       "  <thead>\n",
       "    <tr style=\"text-align: right;\">\n",
       "      <th></th>\n",
       "      <th>PassengerId</th>\n",
       "      <th>Survived</th>\n",
       "      <th>Pclass</th>\n",
       "      <th>Name</th>\n",
       "      <th>Sex</th>\n",
       "      <th>Age</th>\n",
       "      <th>SibSp</th>\n",
       "      <th>Parch</th>\n",
       "      <th>Ticket</th>\n",
       "      <th>Fare</th>\n",
       "      <th>...</th>\n",
       "      <th>Norm_Fare</th>\n",
       "      <th>Ft_Fx_Age</th>\n",
       "      <th>Prioridade</th>\n",
       "      <th>Ft_Deck</th>\n",
       "      <th>Lb_enconder_Sex</th>\n",
       "      <th>OneHt_Ft_Cabin</th>\n",
       "      <th>OneHt_Embarked</th>\n",
       "      <th>OneHt_Civil</th>\n",
       "      <th>OneHt_Fx_Age</th>\n",
       "      <th>OneHt_Ft_Deck</th>\n",
       "    </tr>\n",
       "  </thead>\n",
       "  <tbody>\n",
       "    <tr>\n",
       "      <th>0</th>\n",
       "      <td>1</td>\n",
       "      <td>0.0</td>\n",
       "      <td>3</td>\n",
       "      <td>Braund, Mr. Owen Harris</td>\n",
       "      <td>male</td>\n",
       "      <td>22.0</td>\n",
       "      <td>1</td>\n",
       "      <td>0</td>\n",
       "      <td>A/5 21171</td>\n",
       "      <td>7.2500</td>\n",
       "      <td>...</td>\n",
       "      <td>0.014151</td>\n",
       "      <td>Jovem</td>\n",
       "      <td>1</td>\n",
       "      <td>Superior</td>\n",
       "      <td>1</td>\n",
       "      <td>0</td>\n",
       "      <td>2</td>\n",
       "      <td>3</td>\n",
       "      <td>3</td>\n",
       "      <td>2</td>\n",
       "    </tr>\n",
       "    <tr>\n",
       "      <th>1</th>\n",
       "      <td>5</td>\n",
       "      <td>0.0</td>\n",
       "      <td>3</td>\n",
       "      <td>Allen, Mr. William Henry</td>\n",
       "      <td>male</td>\n",
       "      <td>35.0</td>\n",
       "      <td>0</td>\n",
       "      <td>0</td>\n",
       "      <td>373450</td>\n",
       "      <td>8.0500</td>\n",
       "      <td>...</td>\n",
       "      <td>0.015713</td>\n",
       "      <td>Adulto</td>\n",
       "      <td>1</td>\n",
       "      <td>know</td>\n",
       "      <td>1</td>\n",
       "      <td>9</td>\n",
       "      <td>2</td>\n",
       "      <td>0</td>\n",
       "      <td>0</td>\n",
       "      <td>3</td>\n",
       "    </tr>\n",
       "    <tr>\n",
       "      <th>2</th>\n",
       "      <td>6</td>\n",
       "      <td>0.0</td>\n",
       "      <td>3</td>\n",
       "      <td>Moran, Mr. James</td>\n",
       "      <td>male</td>\n",
       "      <td>26.0</td>\n",
       "      <td>0</td>\n",
       "      <td>0</td>\n",
       "      <td>330877</td>\n",
       "      <td>8.4583</td>\n",
       "      <td>...</td>\n",
       "      <td>0.016510</td>\n",
       "      <td>Adulto</td>\n",
       "      <td>1</td>\n",
       "      <td>know</td>\n",
       "      <td>1</td>\n",
       "      <td>9</td>\n",
       "      <td>1</td>\n",
       "      <td>0</td>\n",
       "      <td>0</td>\n",
       "      <td>3</td>\n",
       "    </tr>\n",
       "    <tr>\n",
       "      <th>3</th>\n",
       "      <td>13</td>\n",
       "      <td>0.0</td>\n",
       "      <td>3</td>\n",
       "      <td>Saundercock, Mr. William Henry</td>\n",
       "      <td>male</td>\n",
       "      <td>20.0</td>\n",
       "      <td>0</td>\n",
       "      <td>0</td>\n",
       "      <td>A/5. 2151</td>\n",
       "      <td>8.0500</td>\n",
       "      <td>...</td>\n",
       "      <td>0.015713</td>\n",
       "      <td>Jovem</td>\n",
       "      <td>1</td>\n",
       "      <td>Superior</td>\n",
       "      <td>1</td>\n",
       "      <td>0</td>\n",
       "      <td>2</td>\n",
       "      <td>0</td>\n",
       "      <td>3</td>\n",
       "      <td>2</td>\n",
       "    </tr>\n",
       "    <tr>\n",
       "      <th>4</th>\n",
       "      <td>14</td>\n",
       "      <td>0.0</td>\n",
       "      <td>3</td>\n",
       "      <td>Andersson, Mr. Anders Johan</td>\n",
       "      <td>male</td>\n",
       "      <td>39.0</td>\n",
       "      <td>1</td>\n",
       "      <td>5</td>\n",
       "      <td>347082</td>\n",
       "      <td>31.2750</td>\n",
       "      <td>...</td>\n",
       "      <td>0.061045</td>\n",
       "      <td>Adulto</td>\n",
       "      <td>1</td>\n",
       "      <td>know</td>\n",
       "      <td>1</td>\n",
       "      <td>9</td>\n",
       "      <td>2</td>\n",
       "      <td>3</td>\n",
       "      <td>0</td>\n",
       "      <td>3</td>\n",
       "    </tr>\n",
       "  </tbody>\n",
       "</table>\n",
       "<p>5 rows × 29 columns</p>\n",
       "</div>"
      ],
      "text/plain": [
       "   PassengerId  Survived  Pclass                            Name   Sex   Age  \\\n",
       "0            1       0.0       3         Braund, Mr. Owen Harris  male  22.0   \n",
       "1            5       0.0       3        Allen, Mr. William Henry  male  35.0   \n",
       "2            6       0.0       3                Moran, Mr. James  male  26.0   \n",
       "3           13       0.0       3  Saundercock, Mr. William Henry  male  20.0   \n",
       "4           14       0.0       3     Andersson, Mr. Anders Johan  male  39.0   \n",
       "\n",
       "   SibSp  Parch     Ticket     Fare  ... Norm_Fare Ft_Fx_Age Prioridade  \\\n",
       "0      1      0  A/5 21171   7.2500  ...  0.014151     Jovem          1   \n",
       "1      0      0     373450   8.0500  ...  0.015713    Adulto          1   \n",
       "2      0      0     330877   8.4583  ...  0.016510    Adulto          1   \n",
       "3      0      0  A/5. 2151   8.0500  ...  0.015713     Jovem          1   \n",
       "4      1      5     347082  31.2750  ...  0.061045    Adulto          1   \n",
       "\n",
       "    Ft_Deck  Lb_enconder_Sex OneHt_Ft_Cabin OneHt_Embarked OneHt_Civil  \\\n",
       "0  Superior                1              0              2           3   \n",
       "1      know                1              9              2           0   \n",
       "2      know                1              9              1           0   \n",
       "3  Superior                1              0              2           0   \n",
       "4      know                1              9              2           3   \n",
       "\n",
       "   OneHt_Fx_Age  OneHt_Ft_Deck  \n",
       "0             3              2  \n",
       "1             0              3  \n",
       "2             0              3  \n",
       "3             3              2  \n",
       "4             0              3  \n",
       "\n",
       "[5 rows x 29 columns]"
      ]
     },
     "execution_count": 3172,
     "metadata": {},
     "output_type": "execute_result"
    }
   ],
   "source": [
    "titanic.head()"
   ]
  },
  {
   "cell_type": "markdown",
   "metadata": {
    "ExecuteTime": {
     "end_time": "2019-08-01T22:15:24.358824Z",
     "start_time": "2019-08-01T22:15:24.354817Z"
    }
   },
   "source": [
    "# MODELO\n",
    "\n"
   ]
  },
  {
   "cell_type": "code",
   "execution_count": 3207,
   "metadata": {
    "ExecuteTime": {
     "end_time": "2019-08-06T21:59:28.011474Z",
     "start_time": "2019-08-06T21:59:28.008471Z"
    }
   },
   "outputs": [],
   "source": [
    "set_modelo = titanic.copy()"
   ]
  },
  {
   "cell_type": "code",
   "execution_count": 3208,
   "metadata": {
    "ExecuteTime": {
     "end_time": "2019-08-06T21:59:28.495351Z",
     "start_time": "2019-08-06T21:59:28.488346Z"
    }
   },
   "outputs": [
    {
     "data": {
      "text/plain": [
       "Survived\n",
       "0.0    549\n",
       "1.0    342\n",
       "Name: Survived, dtype: int64"
      ]
     },
     "execution_count": 3208,
     "metadata": {},
     "output_type": "execute_result"
    }
   ],
   "source": [
    "set_modelo.groupby('Survived').Survived.count()"
   ]
  },
  {
   "cell_type": "code",
   "execution_count": 3213,
   "metadata": {
    "ExecuteTime": {
     "end_time": "2019-08-06T21:59:58.877051Z",
     "start_time": "2019-08-06T21:59:58.872046Z"
    }
   },
   "outputs": [],
   "source": [
    "#set_modelo.loc[set_modelo.Status_Survived=='Morto','Survived']=0\n",
    "#set_modelo.loc[set_modelo.Status_Survived=='Vivo' ,'Survived']=1\n",
    "\n",
    "\n",
    "train=set_modelo[0:891]\n",
    "test= set_modelo[0:892]\n",
    "IDtest = test_csv['PassengerId']"
   ]
  },
  {
   "cell_type": "code",
   "execution_count": 3214,
   "metadata": {
    "ExecuteTime": {
     "end_time": "2019-08-06T21:59:59.336020Z",
     "start_time": "2019-08-06T21:59:59.328999Z"
    }
   },
   "outputs": [
    {
     "data": {
      "text/plain": [
       "Survived\n",
       "0.0    549\n",
       "1.0    342\n",
       "Name: Survived, dtype: int64"
      ]
     },
     "execution_count": 3214,
     "metadata": {},
     "output_type": "execute_result"
    }
   ],
   "source": [
    "set_modelo.groupby('Survived').Survived.count()"
   ]
  },
  {
   "cell_type": "code",
   "execution_count": 3215,
   "metadata": {
    "ExecuteTime": {
     "end_time": "2019-08-06T22:00:00.031446Z",
     "start_time": "2019-08-06T22:00:00.024938Z"
    }
   },
   "outputs": [
    {
     "data": {
      "text/plain": [
       "Survived\n",
       "0.0    549\n",
       "1.0    342\n",
       "Name: Survived, dtype: int64"
      ]
     },
     "execution_count": 3215,
     "metadata": {},
     "output_type": "execute_result"
    }
   ],
   "source": [
    "train.groupby('Survived').Survived.count()"
   ]
  },
  {
   "cell_type": "code",
   "execution_count": 2969,
   "metadata": {
    "ExecuteTime": {
     "end_time": "2019-08-06T21:32:25.559878Z",
     "start_time": "2019-08-06T21:32:25.555858Z"
    }
   },
   "outputs": [],
   "source": [
    " train = train.drop(labels =['PassengerId','Ticket','Name','Status_Survived','Embarked','SibSp','Parch','Cabin'\n",
    "                         ],axis = 1)"
   ]
  },
  {
   "cell_type": "code",
   "execution_count": 2970,
   "metadata": {
    "ExecuteTime": {
     "end_time": "2019-08-06T21:32:26.304793Z",
     "start_time": "2019-08-06T21:32:26.300793Z"
    }
   },
   "outputs": [],
   "source": [
    " test = test.drop(labels =['PassengerId','Ticket','Name','Status_Survived','Embarked','SibSp','Parch',\n",
    "                      ],axis = 1)"
   ]
  },
  {
   "cell_type": "code",
   "execution_count": null,
   "metadata": {},
   "outputs": [],
   "source": []
  },
  {
   "cell_type": "code",
   "execution_count": 1752,
   "metadata": {
    "ExecuteTime": {
     "end_time": "2019-08-02T21:05:36.992785Z",
     "start_time": "2019-08-02T21:05:36.985280Z"
    }
   },
   "outputs": [],
   "source": [
    "train = pd.get_dummies(train, columns = [\"OneHt_Embarked\"]  , prefix=\"OH_Embarked\"  ,drop_first=True)\n",
    "#train = pd.get_dummies(train, columns = [\"Parch\"]           , prefix=\"Parch\"        ,drop_first=True)\n",
    "#train = pd.get_dummies(train, columns = [\"SibSp\"]           , prefix=\"SibSp\"        ,drop_first=True)\n"
   ]
  },
  {
   "cell_type": "code",
   "execution_count": 1753,
   "metadata": {
    "ExecuteTime": {
     "end_time": "2019-08-02T21:05:37.628223Z",
     "start_time": "2019-08-02T21:05:37.617716Z"
    }
   },
   "outputs": [
    {
     "data": {
      "text/html": [
       "<div>\n",
       "<style scoped>\n",
       "    .dataframe tbody tr th:only-of-type {\n",
       "        vertical-align: middle;\n",
       "    }\n",
       "\n",
       "    .dataframe tbody tr th {\n",
       "        vertical-align: top;\n",
       "    }\n",
       "\n",
       "    .dataframe thead th {\n",
       "        text-align: right;\n",
       "    }\n",
       "</style>\n",
       "<table border=\"1\" class=\"dataframe\">\n",
       "  <thead>\n",
       "    <tr style=\"text-align: right;\">\n",
       "      <th></th>\n",
       "      <th>Pclass</th>\n",
       "      <th>Survived</th>\n",
       "      <th>Lb_enconder_Sex</th>\n",
       "      <th>Lb_enconder_Family</th>\n",
       "      <th>Lb_Faixa_Age</th>\n",
       "      <th>OH_Embarked_1</th>\n",
       "      <th>OH_Embarked_2</th>\n",
       "    </tr>\n",
       "  </thead>\n",
       "  <tbody>\n",
       "    <tr>\n",
       "      <th>0</th>\n",
       "      <td>3</td>\n",
       "      <td>0</td>\n",
       "      <td>1</td>\n",
       "      <td>0</td>\n",
       "      <td>1</td>\n",
       "      <td>0</td>\n",
       "      <td>1</td>\n",
       "    </tr>\n",
       "    <tr>\n",
       "      <th>1</th>\n",
       "      <td>1</td>\n",
       "      <td>1</td>\n",
       "      <td>0</td>\n",
       "      <td>0</td>\n",
       "      <td>4</td>\n",
       "      <td>0</td>\n",
       "      <td>0</td>\n",
       "    </tr>\n",
       "    <tr>\n",
       "      <th>2</th>\n",
       "      <td>3</td>\n",
       "      <td>1</td>\n",
       "      <td>0</td>\n",
       "      <td>0</td>\n",
       "      <td>3</td>\n",
       "      <td>0</td>\n",
       "      <td>1</td>\n",
       "    </tr>\n",
       "    <tr>\n",
       "      <th>3</th>\n",
       "      <td>1</td>\n",
       "      <td>1</td>\n",
       "      <td>0</td>\n",
       "      <td>0</td>\n",
       "      <td>4</td>\n",
       "      <td>0</td>\n",
       "      <td>1</td>\n",
       "    </tr>\n",
       "    <tr>\n",
       "      <th>4</th>\n",
       "      <td>3</td>\n",
       "      <td>0</td>\n",
       "      <td>1</td>\n",
       "      <td>0</td>\n",
       "      <td>4</td>\n",
       "      <td>0</td>\n",
       "      <td>1</td>\n",
       "    </tr>\n",
       "  </tbody>\n",
       "</table>\n",
       "</div>"
      ],
      "text/plain": [
       "   Pclass Survived  Lb_enconder_Sex  Lb_enconder_Family  Lb_Faixa_Age  \\\n",
       "0       3        0                1                   0             1   \n",
       "1       1        1                0                   0             4   \n",
       "2       3        1                0                   0             3   \n",
       "3       1        1                0                   0             4   \n",
       "4       3        0                1                   0             4   \n",
       "\n",
       "   OH_Embarked_1  OH_Embarked_2  \n",
       "0              0              1  \n",
       "1              0              0  \n",
       "2              0              1  \n",
       "3              0              1  \n",
       "4              0              1  "
      ]
     },
     "execution_count": 1753,
     "metadata": {},
     "output_type": "execute_result"
    }
   ],
   "source": [
    "train.head()"
   ]
  },
  {
   "cell_type": "code",
   "execution_count": 1754,
   "metadata": {
    "ExecuteTime": {
     "end_time": "2019-08-02T21:05:38.184106Z",
     "start_time": "2019-08-02T21:05:38.176601Z"
    }
   },
   "outputs": [],
   "source": [
    "from sklearn.model_selection import train_test_split\n",
    "y = np.array(train[[\"Survived\"]])\n",
    "X = np.array(train.drop(labels = [\"Survived\"],axis = 1))\n",
    "\n",
    "\n",
    "\n",
    "X_train, X_test, y_train, y_test = train_test_split(X, y, test_size = 0.2, random_state = 0)"
   ]
  },
  {
   "cell_type": "code",
   "execution_count": 1755,
   "metadata": {
    "ExecuteTime": {
     "end_time": "2019-08-02T21:05:39.157277Z",
     "start_time": "2019-08-02T21:05:39.152774Z"
    }
   },
   "outputs": [],
   "source": [
    "from sklearn.model_selection import GridSearchCV, cross_val_score, StratifiedKFold, learning_curve\n",
    "from sklearn.ensemble import RandomForestClassifier, AdaBoostClassifier, GradientBoostingClassifier, ExtraTreesClassifier, VotingClassifier\n",
    "from sklearn.discriminant_analysis import LinearDiscriminantAnalysis\n",
    "from sklearn.linear_model import LogisticRegression\n",
    "from sklearn.neighbors import KNeighborsClassifier\n",
    "from sklearn.tree import DecisionTreeClassifier\n",
    "from sklearn.neural_network import MLPClassifier\n",
    "from sklearn.svm import SVC\n",
    "\n",
    "\n",
    "\n",
    "\n",
    "kfold = StratifiedKFold(n_splits=3)"
   ]
  },
  {
   "cell_type": "code",
   "execution_count": 1756,
   "metadata": {
    "ExecuteTime": {
     "end_time": "2019-08-02T21:05:41.518405Z",
     "start_time": "2019-08-02T21:05:40.601273Z"
    }
   },
   "outputs": [
    {
     "data": {
      "image/png": "[encoded data removed]",
      "text/plain": [
       "<Figure size 432x288 with 1 Axes>"
      ]
     },
     "metadata": {
      "needs_background": "light"
     },
     "output_type": "display_data"
    }
   ],
   "source": [
    "# Modeling step Test differents algorithms \n",
    "random_state = 2\n",
    "classifiers = []\n",
    "classifiers.append(SVC(random_state=random_state))\n",
    "classifiers.append(DecisionTreeClassifier(random_state=random_state))\n",
    "classifiers.append(AdaBoostClassifier(DecisionTreeClassifier(random_state=random_state),random_state=random_state,learning_rate=0.1))\n",
    "classifiers.append(RandomForestClassifier(random_state=random_state))\n",
    "classifiers.append(ExtraTreesClassifier(random_state=random_state))\n",
    "classifiers.append(GradientBoostingClassifier(random_state=random_state))\n",
    "classifiers.append(MLPClassifier(random_state=random_state))\n",
    "classifiers.append(KNeighborsClassifier())\n",
    "classifiers.append(LogisticRegression(random_state = random_state))\n",
    "classifiers.append(LinearDiscriminantAnalysis())\n",
    "\n",
    "cv_results = []\n",
    "for classifier in classifiers :\n",
    "    cv_results.append(cross_val_score(classifier, X_train, y = y_train, scoring = \"accuracy\", cv = kfold, n_jobs=4))\n",
    "\n",
    "cv_means = []\n",
    "cv_std = []\n",
    "for cv_result in cv_results:\n",
    "    cv_means.append(cv_result.mean())\n",
    "    cv_std.append(cv_result.std())\n",
    "\n",
    "cv_res = pd.DataFrame({\"CrossValMeans\":cv_means,\"CrossValerrors\": cv_std,\"Algorithm\":[\"SVC\",\"DecisionTree\",\"AdaBoost\",\n",
    "\"RandomForest\",\"ExtraTrees\",\"GradientBoosting\",\"MultipleLayerPerceptron\",\"KNeighboors\",\"LogisticRegression\",\"LinearDiscriminantAnalysis\"]})\n",
    "\n",
    "g = sns.barplot(\"CrossValMeans\",\"Algorithm\",data = cv_res, palette=\"Set3\",orient = \"h\",**{'xerr':cv_std})\n",
    "g.set_xlabel(\"Mean Accuracy\")\n",
    "g = g.set_title(\"Cross validation scores\")"
   ]
  },
  {
   "cell_type": "code",
   "execution_count": 1757,
   "metadata": {
    "ExecuteTime": {
     "end_time": "2019-08-02T21:05:47.361433Z",
     "start_time": "2019-08-02T21:05:43.833000Z"
    }
   },
   "outputs": [
    {
     "name": "stdout",
     "output_type": "stream",
     "text": [
      "Fitting 3 folds for each of 72 candidates, totalling 216 fits\n"
     ]
    },
    {
     "name": "stderr",
     "output_type": "stream",
     "text": [
      "[Parallel(n_jobs=4)]: Using backend LokyBackend with 4 concurrent workers.\n",
      "[Parallel(n_jobs=4)]: Done 216 out of 216 | elapsed:    3.3s finished\n"
     ]
    },
    {
     "data": {
      "text/plain": [
       "0.8047752808988764"
      ]
     },
     "execution_count": 1757,
     "metadata": {},
     "output_type": "execute_result"
    }
   ],
   "source": [
    "# Gradient boosting tunning\n",
    "\n",
    "GBC = GradientBoostingClassifier()\n",
    "gb_param_grid = {'loss' : [\"deviance\"],\n",
    "              'n_estimators' : [100,200,300],\n",
    "              'learning_rate': [0.1, 0.05, 0.01],\n",
    "              'max_depth': [4, 8],\n",
    "              'min_samples_leaf': [100,150],\n",
    "              'max_features': [0.3, 0.1] \n",
    "              }\n",
    "\n",
    "gsGBC = GridSearchCV(GBC,param_grid = gb_param_grid, cv=kfold, scoring=\"accuracy\", n_jobs= 4, verbose = 1)\n",
    "\n",
    "gsGBC.fit(X_train,y_train)\n",
    "\n",
    "GBC_best = gsGBC.best_estimator_\n",
    "\n",
    "# Best score\n",
    "gsGBC.best_score_"
   ]
  },
  {
   "cell_type": "code",
   "execution_count": 1758,
   "metadata": {
    "ExecuteTime": {
     "end_time": "2019-08-02T21:05:49.016074Z",
     "start_time": "2019-08-02T21:05:48.449182Z"
    }
   },
   "outputs": [
    {
     "name": "stdout",
     "output_type": "stream",
     "text": [
      "Fitting 3 folds for each of 112 candidates, totalling 336 fits\n"
     ]
    },
    {
     "name": "stderr",
     "output_type": "stream",
     "text": [
      "[Parallel(n_jobs=4)]: Using backend LokyBackend with 4 concurrent workers.\n",
      "[Parallel(n_jobs=4)]: Done 336 out of 336 | elapsed:    0.4s finished\n"
     ]
    },
    {
     "data": {
      "text/plain": [
       "0.7893258426966292"
      ]
     },
     "execution_count": 1758,
     "metadata": {},
     "output_type": "execute_result"
    }
   ],
   "source": [
    "### META MODELING  WITH ADABOOST, RF, EXTRATREES and GRADIENTBOOSTING\n",
    "\n",
    "# Adaboost\n",
    "DTC = DecisionTreeClassifier()\n",
    "\n",
    "adaDTC = AdaBoostClassifier(DTC, random_state=7)\n",
    "\n",
    "ada_param_grid = {\"base_estimator__criterion\" : [\"gini\", \"entropy\"],\n",
    "              \"base_estimator__splitter\" :   [\"best\", \"random\"],\n",
    "              \"algorithm\" : [\"SAMME\",\"SAMME.R\"],\n",
    "              \"n_estimators\" :[1,2],\n",
    "              \"learning_rate\":  [0.0001, 0.001, 0.01, 0.1, 0.2, 0.3,1.5]}\n",
    "\n",
    "gsadaDTC = GridSearchCV(adaDTC,param_grid = ada_param_grid, cv=kfold, scoring=\"accuracy\", n_jobs= 4, verbose = 1)\n",
    "\n",
    "gsadaDTC.fit(X_train,y_train)\n",
    "\n",
    "ada_best = gsadaDTC.best_estimator_\n",
    "\n",
    "gsadaDTC.best_score_"
   ]
  },
  {
   "cell_type": "code",
   "execution_count": 1759,
   "metadata": {
    "ExecuteTime": {
     "end_time": "2019-08-02T21:06:00.048178Z",
     "start_time": "2019-08-02T21:05:51.584844Z"
    }
   },
   "outputs": [
    {
     "name": "stdout",
     "output_type": "stream",
     "text": [
      "Fitting 3 folds for each of 54 candidates, totalling 162 fits\n"
     ]
    },
    {
     "name": "stderr",
     "output_type": "stream",
     "text": [
      "[Parallel(n_jobs=4)]: Using backend LokyBackend with 4 concurrent workers.\n",
      "[Parallel(n_jobs=4)]: Done  76 tasks      | elapsed:    3.8s\n",
      "[Parallel(n_jobs=4)]: Done 162 out of 162 | elapsed:    8.1s finished\n"
     ]
    },
    {
     "data": {
      "text/plain": [
       "0.8075842696629213"
      ]
     },
     "execution_count": 1759,
     "metadata": {},
     "output_type": "execute_result"
    }
   ],
   "source": [
    "# RFC Parameters tunning \n",
    "RFC = RandomForestClassifier()\n",
    "\n",
    "\n",
    "## Search grid for optimal parameters\n",
    "rf_param_grid = {\"max_depth\": [None],\n",
    "                 \"max_features\": [1, 3, 0.1],\n",
    "                 \"min_samples_split\": [2, 3, 10],\n",
    "                 \"min_samples_leaf\": [1, 3, 10],\n",
    "                 \"bootstrap\": [False],\n",
    "                 \"n_estimators\" :[100,300],\n",
    "                \"criterion\": [\"gini\"]}\n",
    "\n",
    "\n",
    "gsRFC = GridSearchCV(RFC,param_grid = rf_param_grid, cv=kfold, scoring=\"accuracy\", n_jobs= 4, verbose = 1)\n",
    "\n",
    "gsRFC.fit(X_train,y_train)\n",
    "\n",
    "RFC_best = gsRFC.best_estimator_\n",
    "\n",
    "# Best score\n",
    "gsRFC.best_score_"
   ]
  },
  {
   "cell_type": "code",
   "execution_count": 1760,
   "metadata": {
    "ExecuteTime": {
     "end_time": "2019-08-02T21:06:05.895209Z",
     "start_time": "2019-08-02T21:06:04.024420Z"
    }
   },
   "outputs": [
    {
     "data": {
      "image/png": "[encoded data removed]",
      "text/plain": [
       "<Figure size 432x288 with 1 Axes>"
      ]
     },
     "metadata": {
      "needs_background": "light"
     },
     "output_type": "display_data"
    },
    {
     "data": {
      "image/png": "[encoded data removed]",
      "text/plain": [
       "<Figure size 432x288 with 1 Axes>"
      ]
     },
     "metadata": {
      "needs_background": "light"
     },
     "output_type": "display_data"
    },
    {
     "data": {
      "image/png": "[encoded data removed]",
      "text/plain": [
       "<Figure size 432x288 with 1 Axes>"
      ]
     },
     "metadata": {
      "needs_background": "light"
     },
     "output_type": "display_data"
    }
   ],
   "source": [
    "def plot_learning_curve(estimator, title, X, y, ylim=None, cv=None,\n",
    "                        n_jobs=-1, train_sizes=np.linspace(.1, 1.0, 5)):\n",
    "    \"\"\"Generate a simple plot of the test and training learning curve\"\"\"\n",
    "    plt.figure()\n",
    "    plt.title(title)\n",
    "    if ylim is not None:\n",
    "        plt.ylim(*ylim)\n",
    "    plt.xlabel(\"Training examples\")\n",
    "    plt.ylabel(\"Score\")\n",
    "    train_sizes, train_scores, test_scores = learning_curve(estimator, X, y, cv=cv, n_jobs=n_jobs, train_sizes=train_sizes)\n",
    "    train_scores_mean = np.mean(train_scores, axis=1)\n",
    "    train_scores_std = np.std(train_scores, axis=1)\n",
    "    test_scores_mean = np.mean(test_scores, axis=1)\n",
    "    test_scores_std = np.std(test_scores, axis=1)\n",
    "    plt.grid()\n",
    "\n",
    "    plt.fill_between(train_sizes, train_scores_mean - train_scores_std,\n",
    "                     train_scores_mean + train_scores_std, alpha=0.1,\n",
    "                     color=\"r\")\n",
    "    \n",
    "    plt.fill_between(train_sizes, test_scores_mean - test_scores_std,\n",
    "                     test_scores_mean + test_scores_std, alpha=0.1, color=\"g\")\n",
    "    \n",
    "    plt.plot(train_sizes, train_scores_mean, 'o-', color=\"r\",\n",
    "             label=\"Training score\")\n",
    "    \n",
    "    plt.plot(train_sizes, test_scores_mean, 'o-', color=\"g\",\n",
    "             label=\"Cross-validation score\")\n",
    "\n",
    "    plt.legend(loc=\"best\")\n",
    "    return plt\n",
    "\n",
    "g = plot_learning_curve(gsRFC.best_estimator_,\"RF mearning curves\",X_train,y_train,cv=kfold)\n",
    "#g = plot_learning_curve(gsExtC.best_estimator_,\"ExtraTrees learning curves\",X_train,y_train,cv=kfold)\n",
    "#g = plot_learning_curve(gsSVMC.best_estimator_,\"SVC learning curves\",X_train,y_train,cv=kfold)\n",
    "g = plot_learning_curve(gsadaDTC.best_estimator_,\"AdaBoost learning curves\",X_train,y_train,cv=kfold)\n",
    "g = plot_learning_curve(gsGBC.best_estimator_,\"GradientBoosting learning curves\",X_train,y_train,cv=kfold)"
   ]
  },
  {
   "cell_type": "markdown",
   "metadata": {},
   "source": [
    "# Predict"
   ]
  },
  {
   "cell_type": "code",
   "execution_count": 1761,
   "metadata": {
    "ExecuteTime": {
     "end_time": "2019-08-02T21:06:10.695534Z",
     "start_time": "2019-08-02T21:06:10.688029Z"
    }
   },
   "outputs": [],
   "source": [
    "test = pd.get_dummies(test, columns = [\"OneHt_Embarked\"]  , prefix=\"OH_Embarked\"  ,drop_first=True)"
   ]
  },
  {
   "cell_type": "code",
   "execution_count": 1762,
   "metadata": {
    "ExecuteTime": {
     "end_time": "2019-08-02T21:06:11.480075Z",
     "start_time": "2019-08-02T21:06:11.472070Z"
    }
   },
   "outputs": [
    {
     "name": "stdout",
     "output_type": "stream",
     "text": [
      "<class 'pandas.core.frame.DataFrame'>\n",
      "RangeIndex: 418 entries, 891 to 1308\n",
      "Data columns (total 7 columns):\n",
      "Pclass                418 non-null int64\n",
      "Survived              0 non-null object\n",
      "Lb_enconder_Sex       418 non-null int64\n",
      "Lb_enconder_Family    418 non-null int64\n",
      "Lb_Faixa_Age          418 non-null int64\n",
      "OH_Embarked_1         418 non-null uint8\n",
      "OH_Embarked_2         418 non-null uint8\n",
      "dtypes: int64(4), object(1), uint8(2)\n",
      "memory usage: 15.6+ KB\n"
     ]
    }
   ],
   "source": [
    "test.info()"
   ]
  },
  {
   "cell_type": "code",
   "execution_count": 1763,
   "metadata": {
    "ExecuteTime": {
     "end_time": "2019-08-02T21:06:14.361561Z",
     "start_time": "2019-08-02T21:06:14.353056Z"
    }
   },
   "outputs": [
    {
     "name": "stdout",
     "output_type": "stream",
     "text": [
      "<class 'pandas.core.frame.DataFrame'>\n",
      "RangeIndex: 891 entries, 0 to 890\n",
      "Data columns (total 7 columns):\n",
      "Pclass                891 non-null int64\n",
      "Survived              891 non-null object\n",
      "Lb_enconder_Sex       891 non-null int64\n",
      "Lb_enconder_Family    891 non-null int64\n",
      "Lb_Faixa_Age          891 non-null int64\n",
      "OH_Embarked_1         891 non-null uint8\n",
      "OH_Embarked_2         891 non-null uint8\n",
      "dtypes: int64(4), object(1), uint8(2)\n",
      "memory usage: 33.1+ KB\n"
     ]
    }
   ],
   "source": [
    "train.info()"
   ]
  },
  {
   "cell_type": "code",
   "execution_count": 1764,
   "metadata": {
    "ExecuteTime": {
     "end_time": "2019-08-02T21:06:17.111967Z",
     "start_time": "2019-08-02T21:06:17.102961Z"
    }
   },
   "outputs": [],
   "source": [
    "y = np.array(train[[\"Survived\"]])\n",
    "X = np.array(train.drop(labels = [\"Survived\"],axis = 1))\n",
    "\n",
    "\n",
    "y_test = np.array(test[[\"Survived\"]])\n",
    "X_test = np.array(test.drop(labels = [\"Survived\"],axis = 1))\n"
   ]
  },
  {
   "cell_type": "code",
   "execution_count": 1765,
   "metadata": {
    "ExecuteTime": {
     "end_time": "2019-08-02T21:06:32.986911Z",
     "start_time": "2019-08-02T21:06:19.496611Z"
    }
   },
   "outputs": [
    {
     "data": {
      "text/plain": [
       "GridSearchCV(cv='warn', error_score='raise-deprecating',\n",
       "       estimator=GradientBoostingClassifier(criterion='friedman_mse', init=None,\n",
       "              learning_rate=0.1, loss='deviance', max_depth=3,\n",
       "              max_features=None, max_leaf_nodes=None,\n",
       "              min_impurity_decrease=0.0, min_impurity_split=None,\n",
       "              min_samples_leaf=1, min_sampl...      subsample=1.0, tol=0.0001, validation_fraction=0.1,\n",
       "              verbose=0, warm_start=False),\n",
       "       fit_params=None, iid='warn', n_jobs=None,\n",
       "       param_grid={'loss': ['deviance'], 'n_estimators': [100, 200, 300], 'learning_rate': [0.1, 0.05, 0.01], 'max_depth': [4, 8], 'min_samples_leaf': [100, 150], 'max_features': [0.3, 0.1]},\n",
       "       pre_dispatch='2*n_jobs', refit=True, return_train_score='warn',\n",
       "       scoring='accuracy', verbose=0)"
      ]
     },
     "execution_count": 1765,
     "metadata": {},
     "output_type": "execute_result"
    }
   ],
   "source": [
    "GBC = GradientBoostingClassifier()\n",
    "gb_param_grid = {'loss' : [\"deviance\"],\n",
    "              'n_estimators' : [100,200,300],\n",
    "              'learning_rate': [0.1, 0.05, 0.01],\n",
    "              'max_depth': [4, 8],\n",
    "              'min_samples_leaf': [100,150],\n",
    "              'max_features': [0.3, 0.1] \n",
    "              }\n",
    "\n",
    "gsGBC = GridSearchCV(GBC,param_grid = gb_param_grid, scoring=\"accuracy\")\n",
    "\n",
    "gsGBC.fit(X,y)\n",
    "\n",
    "\n"
   ]
  },
  {
   "cell_type": "code",
   "execution_count": 1766,
   "metadata": {
    "ExecuteTime": {
     "end_time": "2019-08-02T21:06:37.124773Z",
     "start_time": "2019-08-02T21:06:37.118769Z"
    }
   },
   "outputs": [],
   "source": [
    "y_pred=gsGBC.predict(X)"
   ]
  },
  {
   "cell_type": "code",
   "execution_count": 1786,
   "metadata": {
    "ExecuteTime": {
     "end_time": "2019-08-02T21:09:26.621363Z",
     "start_time": "2019-08-02T21:09:26.605852Z"
    }
   },
   "outputs": [
    {
     "ename": "TypeError",
     "evalue": "concat() got multiple values for argument 'axis'",
     "output_type": "error",
     "traceback": [
      "\u001b[1;31m---------------------------------------------------------------------------\u001b[0m",
      "\u001b[1;31mTypeError\u001b[0m                                 Traceback (most recent call last)",
      "\u001b[1;32m<ipython-input-1786-c4b7525c450e>\u001b[0m in \u001b[0;36m<module>\u001b[1;34m\u001b[0m\n\u001b[0;32m      2\u001b[0m \u001b[1;33m\u001b[0m\u001b[0m\n\u001b[0;32m      3\u001b[0m \u001b[1;33m\u001b[0m\u001b[0m\n\u001b[1;32m----> 4\u001b[1;33m \u001b[0mresults\u001b[0m \u001b[1;33m=\u001b[0m \u001b[0mpd\u001b[0m\u001b[1;33m.\u001b[0m\u001b[0mconcat\u001b[0m\u001b[1;33m(\u001b[0m\u001b[0mIDtest\u001b[0m\u001b[1;33m,\u001b[0m\u001b[0mtest_Survived\u001b[0m\u001b[1;33m,\u001b[0m\u001b[0maxis\u001b[0m\u001b[1;33m=\u001b[0m\u001b[1;36m1\u001b[0m\u001b[1;33m)\u001b[0m\u001b[1;33m\u001b[0m\u001b[0m\n\u001b[0m\u001b[0;32m      5\u001b[0m \u001b[1;33m\u001b[0m\u001b[0m\n\u001b[0;32m      6\u001b[0m \u001b[0mresults\u001b[0m\u001b[1;33m.\u001b[0m\u001b[0mto_csv\u001b[0m\u001b[1;33m(\u001b[0m\u001b[1;34m\"predict_titanic.csv\"\u001b[0m\u001b[1;33m,\u001b[0m\u001b[0mindex\u001b[0m\u001b[1;33m=\u001b[0m\u001b[1;32mFalse\u001b[0m\u001b[1;33m)\u001b[0m\u001b[1;33m\u001b[0m\u001b[0m\n",
      "\u001b[1;31mTypeError\u001b[0m: concat() got multiple values for argument 'axis'"
     ]
    }
   ],
   "source": [
    "test_Survived = pd.Series(gsGBC.predict(X), name=\"Survived\")\n",
    "\n",
    "\n",
    "results = pd.concat(IDtest,test_Survived,axis=1)\n",
    "\n",
    "results.to_csv(\"predict_titanic.csv\",index=False)"
   ]
  },
  {
   "cell_type": "code",
   "execution_count": 1787,
   "metadata": {
    "ExecuteTime": {
     "end_time": "2019-08-02T21:09:27.485458Z",
     "start_time": "2019-08-02T21:09:27.468947Z"
    }
   },
   "outputs": [
    {
     "data": {
      "text/html": [
       "<div>\n",
       "<style scoped>\n",
       "    .dataframe tbody tr th:only-of-type {\n",
       "        vertical-align: middle;\n",
       "    }\n",
       "\n",
       "    .dataframe tbody tr th {\n",
       "        vertical-align: top;\n",
       "    }\n",
       "\n",
       "    .dataframe thead th {\n",
       "        text-align: right;\n",
       "    }\n",
       "</style>\n",
       "<table border=\"1\" class=\"dataframe\">\n",
       "  <thead>\n",
       "    <tr style=\"text-align: right;\">\n",
       "      <th></th>\n",
       "      <th>PassengerId</th>\n",
       "      <th>Survived</th>\n",
       "    </tr>\n",
       "  </thead>\n",
       "  <tbody>\n",
       "    <tr>\n",
       "      <th>0</th>\n",
       "      <td>892.0</td>\n",
       "      <td>0</td>\n",
       "    </tr>\n",
       "    <tr>\n",
       "      <th>1</th>\n",
       "      <td>893.0</td>\n",
       "      <td>1</td>\n",
       "    </tr>\n",
       "    <tr>\n",
       "      <th>2</th>\n",
       "      <td>894.0</td>\n",
       "      <td>0</td>\n",
       "    </tr>\n",
       "    <tr>\n",
       "      <th>3</th>\n",
       "      <td>895.0</td>\n",
       "      <td>1</td>\n",
       "    </tr>\n",
       "    <tr>\n",
       "      <th>4</th>\n",
       "      <td>896.0</td>\n",
       "      <td>0</td>\n",
       "    </tr>\n",
       "    <tr>\n",
       "      <th>5</th>\n",
       "      <td>897.0</td>\n",
       "      <td>0</td>\n",
       "    </tr>\n",
       "    <tr>\n",
       "      <th>6</th>\n",
       "      <td>898.0</td>\n",
       "      <td>0</td>\n",
       "    </tr>\n",
       "    <tr>\n",
       "      <th>7</th>\n",
       "      <td>899.0</td>\n",
       "      <td>0</td>\n",
       "    </tr>\n",
       "    <tr>\n",
       "      <th>8</th>\n",
       "      <td>900.0</td>\n",
       "      <td>0</td>\n",
       "    </tr>\n",
       "    <tr>\n",
       "      <th>9</th>\n",
       "      <td>901.0</td>\n",
       "      <td>1</td>\n",
       "    </tr>\n",
       "    <tr>\n",
       "      <th>10</th>\n",
       "      <td>902.0</td>\n",
       "      <td>1</td>\n",
       "    </tr>\n",
       "    <tr>\n",
       "      <th>11</th>\n",
       "      <td>903.0</td>\n",
       "      <td>1</td>\n",
       "    </tr>\n",
       "    <tr>\n",
       "      <th>12</th>\n",
       "      <td>904.0</td>\n",
       "      <td>0</td>\n",
       "    </tr>\n",
       "    <tr>\n",
       "      <th>13</th>\n",
       "      <td>905.0</td>\n",
       "      <td>0</td>\n",
       "    </tr>\n",
       "    <tr>\n",
       "      <th>14</th>\n",
       "      <td>906.0</td>\n",
       "      <td>0</td>\n",
       "    </tr>\n",
       "    <tr>\n",
       "      <th>15</th>\n",
       "      <td>907.0</td>\n",
       "      <td>1</td>\n",
       "    </tr>\n",
       "    <tr>\n",
       "      <th>16</th>\n",
       "      <td>908.0</td>\n",
       "      <td>0</td>\n",
       "    </tr>\n",
       "    <tr>\n",
       "      <th>17</th>\n",
       "      <td>909.0</td>\n",
       "      <td>0</td>\n",
       "    </tr>\n",
       "    <tr>\n",
       "      <th>18</th>\n",
       "      <td>910.0</td>\n",
       "      <td>0</td>\n",
       "    </tr>\n",
       "    <tr>\n",
       "      <th>19</th>\n",
       "      <td>911.0</td>\n",
       "      <td>1</td>\n",
       "    </tr>\n",
       "    <tr>\n",
       "      <th>20</th>\n",
       "      <td>912.0</td>\n",
       "      <td>0</td>\n",
       "    </tr>\n",
       "    <tr>\n",
       "      <th>21</th>\n",
       "      <td>913.0</td>\n",
       "      <td>0</td>\n",
       "    </tr>\n",
       "    <tr>\n",
       "      <th>22</th>\n",
       "      <td>914.0</td>\n",
       "      <td>1</td>\n",
       "    </tr>\n",
       "    <tr>\n",
       "      <th>23</th>\n",
       "      <td>915.0</td>\n",
       "      <td>0</td>\n",
       "    </tr>\n",
       "    <tr>\n",
       "      <th>24</th>\n",
       "      <td>916.0</td>\n",
       "      <td>1</td>\n",
       "    </tr>\n",
       "    <tr>\n",
       "      <th>25</th>\n",
       "      <td>917.0</td>\n",
       "      <td>0</td>\n",
       "    </tr>\n",
       "    <tr>\n",
       "      <th>26</th>\n",
       "      <td>918.0</td>\n",
       "      <td>0</td>\n",
       "    </tr>\n",
       "    <tr>\n",
       "      <th>27</th>\n",
       "      <td>919.0</td>\n",
       "      <td>0</td>\n",
       "    </tr>\n",
       "    <tr>\n",
       "      <th>28</th>\n",
       "      <td>920.0</td>\n",
       "      <td>1</td>\n",
       "    </tr>\n",
       "    <tr>\n",
       "      <th>29</th>\n",
       "      <td>921.0</td>\n",
       "      <td>0</td>\n",
       "    </tr>\n",
       "    <tr>\n",
       "      <th>...</th>\n",
       "      <td>...</td>\n",
       "      <td>...</td>\n",
       "    </tr>\n",
       "    <tr>\n",
       "      <th>861</th>\n",
       "      <td>NaN</td>\n",
       "      <td>0</td>\n",
       "    </tr>\n",
       "    <tr>\n",
       "      <th>862</th>\n",
       "      <td>NaN</td>\n",
       "      <td>1</td>\n",
       "    </tr>\n",
       "    <tr>\n",
       "      <th>863</th>\n",
       "      <td>NaN</td>\n",
       "      <td>1</td>\n",
       "    </tr>\n",
       "    <tr>\n",
       "      <th>864</th>\n",
       "      <td>NaN</td>\n",
       "      <td>0</td>\n",
       "    </tr>\n",
       "    <tr>\n",
       "      <th>865</th>\n",
       "      <td>NaN</td>\n",
       "      <td>1</td>\n",
       "    </tr>\n",
       "    <tr>\n",
       "      <th>866</th>\n",
       "      <td>NaN</td>\n",
       "      <td>1</td>\n",
       "    </tr>\n",
       "    <tr>\n",
       "      <th>867</th>\n",
       "      <td>NaN</td>\n",
       "      <td>0</td>\n",
       "    </tr>\n",
       "    <tr>\n",
       "      <th>868</th>\n",
       "      <td>NaN</td>\n",
       "      <td>0</td>\n",
       "    </tr>\n",
       "    <tr>\n",
       "      <th>869</th>\n",
       "      <td>NaN</td>\n",
       "      <td>0</td>\n",
       "    </tr>\n",
       "    <tr>\n",
       "      <th>870</th>\n",
       "      <td>NaN</td>\n",
       "      <td>0</td>\n",
       "    </tr>\n",
       "    <tr>\n",
       "      <th>871</th>\n",
       "      <td>NaN</td>\n",
       "      <td>1</td>\n",
       "    </tr>\n",
       "    <tr>\n",
       "      <th>872</th>\n",
       "      <td>NaN</td>\n",
       "      <td>0</td>\n",
       "    </tr>\n",
       "    <tr>\n",
       "      <th>873</th>\n",
       "      <td>NaN</td>\n",
       "      <td>0</td>\n",
       "    </tr>\n",
       "    <tr>\n",
       "      <th>874</th>\n",
       "      <td>NaN</td>\n",
       "      <td>1</td>\n",
       "    </tr>\n",
       "    <tr>\n",
       "      <th>875</th>\n",
       "      <td>NaN</td>\n",
       "      <td>1</td>\n",
       "    </tr>\n",
       "    <tr>\n",
       "      <th>876</th>\n",
       "      <td>NaN</td>\n",
       "      <td>0</td>\n",
       "    </tr>\n",
       "    <tr>\n",
       "      <th>877</th>\n",
       "      <td>NaN</td>\n",
       "      <td>0</td>\n",
       "    </tr>\n",
       "    <tr>\n",
       "      <th>878</th>\n",
       "      <td>NaN</td>\n",
       "      <td>0</td>\n",
       "    </tr>\n",
       "    <tr>\n",
       "      <th>879</th>\n",
       "      <td>NaN</td>\n",
       "      <td>1</td>\n",
       "    </tr>\n",
       "    <tr>\n",
       "      <th>880</th>\n",
       "      <td>NaN</td>\n",
       "      <td>1</td>\n",
       "    </tr>\n",
       "    <tr>\n",
       "      <th>881</th>\n",
       "      <td>NaN</td>\n",
       "      <td>0</td>\n",
       "    </tr>\n",
       "    <tr>\n",
       "      <th>882</th>\n",
       "      <td>NaN</td>\n",
       "      <td>0</td>\n",
       "    </tr>\n",
       "    <tr>\n",
       "      <th>883</th>\n",
       "      <td>NaN</td>\n",
       "      <td>0</td>\n",
       "    </tr>\n",
       "    <tr>\n",
       "      <th>884</th>\n",
       "      <td>NaN</td>\n",
       "      <td>0</td>\n",
       "    </tr>\n",
       "    <tr>\n",
       "      <th>885</th>\n",
       "      <td>NaN</td>\n",
       "      <td>1</td>\n",
       "    </tr>\n",
       "    <tr>\n",
       "      <th>886</th>\n",
       "      <td>NaN</td>\n",
       "      <td>0</td>\n",
       "    </tr>\n",
       "    <tr>\n",
       "      <th>887</th>\n",
       "      <td>NaN</td>\n",
       "      <td>1</td>\n",
       "    </tr>\n",
       "    <tr>\n",
       "      <th>888</th>\n",
       "      <td>NaN</td>\n",
       "      <td>1</td>\n",
       "    </tr>\n",
       "    <tr>\n",
       "      <th>889</th>\n",
       "      <td>NaN</td>\n",
       "      <td>0</td>\n",
       "    </tr>\n",
       "    <tr>\n",
       "      <th>890</th>\n",
       "      <td>NaN</td>\n",
       "      <td>0</td>\n",
       "    </tr>\n",
       "  </tbody>\n",
       "</table>\n",
       "<p>891 rows × 2 columns</p>\n",
       "</div>"
      ],
      "text/plain": [
       "     PassengerId Survived\n",
       "0          892.0        0\n",
       "1          893.0        1\n",
       "2          894.0        0\n",
       "3          895.0        1\n",
       "4          896.0        0\n",
       "5          897.0        0\n",
       "6          898.0        0\n",
       "7          899.0        0\n",
       "8          900.0        0\n",
       "9          901.0        1\n",
       "10         902.0        1\n",
       "11         903.0        1\n",
       "12         904.0        0\n",
       "13         905.0        0\n",
       "14         906.0        0\n",
       "15         907.0        1\n",
       "16         908.0        0\n",
       "17         909.0        0\n",
       "18         910.0        0\n",
       "19         911.0        1\n",
       "20         912.0        0\n",
       "21         913.0        0\n",
       "22         914.0        1\n",
       "23         915.0        0\n",
       "24         916.0        1\n",
       "25         917.0        0\n",
       "26         918.0        0\n",
       "27         919.0        0\n",
       "28         920.0        1\n",
       "29         921.0        0\n",
       "..           ...      ...\n",
       "861          NaN        0\n",
       "862          NaN        1\n",
       "863          NaN        1\n",
       "864          NaN        0\n",
       "865          NaN        1\n",
       "866          NaN        1\n",
       "867          NaN        0\n",
       "868          NaN        0\n",
       "869          NaN        0\n",
       "870          NaN        0\n",
       "871          NaN        1\n",
       "872          NaN        0\n",
       "873          NaN        0\n",
       "874          NaN        1\n",
       "875          NaN        1\n",
       "876          NaN        0\n",
       "877          NaN        0\n",
       "878          NaN        0\n",
       "879          NaN        1\n",
       "880          NaN        1\n",
       "881          NaN        0\n",
       "882          NaN        0\n",
       "883          NaN        0\n",
       "884          NaN        0\n",
       "885          NaN        1\n",
       "886          NaN        0\n",
       "887          NaN        1\n",
       "888          NaN        1\n",
       "889          NaN        0\n",
       "890          NaN        0\n",
       "\n",
       "[891 rows x 2 columns]"
      ]
     },
     "execution_count": 1787,
     "metadata": {},
     "output_type": "execute_result"
    }
   ],
   "source": [
    "results"
   ]
  },
  {
   "cell_type": "code",
   "execution_count": null,
   "metadata": {},
   "outputs": [],
   "source": []
  },
  {
   "cell_type": "code",
   "execution_count": null,
   "metadata": {},
   "outputs": [],
   "source": []
  }
 ],
 "metadata": {
  "gist": {
   "data": {
    "description": "https://github.com/Pantoja87/Titanic-Disaster.git",
    "public": true
   },
   "id": ""
  },
  "hide_input": false,
  "kernelspec": {
   "display_name": "Python 3",
   "language": "python",
   "name": "python3"
  },
  "language_info": {
   "codemirror_mode": {
    "name": "ipython",
    "version": 3
   },
   "file_extension": ".py",
   "mimetype": "text/x-python",
   "name": "python",
   "nbconvert_exporter": "python",
   "pygments_lexer": "ipython3",
   "version": "3.6.4"
  },
  "nbTranslate": {
   "displayLangs": [
    "*"
   ],
   "hotkey": "alt-t",
   "langInMainMenu": true,
   "sourceLang": "en",
   "targetLang": "fr",
   "useGoogleTranslate": true
  },
  "toc": {
   "base_numbering": 1,
   "nav_menu": {},
   "number_sections": true,
   "sideBar": true,
   "skip_h1_title": false,
   "title_cell": "Table of Contents",
   "title_sidebar": "Contents",
   "toc_cell": true,
   "toc_position": {
    "height": "calc(100% - 180px)",
    "left": "10px",
    "top": "150px",
    "width": "165px"
   },
   "toc_section_display": true,
   "toc_window_display": true
  },
  "varInspector": {
   "cols": {
    "lenName": 16,
    "lenType": 16,
    "lenVar": 40
   },
   "kernels_config": {
    "python": {
     "delete_cmd_postfix": "",
     "delete_cmd_prefix": "del ",
     "library": "var_list.py",
     "varRefreshCmd": "print(var_dic_list())"
    },
    "r": {
     "delete_cmd_postfix": ") ",
     "delete_cmd_prefix": "rm(",
     "library": "var_list.r",
     "varRefreshCmd": "cat(var_dic_list()) "
    }
   },
   "types_to_exclude": [
    "module",
    "function",
    "builtin_function_or_method",
    "instance",
    "_Feature"
   ],
   "window_display": false
  }
 },
 "nbformat": 4,
 "nbformat_minor": 2
}
