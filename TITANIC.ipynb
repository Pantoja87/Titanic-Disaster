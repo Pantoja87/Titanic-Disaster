{
 "cells": [
  {
   "cell_type": "markdown",
   "metadata": {
    "toc": true
   },
   "source": [
    "<h1>Table of Contents<span class=\"tocSkip\"></span></h1>\n",
    "<div class=\"toc\"><ul class=\"toc-item\"><li><span><a href=\"#Import-Dataset-Titanic\" data-toc-modified-id=\"Import-Dataset-Titanic-1\"><span class=\"toc-item-num\">1&nbsp;&nbsp;</span>Import Dataset Titanic</a></span><ul class=\"toc-item\"><li><span><a href=\"#Join-datasets\" data-toc-modified-id=\"Join-datasets-1.1\"><span class=\"toc-item-num\">1.1&nbsp;&nbsp;</span>Join datasets</a></span></li></ul></li><li><span><a href=\"#Analisss-exploratoria-do-Dataset\" data-toc-modified-id=\"Analisss-exploratoria-do-Dataset-2\"><span class=\"toc-item-num\">2&nbsp;&nbsp;</span>Analisss exploratoria do Dataset</a></span></li><li><span><a href=\"#Missing-Values\" data-toc-modified-id=\"Missing-Values-3\"><span class=\"toc-item-num\">3&nbsp;&nbsp;</span>Missing Values</a></span><ul class=\"toc-item\"><li><span><a href=\"#input-Age\" data-toc-modified-id=\"input-Age-3.1\"><span class=\"toc-item-num\">3.1&nbsp;&nbsp;</span>input Age</a></span><ul class=\"toc-item\"><li><span><a href=\"#Input-Age-por-Title-e-Pclasse-,-utilzando-a-Mediana\" data-toc-modified-id=\"Input-Age-por-Title-e-Pclasse-,-utilzando-a-Mediana-3.1.1\"><span class=\"toc-item-num\">3.1.1&nbsp;&nbsp;</span>Input Age por Title e Pclasse , utilzando a Mediana</a></span></li></ul></li><li><span><a href=\"#Input-Fare\" data-toc-modified-id=\"Input-Fare-3.2\"><span class=\"toc-item-num\">3.2&nbsp;&nbsp;</span>Input Fare</a></span></li><li><span><a href=\"#Input-Cabin\" data-toc-modified-id=\"Input-Cabin-3.3\"><span class=\"toc-item-num\">3.3&nbsp;&nbsp;</span>Input Cabin</a></span></li><li><span><a href=\"#Input-Embarked\" data-toc-modified-id=\"Input-Embarked-3.4\"><span class=\"toc-item-num\">3.4&nbsp;&nbsp;</span>Input Embarked</a></span></li></ul></li><li><span><a href=\"#Continuando-analise-exploratória\" data-toc-modified-id=\"Continuando-analise-exploratória-4\"><span class=\"toc-item-num\">4&nbsp;&nbsp;</span>Continuando analise exploratória</a></span></li><li><span><a href=\"#Feature-Engineer\" data-toc-modified-id=\"Feature-Engineer-5\"><span class=\"toc-item-num\">5&nbsp;&nbsp;</span>Feature Engineer</a></span><ul class=\"toc-item\"><li><span><a href=\"#Sobrenome\" data-toc-modified-id=\"Sobrenome-5.1\"><span class=\"toc-item-num\">5.1&nbsp;&nbsp;</span>Sobrenome</a></span></li><li><span><a href=\"#Homens-e-Mulheres-(Solteiros/Sozinhos)-(as)\" data-toc-modified-id=\"Homens-e-Mulheres-(Solteiros/Sozinhos)-(as)-5.2\"><span class=\"toc-item-num\">5.2&nbsp;&nbsp;</span>Homens e Mulheres (Solteiros/Sozinhos) (as)</a></span><ul class=\"toc-item\"><li><span><a href=\"#Sibsp\" data-toc-modified-id=\"Sibsp-5.2.1\"><span class=\"toc-item-num\">5.2.1&nbsp;&nbsp;</span>Sibsp</a></span></li><li><span><a href=\"#Parch\" data-toc-modified-id=\"Parch-5.2.2\"><span class=\"toc-item-num\">5.2.2&nbsp;&nbsp;</span>Parch</a></span></li></ul></li><li><span><a href=\"#Nomrmalização-Age-e-Fare-Min/Max\" data-toc-modified-id=\"Nomrmalização-Age-e-Fare-Min/Max-5.3\"><span class=\"toc-item-num\">5.3&nbsp;&nbsp;</span>Nomrmalização Age e Fare Min/Max</a></span></li><li><span><a href=\"#Age,-Discretização\" data-toc-modified-id=\"Age,-Discretização-5.4\"><span class=\"toc-item-num\">5.4&nbsp;&nbsp;</span>Age, Discretização</a></span></li><li><span><a href=\"#Nivel-Deck\" data-toc-modified-id=\"Nivel-Deck-5.5\"><span class=\"toc-item-num\">5.5&nbsp;&nbsp;</span>Nivel Deck</a></span></li></ul></li><li><span><a href=\"#Label-Enconding\" data-toc-modified-id=\"Label-Enconding-6\"><span class=\"toc-item-num\">6&nbsp;&nbsp;</span>Label Enconding</a></span><ul class=\"toc-item\"><li><span><a href=\"#Binarização\" data-toc-modified-id=\"Binarização-6.1\"><span class=\"toc-item-num\">6.1&nbsp;&nbsp;</span>Binarização</a></span></li></ul></li><li><span><a href=\"#Construindo-Modelo\" data-toc-modified-id=\"Construindo-Modelo-7\"><span class=\"toc-item-num\">7&nbsp;&nbsp;</span>Construindo Modelo</a></span></li><li><span><a href=\"#Feature-Selection-Baseado-em-Algoritmos-de-Árvore\" data-toc-modified-id=\"Feature-Selection-Baseado-em-Algoritmos-de-Árvore-8\"><span class=\"toc-item-num\">8&nbsp;&nbsp;</span>Feature Selection Baseado em Algoritmos de Árvore</a></span></li><li><span><a href=\"#Predict\" data-toc-modified-id=\"Predict-9\"><span class=\"toc-item-num\">9&nbsp;&nbsp;</span>Predict</a></span></li></ul></div>"
   ]
  },
  {
   "cell_type": "code",
   "execution_count": 6271,
   "metadata": {
    "ExecuteTime": {
     "end_time": "2019-08-07T21:05:07.120319Z",
     "start_time": "2019-08-07T21:05:07.109776Z"
    }
   },
   "outputs": [],
   "source": [
    "\n",
    "import pandas as pd\n",
    "import numpy as np\n",
    "import matplotlib.pyplot as plt\n",
    "import seaborn as sns\n",
    "\n",
    "#IMAGENS.\n",
    "from IPython.display import Image as img\n",
    "\n",
    "#OUTROS.\n",
    "%matplotlib inline\n",
    "import warnings\n",
    "warnings.filterwarnings('ignore')"
   ]
  },
  {
   "cell_type": "markdown",
   "metadata": {},
   "source": [
    " # Import Dataset Titanic"
   ]
  },
  {
   "cell_type": "code",
   "execution_count": 6272,
   "metadata": {
    "ExecuteTime": {
     "end_time": "2019-08-07T21:05:07.204955Z",
     "start_time": "2019-08-07T21:05:07.122303Z"
    }
   },
   "outputs": [],
   "source": [
    "train_csv= pd.read_csv('train.csv')\n",
    "test_csv = pd.read_csv('test.csv')"
   ]
  },
  {
   "cell_type": "code",
   "execution_count": 6273,
   "metadata": {
    "ExecuteTime": {
     "end_time": "2019-08-07T21:05:07.277514Z",
     "start_time": "2019-08-07T21:05:07.206944Z"
    }
   },
   "outputs": [
    {
     "name": "stdout",
     "output_type": "stream",
     "text": [
      "<class 'pandas.core.frame.DataFrame'>\n",
      "RangeIndex: 891 entries, 0 to 890\n",
      "Data columns (total 12 columns):\n",
      "PassengerId    891 non-null int64\n",
      "Survived       891 non-null int64\n",
      "Pclass         891 non-null int64\n",
      "Name           891 non-null object\n",
      "Sex            891 non-null object\n",
      "Age            714 non-null float64\n",
      "SibSp          891 non-null int64\n",
      "Parch          891 non-null int64\n",
      "Ticket         891 non-null object\n",
      "Fare           891 non-null float64\n",
      "Cabin          204 non-null object\n",
      "Embarked       889 non-null object\n",
      "dtypes: float64(2), int64(5), object(5)\n",
      "memory usage: 66.2+ KB\n"
     ]
    }
   ],
   "source": [
    "train_csv.info()"
   ]
  },
  {
   "cell_type": "code",
   "execution_count": 6274,
   "metadata": {
    "ExecuteTime": {
     "end_time": "2019-08-07T21:05:07.345585Z",
     "start_time": "2019-08-07T21:05:07.279515Z"
    }
   },
   "outputs": [
    {
     "name": "stdout",
     "output_type": "stream",
     "text": [
      "<class 'pandas.core.frame.DataFrame'>\n",
      "RangeIndex: 418 entries, 0 to 417\n",
      "Data columns (total 11 columns):\n",
      "PassengerId    418 non-null int64\n",
      "Pclass         418 non-null int64\n",
      "Name           418 non-null object\n",
      "Sex            418 non-null object\n",
      "Age            332 non-null float64\n",
      "SibSp          418 non-null int64\n",
      "Parch          418 non-null int64\n",
      "Ticket         418 non-null object\n",
      "Fare           417 non-null float64\n",
      "Cabin          91 non-null object\n",
      "Embarked       418 non-null object\n",
      "dtypes: float64(2), int64(4), object(5)\n",
      "memory usage: 27.8+ KB\n"
     ]
    }
   ],
   "source": [
    "test_csv.info()"
   ]
  },
  {
   "cell_type": "markdown",
   "metadata": {},
   "source": [
    "## Join datasets"
   ]
  },
  {
   "cell_type": "code",
   "execution_count": 6275,
   "metadata": {
    "ExecuteTime": {
     "end_time": "2019-08-07T21:05:07.404625Z",
     "start_time": "2019-08-07T21:05:07.346586Z"
    }
   },
   "outputs": [],
   "source": [
    "titanic=pd.concat([train_csv,test_csv],axis=0,ignore_index=False)\n"
   ]
  },
  {
   "cell_type": "code",
   "execution_count": 6276,
   "metadata": {
    "ExecuteTime": {
     "end_time": "2019-08-07T21:05:07.464674Z",
     "start_time": "2019-08-07T21:05:07.405626Z"
    }
   },
   "outputs": [
    {
     "name": "stdout",
     "output_type": "stream",
     "text": [
      "<class 'pandas.core.frame.DataFrame'>\n",
      "Int64Index: 1309 entries, 0 to 417\n",
      "Data columns (total 12 columns):\n",
      "Age            1046 non-null float64\n",
      "Cabin          295 non-null object\n",
      "Embarked       1307 non-null object\n",
      "Fare           1308 non-null float64\n",
      "Name           1309 non-null object\n",
      "Parch          1309 non-null int64\n",
      "PassengerId    1309 non-null int64\n",
      "Pclass         1309 non-null int64\n",
      "Sex            1309 non-null object\n",
      "SibSp          1309 non-null int64\n",
      "Survived       891 non-null float64\n",
      "Ticket         1309 non-null object\n",
      "dtypes: float64(3), int64(4), object(5)\n",
      "memory usage: 107.4+ KB\n"
     ]
    }
   ],
   "source": [
    "titanic.info()"
   ]
  },
  {
   "cell_type": "markdown",
   "metadata": {},
   "source": [
    "# Analisss exploratoria do Dataset "
   ]
  },
  {
   "cell_type": "code",
   "execution_count": 6277,
   "metadata": {
    "ExecuteTime": {
     "end_time": "2019-08-07T21:05:07.528220Z",
     "start_time": "2019-08-07T21:05:07.466675Z"
    }
   },
   "outputs": [
    {
     "name": "stdout",
     "output_type": "stream",
     "text": [
      "Percentual de Sobreviventes x Não Sobreviventes -  Survived\n",
      "0.0    41.94\n",
      "1.0    26.13\n",
      "Name: Sex, dtype: float64\n"
     ]
    }
   ],
   "source": [
    "print('Percentual de Sobreviventes x Não Sobreviventes - ',\n",
    "       round(titanic.groupby('Survived').Sex.count()/titanic.Name.count()*100,2))"
   ]
  },
  {
   "cell_type": "code",
   "execution_count": 6278,
   "metadata": {
    "ExecuteTime": {
     "end_time": "2019-08-07T21:05:07.603578Z",
     "start_time": "2019-08-07T21:05:07.530722Z"
    }
   },
   "outputs": [
    {
     "name": "stdout",
     "output_type": "stream",
     "text": [
      "Missig Values:\n"
     ]
    },
    {
     "data": {
      "text/plain": [
       "Age             263\n",
       "Cabin          1014\n",
       "Embarked          2\n",
       "Fare              1\n",
       "Name              0\n",
       "Parch             0\n",
       "PassengerId       0\n",
       "Pclass            0\n",
       "Sex               0\n",
       "SibSp             0\n",
       "Survived        418\n",
       "Ticket            0\n",
       "dtype: int64"
      ]
     },
     "execution_count": 6278,
     "metadata": {},
     "output_type": "execute_result"
    }
   ],
   "source": [
    "print('Missig Values:')\n",
    "titanic.isnull().sum()"
   ]
  },
  {
   "cell_type": "markdown",
   "metadata": {},
   "source": [
    "* Cabin e Age são os que mais faltam valores\n",
    "* Survived são do conjunto de teste, é o que vamos prever, por isso estão nulos"
   ]
  },
  {
   "cell_type": "code",
   "execution_count": 6279,
   "metadata": {
    "ExecuteTime": {
     "end_time": "2019-08-07T21:05:07.849774Z",
     "start_time": "2019-08-07T21:05:07.605580Z"
    }
   },
   "outputs": [
    {
     "data": {
      "text/plain": [
       "Text(0.5, 1.0, 'Distribution of the field Age')"
      ]
     },
     "execution_count": 6279,
     "metadata": {},
     "output_type": "execute_result"
    },
    {
     "data": {
      "image/png": "[encoded data removed]",
      "text/plain": [
       "<Figure size 432x288 with 1 Axes>"
      ]
     },
     "metadata": {
      "needs_background": "light"
     },
     "output_type": "display_data"
    }
   ],
   "source": [
    "titanic.Age.hist()\n",
    "plt.title(\"Distribution of the field Age\")"
   ]
  },
  {
   "cell_type": "markdown",
   "metadata": {},
   "source": [
    "* there are a concentration of the age between 18 and 35 years"
   ]
  },
  {
   "cell_type": "code",
   "execution_count": 6280,
   "metadata": {
    "ExecuteTime": {
     "end_time": "2019-08-07T21:05:08.039170Z",
     "start_time": "2019-08-07T21:05:07.850775Z"
    }
   },
   "outputs": [
    {
     "data": {
      "text/plain": [
       "Text(0.5, 1.0, 'Distribution of the field Fare')"
      ]
     },
     "execution_count": 6280,
     "metadata": {},
     "output_type": "execute_result"
    },
    {
     "data": {
      "image/png": "[encoded data removed]",
      "text/plain": [
       "<Figure size 432x288 with 1 Axes>"
      ]
     },
     "metadata": {
      "needs_background": "light"
     },
     "output_type": "display_data"
    }
   ],
   "source": [
    "titanic.Fare.hist()\n",
    "plt.title(\"Distribution of the field Fare\")"
   ]
  },
  {
   "cell_type": "markdown",
   "metadata": {},
   "source": [
    "* there are a concentration of the Fare between 0 and 50"
   ]
  },
  {
   "cell_type": "markdown",
   "metadata": {},
   "source": [
    "# Missing Values"
   ]
  },
  {
   "cell_type": "markdown",
   "metadata": {},
   "source": [
    " Com base no valores da feature Age e Cabin, vamos começar por elas o preenchimento dos \"Missing Values\""
   ]
  },
  {
   "cell_type": "markdown",
   "metadata": {},
   "source": [
    "## input Age"
   ]
  },
  {
   "cell_type": "markdown",
   "metadata": {},
   "source": [
    "Analise exploratoria de Age para encontrar a melhor maneira de inputar os dados"
   ]
  },
  {
   "cell_type": "markdown",
   "metadata": {},
   "source": [
    "Antes irei Criar uma nova coluna Suvived com Label- \"Vivo/Morto\""
   ]
  },
  {
   "cell_type": "code",
   "execution_count": 6281,
   "metadata": {
    "ExecuteTime": {
     "end_time": "2019-08-07T21:05:08.053161Z",
     "start_time": "2019-08-07T21:05:08.040170Z"
    }
   },
   "outputs": [],
   "source": [
    "titanic.loc[titanic.Survived==0,'Status_Survived']='Morto'\n",
    "titanic.loc[titanic.Survived==1,'Status_Survived']='Vivo'"
   ]
  },
  {
   "cell_type": "code",
   "execution_count": 6282,
   "metadata": {
    "ExecuteTime": {
     "end_time": "2019-08-07T21:05:08.120710Z",
     "start_time": "2019-08-07T21:05:08.054162Z"
    }
   },
   "outputs": [
    {
     "data": {
      "text/html": [
       "<div>\n",
       "<style scoped>\n",
       "    .dataframe tbody tr th:only-of-type {\n",
       "        vertical-align: middle;\n",
       "    }\n",
       "\n",
       "    .dataframe tbody tr th {\n",
       "        vertical-align: top;\n",
       "    }\n",
       "\n",
       "    .dataframe thead th {\n",
       "        text-align: right;\n",
       "    }\n",
       "</style>\n",
       "<table border=\"1\" class=\"dataframe\">\n",
       "  <thead>\n",
       "    <tr style=\"text-align: right;\">\n",
       "      <th></th>\n",
       "      <th>Age</th>\n",
       "      <th>Cabin</th>\n",
       "      <th>Embarked</th>\n",
       "      <th>Fare</th>\n",
       "      <th>Name</th>\n",
       "      <th>Parch</th>\n",
       "      <th>PassengerId</th>\n",
       "      <th>Pclass</th>\n",
       "      <th>Sex</th>\n",
       "      <th>SibSp</th>\n",
       "      <th>Survived</th>\n",
       "      <th>Ticket</th>\n",
       "      <th>Status_Survived</th>\n",
       "    </tr>\n",
       "  </thead>\n",
       "  <tbody>\n",
       "    <tr>\n",
       "      <th>0</th>\n",
       "      <td>22.0</td>\n",
       "      <td>NaN</td>\n",
       "      <td>S</td>\n",
       "      <td>7.2500</td>\n",
       "      <td>Braund, Mr. Owen Harris</td>\n",
       "      <td>0</td>\n",
       "      <td>1</td>\n",
       "      <td>3</td>\n",
       "      <td>male</td>\n",
       "      <td>1</td>\n",
       "      <td>0.0</td>\n",
       "      <td>A/5 21171</td>\n",
       "      <td>Morto</td>\n",
       "    </tr>\n",
       "    <tr>\n",
       "      <th>1</th>\n",
       "      <td>38.0</td>\n",
       "      <td>C85</td>\n",
       "      <td>C</td>\n",
       "      <td>71.2833</td>\n",
       "      <td>Cumings, Mrs. John Bradley (Florence Briggs Th...</td>\n",
       "      <td>0</td>\n",
       "      <td>2</td>\n",
       "      <td>1</td>\n",
       "      <td>female</td>\n",
       "      <td>1</td>\n",
       "      <td>1.0</td>\n",
       "      <td>PC 17599</td>\n",
       "      <td>Vivo</td>\n",
       "    </tr>\n",
       "    <tr>\n",
       "      <th>2</th>\n",
       "      <td>26.0</td>\n",
       "      <td>NaN</td>\n",
       "      <td>S</td>\n",
       "      <td>7.9250</td>\n",
       "      <td>Heikkinen, Miss. Laina</td>\n",
       "      <td>0</td>\n",
       "      <td>3</td>\n",
       "      <td>3</td>\n",
       "      <td>female</td>\n",
       "      <td>0</td>\n",
       "      <td>1.0</td>\n",
       "      <td>STON/O2. 3101282</td>\n",
       "      <td>Vivo</td>\n",
       "    </tr>\n",
       "    <tr>\n",
       "      <th>3</th>\n",
       "      <td>35.0</td>\n",
       "      <td>C123</td>\n",
       "      <td>S</td>\n",
       "      <td>53.1000</td>\n",
       "      <td>Futrelle, Mrs. Jacques Heath (Lily May Peel)</td>\n",
       "      <td>0</td>\n",
       "      <td>4</td>\n",
       "      <td>1</td>\n",
       "      <td>female</td>\n",
       "      <td>1</td>\n",
       "      <td>1.0</td>\n",
       "      <td>113803</td>\n",
       "      <td>Vivo</td>\n",
       "    </tr>\n",
       "    <tr>\n",
       "      <th>4</th>\n",
       "      <td>35.0</td>\n",
       "      <td>NaN</td>\n",
       "      <td>S</td>\n",
       "      <td>8.0500</td>\n",
       "      <td>Allen, Mr. William Henry</td>\n",
       "      <td>0</td>\n",
       "      <td>5</td>\n",
       "      <td>3</td>\n",
       "      <td>male</td>\n",
       "      <td>0</td>\n",
       "      <td>0.0</td>\n",
       "      <td>373450</td>\n",
       "      <td>Morto</td>\n",
       "    </tr>\n",
       "  </tbody>\n",
       "</table>\n",
       "</div>"
      ],
      "text/plain": [
       "    Age Cabin Embarked     Fare  \\\n",
       "0  22.0   NaN        S   7.2500   \n",
       "1  38.0   C85        C  71.2833   \n",
       "2  26.0   NaN        S   7.9250   \n",
       "3  35.0  C123        S  53.1000   \n",
       "4  35.0   NaN        S   8.0500   \n",
       "\n",
       "                                                Name  Parch  PassengerId  \\\n",
       "0                            Braund, Mr. Owen Harris      0            1   \n",
       "1  Cumings, Mrs. John Bradley (Florence Briggs Th...      0            2   \n",
       "2                             Heikkinen, Miss. Laina      0            3   \n",
       "3       Futrelle, Mrs. Jacques Heath (Lily May Peel)      0            4   \n",
       "4                           Allen, Mr. William Henry      0            5   \n",
       "\n",
       "   Pclass     Sex  SibSp  Survived            Ticket Status_Survived  \n",
       "0       3    male      1       0.0         A/5 21171           Morto  \n",
       "1       1  female      1       1.0          PC 17599            Vivo  \n",
       "2       3  female      0       1.0  STON/O2. 3101282            Vivo  \n",
       "3       1  female      1       1.0            113803            Vivo  \n",
       "4       3    male      0       0.0            373450           Morto  "
      ]
     },
     "execution_count": 6282,
     "metadata": {},
     "output_type": "execute_result"
    }
   ],
   "source": [
    "titanic.head()"
   ]
  },
  {
   "cell_type": "code",
   "execution_count": 6283,
   "metadata": {
    "ExecuteTime": {
     "end_time": "2019-08-07T21:05:08.393429Z",
     "start_time": "2019-08-07T21:05:08.122211Z"
    }
   },
   "outputs": [
    {
     "data": {
      "text/plain": [
       "Text(0.5, 1.0, 'Boxplot - Age x Survived')"
      ]
     },
     "execution_count": 6283,
     "metadata": {},
     "output_type": "execute_result"
    },
    {
     "data": {
      "image/png": "[encoded data removed]",
      "text/plain": [
       "<Figure size 432x432 with 1 Axes>"
      ]
     },
     "metadata": {
      "needs_background": "light"
     },
     "output_type": "display_data"
    }
   ],
   "source": [
    "g = sns.factorplot(x=\"Status_Survived\",y=\"Age\", hue ='Status_Survived',data=titanic,kind=\"box\", size = 6 , \n",
    "palette = \"muted\")\n",
    "g.despine(left=True)\n",
    "g = g.set_ylabels(\"Age\")\n",
    "plt.title('Boxplot - Age x Survived')"
   ]
  },
  {
   "cell_type": "code",
   "execution_count": 6284,
   "metadata": {
    "ExecuteTime": {
     "end_time": "2019-08-07T21:05:08.715342Z",
     "start_time": "2019-08-07T21:05:08.394429Z"
    }
   },
   "outputs": [
    {
     "data": {
      "text/plain": [
       "Text(0.5, 1.0, 'Boxplot - Age x Survived por Sex')"
      ]
     },
     "execution_count": 6284,
     "metadata": {},
     "output_type": "execute_result"
    },
    {
     "data": {
      "image/png": "[encoded data removed]",
      "text/plain": [
       "<Figure size 520.625x432 with 1 Axes>"
      ]
     },
     "metadata": {
      "needs_background": "light"
     },
     "output_type": "display_data"
    }
   ],
   "source": [
    "g = sns.factorplot(x=\"Sex\",y=\"Age\", hue ='Status_Survived',data=titanic,kind=\"box\", size = 6 , \n",
    "palette = \"muted\")\n",
    "g.despine(left=True)\n",
    "g = g.set_ylabels(\"Age\")\n",
    "plt.title('Boxplot - Age x Survived por Sex')"
   ]
  },
  {
   "cell_type": "code",
   "execution_count": 6285,
   "metadata": {
    "ExecuteTime": {
     "end_time": "2019-08-07T21:05:09.067233Z",
     "start_time": "2019-08-07T21:05:08.716342Z"
    }
   },
   "outputs": [
    {
     "data": {
      "text/plain": [
       "Text(0.5, 1.0, 'Boxplot - Age x Survived por Pclass')"
      ]
     },
     "execution_count": 6285,
     "metadata": {},
     "output_type": "execute_result"
    },
    {
     "data": {
      "image/png": "[encoded data removed]",
      "text/plain": [
       "<Figure size 520.625x432 with 1 Axes>"
      ]
     },
     "metadata": {
      "needs_background": "light"
     },
     "output_type": "display_data"
    }
   ],
   "source": [
    "g = sns.factorplot(x=\"Pclass\",y=\"Age\", hue ='Status_Survived',data=titanic,kind=\"box\", size = 6 , \n",
    "palette = \"muted\")\n",
    "g.despine(left=True)\n",
    "g = g.set_ylabels(\"Age\")\n",
    "plt.title('Boxplot - Age x Survived por Pclass')"
   ]
  },
  {
   "cell_type": "markdown",
   "metadata": {},
   "source": [
    "* Nitidamente podemos visualizar que conforme nivel Pclass aumenta(menor classe) a idade diminui.\n",
    "* Conforme visualizações acima Pclass é uma boa feature para inputar Age faltante,ou seja,por Pclass.\n"
   ]
  },
  {
   "cell_type": "markdown",
   "metadata": {},
   "source": [
    "***A Coluna Name também pode nos ajudar, pois nela há titulos, mr, miss, etc***"
   ]
  },
  {
   "cell_type": "code",
   "execution_count": 6286,
   "metadata": {
    "ExecuteTime": {
     "end_time": "2019-08-07T21:05:09.074236Z",
     "start_time": "2019-08-07T21:05:09.068232Z"
    }
   },
   "outputs": [],
   "source": [
    "titanic['Title']=[i.split(\",\")[1].split(\".\")[0].strip() for i in titanic[\"Name\"]]"
   ]
  },
  {
   "cell_type": "code",
   "execution_count": 6287,
   "metadata": {
    "ExecuteTime": {
     "end_time": "2019-08-07T21:05:09.137894Z",
     "start_time": "2019-08-07T21:05:09.075238Z"
    }
   },
   "outputs": [
    {
     "data": {
      "text/plain": [
       "Embarked\n",
       "C    270\n",
       "Q    123\n",
       "S    914\n",
       "Name: Title, dtype: int64"
      ]
     },
     "execution_count": 6287,
     "metadata": {},
     "output_type": "execute_result"
    }
   ],
   "source": [
    "titanic.groupby('Embarked').Title.count()"
   ]
  },
  {
   "cell_type": "code",
   "execution_count": 6288,
   "metadata": {
    "ExecuteTime": {
     "end_time": "2019-08-07T21:05:09.567753Z",
     "start_time": "2019-08-07T21:05:09.138895Z"
    }
   },
   "outputs": [
    {
     "data": {
      "text/plain": [
       "Text(0.5, 1.0, 'Quantidade de passageiros por Title')"
      ]
     },
     "execution_count": 6288,
     "metadata": {},
     "output_type": "execute_result"
    },
    {
     "data": {
      "image/png": "[encoded data removed]",
      "text/plain": [
       "<Figure size 1080x1080 with 1 Axes>"
      ]
     },
     "metadata": {
      "needs_background": "light"
     },
     "output_type": "display_data"
    }
   ],
   "source": [
    "g = sns.factorplot(\"Title\",\n",
    "                   data=titanic,\n",
    "                   size=15, \n",
    "                   kind=\"count\", \n",
    "                   palette=\"muted\")\n",
    "g.despine(left=True)\n",
    "g = g.set_ylabels(\"Count\")\n",
    "plt.title('Quantidade de passageiros por Title')"
   ]
  },
  {
   "cell_type": "markdown",
   "metadata": {},
   "source": [
    "* Há uma padrão em Mr, Mrs, Miss e Master\n",
    "* Vamos agrupar os outros que possuem poucos passageiros"
   ]
  },
  {
   "cell_type": "code",
   "execution_count": 6289,
   "metadata": {
    "ExecuteTime": {
     "end_time": "2019-08-07T21:05:09.574770Z",
     "start_time": "2019-08-07T21:05:09.568753Z"
    }
   },
   "outputs": [],
   "source": [
    "titanic[\"Title\"] = titanic[\"Title\"].replace(['Lady', 'the Countess','Countess','Capt', 'Col','Don', 'Dr', 'Major', 'Rev', 'Sir', 'Jonkheer', 'Dona'], 'Rare')\n",
    "titanic[\"Title\"] = titanic[\"Title\"].replace(['Mme','Mlle','Ms'], 'Miss')"
   ]
  },
  {
   "cell_type": "code",
   "execution_count": 6290,
   "metadata": {
    "ExecuteTime": {
     "end_time": "2019-08-07T21:05:09.898927Z",
     "start_time": "2019-08-07T21:05:09.575771Z"
    }
   },
   "outputs": [
    {
     "data": {
      "text/plain": [
       "Text(0.5, 1.0, 'Quantidade de passageiros por Title')"
      ]
     },
     "execution_count": 6290,
     "metadata": {},
     "output_type": "execute_result"
    },
    {
     "data": {
      "image/png": "[encoded data removed]",
      "text/plain": [
       "<Figure size 432x432 with 1 Axes>"
      ]
     },
     "metadata": {
      "needs_background": "light"
     },
     "output_type": "display_data"
    }
   ],
   "source": [
    "g = sns.factorplot(\"Title\",\n",
    "                   data=titanic,\n",
    "                   size=6, \n",
    "                   kind=\"count\", \n",
    "                   palette=\"muted\")\n",
    "g.despine(left=True)\n",
    "g = g.set_ylabels(\"Count\")\n",
    "plt.title('Quantidade de passageiros por Title')"
   ]
  },
  {
   "cell_type": "code",
   "execution_count": 6291,
   "metadata": {
    "ExecuteTime": {
     "end_time": "2019-08-07T21:05:09.905931Z",
     "start_time": "2019-08-07T21:05:09.899927Z"
    }
   },
   "outputs": [
    {
     "data": {
      "text/plain": [
       "Title\n",
       "Master     61\n",
       "Miss      265\n",
       "Mr        757\n",
       "Mrs       197\n",
       "Rare       29\n",
       "Name: Title, dtype: int64"
      ]
     },
     "execution_count": 6291,
     "metadata": {},
     "output_type": "execute_result"
    }
   ],
   "source": [
    "titanic.groupby('Title').Title.count()"
   ]
  },
  {
   "cell_type": "markdown",
   "metadata": {},
   "source": [
    "* Master - Homens Jovens\n",
    "* Miss - é usado antes de sobrenomes ou nomes completos de mulheres que não são casadas. É algo próximo a “senhorita”, em português.\n",
    "\n",
    "* Mr - Se utiliza antes de sobrenomes ou nomes completos de homens em geral, independente do seu estado civil.\n",
    "* Mrs- é usado antes de sobrenomes ou nomes completos de mulheres casadas.\n",
    "* Ms- é usado antes de sobrenomes ou nomes completos de mulheres em geral,independente do seu estado civil\n",
    "\n",
    "\n"
   ]
  },
  {
   "cell_type": "markdown",
   "metadata": {},
   "source": [
    "### Input Age por Title e Pclasse , utilzando a Mediana"
   ]
  },
  {
   "cell_type": "code",
   "execution_count": 6292,
   "metadata": {
    "ExecuteTime": {
     "end_time": "2019-08-07T21:05:10.003002Z",
     "start_time": "2019-08-07T21:05:09.906932Z"
    }
   },
   "outputs": [],
   "source": [
    "df_media= titanic.groupby(['Pclass','Title']).Age.median().reset_index()"
   ]
  },
  {
   "cell_type": "code",
   "execution_count": 6293,
   "metadata": {
    "ExecuteTime": {
     "end_time": "2019-08-07T21:05:10.074074Z",
     "start_time": "2019-08-07T21:05:10.007005Z"
    },
    "code_folding": []
   },
   "outputs": [],
   "source": [
    "df_merge= pd.merge(titanic,df_media, on=['Pclass','Title']).reset_index()   "
   ]
  },
  {
   "cell_type": "code",
   "execution_count": 6294,
   "metadata": {
    "ExecuteTime": {
     "end_time": "2019-08-07T21:05:10.138106Z",
     "start_time": "2019-08-07T21:05:10.077077Z"
    }
   },
   "outputs": [],
   "source": [
    "df_merge.loc[df_merge.Age_x.isna()==True,'Age_x'] = df_merge.loc[df_merge.Age_x.isna()==True,'Age_y']"
   ]
  },
  {
   "cell_type": "code",
   "execution_count": 6295,
   "metadata": {
    "ExecuteTime": {
     "end_time": "2019-08-07T21:05:10.201151Z",
     "start_time": "2019-08-07T21:05:10.139107Z"
    }
   },
   "outputs": [],
   "source": [
    "df_merge =df_merge.rename(columns={'Age_x':'Age'})"
   ]
  },
  {
   "cell_type": "code",
   "execution_count": 6296,
   "metadata": {
    "ExecuteTime": {
     "end_time": "2019-08-07T21:05:10.265216Z",
     "start_time": "2019-08-07T21:05:10.203153Z"
    }
   },
   "outputs": [],
   "source": [
    "titanic=df_merge"
   ]
  },
  {
   "cell_type": "code",
   "execution_count": 6297,
   "metadata": {
    "ExecuteTime": {
     "end_time": "2019-08-07T21:05:10.365869Z",
     "start_time": "2019-08-07T21:05:10.267200Z"
    }
   },
   "outputs": [],
   "source": [
    "titanic=titanic.sort_values('PassengerId').reset_index()   "
   ]
  },
  {
   "cell_type": "code",
   "execution_count": 6298,
   "metadata": {
    "ExecuteTime": {
     "end_time": "2019-08-07T21:05:10.435951Z",
     "start_time": "2019-08-07T21:05:10.366869Z"
    }
   },
   "outputs": [
    {
     "name": "stdout",
     "output_type": "stream",
     "text": [
      "0\n",
      "418\n"
     ]
    }
   ],
   "source": [
    "print(titanic[0:890].Survived.isna().sum())\n",
    "print(titanic[891:1309].Survived.isna().sum())"
   ]
  },
  {
   "cell_type": "code",
   "execution_count": 6299,
   "metadata": {
    "ExecuteTime": {
     "end_time": "2019-08-07T21:05:10.504421Z",
     "start_time": "2019-08-07T21:05:10.437359Z"
    }
   },
   "outputs": [
    {
     "name": "stdout",
     "output_type": "stream",
     "text": [
      "Missig Values:\n"
     ]
    },
    {
     "data": {
      "text/plain": [
       "index                 0\n",
       "Age                   0\n",
       "Cabin              1014\n",
       "Embarked              2\n",
       "Fare                  1\n",
       "Name                  0\n",
       "Parch                 0\n",
       "PassengerId           0\n",
       "Pclass                0\n",
       "Sex                   0\n",
       "SibSp                 0\n",
       "Survived            418\n",
       "Ticket                0\n",
       "Status_Survived     418\n",
       "Title                 0\n",
       "Age_y                 0\n",
       "dtype: int64"
      ]
     },
     "execution_count": 6299,
     "metadata": {},
     "output_type": "execute_result"
    }
   ],
   "source": [
    "print('Missig Values:')\n",
    "df_merge.isnull().sum()"
   ]
  },
  {
   "cell_type": "code",
   "execution_count": 6300,
   "metadata": {
    "ExecuteTime": {
     "end_time": "2019-08-07T21:05:10.759613Z",
     "start_time": "2019-08-07T21:05:10.505407Z"
    }
   },
   "outputs": [
    {
     "data": {
      "text/plain": [
       "Text(0.5, 1.0, 'Distribution of the field Age')"
      ]
     },
     "execution_count": 6300,
     "metadata": {},
     "output_type": "execute_result"
    },
    {
     "data": {
      "image/png": "[encoded data removed]",
      "text/plain": [
       "<Figure size 432x288 with 1 Axes>"
      ]
     },
     "metadata": {
      "needs_background": "light"
     },
     "output_type": "display_data"
    }
   ],
   "source": [
    "titanic.Age.hist()\n",
    "plt.title(\"Distribution of the field Age\")"
   ]
  },
  {
   "cell_type": "markdown",
   "metadata": {},
   "source": [
    "* A distribuição teve uma leve mudança com pico de passageiros entre 25 e 32 anos aprox."
   ]
  },
  {
   "cell_type": "markdown",
   "metadata": {},
   "source": [
    "## Input Fare"
   ]
  },
  {
   "cell_type": "code",
   "execution_count": 6301,
   "metadata": {
    "ExecuteTime": {
     "end_time": "2019-08-07T21:05:10.768619Z",
     "start_time": "2019-08-07T21:05:10.761615Z"
    }
   },
   "outputs": [],
   "source": [
    "titanic.loc[titanic.Fare.isna(),'Fare']=titanic.Fare.mean()"
   ]
  },
  {
   "cell_type": "code",
   "execution_count": 6302,
   "metadata": {
    "ExecuteTime": {
     "end_time": "2019-08-07T21:05:10.845679Z",
     "start_time": "2019-08-07T21:05:10.769619Z"
    }
   },
   "outputs": [
    {
     "data": {
      "text/plain": [
       "level_0               0\n",
       "index                 0\n",
       "Age                   0\n",
       "Cabin              1014\n",
       "Embarked              2\n",
       "Fare                  0\n",
       "Name                  0\n",
       "Parch                 0\n",
       "PassengerId           0\n",
       "Pclass                0\n",
       "Sex                   0\n",
       "SibSp                 0\n",
       "Survived            418\n",
       "Ticket                0\n",
       "Status_Survived     418\n",
       "Title                 0\n",
       "Age_y                 0\n",
       "dtype: int64"
      ]
     },
     "execution_count": 6302,
     "metadata": {},
     "output_type": "execute_result"
    }
   ],
   "source": [
    "titanic.isna().sum()"
   ]
  },
  {
   "cell_type": "markdown",
   "metadata": {},
   "source": [
    "## Input Cabin"
   ]
  },
  {
   "cell_type": "markdown",
   "metadata": {},
   "source": [
    " Vamos tentar combinar informações de Ticket e Fare para tentar determinar a Cabin"
   ]
  },
  {
   "cell_type": "code",
   "execution_count": 6303,
   "metadata": {
    "ExecuteTime": {
     "end_time": "2019-08-07T21:05:10.923736Z",
     "start_time": "2019-08-07T21:05:10.847680Z"
    }
   },
   "outputs": [
    {
     "name": "stdout",
     "output_type": "stream",
     "text": [
      "<class 'pandas.core.frame.DataFrame'>\n",
      "RangeIndex: 1309 entries, 0 to 1308\n",
      "Data columns (total 17 columns):\n",
      "level_0            1309 non-null int64\n",
      "index              1309 non-null int64\n",
      "Age                1309 non-null float64\n",
      "Cabin              295 non-null object\n",
      "Embarked           1307 non-null object\n",
      "Fare               1309 non-null float64\n",
      "Name               1309 non-null object\n",
      "Parch              1309 non-null int64\n",
      "PassengerId        1309 non-null int64\n",
      "Pclass             1309 non-null int64\n",
      "Sex                1309 non-null object\n",
      "SibSp              1309 non-null int64\n",
      "Survived           891 non-null float64\n",
      "Ticket             1309 non-null object\n",
      "Status_Survived    891 non-null object\n",
      "Title              1309 non-null object\n",
      "Age_y              1309 non-null float64\n",
      "dtypes: float64(4), int64(6), object(7)\n",
      "memory usage: 138.1+ KB\n"
     ]
    }
   ],
   "source": [
    "titanic.info()"
   ]
  },
  {
   "cell_type": "code",
   "execution_count": 6304,
   "metadata": {
    "ExecuteTime": {
     "end_time": "2019-08-07T21:05:11.036823Z",
     "start_time": "2019-08-07T21:05:10.925738Z"
    }
   },
   "outputs": [
    {
     "data": {
      "text/html": [
       "<div>\n",
       "<style scoped>\n",
       "    .dataframe tbody tr th:only-of-type {\n",
       "        vertical-align: middle;\n",
       "    }\n",
       "\n",
       "    .dataframe tbody tr th {\n",
       "        vertical-align: top;\n",
       "    }\n",
       "\n",
       "    .dataframe thead th {\n",
       "        text-align: right;\n",
       "    }\n",
       "</style>\n",
       "<table border=\"1\" class=\"dataframe\">\n",
       "  <thead>\n",
       "    <tr style=\"text-align: right;\">\n",
       "      <th></th>\n",
       "      <th>level_0</th>\n",
       "      <th>index</th>\n",
       "      <th>Age</th>\n",
       "      <th>Cabin</th>\n",
       "      <th>Embarked</th>\n",
       "      <th>Fare</th>\n",
       "      <th>Name</th>\n",
       "      <th>Parch</th>\n",
       "      <th>PassengerId</th>\n",
       "      <th>Pclass</th>\n",
       "      <th>Sex</th>\n",
       "      <th>SibSp</th>\n",
       "      <th>Survived</th>\n",
       "      <th>Ticket</th>\n",
       "      <th>Status_Survived</th>\n",
       "      <th>Title</th>\n",
       "      <th>Age_y</th>\n",
       "    </tr>\n",
       "  </thead>\n",
       "  <tbody>\n",
       "    <tr>\n",
       "      <th>0</th>\n",
       "      <td>0</td>\n",
       "      <td>0</td>\n",
       "      <td>22.0</td>\n",
       "      <td>NaN</td>\n",
       "      <td>S</td>\n",
       "      <td>7.2500</td>\n",
       "      <td>Braund, Mr. Owen Harris</td>\n",
       "      <td>0</td>\n",
       "      <td>1</td>\n",
       "      <td>3</td>\n",
       "      <td>male</td>\n",
       "      <td>1</td>\n",
       "      <td>0.0</td>\n",
       "      <td>A/5 21171</td>\n",
       "      <td>Morto</td>\n",
       "      <td>Mr</td>\n",
       "      <td>26.0</td>\n",
       "    </tr>\n",
       "    <tr>\n",
       "      <th>1</th>\n",
       "      <td>448</td>\n",
       "      <td>448</td>\n",
       "      <td>38.0</td>\n",
       "      <td>C85</td>\n",
       "      <td>C</td>\n",
       "      <td>71.2833</td>\n",
       "      <td>Cumings, Mrs. John Bradley (Florence Briggs Th...</td>\n",
       "      <td>0</td>\n",
       "      <td>2</td>\n",
       "      <td>1</td>\n",
       "      <td>female</td>\n",
       "      <td>1</td>\n",
       "      <td>1.0</td>\n",
       "      <td>PC 17599</td>\n",
       "      <td>Vivo</td>\n",
       "      <td>Mrs</td>\n",
       "      <td>45.0</td>\n",
       "    </tr>\n",
       "    <tr>\n",
       "      <th>2</th>\n",
       "      <td>525</td>\n",
       "      <td>525</td>\n",
       "      <td>26.0</td>\n",
       "      <td>NaN</td>\n",
       "      <td>S</td>\n",
       "      <td>7.9250</td>\n",
       "      <td>Heikkinen, Miss. Laina</td>\n",
       "      <td>0</td>\n",
       "      <td>3</td>\n",
       "      <td>3</td>\n",
       "      <td>female</td>\n",
       "      <td>0</td>\n",
       "      <td>1.0</td>\n",
       "      <td>STON/O2. 3101282</td>\n",
       "      <td>Vivo</td>\n",
       "      <td>Miss</td>\n",
       "      <td>18.0</td>\n",
       "    </tr>\n",
       "    <tr>\n",
       "      <th>3</th>\n",
       "      <td>449</td>\n",
       "      <td>449</td>\n",
       "      <td>35.0</td>\n",
       "      <td>C123</td>\n",
       "      <td>S</td>\n",
       "      <td>53.1000</td>\n",
       "      <td>Futrelle, Mrs. Jacques Heath (Lily May Peel)</td>\n",
       "      <td>0</td>\n",
       "      <td>4</td>\n",
       "      <td>1</td>\n",
       "      <td>female</td>\n",
       "      <td>1</td>\n",
       "      <td>1.0</td>\n",
       "      <td>113803</td>\n",
       "      <td>Vivo</td>\n",
       "      <td>Mrs</td>\n",
       "      <td>45.0</td>\n",
       "    </tr>\n",
       "    <tr>\n",
       "      <th>4</th>\n",
       "      <td>1</td>\n",
       "      <td>1</td>\n",
       "      <td>35.0</td>\n",
       "      <td>NaN</td>\n",
       "      <td>S</td>\n",
       "      <td>8.0500</td>\n",
       "      <td>Allen, Mr. William Henry</td>\n",
       "      <td>0</td>\n",
       "      <td>5</td>\n",
       "      <td>3</td>\n",
       "      <td>male</td>\n",
       "      <td>0</td>\n",
       "      <td>0.0</td>\n",
       "      <td>373450</td>\n",
       "      <td>Morto</td>\n",
       "      <td>Mr</td>\n",
       "      <td>26.0</td>\n",
       "    </tr>\n",
       "  </tbody>\n",
       "</table>\n",
       "</div>"
      ],
      "text/plain": [
       "   level_0  index   Age Cabin Embarked     Fare  \\\n",
       "0        0      0  22.0   NaN        S   7.2500   \n",
       "1      448    448  38.0   C85        C  71.2833   \n",
       "2      525    525  26.0   NaN        S   7.9250   \n",
       "3      449    449  35.0  C123        S  53.1000   \n",
       "4        1      1  35.0   NaN        S   8.0500   \n",
       "\n",
       "                                                Name  Parch  PassengerId  \\\n",
       "0                            Braund, Mr. Owen Harris      0            1   \n",
       "1  Cumings, Mrs. John Bradley (Florence Briggs Th...      0            2   \n",
       "2                             Heikkinen, Miss. Laina      0            3   \n",
       "3       Futrelle, Mrs. Jacques Heath (Lily May Peel)      0            4   \n",
       "4                           Allen, Mr. William Henry      0            5   \n",
       "\n",
       "   Pclass     Sex  SibSp  Survived            Ticket Status_Survived Title  \\\n",
       "0       3    male      1       0.0         A/5 21171           Morto    Mr   \n",
       "1       1  female      1       1.0          PC 17599            Vivo   Mrs   \n",
       "2       3  female      0       1.0  STON/O2. 3101282            Vivo  Miss   \n",
       "3       1  female      1       1.0            113803            Vivo   Mrs   \n",
       "4       3    male      0       0.0            373450           Morto    Mr   \n",
       "\n",
       "   Age_y  \n",
       "0   26.0  \n",
       "1   45.0  \n",
       "2   18.0  \n",
       "3   45.0  \n",
       "4   26.0  "
      ]
     },
     "execution_count": 6304,
     "metadata": {},
     "output_type": "execute_result"
    }
   ],
   "source": [
    "titanic.head()"
   ]
  },
  {
   "cell_type": "code",
   "execution_count": 6305,
   "metadata": {
    "ExecuteTime": {
     "end_time": "2019-08-07T21:05:11.123887Z",
     "start_time": "2019-08-07T21:05:11.038825Z"
    }
   },
   "outputs": [],
   "source": [
    "titanic['Ft_Cabin'] = titanic['Ticket'].str.strip()"
   ]
  },
  {
   "cell_type": "code",
   "execution_count": 6306,
   "metadata": {
    "ExecuteTime": {
     "end_time": "2019-08-07T21:05:11.194939Z",
     "start_time": "2019-08-07T21:05:11.125890Z"
    }
   },
   "outputs": [
    {
     "data": {
      "text/plain": [
       "array(['A', 'PC', 'STON', nan, 'PP', 'C', 'SC', 'S', 'CA', 'SO', 'W',\n",
       "       'SOTON', 'Fa', 'LINE', 'F', 'SW', 'SCO', 'P', 'WE', 'AQ', 'LP'],\n",
       "      dtype=object)"
      ]
     },
     "execution_count": 6306,
     "metadata": {},
     "output_type": "execute_result"
    }
   ],
   "source": [
    "titanic.Ft_Cabin.str.extract('([a-zA-Z]+)', expand=False).unique()"
   ]
  },
  {
   "cell_type": "code",
   "execution_count": 6307,
   "metadata": {
    "ExecuteTime": {
     "end_time": "2019-08-07T21:05:11.266999Z",
     "start_time": "2019-08-07T21:05:11.196940Z"
    }
   },
   "outputs": [],
   "source": [
    "titanic['Ft_Cabin'] = titanic.Ft_Cabin.str.extract('([a-zA-Z])', expand=False)"
   ]
  },
  {
   "cell_type": "code",
   "execution_count": 6308,
   "metadata": {
    "ExecuteTime": {
     "end_time": "2019-08-07T21:05:12.495361Z",
     "start_time": "2019-08-07T21:05:11.269012Z"
    }
   },
   "outputs": [],
   "source": [
    "titanic.Ft_Cabin[titanic.Ft_Cabin.isna()] = 'Uknow'"
   ]
  },
  {
   "cell_type": "code",
   "execution_count": 6309,
   "metadata": {
    "ExecuteTime": {
     "end_time": "2019-08-07T21:05:12.560080Z",
     "start_time": "2019-08-07T21:05:12.496352Z"
    }
   },
   "outputs": [
    {
     "data": {
      "text/plain": [
       "Ft_Cabin\n",
       "A         42\n",
       "C         77\n",
       "F         13\n",
       "L          5\n",
       "P         98\n",
       "S         98\n",
       "Uknow    957\n",
       "W         19\n",
       "Name: Ft_Cabin, dtype: int64"
      ]
     },
     "execution_count": 6309,
     "metadata": {},
     "output_type": "execute_result"
    }
   ],
   "source": [
    "titanic.groupby('Ft_Cabin').Ft_Cabin.count()"
   ]
  },
  {
   "cell_type": "code",
   "execution_count": 6310,
   "metadata": {
    "ExecuteTime": {
     "end_time": "2019-08-07T21:05:12.645022Z",
     "start_time": "2019-08-07T21:05:12.561069Z"
    }
   },
   "outputs": [
    {
     "data": {
      "text/plain": [
       "level_0               0\n",
       "index                 0\n",
       "Age                   0\n",
       "Cabin              1014\n",
       "Embarked              2\n",
       "Fare                  0\n",
       "Name                  0\n",
       "Parch                 0\n",
       "PassengerId           0\n",
       "Pclass                0\n",
       "Sex                   0\n",
       "SibSp                 0\n",
       "Survived            418\n",
       "Ticket                0\n",
       "Status_Survived     418\n",
       "Title                 0\n",
       "Age_y                 0\n",
       "Ft_Cabin              0\n",
       "dtype: int64"
      ]
     },
     "execution_count": 6310,
     "metadata": {},
     "output_type": "execute_result"
    }
   ],
   "source": [
    "titanic.isna().sum()"
   ]
  },
  {
   "cell_type": "code",
   "execution_count": 6311,
   "metadata": {
    "ExecuteTime": {
     "end_time": "2019-08-07T21:05:13.756564Z",
     "start_time": "2019-08-07T21:05:12.646508Z"
    }
   },
   "outputs": [],
   "source": [
    "titanic.Ft_Cabin[titanic.Ft_Cabin =='Uknow'] = titanic.Cabin[titanic.Ft_Cabin =='Uknow'].str.extract('([a-zA-Z])', expand=False)"
   ]
  },
  {
   "cell_type": "code",
   "execution_count": 6312,
   "metadata": {
    "ExecuteTime": {
     "end_time": "2019-08-07T21:05:14.927910Z",
     "start_time": "2019-08-07T21:05:13.758465Z"
    }
   },
   "outputs": [],
   "source": [
    "titanic.Ft_Cabin[titanic.Ft_Cabin.isna()] = 'Uknow'"
   ]
  },
  {
   "cell_type": "code",
   "execution_count": 6313,
   "metadata": {
    "ExecuteTime": {
     "end_time": "2019-08-07T21:05:14.991703Z",
     "start_time": "2019-08-07T21:05:14.929385Z"
    }
   },
   "outputs": [],
   "source": [
    "titanic[\"Ft_Cabin\"] = titanic[\"Ft_Cabin\"].replace(['L','T','W'], 'G')\n"
   ]
  },
  {
   "cell_type": "code",
   "execution_count": 6314,
   "metadata": {
    "ExecuteTime": {
     "end_time": "2019-08-07T21:05:15.074788Z",
     "start_time": "2019-08-07T21:05:14.992679Z"
    }
   },
   "outputs": [],
   "source": [
    "titanic.loc[titanic.Cabin.isna(),'Cabin'] = 'Uknow'"
   ]
  },
  {
   "cell_type": "code",
   "execution_count": 6315,
   "metadata": {
    "ExecuteTime": {
     "end_time": "2019-08-07T21:05:15.143701Z",
     "start_time": "2019-08-07T21:05:15.075759Z"
    }
   },
   "outputs": [],
   "source": [
    "titanic.loc[titanic.Ft_Cabin.isna(),'Ft_Cabin'] = 'Uknow'\n"
   ]
  },
  {
   "cell_type": "code",
   "execution_count": 6316,
   "metadata": {
    "ExecuteTime": {
     "end_time": "2019-08-07T21:05:15.219877Z",
     "start_time": "2019-08-07T21:05:15.144704Z"
    }
   },
   "outputs": [
    {
     "data": {
      "text/plain": [
       "Ft_Cabin\n",
       "A         41\n",
       "B         31\n",
       "C         91\n",
       "D         26\n",
       "E         23\n",
       "F         18\n",
       "G         20\n",
       "P         65\n",
       "S         65\n",
       "Uknow    511\n",
       "Name: Survived, dtype: int64"
      ]
     },
     "execution_count": 6316,
     "metadata": {},
     "output_type": "execute_result"
    }
   ],
   "source": [
    "titanic.groupby('Ft_Cabin').Survived.count()\n"
   ]
  },
  {
   "cell_type": "code",
   "execution_count": 6317,
   "metadata": {
    "ExecuteTime": {
     "end_time": "2019-08-07T21:05:15.287807Z",
     "start_time": "2019-08-07T21:05:15.220872Z"
    }
   },
   "outputs": [
    {
     "data": {
      "text/plain": [
       "level_0              0\n",
       "index                0\n",
       "Age                  0\n",
       "Cabin                0\n",
       "Embarked             2\n",
       "Fare                 0\n",
       "Name                 0\n",
       "Parch                0\n",
       "PassengerId          0\n",
       "Pclass               0\n",
       "Sex                  0\n",
       "SibSp                0\n",
       "Survived           418\n",
       "Ticket               0\n",
       "Status_Survived    418\n",
       "Title                0\n",
       "Age_y                0\n",
       "Ft_Cabin             0\n",
       "dtype: int64"
      ]
     },
     "execution_count": 6317,
     "metadata": {},
     "output_type": "execute_result"
    }
   ],
   "source": [
    "titanic.isnull().sum()"
   ]
  },
  {
   "cell_type": "markdown",
   "metadata": {},
   "source": [
    "## Input Embarked"
   ]
  },
  {
   "cell_type": "code",
   "execution_count": 6318,
   "metadata": {
    "ExecuteTime": {
     "end_time": "2019-08-07T21:05:15.376660Z",
     "start_time": "2019-08-07T21:05:15.288813Z"
    }
   },
   "outputs": [
    {
     "name": "stdout",
     "output_type": "stream",
     "text": [
      "0    S\n",
      "dtype: object\n"
     ]
    }
   ],
   "source": [
    "mode =  titanic.Embarked.mode()\n",
    "print(mode)\n"
   ]
  },
  {
   "cell_type": "code",
   "execution_count": 6319,
   "metadata": {
    "ExecuteTime": {
     "end_time": "2019-08-07T21:05:15.457642Z",
     "start_time": "2019-08-07T21:05:15.378649Z"
    }
   },
   "outputs": [],
   "source": [
    "titanic.loc[titanic.Embarked.isna(),'Embarked'] = 'S'"
   ]
  },
  {
   "cell_type": "code",
   "execution_count": 6320,
   "metadata": {
    "ExecuteTime": {
     "end_time": "2019-08-07T21:05:15.526515Z",
     "start_time": "2019-08-07T21:05:15.458288Z"
    }
   },
   "outputs": [
    {
     "data": {
      "text/plain": [
       "0"
      ]
     },
     "execution_count": 6320,
     "metadata": {},
     "output_type": "execute_result"
    }
   ],
   "source": [
    "titanic.Embarked.isna().sum()"
   ]
  },
  {
   "cell_type": "markdown",
   "metadata": {},
   "source": [
    "* Por ser apenas dua observações , foi preenchida com a moda"
   ]
  },
  {
   "cell_type": "markdown",
   "metadata": {},
   "source": [
    "# Continuando analise exploratória "
   ]
  },
  {
   "cell_type": "code",
   "execution_count": 6321,
   "metadata": {
    "ExecuteTime": {
     "end_time": "2019-08-07T21:05:15.613081Z",
     "start_time": "2019-08-07T21:05:15.528033Z"
    }
   },
   "outputs": [
    {
     "data": {
      "text/html": [
       "<div>\n",
       "<style scoped>\n",
       "    .dataframe tbody tr th:only-of-type {\n",
       "        vertical-align: middle;\n",
       "    }\n",
       "\n",
       "    .dataframe tbody tr th {\n",
       "        vertical-align: top;\n",
       "    }\n",
       "\n",
       "    .dataframe thead th {\n",
       "        text-align: right;\n",
       "    }\n",
       "</style>\n",
       "<table border=\"1\" class=\"dataframe\">\n",
       "  <thead>\n",
       "    <tr style=\"text-align: right;\">\n",
       "      <th></th>\n",
       "      <th>level_0</th>\n",
       "      <th>index</th>\n",
       "      <th>Age</th>\n",
       "      <th>Cabin</th>\n",
       "      <th>Embarked</th>\n",
       "      <th>Fare</th>\n",
       "      <th>Name</th>\n",
       "      <th>Parch</th>\n",
       "      <th>PassengerId</th>\n",
       "      <th>Pclass</th>\n",
       "      <th>Sex</th>\n",
       "      <th>SibSp</th>\n",
       "      <th>Survived</th>\n",
       "      <th>Ticket</th>\n",
       "      <th>Status_Survived</th>\n",
       "      <th>Title</th>\n",
       "      <th>Age_y</th>\n",
       "      <th>Ft_Cabin</th>\n",
       "    </tr>\n",
       "  </thead>\n",
       "  <tbody>\n",
       "    <tr>\n",
       "      <th>0</th>\n",
       "      <td>0</td>\n",
       "      <td>0</td>\n",
       "      <td>22.0</td>\n",
       "      <td>Uknow</td>\n",
       "      <td>S</td>\n",
       "      <td>7.2500</td>\n",
       "      <td>Braund, Mr. Owen Harris</td>\n",
       "      <td>0</td>\n",
       "      <td>1</td>\n",
       "      <td>3</td>\n",
       "      <td>male</td>\n",
       "      <td>1</td>\n",
       "      <td>0.0</td>\n",
       "      <td>A/5 21171</td>\n",
       "      <td>Morto</td>\n",
       "      <td>Mr</td>\n",
       "      <td>26.0</td>\n",
       "      <td>A</td>\n",
       "    </tr>\n",
       "    <tr>\n",
       "      <th>1</th>\n",
       "      <td>448</td>\n",
       "      <td>448</td>\n",
       "      <td>38.0</td>\n",
       "      <td>C85</td>\n",
       "      <td>C</td>\n",
       "      <td>71.2833</td>\n",
       "      <td>Cumings, Mrs. John Bradley (Florence Briggs Th...</td>\n",
       "      <td>0</td>\n",
       "      <td>2</td>\n",
       "      <td>1</td>\n",
       "      <td>female</td>\n",
       "      <td>1</td>\n",
       "      <td>1.0</td>\n",
       "      <td>PC 17599</td>\n",
       "      <td>Vivo</td>\n",
       "      <td>Mrs</td>\n",
       "      <td>45.0</td>\n",
       "      <td>P</td>\n",
       "    </tr>\n",
       "    <tr>\n",
       "      <th>2</th>\n",
       "      <td>525</td>\n",
       "      <td>525</td>\n",
       "      <td>26.0</td>\n",
       "      <td>Uknow</td>\n",
       "      <td>S</td>\n",
       "      <td>7.9250</td>\n",
       "      <td>Heikkinen, Miss. Laina</td>\n",
       "      <td>0</td>\n",
       "      <td>3</td>\n",
       "      <td>3</td>\n",
       "      <td>female</td>\n",
       "      <td>0</td>\n",
       "      <td>1.0</td>\n",
       "      <td>STON/O2. 3101282</td>\n",
       "      <td>Vivo</td>\n",
       "      <td>Miss</td>\n",
       "      <td>18.0</td>\n",
       "      <td>S</td>\n",
       "    </tr>\n",
       "    <tr>\n",
       "      <th>3</th>\n",
       "      <td>449</td>\n",
       "      <td>449</td>\n",
       "      <td>35.0</td>\n",
       "      <td>C123</td>\n",
       "      <td>S</td>\n",
       "      <td>53.1000</td>\n",
       "      <td>Futrelle, Mrs. Jacques Heath (Lily May Peel)</td>\n",
       "      <td>0</td>\n",
       "      <td>4</td>\n",
       "      <td>1</td>\n",
       "      <td>female</td>\n",
       "      <td>1</td>\n",
       "      <td>1.0</td>\n",
       "      <td>113803</td>\n",
       "      <td>Vivo</td>\n",
       "      <td>Mrs</td>\n",
       "      <td>45.0</td>\n",
       "      <td>C</td>\n",
       "    </tr>\n",
       "    <tr>\n",
       "      <th>4</th>\n",
       "      <td>1</td>\n",
       "      <td>1</td>\n",
       "      <td>35.0</td>\n",
       "      <td>Uknow</td>\n",
       "      <td>S</td>\n",
       "      <td>8.0500</td>\n",
       "      <td>Allen, Mr. William Henry</td>\n",
       "      <td>0</td>\n",
       "      <td>5</td>\n",
       "      <td>3</td>\n",
       "      <td>male</td>\n",
       "      <td>0</td>\n",
       "      <td>0.0</td>\n",
       "      <td>373450</td>\n",
       "      <td>Morto</td>\n",
       "      <td>Mr</td>\n",
       "      <td>26.0</td>\n",
       "      <td>Uknow</td>\n",
       "    </tr>\n",
       "  </tbody>\n",
       "</table>\n",
       "</div>"
      ],
      "text/plain": [
       "   level_0  index   Age  Cabin Embarked     Fare  \\\n",
       "0        0      0  22.0  Uknow        S   7.2500   \n",
       "1      448    448  38.0    C85        C  71.2833   \n",
       "2      525    525  26.0  Uknow        S   7.9250   \n",
       "3      449    449  35.0   C123        S  53.1000   \n",
       "4        1      1  35.0  Uknow        S   8.0500   \n",
       "\n",
       "                                                Name  Parch  PassengerId  \\\n",
       "0                            Braund, Mr. Owen Harris      0            1   \n",
       "1  Cumings, Mrs. John Bradley (Florence Briggs Th...      0            2   \n",
       "2                             Heikkinen, Miss. Laina      0            3   \n",
       "3       Futrelle, Mrs. Jacques Heath (Lily May Peel)      0            4   \n",
       "4                           Allen, Mr. William Henry      0            5   \n",
       "\n",
       "   Pclass     Sex  SibSp  Survived            Ticket Status_Survived Title  \\\n",
       "0       3    male      1       0.0         A/5 21171           Morto    Mr   \n",
       "1       1  female      1       1.0          PC 17599            Vivo   Mrs   \n",
       "2       3  female      0       1.0  STON/O2. 3101282            Vivo  Miss   \n",
       "3       1  female      1       1.0            113803            Vivo   Mrs   \n",
       "4       3    male      0       0.0            373450           Morto    Mr   \n",
       "\n",
       "   Age_y Ft_Cabin  \n",
       "0   26.0        A  \n",
       "1   45.0        P  \n",
       "2   18.0        S  \n",
       "3   45.0        C  \n",
       "4   26.0    Uknow  "
      ]
     },
     "execution_count": 6321,
     "metadata": {},
     "output_type": "execute_result"
    }
   ],
   "source": [
    "titanic.head()"
   ]
  },
  {
   "cell_type": "code",
   "execution_count": 6322,
   "metadata": {
    "ExecuteTime": {
     "end_time": "2019-08-07T21:05:15.842560Z",
     "start_time": "2019-08-07T21:05:15.615099Z"
    }
   },
   "outputs": [
    {
     "data": {
      "image/png": "[encoded data removed]",
      "text/plain": [
       "<Figure size 576x432 with 1 Axes>"
      ]
     },
     "metadata": {
      "needs_background": "light"
     },
     "output_type": "display_data"
    }
   ],
   "source": [
    "titanic.groupby('Sex').agg({'Sex':['count'],'Survived':['sum']}).plot.bar(figsize=(8, 6));\n"
   ]
  },
  {
   "cell_type": "code",
   "execution_count": 6323,
   "metadata": {
    "ExecuteTime": {
     "end_time": "2019-08-07T21:05:16.010199Z",
     "start_time": "2019-08-07T21:05:15.844552Z"
    }
   },
   "outputs": [
    {
     "data": {
      "image/png": "[encoded data removed]",
      "text/plain": [
       "<Figure size 576x432 with 1 Axes>"
      ]
     },
     "metadata": {
      "needs_background": "light"
     },
     "output_type": "display_data"
    }
   ],
   "source": [
    "titanic.groupby('Pclass').agg({'Pclass':['count'],'Survived':['sum']}).plot.bar(figsize=(8, 6));\n"
   ]
  },
  {
   "cell_type": "code",
   "execution_count": 6324,
   "metadata": {
    "ExecuteTime": {
     "end_time": "2019-08-07T21:05:16.230280Z",
     "start_time": "2019-08-07T21:05:16.012189Z"
    }
   },
   "outputs": [
    {
     "data": {
      "image/png": "[encoded data removed]",
      "text/plain": [
       "<Figure size 576x432 with 1 Axes>"
      ]
     },
     "metadata": {
      "needs_background": "light"
     },
     "output_type": "display_data"
    }
   ],
   "source": [
    "titanic.groupby('Ft_Cabin').agg({'Ft_Cabin':['count'],'Survived':['sum']}).plot.bar(figsize=(8, 6));\n"
   ]
  },
  {
   "cell_type": "code",
   "execution_count": 6325,
   "metadata": {
    "ExecuteTime": {
     "end_time": "2019-08-07T21:05:16.389437Z",
     "start_time": "2019-08-07T21:05:16.231784Z"
    }
   },
   "outputs": [
    {
     "data": {
      "image/png": "[encoded data removed]",
      "text/plain": [
       "<Figure size 576x432 with 1 Axes>"
      ]
     },
     "metadata": {
      "needs_background": "light"
     },
     "output_type": "display_data"
    }
   ],
   "source": [
    "titanic.groupby('Embarked').agg({'Embarked':['count'],'Survived':['sum']}).plot.bar(figsize=(8, 6));\n"
   ]
  },
  {
   "cell_type": "code",
   "execution_count": 6326,
   "metadata": {
    "ExecuteTime": {
     "end_time": "2019-08-07T21:05:16.735264Z",
     "start_time": "2019-08-07T21:05:16.390428Z"
    }
   },
   "outputs": [
    {
     "data": {
      "image/png": "[encoded data removed]",
      "text/plain": [
       "<Figure size 576x432 with 1 Axes>"
      ]
     },
     "metadata": {
      "needs_background": "light"
     },
     "output_type": "display_data"
    }
   ],
   "source": [
    "titanic.groupby(['Pclass','Ft_Cabin']).agg({'Pclass':['count'],'Survived':['sum']}).plot.bar(figsize=(8, 6));"
   ]
  },
  {
   "cell_type": "code",
   "execution_count": 6327,
   "metadata": {
    "ExecuteTime": {
     "end_time": "2019-08-07T21:05:16.939412Z",
     "start_time": "2019-08-07T21:05:16.736765Z"
    }
   },
   "outputs": [
    {
     "data": {
      "image/png": "[encoded data removed]",
      "text/plain": [
       "<Figure size 576x432 with 1 Axes>"
      ]
     },
     "metadata": {
      "needs_background": "light"
     },
     "output_type": "display_data"
    }
   ],
   "source": [
    "titanic.groupby(['Sex','Title']).agg({'Sex':['count'],'Survived':['sum']}).plot.bar(figsize=(8, 6));"
   ]
  },
  {
   "cell_type": "code",
   "execution_count": 6328,
   "metadata": {
    "ExecuteTime": {
     "end_time": "2019-08-07T21:05:17.080015Z",
     "start_time": "2019-08-07T21:05:16.940913Z"
    }
   },
   "outputs": [
    {
     "data": {
      "text/plain": [
       "Text(0.5, 1.0, 'Homens Sozinhos')"
      ]
     },
     "execution_count": 6328,
     "metadata": {},
     "output_type": "execute_result"
    },
    {
     "data": {
      "image/png": "[encoded data removed]",
      "text/plain": [
       "<Figure size 576x432 with 1 Axes>"
      ]
     },
     "metadata": {
      "needs_background": "light"
     },
     "output_type": "display_data"
    }
   ],
   "source": [
    "titanic[(titanic.SibSp==0)&(titanic.Parch==0)&(titanic.Title=='Mr')].groupby('Survived').Title.count().plot.bar(figsize=(8, 6));\n",
    "plt.title('Homens Sozinhos')"
   ]
  },
  {
   "cell_type": "code",
   "execution_count": 6329,
   "metadata": {
    "ExecuteTime": {
     "end_time": "2019-08-07T21:05:17.094025Z",
     "start_time": "2019-08-07T21:05:17.081017Z"
    }
   },
   "outputs": [
    {
     "name": "stdout",
     "output_type": "stream",
     "text": [
      "11.0\n",
      "80.0\n"
     ]
    }
   ],
   "source": [
    "print(titanic[(titanic.SibSp==0)&(titanic.Parch==0)&(titanic.Title=='Mr')].Age.min())\n",
    "print(titanic[(titanic.SibSp==0)&(titanic.Parch==0)&(titanic.Title=='Mr')].Age.max())\n",
    "\n"
   ]
  },
  {
   "cell_type": "code",
   "execution_count": 6330,
   "metadata": {
    "ExecuteTime": {
     "end_time": "2019-08-07T21:05:17.306207Z",
     "start_time": "2019-08-07T21:05:17.097028Z"
    }
   },
   "outputs": [
    {
     "data": {
      "text/plain": [
       "Text(0.5, 1.0, 'Mulheres Sozinhas')"
      ]
     },
     "execution_count": 6330,
     "metadata": {},
     "output_type": "execute_result"
    },
    {
     "data": {
      "image/png": "[encoded data removed]",
      "text/plain": [
       "<Figure size 576x432 with 1 Axes>"
      ]
     },
     "metadata": {
      "needs_background": "light"
     },
     "output_type": "display_data"
    }
   ],
   "source": [
    "titanic[(titanic.SibSp==0)&(titanic.Parch==0)&(titanic.Title=='Miss')].groupby('Survived').Title.count().plot.bar(figsize=(8, 6));\n",
    "plt.title('Mulheres Sozinhas')"
   ]
  },
  {
   "cell_type": "code",
   "execution_count": 6331,
   "metadata": {
    "ExecuteTime": {
     "end_time": "2019-08-07T21:05:17.319207Z",
     "start_time": "2019-08-07T21:05:17.307199Z"
    }
   },
   "outputs": [
    {
     "name": "stdout",
     "output_type": "stream",
     "text": [
      "5.0\n",
      "58.0\n"
     ]
    }
   ],
   "source": [
    "print(titanic[(titanic.SibSp==0)&(titanic.Parch==0)&(titanic.Title=='Miss')].Age.min())\n",
    "print(titanic[(titanic.SibSp==0)&(titanic.Parch==0)&(titanic.Title=='Miss')].Age.max())\n",
    "\n"
   ]
  },
  {
   "cell_type": "markdown",
   "metadata": {
    "ExecuteTime": {
     "end_time": "2019-07-25T14:41:45.391937Z",
     "start_time": "2019-07-25T14:41:44.770033Z"
    }
   },
   "source": [
    "# Feature Engineer"
   ]
  },
  {
   "cell_type": "markdown",
   "metadata": {},
   "source": [
    "## Sobrenome"
   ]
  },
  {
   "cell_type": "code",
   "execution_count": 6332,
   "metadata": {
    "ExecuteTime": {
     "end_time": "2019-08-07T21:05:17.385263Z",
     "start_time": "2019-08-07T21:05:17.320208Z"
    }
   },
   "outputs": [],
   "source": [
    "titanic['Ft_Sobrenome']=[i.split(\".\")[0].split(\",\")[0].strip() for i in titanic[\"Name\"]]"
   ]
  },
  {
   "cell_type": "code",
   "execution_count": 6333,
   "metadata": {
    "ExecuteTime": {
     "end_time": "2019-08-07T21:05:17.468895Z",
     "start_time": "2019-08-07T21:05:17.387259Z"
    }
   },
   "outputs": [
    {
     "data": {
      "text/html": [
       "<div>\n",
       "<style scoped>\n",
       "    .dataframe tbody tr th:only-of-type {\n",
       "        vertical-align: middle;\n",
       "    }\n",
       "\n",
       "    .dataframe tbody tr th {\n",
       "        vertical-align: top;\n",
       "    }\n",
       "\n",
       "    .dataframe thead th {\n",
       "        text-align: right;\n",
       "    }\n",
       "</style>\n",
       "<table border=\"1\" class=\"dataframe\">\n",
       "  <thead>\n",
       "    <tr style=\"text-align: right;\">\n",
       "      <th></th>\n",
       "      <th>level_0</th>\n",
       "      <th>index</th>\n",
       "      <th>Age</th>\n",
       "      <th>Cabin</th>\n",
       "      <th>Embarked</th>\n",
       "      <th>Fare</th>\n",
       "      <th>Name</th>\n",
       "      <th>Parch</th>\n",
       "      <th>PassengerId</th>\n",
       "      <th>Pclass</th>\n",
       "      <th>Sex</th>\n",
       "      <th>SibSp</th>\n",
       "      <th>Survived</th>\n",
       "      <th>Ticket</th>\n",
       "      <th>Status_Survived</th>\n",
       "      <th>Title</th>\n",
       "      <th>Age_y</th>\n",
       "      <th>Ft_Cabin</th>\n",
       "      <th>Ft_Sobrenome</th>\n",
       "    </tr>\n",
       "  </thead>\n",
       "  <tbody>\n",
       "    <tr>\n",
       "      <th>13</th>\n",
       "      <td>4</td>\n",
       "      <td>4</td>\n",
       "      <td>39.0</td>\n",
       "      <td>Uknow</td>\n",
       "      <td>S</td>\n",
       "      <td>31.2750</td>\n",
       "      <td>Andersson, Mr. Anders Johan</td>\n",
       "      <td>5</td>\n",
       "      <td>14</td>\n",
       "      <td>3</td>\n",
       "      <td>male</td>\n",
       "      <td>1</td>\n",
       "      <td>0.0</td>\n",
       "      <td>347082</td>\n",
       "      <td>Morto</td>\n",
       "      <td>Mr</td>\n",
       "      <td>26.0</td>\n",
       "      <td>Uknow</td>\n",
       "      <td>Andersson</td>\n",
       "    </tr>\n",
       "    <tr>\n",
       "      <th>68</th>\n",
       "      <td>536</td>\n",
       "      <td>536</td>\n",
       "      <td>17.0</td>\n",
       "      <td>Uknow</td>\n",
       "      <td>S</td>\n",
       "      <td>7.9250</td>\n",
       "      <td>Andersson, Miss. Erna Alexandra</td>\n",
       "      <td>2</td>\n",
       "      <td>69</td>\n",
       "      <td>3</td>\n",
       "      <td>female</td>\n",
       "      <td>4</td>\n",
       "      <td>1.0</td>\n",
       "      <td>3101281</td>\n",
       "      <td>Vivo</td>\n",
       "      <td>Miss</td>\n",
       "      <td>18.0</td>\n",
       "      <td>Uknow</td>\n",
       "      <td>Andersson</td>\n",
       "    </tr>\n",
       "    <tr>\n",
       "      <th>119</th>\n",
       "      <td>546</td>\n",
       "      <td>546</td>\n",
       "      <td>2.0</td>\n",
       "      <td>Uknow</td>\n",
       "      <td>S</td>\n",
       "      <td>31.2750</td>\n",
       "      <td>Andersson, Miss. Ellis Anna Maria</td>\n",
       "      <td>2</td>\n",
       "      <td>120</td>\n",
       "      <td>3</td>\n",
       "      <td>female</td>\n",
       "      <td>4</td>\n",
       "      <td>0.0</td>\n",
       "      <td>347082</td>\n",
       "      <td>Morto</td>\n",
       "      <td>Miss</td>\n",
       "      <td>18.0</td>\n",
       "      <td>Uknow</td>\n",
       "      <td>Andersson</td>\n",
       "    </tr>\n",
       "    <tr>\n",
       "      <th>146</th>\n",
       "      <td>50</td>\n",
       "      <td>50</td>\n",
       "      <td>27.0</td>\n",
       "      <td>Uknow</td>\n",
       "      <td>S</td>\n",
       "      <td>7.7958</td>\n",
       "      <td>Andersson, Mr. August Edvard (\"Wennerstrom\")</td>\n",
       "      <td>0</td>\n",
       "      <td>147</td>\n",
       "      <td>3</td>\n",
       "      <td>male</td>\n",
       "      <td>0</td>\n",
       "      <td>1.0</td>\n",
       "      <td>350043</td>\n",
       "      <td>Vivo</td>\n",
       "      <td>Mr</td>\n",
       "      <td>26.0</td>\n",
       "      <td>Uknow</td>\n",
       "      <td>Andersson</td>\n",
       "    </tr>\n",
       "    <tr>\n",
       "      <th>541</th>\n",
       "      <td>594</td>\n",
       "      <td>594</td>\n",
       "      <td>9.0</td>\n",
       "      <td>Uknow</td>\n",
       "      <td>S</td>\n",
       "      <td>31.2750</td>\n",
       "      <td>Andersson, Miss. Ingeborg Constanzia</td>\n",
       "      <td>2</td>\n",
       "      <td>542</td>\n",
       "      <td>3</td>\n",
       "      <td>female</td>\n",
       "      <td>4</td>\n",
       "      <td>0.0</td>\n",
       "      <td>347082</td>\n",
       "      <td>Morto</td>\n",
       "      <td>Miss</td>\n",
       "      <td>18.0</td>\n",
       "      <td>Uknow</td>\n",
       "      <td>Andersson</td>\n",
       "    </tr>\n",
       "    <tr>\n",
       "      <th>542</th>\n",
       "      <td>595</td>\n",
       "      <td>595</td>\n",
       "      <td>11.0</td>\n",
       "      <td>Uknow</td>\n",
       "      <td>S</td>\n",
       "      <td>31.2750</td>\n",
       "      <td>Andersson, Miss. Sigrid Elisabeth</td>\n",
       "      <td>2</td>\n",
       "      <td>543</td>\n",
       "      <td>3</td>\n",
       "      <td>female</td>\n",
       "      <td>4</td>\n",
       "      <td>0.0</td>\n",
       "      <td>347082</td>\n",
       "      <td>Morto</td>\n",
       "      <td>Miss</td>\n",
       "      <td>18.0</td>\n",
       "      <td>Uknow</td>\n",
       "      <td>Andersson</td>\n",
       "    </tr>\n",
       "    <tr>\n",
       "      <th>610</th>\n",
       "      <td>909</td>\n",
       "      <td>909</td>\n",
       "      <td>39.0</td>\n",
       "      <td>Uknow</td>\n",
       "      <td>S</td>\n",
       "      <td>31.2750</td>\n",
       "      <td>Andersson, Mrs. Anders Johan (Alfrida Konstant...</td>\n",
       "      <td>5</td>\n",
       "      <td>611</td>\n",
       "      <td>3</td>\n",
       "      <td>female</td>\n",
       "      <td>1</td>\n",
       "      <td>0.0</td>\n",
       "      <td>347082</td>\n",
       "      <td>Morto</td>\n",
       "      <td>Mrs</td>\n",
       "      <td>31.0</td>\n",
       "      <td>Uknow</td>\n",
       "      <td>Andersson</td>\n",
       "    </tr>\n",
       "    <tr>\n",
       "      <th>813</th>\n",
       "      <td>620</td>\n",
       "      <td>620</td>\n",
       "      <td>6.0</td>\n",
       "      <td>Uknow</td>\n",
       "      <td>S</td>\n",
       "      <td>31.2750</td>\n",
       "      <td>Andersson, Miss. Ebba Iris Alfrida</td>\n",
       "      <td>2</td>\n",
       "      <td>814</td>\n",
       "      <td>3</td>\n",
       "      <td>female</td>\n",
       "      <td>4</td>\n",
       "      <td>0.0</td>\n",
       "      <td>347082</td>\n",
       "      <td>Morto</td>\n",
       "      <td>Miss</td>\n",
       "      <td>18.0</td>\n",
       "      <td>Uknow</td>\n",
       "      <td>Andersson</td>\n",
       "    </tr>\n",
       "    <tr>\n",
       "      <th>850</th>\n",
       "      <td>861</td>\n",
       "      <td>861</td>\n",
       "      <td>4.0</td>\n",
       "      <td>Uknow</td>\n",
       "      <td>S</td>\n",
       "      <td>31.2750</td>\n",
       "      <td>Andersson, Master. Sigvard Harald Elias</td>\n",
       "      <td>2</td>\n",
       "      <td>851</td>\n",
       "      <td>3</td>\n",
       "      <td>male</td>\n",
       "      <td>4</td>\n",
       "      <td>0.0</td>\n",
       "      <td>347082</td>\n",
       "      <td>Morto</td>\n",
       "      <td>Master</td>\n",
       "      <td>6.0</td>\n",
       "      <td>Uknow</td>\n",
       "      <td>Andersson</td>\n",
       "    </tr>\n",
       "    <tr>\n",
       "      <th>1105</th>\n",
       "      <td>654</td>\n",
       "      <td>654</td>\n",
       "      <td>38.0</td>\n",
       "      <td>Uknow</td>\n",
       "      <td>S</td>\n",
       "      <td>7.7750</td>\n",
       "      <td>Andersson, Miss. Ida Augusta Margareta</td>\n",
       "      <td>2</td>\n",
       "      <td>1106</td>\n",
       "      <td>3</td>\n",
       "      <td>female</td>\n",
       "      <td>4</td>\n",
       "      <td>NaN</td>\n",
       "      <td>347091</td>\n",
       "      <td>NaN</td>\n",
       "      <td>Miss</td>\n",
       "      <td>18.0</td>\n",
       "      <td>Uknow</td>\n",
       "      <td>Andersson</td>\n",
       "    </tr>\n",
       "    <tr>\n",
       "      <th>1211</th>\n",
       "      <td>425</td>\n",
       "      <td>425</td>\n",
       "      <td>26.0</td>\n",
       "      <td>Uknow</td>\n",
       "      <td>S</td>\n",
       "      <td>7.7750</td>\n",
       "      <td>Andersson, Mr. Johan Samuel</td>\n",
       "      <td>0</td>\n",
       "      <td>1212</td>\n",
       "      <td>3</td>\n",
       "      <td>male</td>\n",
       "      <td>0</td>\n",
       "      <td>NaN</td>\n",
       "      <td>347075</td>\n",
       "      <td>NaN</td>\n",
       "      <td>Mr</td>\n",
       "      <td>26.0</td>\n",
       "      <td>Uknow</td>\n",
       "      <td>Andersson</td>\n",
       "    </tr>\n",
       "  </tbody>\n",
       "</table>\n",
       "</div>"
      ],
      "text/plain": [
       "      level_0  index   Age  Cabin Embarked     Fare  \\\n",
       "13          4      4  39.0  Uknow        S  31.2750   \n",
       "68        536    536  17.0  Uknow        S   7.9250   \n",
       "119       546    546   2.0  Uknow        S  31.2750   \n",
       "146        50     50  27.0  Uknow        S   7.7958   \n",
       "541       594    594   9.0  Uknow        S  31.2750   \n",
       "542       595    595  11.0  Uknow        S  31.2750   \n",
       "610       909    909  39.0  Uknow        S  31.2750   \n",
       "813       620    620   6.0  Uknow        S  31.2750   \n",
       "850       861    861   4.0  Uknow        S  31.2750   \n",
       "1105      654    654  38.0  Uknow        S   7.7750   \n",
       "1211      425    425  26.0  Uknow        S   7.7750   \n",
       "\n",
       "                                                   Name  Parch  PassengerId  \\\n",
       "13                          Andersson, Mr. Anders Johan      5           14   \n",
       "68                      Andersson, Miss. Erna Alexandra      2           69   \n",
       "119                   Andersson, Miss. Ellis Anna Maria      2          120   \n",
       "146        Andersson, Mr. August Edvard (\"Wennerstrom\")      0          147   \n",
       "541                Andersson, Miss. Ingeborg Constanzia      2          542   \n",
       "542                   Andersson, Miss. Sigrid Elisabeth      2          543   \n",
       "610   Andersson, Mrs. Anders Johan (Alfrida Konstant...      5          611   \n",
       "813                  Andersson, Miss. Ebba Iris Alfrida      2          814   \n",
       "850             Andersson, Master. Sigvard Harald Elias      2          851   \n",
       "1105             Andersson, Miss. Ida Augusta Margareta      2         1106   \n",
       "1211                        Andersson, Mr. Johan Samuel      0         1212   \n",
       "\n",
       "      Pclass     Sex  SibSp  Survived   Ticket Status_Survived   Title  Age_y  \\\n",
       "13         3    male      1       0.0   347082           Morto      Mr   26.0   \n",
       "68         3  female      4       1.0  3101281            Vivo    Miss   18.0   \n",
       "119        3  female      4       0.0   347082           Morto    Miss   18.0   \n",
       "146        3    male      0       1.0   350043            Vivo      Mr   26.0   \n",
       "541        3  female      4       0.0   347082           Morto    Miss   18.0   \n",
       "542        3  female      4       0.0   347082           Morto    Miss   18.0   \n",
       "610        3  female      1       0.0   347082           Morto     Mrs   31.0   \n",
       "813        3  female      4       0.0   347082           Morto    Miss   18.0   \n",
       "850        3    male      4       0.0   347082           Morto  Master    6.0   \n",
       "1105       3  female      4       NaN   347091             NaN    Miss   18.0   \n",
       "1211       3    male      0       NaN   347075             NaN      Mr   26.0   \n",
       "\n",
       "     Ft_Cabin Ft_Sobrenome  \n",
       "13      Uknow    Andersson  \n",
       "68      Uknow    Andersson  \n",
       "119     Uknow    Andersson  \n",
       "146     Uknow    Andersson  \n",
       "541     Uknow    Andersson  \n",
       "542     Uknow    Andersson  \n",
       "610     Uknow    Andersson  \n",
       "813     Uknow    Andersson  \n",
       "850     Uknow    Andersson  \n",
       "1105    Uknow    Andersson  \n",
       "1211    Uknow    Andersson  "
      ]
     },
     "execution_count": 6333,
     "metadata": {},
     "output_type": "execute_result"
    }
   ],
   "source": [
    "titanic[(titanic.Ft_Sobrenome=='Andersson')]"
   ]
  },
  {
   "cell_type": "markdown",
   "metadata": {},
   "source": [
    "## Homens e Mulheres (Solteiros/Sozinhos) (as)"
   ]
  },
  {
   "cell_type": "markdown",
   "metadata": {
    "ExecuteTime": {
     "end_time": "2019-08-01T18:35:16.128132Z",
     "start_time": "2019-08-01T18:35:15.952453Z"
    }
   },
   "source": [
    "\n",
    "### Sibsp\n"
   ]
  },
  {
   "cell_type": "markdown",
   "metadata": {},
   "source": [
    "sibsp : O conjunto de dados define relações familiares desta forma  \n",
    "Irmão = irmã, irmão, meio-irmão, irmã adotiva  \n",
    "Esposa = marido, esposa (amantes e noivas foram ignorados)  "
   ]
  },
  {
   "cell_type": "markdown",
   "metadata": {
    "ExecuteTime": {
     "end_time": "2019-08-01T21:15:27.461375Z",
     "start_time": "2019-08-01T21:15:27.388301Z"
    }
   },
   "source": [
    "### Parch\n",
    "parch : O conjunto de dados define as relações familiares desta forma   \n",
    "Pai = mãe, pai  \n",
    "Criança = filha, filho, enteada, enteado  \n",
    "Algumas crianças viajavam apenas com uma babá, portanto parch = 0 para elas."
   ]
  },
  {
   "cell_type": "code",
   "execution_count": 6334,
   "metadata": {
    "ExecuteTime": {
     "end_time": "2019-08-07T21:05:17.536943Z",
     "start_time": "2019-08-07T21:05:17.469895Z"
    }
   },
   "outputs": [],
   "source": [
    "titanic.loc[titanic.Title=='Mrs'  ,'Ft_Civil'] ='M_Casada'\n",
    "titanic.loc[(titanic.SibSp==0)&(titanic.Parch==0)&(titanic.Title=='Miss') ,'Ft_Civil'] ='M_Solteira'\n",
    "titanic.loc[(titanic.SibSp==0)&(titanic.Parch==0)&(titanic.Title=='Ms')   ,'Ft_Civil'] ='M_Solteira'\n",
    "titanic.loc[(titanic.SibSp==0)&(titanic.Parch==0)&(titanic.Title=='Mr')   ,'Ft_Civil'] ='H_Solteiro'\n"
   ]
  },
  {
   "cell_type": "code",
   "execution_count": 6335,
   "metadata": {
    "ExecuteTime": {
     "end_time": "2019-08-07T21:05:17.610211Z",
     "start_time": "2019-08-07T21:05:17.538445Z"
    }
   },
   "outputs": [],
   "source": [
    "titanic.loc[titanic.Ft_Civil.isna(),'Ft_Civil']='N_declarado'"
   ]
  },
  {
   "cell_type": "code",
   "execution_count": 6336,
   "metadata": {
    "ExecuteTime": {
     "end_time": "2019-08-07T21:05:17.695465Z",
     "start_time": "2019-08-07T21:05:17.611198Z"
    }
   },
   "outputs": [
    {
     "data": {
      "text/html": [
       "<div>\n",
       "<style scoped>\n",
       "    .dataframe tbody tr th:only-of-type {\n",
       "        vertical-align: middle;\n",
       "    }\n",
       "\n",
       "    .dataframe tbody tr th {\n",
       "        vertical-align: top;\n",
       "    }\n",
       "\n",
       "    .dataframe thead th {\n",
       "        text-align: right;\n",
       "    }\n",
       "</style>\n",
       "<table border=\"1\" class=\"dataframe\">\n",
       "  <thead>\n",
       "    <tr style=\"text-align: right;\">\n",
       "      <th></th>\n",
       "      <th>level_0</th>\n",
       "      <th>index</th>\n",
       "      <th>Age</th>\n",
       "      <th>Cabin</th>\n",
       "      <th>Embarked</th>\n",
       "      <th>Fare</th>\n",
       "      <th>Name</th>\n",
       "      <th>Parch</th>\n",
       "      <th>PassengerId</th>\n",
       "      <th>Pclass</th>\n",
       "      <th>Sex</th>\n",
       "      <th>SibSp</th>\n",
       "      <th>Survived</th>\n",
       "      <th>Ticket</th>\n",
       "      <th>Status_Survived</th>\n",
       "      <th>Title</th>\n",
       "      <th>Age_y</th>\n",
       "      <th>Ft_Cabin</th>\n",
       "      <th>Ft_Sobrenome</th>\n",
       "      <th>Ft_Civil</th>\n",
       "    </tr>\n",
       "  </thead>\n",
       "  <tbody>\n",
       "    <tr>\n",
       "      <th>104</th>\n",
       "      <td>35</td>\n",
       "      <td>35</td>\n",
       "      <td>37.0</td>\n",
       "      <td>Uknow</td>\n",
       "      <td>S</td>\n",
       "      <td>7.9250</td>\n",
       "      <td>Gustafsson, Mr. Anders Vilhelm</td>\n",
       "      <td>0</td>\n",
       "      <td>105</td>\n",
       "      <td>3</td>\n",
       "      <td>male</td>\n",
       "      <td>2</td>\n",
       "      <td>0.0</td>\n",
       "      <td>3101276</td>\n",
       "      <td>Morto</td>\n",
       "      <td>Mr</td>\n",
       "      <td>26.0</td>\n",
       "      <td>Uknow</td>\n",
       "      <td>Gustafsson</td>\n",
       "      <td>N_declarado</td>\n",
       "    </tr>\n",
       "    <tr>\n",
       "      <th>379</th>\n",
       "      <td>124</td>\n",
       "      <td>124</td>\n",
       "      <td>19.0</td>\n",
       "      <td>Uknow</td>\n",
       "      <td>S</td>\n",
       "      <td>7.7750</td>\n",
       "      <td>Gustafsson, Mr. Karl Gideon</td>\n",
       "      <td>0</td>\n",
       "      <td>380</td>\n",
       "      <td>3</td>\n",
       "      <td>male</td>\n",
       "      <td>0</td>\n",
       "      <td>0.0</td>\n",
       "      <td>347069</td>\n",
       "      <td>Morto</td>\n",
       "      <td>Mr</td>\n",
       "      <td>26.0</td>\n",
       "      <td>Uknow</td>\n",
       "      <td>Gustafsson</td>\n",
       "      <td>H_Solteiro</td>\n",
       "    </tr>\n",
       "    <tr>\n",
       "      <th>392</th>\n",
       "      <td>129</td>\n",
       "      <td>129</td>\n",
       "      <td>28.0</td>\n",
       "      <td>Uknow</td>\n",
       "      <td>S</td>\n",
       "      <td>7.9250</td>\n",
       "      <td>Gustafsson, Mr. Johan Birger</td>\n",
       "      <td>0</td>\n",
       "      <td>393</td>\n",
       "      <td>3</td>\n",
       "      <td>male</td>\n",
       "      <td>2</td>\n",
       "      <td>0.0</td>\n",
       "      <td>3101277</td>\n",
       "      <td>Morto</td>\n",
       "      <td>Mr</td>\n",
       "      <td>26.0</td>\n",
       "      <td>Uknow</td>\n",
       "      <td>Gustafsson</td>\n",
       "      <td>N_declarado</td>\n",
       "    </tr>\n",
       "    <tr>\n",
       "      <th>876</th>\n",
       "      <td>313</td>\n",
       "      <td>313</td>\n",
       "      <td>20.0</td>\n",
       "      <td>Uknow</td>\n",
       "      <td>S</td>\n",
       "      <td>9.8458</td>\n",
       "      <td>Gustafsson, Mr. Alfred Ossian</td>\n",
       "      <td>0</td>\n",
       "      <td>877</td>\n",
       "      <td>3</td>\n",
       "      <td>male</td>\n",
       "      <td>0</td>\n",
       "      <td>0.0</td>\n",
       "      <td>7534</td>\n",
       "      <td>Morto</td>\n",
       "      <td>Mr</td>\n",
       "      <td>26.0</td>\n",
       "      <td>Uknow</td>\n",
       "      <td>Gustafsson</td>\n",
       "      <td>H_Solteiro</td>\n",
       "    </tr>\n",
       "  </tbody>\n",
       "</table>\n",
       "</div>"
      ],
      "text/plain": [
       "     level_0  index   Age  Cabin Embarked    Fare  \\\n",
       "104       35     35  37.0  Uknow        S  7.9250   \n",
       "379      124    124  19.0  Uknow        S  7.7750   \n",
       "392      129    129  28.0  Uknow        S  7.9250   \n",
       "876      313    313  20.0  Uknow        S  9.8458   \n",
       "\n",
       "                               Name  Parch  PassengerId  Pclass   Sex  SibSp  \\\n",
       "104  Gustafsson, Mr. Anders Vilhelm      0          105       3  male      2   \n",
       "379     Gustafsson, Mr. Karl Gideon      0          380       3  male      0   \n",
       "392    Gustafsson, Mr. Johan Birger      0          393       3  male      2   \n",
       "876   Gustafsson, Mr. Alfred Ossian      0          877       3  male      0   \n",
       "\n",
       "     Survived   Ticket Status_Survived Title  Age_y Ft_Cabin Ft_Sobrenome  \\\n",
       "104       0.0  3101276           Morto    Mr   26.0    Uknow   Gustafsson   \n",
       "379       0.0   347069           Morto    Mr   26.0    Uknow   Gustafsson   \n",
       "392       0.0  3101277           Morto    Mr   26.0    Uknow   Gustafsson   \n",
       "876       0.0     7534           Morto    Mr   26.0    Uknow   Gustafsson   \n",
       "\n",
       "        Ft_Civil  \n",
       "104  N_declarado  \n",
       "379   H_Solteiro  \n",
       "392  N_declarado  \n",
       "876   H_Solteiro  "
      ]
     },
     "execution_count": 6336,
     "metadata": {},
     "output_type": "execute_result"
    }
   ],
   "source": [
    "titanic[(titanic.Ft_Sobrenome=='Gustafsson')]"
   ]
  },
  {
   "cell_type": "code",
   "execution_count": 6337,
   "metadata": {
    "ExecuteTime": {
     "end_time": "2019-08-07T21:05:17.831155Z",
     "start_time": "2019-08-07T21:05:17.697467Z"
    }
   },
   "outputs": [
    {
     "data": {
      "text/html": [
       "<div>\n",
       "<style scoped>\n",
       "    .dataframe tbody tr th:only-of-type {\n",
       "        vertical-align: middle;\n",
       "    }\n",
       "\n",
       "    .dataframe tbody tr th {\n",
       "        vertical-align: top;\n",
       "    }\n",
       "\n",
       "    .dataframe thead th {\n",
       "        text-align: right;\n",
       "    }\n",
       "</style>\n",
       "<table border=\"1\" class=\"dataframe\">\n",
       "  <thead>\n",
       "    <tr style=\"text-align: right;\">\n",
       "      <th></th>\n",
       "      <th>level_0</th>\n",
       "      <th>index</th>\n",
       "      <th>Age</th>\n",
       "      <th>Cabin</th>\n",
       "      <th>Embarked</th>\n",
       "      <th>Fare</th>\n",
       "      <th>Name</th>\n",
       "      <th>Parch</th>\n",
       "      <th>PassengerId</th>\n",
       "      <th>Pclass</th>\n",
       "      <th>Sex</th>\n",
       "      <th>SibSp</th>\n",
       "      <th>Survived</th>\n",
       "      <th>Ticket</th>\n",
       "      <th>Status_Survived</th>\n",
       "      <th>Title</th>\n",
       "      <th>Age_y</th>\n",
       "      <th>Ft_Cabin</th>\n",
       "      <th>Ft_Sobrenome</th>\n",
       "      <th>Ft_Civil</th>\n",
       "    </tr>\n",
       "  </thead>\n",
       "  <tbody>\n",
       "    <tr>\n",
       "      <th>0</th>\n",
       "      <td>0</td>\n",
       "      <td>0</td>\n",
       "      <td>22.00</td>\n",
       "      <td>Uknow</td>\n",
       "      <td>S</td>\n",
       "      <td>7.2500</td>\n",
       "      <td>Braund, Mr. Owen Harris</td>\n",
       "      <td>0</td>\n",
       "      <td>1</td>\n",
       "      <td>3</td>\n",
       "      <td>male</td>\n",
       "      <td>1</td>\n",
       "      <td>0.0</td>\n",
       "      <td>A/5 21171</td>\n",
       "      <td>Morto</td>\n",
       "      <td>Mr</td>\n",
       "      <td>26.0</td>\n",
       "      <td>A</td>\n",
       "      <td>Braund</td>\n",
       "      <td>N_declarado</td>\n",
       "    </tr>\n",
       "    <tr>\n",
       "      <th>7</th>\n",
       "      <td>835</td>\n",
       "      <td>835</td>\n",
       "      <td>2.00</td>\n",
       "      <td>Uknow</td>\n",
       "      <td>S</td>\n",
       "      <td>21.0750</td>\n",
       "      <td>Palsson, Master. Gosta Leonard</td>\n",
       "      <td>1</td>\n",
       "      <td>8</td>\n",
       "      <td>3</td>\n",
       "      <td>male</td>\n",
       "      <td>3</td>\n",
       "      <td>0.0</td>\n",
       "      <td>349909</td>\n",
       "      <td>Morto</td>\n",
       "      <td>Master</td>\n",
       "      <td>6.0</td>\n",
       "      <td>Uknow</td>\n",
       "      <td>Palsson</td>\n",
       "      <td>N_declarado</td>\n",
       "    </tr>\n",
       "    <tr>\n",
       "      <th>10</th>\n",
       "      <td>526</td>\n",
       "      <td>526</td>\n",
       "      <td>4.00</td>\n",
       "      <td>G6</td>\n",
       "      <td>S</td>\n",
       "      <td>16.7000</td>\n",
       "      <td>Sandstrom, Miss. Marguerite Rut</td>\n",
       "      <td>1</td>\n",
       "      <td>11</td>\n",
       "      <td>3</td>\n",
       "      <td>female</td>\n",
       "      <td>1</td>\n",
       "      <td>1.0</td>\n",
       "      <td>PP 9549</td>\n",
       "      <td>Vivo</td>\n",
       "      <td>Miss</td>\n",
       "      <td>18.0</td>\n",
       "      <td>P</td>\n",
       "      <td>Sandstrom</td>\n",
       "      <td>N_declarado</td>\n",
       "    </tr>\n",
       "    <tr>\n",
       "      <th>13</th>\n",
       "      <td>4</td>\n",
       "      <td>4</td>\n",
       "      <td>39.00</td>\n",
       "      <td>Uknow</td>\n",
       "      <td>S</td>\n",
       "      <td>31.2750</td>\n",
       "      <td>Andersson, Mr. Anders Johan</td>\n",
       "      <td>5</td>\n",
       "      <td>14</td>\n",
       "      <td>3</td>\n",
       "      <td>male</td>\n",
       "      <td>1</td>\n",
       "      <td>0.0</td>\n",
       "      <td>347082</td>\n",
       "      <td>Morto</td>\n",
       "      <td>Mr</td>\n",
       "      <td>26.0</td>\n",
       "      <td>Uknow</td>\n",
       "      <td>Andersson</td>\n",
       "      <td>N_declarado</td>\n",
       "    </tr>\n",
       "    <tr>\n",
       "      <th>16</th>\n",
       "      <td>836</td>\n",
       "      <td>836</td>\n",
       "      <td>2.00</td>\n",
       "      <td>Uknow</td>\n",
       "      <td>Q</td>\n",
       "      <td>29.1250</td>\n",
       "      <td>Rice, Master. Eugene</td>\n",
       "      <td>1</td>\n",
       "      <td>17</td>\n",
       "      <td>3</td>\n",
       "      <td>male</td>\n",
       "      <td>4</td>\n",
       "      <td>0.0</td>\n",
       "      <td>382652</td>\n",
       "      <td>Morto</td>\n",
       "      <td>Master</td>\n",
       "      <td>6.0</td>\n",
       "      <td>Uknow</td>\n",
       "      <td>Rice</td>\n",
       "      <td>N_declarado</td>\n",
       "    </tr>\n",
       "    <tr>\n",
       "      <th>24</th>\n",
       "      <td>529</td>\n",
       "      <td>529</td>\n",
       "      <td>8.00</td>\n",
       "      <td>Uknow</td>\n",
       "      <td>S</td>\n",
       "      <td>21.0750</td>\n",
       "      <td>Palsson, Miss. Torborg Danira</td>\n",
       "      <td>1</td>\n",
       "      <td>25</td>\n",
       "      <td>3</td>\n",
       "      <td>female</td>\n",
       "      <td>3</td>\n",
       "      <td>0.0</td>\n",
       "      <td>349909</td>\n",
       "      <td>Morto</td>\n",
       "      <td>Miss</td>\n",
       "      <td>18.0</td>\n",
       "      <td>Uknow</td>\n",
       "      <td>Palsson</td>\n",
       "      <td>N_declarado</td>\n",
       "    </tr>\n",
       "    <tr>\n",
       "      <th>27</th>\n",
       "      <td>678</td>\n",
       "      <td>678</td>\n",
       "      <td>19.00</td>\n",
       "      <td>C23 C25 C27</td>\n",
       "      <td>S</td>\n",
       "      <td>263.0000</td>\n",
       "      <td>Fortune, Mr. Charles Alexander</td>\n",
       "      <td>2</td>\n",
       "      <td>28</td>\n",
       "      <td>1</td>\n",
       "      <td>male</td>\n",
       "      <td>3</td>\n",
       "      <td>0.0</td>\n",
       "      <td>19950</td>\n",
       "      <td>Morto</td>\n",
       "      <td>Mr</td>\n",
       "      <td>41.5</td>\n",
       "      <td>C</td>\n",
       "      <td>Fortune</td>\n",
       "      <td>N_declarado</td>\n",
       "    </tr>\n",
       "    <tr>\n",
       "      <th>30</th>\n",
       "      <td>1213</td>\n",
       "      <td>1213</td>\n",
       "      <td>40.00</td>\n",
       "      <td>Uknow</td>\n",
       "      <td>C</td>\n",
       "      <td>27.7208</td>\n",
       "      <td>Uruchurtu, Don. Manuel E</td>\n",
       "      <td>0</td>\n",
       "      <td>31</td>\n",
       "      <td>1</td>\n",
       "      <td>male</td>\n",
       "      <td>0</td>\n",
       "      <td>0.0</td>\n",
       "      <td>PC 17601</td>\n",
       "      <td>Morto</td>\n",
       "      <td>Rare</td>\n",
       "      <td>48.5</td>\n",
       "      <td>P</td>\n",
       "      <td>Uruchurtu</td>\n",
       "      <td>N_declarado</td>\n",
       "    </tr>\n",
       "    <tr>\n",
       "      <th>34</th>\n",
       "      <td>679</td>\n",
       "      <td>679</td>\n",
       "      <td>28.00</td>\n",
       "      <td>Uknow</td>\n",
       "      <td>C</td>\n",
       "      <td>82.1708</td>\n",
       "      <td>Meyer, Mr. Edgar Joseph</td>\n",
       "      <td>0</td>\n",
       "      <td>35</td>\n",
       "      <td>1</td>\n",
       "      <td>male</td>\n",
       "      <td>1</td>\n",
       "      <td>0.0</td>\n",
       "      <td>PC 17604</td>\n",
       "      <td>Morto</td>\n",
       "      <td>Mr</td>\n",
       "      <td>41.5</td>\n",
       "      <td>P</td>\n",
       "      <td>Meyer</td>\n",
       "      <td>N_declarado</td>\n",
       "    </tr>\n",
       "    <tr>\n",
       "      <th>35</th>\n",
       "      <td>680</td>\n",
       "      <td>680</td>\n",
       "      <td>42.00</td>\n",
       "      <td>Uknow</td>\n",
       "      <td>S</td>\n",
       "      <td>52.0000</td>\n",
       "      <td>Holverson, Mr. Alexander Oskar</td>\n",
       "      <td>0</td>\n",
       "      <td>36</td>\n",
       "      <td>1</td>\n",
       "      <td>male</td>\n",
       "      <td>1</td>\n",
       "      <td>0.0</td>\n",
       "      <td>113789</td>\n",
       "      <td>Morto</td>\n",
       "      <td>Mr</td>\n",
       "      <td>41.5</td>\n",
       "      <td>Uknow</td>\n",
       "      <td>Holverson</td>\n",
       "      <td>N_declarado</td>\n",
       "    </tr>\n",
       "    <tr>\n",
       "      <th>38</th>\n",
       "      <td>532</td>\n",
       "      <td>532</td>\n",
       "      <td>18.00</td>\n",
       "      <td>Uknow</td>\n",
       "      <td>S</td>\n",
       "      <td>18.0000</td>\n",
       "      <td>Vander Planke, Miss. Augusta Maria</td>\n",
       "      <td>0</td>\n",
       "      <td>39</td>\n",
       "      <td>3</td>\n",
       "      <td>female</td>\n",
       "      <td>2</td>\n",
       "      <td>0.0</td>\n",
       "      <td>345764</td>\n",
       "      <td>Morto</td>\n",
       "      <td>Miss</td>\n",
       "      <td>18.0</td>\n",
       "      <td>Uknow</td>\n",
       "      <td>Vander Planke</td>\n",
       "      <td>N_declarado</td>\n",
       "    </tr>\n",
       "    <tr>\n",
       "      <th>39</th>\n",
       "      <td>533</td>\n",
       "      <td>533</td>\n",
       "      <td>14.00</td>\n",
       "      <td>Uknow</td>\n",
       "      <td>C</td>\n",
       "      <td>11.2417</td>\n",
       "      <td>Nicola-Yarred, Miss. Jamila</td>\n",
       "      <td>0</td>\n",
       "      <td>40</td>\n",
       "      <td>3</td>\n",
       "      <td>female</td>\n",
       "      <td>1</td>\n",
       "      <td>1.0</td>\n",
       "      <td>2651</td>\n",
       "      <td>Vivo</td>\n",
       "      <td>Miss</td>\n",
       "      <td>18.0</td>\n",
       "      <td>Uknow</td>\n",
       "      <td>Nicola-Yarred</td>\n",
       "      <td>N_declarado</td>\n",
       "    </tr>\n",
       "    <tr>\n",
       "      <th>43</th>\n",
       "      <td>1232</td>\n",
       "      <td>1232</td>\n",
       "      <td>3.00</td>\n",
       "      <td>Uknow</td>\n",
       "      <td>C</td>\n",
       "      <td>41.5792</td>\n",
       "      <td>Laroche, Miss. Simonne Marie Anne Andree</td>\n",
       "      <td>2</td>\n",
       "      <td>44</td>\n",
       "      <td>2</td>\n",
       "      <td>female</td>\n",
       "      <td>1</td>\n",
       "      <td>1.0</td>\n",
       "      <td>SC/Paris 2123</td>\n",
       "      <td>Vivo</td>\n",
       "      <td>Miss</td>\n",
       "      <td>20.0</td>\n",
       "      <td>S</td>\n",
       "      <td>Laroche</td>\n",
       "      <td>N_declarado</td>\n",
       "    </tr>\n",
       "    <tr>\n",
       "      <th>46</th>\n",
       "      <td>11</td>\n",
       "      <td>11</td>\n",
       "      <td>26.00</td>\n",
       "      <td>Uknow</td>\n",
       "      <td>Q</td>\n",
       "      <td>15.5000</td>\n",
       "      <td>Lennon, Mr. Denis</td>\n",
       "      <td>0</td>\n",
       "      <td>47</td>\n",
       "      <td>3</td>\n",
       "      <td>male</td>\n",
       "      <td>1</td>\n",
       "      <td>0.0</td>\n",
       "      <td>370371</td>\n",
       "      <td>Morto</td>\n",
       "      <td>Mr</td>\n",
       "      <td>26.0</td>\n",
       "      <td>Uknow</td>\n",
       "      <td>Lennon</td>\n",
       "      <td>N_declarado</td>\n",
       "    </tr>\n",
       "    <tr>\n",
       "      <th>48</th>\n",
       "      <td>12</td>\n",
       "      <td>12</td>\n",
       "      <td>26.00</td>\n",
       "      <td>Uknow</td>\n",
       "      <td>C</td>\n",
       "      <td>21.6792</td>\n",
       "      <td>Samaan, Mr. Youssef</td>\n",
       "      <td>0</td>\n",
       "      <td>49</td>\n",
       "      <td>3</td>\n",
       "      <td>male</td>\n",
       "      <td>2</td>\n",
       "      <td>0.0</td>\n",
       "      <td>2662</td>\n",
       "      <td>Morto</td>\n",
       "      <td>Mr</td>\n",
       "      <td>26.0</td>\n",
       "      <td>Uknow</td>\n",
       "      <td>Samaan</td>\n",
       "      <td>N_declarado</td>\n",
       "    </tr>\n",
       "    <tr>\n",
       "      <th>50</th>\n",
       "      <td>837</td>\n",
       "      <td>837</td>\n",
       "      <td>7.00</td>\n",
       "      <td>Uknow</td>\n",
       "      <td>S</td>\n",
       "      <td>39.6875</td>\n",
       "      <td>Panula, Master. Juha Niilo</td>\n",
       "      <td>1</td>\n",
       "      <td>51</td>\n",
       "      <td>3</td>\n",
       "      <td>male</td>\n",
       "      <td>4</td>\n",
       "      <td>0.0</td>\n",
       "      <td>3101295</td>\n",
       "      <td>Morto</td>\n",
       "      <td>Master</td>\n",
       "      <td>6.0</td>\n",
       "      <td>Uknow</td>\n",
       "      <td>Panula</td>\n",
       "      <td>N_declarado</td>\n",
       "    </tr>\n",
       "    <tr>\n",
       "      <th>54</th>\n",
       "      <td>681</td>\n",
       "      <td>681</td>\n",
       "      <td>65.00</td>\n",
       "      <td>B30</td>\n",
       "      <td>C</td>\n",
       "      <td>61.9792</td>\n",
       "      <td>Ostby, Mr. Engelhart Cornelius</td>\n",
       "      <td>1</td>\n",
       "      <td>55</td>\n",
       "      <td>1</td>\n",
       "      <td>male</td>\n",
       "      <td>0</td>\n",
       "      <td>0.0</td>\n",
       "      <td>113509</td>\n",
       "      <td>Morto</td>\n",
       "      <td>Mr</td>\n",
       "      <td>41.5</td>\n",
       "      <td>B</td>\n",
       "      <td>Ostby</td>\n",
       "      <td>N_declarado</td>\n",
       "    </tr>\n",
       "    <tr>\n",
       "      <th>58</th>\n",
       "      <td>1234</td>\n",
       "      <td>1234</td>\n",
       "      <td>5.00</td>\n",
       "      <td>Uknow</td>\n",
       "      <td>S</td>\n",
       "      <td>27.7500</td>\n",
       "      <td>West, Miss. Constance Mirium</td>\n",
       "      <td>2</td>\n",
       "      <td>59</td>\n",
       "      <td>2</td>\n",
       "      <td>female</td>\n",
       "      <td>1</td>\n",
       "      <td>1.0</td>\n",
       "      <td>C.A. 34651</td>\n",
       "      <td>Vivo</td>\n",
       "      <td>Miss</td>\n",
       "      <td>20.0</td>\n",
       "      <td>C</td>\n",
       "      <td>West</td>\n",
       "      <td>N_declarado</td>\n",
       "    </tr>\n",
       "    <tr>\n",
       "      <th>59</th>\n",
       "      <td>838</td>\n",
       "      <td>838</td>\n",
       "      <td>11.00</td>\n",
       "      <td>Uknow</td>\n",
       "      <td>S</td>\n",
       "      <td>46.9000</td>\n",
       "      <td>Goodwin, Master. William Frederick</td>\n",
       "      <td>2</td>\n",
       "      <td>60</td>\n",
       "      <td>3</td>\n",
       "      <td>male</td>\n",
       "      <td>5</td>\n",
       "      <td>0.0</td>\n",
       "      <td>CA 2144</td>\n",
       "      <td>Morto</td>\n",
       "      <td>Master</td>\n",
       "      <td>6.0</td>\n",
       "      <td>C</td>\n",
       "      <td>Goodwin</td>\n",
       "      <td>N_declarado</td>\n",
       "    </tr>\n",
       "    <tr>\n",
       "      <th>62</th>\n",
       "      <td>683</td>\n",
       "      <td>683</td>\n",
       "      <td>45.00</td>\n",
       "      <td>C83</td>\n",
       "      <td>S</td>\n",
       "      <td>83.4750</td>\n",
       "      <td>Harris, Mr. Henry Birkhardt</td>\n",
       "      <td>0</td>\n",
       "      <td>63</td>\n",
       "      <td>1</td>\n",
       "      <td>male</td>\n",
       "      <td>1</td>\n",
       "      <td>0.0</td>\n",
       "      <td>36973</td>\n",
       "      <td>Morto</td>\n",
       "      <td>Mr</td>\n",
       "      <td>41.5</td>\n",
       "      <td>C</td>\n",
       "      <td>Harris</td>\n",
       "      <td>N_declarado</td>\n",
       "    </tr>\n",
       "    <tr>\n",
       "      <th>63</th>\n",
       "      <td>839</td>\n",
       "      <td>839</td>\n",
       "      <td>4.00</td>\n",
       "      <td>Uknow</td>\n",
       "      <td>S</td>\n",
       "      <td>27.9000</td>\n",
       "      <td>Skoog, Master. Harald</td>\n",
       "      <td>2</td>\n",
       "      <td>64</td>\n",
       "      <td>3</td>\n",
       "      <td>male</td>\n",
       "      <td>3</td>\n",
       "      <td>0.0</td>\n",
       "      <td>347088</td>\n",
       "      <td>Morto</td>\n",
       "      <td>Master</td>\n",
       "      <td>6.0</td>\n",
       "      <td>Uknow</td>\n",
       "      <td>Skoog</td>\n",
       "      <td>N_declarado</td>\n",
       "    </tr>\n",
       "    <tr>\n",
       "      <th>65</th>\n",
       "      <td>840</td>\n",
       "      <td>840</td>\n",
       "      <td>6.00</td>\n",
       "      <td>Uknow</td>\n",
       "      <td>C</td>\n",
       "      <td>15.2458</td>\n",
       "      <td>Moubarek, Master. Gerios</td>\n",
       "      <td>1</td>\n",
       "      <td>66</td>\n",
       "      <td>3</td>\n",
       "      <td>male</td>\n",
       "      <td>1</td>\n",
       "      <td>1.0</td>\n",
       "      <td>2661</td>\n",
       "      <td>Vivo</td>\n",
       "      <td>Master</td>\n",
       "      <td>6.0</td>\n",
       "      <td>Uknow</td>\n",
       "      <td>Moubarek</td>\n",
       "      <td>N_declarado</td>\n",
       "    </tr>\n",
       "    <tr>\n",
       "      <th>68</th>\n",
       "      <td>536</td>\n",
       "      <td>536</td>\n",
       "      <td>17.00</td>\n",
       "      <td>Uknow</td>\n",
       "      <td>S</td>\n",
       "      <td>7.9250</td>\n",
       "      <td>Andersson, Miss. Erna Alexandra</td>\n",
       "      <td>2</td>\n",
       "      <td>69</td>\n",
       "      <td>3</td>\n",
       "      <td>female</td>\n",
       "      <td>4</td>\n",
       "      <td>1.0</td>\n",
       "      <td>3101281</td>\n",
       "      <td>Vivo</td>\n",
       "      <td>Miss</td>\n",
       "      <td>18.0</td>\n",
       "      <td>Uknow</td>\n",
       "      <td>Andersson</td>\n",
       "      <td>N_declarado</td>\n",
       "    </tr>\n",
       "    <tr>\n",
       "      <th>69</th>\n",
       "      <td>17</td>\n",
       "      <td>17</td>\n",
       "      <td>26.00</td>\n",
       "      <td>Uknow</td>\n",
       "      <td>S</td>\n",
       "      <td>8.6625</td>\n",
       "      <td>Kink, Mr. Vincenz</td>\n",
       "      <td>0</td>\n",
       "      <td>70</td>\n",
       "      <td>3</td>\n",
       "      <td>male</td>\n",
       "      <td>2</td>\n",
       "      <td>0.0</td>\n",
       "      <td>315151</td>\n",
       "      <td>Morto</td>\n",
       "      <td>Mr</td>\n",
       "      <td>26.0</td>\n",
       "      <td>Uknow</td>\n",
       "      <td>Kink</td>\n",
       "      <td>N_declarado</td>\n",
       "    </tr>\n",
       "    <tr>\n",
       "      <th>71</th>\n",
       "      <td>537</td>\n",
       "      <td>537</td>\n",
       "      <td>16.00</td>\n",
       "      <td>Uknow</td>\n",
       "      <td>S</td>\n",
       "      <td>46.9000</td>\n",
       "      <td>Goodwin, Miss. Lillian Amy</td>\n",
       "      <td>2</td>\n",
       "      <td>72</td>\n",
       "      <td>3</td>\n",
       "      <td>female</td>\n",
       "      <td>5</td>\n",
       "      <td>0.0</td>\n",
       "      <td>CA 2144</td>\n",
       "      <td>Morto</td>\n",
       "      <td>Miss</td>\n",
       "      <td>18.0</td>\n",
       "      <td>C</td>\n",
       "      <td>Goodwin</td>\n",
       "      <td>N_declarado</td>\n",
       "    </tr>\n",
       "    <tr>\n",
       "      <th>73</th>\n",
       "      <td>18</td>\n",
       "      <td>18</td>\n",
       "      <td>26.00</td>\n",
       "      <td>Uknow</td>\n",
       "      <td>C</td>\n",
       "      <td>14.4542</td>\n",
       "      <td>Chronopoulos, Mr. Apostolos</td>\n",
       "      <td>0</td>\n",
       "      <td>74</td>\n",
       "      <td>3</td>\n",
       "      <td>male</td>\n",
       "      <td>1</td>\n",
       "      <td>0.0</td>\n",
       "      <td>2680</td>\n",
       "      <td>Morto</td>\n",
       "      <td>Mr</td>\n",
       "      <td>26.0</td>\n",
       "      <td>Uknow</td>\n",
       "      <td>Chronopoulos</td>\n",
       "      <td>N_declarado</td>\n",
       "    </tr>\n",
       "    <tr>\n",
       "      <th>78</th>\n",
       "      <td>1283</td>\n",
       "      <td>1283</td>\n",
       "      <td>0.83</td>\n",
       "      <td>Uknow</td>\n",
       "      <td>S</td>\n",
       "      <td>29.0000</td>\n",
       "      <td>Caldwell, Master. Alden Gates</td>\n",
       "      <td>2</td>\n",
       "      <td>79</td>\n",
       "      <td>2</td>\n",
       "      <td>male</td>\n",
       "      <td>0</td>\n",
       "      <td>1.0</td>\n",
       "      <td>248738</td>\n",
       "      <td>Vivo</td>\n",
       "      <td>Master</td>\n",
       "      <td>2.0</td>\n",
       "      <td>Uknow</td>\n",
       "      <td>Caldwell</td>\n",
       "      <td>N_declarado</td>\n",
       "    </tr>\n",
       "    <tr>\n",
       "      <th>86</th>\n",
       "      <td>25</td>\n",
       "      <td>25</td>\n",
       "      <td>16.00</td>\n",
       "      <td>Uknow</td>\n",
       "      <td>S</td>\n",
       "      <td>34.3750</td>\n",
       "      <td>Ford, Mr. William Neal</td>\n",
       "      <td>3</td>\n",
       "      <td>87</td>\n",
       "      <td>3</td>\n",
       "      <td>male</td>\n",
       "      <td>1</td>\n",
       "      <td>0.0</td>\n",
       "      <td>W./C. 6608</td>\n",
       "      <td>Morto</td>\n",
       "      <td>Mr</td>\n",
       "      <td>26.0</td>\n",
       "      <td>G</td>\n",
       "      <td>Ford</td>\n",
       "      <td>N_declarado</td>\n",
       "    </tr>\n",
       "    <tr>\n",
       "      <th>88</th>\n",
       "      <td>1002</td>\n",
       "      <td>1002</td>\n",
       "      <td>23.00</td>\n",
       "      <td>C23 C25 C27</td>\n",
       "      <td>S</td>\n",
       "      <td>263.0000</td>\n",
       "      <td>Fortune, Miss. Mabel Helen</td>\n",
       "      <td>2</td>\n",
       "      <td>89</td>\n",
       "      <td>1</td>\n",
       "      <td>female</td>\n",
       "      <td>3</td>\n",
       "      <td>1.0</td>\n",
       "      <td>19950</td>\n",
       "      <td>Vivo</td>\n",
       "      <td>Miss</td>\n",
       "      <td>30.0</td>\n",
       "      <td>C</td>\n",
       "      <td>Fortune</td>\n",
       "      <td>N_declarado</td>\n",
       "    </tr>\n",
       "    <tr>\n",
       "      <th>92</th>\n",
       "      <td>686</td>\n",
       "      <td>686</td>\n",
       "      <td>46.00</td>\n",
       "      <td>E31</td>\n",
       "      <td>S</td>\n",
       "      <td>61.1750</td>\n",
       "      <td>Chaffee, Mr. Herbert Fuller</td>\n",
       "      <td>0</td>\n",
       "      <td>93</td>\n",
       "      <td>1</td>\n",
       "      <td>male</td>\n",
       "      <td>1</td>\n",
       "      <td>0.0</td>\n",
       "      <td>W.E.P. 5734</td>\n",
       "      <td>Morto</td>\n",
       "      <td>Mr</td>\n",
       "      <td>41.5</td>\n",
       "      <td>G</td>\n",
       "      <td>Chaffee</td>\n",
       "      <td>N_declarado</td>\n",
       "    </tr>\n",
       "    <tr>\n",
       "      <th>...</th>\n",
       "      <td>...</td>\n",
       "      <td>...</td>\n",
       "      <td>...</td>\n",
       "      <td>...</td>\n",
       "      <td>...</td>\n",
       "      <td>...</td>\n",
       "      <td>...</td>\n",
       "      <td>...</td>\n",
       "      <td>...</td>\n",
       "      <td>...</td>\n",
       "      <td>...</td>\n",
       "      <td>...</td>\n",
       "      <td>...</td>\n",
       "      <td>...</td>\n",
       "      <td>...</td>\n",
       "      <td>...</td>\n",
       "      <td>...</td>\n",
       "      <td>...</td>\n",
       "      <td>...</td>\n",
       "      <td>...</td>\n",
       "    </tr>\n",
       "    <tr>\n",
       "      <th>1197</th>\n",
       "      <td>821</td>\n",
       "      <td>821</td>\n",
       "      <td>30.00</td>\n",
       "      <td>C22 C26</td>\n",
       "      <td>S</td>\n",
       "      <td>151.5500</td>\n",
       "      <td>Allison, Mr. Hudson Joshua Creighton</td>\n",
       "      <td>2</td>\n",
       "      <td>1198</td>\n",
       "      <td>1</td>\n",
       "      <td>male</td>\n",
       "      <td>1</td>\n",
       "      <td>NaN</td>\n",
       "      <td>113781</td>\n",
       "      <td>NaN</td>\n",
       "      <td>Mr</td>\n",
       "      <td>41.5</td>\n",
       "      <td>C</td>\n",
       "      <td>Allison</td>\n",
       "      <td>N_declarado</td>\n",
       "    </tr>\n",
       "    <tr>\n",
       "      <th>1198</th>\n",
       "      <td>872</td>\n",
       "      <td>872</td>\n",
       "      <td>0.83</td>\n",
       "      <td>Uknow</td>\n",
       "      <td>S</td>\n",
       "      <td>9.3500</td>\n",
       "      <td>Aks, Master. Philip Frank</td>\n",
       "      <td>1</td>\n",
       "      <td>1199</td>\n",
       "      <td>3</td>\n",
       "      <td>male</td>\n",
       "      <td>0</td>\n",
       "      <td>NaN</td>\n",
       "      <td>392091</td>\n",
       "      <td>NaN</td>\n",
       "      <td>Master</td>\n",
       "      <td>6.0</td>\n",
       "      <td>Uknow</td>\n",
       "      <td>Aks</td>\n",
       "      <td>N_declarado</td>\n",
       "    </tr>\n",
       "    <tr>\n",
       "      <th>1199</th>\n",
       "      <td>822</td>\n",
       "      <td>822</td>\n",
       "      <td>55.00</td>\n",
       "      <td>B69</td>\n",
       "      <td>S</td>\n",
       "      <td>93.5000</td>\n",
       "      <td>Hays, Mr. Charles Melville</td>\n",
       "      <td>1</td>\n",
       "      <td>1200</td>\n",
       "      <td>1</td>\n",
       "      <td>male</td>\n",
       "      <td>1</td>\n",
       "      <td>NaN</td>\n",
       "      <td>12749</td>\n",
       "      <td>NaN</td>\n",
       "      <td>Mr</td>\n",
       "      <td>41.5</td>\n",
       "      <td>B</td>\n",
       "      <td>Hays</td>\n",
       "      <td>N_declarado</td>\n",
       "    </tr>\n",
       "    <tr>\n",
       "      <th>1207</th>\n",
       "      <td>823</td>\n",
       "      <td>823</td>\n",
       "      <td>57.00</td>\n",
       "      <td>B78</td>\n",
       "      <td>C</td>\n",
       "      <td>146.5208</td>\n",
       "      <td>Spencer, Mr. William Augustus</td>\n",
       "      <td>0</td>\n",
       "      <td>1208</td>\n",
       "      <td>1</td>\n",
       "      <td>male</td>\n",
       "      <td>1</td>\n",
       "      <td>NaN</td>\n",
       "      <td>PC 17569</td>\n",
       "      <td>NaN</td>\n",
       "      <td>Mr</td>\n",
       "      <td>41.5</td>\n",
       "      <td>P</td>\n",
       "      <td>Spencer</td>\n",
       "      <td>N_declarado</td>\n",
       "    </tr>\n",
       "    <tr>\n",
       "      <th>1210</th>\n",
       "      <td>1191</td>\n",
       "      <td>1191</td>\n",
       "      <td>22.00</td>\n",
       "      <td>Uknow</td>\n",
       "      <td>S</td>\n",
       "      <td>31.5000</td>\n",
       "      <td>Jefferys, Mr. Ernest Wilfred</td>\n",
       "      <td>0</td>\n",
       "      <td>1211</td>\n",
       "      <td>2</td>\n",
       "      <td>male</td>\n",
       "      <td>2</td>\n",
       "      <td>NaN</td>\n",
       "      <td>C.A. 31029</td>\n",
       "      <td>NaN</td>\n",
       "      <td>Mr</td>\n",
       "      <td>30.0</td>\n",
       "      <td>C</td>\n",
       "      <td>Jefferys</td>\n",
       "      <td>N_declarado</td>\n",
       "    </tr>\n",
       "    <tr>\n",
       "      <th>1217</th>\n",
       "      <td>1280</td>\n",
       "      <td>1280</td>\n",
       "      <td>12.00</td>\n",
       "      <td>F4</td>\n",
       "      <td>S</td>\n",
       "      <td>39.0000</td>\n",
       "      <td>Becker, Miss. Ruth Elizabeth</td>\n",
       "      <td>1</td>\n",
       "      <td>1218</td>\n",
       "      <td>2</td>\n",
       "      <td>female</td>\n",
       "      <td>2</td>\n",
       "      <td>NaN</td>\n",
       "      <td>230136</td>\n",
       "      <td>NaN</td>\n",
       "      <td>Miss</td>\n",
       "      <td>20.0</td>\n",
       "      <td>F</td>\n",
       "      <td>Becker</td>\n",
       "      <td>N_declarado</td>\n",
       "    </tr>\n",
       "    <tr>\n",
       "      <th>1219</th>\n",
       "      <td>1193</td>\n",
       "      <td>1193</td>\n",
       "      <td>29.00</td>\n",
       "      <td>Uknow</td>\n",
       "      <td>S</td>\n",
       "      <td>26.0000</td>\n",
       "      <td>Clarke, Mr. Charles Valentine</td>\n",
       "      <td>0</td>\n",
       "      <td>1220</td>\n",
       "      <td>2</td>\n",
       "      <td>male</td>\n",
       "      <td>1</td>\n",
       "      <td>NaN</td>\n",
       "      <td>2003</td>\n",
       "      <td>NaN</td>\n",
       "      <td>Mr</td>\n",
       "      <td>30.0</td>\n",
       "      <td>Uknow</td>\n",
       "      <td>Clarke</td>\n",
       "      <td>N_declarado</td>\n",
       "    </tr>\n",
       "    <tr>\n",
       "      <th>1228</th>\n",
       "      <td>430</td>\n",
       "      <td>430</td>\n",
       "      <td>39.00</td>\n",
       "      <td>Uknow</td>\n",
       "      <td>C</td>\n",
       "      <td>7.2292</td>\n",
       "      <td>Elias, Mr. Joseph</td>\n",
       "      <td>2</td>\n",
       "      <td>1229</td>\n",
       "      <td>3</td>\n",
       "      <td>male</td>\n",
       "      <td>0</td>\n",
       "      <td>NaN</td>\n",
       "      <td>2675</td>\n",
       "      <td>NaN</td>\n",
       "      <td>Mr</td>\n",
       "      <td>26.0</td>\n",
       "      <td>Uknow</td>\n",
       "      <td>Elias</td>\n",
       "      <td>N_declarado</td>\n",
       "    </tr>\n",
       "    <tr>\n",
       "      <th>1230</th>\n",
       "      <td>873</td>\n",
       "      <td>873</td>\n",
       "      <td>6.00</td>\n",
       "      <td>Uknow</td>\n",
       "      <td>C</td>\n",
       "      <td>7.2292</td>\n",
       "      <td>Betros, Master. Seman</td>\n",
       "      <td>0</td>\n",
       "      <td>1231</td>\n",
       "      <td>3</td>\n",
       "      <td>male</td>\n",
       "      <td>0</td>\n",
       "      <td>NaN</td>\n",
       "      <td>2622</td>\n",
       "      <td>NaN</td>\n",
       "      <td>Master</td>\n",
       "      <td>6.0</td>\n",
       "      <td>Uknow</td>\n",
       "      <td>Betros</td>\n",
       "      <td>N_declarado</td>\n",
       "    </tr>\n",
       "    <tr>\n",
       "      <th>1233</th>\n",
       "      <td>432</td>\n",
       "      <td>432</td>\n",
       "      <td>26.00</td>\n",
       "      <td>Uknow</td>\n",
       "      <td>S</td>\n",
       "      <td>69.5500</td>\n",
       "      <td>Sage, Mr. John George</td>\n",
       "      <td>9</td>\n",
       "      <td>1234</td>\n",
       "      <td>3</td>\n",
       "      <td>male</td>\n",
       "      <td>1</td>\n",
       "      <td>NaN</td>\n",
       "      <td>CA. 2343</td>\n",
       "      <td>NaN</td>\n",
       "      <td>Mr</td>\n",
       "      <td>26.0</td>\n",
       "      <td>C</td>\n",
       "      <td>Sage</td>\n",
       "      <td>N_declarado</td>\n",
       "    </tr>\n",
       "    <tr>\n",
       "      <th>1235</th>\n",
       "      <td>874</td>\n",
       "      <td>874</td>\n",
       "      <td>6.00</td>\n",
       "      <td>Uknow</td>\n",
       "      <td>S</td>\n",
       "      <td>14.5000</td>\n",
       "      <td>van Billiard, Master. James William</td>\n",
       "      <td>1</td>\n",
       "      <td>1236</td>\n",
       "      <td>3</td>\n",
       "      <td>male</td>\n",
       "      <td>1</td>\n",
       "      <td>NaN</td>\n",
       "      <td>A/5. 851</td>\n",
       "      <td>NaN</td>\n",
       "      <td>Master</td>\n",
       "      <td>6.0</td>\n",
       "      <td>A</td>\n",
       "      <td>van Billiard</td>\n",
       "      <td>N_declarado</td>\n",
       "    </tr>\n",
       "    <tr>\n",
       "      <th>1244</th>\n",
       "      <td>1202</td>\n",
       "      <td>1202</td>\n",
       "      <td>49.00</td>\n",
       "      <td>Uknow</td>\n",
       "      <td>S</td>\n",
       "      <td>65.0000</td>\n",
       "      <td>Herman, Mr. Samuel</td>\n",
       "      <td>2</td>\n",
       "      <td>1245</td>\n",
       "      <td>2</td>\n",
       "      <td>male</td>\n",
       "      <td>1</td>\n",
       "      <td>NaN</td>\n",
       "      <td>220845</td>\n",
       "      <td>NaN</td>\n",
       "      <td>Mr</td>\n",
       "      <td>30.0</td>\n",
       "      <td>Uknow</td>\n",
       "      <td>Herman</td>\n",
       "      <td>N_declarado</td>\n",
       "    </tr>\n",
       "    <tr>\n",
       "      <th>1245</th>\n",
       "      <td>669</td>\n",
       "      <td>669</td>\n",
       "      <td>0.17</td>\n",
       "      <td>Uknow</td>\n",
       "      <td>S</td>\n",
       "      <td>20.5750</td>\n",
       "      <td>Dean, Miss. Elizabeth Gladys Millvina\"\"</td>\n",
       "      <td>2</td>\n",
       "      <td>1246</td>\n",
       "      <td>3</td>\n",
       "      <td>female</td>\n",
       "      <td>1</td>\n",
       "      <td>NaN</td>\n",
       "      <td>C.A. 2315</td>\n",
       "      <td>NaN</td>\n",
       "      <td>Miss</td>\n",
       "      <td>18.0</td>\n",
       "      <td>C</td>\n",
       "      <td>Dean</td>\n",
       "      <td>N_declarado</td>\n",
       "    </tr>\n",
       "    <tr>\n",
       "      <th>1251</th>\n",
       "      <td>875</td>\n",
       "      <td>875</td>\n",
       "      <td>14.50</td>\n",
       "      <td>Uknow</td>\n",
       "      <td>S</td>\n",
       "      <td>69.5500</td>\n",
       "      <td>Sage, Master. William Henry</td>\n",
       "      <td>2</td>\n",
       "      <td>1252</td>\n",
       "      <td>3</td>\n",
       "      <td>male</td>\n",
       "      <td>8</td>\n",
       "      <td>NaN</td>\n",
       "      <td>CA. 2343</td>\n",
       "      <td>NaN</td>\n",
       "      <td>Master</td>\n",
       "      <td>6.0</td>\n",
       "      <td>C</td>\n",
       "      <td>Sage</td>\n",
       "      <td>N_declarado</td>\n",
       "    </tr>\n",
       "    <tr>\n",
       "      <th>1257</th>\n",
       "      <td>436</td>\n",
       "      <td>436</td>\n",
       "      <td>26.00</td>\n",
       "      <td>Uknow</td>\n",
       "      <td>C</td>\n",
       "      <td>14.4583</td>\n",
       "      <td>Caram, Mr. Joseph</td>\n",
       "      <td>0</td>\n",
       "      <td>1258</td>\n",
       "      <td>3</td>\n",
       "      <td>male</td>\n",
       "      <td>1</td>\n",
       "      <td>NaN</td>\n",
       "      <td>2689</td>\n",
       "      <td>NaN</td>\n",
       "      <td>Mr</td>\n",
       "      <td>26.0</td>\n",
       "      <td>Uknow</td>\n",
       "      <td>Caram</td>\n",
       "      <td>N_declarado</td>\n",
       "    </tr>\n",
       "    <tr>\n",
       "      <th>1261</th>\n",
       "      <td>1204</td>\n",
       "      <td>1204</td>\n",
       "      <td>21.00</td>\n",
       "      <td>Uknow</td>\n",
       "      <td>S</td>\n",
       "      <td>11.5000</td>\n",
       "      <td>Giles, Mr. Edgar</td>\n",
       "      <td>0</td>\n",
       "      <td>1262</td>\n",
       "      <td>2</td>\n",
       "      <td>male</td>\n",
       "      <td>1</td>\n",
       "      <td>NaN</td>\n",
       "      <td>28133</td>\n",
       "      <td>NaN</td>\n",
       "      <td>Mr</td>\n",
       "      <td>30.0</td>\n",
       "      <td>Uknow</td>\n",
       "      <td>Giles</td>\n",
       "      <td>N_declarado</td>\n",
       "    </tr>\n",
       "    <tr>\n",
       "      <th>1267</th>\n",
       "      <td>671</td>\n",
       "      <td>671</td>\n",
       "      <td>22.00</td>\n",
       "      <td>Uknow</td>\n",
       "      <td>S</td>\n",
       "      <td>8.6625</td>\n",
       "      <td>Kink, Miss. Maria</td>\n",
       "      <td>0</td>\n",
       "      <td>1268</td>\n",
       "      <td>3</td>\n",
       "      <td>female</td>\n",
       "      <td>2</td>\n",
       "      <td>NaN</td>\n",
       "      <td>315152</td>\n",
       "      <td>NaN</td>\n",
       "      <td>Miss</td>\n",
       "      <td>18.0</td>\n",
       "      <td>Uknow</td>\n",
       "      <td>Kink</td>\n",
       "      <td>N_declarado</td>\n",
       "    </tr>\n",
       "    <tr>\n",
       "      <th>1270</th>\n",
       "      <td>876</td>\n",
       "      <td>876</td>\n",
       "      <td>5.00</td>\n",
       "      <td>Uknow</td>\n",
       "      <td>S</td>\n",
       "      <td>31.3875</td>\n",
       "      <td>Asplund, Master. Carl Edgar</td>\n",
       "      <td>2</td>\n",
       "      <td>1271</td>\n",
       "      <td>3</td>\n",
       "      <td>male</td>\n",
       "      <td>4</td>\n",
       "      <td>NaN</td>\n",
       "      <td>347077</td>\n",
       "      <td>NaN</td>\n",
       "      <td>Master</td>\n",
       "      <td>6.0</td>\n",
       "      <td>Uknow</td>\n",
       "      <td>Asplund</td>\n",
       "      <td>N_declarado</td>\n",
       "    </tr>\n",
       "    <tr>\n",
       "      <th>1276</th>\n",
       "      <td>1282</td>\n",
       "      <td>1282</td>\n",
       "      <td>24.00</td>\n",
       "      <td>Uknow</td>\n",
       "      <td>S</td>\n",
       "      <td>65.0000</td>\n",
       "      <td>Herman, Miss. Kate</td>\n",
       "      <td>2</td>\n",
       "      <td>1277</td>\n",
       "      <td>2</td>\n",
       "      <td>female</td>\n",
       "      <td>1</td>\n",
       "      <td>NaN</td>\n",
       "      <td>220845</td>\n",
       "      <td>NaN</td>\n",
       "      <td>Miss</td>\n",
       "      <td>20.0</td>\n",
       "      <td>Uknow</td>\n",
       "      <td>Herman</td>\n",
       "      <td>N_declarado</td>\n",
       "    </tr>\n",
       "    <tr>\n",
       "      <th>1280</th>\n",
       "      <td>877</td>\n",
       "      <td>877</td>\n",
       "      <td>6.00</td>\n",
       "      <td>Uknow</td>\n",
       "      <td>S</td>\n",
       "      <td>21.0750</td>\n",
       "      <td>Palsson, Master. Paul Folke</td>\n",
       "      <td>1</td>\n",
       "      <td>1281</td>\n",
       "      <td>3</td>\n",
       "      <td>male</td>\n",
       "      <td>3</td>\n",
       "      <td>NaN</td>\n",
       "      <td>349909</td>\n",
       "      <td>NaN</td>\n",
       "      <td>Master</td>\n",
       "      <td>6.0</td>\n",
       "      <td>Uknow</td>\n",
       "      <td>Palsson</td>\n",
       "      <td>N_declarado</td>\n",
       "    </tr>\n",
       "    <tr>\n",
       "      <th>1283</th>\n",
       "      <td>878</td>\n",
       "      <td>878</td>\n",
       "      <td>13.00</td>\n",
       "      <td>Uknow</td>\n",
       "      <td>S</td>\n",
       "      <td>20.2500</td>\n",
       "      <td>Abbott, Master. Eugene Joseph</td>\n",
       "      <td>2</td>\n",
       "      <td>1284</td>\n",
       "      <td>3</td>\n",
       "      <td>male</td>\n",
       "      <td>0</td>\n",
       "      <td>NaN</td>\n",
       "      <td>C.A. 2673</td>\n",
       "      <td>NaN</td>\n",
       "      <td>Master</td>\n",
       "      <td>6.0</td>\n",
       "      <td>C</td>\n",
       "      <td>Abbott</td>\n",
       "      <td>N_declarado</td>\n",
       "    </tr>\n",
       "    <tr>\n",
       "      <th>1285</th>\n",
       "      <td>441</td>\n",
       "      <td>441</td>\n",
       "      <td>29.00</td>\n",
       "      <td>Uknow</td>\n",
       "      <td>S</td>\n",
       "      <td>22.0250</td>\n",
       "      <td>Kink-Heilmann, Mr. Anton</td>\n",
       "      <td>1</td>\n",
       "      <td>1286</td>\n",
       "      <td>3</td>\n",
       "      <td>male</td>\n",
       "      <td>3</td>\n",
       "      <td>NaN</td>\n",
       "      <td>315153</td>\n",
       "      <td>NaN</td>\n",
       "      <td>Mr</td>\n",
       "      <td>26.0</td>\n",
       "      <td>Uknow</td>\n",
       "      <td>Kink-Heilmann</td>\n",
       "      <td>N_declarado</td>\n",
       "    </tr>\n",
       "    <tr>\n",
       "      <th>1292</th>\n",
       "      <td>1210</td>\n",
       "      <td>1210</td>\n",
       "      <td>38.00</td>\n",
       "      <td>Uknow</td>\n",
       "      <td>S</td>\n",
       "      <td>21.0000</td>\n",
       "      <td>Gale, Mr. Harry</td>\n",
       "      <td>0</td>\n",
       "      <td>1293</td>\n",
       "      <td>2</td>\n",
       "      <td>male</td>\n",
       "      <td>1</td>\n",
       "      <td>NaN</td>\n",
       "      <td>28664</td>\n",
       "      <td>NaN</td>\n",
       "      <td>Mr</td>\n",
       "      <td>30.0</td>\n",
       "      <td>Uknow</td>\n",
       "      <td>Gale</td>\n",
       "      <td>N_declarado</td>\n",
       "    </tr>\n",
       "    <tr>\n",
       "      <th>1293</th>\n",
       "      <td>1062</td>\n",
       "      <td>1062</td>\n",
       "      <td>22.00</td>\n",
       "      <td>Uknow</td>\n",
       "      <td>C</td>\n",
       "      <td>59.4000</td>\n",
       "      <td>Gibson, Miss. Dorothy Winifred</td>\n",
       "      <td>1</td>\n",
       "      <td>1294</td>\n",
       "      <td>1</td>\n",
       "      <td>female</td>\n",
       "      <td>0</td>\n",
       "      <td>NaN</td>\n",
       "      <td>112378</td>\n",
       "      <td>NaN</td>\n",
       "      <td>Miss</td>\n",
       "      <td>30.0</td>\n",
       "      <td>Uknow</td>\n",
       "      <td>Gibson</td>\n",
       "      <td>N_declarado</td>\n",
       "    </tr>\n",
       "    <tr>\n",
       "      <th>1295</th>\n",
       "      <td>833</td>\n",
       "      <td>833</td>\n",
       "      <td>43.00</td>\n",
       "      <td>D40</td>\n",
       "      <td>C</td>\n",
       "      <td>27.7208</td>\n",
       "      <td>Frauenthal, Mr. Isaac Gerald</td>\n",
       "      <td>0</td>\n",
       "      <td>1296</td>\n",
       "      <td>1</td>\n",
       "      <td>male</td>\n",
       "      <td>1</td>\n",
       "      <td>NaN</td>\n",
       "      <td>17765</td>\n",
       "      <td>NaN</td>\n",
       "      <td>Mr</td>\n",
       "      <td>41.5</td>\n",
       "      <td>D</td>\n",
       "      <td>Frauenthal</td>\n",
       "      <td>N_declarado</td>\n",
       "    </tr>\n",
       "    <tr>\n",
       "      <th>1297</th>\n",
       "      <td>1212</td>\n",
       "      <td>1212</td>\n",
       "      <td>23.00</td>\n",
       "      <td>Uknow</td>\n",
       "      <td>S</td>\n",
       "      <td>10.5000</td>\n",
       "      <td>Ware, Mr. William Jeffery</td>\n",
       "      <td>0</td>\n",
       "      <td>1298</td>\n",
       "      <td>2</td>\n",
       "      <td>male</td>\n",
       "      <td>1</td>\n",
       "      <td>NaN</td>\n",
       "      <td>28666</td>\n",
       "      <td>NaN</td>\n",
       "      <td>Mr</td>\n",
       "      <td>30.0</td>\n",
       "      <td>Uknow</td>\n",
       "      <td>Ware</td>\n",
       "      <td>N_declarado</td>\n",
       "    </tr>\n",
       "    <tr>\n",
       "      <th>1298</th>\n",
       "      <td>834</td>\n",
       "      <td>834</td>\n",
       "      <td>50.00</td>\n",
       "      <td>C80</td>\n",
       "      <td>C</td>\n",
       "      <td>211.5000</td>\n",
       "      <td>Widener, Mr. George Dunton</td>\n",
       "      <td>1</td>\n",
       "      <td>1299</td>\n",
       "      <td>1</td>\n",
       "      <td>male</td>\n",
       "      <td>1</td>\n",
       "      <td>NaN</td>\n",
       "      <td>113503</td>\n",
       "      <td>NaN</td>\n",
       "      <td>Mr</td>\n",
       "      <td>41.5</td>\n",
       "      <td>C</td>\n",
       "      <td>Widener</td>\n",
       "      <td>N_declarado</td>\n",
       "    </tr>\n",
       "    <tr>\n",
       "      <th>1300</th>\n",
       "      <td>673</td>\n",
       "      <td>673</td>\n",
       "      <td>3.00</td>\n",
       "      <td>Uknow</td>\n",
       "      <td>S</td>\n",
       "      <td>13.7750</td>\n",
       "      <td>Peacock, Miss. Treasteall</td>\n",
       "      <td>1</td>\n",
       "      <td>1301</td>\n",
       "      <td>3</td>\n",
       "      <td>female</td>\n",
       "      <td>1</td>\n",
       "      <td>NaN</td>\n",
       "      <td>SOTON/O.Q. 3101315</td>\n",
       "      <td>NaN</td>\n",
       "      <td>Miss</td>\n",
       "      <td>18.0</td>\n",
       "      <td>S</td>\n",
       "      <td>Peacock</td>\n",
       "      <td>N_declarado</td>\n",
       "    </tr>\n",
       "    <tr>\n",
       "      <th>1305</th>\n",
       "      <td>1231</td>\n",
       "      <td>1231</td>\n",
       "      <td>39.00</td>\n",
       "      <td>C105</td>\n",
       "      <td>C</td>\n",
       "      <td>108.9000</td>\n",
       "      <td>Oliva y Ocana, Dona. Fermina</td>\n",
       "      <td>0</td>\n",
       "      <td>1306</td>\n",
       "      <td>1</td>\n",
       "      <td>female</td>\n",
       "      <td>0</td>\n",
       "      <td>NaN</td>\n",
       "      <td>PC 17758</td>\n",
       "      <td>NaN</td>\n",
       "      <td>Rare</td>\n",
       "      <td>48.5</td>\n",
       "      <td>P</td>\n",
       "      <td>Oliva y Ocana</td>\n",
       "      <td>N_declarado</td>\n",
       "    </tr>\n",
       "    <tr>\n",
       "      <th>1308</th>\n",
       "      <td>879</td>\n",
       "      <td>879</td>\n",
       "      <td>6.00</td>\n",
       "      <td>Uknow</td>\n",
       "      <td>C</td>\n",
       "      <td>22.3583</td>\n",
       "      <td>Peter, Master. Michael J</td>\n",
       "      <td>1</td>\n",
       "      <td>1309</td>\n",
       "      <td>3</td>\n",
       "      <td>male</td>\n",
       "      <td>1</td>\n",
       "      <td>NaN</td>\n",
       "      <td>2668</td>\n",
       "      <td>NaN</td>\n",
       "      <td>Master</td>\n",
       "      <td>6.0</td>\n",
       "      <td>Uknow</td>\n",
       "      <td>Peter</td>\n",
       "      <td>N_declarado</td>\n",
       "    </tr>\n",
       "  </tbody>\n",
       "</table>\n",
       "<p>378 rows × 20 columns</p>\n",
       "</div>"
      ],
      "text/plain": [
       "      level_0  index    Age        Cabin Embarked      Fare  \\\n",
       "0           0      0  22.00        Uknow        S    7.2500   \n",
       "7         835    835   2.00        Uknow        S   21.0750   \n",
       "10        526    526   4.00           G6        S   16.7000   \n",
       "13          4      4  39.00        Uknow        S   31.2750   \n",
       "16        836    836   2.00        Uknow        Q   29.1250   \n",
       "24        529    529   8.00        Uknow        S   21.0750   \n",
       "27        678    678  19.00  C23 C25 C27        S  263.0000   \n",
       "30       1213   1213  40.00        Uknow        C   27.7208   \n",
       "34        679    679  28.00        Uknow        C   82.1708   \n",
       "35        680    680  42.00        Uknow        S   52.0000   \n",
       "38        532    532  18.00        Uknow        S   18.0000   \n",
       "39        533    533  14.00        Uknow        C   11.2417   \n",
       "43       1232   1232   3.00        Uknow        C   41.5792   \n",
       "46         11     11  26.00        Uknow        Q   15.5000   \n",
       "48         12     12  26.00        Uknow        C   21.6792   \n",
       "50        837    837   7.00        Uknow        S   39.6875   \n",
       "54        681    681  65.00          B30        C   61.9792   \n",
       "58       1234   1234   5.00        Uknow        S   27.7500   \n",
       "59        838    838  11.00        Uknow        S   46.9000   \n",
       "62        683    683  45.00          C83        S   83.4750   \n",
       "63        839    839   4.00        Uknow        S   27.9000   \n",
       "65        840    840   6.00        Uknow        C   15.2458   \n",
       "68        536    536  17.00        Uknow        S    7.9250   \n",
       "69         17     17  26.00        Uknow        S    8.6625   \n",
       "71        537    537  16.00        Uknow        S   46.9000   \n",
       "73         18     18  26.00        Uknow        C   14.4542   \n",
       "78       1283   1283   0.83        Uknow        S   29.0000   \n",
       "86         25     25  16.00        Uknow        S   34.3750   \n",
       "88       1002   1002  23.00  C23 C25 C27        S  263.0000   \n",
       "92        686    686  46.00          E31        S   61.1750   \n",
       "...       ...    ...    ...          ...      ...       ...   \n",
       "1197      821    821  30.00      C22 C26        S  151.5500   \n",
       "1198      872    872   0.83        Uknow        S    9.3500   \n",
       "1199      822    822  55.00          B69        S   93.5000   \n",
       "1207      823    823  57.00          B78        C  146.5208   \n",
       "1210     1191   1191  22.00        Uknow        S   31.5000   \n",
       "1217     1280   1280  12.00           F4        S   39.0000   \n",
       "1219     1193   1193  29.00        Uknow        S   26.0000   \n",
       "1228      430    430  39.00        Uknow        C    7.2292   \n",
       "1230      873    873   6.00        Uknow        C    7.2292   \n",
       "1233      432    432  26.00        Uknow        S   69.5500   \n",
       "1235      874    874   6.00        Uknow        S   14.5000   \n",
       "1244     1202   1202  49.00        Uknow        S   65.0000   \n",
       "1245      669    669   0.17        Uknow        S   20.5750   \n",
       "1251      875    875  14.50        Uknow        S   69.5500   \n",
       "1257      436    436  26.00        Uknow        C   14.4583   \n",
       "1261     1204   1204  21.00        Uknow        S   11.5000   \n",
       "1267      671    671  22.00        Uknow        S    8.6625   \n",
       "1270      876    876   5.00        Uknow        S   31.3875   \n",
       "1276     1282   1282  24.00        Uknow        S   65.0000   \n",
       "1280      877    877   6.00        Uknow        S   21.0750   \n",
       "1283      878    878  13.00        Uknow        S   20.2500   \n",
       "1285      441    441  29.00        Uknow        S   22.0250   \n",
       "1292     1210   1210  38.00        Uknow        S   21.0000   \n",
       "1293     1062   1062  22.00        Uknow        C   59.4000   \n",
       "1295      833    833  43.00          D40        C   27.7208   \n",
       "1297     1212   1212  23.00        Uknow        S   10.5000   \n",
       "1298      834    834  50.00          C80        C  211.5000   \n",
       "1300      673    673   3.00        Uknow        S   13.7750   \n",
       "1305     1231   1231  39.00         C105        C  108.9000   \n",
       "1308      879    879   6.00        Uknow        C   22.3583   \n",
       "\n",
       "                                          Name  Parch  PassengerId  Pclass  \\\n",
       "0                      Braund, Mr. Owen Harris      0            1       3   \n",
       "7               Palsson, Master. Gosta Leonard      1            8       3   \n",
       "10             Sandstrom, Miss. Marguerite Rut      1           11       3   \n",
       "13                 Andersson, Mr. Anders Johan      5           14       3   \n",
       "16                        Rice, Master. Eugene      1           17       3   \n",
       "24               Palsson, Miss. Torborg Danira      1           25       3   \n",
       "27              Fortune, Mr. Charles Alexander      2           28       1   \n",
       "30                    Uruchurtu, Don. Manuel E      0           31       1   \n",
       "34                     Meyer, Mr. Edgar Joseph      0           35       1   \n",
       "35              Holverson, Mr. Alexander Oskar      0           36       1   \n",
       "38          Vander Planke, Miss. Augusta Maria      0           39       3   \n",
       "39                 Nicola-Yarred, Miss. Jamila      0           40       3   \n",
       "43    Laroche, Miss. Simonne Marie Anne Andree      2           44       2   \n",
       "46                           Lennon, Mr. Denis      0           47       3   \n",
       "48                         Samaan, Mr. Youssef      0           49       3   \n",
       "50                  Panula, Master. Juha Niilo      1           51       3   \n",
       "54              Ostby, Mr. Engelhart Cornelius      1           55       1   \n",
       "58                West, Miss. Constance Mirium      2           59       2   \n",
       "59          Goodwin, Master. William Frederick      2           60       3   \n",
       "62                 Harris, Mr. Henry Birkhardt      0           63       1   \n",
       "63                       Skoog, Master. Harald      2           64       3   \n",
       "65                    Moubarek, Master. Gerios      1           66       3   \n",
       "68             Andersson, Miss. Erna Alexandra      2           69       3   \n",
       "69                           Kink, Mr. Vincenz      0           70       3   \n",
       "71                  Goodwin, Miss. Lillian Amy      2           72       3   \n",
       "73                 Chronopoulos, Mr. Apostolos      0           74       3   \n",
       "78               Caldwell, Master. Alden Gates      2           79       2   \n",
       "86                      Ford, Mr. William Neal      3           87       3   \n",
       "88                  Fortune, Miss. Mabel Helen      2           89       1   \n",
       "92                 Chaffee, Mr. Herbert Fuller      0           93       1   \n",
       "...                                        ...    ...          ...     ...   \n",
       "1197      Allison, Mr. Hudson Joshua Creighton      2         1198       1   \n",
       "1198                 Aks, Master. Philip Frank      1         1199       3   \n",
       "1199                Hays, Mr. Charles Melville      1         1200       1   \n",
       "1207             Spencer, Mr. William Augustus      0         1208       1   \n",
       "1210              Jefferys, Mr. Ernest Wilfred      0         1211       2   \n",
       "1217              Becker, Miss. Ruth Elizabeth      1         1218       2   \n",
       "1219             Clarke, Mr. Charles Valentine      0         1220       2   \n",
       "1228                         Elias, Mr. Joseph      2         1229       3   \n",
       "1230                     Betros, Master. Seman      0         1231       3   \n",
       "1233                     Sage, Mr. John George      9         1234       3   \n",
       "1235       van Billiard, Master. James William      1         1236       3   \n",
       "1244                        Herman, Mr. Samuel      2         1245       2   \n",
       "1245   Dean, Miss. Elizabeth Gladys Millvina\"\"      2         1246       3   \n",
       "1251               Sage, Master. William Henry      2         1252       3   \n",
       "1257                         Caram, Mr. Joseph      0         1258       3   \n",
       "1261                          Giles, Mr. Edgar      0         1262       2   \n",
       "1267                         Kink, Miss. Maria      0         1268       3   \n",
       "1270               Asplund, Master. Carl Edgar      2         1271       3   \n",
       "1276                        Herman, Miss. Kate      2         1277       2   \n",
       "1280               Palsson, Master. Paul Folke      1         1281       3   \n",
       "1283             Abbott, Master. Eugene Joseph      2         1284       3   \n",
       "1285                  Kink-Heilmann, Mr. Anton      1         1286       3   \n",
       "1292                           Gale, Mr. Harry      0         1293       2   \n",
       "1293            Gibson, Miss. Dorothy Winifred      1         1294       1   \n",
       "1295              Frauenthal, Mr. Isaac Gerald      0         1296       1   \n",
       "1297                 Ware, Mr. William Jeffery      0         1298       2   \n",
       "1298                Widener, Mr. George Dunton      1         1299       1   \n",
       "1300                 Peacock, Miss. Treasteall      1         1301       3   \n",
       "1305              Oliva y Ocana, Dona. Fermina      0         1306       1   \n",
       "1308                  Peter, Master. Michael J      1         1309       3   \n",
       "\n",
       "         Sex  SibSp  Survived              Ticket Status_Survived   Title  \\\n",
       "0       male      1       0.0           A/5 21171           Morto      Mr   \n",
       "7       male      3       0.0              349909           Morto  Master   \n",
       "10    female      1       1.0             PP 9549            Vivo    Miss   \n",
       "13      male      1       0.0              347082           Morto      Mr   \n",
       "16      male      4       0.0              382652           Morto  Master   \n",
       "24    female      3       0.0              349909           Morto    Miss   \n",
       "27      male      3       0.0               19950           Morto      Mr   \n",
       "30      male      0       0.0            PC 17601           Morto    Rare   \n",
       "34      male      1       0.0            PC 17604           Morto      Mr   \n",
       "35      male      1       0.0              113789           Morto      Mr   \n",
       "38    female      2       0.0              345764           Morto    Miss   \n",
       "39    female      1       1.0                2651            Vivo    Miss   \n",
       "43    female      1       1.0       SC/Paris 2123            Vivo    Miss   \n",
       "46      male      1       0.0              370371           Morto      Mr   \n",
       "48      male      2       0.0                2662           Morto      Mr   \n",
       "50      male      4       0.0             3101295           Morto  Master   \n",
       "54      male      0       0.0              113509           Morto      Mr   \n",
       "58    female      1       1.0          C.A. 34651            Vivo    Miss   \n",
       "59      male      5       0.0             CA 2144           Morto  Master   \n",
       "62      male      1       0.0               36973           Morto      Mr   \n",
       "63      male      3       0.0              347088           Morto  Master   \n",
       "65      male      1       1.0                2661            Vivo  Master   \n",
       "68    female      4       1.0             3101281            Vivo    Miss   \n",
       "69      male      2       0.0              315151           Morto      Mr   \n",
       "71    female      5       0.0             CA 2144           Morto    Miss   \n",
       "73      male      1       0.0                2680           Morto      Mr   \n",
       "78      male      0       1.0              248738            Vivo  Master   \n",
       "86      male      1       0.0          W./C. 6608           Morto      Mr   \n",
       "88    female      3       1.0               19950            Vivo    Miss   \n",
       "92      male      1       0.0         W.E.P. 5734           Morto      Mr   \n",
       "...      ...    ...       ...                 ...             ...     ...   \n",
       "1197    male      1       NaN              113781             NaN      Mr   \n",
       "1198    male      0       NaN              392091             NaN  Master   \n",
       "1199    male      1       NaN               12749             NaN      Mr   \n",
       "1207    male      1       NaN            PC 17569             NaN      Mr   \n",
       "1210    male      2       NaN          C.A. 31029             NaN      Mr   \n",
       "1217  female      2       NaN              230136             NaN    Miss   \n",
       "1219    male      1       NaN                2003             NaN      Mr   \n",
       "1228    male      0       NaN                2675             NaN      Mr   \n",
       "1230    male      0       NaN                2622             NaN  Master   \n",
       "1233    male      1       NaN            CA. 2343             NaN      Mr   \n",
       "1235    male      1       NaN            A/5. 851             NaN  Master   \n",
       "1244    male      1       NaN              220845             NaN      Mr   \n",
       "1245  female      1       NaN           C.A. 2315             NaN    Miss   \n",
       "1251    male      8       NaN            CA. 2343             NaN  Master   \n",
       "1257    male      1       NaN                2689             NaN      Mr   \n",
       "1261    male      1       NaN               28133             NaN      Mr   \n",
       "1267  female      2       NaN              315152             NaN    Miss   \n",
       "1270    male      4       NaN              347077             NaN  Master   \n",
       "1276  female      1       NaN              220845             NaN    Miss   \n",
       "1280    male      3       NaN              349909             NaN  Master   \n",
       "1283    male      0       NaN           C.A. 2673             NaN  Master   \n",
       "1285    male      3       NaN              315153             NaN      Mr   \n",
       "1292    male      1       NaN               28664             NaN      Mr   \n",
       "1293  female      0       NaN              112378             NaN    Miss   \n",
       "1295    male      1       NaN               17765             NaN      Mr   \n",
       "1297    male      1       NaN               28666             NaN      Mr   \n",
       "1298    male      1       NaN              113503             NaN      Mr   \n",
       "1300  female      1       NaN  SOTON/O.Q. 3101315             NaN    Miss   \n",
       "1305  female      0       NaN            PC 17758             NaN    Rare   \n",
       "1308    male      1       NaN                2668             NaN  Master   \n",
       "\n",
       "      Age_y Ft_Cabin   Ft_Sobrenome     Ft_Civil  \n",
       "0      26.0        A         Braund  N_declarado  \n",
       "7       6.0    Uknow        Palsson  N_declarado  \n",
       "10     18.0        P      Sandstrom  N_declarado  \n",
       "13     26.0    Uknow      Andersson  N_declarado  \n",
       "16      6.0    Uknow           Rice  N_declarado  \n",
       "24     18.0    Uknow        Palsson  N_declarado  \n",
       "27     41.5        C        Fortune  N_declarado  \n",
       "30     48.5        P      Uruchurtu  N_declarado  \n",
       "34     41.5        P          Meyer  N_declarado  \n",
       "35     41.5    Uknow      Holverson  N_declarado  \n",
       "38     18.0    Uknow  Vander Planke  N_declarado  \n",
       "39     18.0    Uknow  Nicola-Yarred  N_declarado  \n",
       "43     20.0        S        Laroche  N_declarado  \n",
       "46     26.0    Uknow         Lennon  N_declarado  \n",
       "48     26.0    Uknow         Samaan  N_declarado  \n",
       "50      6.0    Uknow         Panula  N_declarado  \n",
       "54     41.5        B          Ostby  N_declarado  \n",
       "58     20.0        C           West  N_declarado  \n",
       "59      6.0        C        Goodwin  N_declarado  \n",
       "62     41.5        C         Harris  N_declarado  \n",
       "63      6.0    Uknow          Skoog  N_declarado  \n",
       "65      6.0    Uknow       Moubarek  N_declarado  \n",
       "68     18.0    Uknow      Andersson  N_declarado  \n",
       "69     26.0    Uknow           Kink  N_declarado  \n",
       "71     18.0        C        Goodwin  N_declarado  \n",
       "73     26.0    Uknow   Chronopoulos  N_declarado  \n",
       "78      2.0    Uknow       Caldwell  N_declarado  \n",
       "86     26.0        G           Ford  N_declarado  \n",
       "88     30.0        C        Fortune  N_declarado  \n",
       "92     41.5        G        Chaffee  N_declarado  \n",
       "...     ...      ...            ...          ...  \n",
       "1197   41.5        C        Allison  N_declarado  \n",
       "1198    6.0    Uknow            Aks  N_declarado  \n",
       "1199   41.5        B           Hays  N_declarado  \n",
       "1207   41.5        P        Spencer  N_declarado  \n",
       "1210   30.0        C       Jefferys  N_declarado  \n",
       "1217   20.0        F         Becker  N_declarado  \n",
       "1219   30.0    Uknow         Clarke  N_declarado  \n",
       "1228   26.0    Uknow          Elias  N_declarado  \n",
       "1230    6.0    Uknow         Betros  N_declarado  \n",
       "1233   26.0        C           Sage  N_declarado  \n",
       "1235    6.0        A   van Billiard  N_declarado  \n",
       "1244   30.0    Uknow         Herman  N_declarado  \n",
       "1245   18.0        C           Dean  N_declarado  \n",
       "1251    6.0        C           Sage  N_declarado  \n",
       "1257   26.0    Uknow          Caram  N_declarado  \n",
       "1261   30.0    Uknow          Giles  N_declarado  \n",
       "1267   18.0    Uknow           Kink  N_declarado  \n",
       "1270    6.0    Uknow        Asplund  N_declarado  \n",
       "1276   20.0    Uknow         Herman  N_declarado  \n",
       "1280    6.0    Uknow        Palsson  N_declarado  \n",
       "1283    6.0        C         Abbott  N_declarado  \n",
       "1285   26.0    Uknow  Kink-Heilmann  N_declarado  \n",
       "1292   30.0    Uknow           Gale  N_declarado  \n",
       "1293   30.0    Uknow         Gibson  N_declarado  \n",
       "1295   41.5        D     Frauenthal  N_declarado  \n",
       "1297   30.0    Uknow           Ware  N_declarado  \n",
       "1298   41.5        C        Widener  N_declarado  \n",
       "1300   18.0        S        Peacock  N_declarado  \n",
       "1305   48.5        P  Oliva y Ocana  N_declarado  \n",
       "1308    6.0    Uknow          Peter  N_declarado  \n",
       "\n",
       "[378 rows x 20 columns]"
      ]
     },
     "execution_count": 6337,
     "metadata": {},
     "output_type": "execute_result"
    }
   ],
   "source": [
    "titanic[(titanic.Ft_Civil=='N_declarado')]"
   ]
  },
  {
   "cell_type": "code",
   "execution_count": 6338,
   "metadata": {
    "ExecuteTime": {
     "end_time": "2019-08-07T21:05:17.858678Z",
     "start_time": "2019-08-07T21:05:17.840162Z"
    }
   },
   "outputs": [
    {
     "data": {
      "text/html": [
       "<div>\n",
       "<style scoped>\n",
       "    .dataframe tbody tr th:only-of-type {\n",
       "        vertical-align: middle;\n",
       "    }\n",
       "\n",
       "    .dataframe tbody tr th {\n",
       "        vertical-align: top;\n",
       "    }\n",
       "\n",
       "    .dataframe thead tr th {\n",
       "        text-align: left;\n",
       "    }\n",
       "\n",
       "    .dataframe thead tr:last-of-type th {\n",
       "        text-align: right;\n",
       "    }\n",
       "</style>\n",
       "<table border=\"1\" class=\"dataframe\">\n",
       "  <thead>\n",
       "    <tr>\n",
       "      <th></th>\n",
       "      <th></th>\n",
       "      <th>Sex</th>\n",
       "      <th>Survived</th>\n",
       "    </tr>\n",
       "    <tr>\n",
       "      <th></th>\n",
       "      <th></th>\n",
       "      <th>count</th>\n",
       "      <th>sum</th>\n",
       "    </tr>\n",
       "    <tr>\n",
       "      <th>Sex</th>\n",
       "      <th>Ft_Civil</th>\n",
       "      <th></th>\n",
       "      <th></th>\n",
       "    </tr>\n",
       "  </thead>\n",
       "  <tbody>\n",
       "    <tr>\n",
       "      <th rowspan=\"3\" valign=\"top\">female</th>\n",
       "      <th>M_Casada</th>\n",
       "      <td>197</td>\n",
       "      <td>99.0</td>\n",
       "    </tr>\n",
       "    <tr>\n",
       "      <th>M_Solteira</th>\n",
       "      <td>155</td>\n",
       "      <td>79.0</td>\n",
       "    </tr>\n",
       "    <tr>\n",
       "      <th>N_declarado</th>\n",
       "      <td>114</td>\n",
       "      <td>55.0</td>\n",
       "    </tr>\n",
       "    <tr>\n",
       "      <th rowspan=\"2\" valign=\"top\">male</th>\n",
       "      <th>H_Solteiro</th>\n",
       "      <td>579</td>\n",
       "      <td>61.0</td>\n",
       "    </tr>\n",
       "    <tr>\n",
       "      <th>N_declarado</th>\n",
       "      <td>264</td>\n",
       "      <td>48.0</td>\n",
       "    </tr>\n",
       "  </tbody>\n",
       "</table>\n",
       "</div>"
      ],
      "text/plain": [
       "                     Sex Survived\n",
       "                   count      sum\n",
       "Sex    Ft_Civil                  \n",
       "female M_Casada      197     99.0\n",
       "       M_Solteira    155     79.0\n",
       "       N_declarado   114     55.0\n",
       "male   H_Solteiro    579     61.0\n",
       "       N_declarado   264     48.0"
      ]
     },
     "execution_count": 6338,
     "metadata": {},
     "output_type": "execute_result"
    }
   ],
   "source": [
    "titanic.groupby(['Sex','Ft_Civil']).agg({'Sex':['count'],'Survived':['sum']})"
   ]
  },
  {
   "cell_type": "code",
   "execution_count": 6339,
   "metadata": {
    "ExecuteTime": {
     "end_time": "2019-08-07T21:05:18.109475Z",
     "start_time": "2019-08-07T21:05:17.863681Z"
    }
   },
   "outputs": [
    {
     "data": {
      "image/png": "[encoded data removed]",
      "text/plain": [
       "<Figure size 576x432 with 1 Axes>"
      ]
     },
     "metadata": {
      "needs_background": "light"
     },
     "output_type": "display_data"
    }
   ],
   "source": [
    "titanic.groupby(['Sex','Ft_Civil']).agg({'Sex':['count'],'Survived':['sum']}).plot.bar(figsize=(8, 6));"
   ]
  },
  {
   "cell_type": "markdown",
   "metadata": {},
   "source": [
    "## Nomrmalização Age e Fare Min/Max"
   ]
  },
  {
   "cell_type": "code",
   "execution_count": 6340,
   "metadata": {
    "ExecuteTime": {
     "end_time": "2019-08-07T21:05:18.122501Z",
     "start_time": "2019-08-07T21:05:18.110475Z"
    }
   },
   "outputs": [],
   "source": [
    "from sklearn import preprocessing\n",
    "\n",
    "scaler = preprocessing.MinMaxScaler(feature_range=(0,1))\n",
    "\n",
    "# fit and transform in one step\n",
    "titanic['Norm_Age'] = scaler.fit_transform(titanic[['Age']])\n",
    "titanic['Norm_Fare'] = scaler.fit_transform(titanic[['Fare']])\n",
    "\n"
   ]
  },
  {
   "cell_type": "code",
   "execution_count": 6341,
   "metadata": {
    "ExecuteTime": {
     "end_time": "2019-08-07T21:05:18.435263Z",
     "start_time": "2019-08-07T21:05:18.123484Z"
    }
   },
   "outputs": [
    {
     "data": {
      "image/png": "[encoded data removed]",
      "text/plain": [
       "<Figure size 432x288 with 1 Axes>"
      ]
     },
     "metadata": {
      "needs_background": "light"
     },
     "output_type": "display_data"
    }
   ],
   "source": [
    "ax = sns.scatterplot(x=\"Norm_Age\", y=\"Norm_Fare\", hue='Survived', data=titanic)"
   ]
  },
  {
   "cell_type": "code",
   "execution_count": 6342,
   "metadata": {
    "ExecuteTime": {
     "end_time": "2019-08-07T21:05:18.706465Z",
     "start_time": "2019-08-07T21:05:18.437281Z"
    }
   },
   "outputs": [
    {
     "data": {
      "image/png": "[encoded data removed]",
      "text/plain": [
       "<Figure size 432x288 with 1 Axes>"
      ]
     },
     "metadata": {
      "needs_background": "light"
     },
     "output_type": "display_data"
    }
   ],
   "source": [
    "ax = sns.scatterplot(x=\"Age\", y=\"Fare\", hue='Survived', data=titanic)"
   ]
  },
  {
   "cell_type": "code",
   "execution_count": 6343,
   "metadata": {
    "ExecuteTime": {
     "end_time": "2019-08-07T21:05:19.036203Z",
     "start_time": "2019-08-07T21:05:18.708466Z"
    }
   },
   "outputs": [
    {
     "data": {
      "image/png": "[encoded data removed]",
      "text/plain": [
       "<Figure size 432x288 with 1 Axes>"
      ]
     },
     "metadata": {
      "needs_background": "light"
     },
     "output_type": "display_data"
    }
   ],
   "source": [
    "ax = sns.scatterplot(x=\"Age\", y=\"Fare\", hue='Ft_Civil', data=titanic)"
   ]
  },
  {
   "cell_type": "markdown",
   "metadata": {},
   "source": [
    "## Age, Discretização"
   ]
  },
  {
   "cell_type": "code",
   "execution_count": 6344,
   "metadata": {
    "ExecuteTime": {
     "end_time": "2019-08-07T21:05:19.061725Z",
     "start_time": "2019-08-07T21:05:19.038204Z"
    }
   },
   "outputs": [],
   "source": [
    "titanic.loc[titanic.Age  <  12,'Ft_Fx_Age'] = 'Criança'\n",
    "\n",
    "titanic.loc[(titanic.Age >= 12) & (titanic.Age < 25),'Ft_Fx_Age']  = 'Jovem'\n",
    "\n",
    "titanic.loc[(titanic.Age >= 25) & (titanic.Age < 40),'Ft_Fx_Age']  = 'Adulto'\n",
    "\n",
    "titanic.loc[(titanic.Age >= 40) & (titanic.Age < 50),'Ft_Fx_Age']  = 'Experiente'\n",
    "\n",
    "titanic.loc[titanic.Age  >= 50 ,'Ft_Fx_Age'] = 'Senior'\n",
    "\n"
   ]
  },
  {
   "cell_type": "code",
   "execution_count": 6345,
   "metadata": {
    "ExecuteTime": {
     "end_time": "2019-08-07T21:05:19.265896Z",
     "start_time": "2019-08-07T21:05:19.063726Z"
    }
   },
   "outputs": [
    {
     "data": {
      "image/png": "[encoded data removed]",
      "text/plain": [
       "<Figure size 432x288 with 1 Axes>"
      ]
     },
     "metadata": {
      "needs_background": "light"
     },
     "output_type": "display_data"
    }
   ],
   "source": [
    "p = sns.countplot(data=titanic,\n",
    "                  x = 'Ft_Fx_Age',\n",
    "                  hue = 'Survived')"
   ]
  },
  {
   "cell_type": "code",
   "execution_count": 6346,
   "metadata": {
    "ExecuteTime": {
     "end_time": "2019-08-07T21:05:19.282890Z",
     "start_time": "2019-08-07T21:05:19.266882Z"
    }
   },
   "outputs": [],
   "source": [
    "titanic.loc[titanic.Ft_Fx_Age=='Criança','Prioridade']='0'\n",
    "\n",
    "titanic.loc[titanic.Sex=='female','Prioridade']='0'\n",
    "\n",
    "titanic.loc[titanic.Sex=='male','Prioridade']='1'"
   ]
  },
  {
   "cell_type": "code",
   "execution_count": 6347,
   "metadata": {
    "ExecuteTime": {
     "end_time": "2019-08-07T21:05:19.545586Z",
     "start_time": "2019-08-07T21:05:19.283890Z"
    }
   },
   "outputs": [
    {
     "data": {
      "image/png": "[encoded data removed]",
      "text/plain": [
       "<Figure size 576x432 with 1 Axes>"
      ]
     },
     "metadata": {
      "needs_background": "light"
     },
     "output_type": "display_data"
    }
   ],
   "source": [
    "titanic.groupby(['Prioridade','Pclass']).agg({'Prioridade':['count'],'Survived':['sum']}).plot.bar(figsize=(8, 6));"
   ]
  },
  {
   "cell_type": "markdown",
   "metadata": {},
   "source": [
    "## Nivel Deck"
   ]
  },
  {
   "cell_type": "code",
   "execution_count": 6348,
   "metadata": {
    "ExecuteTime": {
     "end_time": "2019-08-07T21:05:19.554095Z",
     "start_time": "2019-08-07T21:05:19.547087Z"
    }
   },
   "outputs": [
    {
     "data": {
      "text/plain": [
       "Ft_Cabin\n",
       "A         57\n",
       "B         40\n",
       "C        148\n",
       "D         35\n",
       "E         29\n",
       "F         31\n",
       "G         27\n",
       "P         98\n",
       "S         98\n",
       "Uknow    746\n",
       "Name: Ft_Cabin, dtype: int64"
      ]
     },
     "execution_count": 6348,
     "metadata": {},
     "output_type": "execute_result"
    }
   ],
   "source": [
    "titanic.groupby('Ft_Cabin').Ft_Cabin.count()\n"
   ]
  },
  {
   "cell_type": "code",
   "execution_count": 6349,
   "metadata": {
    "ExecuteTime": {
     "end_time": "2019-08-07T21:05:19.654169Z",
     "start_time": "2019-08-07T21:05:19.555095Z"
    }
   },
   "outputs": [],
   "source": [
    "titanic.loc[titanic.Ft_Cabin=='S','Ft_Deck']='Superior'\n",
    "titanic.loc[titanic.Ft_Cabin=='P','Ft_Deck']='Superior'\n",
    "\n",
    "\n",
    "titanic.loc[titanic.Ft_Cabin=='A','Ft_Deck']='Superior'\n",
    "titanic.loc[titanic.Ft_Cabin=='B','Ft_Deck']='Superior'\n",
    "titanic.loc[titanic.Ft_Cabin=='C','Ft_Deck']='Superior'\n",
    "\n",
    "titanic.loc[titanic.Ft_Cabin=='D','Ft_Deck']='Meio'\n",
    "titanic.loc[titanic.Ft_Cabin=='E','Ft_Deck']='Meio'\n",
    "\n",
    "titanic.loc[titanic.Ft_Cabin=='F','Ft_Deck']='Inferior'\n",
    "titanic.loc[titanic.Ft_Cabin=='G','Ft_Deck']='Inferior'\n",
    "\n",
    "titanic.loc[titanic.Ft_Cabin=='Uknow','Ft_Deck']='know'\n",
    "\n"
   ]
  },
  {
   "cell_type": "code",
   "execution_count": 6350,
   "metadata": {
    "ExecuteTime": {
     "end_time": "2019-08-07T21:05:19.725228Z",
     "start_time": "2019-08-07T21:05:19.655170Z"
    }
   },
   "outputs": [
    {
     "data": {
      "text/plain": [
       "Ft_Deck\n",
       "Inferior     58\n",
       "Meio         64\n",
       "Superior    441\n",
       "know        746\n",
       "Name: Ft_Deck, dtype: int64"
      ]
     },
     "execution_count": 6350,
     "metadata": {},
     "output_type": "execute_result"
    }
   ],
   "source": [
    "titanic.groupby('Ft_Deck').Ft_Deck.count()\n"
   ]
  },
  {
   "cell_type": "code",
   "execution_count": 6351,
   "metadata": {
    "ExecuteTime": {
     "end_time": "2019-08-07T21:05:20.028444Z",
     "start_time": "2019-08-07T21:05:19.726219Z"
    }
   },
   "outputs": [
    {
     "data": {
      "image/png": "[encoded data removed]",
      "text/plain": [
       "<Figure size 576x432 with 1 Axes>"
      ]
     },
     "metadata": {
      "needs_background": "light"
     },
     "output_type": "display_data"
    }
   ],
   "source": [
    "titanic.groupby(['Ft_Deck','Sex']).agg({'Ft_Deck':['count'],'Survived':['sum']}).plot.bar(figsize=(8, 6));"
   ]
  },
  {
   "cell_type": "markdown",
   "metadata": {},
   "source": [
    "# Label Enconding"
   ]
  },
  {
   "cell_type": "code",
   "execution_count": 6352,
   "metadata": {
    "ExecuteTime": {
     "end_time": "2019-08-07T21:05:20.033950Z",
     "start_time": "2019-08-07T21:05:20.029444Z"
    }
   },
   "outputs": [],
   "source": [
    "from sklearn.preprocessing import LabelEncoder,OneHotEncoder"
   ]
  },
  {
   "cell_type": "code",
   "execution_count": 6353,
   "metadata": {
    "ExecuteTime": {
     "end_time": "2019-08-07T21:05:20.099498Z",
     "start_time": "2019-08-07T21:05:20.035451Z"
    }
   },
   "outputs": [],
   "source": [
    "label_encoder  = LabelEncoder()\n",
    "label_encoder  = label_encoder.fit(titanic.Pclass)\n",
    "titanic['OneHt_Ft_Pclass'] = label_encoder.transform(titanic.Pclass)\n",
    "\n",
    "label_encoder  = LabelEncoder()\n",
    "label_encoder  = label_encoder.fit(titanic.Sex)\n",
    "titanic['OneHt_Ft_Sex'] = label_encoder.transform(titanic.Sex)\n",
    "\n",
    "#label_encoder  = LabelEncoder()\n",
    "#label_encoder  = label_encoder.fit(titanic.Ft_Cabin)\n",
    "#titanic['OneHt_Ft_Cabin'] = label_encoder.transform(titanic.Ft_Cabin)\n",
    "\n",
    "label_encoder  = LabelEncoder()\n",
    "label_encoder  = label_encoder.fit(titanic.Title)\n",
    "titanic['OneHt_Ft_Title'] = label_encoder.transform(titanic.Title)\n",
    "\n",
    "label_encoder  = LabelEncoder()\n",
    "label_encoder  = label_encoder.fit(titanic.SibSp)\n",
    "titanic['OneHt_Ft_SibSp'] = label_encoder.transform(titanic.SibSp)\n",
    "\n",
    "label_encoder  = LabelEncoder()\n",
    "label_encoder  = label_encoder.fit(titanic.Parch)\n",
    "titanic['OneHt_Ft_Parch'] = label_encoder.transform(titanic.Parch)\n",
    "\n",
    "#label_encoder  = LabelEncoder()\n",
    "#label_encoder  = label_encoder.fit(titanic.Embarked)\n",
    "#titanic['OneHt_Embarked'] = label_encoder.transform(titanic.Embarked)\n",
    "\n",
    "label_encoder  = LabelEncoder()\n",
    "label_encoder  = label_encoder.fit(titanic.Ft_Civil)\n",
    "titanic['OneHt_Civil'] = label_encoder.transform(titanic.Ft_Civil)\n",
    "\n",
    "#label_encoder  = LabelEncoder()\n",
    "#label_encoder  = label_encoder.fit(titanic.Ft_Fx_Age)\n",
    "#titanic['OneHt_Fx_Age'] = label_encoder.transform(titanic.Ft_Fx_Age)\n",
    "\n",
    "#label_encoder  = LabelEncoder()\n",
    "#label_encoder  = label_encoder.fit(titanic.Ft_Deck)\n",
    "#titanic['OneHt_Ft_Deck'] = label_encoder.transform(titanic.Ft_Deck)\n",
    "\n",
    "label_encoder  = LabelEncoder()\n",
    "label_encoder  = label_encoder.fit(titanic.Prioridade)\n",
    "titanic['OneHt_Prioridade'] = label_encoder.transform(titanic.Prioridade)"
   ]
  },
  {
   "cell_type": "code",
   "execution_count": 6354,
   "metadata": {
    "ExecuteTime": {
     "end_time": "2019-08-07T21:05:20.183560Z",
     "start_time": "2019-08-07T21:05:20.101500Z"
    }
   },
   "outputs": [
    {
     "name": "stdout",
     "output_type": "stream",
     "text": [
      "<class 'pandas.core.frame.DataFrame'>\n",
      "RangeIndex: 1309 entries, 0 to 1308\n",
      "Data columns (total 32 columns):\n",
      "level_0             1309 non-null int64\n",
      "index               1309 non-null int64\n",
      "Age                 1309 non-null float64\n",
      "Cabin               1309 non-null object\n",
      "Embarked            1309 non-null object\n",
      "Fare                1309 non-null float64\n",
      "Name                1309 non-null object\n",
      "Parch               1309 non-null int64\n",
      "PassengerId         1309 non-null int64\n",
      "Pclass              1309 non-null int64\n",
      "Sex                 1309 non-null object\n",
      "SibSp               1309 non-null int64\n",
      "Survived            891 non-null float64\n",
      "Ticket              1309 non-null object\n",
      "Status_Survived     891 non-null object\n",
      "Title               1309 non-null object\n",
      "Age_y               1309 non-null float64\n",
      "Ft_Cabin            1309 non-null object\n",
      "Ft_Sobrenome        1309 non-null object\n",
      "Ft_Civil            1309 non-null object\n",
      "Norm_Age            1309 non-null float64\n",
      "Norm_Fare           1309 non-null float64\n",
      "Ft_Fx_Age           1309 non-null object\n",
      "Prioridade          1309 non-null object\n",
      "Ft_Deck             1309 non-null object\n",
      "OneHt_Ft_Pclass     1309 non-null int32\n",
      "OneHt_Ft_Sex        1309 non-null int32\n",
      "OneHt_Ft_Title      1309 non-null int32\n",
      "OneHt_Ft_SibSp      1309 non-null int32\n",
      "OneHt_Ft_Parch      1309 non-null int32\n",
      "OneHt_Civil         1309 non-null int32\n",
      "OneHt_Prioridade    1309 non-null int32\n",
      "dtypes: float64(6), int32(7), int64(6), object(13)\n",
      "memory usage: 225.0+ KB\n"
     ]
    }
   ],
   "source": [
    "titanic.info()"
   ]
  },
  {
   "cell_type": "markdown",
   "metadata": {},
   "source": [
    "## Binarização"
   ]
  },
  {
   "cell_type": "code",
   "execution_count": 6355,
   "metadata": {
    "ExecuteTime": {
     "end_time": "2019-08-07T21:05:20.307668Z",
     "start_time": "2019-08-07T21:05:20.185561Z"
    }
   },
   "outputs": [],
   "source": [
    "titanic = pd.get_dummies(titanic, columns = [\"OneHt_Ft_Pclass\"] , prefix=\"BIN_Pclass\")\n",
    "titanic = pd.get_dummies(titanic, columns = [\"OneHt_Ft_Sex\"]    , prefix=\"BIN_Sex\")      \n",
    "#titanic = pd.get_dummies(titanic, columns = [\"OneHt_Ft_Cabin\"]  , prefix=\"BIN_Ft_Cabin\"  )#,drop_first=True)\n",
    "#titanic = pd.get_dummies(titanic, columns = [\"OneHt_Embarked\"]  , prefix=\"BIN_Embarked\"  )#,drop_first=True)\n",
    "titanic = pd.get_dummies(titanic, columns = [\"OneHt_Civil\"]     , prefix=\"BIN_Civil\"     )#,drop_first=True)\n",
    "#titanic = pd.get_dummies(titanic, columns = [\"OneHt_Fx_Age\"]    , prefix=\"BIN_Fx_Age\"    )#,drop_first=True)\n",
    "#titanic = pd.get_dummies(titanic, columns = [\"OneHt_Ft_Deck\"]   , prefix=\"BIN_Ft_Deck\"   )#,drop_first=True)\n",
    "titanic = pd.get_dummies(titanic, columns = [\"OneHt_Ft_Title\"]  , prefix=\"BIN_Ft_Title\")\n",
    "titanic = pd.get_dummies(titanic, columns = [\"OneHt_Ft_SibSp\"]  , prefix=\"BIN_Ft_SibSp\")\n",
    "titanic = pd.get_dummies(titanic, columns = [\"OneHt_Ft_Parch\"]  , prefix=\"BIN_Ft_Parch\")\n",
    "titanic = pd.get_dummies(titanic, columns = [\"OneHt_Prioridade\"], prefix=\"BIN_Prioridade\")\n",
    "\n"
   ]
  },
  {
   "cell_type": "markdown",
   "metadata": {
    "ExecuteTime": {
     "end_time": "2019-08-01T22:15:24.358824Z",
     "start_time": "2019-08-01T22:15:24.354817Z"
    }
   },
   "source": [
    "# Construindo Modelo\n",
    "\n"
   ]
  },
  {
   "cell_type": "code",
   "execution_count": 6356,
   "metadata": {
    "ExecuteTime": {
     "end_time": "2019-08-07T21:05:20.337175Z",
     "start_time": "2019-08-07T21:05:20.309653Z"
    }
   },
   "outputs": [
    {
     "name": "stdout",
     "output_type": "stream",
     "text": [
      "0\n",
      "418\n"
     ]
    }
   ],
   "source": [
    "print(titanic[0:890].Survived.isna().sum())\n",
    "print(titanic[891:1309].Survived.isna().sum())"
   ]
  },
  {
   "cell_type": "code",
   "execution_count": 6357,
   "metadata": {
    "ExecuteTime": {
     "end_time": "2019-08-07T21:05:20.414759Z",
     "start_time": "2019-08-07T21:05:20.338676Z"
    }
   },
   "outputs": [],
   "source": [
    "titanic.loc[titanic.Status_Survived=='Morto','Survived']='0'\n",
    "titanic.loc[titanic.Status_Survived=='Vivo' ,'Survived']='1'\n",
    "\n",
    "\n",
    "\n",
    "\n",
    "\n",
    "train=titanic[0:891]\n",
    "test= titanic[891:1309]\n",
    "IDtest = test_csv['PassengerId']"
   ]
  },
  {
   "cell_type": "code",
   "execution_count": 6358,
   "metadata": {
    "ExecuteTime": {
     "end_time": "2019-08-07T21:05:20.470813Z",
     "start_time": "2019-08-07T21:05:20.415747Z"
    }
   },
   "outputs": [
    {
     "data": {
      "text/plain": [
       "Survived\n",
       "0    549\n",
       "1    342\n",
       "Name: Survived, dtype: int64"
      ]
     },
     "execution_count": 6358,
     "metadata": {},
     "output_type": "execute_result"
    }
   ],
   "source": [
    "titanic.groupby('Survived').Survived.count()"
   ]
  },
  {
   "cell_type": "code",
   "execution_count": 6359,
   "metadata": {
    "ExecuteTime": {
     "end_time": "2019-08-07T21:05:20.536878Z",
     "start_time": "2019-08-07T21:05:20.471814Z"
    }
   },
   "outputs": [
    {
     "data": {
      "text/plain": [
       "Survived\n",
       "0    549\n",
       "1    342\n",
       "Name: Survived, dtype: int64"
      ]
     },
     "execution_count": 6359,
     "metadata": {},
     "output_type": "execute_result"
    }
   ],
   "source": [
    "train.groupby('Survived').Survived.count()"
   ]
  },
  {
   "cell_type": "code",
   "execution_count": 6360,
   "metadata": {
    "ExecuteTime": {
     "end_time": "2019-08-07T21:05:20.608914Z",
     "start_time": "2019-08-07T21:05:20.538863Z"
    }
   },
   "outputs": [],
   "source": [
    " train = train.drop(labels =['level_0','index','PassengerId','Name', 'Pclass', 'Sex','Title',\n",
    "                            'Ticket','SibSp','Parch','Cabin','Embarked','Age','Age_y','Fare',\n",
    "                            #'Norm_Age','Norm_Fare',\n",
    "                            'Status_Survived',\n",
    "                            'Ft_Cabin',\n",
    "                            'Ft_Sobrenome',\n",
    "                            'Ft_Civil',\n",
    "                            'Ft_Fx_Age',\n",
    "                            'Prioridade',\n",
    "                            'Ft_Deck',\n",
    "                            ],\n",
    "                    axis = 1)"
   ]
  },
  {
   "cell_type": "code",
   "execution_count": 6361,
   "metadata": {
    "ExecuteTime": {
     "end_time": "2019-08-07T21:05:20.700009Z",
     "start_time": "2019-08-07T21:05:20.610915Z"
    }
   },
   "outputs": [],
   "source": [
    " test = test.drop(labels =['level_0','index','PassengerId','Name', 'Pclass', 'Sex','Title',\n",
    "                            'Ticket','SibSp','Parch','Cabin','Embarked','Age','Age_y','Fare',\n",
    "                            #'Norm_Age','Norm_Fare', \n",
    "                            'Status_Survived',\n",
    "                            'Ft_Cabin',\n",
    "                            'Ft_Sobrenome',\n",
    "                            'Ft_Civil',\n",
    "                            'Ft_Fx_Age',\n",
    "                            'Prioridade',\n",
    "                            'Ft_Deck',\n",
    "                            ],\n",
    "                    axis = 1)"
   ]
  },
  {
   "cell_type": "code",
   "execution_count": 6362,
   "metadata": {
    "ExecuteTime": {
     "end_time": "2019-08-07T21:05:20.788059Z",
     "start_time": "2019-08-07T21:05:20.701995Z"
    }
   },
   "outputs": [
    {
     "name": "stdout",
     "output_type": "stream",
     "text": [
      "<class 'pandas.core.frame.DataFrame'>\n",
      "RangeIndex: 891 entries, 0 to 890\n",
      "Data columns (total 34 columns):\n",
      "Survived            891 non-null object\n",
      "Norm_Age            891 non-null float64\n",
      "Norm_Fare           891 non-null float64\n",
      "BIN_Pclass_0        891 non-null uint8\n",
      "BIN_Pclass_1        891 non-null uint8\n",
      "BIN_Pclass_2        891 non-null uint8\n",
      "BIN_Sex_0           891 non-null uint8\n",
      "BIN_Sex_1           891 non-null uint8\n",
      "BIN_Civil_0         891 non-null uint8\n",
      "BIN_Civil_1         891 non-null uint8\n",
      "BIN_Civil_2         891 non-null uint8\n",
      "BIN_Civil_3         891 non-null uint8\n",
      "BIN_Ft_Title_0      891 non-null uint8\n",
      "BIN_Ft_Title_1      891 non-null uint8\n",
      "BIN_Ft_Title_2      891 non-null uint8\n",
      "BIN_Ft_Title_3      891 non-null uint8\n",
      "BIN_Ft_Title_4      891 non-null uint8\n",
      "BIN_Ft_SibSp_0      891 non-null uint8\n",
      "BIN_Ft_SibSp_1      891 non-null uint8\n",
      "BIN_Ft_SibSp_2      891 non-null uint8\n",
      "BIN_Ft_SibSp_3      891 non-null uint8\n",
      "BIN_Ft_SibSp_4      891 non-null uint8\n",
      "BIN_Ft_SibSp_5      891 non-null uint8\n",
      "BIN_Ft_SibSp_6      891 non-null uint8\n",
      "BIN_Ft_Parch_0      891 non-null uint8\n",
      "BIN_Ft_Parch_1      891 non-null uint8\n",
      "BIN_Ft_Parch_2      891 non-null uint8\n",
      "BIN_Ft_Parch_3      891 non-null uint8\n",
      "BIN_Ft_Parch_4      891 non-null uint8\n",
      "BIN_Ft_Parch_5      891 non-null uint8\n",
      "BIN_Ft_Parch_6      891 non-null uint8\n",
      "BIN_Ft_Parch_7      891 non-null uint8\n",
      "BIN_Prioridade_0    891 non-null uint8\n",
      "BIN_Prioridade_1    891 non-null uint8\n",
      "dtypes: float64(2), object(1), uint8(31)\n",
      "memory usage: 44.4+ KB\n"
     ]
    }
   ],
   "source": [
    "train.info()"
   ]
  },
  {
   "cell_type": "code",
   "execution_count": 6363,
   "metadata": {
    "ExecuteTime": {
     "end_time": "2019-08-07T21:05:20.881152Z",
     "start_time": "2019-08-07T21:05:20.790060Z"
    }
   },
   "outputs": [
    {
     "data": {
      "text/html": [
       "<div>\n",
       "<style scoped>\n",
       "    .dataframe tbody tr th:only-of-type {\n",
       "        vertical-align: middle;\n",
       "    }\n",
       "\n",
       "    .dataframe tbody tr th {\n",
       "        vertical-align: top;\n",
       "    }\n",
       "\n",
       "    .dataframe thead th {\n",
       "        text-align: right;\n",
       "    }\n",
       "</style>\n",
       "<table border=\"1\" class=\"dataframe\">\n",
       "  <thead>\n",
       "    <tr style=\"text-align: right;\">\n",
       "      <th></th>\n",
       "      <th>Survived</th>\n",
       "      <th>Norm_Age</th>\n",
       "      <th>Norm_Fare</th>\n",
       "      <th>BIN_Pclass_0</th>\n",
       "      <th>BIN_Pclass_1</th>\n",
       "      <th>BIN_Pclass_2</th>\n",
       "      <th>BIN_Sex_0</th>\n",
       "      <th>BIN_Sex_1</th>\n",
       "      <th>BIN_Civil_0</th>\n",
       "      <th>BIN_Civil_1</th>\n",
       "      <th>...</th>\n",
       "      <th>BIN_Ft_Parch_0</th>\n",
       "      <th>BIN_Ft_Parch_1</th>\n",
       "      <th>BIN_Ft_Parch_2</th>\n",
       "      <th>BIN_Ft_Parch_3</th>\n",
       "      <th>BIN_Ft_Parch_4</th>\n",
       "      <th>BIN_Ft_Parch_5</th>\n",
       "      <th>BIN_Ft_Parch_6</th>\n",
       "      <th>BIN_Ft_Parch_7</th>\n",
       "      <th>BIN_Prioridade_0</th>\n",
       "      <th>BIN_Prioridade_1</th>\n",
       "    </tr>\n",
       "  </thead>\n",
       "  <tbody>\n",
       "    <tr>\n",
       "      <th>0</th>\n",
       "      <td>0</td>\n",
       "      <td>0.273456</td>\n",
       "      <td>0.014151</td>\n",
       "      <td>0</td>\n",
       "      <td>0</td>\n",
       "      <td>1</td>\n",
       "      <td>0</td>\n",
       "      <td>1</td>\n",
       "      <td>0</td>\n",
       "      <td>0</td>\n",
       "      <td>...</td>\n",
       "      <td>1</td>\n",
       "      <td>0</td>\n",
       "      <td>0</td>\n",
       "      <td>0</td>\n",
       "      <td>0</td>\n",
       "      <td>0</td>\n",
       "      <td>0</td>\n",
       "      <td>0</td>\n",
       "      <td>0</td>\n",
       "      <td>1</td>\n",
       "    </tr>\n",
       "    <tr>\n",
       "      <th>1</th>\n",
       "      <td>1</td>\n",
       "      <td>0.473882</td>\n",
       "      <td>0.139136</td>\n",
       "      <td>1</td>\n",
       "      <td>0</td>\n",
       "      <td>0</td>\n",
       "      <td>1</td>\n",
       "      <td>0</td>\n",
       "      <td>0</td>\n",
       "      <td>1</td>\n",
       "      <td>...</td>\n",
       "      <td>1</td>\n",
       "      <td>0</td>\n",
       "      <td>0</td>\n",
       "      <td>0</td>\n",
       "      <td>0</td>\n",
       "      <td>0</td>\n",
       "      <td>0</td>\n",
       "      <td>0</td>\n",
       "      <td>1</td>\n",
       "      <td>0</td>\n",
       "    </tr>\n",
       "    <tr>\n",
       "      <th>2</th>\n",
       "      <td>1</td>\n",
       "      <td>0.323563</td>\n",
       "      <td>0.015469</td>\n",
       "      <td>0</td>\n",
       "      <td>0</td>\n",
       "      <td>1</td>\n",
       "      <td>1</td>\n",
       "      <td>0</td>\n",
       "      <td>0</td>\n",
       "      <td>0</td>\n",
       "      <td>...</td>\n",
       "      <td>1</td>\n",
       "      <td>0</td>\n",
       "      <td>0</td>\n",
       "      <td>0</td>\n",
       "      <td>0</td>\n",
       "      <td>0</td>\n",
       "      <td>0</td>\n",
       "      <td>0</td>\n",
       "      <td>1</td>\n",
       "      <td>0</td>\n",
       "    </tr>\n",
       "    <tr>\n",
       "      <th>3</th>\n",
       "      <td>1</td>\n",
       "      <td>0.436302</td>\n",
       "      <td>0.103644</td>\n",
       "      <td>1</td>\n",
       "      <td>0</td>\n",
       "      <td>0</td>\n",
       "      <td>1</td>\n",
       "      <td>0</td>\n",
       "      <td>0</td>\n",
       "      <td>1</td>\n",
       "      <td>...</td>\n",
       "      <td>1</td>\n",
       "      <td>0</td>\n",
       "      <td>0</td>\n",
       "      <td>0</td>\n",
       "      <td>0</td>\n",
       "      <td>0</td>\n",
       "      <td>0</td>\n",
       "      <td>0</td>\n",
       "      <td>1</td>\n",
       "      <td>0</td>\n",
       "    </tr>\n",
       "    <tr>\n",
       "      <th>4</th>\n",
       "      <td>0</td>\n",
       "      <td>0.436302</td>\n",
       "      <td>0.015713</td>\n",
       "      <td>0</td>\n",
       "      <td>0</td>\n",
       "      <td>1</td>\n",
       "      <td>0</td>\n",
       "      <td>1</td>\n",
       "      <td>1</td>\n",
       "      <td>0</td>\n",
       "      <td>...</td>\n",
       "      <td>1</td>\n",
       "      <td>0</td>\n",
       "      <td>0</td>\n",
       "      <td>0</td>\n",
       "      <td>0</td>\n",
       "      <td>0</td>\n",
       "      <td>0</td>\n",
       "      <td>0</td>\n",
       "      <td>0</td>\n",
       "      <td>1</td>\n",
       "    </tr>\n",
       "  </tbody>\n",
       "</table>\n",
       "<p>5 rows × 34 columns</p>\n",
       "</div>"
      ],
      "text/plain": [
       "  Survived  Norm_Age  Norm_Fare  BIN_Pclass_0  BIN_Pclass_1  BIN_Pclass_2  \\\n",
       "0        0  0.273456   0.014151             0             0             1   \n",
       "1        1  0.473882   0.139136             1             0             0   \n",
       "2        1  0.323563   0.015469             0             0             1   \n",
       "3        1  0.436302   0.103644             1             0             0   \n",
       "4        0  0.436302   0.015713             0             0             1   \n",
       "\n",
       "   BIN_Sex_0  BIN_Sex_1  BIN_Civil_0  BIN_Civil_1  ...  BIN_Ft_Parch_0  \\\n",
       "0          0          1            0            0  ...               1   \n",
       "1          1          0            0            1  ...               1   \n",
       "2          1          0            0            0  ...               1   \n",
       "3          1          0            0            1  ...               1   \n",
       "4          0          1            1            0  ...               1   \n",
       "\n",
       "   BIN_Ft_Parch_1  BIN_Ft_Parch_2  BIN_Ft_Parch_3  BIN_Ft_Parch_4  \\\n",
       "0               0               0               0               0   \n",
       "1               0               0               0               0   \n",
       "2               0               0               0               0   \n",
       "3               0               0               0               0   \n",
       "4               0               0               0               0   \n",
       "\n",
       "   BIN_Ft_Parch_5  BIN_Ft_Parch_6  BIN_Ft_Parch_7  BIN_Prioridade_0  \\\n",
       "0               0               0               0                 0   \n",
       "1               0               0               0                 1   \n",
       "2               0               0               0                 1   \n",
       "3               0               0               0                 1   \n",
       "4               0               0               0                 0   \n",
       "\n",
       "   BIN_Prioridade_1  \n",
       "0                 1  \n",
       "1                 0  \n",
       "2                 0  \n",
       "3                 0  \n",
       "4                 1  \n",
       "\n",
       "[5 rows x 34 columns]"
      ]
     },
     "execution_count": 6363,
     "metadata": {},
     "output_type": "execute_result"
    }
   ],
   "source": [
    "train.head()"
   ]
  },
  {
   "cell_type": "code",
   "execution_count": 6364,
   "metadata": {
    "ExecuteTime": {
     "end_time": "2019-08-07T21:05:20.983245Z",
     "start_time": "2019-08-07T21:05:20.882158Z"
    }
   },
   "outputs": [],
   "source": [
    "from sklearn.model_selection import train_test_split\n",
    "\n",
    "y_train = np.array(train[[\"Survived\"]])\n",
    "X_train = np.array(train.drop(labels = [\"Survived\"],axis = 1))\n",
    "\n",
    "#X_train, X_test, y_train, y_test = train_test_split(X, y, test_size = 0.2, random_state = 0)"
   ]
  },
  {
   "cell_type": "code",
   "execution_count": 6365,
   "metadata": {
    "ExecuteTime": {
     "end_time": "2019-08-07T21:05:21.050321Z",
     "start_time": "2019-08-07T21:05:20.985246Z"
    }
   },
   "outputs": [
    {
     "data": {
      "text/plain": [
       "array([[0.27345609, 0.01415106, 0.        , ..., 0.        , 0.        ,\n",
       "        1.        ],\n",
       "       [0.473882  , 0.13913574, 1.        , ..., 0.        , 1.        ,\n",
       "        0.        ],\n",
       "       [0.32356257, 0.01546857, 0.        , ..., 0.        , 1.        ,\n",
       "        0.        ],\n",
       "       ...,\n",
       "       [0.22334962, 0.04577135, 0.        , ..., 0.        , 1.        ,\n",
       "        0.        ],\n",
       "       [0.32356257, 0.0585561 , 1.        , ..., 0.        , 0.        ,\n",
       "        1.        ],\n",
       "       [0.39872228, 0.01512699, 0.        , ..., 0.        , 0.        ,\n",
       "        1.        ]])"
      ]
     },
     "execution_count": 6365,
     "metadata": {},
     "output_type": "execute_result"
    }
   ],
   "source": [
    "X_train"
   ]
  },
  {
   "cell_type": "code",
   "execution_count": 6366,
   "metadata": {
    "ExecuteTime": {
     "end_time": "2019-08-07T21:05:21.149411Z",
     "start_time": "2019-08-07T21:05:21.051305Z"
    }
   },
   "outputs": [],
   "source": [
    "from sklearn.model_selection import GridSearchCV, cross_val_score, StratifiedKFold, learning_curve\n",
    "from sklearn.ensemble import RandomForestClassifier, AdaBoostClassifier, GradientBoostingClassifier, ExtraTreesClassifier, VotingClassifier\n",
    "from sklearn.discriminant_analysis import LinearDiscriminantAnalysis\n",
    "from sklearn.linear_model import LogisticRegression\n",
    "from sklearn.neighbors import KNeighborsClassifier\n",
    "from sklearn.tree import DecisionTreeClassifier\n",
    "from sklearn.neural_network import MLPClassifier\n",
    "from sklearn.svm import SVC\n",
    "\n",
    "\n",
    "\n",
    "\n",
    "kfold = StratifiedKFold(n_splits=3)"
   ]
  },
  {
   "cell_type": "code",
   "execution_count": 6367,
   "metadata": {
    "ExecuteTime": {
     "end_time": "2019-08-07T21:05:22.458000Z",
     "start_time": "2019-08-07T21:05:21.150434Z"
    }
   },
   "outputs": [
    {
     "data": {
      "image/png": "[encoded data removed]",
      "text/plain": [
       "<Figure size 432x288 with 1 Axes>"
      ]
     },
     "metadata": {
      "needs_background": "light"
     },
     "output_type": "display_data"
    }
   ],
   "source": [
    "# Modeling step Test differents algorithms \n",
    "random_state = 2\n",
    "classifiers = []\n",
    "classifiers.append(SVC(random_state=random_state))\n",
    "classifiers.append(DecisionTreeClassifier(random_state=random_state))\n",
    "classifiers.append(AdaBoostClassifier(DecisionTreeClassifier(random_state=random_state),random_state=random_state,learning_rate=0.1))\n",
    "classifiers.append(RandomForestClassifier(random_state=random_state))\n",
    "classifiers.append(ExtraTreesClassifier(random_state=random_state))\n",
    "classifiers.append(GradientBoostingClassifier(random_state=random_state))\n",
    "classifiers.append(MLPClassifier(random_state=random_state))\n",
    "classifiers.append(KNeighborsClassifier())\n",
    "classifiers.append(LogisticRegression(random_state = random_state))\n",
    "classifiers.append(LinearDiscriminantAnalysis())\n",
    "\n",
    "cv_results = []\n",
    "for classifier in classifiers :\n",
    "    cv_results.append(cross_val_score(classifier, X_train, y = y_train, scoring = \"accuracy\", cv = kfold, n_jobs=4))\n",
    "\n",
    "cv_means = []\n",
    "cv_std = []\n",
    "for cv_result in cv_results:\n",
    "    cv_means.append(cv_result.mean())\n",
    "    cv_std.append(cv_result.std())\n",
    "\n",
    "cv_res = pd.DataFrame({\"CrossValMeans\":cv_means,\"CrossValerrors\": cv_std,\"Algorithm\":[\"SVC\",\"DecisionTree\",\"AdaBoost\",\n",
    "\"RandomForest\",\"ExtraTrees\",\"GradientBoosting\",\"MultipleLayerPerceptron\",\"KNeighboors\",\"LogisticRegression\",\"LinearDiscriminantAnalysis\"]})\n",
    "\n",
    "g = sns.barplot(\"CrossValMeans\",\"Algorithm\",data = cv_res, palette=\"Set3\",orient = \"h\",**{'xerr':cv_std})\n",
    "g.set_xlabel(\"Mean Accuracy\")\n",
    "g = g.set_title(\"Cross validation scores\")"
   ]
  },
  {
   "cell_type": "code",
   "execution_count": 6368,
   "metadata": {
    "ExecuteTime": {
     "end_time": "2019-08-07T21:05:23.282120Z",
     "start_time": "2019-08-07T21:05:22.458984Z"
    }
   },
   "outputs": [
    {
     "name": "stdout",
     "output_type": "stream",
     "text": [
      "Fitting 3 folds for each of 112 candidates, totalling 336 fits\n"
     ]
    },
    {
     "name": "stderr",
     "output_type": "stream",
     "text": [
      "[Parallel(n_jobs=4)]: Using backend LokyBackend with 4 concurrent workers.\n",
      "[Parallel(n_jobs=4)]: Done 336 out of 336 | elapsed:    0.7s finished\n"
     ]
    },
    {
     "data": {
      "text/plain": [
       "0.7890011223344556"
      ]
     },
     "execution_count": 6368,
     "metadata": {},
     "output_type": "execute_result"
    }
   ],
   "source": [
    "# Adaboost\n",
    "DTC = DecisionTreeClassifier()\n",
    "\n",
    "adaDTC = AdaBoostClassifier(DTC, random_state=7)\n",
    "\n",
    "ada_param_grid = {\"base_estimator__criterion\" : [\"gini\", \"entropy\"],\n",
    "              \"base_estimator__splitter\" :   [\"best\", \"random\"],\n",
    "              \"algorithm\" : [\"SAMME\",\"SAMME.R\"],\n",
    "              \"n_estimators\" :[1,2],\n",
    "              \"learning_rate\":  [0.0001, 0.001, 0.01, 0.1, 0.2, 0.3,1.5]}\n",
    "\n",
    "gsadaDTC = GridSearchCV(adaDTC,param_grid = ada_param_grid, cv=kfold, scoring=\"accuracy\", n_jobs= 4, verbose = 1)\n",
    "\n",
    "gsadaDTC.fit(X_train,y_train)\n",
    "\n",
    "ada_best = gsadaDTC.best_estimator_\n",
    "gsadaDTC.best_score_\n"
   ]
  },
  {
   "cell_type": "code",
   "execution_count": 6369,
   "metadata": {
    "ExecuteTime": {
     "end_time": "2019-08-07T21:05:31.931835Z",
     "start_time": "2019-08-07T21:05:23.284107Z"
    }
   },
   "outputs": [
    {
     "name": "stderr",
     "output_type": "stream",
     "text": [
      "[Parallel(n_jobs=4)]: Using backend LokyBackend with 4 concurrent workers.\n"
     ]
    },
    {
     "name": "stdout",
     "output_type": "stream",
     "text": [
      "Fitting 3 folds for each of 54 candidates, totalling 162 fits\n"
     ]
    },
    {
     "name": "stderr",
     "output_type": "stream",
     "text": [
      "[Parallel(n_jobs=4)]: Done  76 tasks      | elapsed:    3.8s\n",
      "[Parallel(n_jobs=4)]: Done 162 out of 162 | elapsed:    8.5s finished\n"
     ]
    },
    {
     "data": {
      "text/plain": [
       "0.8237934904601572"
      ]
     },
     "execution_count": 6369,
     "metadata": {},
     "output_type": "execute_result"
    }
   ],
   "source": [
    "#ExtraTrees \n",
    "ExtC = ExtraTreesClassifier()\n",
    "\n",
    "\n",
    "## Search grid for optimal parameters\n",
    "ex_param_grid = {\"max_depth\": [None],\n",
    "              \"max_features\": [1, 3, 10],\n",
    "              \"min_samples_split\": [2, 3, 10],\n",
    "              \"min_samples_leaf\": [1, 3, 10],\n",
    "              \"bootstrap\": [False],\n",
    "              \"n_estimators\" :[100,300],\n",
    "              \"criterion\": [\"gini\"]}\n",
    "\n",
    "\n",
    "gsExtC = GridSearchCV(ExtC,param_grid = ex_param_grid, cv=kfold, scoring=\"accuracy\", n_jobs= 4, verbose = 1)\n",
    "\n",
    "gsExtC.fit(X_train,y_train)\n",
    "\n",
    "ExtC_best = gsExtC.best_estimator_\n",
    "\n",
    "# Best score\n",
    "gsExtC.best_score_"
   ]
  },
  {
   "cell_type": "code",
   "execution_count": 6370,
   "metadata": {
    "ExecuteTime": {
     "end_time": "2019-08-07T21:05:42.648781Z",
     "start_time": "2019-08-07T21:05:31.933319Z"
    }
   },
   "outputs": [
    {
     "name": "stderr",
     "output_type": "stream",
     "text": [
      "[Parallel(n_jobs=4)]: Using backend LokyBackend with 4 concurrent workers.\n"
     ]
    },
    {
     "name": "stdout",
     "output_type": "stream",
     "text": [
      "Fitting 3 folds for each of 54 candidates, totalling 162 fits\n"
     ]
    },
    {
     "name": "stderr",
     "output_type": "stream",
     "text": [
      "[Parallel(n_jobs=4)]: Done  76 tasks      | elapsed:    4.2s\n",
      "[Parallel(n_jobs=4)]: Done 162 out of 162 | elapsed:   10.5s finished\n"
     ]
    },
    {
     "data": {
      "text/plain": [
       "0.8282828282828283"
      ]
     },
     "execution_count": 6370,
     "metadata": {},
     "output_type": "execute_result"
    }
   ],
   "source": [
    "# RFC Parameters tunning \n",
    "RFC = RandomForestClassifier()\n",
    "\n",
    "\n",
    "## Search grid for optimal parameters\n",
    "rf_param_grid = {\"max_depth\": [None],\n",
    "              \"max_features\": [1, 3, 10],\n",
    "              \"min_samples_split\": [2, 3, 10],\n",
    "              \"min_samples_leaf\": [1, 3, 10],\n",
    "              \"bootstrap\": [False],\n",
    "              \"n_estimators\" :[100,300],\n",
    "              \"criterion\": [\"gini\"]}\n",
    "\n",
    "\n",
    "gsRFC = GridSearchCV(RFC,param_grid = rf_param_grid, cv=kfold, scoring=\"accuracy\", n_jobs= 4, verbose = 1)\n",
    "\n",
    "gsRFC.fit(X_train,y_train)\n",
    "\n",
    "RFC_best = gsRFC.best_estimator_\n",
    "\n",
    "# Best score\n",
    "gsRFC.best_score_"
   ]
  },
  {
   "cell_type": "code",
   "execution_count": 6371,
   "metadata": {
    "ExecuteTime": {
     "end_time": "2019-08-07T21:05:49.442511Z",
     "start_time": "2019-08-07T21:05:42.649782Z"
    }
   },
   "outputs": [
    {
     "name": "stderr",
     "output_type": "stream",
     "text": [
      "[Parallel(n_jobs=4)]: Using backend LokyBackend with 4 concurrent workers.\n"
     ]
    },
    {
     "name": "stdout",
     "output_type": "stream",
     "text": [
      "Fitting 3 folds for each of 72 candidates, totalling 216 fits\n"
     ]
    },
    {
     "name": "stderr",
     "output_type": "stream",
     "text": [
      "[Parallel(n_jobs=4)]: Done 216 out of 216 | elapsed:    6.5s finished\n"
     ]
    },
    {
     "data": {
      "text/plain": [
       "0.8395061728395061"
      ]
     },
     "execution_count": 6371,
     "metadata": {},
     "output_type": "execute_result"
    }
   ],
   "source": [
    "# Gradient boosting tunning\n",
    "\n",
    "GBC = GradientBoostingClassifier()\n",
    "gb_param_grid = {'loss' : [\"deviance\"],\n",
    "              'n_estimators' : [100,200,300],\n",
    "              'learning_rate': [0.1, 0.05, 0.01],\n",
    "              'max_depth': [4, 8],\n",
    "              'min_samples_leaf': [100,150],\n",
    "              'max_features': [0.3, 0.1] \n",
    "              }\n",
    "\n",
    "gsGBC = GridSearchCV(GBC,param_grid = gb_param_grid, cv=kfold, scoring=\"accuracy\", n_jobs= 4, verbose = 1)\n",
    "\n",
    "gsGBC.fit(X_train,y_train)\n",
    "\n",
    "GBC_best = gsGBC.best_estimator_\n",
    "\n",
    "# Best score\n",
    "gsGBC.best_score_"
   ]
  },
  {
   "cell_type": "code",
   "execution_count": 6372,
   "metadata": {
    "ExecuteTime": {
     "end_time": "2019-08-07T21:05:53.624423Z",
     "start_time": "2019-08-07T21:05:49.444512Z"
    }
   },
   "outputs": [
    {
     "name": "stdout",
     "output_type": "stream",
     "text": [
      "Fitting 3 folds for each of 28 candidates, totalling 84 fits\n"
     ]
    },
    {
     "name": "stderr",
     "output_type": "stream",
     "text": [
      "[Parallel(n_jobs=4)]: Using backend LokyBackend with 4 concurrent workers.\n",
      "[Parallel(n_jobs=4)]: Done  84 out of  84 | elapsed:    3.9s finished\n"
     ]
    },
    {
     "data": {
      "text/plain": [
       "0.8237934904601572"
      ]
     },
     "execution_count": 6372,
     "metadata": {},
     "output_type": "execute_result"
    }
   ],
   "source": [
    "### SVC classifier\n",
    "SVMC = SVC(probability=True)\n",
    "svc_param_grid = {'kernel': ['rbf'], \n",
    "                  'gamma': [ 0.001, 0.01, 0.1, 1],\n",
    "                  'C': [1, 10, 50, 100,200,300, 1000]}\n",
    "\n",
    "gsSVMC = GridSearchCV(SVMC,param_grid = svc_param_grid, cv=kfold, scoring=\"accuracy\", n_jobs= 4, verbose = 1)\n",
    "\n",
    "gsSVMC.fit(X_train,y_train)\n",
    "\n",
    "SVMC_best = gsSVMC.best_estimator_\n",
    "\n",
    "# Best score\n",
    "gsSVMC.best_score_"
   ]
  },
  {
   "cell_type": "code",
   "execution_count": 6373,
   "metadata": {
    "ExecuteTime": {
     "end_time": "2019-08-07T21:05:54.653649Z",
     "start_time": "2019-08-07T21:05:53.627925Z"
    }
   },
   "outputs": [
    {
     "name": "stdout",
     "output_type": "stream",
     "text": [
      "Fitting 3 folds for each of 112 candidates, totalling 336 fits\n"
     ]
    },
    {
     "name": "stderr",
     "output_type": "stream",
     "text": [
      "[Parallel(n_jobs=4)]: Using backend LokyBackend with 4 concurrent workers.\n",
      "[Parallel(n_jobs=4)]: Done 336 out of 336 | elapsed:    0.9s finished\n"
     ]
    },
    {
     "data": {
      "text/plain": [
       "0.7890011223344556"
      ]
     },
     "execution_count": 6373,
     "metadata": {},
     "output_type": "execute_result"
    }
   ],
   "source": [
    "### META MODELING  WITH ADABOOST, RF, EXTRATREES and GRADIENTBOOSTING\n",
    "\n",
    "# Adaboost\n",
    "DTC = DecisionTreeClassifier()\n",
    "\n",
    "adaDTC = AdaBoostClassifier(DTC, random_state=7)\n",
    "\n",
    "ada_param_grid = {\"base_estimator__criterion\" : [\"gini\", \"entropy\"],\n",
    "              \"base_estimator__splitter\" :   [\"best\", \"random\"],\n",
    "              \"algorithm\" : [\"SAMME\",\"SAMME.R\"],\n",
    "              \"n_estimators\" :[1,2],\n",
    "              \"learning_rate\":  [0.0001, 0.001, 0.01, 0.1, 0.2, 0.3,1.5]}\n",
    "\n",
    "gsadaDTC = GridSearchCV(adaDTC,param_grid = ada_param_grid, cv=kfold, scoring=\"accuracy\", n_jobs= 4, verbose = 1)\n",
    "\n",
    "gsadaDTC.fit(X_train,y_train)\n",
    "\n",
    "ada_best = gsadaDTC.best_estimator_\n",
    "\n",
    "gsadaDTC.best_score_"
   ]
  },
  {
   "cell_type": "code",
   "execution_count": 6374,
   "metadata": {
    "ExecuteTime": {
     "end_time": "2019-08-07T21:06:07.537629Z",
     "start_time": "2019-08-07T21:05:54.654651Z"
    }
   },
   "outputs": [
    {
     "name": "stderr",
     "output_type": "stream",
     "text": [
      "[Parallel(n_jobs=4)]: Using backend LokyBackend with 4 concurrent workers.\n"
     ]
    },
    {
     "name": "stdout",
     "output_type": "stream",
     "text": [
      "Fitting 3 folds for each of 54 candidates, totalling 162 fits\n"
     ]
    },
    {
     "name": "stderr",
     "output_type": "stream",
     "text": [
      "[Parallel(n_jobs=4)]: Done  76 tasks      | elapsed:    6.1s\n",
      "[Parallel(n_jobs=4)]: Done 162 out of 162 | elapsed:   12.7s finished\n"
     ]
    },
    {
     "data": {
      "text/plain": [
       "0.8294051627384961"
      ]
     },
     "execution_count": 6374,
     "metadata": {},
     "output_type": "execute_result"
    }
   ],
   "source": [
    "# RFC Parameters tunning \n",
    "RFC = RandomForestClassifier()\n",
    "\n",
    "\n",
    "## Search grid for optimal parameters\n",
    "rf_param_grid = {\"max_depth\": [None],\n",
    "                 \"max_features\": [1, 3, 0.1],\n",
    "                 \"min_samples_split\": [2, 3, 10],\n",
    "                 \"min_samples_leaf\": [1, 3, 10],\n",
    "                 \"bootstrap\": [False],\n",
    "                 \"n_estimators\" :[100,300],\n",
    "                \"criterion\": [\"gini\"]}\n",
    "\n",
    "\n",
    "gsRFC = GridSearchCV(RFC,param_grid = rf_param_grid, cv=kfold, scoring=\"accuracy\", n_jobs= 4, verbose = 1)\n",
    "\n",
    "gsRFC.fit(X_train,y_train)\n",
    "\n",
    "RFC_best = gsRFC.best_estimator_\n",
    "\n",
    "# Best score\n",
    "gsRFC.best_score_"
   ]
  },
  {
   "cell_type": "code",
   "execution_count": 6375,
   "metadata": {
    "ExecuteTime": {
     "end_time": "2019-08-07T21:06:10.573601Z",
     "start_time": "2019-08-07T21:06:07.539634Z"
    }
   },
   "outputs": [
    {
     "data": {
      "image/png": "[encoded data removed]",
      "text/plain": [
       "<Figure size 432x288 with 1 Axes>"
      ]
     },
     "metadata": {
      "needs_background": "light"
     },
     "output_type": "display_data"
    },
    {
     "data": {
      "image/png": "[encoded data removed]",
      "text/plain": [
       "<Figure size 432x288 with 1 Axes>"
      ]
     },
     "metadata": {
      "needs_background": "light"
     },
     "output_type": "display_data"
    },
    {
     "data": {
      "image/png": "[encoded data removed]",
      "text/plain": [
       "<Figure size 432x288 with 1 Axes>"
      ]
     },
     "metadata": {
      "needs_background": "light"
     },
     "output_type": "display_data"
    },
    {
     "data": {
      "image/png": "[encoded data removed]",
      "text/plain": [
       "<Figure size 432x288 with 1 Axes>"
      ]
     },
     "metadata": {
      "needs_background": "light"
     },
     "output_type": "display_data"
    },
    {
     "data": {
      "image/png": "[encoded data removed]",
      "text/plain": [
       "<Figure size 432x288 with 1 Axes>"
      ]
     },
     "metadata": {
      "needs_background": "light"
     },
     "output_type": "display_data"
    }
   ],
   "source": [
    "def plot_learning_curve(estimator, title, X, y, ylim=None, cv=None,\n",
    "                        n_jobs=-1, train_sizes=np.linspace(.1, 1.0, 5)):\n",
    "    \"\"\"Generate a simple plot of the test and training learning curve\"\"\"\n",
    "    plt.figure()\n",
    "    plt.title(title)\n",
    "    if ylim is not None:\n",
    "        plt.ylim(*ylim)\n",
    "    plt.xlabel(\"Training examples\")\n",
    "    plt.ylabel(\"Score\")\n",
    "    train_sizes, train_scores, test_scores = learning_curve(estimator, X, y, cv=cv, n_jobs=n_jobs, train_sizes=train_sizes)\n",
    "    train_scores_mean = np.mean(train_scores, axis=1)\n",
    "    train_scores_std = np.std(train_scores, axis=1)\n",
    "    test_scores_mean = np.mean(test_scores, axis=1)\n",
    "    test_scores_std = np.std(test_scores, axis=1)\n",
    "    plt.grid()\n",
    "\n",
    "    plt.fill_between(train_sizes, train_scores_mean - train_scores_std,\n",
    "                     train_scores_mean + train_scores_std, alpha=0.1,\n",
    "                     color=\"r\")\n",
    "    \n",
    "    plt.fill_between(train_sizes, test_scores_mean - test_scores_std,\n",
    "                     test_scores_mean + test_scores_std, alpha=0.1, color=\"g\")\n",
    "    \n",
    "    plt.plot(train_sizes, train_scores_mean, 'o-', color=\"r\",\n",
    "             label=\"Training score\")\n",
    "    \n",
    "    plt.plot(train_sizes, test_scores_mean, 'o-', color=\"g\",\n",
    "             label=\"Cross-validation score\")\n",
    "\n",
    "    plt.legend(loc=\"best\")\n",
    "    return plt\n",
    "\n",
    "g = plot_learning_curve(gsRFC.best_estimator_,\"RF mearning curves\",X_train,y_train,cv=kfold)\n",
    "g = plot_learning_curve(gsExtC.best_estimator_,\"ExtraTrees learning curves\",X_train,y_train,cv=kfold)\n",
    "g = plot_learning_curve(gsSVMC.best_estimator_,\"SVC learning curves\",X_train,y_train,cv=kfold)\n",
    "g = plot_learning_curve(gsadaDTC.best_estimator_,\"AdaBoost learning curves\",X_train,y_train,cv=kfold)\n",
    "g = plot_learning_curve(gsGBC.best_estimator_,\"GradientBoosting learning curves\",X_train,y_train,cv=kfold)"
   ]
  },
  {
   "cell_type": "markdown",
   "metadata": {
    "ExecuteTime": {
     "end_time": "2019-08-07T16:33:18.102088Z",
     "start_time": "2019-08-07T16:33:18.099103Z"
    }
   },
   "source": [
    "# Feature Selection Baseado em Algoritmos de Árvore"
   ]
  },
  {
   "cell_type": "code",
   "execution_count": 6377,
   "metadata": {
    "ExecuteTime": {
     "end_time": "2019-08-07T21:06:32.570727Z",
     "start_time": "2019-08-07T21:06:32.566724Z"
    }
   },
   "outputs": [],
   "source": [
    "X_feature_select= train.drop(labels = [\"Survived\"],axis = 1)"
   ]
  },
  {
   "cell_type": "code",
   "execution_count": 6378,
   "metadata": {
    "ExecuteTime": {
     "end_time": "2019-08-07T21:06:35.007872Z",
     "start_time": "2019-08-07T21:06:33.158820Z"
    }
   },
   "outputs": [
    {
     "data": {
      "image/png": "[encoded data removed]",
      "text/plain": [
       "<Figure size 1080x1080 with 4 Axes>"
      ]
     },
     "metadata": {
      "needs_background": "light"
     },
     "output_type": "display_data"
    }
   ],
   "source": [
    "nrows = ncols = 2\n",
    "fig, axes = plt.subplots(nrows = nrows, ncols = ncols, sharex=\"all\", figsize=(15,15))\n",
    "\n",
    "names_classifiers = [(\"AdaBoosting\", ada_best),(\"ExtraTrees\",ExtC_best),(\"RandomForest\",RFC_best),(\"GradientBoosting\",GBC_best)]\n",
    "\n",
    "nclassifier = 0\n",
    "for row in range(nrows):\n",
    "    for col in range(ncols):\n",
    "        name = names_classifiers[nclassifier][0]\n",
    "        classifier = names_classifiers[nclassifier][1]\n",
    "        indices = np.argsort(classifier.feature_importances_)[::-1][:40]\n",
    "        g = sns.barplot(y=X_feature_select.columns[indices][:40],x = classifier.feature_importances_[indices][:40] , orient='h',ax=axes[row][col])\n",
    "        g.set_xlabel(\"Relative importance\",fontsize=12)\n",
    "        g.set_ylabel(\"Features\",fontsize=12)\n",
    "        g.tick_params(labelsize=9)\n",
    "        g.set_title(name + \" feature importance\")\n",
    "        nclassifier += 1\n"
   ]
  },
  {
   "cell_type": "markdown",
   "metadata": {},
   "source": [
    "# Predict"
   ]
  },
  {
   "cell_type": "code",
   "execution_count": 6379,
   "metadata": {
    "ExecuteTime": {
     "end_time": "2019-08-07T21:07:03.818870Z",
     "start_time": "2019-08-07T21:07:03.811872Z"
    }
   },
   "outputs": [],
   "source": [
    "#y = np.array(train[[\"Survived\"]])\n",
    "#X = np.array(train.drop(labels = [\"Survived\"],axis = 1))\n",
    "y_test = np.array(test[[\"Survived\"]])\n",
    "X_test = np.array(test.drop(labels = [\"Survived\"],axis = 1))\n"
   ]
  },
  {
   "cell_type": "code",
   "execution_count": 6380,
   "metadata": {
    "ExecuteTime": {
     "end_time": "2019-08-07T21:07:04.419229Z",
     "start_time": "2019-08-07T21:07:04.244595Z"
    }
   },
   "outputs": [],
   "source": [
    "votingC = VotingClassifier(estimators=[#('rfc', RFC_best), \n",
    "                                       #('extc', ExtC_best),\n",
    "                                       ('svc', SVMC_best) ,\n",
    "                                       #('adac',ada_best),\n",
    "                                       #('gbc',GBC_best)\n",
    "                                       ], voting='soft', n_jobs=4)\n",
    "\n",
    "votingC = votingC.fit(X_train, y_train)"
   ]
  },
  {
   "cell_type": "code",
   "execution_count": 6381,
   "metadata": {
    "ExecuteTime": {
     "end_time": "2019-08-07T21:07:04.893665Z",
     "start_time": "2019-08-07T21:07:04.875652Z"
    }
   },
   "outputs": [],
   "source": [
    "test_Survived = pd.Series(votingC.predict(X_test), name=\"Survived\")\n",
    "\n",
    "results = pd.concat([IDtest,test_Survived],axis=1,ignore_index=False)\n",
    "\n",
    "results.to_csv(\"ensemble_python_voting.csv\",index=False)"
   ]
  },
  {
   "cell_type": "code",
   "execution_count": 6382,
   "metadata": {
    "ExecuteTime": {
     "end_time": "2019-08-07T21:07:05.621248Z",
     "start_time": "2019-08-07T21:07:05.606239Z"
    }
   },
   "outputs": [
    {
     "data": {
      "text/html": [
       "<div>\n",
       "<style scoped>\n",
       "    .dataframe tbody tr th:only-of-type {\n",
       "        vertical-align: middle;\n",
       "    }\n",
       "\n",
       "    .dataframe tbody tr th {\n",
       "        vertical-align: top;\n",
       "    }\n",
       "\n",
       "    .dataframe thead th {\n",
       "        text-align: right;\n",
       "    }\n",
       "</style>\n",
       "<table border=\"1\" class=\"dataframe\">\n",
       "  <thead>\n",
       "    <tr style=\"text-align: right;\">\n",
       "      <th></th>\n",
       "      <th>PassengerId</th>\n",
       "      <th>Survived</th>\n",
       "    </tr>\n",
       "  </thead>\n",
       "  <tbody>\n",
       "    <tr>\n",
       "      <th>0</th>\n",
       "      <td>892</td>\n",
       "      <td>0</td>\n",
       "    </tr>\n",
       "    <tr>\n",
       "      <th>1</th>\n",
       "      <td>893</td>\n",
       "      <td>1</td>\n",
       "    </tr>\n",
       "    <tr>\n",
       "      <th>2</th>\n",
       "      <td>894</td>\n",
       "      <td>0</td>\n",
       "    </tr>\n",
       "    <tr>\n",
       "      <th>3</th>\n",
       "      <td>895</td>\n",
       "      <td>0</td>\n",
       "    </tr>\n",
       "    <tr>\n",
       "      <th>4</th>\n",
       "      <td>896</td>\n",
       "      <td>1</td>\n",
       "    </tr>\n",
       "    <tr>\n",
       "      <th>5</th>\n",
       "      <td>897</td>\n",
       "      <td>0</td>\n",
       "    </tr>\n",
       "    <tr>\n",
       "      <th>6</th>\n",
       "      <td>898</td>\n",
       "      <td>1</td>\n",
       "    </tr>\n",
       "    <tr>\n",
       "      <th>7</th>\n",
       "      <td>899</td>\n",
       "      <td>0</td>\n",
       "    </tr>\n",
       "    <tr>\n",
       "      <th>8</th>\n",
       "      <td>900</td>\n",
       "      <td>1</td>\n",
       "    </tr>\n",
       "    <tr>\n",
       "      <th>9</th>\n",
       "      <td>901</td>\n",
       "      <td>0</td>\n",
       "    </tr>\n",
       "    <tr>\n",
       "      <th>10</th>\n",
       "      <td>902</td>\n",
       "      <td>0</td>\n",
       "    </tr>\n",
       "    <tr>\n",
       "      <th>11</th>\n",
       "      <td>903</td>\n",
       "      <td>0</td>\n",
       "    </tr>\n",
       "    <tr>\n",
       "      <th>12</th>\n",
       "      <td>904</td>\n",
       "      <td>1</td>\n",
       "    </tr>\n",
       "    <tr>\n",
       "      <th>13</th>\n",
       "      <td>905</td>\n",
       "      <td>0</td>\n",
       "    </tr>\n",
       "    <tr>\n",
       "      <th>14</th>\n",
       "      <td>906</td>\n",
       "      <td>1</td>\n",
       "    </tr>\n",
       "    <tr>\n",
       "      <th>15</th>\n",
       "      <td>907</td>\n",
       "      <td>1</td>\n",
       "    </tr>\n",
       "    <tr>\n",
       "      <th>16</th>\n",
       "      <td>908</td>\n",
       "      <td>0</td>\n",
       "    </tr>\n",
       "    <tr>\n",
       "      <th>17</th>\n",
       "      <td>909</td>\n",
       "      <td>0</td>\n",
       "    </tr>\n",
       "    <tr>\n",
       "      <th>18</th>\n",
       "      <td>910</td>\n",
       "      <td>1</td>\n",
       "    </tr>\n",
       "    <tr>\n",
       "      <th>19</th>\n",
       "      <td>911</td>\n",
       "      <td>1</td>\n",
       "    </tr>\n",
       "    <tr>\n",
       "      <th>20</th>\n",
       "      <td>912</td>\n",
       "      <td>0</td>\n",
       "    </tr>\n",
       "    <tr>\n",
       "      <th>21</th>\n",
       "      <td>913</td>\n",
       "      <td>1</td>\n",
       "    </tr>\n",
       "    <tr>\n",
       "      <th>22</th>\n",
       "      <td>914</td>\n",
       "      <td>1</td>\n",
       "    </tr>\n",
       "    <tr>\n",
       "      <th>23</th>\n",
       "      <td>915</td>\n",
       "      <td>0</td>\n",
       "    </tr>\n",
       "    <tr>\n",
       "      <th>24</th>\n",
       "      <td>916</td>\n",
       "      <td>1</td>\n",
       "    </tr>\n",
       "    <tr>\n",
       "      <th>25</th>\n",
       "      <td>917</td>\n",
       "      <td>0</td>\n",
       "    </tr>\n",
       "    <tr>\n",
       "      <th>26</th>\n",
       "      <td>918</td>\n",
       "      <td>1</td>\n",
       "    </tr>\n",
       "    <tr>\n",
       "      <th>27</th>\n",
       "      <td>919</td>\n",
       "      <td>0</td>\n",
       "    </tr>\n",
       "    <tr>\n",
       "      <th>28</th>\n",
       "      <td>920</td>\n",
       "      <td>0</td>\n",
       "    </tr>\n",
       "    <tr>\n",
       "      <th>29</th>\n",
       "      <td>921</td>\n",
       "      <td>0</td>\n",
       "    </tr>\n",
       "    <tr>\n",
       "      <th>...</th>\n",
       "      <td>...</td>\n",
       "      <td>...</td>\n",
       "    </tr>\n",
       "    <tr>\n",
       "      <th>388</th>\n",
       "      <td>1280</td>\n",
       "      <td>0</td>\n",
       "    </tr>\n",
       "    <tr>\n",
       "      <th>389</th>\n",
       "      <td>1281</td>\n",
       "      <td>0</td>\n",
       "    </tr>\n",
       "    <tr>\n",
       "      <th>390</th>\n",
       "      <td>1282</td>\n",
       "      <td>0</td>\n",
       "    </tr>\n",
       "    <tr>\n",
       "      <th>391</th>\n",
       "      <td>1283</td>\n",
       "      <td>1</td>\n",
       "    </tr>\n",
       "    <tr>\n",
       "      <th>392</th>\n",
       "      <td>1284</td>\n",
       "      <td>1</td>\n",
       "    </tr>\n",
       "    <tr>\n",
       "      <th>393</th>\n",
       "      <td>1285</td>\n",
       "      <td>0</td>\n",
       "    </tr>\n",
       "    <tr>\n",
       "      <th>394</th>\n",
       "      <td>1286</td>\n",
       "      <td>0</td>\n",
       "    </tr>\n",
       "    <tr>\n",
       "      <th>395</th>\n",
       "      <td>1287</td>\n",
       "      <td>1</td>\n",
       "    </tr>\n",
       "    <tr>\n",
       "      <th>396</th>\n",
       "      <td>1288</td>\n",
       "      <td>0</td>\n",
       "    </tr>\n",
       "    <tr>\n",
       "      <th>397</th>\n",
       "      <td>1289</td>\n",
       "      <td>1</td>\n",
       "    </tr>\n",
       "    <tr>\n",
       "      <th>398</th>\n",
       "      <td>1290</td>\n",
       "      <td>0</td>\n",
       "    </tr>\n",
       "    <tr>\n",
       "      <th>399</th>\n",
       "      <td>1291</td>\n",
       "      <td>0</td>\n",
       "    </tr>\n",
       "    <tr>\n",
       "      <th>400</th>\n",
       "      <td>1292</td>\n",
       "      <td>1</td>\n",
       "    </tr>\n",
       "    <tr>\n",
       "      <th>401</th>\n",
       "      <td>1293</td>\n",
       "      <td>0</td>\n",
       "    </tr>\n",
       "    <tr>\n",
       "      <th>402</th>\n",
       "      <td>1294</td>\n",
       "      <td>1</td>\n",
       "    </tr>\n",
       "    <tr>\n",
       "      <th>403</th>\n",
       "      <td>1295</td>\n",
       "      <td>0</td>\n",
       "    </tr>\n",
       "    <tr>\n",
       "      <th>404</th>\n",
       "      <td>1296</td>\n",
       "      <td>0</td>\n",
       "    </tr>\n",
       "    <tr>\n",
       "      <th>405</th>\n",
       "      <td>1297</td>\n",
       "      <td>0</td>\n",
       "    </tr>\n",
       "    <tr>\n",
       "      <th>406</th>\n",
       "      <td>1298</td>\n",
       "      <td>0</td>\n",
       "    </tr>\n",
       "    <tr>\n",
       "      <th>407</th>\n",
       "      <td>1299</td>\n",
       "      <td>0</td>\n",
       "    </tr>\n",
       "    <tr>\n",
       "      <th>408</th>\n",
       "      <td>1300</td>\n",
       "      <td>1</td>\n",
       "    </tr>\n",
       "    <tr>\n",
       "      <th>409</th>\n",
       "      <td>1301</td>\n",
       "      <td>1</td>\n",
       "    </tr>\n",
       "    <tr>\n",
       "      <th>410</th>\n",
       "      <td>1302</td>\n",
       "      <td>1</td>\n",
       "    </tr>\n",
       "    <tr>\n",
       "      <th>411</th>\n",
       "      <td>1303</td>\n",
       "      <td>1</td>\n",
       "    </tr>\n",
       "    <tr>\n",
       "      <th>412</th>\n",
       "      <td>1304</td>\n",
       "      <td>1</td>\n",
       "    </tr>\n",
       "    <tr>\n",
       "      <th>413</th>\n",
       "      <td>1305</td>\n",
       "      <td>0</td>\n",
       "    </tr>\n",
       "    <tr>\n",
       "      <th>414</th>\n",
       "      <td>1306</td>\n",
       "      <td>1</td>\n",
       "    </tr>\n",
       "    <tr>\n",
       "      <th>415</th>\n",
       "      <td>1307</td>\n",
       "      <td>0</td>\n",
       "    </tr>\n",
       "    <tr>\n",
       "      <th>416</th>\n",
       "      <td>1308</td>\n",
       "      <td>0</td>\n",
       "    </tr>\n",
       "    <tr>\n",
       "      <th>417</th>\n",
       "      <td>1309</td>\n",
       "      <td>1</td>\n",
       "    </tr>\n",
       "  </tbody>\n",
       "</table>\n",
       "<p>418 rows × 2 columns</p>\n",
       "</div>"
      ],
      "text/plain": [
       "     PassengerId Survived\n",
       "0            892        0\n",
       "1            893        1\n",
       "2            894        0\n",
       "3            895        0\n",
       "4            896        1\n",
       "5            897        0\n",
       "6            898        1\n",
       "7            899        0\n",
       "8            900        1\n",
       "9            901        0\n",
       "10           902        0\n",
       "11           903        0\n",
       "12           904        1\n",
       "13           905        0\n",
       "14           906        1\n",
       "15           907        1\n",
       "16           908        0\n",
       "17           909        0\n",
       "18           910        1\n",
       "19           911        1\n",
       "20           912        0\n",
       "21           913        1\n",
       "22           914        1\n",
       "23           915        0\n",
       "24           916        1\n",
       "25           917        0\n",
       "26           918        1\n",
       "27           919        0\n",
       "28           920        0\n",
       "29           921        0\n",
       "..           ...      ...\n",
       "388         1280        0\n",
       "389         1281        0\n",
       "390         1282        0\n",
       "391         1283        1\n",
       "392         1284        1\n",
       "393         1285        0\n",
       "394         1286        0\n",
       "395         1287        1\n",
       "396         1288        0\n",
       "397         1289        1\n",
       "398         1290        0\n",
       "399         1291        0\n",
       "400         1292        1\n",
       "401         1293        0\n",
       "402         1294        1\n",
       "403         1295        0\n",
       "404         1296        0\n",
       "405         1297        0\n",
       "406         1298        0\n",
       "407         1299        0\n",
       "408         1300        1\n",
       "409         1301        1\n",
       "410         1302        1\n",
       "411         1303        1\n",
       "412         1304        1\n",
       "413         1305        0\n",
       "414         1306        1\n",
       "415         1307        0\n",
       "416         1308        0\n",
       "417         1309        1\n",
       "\n",
       "[418 rows x 2 columns]"
      ]
     },
     "execution_count": 6382,
     "metadata": {},
     "output_type": "execute_result"
    }
   ],
   "source": [
    "results"
   ]
  },
  {
   "cell_type": "code",
   "execution_count": 4236,
   "metadata": {
    "ExecuteTime": {
     "end_time": "2019-08-07T16:03:22.247865Z",
     "start_time": "2019-08-07T16:03:22.210840Z"
    }
   },
   "outputs": [],
   "source": [
    "#test_Survived_RFC = pd.Series(RFC_best.predict(X_test),   name=\"RFC\")\n",
    "#test_Survived_ExtC = pd.Series(ExtC_best.predict(X_test), name=\"ExtC\")\n",
    "#test_Survived_SVMC = pd.Series(SVMC_best.predict(X_test), name=\"SVC\")\n",
    "#test_Survived_AdaC = pd.Series(ada_best.predict(X_test),  name=\"Ada\")\n",
    "#test_Survived_GBC = pd.Series(GBC_best.predict(X_test),   name=\"GBC\")\n",
    "\n",
    "\n",
    "#Concatenate all classifier results\n",
    "#ensemble_results = pd.concat([test_Survived_RFC,test_Survived_ExtC,test_Survived_AdaC,test_Survived_GBC, test_Survived_SVMC],axis=1)\n",
    "\n",
    "#g=sns.heatmap(ensemble_results[['RFC','ExtC','Ada','GBC','SVC' ]].corr(),annot=True)\n",
    "\n"
   ]
  },
  {
   "cell_type": "code",
   "execution_count": 4231,
   "metadata": {
    "ExecuteTime": {
     "end_time": "2019-08-07T16:01:03.704124Z",
     "start_time": "2019-08-07T16:01:03.694118Z"
    }
   },
   "outputs": [
    {
     "data": {
      "text/html": [
       "<div>\n",
       "<style scoped>\n",
       "    .dataframe tbody tr th:only-of-type {\n",
       "        vertical-align: middle;\n",
       "    }\n",
       "\n",
       "    .dataframe tbody tr th {\n",
       "        vertical-align: top;\n",
       "    }\n",
       "\n",
       "    .dataframe thead th {\n",
       "        text-align: right;\n",
       "    }\n",
       "</style>\n",
       "<table border=\"1\" class=\"dataframe\">\n",
       "  <thead>\n",
       "    <tr style=\"text-align: right;\">\n",
       "      <th></th>\n",
       "      <th>RFC</th>\n",
       "      <th>ExtC</th>\n",
       "      <th>Ada</th>\n",
       "      <th>GBC</th>\n",
       "      <th>SVC</th>\n",
       "    </tr>\n",
       "  </thead>\n",
       "  <tbody>\n",
       "    <tr>\n",
       "      <th>0</th>\n",
       "      <td>0</td>\n",
       "      <td>0</td>\n",
       "      <td>0</td>\n",
       "      <td>0</td>\n",
       "      <td>0</td>\n",
       "    </tr>\n",
       "    <tr>\n",
       "      <th>1</th>\n",
       "      <td>0</td>\n",
       "      <td>0</td>\n",
       "      <td>0</td>\n",
       "      <td>0</td>\n",
       "      <td>0</td>\n",
       "    </tr>\n",
       "  </tbody>\n",
       "</table>\n",
       "</div>"
      ],
      "text/plain": [
       "  RFC ExtC Ada GBC SVC\n",
       "0   0    0   0   0   0\n",
       "1   0    0   0   0   0"
      ]
     },
     "execution_count": 4231,
     "metadata": {},
     "output_type": "execute_result"
    }
   ],
   "source": [
    "ensemble_results.head(2)"
   ]
  }
 ],
 "metadata": {
  "gist": {
   "data": {
    "description": "https://github.com/Pantoja87/Titanic-Disaster.git",
    "public": true
   },
   "id": ""
  },
  "hide_input": false,
  "kernelspec": {
   "display_name": "Python 3",
   "language": "python",
   "name": "python3"
  },
  "language_info": {
   "codemirror_mode": {
    "name": "ipython",
    "version": 3
   },
   "file_extension": ".py",
   "mimetype": "text/x-python",
   "name": "python",
   "nbconvert_exporter": "python",
   "pygments_lexer": "ipython3",
   "version": "3.6.4"
  },
  "nbTranslate": {
   "displayLangs": [
    "*"
   ],
   "hotkey": "alt-t",
   "langInMainMenu": true,
   "sourceLang": "en",
   "targetLang": "fr",
   "useGoogleTranslate": true
  },
  "toc": {
   "base_numbering": 1,
   "nav_menu": {},
   "number_sections": true,
   "sideBar": true,
   "skip_h1_title": false,
   "title_cell": "Table of Contents",
   "title_sidebar": "Contents",
   "toc_cell": true,
   "toc_position": {
    "height": "calc(100% - 180px)",
    "left": "10px",
    "top": "150px",
    "width": "165px"
   },
   "toc_section_display": true,
   "toc_window_display": true
  },
  "varInspector": {
   "cols": {
    "lenName": 16,
    "lenType": 16,
    "lenVar": 40
   },
   "kernels_config": {
    "python": {
     "delete_cmd_postfix": "",
     "delete_cmd_prefix": "del ",
     "library": "var_list.py",
     "varRefreshCmd": "print(var_dic_list())"
    },
    "r": {
     "delete_cmd_postfix": ") ",
     "delete_cmd_prefix": "rm(",
     "library": "var_list.r",
     "varRefreshCmd": "cat(var_dic_list()) "
    }
   },
   "types_to_exclude": [
    "module",
    "function",
    "builtin_function_or_method",
    "instance",
    "_Feature"
   ],
   "window_display": false
  }
 },
 "nbformat": 4,
 "nbformat_minor": 2
}
