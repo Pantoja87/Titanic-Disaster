{
 "cells": [
  {
   "cell_type": "markdown",
   "metadata": {
    "toc": true
   },
   "source": [
    "<h1>Table of Contents<span class=\"tocSkip\"></span></h1>\n",
    "<div class=\"toc\"><ul class=\"toc-item\"><li><span><a href=\"#Import-Dataset-Titanic\" data-toc-modified-id=\"Import-Dataset-Titanic-1\"><span class=\"toc-item-num\">1&nbsp;&nbsp;</span>Import Dataset Titanic</a></span><ul class=\"toc-item\"><li><span><a href=\"#Join-datasets\" data-toc-modified-id=\"Join-datasets-1.1\"><span class=\"toc-item-num\">1.1&nbsp;&nbsp;</span>Join datasets</a></span></li></ul></li><li><span><a href=\"#Analise-exploratoria-do-Dataset\" data-toc-modified-id=\"Analise-exploratoria-do-Dataset-2\"><span class=\"toc-item-num\">2&nbsp;&nbsp;</span>Analise exploratoria do Dataset</a></span></li><li><span><a href=\"#Missing-Values\" data-toc-modified-id=\"Missing-Values-3\"><span class=\"toc-item-num\">3&nbsp;&nbsp;</span>Missing Values</a></span><ul class=\"toc-item\"><li><span><a href=\"#input-Age\" data-toc-modified-id=\"input-Age-3.1\"><span class=\"toc-item-num\">3.1&nbsp;&nbsp;</span>input Age</a></span></li><li><span><a href=\"#Input-Fare\" data-toc-modified-id=\"Input-Fare-3.2\"><span class=\"toc-item-num\">3.2&nbsp;&nbsp;</span>Input Fare</a></span></li><li><span><a href=\"#Input-Cabin\" data-toc-modified-id=\"Input-Cabin-3.3\"><span class=\"toc-item-num\">3.3&nbsp;&nbsp;</span>Input Cabin</a></span></li></ul></li><li><span><a href=\"#Continuando-analise-exploratória\" data-toc-modified-id=\"Continuando-analise-exploratória-4\"><span class=\"toc-item-num\">4&nbsp;&nbsp;</span>Continuando analise exploratória</a></span></li><li><span><a href=\"#Feature-Engineer\" data-toc-modified-id=\"Feature-Engineer-5\"><span class=\"toc-item-num\">5&nbsp;&nbsp;</span>Feature Engineer</a></span><ul class=\"toc-item\"><li><span><a href=\"#Sibsp\" data-toc-modified-id=\"Sibsp-5.1\"><span class=\"toc-item-num\">5.1&nbsp;&nbsp;</span>Sibsp</a></span></li><li><span><a href=\"#Parch\" data-toc-modified-id=\"Parch-5.2\"><span class=\"toc-item-num\">5.2&nbsp;&nbsp;</span>Parch</a></span></li><li><span><a href=\"#Nomrmalização-Age-e-Fare-Min/Max\" data-toc-modified-id=\"Nomrmalização-Age-e-Fare-Min/Max-5.3\"><span class=\"toc-item-num\">5.3&nbsp;&nbsp;</span>Nomrmalização Age e Fare Min/Max</a></span></li><li><span><a href=\"#Ft_Prioridade\" data-toc-modified-id=\"Ft_Prioridade-5.4\"><span class=\"toc-item-num\">5.4&nbsp;&nbsp;</span>Ft_Prioridade</a></span></li></ul></li><li><span><a href=\"#Label-Enconding\" data-toc-modified-id=\"Label-Enconding-6\"><span class=\"toc-item-num\">6&nbsp;&nbsp;</span>Label Enconding</a></span><ul class=\"toc-item\"><li><span><a href=\"#Binarização\" data-toc-modified-id=\"Binarização-6.1\"><span class=\"toc-item-num\">6.1&nbsp;&nbsp;</span>Binarização</a></span></li></ul></li><li><span><a href=\"#Construindo-Modelo\" data-toc-modified-id=\"Construindo-Modelo-7\"><span class=\"toc-item-num\">7&nbsp;&nbsp;</span>Construindo Modelo</a></span></li><li><span><a href=\"#Feature-Selection-Baseado-em-Algoritmos-de-Árvore\" data-toc-modified-id=\"Feature-Selection-Baseado-em-Algoritmos-de-Árvore-8\"><span class=\"toc-item-num\">8&nbsp;&nbsp;</span>Feature Selection Baseado em Algoritmos de Árvore</a></span></li><li><span><a href=\"#Predict\" data-toc-modified-id=\"Predict-9\"><span class=\"toc-item-num\">9&nbsp;&nbsp;</span>Predict</a></span></li></ul></div>"
   ]
  },
  {
   "cell_type": "code",
   "execution_count": 305,
   "metadata": {
    "ExecuteTime": {
     "end_time": "2019-08-15T16:01:52.544949Z",
     "start_time": "2019-08-15T16:01:52.533956Z"
    }
   },
   "outputs": [],
   "source": [
    "\n",
    "import pandas as pd\n",
    "import numpy as np\n",
    "import matplotlib.pyplot as plt\n",
    "import seaborn as sns\n",
    "\n",
    "from sklearn.model_selection import GridSearchCV, cross_val_score, StratifiedKFold, learning_curve\n",
    "from sklearn.ensemble import RandomForestClassifier, AdaBoostClassifier, GradientBoostingClassifier, ExtraTreesClassifier, VotingClassifier\n",
    "from sklearn.discriminant_analysis import LinearDiscriminantAnalysis\n",
    "from sklearn.linear_model import LogisticRegression\n",
    "from sklearn.neighbors import KNeighborsClassifier\n",
    "from sklearn.tree import DecisionTreeClassifier\n",
    "from sklearn.neural_network import MLPClassifier\n",
    "from sklearn.svm import SVC\n",
    "\n",
    "from sklearn.preprocessing import LabelEncoder,OneHotEncoder\n",
    "\n",
    "from sklearn.metrics import classification_report\n",
    "from sklearn.metrics import confusion_matrix\n",
    "from sklearn.neighbors import KNeighborsClassifier \n",
    "from sklearn.model_selection import train_test_split\n",
    "\n",
    "#IMAGENS.\n",
    "from IPython.display import Image as img\n",
    "\n",
    "#OUTROS.\n",
    "%matplotlib inline\n",
    "import warnings\n",
    "warnings.filterwarnings('ignore')"
   ]
  },
  {
   "cell_type": "markdown",
   "metadata": {},
   "source": [
    " # Import Dataset Titanic"
   ]
  },
  {
   "cell_type": "code",
   "execution_count": 306,
   "metadata": {
    "ExecuteTime": {
     "end_time": "2019-08-15T16:01:52.658046Z",
     "start_time": "2019-08-15T16:01:52.547450Z"
    }
   },
   "outputs": [],
   "source": [
    "train_csv= pd.read_csv('train.csv')\n",
    "test_csv = pd.read_csv('test.csv')"
   ]
  },
  {
   "cell_type": "code",
   "execution_count": 307,
   "metadata": {
    "ExecuteTime": {
     "end_time": "2019-08-15T16:01:52.750111Z",
     "start_time": "2019-08-15T16:01:52.660047Z"
    }
   },
   "outputs": [
    {
     "name": "stdout",
     "output_type": "stream",
     "text": [
      "<class 'pandas.core.frame.DataFrame'>\n",
      "RangeIndex: 891 entries, 0 to 890\n",
      "Data columns (total 12 columns):\n",
      "PassengerId    891 non-null int64\n",
      "Survived       891 non-null int64\n",
      "Pclass         891 non-null int64\n",
      "Name           891 non-null object\n",
      "Sex            891 non-null object\n",
      "Age            714 non-null float64\n",
      "SibSp          891 non-null int64\n",
      "Parch          891 non-null int64\n",
      "Ticket         891 non-null object\n",
      "Fare           891 non-null float64\n",
      "Cabin          204 non-null object\n",
      "Embarked       889 non-null object\n",
      "dtypes: float64(2), int64(5), object(5)\n",
      "memory usage: 66.2+ KB\n"
     ]
    }
   ],
   "source": [
    "train_csv.info()"
   ]
  },
  {
   "cell_type": "code",
   "execution_count": 308,
   "metadata": {
    "ExecuteTime": {
     "end_time": "2019-08-15T16:01:52.848776Z",
     "start_time": "2019-08-15T16:01:52.752613Z"
    }
   },
   "outputs": [
    {
     "name": "stdout",
     "output_type": "stream",
     "text": [
      "<class 'pandas.core.frame.DataFrame'>\n",
      "RangeIndex: 418 entries, 0 to 417\n",
      "Data columns (total 11 columns):\n",
      "PassengerId    418 non-null int64\n",
      "Pclass         418 non-null int64\n",
      "Name           418 non-null object\n",
      "Sex            418 non-null object\n",
      "Age            332 non-null float64\n",
      "SibSp          418 non-null int64\n",
      "Parch          418 non-null int64\n",
      "Ticket         418 non-null object\n",
      "Fare           417 non-null float64\n",
      "Cabin          91 non-null object\n",
      "Embarked       418 non-null object\n",
      "dtypes: float64(2), int64(4), object(5)\n",
      "memory usage: 27.8+ KB\n"
     ]
    }
   ],
   "source": [
    "test_csv.info()"
   ]
  },
  {
   "cell_type": "markdown",
   "metadata": {},
   "source": [
    "## Join datasets"
   ]
  },
  {
   "cell_type": "code",
   "execution_count": 309,
   "metadata": {
    "ExecuteTime": {
     "end_time": "2019-08-15T16:01:52.948661Z",
     "start_time": "2019-08-15T16:01:52.850257Z"
    }
   },
   "outputs": [],
   "source": [
    "titanic=pd.concat([train_csv,test_csv],axis=0,ignore_index=False)\n"
   ]
  },
  {
   "cell_type": "code",
   "execution_count": 310,
   "metadata": {
    "ExecuteTime": {
     "end_time": "2019-08-15T16:01:53.057662Z",
     "start_time": "2019-08-15T16:01:52.950164Z"
    }
   },
   "outputs": [
    {
     "name": "stdout",
     "output_type": "stream",
     "text": [
      "<class 'pandas.core.frame.DataFrame'>\n",
      "Int64Index: 1309 entries, 0 to 417\n",
      "Data columns (total 12 columns):\n",
      "Age            1046 non-null float64\n",
      "Cabin          295 non-null object\n",
      "Embarked       1307 non-null object\n",
      "Fare           1308 non-null float64\n",
      "Name           1309 non-null object\n",
      "Parch          1309 non-null int64\n",
      "PassengerId    1309 non-null int64\n",
      "Pclass         1309 non-null int64\n",
      "Sex            1309 non-null object\n",
      "SibSp          1309 non-null int64\n",
      "Survived       891 non-null float64\n",
      "Ticket         1309 non-null object\n",
      "dtypes: float64(3), int64(4), object(5)\n",
      "memory usage: 107.4+ KB\n"
     ]
    }
   ],
   "source": [
    "titanic.info()"
   ]
  },
  {
   "cell_type": "markdown",
   "metadata": {},
   "source": [
    "# Analise exploratoria do Dataset "
   ]
  },
  {
   "cell_type": "code",
   "execution_count": 311,
   "metadata": {
    "ExecuteTime": {
     "end_time": "2019-08-15T16:01:53.146666Z",
     "start_time": "2019-08-15T16:01:53.058663Z"
    }
   },
   "outputs": [
    {
     "name": "stdout",
     "output_type": "stream",
     "text": [
      "Percentual de Sobreviventes x Não Sobreviventes -  Survived\n",
      "0.0    41.94\n",
      "1.0    26.13\n",
      "Name: Sex, dtype: float64\n"
     ]
    }
   ],
   "source": [
    "print('Percentual de Sobreviventes x Não Sobreviventes - ',\n",
    "       round(titanic.groupby('Survived').Sex.count()/titanic.Name.count()*100,2))"
   ]
  },
  {
   "cell_type": "code",
   "execution_count": 312,
   "metadata": {
    "ExecuteTime": {
     "end_time": "2019-08-15T16:01:53.239244Z",
     "start_time": "2019-08-15T16:01:53.149669Z"
    }
   },
   "outputs": [
    {
     "name": "stdout",
     "output_type": "stream",
     "text": [
      "Missig Values:\n"
     ]
    },
    {
     "data": {
      "text/plain": [
       "Age             263\n",
       "Cabin          1014\n",
       "Embarked          2\n",
       "Fare              1\n",
       "Name              0\n",
       "Parch             0\n",
       "PassengerId       0\n",
       "Pclass            0\n",
       "Sex               0\n",
       "SibSp             0\n",
       "Survived        418\n",
       "Ticket            0\n",
       "dtype: int64"
      ]
     },
     "execution_count": 312,
     "metadata": {},
     "output_type": "execute_result"
    }
   ],
   "source": [
    "print('Missig Values:')\n",
    "titanic.isnull().sum()"
   ]
  },
  {
   "cell_type": "markdown",
   "metadata": {},
   "source": [
    "* Cabin e Age são os que mais faltam valores\n",
    "* Survived são do conjunto de teste, é o que vamos prever, por isso estão nulos"
   ]
  },
  {
   "cell_type": "code",
   "execution_count": 313,
   "metadata": {
    "ExecuteTime": {
     "end_time": "2019-08-15T16:01:53.493560Z",
     "start_time": "2019-08-15T16:01:53.241748Z"
    }
   },
   "outputs": [
    {
     "data": {
      "text/plain": [
       "Text(0.5, 1.0, 'Distribution of the field Age')"
      ]
     },
     "execution_count": 313,
     "metadata": {},
     "output_type": "execute_result"
    },
    {
     "data": {
      "image/png": "[encoded data removed]",
      "text/plain": [
       "<Figure size 432x288 with 1 Axes>"
      ]
     },
     "metadata": {
      "needs_background": "light"
     },
     "output_type": "display_data"
    }
   ],
   "source": [
    "titanic.Age.hist()\n",
    "plt.title(\"Distribution of the field Age\")"
   ]
  },
  {
   "cell_type": "markdown",
   "metadata": {},
   "source": [
    "* there are a concentration of the age between 18 and 35 years"
   ]
  },
  {
   "cell_type": "code",
   "execution_count": 314,
   "metadata": {
    "ExecuteTime": {
     "end_time": "2019-08-15T16:01:53.653174Z",
     "start_time": "2019-08-15T16:01:53.494549Z"
    }
   },
   "outputs": [
    {
     "data": {
      "text/plain": [
       "Text(0.5, 1.0, 'Distribution of the field Fare')"
      ]
     },
     "execution_count": 314,
     "metadata": {},
     "output_type": "execute_result"
    },
    {
     "data": {
      "image/png": "[encoded data removed]",
      "text/plain": [
       "<Figure size 432x288 with 1 Axes>"
      ]
     },
     "metadata": {
      "needs_background": "light"
     },
     "output_type": "display_data"
    }
   ],
   "source": [
    "titanic.Fare.hist()\n",
    "plt.title(\"Distribution of the field Fare\")"
   ]
  },
  {
   "cell_type": "markdown",
   "metadata": {},
   "source": [
    "* there are a concentration of the Fare between 0 and 50"
   ]
  },
  {
   "cell_type": "markdown",
   "metadata": {},
   "source": [
    "# Missing Values"
   ]
  },
  {
   "cell_type": "markdown",
   "metadata": {},
   "source": [
    " Com base no valores da feature Age e Cabin, vamos começar por elas o preenchimento dos \"Missing Values\""
   ]
  },
  {
   "cell_type": "markdown",
   "metadata": {},
   "source": [
    "## input Age"
   ]
  },
  {
   "cell_type": "markdown",
   "metadata": {},
   "source": [
    "Analise exploratoria de Age para encontrar a melhor maneira de inputar os dados"
   ]
  },
  {
   "cell_type": "markdown",
   "metadata": {},
   "source": [
    "Antes irei Criar uma nova coluna Suvived com Label- \"Vivo/Morto\""
   ]
  },
  {
   "cell_type": "code",
   "execution_count": 315,
   "metadata": {
    "ExecuteTime": {
     "end_time": "2019-08-15T16:01:53.855557Z",
     "start_time": "2019-08-15T16:01:53.654676Z"
    }
   },
   "outputs": [
    {
     "data": {
      "text/plain": [
       "Text(0.5, 1.0, 'Boxplot - Age x Survived')"
      ]
     },
     "execution_count": 315,
     "metadata": {},
     "output_type": "execute_result"
    },
    {
     "data": {
      "image/png": "[encoded data removed]",
      "text/plain": [
       "<Figure size 432x432 with 1 Axes>"
      ]
     },
     "metadata": {
      "needs_background": "light"
     },
     "output_type": "display_data"
    }
   ],
   "source": [
    "g = sns.factorplot(x=\"Survived\",y=\"Age\", hue ='Survived',data=titanic,kind=\"box\", size = 6 , \n",
    "palette = \"muted\")\n",
    "g.despine(left=True)\n",
    "g = g.set_ylabels(\"Age\")\n",
    "plt.title('Boxplot - Age x Survived')"
   ]
  },
  {
   "cell_type": "code",
   "execution_count": 316,
   "metadata": {
    "ExecuteTime": {
     "end_time": "2019-08-15T16:01:54.139142Z",
     "start_time": "2019-08-15T16:01:53.857541Z"
    }
   },
   "outputs": [
    {
     "data": {
      "text/plain": [
       "Text(0.5, 1.0, 'Boxplot - Age x Survived por Sex')"
      ]
     },
     "execution_count": 316,
     "metadata": {},
     "output_type": "execute_result"
    },
    {
     "data": {
      "image/png": "[encoded data removed]",
      "text/plain": [
       "<Figure size 483.875x432 with 1 Axes>"
      ]
     },
     "metadata": {
      "needs_background": "light"
     },
     "output_type": "display_data"
    }
   ],
   "source": [
    "g = sns.factorplot(x=\"Sex\",y=\"Age\", hue ='Survived',data=titanic,kind=\"box\", size = 6 , \n",
    "palette = \"muted\")\n",
    "g.despine(left=True)\n",
    "g = g.set_ylabels(\"Age\")\n",
    "plt.title('Boxplot - Age x Survived por Sex')"
   ]
  },
  {
   "cell_type": "code",
   "execution_count": 317,
   "metadata": {
    "ExecuteTime": {
     "end_time": "2019-08-15T16:01:54.452779Z",
     "start_time": "2019-08-15T16:01:54.140148Z"
    }
   },
   "outputs": [
    {
     "data": {
      "text/plain": [
       "Text(0.5, 1.0, 'Boxplot - Age x Survived por Pclass')"
      ]
     },
     "execution_count": 317,
     "metadata": {},
     "output_type": "execute_result"
    },
    {
     "data": {
      "image/png": "[encoded data removed]",
      "text/plain": [
       "<Figure size 483.875x432 with 1 Axes>"
      ]
     },
     "metadata": {
      "needs_background": "light"
     },
     "output_type": "display_data"
    }
   ],
   "source": [
    "g = sns.factorplot(x=\"Pclass\",y=\"Age\", hue ='Survived',data=titanic,kind=\"box\", size = 6 , \n",
    "palette = \"muted\")\n",
    "g.despine(left=True)\n",
    "g = g.set_ylabels(\"Age\")\n",
    "plt.title('Boxplot - Age x Survived por Pclass')"
   ]
  },
  {
   "cell_type": "markdown",
   "metadata": {},
   "source": [
    "* Nitidamente podemos visualizar que conforme nivel Pclass aumenta(menor classe) a idade diminui.\n",
    "* Conforme visualizações acima Pclass é uma boa feature para inputar Age faltante,ou seja,por Pclass.\n"
   ]
  },
  {
   "cell_type": "markdown",
   "metadata": {},
   "source": [
    "***A Coluna Name também pode nos ajudar, pois nela há titulos, mr, miss, etc***"
   ]
  },
  {
   "cell_type": "code",
   "execution_count": 318,
   "metadata": {
    "ExecuteTime": {
     "end_time": "2019-08-15T16:01:54.460151Z",
     "start_time": "2019-08-15T16:01:54.454279Z"
    }
   },
   "outputs": [],
   "source": [
    "titanic['Title']=[i.split(\",\")[1].split(\".\")[0].strip() for i in titanic[\"Name\"]]"
   ]
  },
  {
   "cell_type": "code",
   "execution_count": 319,
   "metadata": {
    "ExecuteTime": {
     "end_time": "2019-08-15T16:01:54.547484Z",
     "start_time": "2019-08-15T16:01:54.461162Z"
    }
   },
   "outputs": [
    {
     "data": {
      "text/plain": [
       "Embarked\n",
       "C    270\n",
       "Q    123\n",
       "S    914\n",
       "Name: Title, dtype: int64"
      ]
     },
     "execution_count": 319,
     "metadata": {},
     "output_type": "execute_result"
    }
   ],
   "source": [
    "titanic.groupby('Embarked').Title.count()"
   ]
  },
  {
   "cell_type": "code",
   "execution_count": 320,
   "metadata": {
    "ExecuteTime": {
     "end_time": "2019-08-15T16:01:55.007636Z",
     "start_time": "2019-08-15T16:01:54.549471Z"
    }
   },
   "outputs": [
    {
     "data": {
      "text/plain": [
       "Text(0.5, 1.0, 'Quantidade de passageiros por Title')"
      ]
     },
     "execution_count": 320,
     "metadata": {},
     "output_type": "execute_result"
    },
    {
     "data": {
      "image/png": "[encoded data removed]",
      "text/plain": [
       "<Figure size 1080x1080 with 1 Axes>"
      ]
     },
     "metadata": {
      "needs_background": "light"
     },
     "output_type": "display_data"
    }
   ],
   "source": [
    "g = sns.factorplot(\"Title\",\n",
    "                   data=titanic,\n",
    "                   size=15, \n",
    "                   kind=\"count\", \n",
    "                   palette=\"muted\")\n",
    "g.despine(left=True)\n",
    "g = g.set_ylabels(\"Count\")\n",
    "plt.title('Quantidade de passageiros por Title')"
   ]
  },
  {
   "cell_type": "markdown",
   "metadata": {},
   "source": [
    "* Há uma padrão em Mr, Mrs, Miss e Master\n",
    "* Vamos agrupar os outros que possuem poucos passageiros"
   ]
  },
  {
   "cell_type": "code",
   "execution_count": 321,
   "metadata": {
    "ExecuteTime": {
     "end_time": "2019-08-15T16:01:55.016644Z",
     "start_time": "2019-08-15T16:01:55.008638Z"
    }
   },
   "outputs": [],
   "source": [
    "titanic[\"Title\"] = titanic[\"Title\"].replace(['Lady', 'the Countess','Countess','Capt', 'Col','Don', 'Dr', 'Major', 'Rev', 'Sir', 'Jonkheer', 'Dona'], 'Rare')\n",
    "titanic[\"Title\"] = titanic[\"Title\"].replace(['Mme','Mlle','Ms'], 'Miss')"
   ]
  },
  {
   "cell_type": "code",
   "execution_count": 322,
   "metadata": {
    "ExecuteTime": {
     "end_time": "2019-08-15T16:01:55.288815Z",
     "start_time": "2019-08-15T16:01:55.018645Z"
    }
   },
   "outputs": [
    {
     "data": {
      "text/plain": [
       "Text(0.5, 1.0, 'Quantidade de passageiros por Title')"
      ]
     },
     "execution_count": 322,
     "metadata": {},
     "output_type": "execute_result"
    },
    {
     "data": {
      "image/png": "[encoded data removed]",
      "text/plain": [
       "<Figure size 432x432 with 1 Axes>"
      ]
     },
     "metadata": {
      "needs_background": "light"
     },
     "output_type": "display_data"
    }
   ],
   "source": [
    "g = sns.factorplot(\"Title\",\n",
    "                   data=titanic,\n",
    "                   size=6, \n",
    "                   kind=\"count\", \n",
    "                   palette=\"muted\")\n",
    "g.despine(left=True)\n",
    "g = g.set_ylabels(\"Count\")\n",
    "plt.title('Quantidade de passageiros por Title')"
   ]
  },
  {
   "cell_type": "code",
   "execution_count": 323,
   "metadata": {
    "ExecuteTime": {
     "end_time": "2019-08-15T16:01:55.296810Z",
     "start_time": "2019-08-15T16:01:55.289806Z"
    }
   },
   "outputs": [
    {
     "data": {
      "text/plain": [
       "Title\n",
       "Master     61\n",
       "Miss      265\n",
       "Mr        757\n",
       "Mrs       197\n",
       "Rare       29\n",
       "Name: Title, dtype: int64"
      ]
     },
     "execution_count": 323,
     "metadata": {},
     "output_type": "execute_result"
    }
   ],
   "source": [
    "titanic.groupby('Title').Title.count()"
   ]
  },
  {
   "cell_type": "markdown",
   "metadata": {},
   "source": [
    "* Master - Homens Jovens\n",
    "* Miss - é usado antes de sobrenomes ou nomes completos de mulheres que não são casadas. É algo próximo a “senhorita”, em português.\n",
    "\n",
    "* Mr - Se utiliza antes de sobrenomes ou nomes completos de homens em geral, independente do seu estado civil.\n",
    "* Mrs- é usado antes de sobrenomes ou nomes completos de mulheres casadas.\n",
    "* Ms- é usado antes de sobrenomes ou nomes completos de mulheres em geral,independente do seu estado civil\n",
    "\n",
    "\n"
   ]
  },
  {
   "cell_type": "code",
   "execution_count": 324,
   "metadata": {
    "ExecuteTime": {
     "end_time": "2019-08-15T16:01:55.386945Z",
     "start_time": "2019-08-15T16:01:55.297811Z"
    }
   },
   "outputs": [],
   "source": [
    "titanic['Ft_Acompanhado'] = titanic['SibSp'] + titanic['Parch']"
   ]
  },
  {
   "cell_type": "code",
   "execution_count": 325,
   "metadata": {
    "ExecuteTime": {
     "end_time": "2019-08-15T16:01:57.120152Z",
     "start_time": "2019-08-15T16:01:57.110163Z"
    }
   },
   "outputs": [
    {
     "data": {
      "text/plain": [
       "0"
      ]
     },
     "execution_count": 325,
     "metadata": {},
     "output_type": "execute_result"
    }
   ],
   "source": [
    "mode =  titanic.Embarked.mode()\n",
    "titanic.loc[titanic.Embarked.isna(),'Embarked'] = 'S'\n"
   ]
  },
  {
   "cell_type": "code",
   "execution_count": 326,
   "metadata": {
    "ExecuteTime": {
     "end_time": "2019-08-15T16:01:57.792794Z",
     "start_time": "2019-08-15T16:01:57.782788Z"
    }
   },
   "outputs": [],
   "source": [
    "df_media= titanic.groupby(['Ft_Acompanhado','Embarked','Title','Pclass']).Age.median().reset_index()"
   ]
  },
  {
   "cell_type": "code",
   "execution_count": 327,
   "metadata": {
    "ExecuteTime": {
     "end_time": "2019-08-15T16:01:58.563364Z",
     "start_time": "2019-08-15T16:01:58.550361Z"
    },
    "code_folding": []
   },
   "outputs": [],
   "source": [
    "df_merge= pd.merge(titanic,df_media, on=['Ft_Acompanhado','Embarked','Title','Pclass']).reset_index()   "
   ]
  },
  {
   "cell_type": "code",
   "execution_count": 328,
   "metadata": {
    "ExecuteTime": {
     "end_time": "2019-08-15T16:01:59.583137Z",
     "start_time": "2019-08-15T16:01:59.574137Z"
    }
   },
   "outputs": [],
   "source": [
    "df_merge.loc[df_merge.Age_x.isna()==True,'Age_x'] = df_merge.loc[df_merge.Age_x.isna()==True,'Age_y']\n",
    "del df_merge['Age_y']"
   ]
  },
  {
   "cell_type": "code",
   "execution_count": 331,
   "metadata": {
    "ExecuteTime": {
     "end_time": "2019-08-15T16:03:12.881011Z",
     "start_time": "2019-08-15T16:03:12.877014Z"
    }
   },
   "outputs": [],
   "source": [
    "df_merge =df_merge.rename(columns={'Age_x':'Age'})"
   ]
  },
  {
   "cell_type": "code",
   "execution_count": 332,
   "metadata": {
    "ExecuteTime": {
     "end_time": "2019-08-15T16:03:13.328507Z",
     "start_time": "2019-08-15T16:03:13.325522Z"
    }
   },
   "outputs": [],
   "source": [
    "titanic=df_merge"
   ]
  },
  {
   "cell_type": "code",
   "execution_count": 333,
   "metadata": {
    "ExecuteTime": {
     "end_time": "2019-08-15T16:03:13.836474Z",
     "start_time": "2019-08-15T16:03:13.828462Z"
    }
   },
   "outputs": [],
   "source": [
    "df_media2 = titanic.groupby(['Pclass','Title']).Age.mean().reset_index()\n"
   ]
  },
  {
   "cell_type": "code",
   "execution_count": 334,
   "metadata": {
    "ExecuteTime": {
     "end_time": "2019-08-15T16:03:14.362536Z",
     "start_time": "2019-08-15T16:03:14.349528Z"
    }
   },
   "outputs": [],
   "source": [
    "df_merge2= pd.merge(titanic,df_media2, on=['Pclass','Title']).reset_index()   \n"
   ]
  },
  {
   "cell_type": "code",
   "execution_count": 335,
   "metadata": {
    "ExecuteTime": {
     "end_time": "2019-08-15T16:03:14.876646Z",
     "start_time": "2019-08-15T16:03:14.868654Z"
    }
   },
   "outputs": [],
   "source": [
    "df_merge2.loc[df_merge2.Age_x.isna()==True,'Age_x'] = df_merge2.loc[df_merge2.Age_x.isna()==True,'Age_y']\n",
    "\n"
   ]
  },
  {
   "cell_type": "code",
   "execution_count": 336,
   "metadata": {
    "ExecuteTime": {
     "end_time": "2019-08-15T16:03:15.288639Z",
     "start_time": "2019-08-15T16:03:15.284653Z"
    }
   },
   "outputs": [],
   "source": [
    "df_merge2 =df_merge2.rename(columns={'Age_x':'Age'})\n"
   ]
  },
  {
   "cell_type": "code",
   "execution_count": 337,
   "metadata": {
    "ExecuteTime": {
     "end_time": "2019-08-15T16:03:15.639222Z",
     "start_time": "2019-08-15T16:03:15.637221Z"
    }
   },
   "outputs": [],
   "source": [
    "titanic=df_merge2"
   ]
  },
  {
   "cell_type": "code",
   "execution_count": 341,
   "metadata": {
    "ExecuteTime": {
     "end_time": "2019-08-15T16:03:41.353528Z",
     "start_time": "2019-08-15T16:03:41.349526Z"
    }
   },
   "outputs": [],
   "source": [
    "del titanic['level_0']\n",
    "del titanic['index']\n",
    "del titanic['Age_y']\n"
   ]
  },
  {
   "cell_type": "code",
   "execution_count": 342,
   "metadata": {
    "ExecuteTime": {
     "end_time": "2019-08-15T16:03:43.307306Z",
     "start_time": "2019-08-15T16:03:43.299815Z"
    }
   },
   "outputs": [
    {
     "name": "stdout",
     "output_type": "stream",
     "text": [
      "Missig Values:\n"
     ]
    },
    {
     "data": {
      "text/plain": [
       "Age                  0\n",
       "Cabin             1014\n",
       "Embarked             0\n",
       "Fare                 1\n",
       "Name                 0\n",
       "Parch                0\n",
       "PassengerId          0\n",
       "Pclass               0\n",
       "Sex                  0\n",
       "SibSp                0\n",
       "Survived           418\n",
       "Ticket               0\n",
       "Title                0\n",
       "Ft_Acompanhado       0\n",
       "dtype: int64"
      ]
     },
     "execution_count": 342,
     "metadata": {},
     "output_type": "execute_result"
    }
   ],
   "source": [
    "print('Missig Values:')\n",
    "titanic.isnull().sum()"
   ]
  },
  {
   "cell_type": "code",
   "execution_count": 359,
   "metadata": {
    "ExecuteTime": {
     "end_time": "2019-08-15T16:07:27.678201Z",
     "start_time": "2019-08-15T16:07:27.673194Z"
    }
   },
   "outputs": [],
   "source": [
    "titanic=titanic.sort_values('PassengerId').reset_index()"
   ]
  },
  {
   "cell_type": "code",
   "execution_count": 362,
   "metadata": {
    "ExecuteTime": {
     "end_time": "2019-08-15T16:07:49.149683Z",
     "start_time": "2019-08-15T16:07:49.143663Z"
    }
   },
   "outputs": [
    {
     "name": "stdout",
     "output_type": "stream",
     "text": [
      "0\n",
      "418\n"
     ]
    }
   ],
   "source": [
    "print(titanic[0:891].Survived.isna().sum())\n",
    "print(titanic[891:1309].Survived.isna().sum())"
   ]
  },
  {
   "cell_type": "code",
   "execution_count": 343,
   "metadata": {
    "ExecuteTime": {
     "end_time": "2019-08-15T16:03:51.905782Z",
     "start_time": "2019-08-15T16:03:51.899780Z"
    }
   },
   "outputs": [],
   "source": [
    "titanic.loc[titanic.Age < 1 ,'Age'] = 1"
   ]
  },
  {
   "cell_type": "code",
   "execution_count": 363,
   "metadata": {
    "ExecuteTime": {
     "end_time": "2019-08-15T16:10:25.327958Z",
     "start_time": "2019-08-15T16:10:25.148311Z"
    }
   },
   "outputs": [
    {
     "data": {
      "text/plain": [
       "Text(0.5, 1.0, 'Distribution of the field Age')"
      ]
     },
     "execution_count": 363,
     "metadata": {},
     "output_type": "execute_result"
    },
    {
     "data": {
      "image/png": "[encoded data removed]",
      "text/plain": [
       "<Figure size 432x288 with 1 Axes>"
      ]
     },
     "metadata": {
      "needs_background": "light"
     },
     "output_type": "display_data"
    }
   ],
   "source": [
    "titanic[titanic.Survived.isna()==False].Age.hist()\n",
    "plt.title(\"Distribution of the field Age\")"
   ]
  },
  {
   "cell_type": "code",
   "execution_count": 345,
   "metadata": {
    "ExecuteTime": {
     "end_time": "2019-08-15T16:03:53.065777Z",
     "start_time": "2019-08-15T16:03:53.059788Z"
    }
   },
   "outputs": [],
   "source": [
    "titanic['Survived_Lbl']=titanic.Survived.map({0:'M',1:'V'})"
   ]
  },
  {
   "cell_type": "code",
   "execution_count": 346,
   "metadata": {
    "ExecuteTime": {
     "end_time": "2019-08-15T16:03:53.524763Z",
     "start_time": "2019-08-15T16:03:53.515744Z"
    }
   },
   "outputs": [],
   "source": [
    "df_age= titanic.groupby(['Age']).agg({'Survived_Lbl':'count','Survived':'sum'}).reset_index()\n",
    "df_age = df_age.rename(columns={'Age':'Age','Survived_Lbl':'Qtd_total','Survived':'Qtd_Sobreviventes'})"
   ]
  },
  {
   "cell_type": "code",
   "execution_count": 347,
   "metadata": {
    "ExecuteTime": {
     "end_time": "2019-08-15T16:03:53.863110Z",
     "start_time": "2019-08-15T16:03:53.860108Z"
    }
   },
   "outputs": [],
   "source": [
    "df_age = df_age.sort_values('Qtd_total',ascending=False)"
   ]
  },
  {
   "cell_type": "code",
   "execution_count": 348,
   "metadata": {
    "ExecuteTime": {
     "end_time": "2019-08-15T16:03:54.173673Z",
     "start_time": "2019-08-15T16:03:54.165172Z"
    }
   },
   "outputs": [
    {
     "name": "stdout",
     "output_type": "stream",
     "text": [
      "891\n",
      "342\n"
     ]
    }
   ],
   "source": [
    "\n",
    "df_age['Prob'] = (df_age.Qtd_Sobreviventes/df_age.Qtd_total)*100\n",
    "\n",
    "Qtd_total= df_age.Qtd_total.sum().astype(int)\n",
    "print(Qtd_total)\n",
    "df_age['Prob_Sobreviver'] = df_age.Qtd_Sobreviventes/Qtd_total\n",
    "\n",
    "\n",
    "Qtd_total_Sobreviventes= df_age.Qtd_Sobreviventes.sum().astype(int)\n",
    "print(Qtd_total_Sobreviventes)\n",
    "df_age['Prob_Sobreviver_sobre_sobrevividos'] = df_age.Qtd_Sobreviventes/Qtd_total_Sobreviventes\n",
    "\n",
    "\n",
    "\n"
   ]
  },
  {
   "cell_type": "code",
   "execution_count": 349,
   "metadata": {
    "ExecuteTime": {
     "end_time": "2019-08-15T16:03:55.088741Z",
     "start_time": "2019-08-15T16:03:55.084739Z"
    }
   },
   "outputs": [],
   "source": [
    "df_age['Prob_não_Sobreviver'] = 1-df_age.Prob_Sobreviver\n",
    "df_age['Prob_não_Sobreviver_sobre_sobrevivesntes'] = 1-df_age.Prob_Sobreviver_sobre_sobrevividos\n"
   ]
  },
  {
   "cell_type": "code",
   "execution_count": 350,
   "metadata": {
    "ExecuteTime": {
     "end_time": "2019-08-15T16:04:00.832601Z",
     "start_time": "2019-08-15T16:04:00.827615Z"
    }
   },
   "outputs": [],
   "source": [
    "df_age = df_age.sort_values('Prob',ascending=False)"
   ]
  },
  {
   "cell_type": "code",
   "execution_count": 351,
   "metadata": {
    "ExecuteTime": {
     "end_time": "2019-08-15T16:04:01.275506Z",
     "start_time": "2019-08-15T16:04:01.260514Z"
    }
   },
   "outputs": [
    {
     "data": {
      "text/html": [
       "<div>\n",
       "<style scoped>\n",
       "    .dataframe tbody tr th:only-of-type {\n",
       "        vertical-align: middle;\n",
       "    }\n",
       "\n",
       "    .dataframe tbody tr th {\n",
       "        vertical-align: top;\n",
       "    }\n",
       "\n",
       "    .dataframe thead th {\n",
       "        text-align: right;\n",
       "    }\n",
       "</style>\n",
       "<table border=\"1\" class=\"dataframe\">\n",
       "  <thead>\n",
       "    <tr style=\"text-align: right;\">\n",
       "      <th></th>\n",
       "      <th>Age</th>\n",
       "      <th>Qtd_total</th>\n",
       "      <th>Qtd_Sobreviventes</th>\n",
       "      <th>Prob</th>\n",
       "      <th>Prob_Sobreviver</th>\n",
       "      <th>Prob_Sobreviver_sobre_sobrevividos</th>\n",
       "      <th>Prob_não_Sobreviver</th>\n",
       "      <th>Prob_não_Sobreviver_sobre_sobrevivesntes</th>\n",
       "    </tr>\n",
       "  </thead>\n",
       "  <tbody>\n",
       "    <tr>\n",
       "      <th>38</th>\n",
       "      <td>26.0</td>\n",
       "      <td>60</td>\n",
       "      <td>10.0</td>\n",
       "      <td>16.666667</td>\n",
       "      <td>0.011223</td>\n",
       "      <td>0.029240</td>\n",
       "      <td>0.988777</td>\n",
       "      <td>0.970760</td>\n",
       "    </tr>\n",
       "    <tr>\n",
       "      <th>30</th>\n",
       "      <td>22.0</td>\n",
       "      <td>46</td>\n",
       "      <td>25.0</td>\n",
       "      <td>54.347826</td>\n",
       "      <td>0.028058</td>\n",
       "      <td>0.073099</td>\n",
       "      <td>0.971942</td>\n",
       "      <td>0.926901</td>\n",
       "    </tr>\n",
       "    <tr>\n",
       "      <th>44</th>\n",
       "      <td>29.0</td>\n",
       "      <td>42</td>\n",
       "      <td>10.0</td>\n",
       "      <td>23.809524</td>\n",
       "      <td>0.011223</td>\n",
       "      <td>0.029240</td>\n",
       "      <td>0.988777</td>\n",
       "      <td>0.970760</td>\n",
       "    </tr>\n",
       "    <tr>\n",
       "      <th>42</th>\n",
       "      <td>28.0</td>\n",
       "      <td>33</td>\n",
       "      <td>9.0</td>\n",
       "      <td>27.272727</td>\n",
       "      <td>0.010101</td>\n",
       "      <td>0.026316</td>\n",
       "      <td>0.989899</td>\n",
       "      <td>0.973684</td>\n",
       "    </tr>\n",
       "    <tr>\n",
       "      <th>34</th>\n",
       "      <td>24.0</td>\n",
       "      <td>30</td>\n",
       "      <td>15.0</td>\n",
       "      <td>50.000000</td>\n",
       "      <td>0.016835</td>\n",
       "      <td>0.043860</td>\n",
       "      <td>0.983165</td>\n",
       "      <td>0.956140</td>\n",
       "    </tr>\n",
       "  </tbody>\n",
       "</table>\n",
       "</div>"
      ],
      "text/plain": [
       "     Age  Qtd_total  Qtd_Sobreviventes       Prob  Prob_Sobreviver  \\\n",
       "38  26.0         60               10.0  16.666667         0.011223   \n",
       "30  22.0         46               25.0  54.347826         0.028058   \n",
       "44  29.0         42               10.0  23.809524         0.011223   \n",
       "42  28.0         33                9.0  27.272727         0.010101   \n",
       "34  24.0         30               15.0  50.000000         0.016835   \n",
       "\n",
       "    Prob_Sobreviver_sobre_sobrevividos  Prob_não_Sobreviver  \\\n",
       "38                            0.029240             0.988777   \n",
       "30                            0.073099             0.971942   \n",
       "44                            0.029240             0.988777   \n",
       "42                            0.026316             0.989899   \n",
       "34                            0.043860             0.983165   \n",
       "\n",
       "    Prob_não_Sobreviver_sobre_sobrevivesntes  \n",
       "38                                  0.970760  \n",
       "30                                  0.926901  \n",
       "44                                  0.970760  \n",
       "42                                  0.973684  \n",
       "34                                  0.956140  "
      ]
     },
     "execution_count": 351,
     "metadata": {},
     "output_type": "execute_result"
    }
   ],
   "source": [
    "df_age[df_age.Qtd_total>0].sort_values('Qtd_total',ascending=False).head()"
   ]
  },
  {
   "cell_type": "markdown",
   "metadata": {},
   "source": [
    "## Input Fare"
   ]
  },
  {
   "cell_type": "code",
   "execution_count": 364,
   "metadata": {
    "ExecuteTime": {
     "end_time": "2019-08-15T17:39:27.038569Z",
     "start_time": "2019-08-15T17:39:26.986016Z"
    }
   },
   "outputs": [],
   "source": [
    "titanic.loc[titanic.Fare.isna(),'Fare']=titanic.Fare.mean()"
   ]
  },
  {
   "cell_type": "code",
   "execution_count": 365,
   "metadata": {
    "ExecuteTime": {
     "end_time": "2019-08-15T17:39:27.265085Z",
     "start_time": "2019-08-15T17:39:27.251063Z"
    },
    "scrolled": true
   },
   "outputs": [
    {
     "data": {
      "text/plain": [
       "index                0\n",
       "Age                  0\n",
       "Cabin             1014\n",
       "Embarked             0\n",
       "Fare                 0\n",
       "Name                 0\n",
       "Parch                0\n",
       "PassengerId          0\n",
       "Pclass               0\n",
       "Sex                  0\n",
       "SibSp                0\n",
       "Survived           418\n",
       "Ticket               0\n",
       "Title                0\n",
       "Ft_Acompanhado       0\n",
       "Survived_Lbl       418\n",
       "dtype: int64"
      ]
     },
     "execution_count": 365,
     "metadata": {},
     "output_type": "execute_result"
    }
   ],
   "source": [
    "titanic.isna().sum()"
   ]
  },
  {
   "cell_type": "code",
   "execution_count": 366,
   "metadata": {
    "ExecuteTime": {
     "end_time": "2019-08-15T17:39:27.573766Z",
     "start_time": "2019-08-15T17:39:27.566744Z"
    }
   },
   "outputs": [],
   "source": [
    "titanic.loc[titanic.Fare < 1.000 ,'Fare'] = 1.000"
   ]
  },
  {
   "cell_type": "code",
   "execution_count": 367,
   "metadata": {
    "ExecuteTime": {
     "end_time": "2019-08-15T17:39:27.996261Z",
     "start_time": "2019-08-15T17:39:27.984253Z"
    }
   },
   "outputs": [
    {
     "data": {
      "text/plain": [
       "count    1309.000000\n",
       "mean       33.308466\n",
       "std        51.730638\n",
       "min         1.000000\n",
       "25%         7.895800\n",
       "50%        14.454200\n",
       "75%        31.275000\n",
       "max       512.329200\n",
       "Name: Fare, dtype: float64"
      ]
     },
     "execution_count": 367,
     "metadata": {},
     "output_type": "execute_result"
    }
   ],
   "source": [
    "titanic.Fare.describe()"
   ]
  },
  {
   "cell_type": "code",
   "execution_count": 368,
   "metadata": {
    "ExecuteTime": {
     "end_time": "2019-08-15T17:39:28.508857Z",
     "start_time": "2019-08-15T17:39:28.327374Z"
    }
   },
   "outputs": [
    {
     "data": {
      "text/plain": [
       "<matplotlib.axes._subplots.AxesSubplot at 0x207a12b0>"
      ]
     },
     "execution_count": 368,
     "metadata": {},
     "output_type": "execute_result"
    },
    {
     "data": {
      "image/png": "[encoded data removed]",
      "text/plain": [
       "<Figure size 432x288 with 1 Axes>"
      ]
     },
     "metadata": {
      "needs_background": "light"
     },
     "output_type": "display_data"
    }
   ],
   "source": [
    "titanic.Fare.hist()"
   ]
  },
  {
   "cell_type": "code",
   "execution_count": 369,
   "metadata": {
    "ExecuteTime": {
     "end_time": "2019-08-15T17:39:28.729433Z",
     "start_time": "2019-08-15T17:39:28.718793Z"
    }
   },
   "outputs": [],
   "source": [
    "df_fare= titanic.groupby(['Fare']).agg({'Survived_Lbl':'count','Survived':'sum'}).reset_index()\n",
    "df_fare = df_fare.rename(columns={'Fare':'Fare','Survived_Lbl':'Qtd_total','Survived':'Qtd_Sobreviventes'})"
   ]
  },
  {
   "cell_type": "code",
   "execution_count": 370,
   "metadata": {
    "ExecuteTime": {
     "end_time": "2019-08-15T17:39:29.107860Z",
     "start_time": "2019-08-15T17:39:29.102848Z"
    }
   },
   "outputs": [],
   "source": [
    "df_fare = df_fare.sort_values('Qtd_total',ascending=False)\n"
   ]
  },
  {
   "cell_type": "code",
   "execution_count": 371,
   "metadata": {
    "ExecuteTime": {
     "end_time": "2019-08-15T17:39:29.495839Z",
     "start_time": "2019-08-15T17:39:29.486834Z"
    }
   },
   "outputs": [
    {
     "name": "stdout",
     "output_type": "stream",
     "text": [
      "891\n",
      "342\n"
     ]
    }
   ],
   "source": [
    "df_fare['Prob'] = (df_fare.Qtd_Sobreviventes/df_fare.Qtd_total)*100\n",
    "\n",
    "\n",
    "Qtd_total= df_fare.Qtd_total.sum().astype(int)\n",
    "print(Qtd_total)\n",
    "df_fare['Prob_Sobreviver'] = df_fare.Qtd_Sobreviventes/Qtd_total\n",
    "\n",
    "\n",
    "Qtd_total_Sobreviventes= df_fare.Qtd_Sobreviventes.sum().astype(int)\n",
    "print(Qtd_total_Sobreviventes)\n",
    "df_fare['Prob_Sobreviver_sobre_sobrevividos'] = df_fare.Qtd_Sobreviventes/Qtd_total_Sobreviventes\n"
   ]
  },
  {
   "cell_type": "code",
   "execution_count": 372,
   "metadata": {
    "ExecuteTime": {
     "end_time": "2019-08-15T17:39:29.932215Z",
     "start_time": "2019-08-15T17:39:29.928229Z"
    }
   },
   "outputs": [],
   "source": [
    "df_fare['Prob_não_Sobreviver'] = 1-df_fare.Prob_Sobreviver\n",
    "df_fare['Prob_não_Sobreviver_sobre_sobrevivesntes'] = 1-df_fare.Prob_Sobreviver_sobre_sobrevividos\n"
   ]
  },
  {
   "cell_type": "code",
   "execution_count": 373,
   "metadata": {
    "ExecuteTime": {
     "end_time": "2019-08-15T17:39:30.364071Z",
     "start_time": "2019-08-15T17:39:30.359068Z"
    }
   },
   "outputs": [],
   "source": [
    "df_fare =df_fare.sort_values('Prob',ascending=False)"
   ]
  },
  {
   "cell_type": "code",
   "execution_count": 374,
   "metadata": {
    "ExecuteTime": {
     "end_time": "2019-08-15T17:39:30.824987Z",
     "start_time": "2019-08-15T17:39:30.798956Z"
    }
   },
   "outputs": [
    {
     "data": {
      "text/html": [
       "<div>\n",
       "<style scoped>\n",
       "    .dataframe tbody tr th:only-of-type {\n",
       "        vertical-align: middle;\n",
       "    }\n",
       "\n",
       "    .dataframe tbody tr th {\n",
       "        vertical-align: top;\n",
       "    }\n",
       "\n",
       "    .dataframe thead th {\n",
       "        text-align: right;\n",
       "    }\n",
       "</style>\n",
       "<table border=\"1\" class=\"dataframe\">\n",
       "  <thead>\n",
       "    <tr style=\"text-align: right;\">\n",
       "      <th></th>\n",
       "      <th>Fare</th>\n",
       "      <th>Qtd_total</th>\n",
       "      <th>Qtd_Sobreviventes</th>\n",
       "      <th>Prob</th>\n",
       "      <th>Prob_Sobreviver</th>\n",
       "      <th>Prob_Sobreviver_sobre_sobrevividos</th>\n",
       "      <th>Prob_não_Sobreviver</th>\n",
       "      <th>Prob_não_Sobreviver_sobre_sobrevivesntes</th>\n",
       "    </tr>\n",
       "  </thead>\n",
       "  <tbody>\n",
       "    <tr>\n",
       "      <th>52</th>\n",
       "      <td>8.0500</td>\n",
       "      <td>43</td>\n",
       "      <td>5.0</td>\n",
       "      <td>11.627907</td>\n",
       "      <td>0.005612</td>\n",
       "      <td>0.014620</td>\n",
       "      <td>0.994388</td>\n",
       "      <td>0.985380</td>\n",
       "    </tr>\n",
       "    <tr>\n",
       "      <th>100</th>\n",
       "      <td>13.0000</td>\n",
       "      <td>42</td>\n",
       "      <td>16.0</td>\n",
       "      <td>38.095238</td>\n",
       "      <td>0.017957</td>\n",
       "      <td>0.046784</td>\n",
       "      <td>0.982043</td>\n",
       "      <td>0.953216</td>\n",
       "    </tr>\n",
       "    <tr>\n",
       "      <th>49</th>\n",
       "      <td>7.8958</td>\n",
       "      <td>38</td>\n",
       "      <td>1.0</td>\n",
       "      <td>2.631579</td>\n",
       "      <td>0.001122</td>\n",
       "      <td>0.002924</td>\n",
       "      <td>0.998878</td>\n",
       "      <td>0.997076</td>\n",
       "    </tr>\n",
       "    <tr>\n",
       "      <th>36</th>\n",
       "      <td>7.7500</td>\n",
       "      <td>34</td>\n",
       "      <td>12.0</td>\n",
       "      <td>35.294118</td>\n",
       "      <td>0.013468</td>\n",
       "      <td>0.035088</td>\n",
       "      <td>0.986532</td>\n",
       "      <td>0.964912</td>\n",
       "    </tr>\n",
       "    <tr>\n",
       "      <th>159</th>\n",
       "      <td>26.0000</td>\n",
       "      <td>31</td>\n",
       "      <td>15.0</td>\n",
       "      <td>48.387097</td>\n",
       "      <td>0.016835</td>\n",
       "      <td>0.043860</td>\n",
       "      <td>0.983165</td>\n",
       "      <td>0.956140</td>\n",
       "    </tr>\n",
       "    <tr>\n",
       "      <th>84</th>\n",
       "      <td>10.5000</td>\n",
       "      <td>24</td>\n",
       "      <td>9.0</td>\n",
       "      <td>37.500000</td>\n",
       "      <td>0.010101</td>\n",
       "      <td>0.026316</td>\n",
       "      <td>0.989899</td>\n",
       "      <td>0.973684</td>\n",
       "    </tr>\n",
       "    <tr>\n",
       "      <th>50</th>\n",
       "      <td>7.9250</td>\n",
       "      <td>18</td>\n",
       "      <td>8.0</td>\n",
       "      <td>44.444444</td>\n",
       "      <td>0.008979</td>\n",
       "      <td>0.023392</td>\n",
       "      <td>0.991021</td>\n",
       "      <td>0.976608</td>\n",
       "    </tr>\n",
       "    <tr>\n",
       "      <th>37</th>\n",
       "      <td>7.7750</td>\n",
       "      <td>16</td>\n",
       "      <td>3.0</td>\n",
       "      <td>18.750000</td>\n",
       "      <td>0.003367</td>\n",
       "      <td>0.008772</td>\n",
       "      <td>0.996633</td>\n",
       "      <td>0.991228</td>\n",
       "    </tr>\n",
       "    <tr>\n",
       "      <th>19</th>\n",
       "      <td>7.2292</td>\n",
       "      <td>15</td>\n",
       "      <td>4.0</td>\n",
       "      <td>26.666667</td>\n",
       "      <td>0.004489</td>\n",
       "      <td>0.011696</td>\n",
       "      <td>0.995511</td>\n",
       "      <td>0.988304</td>\n",
       "    </tr>\n",
       "    <tr>\n",
       "      <th>164</th>\n",
       "      <td>26.5500</td>\n",
       "      <td>15</td>\n",
       "      <td>8.0</td>\n",
       "      <td>53.333333</td>\n",
       "      <td>0.008979</td>\n",
       "      <td>0.023392</td>\n",
       "      <td>0.991021</td>\n",
       "      <td>0.976608</td>\n",
       "    </tr>\n",
       "    <tr>\n",
       "      <th>0</th>\n",
       "      <td>1.0000</td>\n",
       "      <td>15</td>\n",
       "      <td>1.0</td>\n",
       "      <td>6.666667</td>\n",
       "      <td>0.001122</td>\n",
       "      <td>0.002924</td>\n",
       "      <td>0.998878</td>\n",
       "      <td>0.997076</td>\n",
       "    </tr>\n",
       "    <tr>\n",
       "      <th>63</th>\n",
       "      <td>8.6625</td>\n",
       "      <td>13</td>\n",
       "      <td>1.0</td>\n",
       "      <td>7.692308</td>\n",
       "      <td>0.001122</td>\n",
       "      <td>0.002924</td>\n",
       "      <td>0.998878</td>\n",
       "      <td>0.997076</td>\n",
       "    </tr>\n",
       "    <tr>\n",
       "      <th>20</th>\n",
       "      <td>7.2500</td>\n",
       "      <td>13</td>\n",
       "      <td>1.0</td>\n",
       "      <td>7.692308</td>\n",
       "      <td>0.001122</td>\n",
       "      <td>0.002924</td>\n",
       "      <td>0.998878</td>\n",
       "      <td>0.997076</td>\n",
       "    </tr>\n",
       "    <tr>\n",
       "      <th>45</th>\n",
       "      <td>7.8542</td>\n",
       "      <td>13</td>\n",
       "      <td>3.0</td>\n",
       "      <td>23.076923</td>\n",
       "      <td>0.003367</td>\n",
       "      <td>0.008772</td>\n",
       "      <td>0.996633</td>\n",
       "      <td>0.991228</td>\n",
       "    </tr>\n",
       "    <tr>\n",
       "      <th>18</th>\n",
       "      <td>7.2250</td>\n",
       "      <td>12</td>\n",
       "      <td>3.0</td>\n",
       "      <td>25.000000</td>\n",
       "      <td>0.003367</td>\n",
       "      <td>0.008772</td>\n",
       "      <td>0.996633</td>\n",
       "      <td>0.991228</td>\n",
       "    </tr>\n",
       "    <tr>\n",
       "      <th>75</th>\n",
       "      <td>9.5000</td>\n",
       "      <td>9</td>\n",
       "      <td>2.0</td>\n",
       "      <td>22.222222</td>\n",
       "      <td>0.002245</td>\n",
       "      <td>0.005848</td>\n",
       "      <td>0.997755</td>\n",
       "      <td>0.994152</td>\n",
       "    </tr>\n",
       "    <tr>\n",
       "      <th>128</th>\n",
       "      <td>16.1000</td>\n",
       "      <td>9</td>\n",
       "      <td>2.0</td>\n",
       "      <td>22.222222</td>\n",
       "      <td>0.002245</td>\n",
       "      <td>0.005848</td>\n",
       "      <td>0.997755</td>\n",
       "      <td>0.994152</td>\n",
       "    </tr>\n",
       "    <tr>\n",
       "      <th>152</th>\n",
       "      <td>24.1500</td>\n",
       "      <td>8</td>\n",
       "      <td>1.0</td>\n",
       "      <td>12.500000</td>\n",
       "      <td>0.001122</td>\n",
       "      <td>0.002924</td>\n",
       "      <td>0.998878</td>\n",
       "      <td>0.997076</td>\n",
       "    </tr>\n",
       "    <tr>\n",
       "      <th>120</th>\n",
       "      <td>15.5000</td>\n",
       "      <td>8</td>\n",
       "      <td>3.0</td>\n",
       "      <td>37.500000</td>\n",
       "      <td>0.003367</td>\n",
       "      <td>0.008772</td>\n",
       "      <td>0.996633</td>\n",
       "      <td>0.991228</td>\n",
       "    </tr>\n",
       "    <tr>\n",
       "      <th>181</th>\n",
       "      <td>31.2750</td>\n",
       "      <td>7</td>\n",
       "      <td>0.0</td>\n",
       "      <td>0.000000</td>\n",
       "      <td>0.000000</td>\n",
       "      <td>0.000000</td>\n",
       "      <td>1.000000</td>\n",
       "      <td>1.000000</td>\n",
       "    </tr>\n",
       "    <tr>\n",
       "      <th>222</th>\n",
       "      <td>56.4958</td>\n",
       "      <td>7</td>\n",
       "      <td>5.0</td>\n",
       "      <td>71.428571</td>\n",
       "      <td>0.005612</td>\n",
       "      <td>0.014620</td>\n",
       "      <td>0.994388</td>\n",
       "      <td>0.985380</td>\n",
       "    </tr>\n",
       "    <tr>\n",
       "      <th>113</th>\n",
       "      <td>14.5000</td>\n",
       "      <td>7</td>\n",
       "      <td>2.0</td>\n",
       "      <td>28.571429</td>\n",
       "      <td>0.002245</td>\n",
       "      <td>0.005848</td>\n",
       "      <td>0.997755</td>\n",
       "      <td>0.994152</td>\n",
       "    </tr>\n",
       "    <tr>\n",
       "      <th>111</th>\n",
       "      <td>14.4542</td>\n",
       "      <td>7</td>\n",
       "      <td>1.0</td>\n",
       "      <td>14.285714</td>\n",
       "      <td>0.001122</td>\n",
       "      <td>0.002924</td>\n",
       "      <td>0.998878</td>\n",
       "      <td>0.997076</td>\n",
       "    </tr>\n",
       "    <tr>\n",
       "      <th>14</th>\n",
       "      <td>7.0500</td>\n",
       "      <td>7</td>\n",
       "      <td>0.0</td>\n",
       "      <td>0.000000</td>\n",
       "      <td>0.000000</td>\n",
       "      <td>0.000000</td>\n",
       "      <td>1.000000</td>\n",
       "      <td>1.000000</td>\n",
       "    </tr>\n",
       "    <tr>\n",
       "      <th>216</th>\n",
       "      <td>52.0000</td>\n",
       "      <td>7</td>\n",
       "      <td>3.0</td>\n",
       "      <td>42.857143</td>\n",
       "      <td>0.003367</td>\n",
       "      <td>0.008772</td>\n",
       "      <td>0.996633</td>\n",
       "      <td>0.991228</td>\n",
       "    </tr>\n",
       "    <tr>\n",
       "      <th>236</th>\n",
       "      <td>69.5500</td>\n",
       "      <td>7</td>\n",
       "      <td>0.0</td>\n",
       "      <td>0.000000</td>\n",
       "      <td>0.000000</td>\n",
       "      <td>0.000000</td>\n",
       "      <td>1.000000</td>\n",
       "      <td>1.000000</td>\n",
       "    </tr>\n",
       "    <tr>\n",
       "      <th>208</th>\n",
       "      <td>46.9000</td>\n",
       "      <td>6</td>\n",
       "      <td>0.0</td>\n",
       "      <td>0.000000</td>\n",
       "      <td>0.000000</td>\n",
       "      <td>0.000000</td>\n",
       "      <td>1.000000</td>\n",
       "      <td>1.000000</td>\n",
       "    </tr>\n",
       "    <tr>\n",
       "      <th>202</th>\n",
       "      <td>39.6875</td>\n",
       "      <td>6</td>\n",
       "      <td>0.0</td>\n",
       "      <td>0.000000</td>\n",
       "      <td>0.000000</td>\n",
       "      <td>0.000000</td>\n",
       "      <td>1.000000</td>\n",
       "      <td>1.000000</td>\n",
       "    </tr>\n",
       "    <tr>\n",
       "      <th>176</th>\n",
       "      <td>30.0000</td>\n",
       "      <td>6</td>\n",
       "      <td>5.0</td>\n",
       "      <td>83.333333</td>\n",
       "      <td>0.005612</td>\n",
       "      <td>0.014620</td>\n",
       "      <td>0.994388</td>\n",
       "      <td>0.985380</td>\n",
       "    </tr>\n",
       "    <tr>\n",
       "      <th>142</th>\n",
       "      <td>21.0000</td>\n",
       "      <td>6</td>\n",
       "      <td>2.0</td>\n",
       "      <td>33.333333</td>\n",
       "      <td>0.002245</td>\n",
       "      <td>0.005848</td>\n",
       "      <td>0.997755</td>\n",
       "      <td>0.994152</td>\n",
       "    </tr>\n",
       "    <tr>\n",
       "      <th>40</th>\n",
       "      <td>7.7958</td>\n",
       "      <td>6</td>\n",
       "      <td>2.0</td>\n",
       "      <td>33.333333</td>\n",
       "      <td>0.002245</td>\n",
       "      <td>0.005848</td>\n",
       "      <td>0.997755</td>\n",
       "      <td>0.994152</td>\n",
       "    </tr>\n",
       "    <tr>\n",
       "      <th>160</th>\n",
       "      <td>26.2500</td>\n",
       "      <td>6</td>\n",
       "      <td>4.0</td>\n",
       "      <td>66.666667</td>\n",
       "      <td>0.004489</td>\n",
       "      <td>0.011696</td>\n",
       "      <td>0.995511</td>\n",
       "      <td>0.988304</td>\n",
       "    </tr>\n",
       "    <tr>\n",
       "      <th>169</th>\n",
       "      <td>27.9000</td>\n",
       "      <td>6</td>\n",
       "      <td>0.0</td>\n",
       "      <td>0.000000</td>\n",
       "      <td>0.000000</td>\n",
       "      <td>0.000000</td>\n",
       "      <td>1.000000</td>\n",
       "      <td>1.000000</td>\n",
       "    </tr>\n",
       "  </tbody>\n",
       "</table>\n",
       "</div>"
      ],
      "text/plain": [
       "        Fare  Qtd_total  Qtd_Sobreviventes       Prob  Prob_Sobreviver  \\\n",
       "52    8.0500         43                5.0  11.627907         0.005612   \n",
       "100  13.0000         42               16.0  38.095238         0.017957   \n",
       "49    7.8958         38                1.0   2.631579         0.001122   \n",
       "36    7.7500         34               12.0  35.294118         0.013468   \n",
       "159  26.0000         31               15.0  48.387097         0.016835   \n",
       "84   10.5000         24                9.0  37.500000         0.010101   \n",
       "50    7.9250         18                8.0  44.444444         0.008979   \n",
       "37    7.7750         16                3.0  18.750000         0.003367   \n",
       "19    7.2292         15                4.0  26.666667         0.004489   \n",
       "164  26.5500         15                8.0  53.333333         0.008979   \n",
       "0     1.0000         15                1.0   6.666667         0.001122   \n",
       "63    8.6625         13                1.0   7.692308         0.001122   \n",
       "20    7.2500         13                1.0   7.692308         0.001122   \n",
       "45    7.8542         13                3.0  23.076923         0.003367   \n",
       "18    7.2250         12                3.0  25.000000         0.003367   \n",
       "75    9.5000          9                2.0  22.222222         0.002245   \n",
       "128  16.1000          9                2.0  22.222222         0.002245   \n",
       "152  24.1500          8                1.0  12.500000         0.001122   \n",
       "120  15.5000          8                3.0  37.500000         0.003367   \n",
       "181  31.2750          7                0.0   0.000000         0.000000   \n",
       "222  56.4958          7                5.0  71.428571         0.005612   \n",
       "113  14.5000          7                2.0  28.571429         0.002245   \n",
       "111  14.4542          7                1.0  14.285714         0.001122   \n",
       "14    7.0500          7                0.0   0.000000         0.000000   \n",
       "216  52.0000          7                3.0  42.857143         0.003367   \n",
       "236  69.5500          7                0.0   0.000000         0.000000   \n",
       "208  46.9000          6                0.0   0.000000         0.000000   \n",
       "202  39.6875          6                0.0   0.000000         0.000000   \n",
       "176  30.0000          6                5.0  83.333333         0.005612   \n",
       "142  21.0000          6                2.0  33.333333         0.002245   \n",
       "40    7.7958          6                2.0  33.333333         0.002245   \n",
       "160  26.2500          6                4.0  66.666667         0.004489   \n",
       "169  27.9000          6                0.0   0.000000         0.000000   \n",
       "\n",
       "     Prob_Sobreviver_sobre_sobrevividos  Prob_não_Sobreviver  \\\n",
       "52                             0.014620             0.994388   \n",
       "100                            0.046784             0.982043   \n",
       "49                             0.002924             0.998878   \n",
       "36                             0.035088             0.986532   \n",
       "159                            0.043860             0.983165   \n",
       "84                             0.026316             0.989899   \n",
       "50                             0.023392             0.991021   \n",
       "37                             0.008772             0.996633   \n",
       "19                             0.011696             0.995511   \n",
       "164                            0.023392             0.991021   \n",
       "0                              0.002924             0.998878   \n",
       "63                             0.002924             0.998878   \n",
       "20                             0.002924             0.998878   \n",
       "45                             0.008772             0.996633   \n",
       "18                             0.008772             0.996633   \n",
       "75                             0.005848             0.997755   \n",
       "128                            0.005848             0.997755   \n",
       "152                            0.002924             0.998878   \n",
       "120                            0.008772             0.996633   \n",
       "181                            0.000000             1.000000   \n",
       "222                            0.014620             0.994388   \n",
       "113                            0.005848             0.997755   \n",
       "111                            0.002924             0.998878   \n",
       "14                             0.000000             1.000000   \n",
       "216                            0.008772             0.996633   \n",
       "236                            0.000000             1.000000   \n",
       "208                            0.000000             1.000000   \n",
       "202                            0.000000             1.000000   \n",
       "176                            0.014620             0.994388   \n",
       "142                            0.005848             0.997755   \n",
       "40                             0.005848             0.997755   \n",
       "160                            0.011696             0.995511   \n",
       "169                            0.000000             1.000000   \n",
       "\n",
       "     Prob_não_Sobreviver_sobre_sobrevivesntes  \n",
       "52                                   0.985380  \n",
       "100                                  0.953216  \n",
       "49                                   0.997076  \n",
       "36                                   0.964912  \n",
       "159                                  0.956140  \n",
       "84                                   0.973684  \n",
       "50                                   0.976608  \n",
       "37                                   0.991228  \n",
       "19                                   0.988304  \n",
       "164                                  0.976608  \n",
       "0                                    0.997076  \n",
       "63                                   0.997076  \n",
       "20                                   0.997076  \n",
       "45                                   0.991228  \n",
       "18                                   0.991228  \n",
       "75                                   0.994152  \n",
       "128                                  0.994152  \n",
       "152                                  0.997076  \n",
       "120                                  0.991228  \n",
       "181                                  1.000000  \n",
       "222                                  0.985380  \n",
       "113                                  0.994152  \n",
       "111                                  0.997076  \n",
       "14                                   1.000000  \n",
       "216                                  0.991228  \n",
       "236                                  1.000000  \n",
       "208                                  1.000000  \n",
       "202                                  1.000000  \n",
       "176                                  0.985380  \n",
       "142                                  0.994152  \n",
       "40                                   0.994152  \n",
       "160                                  0.988304  \n",
       "169                                  1.000000  "
      ]
     },
     "execution_count": 374,
     "metadata": {},
     "output_type": "execute_result"
    }
   ],
   "source": [
    "df_fare[df_fare.Qtd_total>5].sort_values(['Qtd_total'],ascending=False)"
   ]
  },
  {
   "cell_type": "markdown",
   "metadata": {},
   "source": [
    "## Input Cabin"
   ]
  },
  {
   "cell_type": "markdown",
   "metadata": {},
   "source": [
    " Vamos tentar combinar informações de Ticket e Fare para tentar determinar a Cabin"
   ]
  },
  {
   "cell_type": "code",
   "execution_count": 375,
   "metadata": {
    "ExecuteTime": {
     "end_time": "2019-08-15T17:39:32.252767Z",
     "start_time": "2019-08-15T17:39:32.247764Z"
    }
   },
   "outputs": [],
   "source": [
    "titanic['Ft_Cabin'] = titanic['Ticket'].str.strip()"
   ]
  },
  {
   "cell_type": "code",
   "execution_count": 376,
   "metadata": {
    "ExecuteTime": {
     "end_time": "2019-08-15T17:39:32.504511Z",
     "start_time": "2019-08-15T17:39:32.497507Z"
    }
   },
   "outputs": [
    {
     "data": {
      "text/plain": [
       "array(['A', 'PC', 'STON', nan, 'PP', 'C', 'SC', 'S', 'CA', 'SO', 'W',\n",
       "       'SOTON', 'Fa', 'LINE', 'F', 'SW', 'SCO', 'P', 'WE', 'AQ', 'LP'],\n",
       "      dtype=object)"
      ]
     },
     "execution_count": 376,
     "metadata": {},
     "output_type": "execute_result"
    }
   ],
   "source": [
    "titanic.Ft_Cabin.str.extract('([a-zA-Z]+)', expand=False).unique()"
   ]
  },
  {
   "cell_type": "code",
   "execution_count": 377,
   "metadata": {
    "ExecuteTime": {
     "end_time": "2019-08-15T17:39:32.732402Z",
     "start_time": "2019-08-15T17:39:32.726898Z"
    }
   },
   "outputs": [],
   "source": [
    "titanic['Ft_Cabin'] = titanic.Ft_Cabin.str.extract('([a-zA-Z])', expand=False)"
   ]
  },
  {
   "cell_type": "code",
   "execution_count": 378,
   "metadata": {
    "ExecuteTime": {
     "end_time": "2019-08-15T17:39:33.697559Z",
     "start_time": "2019-08-15T17:39:32.982702Z"
    }
   },
   "outputs": [],
   "source": [
    "titanic.Ft_Cabin[titanic.Ft_Cabin.isna()] = 'Uknow'"
   ]
  },
  {
   "cell_type": "code",
   "execution_count": null,
   "metadata": {
    "ExecuteTime": {
     "end_time": "2019-08-15T17:39:33.729082Z",
     "start_time": "2019-08-15T17:39:33.221Z"
    }
   },
   "outputs": [],
   "source": [
    "titanic.groupby('Ft_Cabin').Ft_Cabin.count()"
   ]
  },
  {
   "cell_type": "code",
   "execution_count": null,
   "metadata": {
    "ExecuteTime": {
     "end_time": "2019-08-15T17:39:33.734086Z",
     "start_time": "2019-08-15T17:39:33.669Z"
    }
   },
   "outputs": [],
   "source": [
    "titanic.isna().sum()"
   ]
  },
  {
   "cell_type": "code",
   "execution_count": 379,
   "metadata": {
    "ExecuteTime": {
     "end_time": "2019-08-15T17:39:34.570480Z",
     "start_time": "2019-08-15T17:39:34.072030Z"
    }
   },
   "outputs": [],
   "source": [
    "titanic.Ft_Cabin[titanic.Ft_Cabin =='Uknow'] = titanic.Cabin[titanic.Ft_Cabin =='Uknow'].str.extract('([a-zA-Z])', expand=False)"
   ]
  },
  {
   "cell_type": "code",
   "execution_count": null,
   "metadata": {
    "ExecuteTime": {
     "end_time": "2019-08-15T17:39:34.605521Z",
     "start_time": "2019-08-15T17:39:34.334Z"
    }
   },
   "outputs": [],
   "source": [
    "titanic.Ft_Cabin[titanic.Ft_Cabin.isna()] = 'Uknow'"
   ]
  },
  {
   "cell_type": "code",
   "execution_count": 380,
   "metadata": {
    "ExecuteTime": {
     "end_time": "2019-08-15T17:39:34.726386Z",
     "start_time": "2019-08-15T17:39:34.720389Z"
    }
   },
   "outputs": [],
   "source": [
    "titanic[\"Ft_Cabin\"] = titanic[\"Ft_Cabin\"].replace(['L','T','W'], 'G')\n"
   ]
  },
  {
   "cell_type": "code",
   "execution_count": 381,
   "metadata": {
    "ExecuteTime": {
     "end_time": "2019-08-15T17:39:34.860118Z",
     "start_time": "2019-08-15T17:39:34.853087Z"
    }
   },
   "outputs": [],
   "source": [
    "titanic.loc[titanic.Cabin.isna(),'Cabin'] = 'Uknow'"
   ]
  },
  {
   "cell_type": "code",
   "execution_count": 382,
   "metadata": {
    "ExecuteTime": {
     "end_time": "2019-08-15T17:39:35.078337Z",
     "start_time": "2019-08-15T17:39:35.071332Z"
    }
   },
   "outputs": [],
   "source": [
    "titanic.loc[titanic.Ft_Cabin.isna(),'Ft_Cabin'] = 'Uknow'\n"
   ]
  },
  {
   "cell_type": "code",
   "execution_count": 383,
   "metadata": {
    "ExecuteTime": {
     "end_time": "2019-08-15T17:39:35.349091Z",
     "start_time": "2019-08-15T17:39:35.343088Z"
    }
   },
   "outputs": [
    {
     "data": {
      "text/plain": [
       "Ft_Cabin\n",
       "A         41\n",
       "B         31\n",
       "C         91\n",
       "D         26\n",
       "E         23\n",
       "F         18\n",
       "G         20\n",
       "P         65\n",
       "S         65\n",
       "Uknow    511\n",
       "Name: Survived, dtype: int64"
      ]
     },
     "execution_count": 383,
     "metadata": {},
     "output_type": "execute_result"
    }
   ],
   "source": [
    "titanic.groupby('Ft_Cabin').Survived.count()\n"
   ]
  },
  {
   "cell_type": "code",
   "execution_count": null,
   "metadata": {
    "ExecuteTime": {
     "end_time": "2019-08-13T20:27:09.500686Z",
     "start_time": "2019-08-13T20:27:09.393730Z"
    }
   },
   "outputs": [],
   "source": [
    "titanic.isnull().sum()"
   ]
  },
  {
   "cell_type": "markdown",
   "metadata": {},
   "source": [
    "* Por ser apenas dua observações , foi preenchida com a moda"
   ]
  },
  {
   "cell_type": "markdown",
   "metadata": {},
   "source": [
    "# Continuando analise exploratória "
   ]
  },
  {
   "cell_type": "code",
   "execution_count": null,
   "metadata": {
    "ExecuteTime": {
     "end_time": "2019-08-13T20:27:09.860589Z",
     "start_time": "2019-08-13T20:27:09.775505Z"
    }
   },
   "outputs": [],
   "source": [
    "titanic.info()"
   ]
  },
  {
   "cell_type": "code",
   "execution_count": null,
   "metadata": {
    "ExecuteTime": {
     "end_time": "2019-08-13T20:27:10.124460Z",
     "start_time": "2019-08-13T20:27:09.861595Z"
    }
   },
   "outputs": [],
   "source": [
    "g = sns.factorplot(x=\"Sex\",y=\"Age\",data=titanic,kind=\"box\", size = 6 , \n",
    "palette = \"muted\")\n",
    "g.despine(left=True)\n",
    "g = g.set_ylabels(\"Age\")\n",
    "plt.title('Boxplot - Age x sex')"
   ]
  },
  {
   "cell_type": "code",
   "execution_count": null,
   "metadata": {
    "ExecuteTime": {
     "end_time": "2019-08-13T20:27:10.308729Z",
     "start_time": "2019-08-13T20:27:10.125452Z"
    }
   },
   "outputs": [],
   "source": [
    "g = sns.factorplot(x=\"Sex\",y=\"Fare\",data=titanic,kind=\"box\", size = 6 , \n",
    "palette = \"muted\")\n",
    "g.despine(left=True)\n",
    "g = g.set_ylabels(\"Fare\")\n",
    "plt.title('Boxplot - Fare x sex')"
   ]
  },
  {
   "cell_type": "code",
   "execution_count": null,
   "metadata": {
    "ExecuteTime": {
     "end_time": "2019-08-13T20:27:10.520168Z",
     "start_time": "2019-08-13T20:27:10.309737Z"
    }
   },
   "outputs": [],
   "source": [
    "g = sns.factorplot(x=\"Pclass\",y=\"Age\",data=titanic,kind=\"box\", size = 6 , \n",
    "palette = \"muted\")\n",
    "g.despine(left=True)\n",
    "g = g.set_ylabels(\"Age\")\n",
    "plt.title('Boxplot - Age x Pclass')"
   ]
  },
  {
   "cell_type": "code",
   "execution_count": null,
   "metadata": {
    "ExecuteTime": {
     "end_time": "2019-08-13T20:27:10.718174Z",
     "start_time": "2019-08-13T20:27:10.521164Z"
    }
   },
   "outputs": [],
   "source": [
    "g = sns.factorplot(x=\"Pclass\",y=\"Fare\",data=titanic,kind=\"box\", size = 6 , \n",
    "palette = \"muted\")\n",
    "g.despine(left=True)\n",
    "g = g.set_ylabels(\"Fare\")\n",
    "plt.title('Boxplot - Fare x Pclass')"
   ]
  },
  {
   "cell_type": "code",
   "execution_count": null,
   "metadata": {
    "ExecuteTime": {
     "end_time": "2019-08-13T20:27:10.926495Z",
     "start_time": "2019-08-13T20:27:10.719173Z"
    }
   },
   "outputs": [],
   "source": [
    "g = sns.factorplot(x=\"Embarked\",y=\"Age\",data=titanic,kind=\"box\", size = 6 , \n",
    "palette = \"muted\")\n",
    "g.despine(left=True)\n",
    "g = g.set_ylabels(\"Age\")\n",
    "plt.title('Boxplot - Age x Embarked')"
   ]
  },
  {
   "cell_type": "code",
   "execution_count": null,
   "metadata": {
    "ExecuteTime": {
     "end_time": "2019-08-13T20:27:11.126813Z",
     "start_time": "2019-08-13T20:27:10.927484Z"
    }
   },
   "outputs": [],
   "source": [
    "g = sns.factorplot(x=\"Embarked\",y=\"Fare\",data=titanic,kind=\"box\", size = 6 , \n",
    "palette = \"muted\")\n",
    "g.despine(left=True)\n",
    "g = g.set_ylabels(\"Fare\")\n",
    "plt.title('Boxplot - Fare x Embarked')"
   ]
  },
  {
   "cell_type": "code",
   "execution_count": null,
   "metadata": {
    "ExecuteTime": {
     "end_time": "2019-08-13T20:27:11.368613Z",
     "start_time": "2019-08-13T20:27:11.127818Z"
    }
   },
   "outputs": [],
   "source": [
    "g = sns.factorplot(x=\"Title\",y=\"Age\",data=titanic,kind=\"box\", size = 6 , \n",
    "palette = \"muted\")\n",
    "g.despine(left=True)\n",
    "g = g.set_ylabels(\"Age\")\n",
    "plt.title('Boxplot - Age x Title')"
   ]
  },
  {
   "cell_type": "code",
   "execution_count": null,
   "metadata": {
    "ExecuteTime": {
     "end_time": "2019-08-13T20:27:11.393132Z",
     "start_time": "2019-08-13T20:27:11.369614Z"
    }
   },
   "outputs": [],
   "source": [
    "titanic.loc[titanic.Age  <  12,'Fx_Age'] = '1_11'\n",
    "titanic.loc[(titanic.Age >= 12) & (titanic.Age < 26),'Fx_Age']    = '12_25'\n",
    "titanic.loc[(titanic.Age >= 26) & (titanic.Age < 41),'Fx_Age']    = '26_40'\n",
    "titanic.loc[(titanic.Age >= 41) & (titanic.Age < 56),'Fx_Age']    = '41_55'\n",
    "titanic.loc[titanic.Age  >= 56,'Fx_Age'] = '56_80'\n",
    "\n"
   ]
  },
  {
   "cell_type": "code",
   "execution_count": null,
   "metadata": {
    "ExecuteTime": {
     "end_time": "2019-08-13T20:27:11.833006Z",
     "start_time": "2019-08-13T20:27:11.394633Z"
    }
   },
   "outputs": [],
   "source": [
    "g = sns.factorplot(x=\"Fx_Age\",y=\"Age\",hue='Survived', data=titanic,kind=\"box\", size = 6 , \n",
    "palette = \"muted\")\n",
    "g.despine(left=True)\n",
    "g = g.set_ylabels(\"Age\")\n",
    "plt.title('Boxplot - Age x Title')"
   ]
  },
  {
   "cell_type": "code",
   "execution_count": null,
   "metadata": {
    "ExecuteTime": {
     "end_time": "2019-08-13T20:27:12.062810Z",
     "start_time": "2019-08-13T20:27:11.834013Z"
    }
   },
   "outputs": [],
   "source": [
    "g = sns.factorplot(x=\"Title\",y=\"Fare\",data=titanic,kind=\"box\", size = 6 , \n",
    "palette = \"muted\")\n",
    "g.despine(left=True)\n",
    "g = g.set_ylabels(\"Fare\")\n",
    "plt.title('Boxplot - Fare x Title')"
   ]
  },
  {
   "cell_type": "code",
   "execution_count": null,
   "metadata": {
    "ExecuteTime": {
     "end_time": "2019-08-13T20:27:12.380314Z",
     "start_time": "2019-08-13T20:27:12.063810Z"
    }
   },
   "outputs": [],
   "source": [
    "g = sns.factorplot(x=\"Ft_Cabin\",y=\"Age\",data=titanic,kind=\"box\", size = 6 , \n",
    "palette = \"muted\")\n",
    "g.despine(left=True)\n",
    "g = g.set_ylabels(\"Age\")\n",
    "plt.title('Boxplot - Age x Survived')"
   ]
  },
  {
   "cell_type": "code",
   "execution_count": null,
   "metadata": {
    "ExecuteTime": {
     "end_time": "2019-08-13T20:27:12.733202Z",
     "start_time": "2019-08-13T20:27:12.382315Z"
    }
   },
   "outputs": [],
   "source": [
    "g = sns.factorplot(x=\"Ft_Cabin\",y=\"Fare\",data=titanic,kind=\"box\", size = 10,\n",
    "palette = \"muted\")\n",
    "g.despine(left=True)\n",
    "g = g.set_ylabels(\"Fare\")\n",
    "plt.title('Boxplot - Fare x Survived')\n",
    "plt.ylim(titanic.Fare.min(),200.000)"
   ]
  },
  {
   "cell_type": "code",
   "execution_count": null,
   "metadata": {
    "ExecuteTime": {
     "end_time": "2019-08-13T20:27:12.752199Z",
     "start_time": "2019-08-13T20:27:12.734174Z"
    }
   },
   "outputs": [],
   "source": [
    "titanic.loc[titanic.Fare  <  26.000,'Fx_Fare'] = '0_25'\n",
    "\n",
    "titanic.loc[(titanic.Fare >= 26.000) & (titanic.Fare < 76.000),'Fx_Fare']  = '26_75'\n",
    "\n",
    "titanic.loc[(titanic.Fare  >=  76.000)& (titanic.Fare < 151.000),'Fx_Fare']='76_150'\n",
    "\n",
    "titanic.loc[titanic.Fare  >=  151.000, 'Fx_Fare']='151_512'"
   ]
  },
  {
   "cell_type": "code",
   "execution_count": null,
   "metadata": {
    "ExecuteTime": {
     "end_time": "2019-08-13T20:27:13.154496Z",
     "start_time": "2019-08-13T20:27:12.753204Z"
    }
   },
   "outputs": [],
   "source": [
    "g = sns.factorplot(x=\"Fx_Fare\",y=\"Fare\", hue='Survived',data=titanic,kind=\"box\", size = 6,\n",
    "palette = \"muted\")\n",
    "g.despine(left=True)\n",
    "g = g.set_ylabels(\"Fare\")\n",
    "plt.title('Boxplot - Fare x Survived')\n",
    "plt.ylim(titanic.Fare.min(),200.000)"
   ]
  },
  {
   "cell_type": "markdown",
   "metadata": {},
   "source": [
    "# Feature Engineer"
   ]
  },
  {
   "cell_type": "markdown",
   "metadata": {},
   "source": [
    "\n",
    "## Sibsp\n"
   ]
  },
  {
   "cell_type": "markdown",
   "metadata": {},
   "source": [
    "sibsp : O conjunto de dados define relações familiares desta forma  \n",
    "Irmão = irmã, irmão, meio-irmão, irmã adotiva  \n",
    "Esposa = marido, esposa (amantes e noivas foram ignorados)  "
   ]
  },
  {
   "cell_type": "markdown",
   "metadata": {},
   "source": [
    "## Parch\n",
    "parch : O conjunto de dados define as relações familiares desta forma   \n",
    "Pai = mãe, pai  \n",
    "Criança = filha, filho, enteada, enteado  \n",
    "Algumas crianças viajavam apenas com uma babá, portanto parch = 0 para elas."
   ]
  },
  {
   "cell_type": "code",
   "execution_count": null,
   "metadata": {
    "ExecuteTime": {
     "end_time": "2019-08-13T20:27:13.171509Z",
     "start_time": "2019-08-13T20:27:13.163485Z"
    }
   },
   "outputs": [],
   "source": [
    "titanic['Ft_Alone']=0\n",
    "titanic.loc[(titanic.SibSp==0)&(titanic.Parch==0), 'Ft_Alone']=1"
   ]
  },
  {
   "cell_type": "code",
   "execution_count": null,
   "metadata": {
    "ExecuteTime": {
     "end_time": "2019-08-13T20:27:13.758536Z",
     "start_time": "2019-08-13T20:27:13.273487Z"
    }
   },
   "outputs": [],
   "source": [
    "axes = sns.factorplot('Ft_Familia','Survived', \n",
    "                      data=titanic, aspect = 2.5, )"
   ]
  },
  {
   "cell_type": "markdown",
   "metadata": {},
   "source": [
    "## Nomrmalização Age e Fare Min/Max"
   ]
  },
  {
   "cell_type": "code",
   "execution_count": null,
   "metadata": {
    "ExecuteTime": {
     "end_time": "2019-08-13T20:45:39.791373Z",
     "start_time": "2019-08-13T20:45:39.781372Z"
    }
   },
   "outputs": [],
   "source": [
    "from sklearn import preprocessing\n",
    "\n",
    "scaler = preprocessing.MinMaxScaler(feature_range=(0,1))\n",
    "# fit and transform in one step\n",
    "titanic['Norm_Age'] = scaler.fit_transform(titanic[['Age']])\n",
    "titanic['Norm_Fare'] = scaler.fit_transform(titanic[['Fare']])\n"
   ]
  },
  {
   "cell_type": "code",
   "execution_count": null,
   "metadata": {
    "ExecuteTime": {
     "end_time": "2019-08-13T20:45:40.405868Z",
     "start_time": "2019-08-13T20:45:40.156693Z"
    }
   },
   "outputs": [],
   "source": [
    "ax = sns.scatterplot(x=\"Norm_Age\", y=\"Norm_Fare\", hue='Status_Survived', data=titanic)"
   ]
  },
  {
   "cell_type": "code",
   "execution_count": null,
   "metadata": {
    "ExecuteTime": {
     "end_time": "2019-08-13T20:30:02.916344Z",
     "start_time": "2019-08-13T20:30:02.912356Z"
    }
   },
   "outputs": [],
   "source": [
    "titanic['Age2'] = titanic['Age']"
   ]
  },
  {
   "cell_type": "code",
   "execution_count": null,
   "metadata": {
    "ExecuteTime": {
     "end_time": "2019-08-13T20:31:28.611567Z",
     "start_time": "2019-08-13T20:31:28.607565Z"
    }
   },
   "outputs": [],
   "source": [
    "titanic['Fare2'] = titanic['Fare']/1000"
   ]
  },
  {
   "cell_type": "code",
   "execution_count": null,
   "metadata": {
    "ExecuteTime": {
     "end_time": "2019-08-13T20:31:29.280700Z",
     "start_time": "2019-08-13T20:31:29.023760Z"
    }
   },
   "outputs": [],
   "source": [
    "ax = sns.scatterplot(x=\"Fare2\", y=\"Age2\", hue='Status_Survived', data=titanic)"
   ]
  },
  {
   "cell_type": "code",
   "execution_count": null,
   "metadata": {
    "ExecuteTime": {
     "end_time": "2019-08-13T17:24:33.774957Z",
     "start_time": "2019-08-13T17:24:33.749941Z"
    }
   },
   "outputs": [],
   "source": [
    "titanic.head()"
   ]
  },
  {
   "cell_type": "markdown",
   "metadata": {},
   "source": [
    "## Ft_Prioridade"
   ]
  },
  {
   "cell_type": "code",
   "execution_count": null,
   "metadata": {
    "ExecuteTime": {
     "end_time": "2019-08-13T17:04:07.938118Z",
     "start_time": "2019-08-13T17:04:07.923108Z"
    }
   },
   "outputs": [],
   "source": [
    "titanic.loc[titanic.Fx_Age=='1_11','Ft_Prioridade']= 0\n",
    "\n",
    "titanic.loc[(titanic.Age>=11)& (titanic.Sex=='female'),'Ft_Prioridade']=1\n",
    "\n",
    "titanic.loc[(titanic.Age>=11)&(titanic.Sex=='male'),'Ft_Prioridade']   = 2"
   ]
  },
  {
   "cell_type": "code",
   "execution_count": null,
   "metadata": {
    "ExecuteTime": {
     "end_time": "2019-08-13T17:25:06.952126Z",
     "start_time": "2019-08-13T17:25:06.700442Z"
    }
   },
   "outputs": [],
   "source": [
    "ax = sns.scatterplot(x=\"Ft_Alone\", y=\"Title\", hue='Survived', data=titanic)"
   ]
  },
  {
   "cell_type": "markdown",
   "metadata": {},
   "source": [
    "# Label Enconding"
   ]
  },
  {
   "cell_type": "code",
   "execution_count": null,
   "metadata": {
    "ExecuteTime": {
     "end_time": "2019-08-13T17:04:08.300211Z",
     "start_time": "2019-08-13T17:04:08.288188Z"
    }
   },
   "outputs": [],
   "source": [
    "titanic.info()"
   ]
  },
  {
   "cell_type": "code",
   "execution_count": null,
   "metadata": {
    "ExecuteTime": {
     "end_time": "2019-08-13T17:04:08.396226Z",
     "start_time": "2019-08-13T17:04:08.301697Z"
    }
   },
   "outputs": [],
   "source": [
    "titanic.Sex=titanic.Sex.map({'male':1,'female':0})"
   ]
  },
  {
   "cell_type": "code",
   "execution_count": null,
   "metadata": {
    "ExecuteTime": {
     "end_time": "2019-08-13T17:04:08.508489Z",
     "start_time": "2019-08-13T17:04:08.397835Z"
    }
   },
   "outputs": [],
   "source": [
    "label_encoder  = LabelEncoder()\n",
    "label_encoder  = label_encoder.fit(titanic.Ft_Familia)\n",
    "titanic['OneHt_Ft_Familia'] = label_encoder.transform(titanic.Ft_Familia)\n",
    "\n",
    "label_encoder  = LabelEncoder()\n",
    "label_encoder  = label_encoder.fit(titanic.Ft_Cabin)\n",
    "titanic['OneHt_Ft_Cabin'] = label_encoder.transform(titanic.Ft_Cabin)\n",
    "\n",
    "label_encoder  = LabelEncoder()\n",
    "label_encoder  = label_encoder.fit(titanic.Title)\n",
    "titanic['OneHt_Ft_Title'] = label_encoder.transform(titanic.Title)\n",
    "\n",
    "\n",
    "label_encoder  = LabelEncoder()\n",
    "label_encoder  = label_encoder.fit(titanic.Embarked)\n",
    "titanic['OneHt_Embarked'] = label_encoder.transform(titanic.Embarked)\n",
    "\n",
    "label_encoder  = LabelEncoder()\n",
    "label_encoder  = label_encoder.fit(titanic.Fx_Age)\n",
    "titanic['OneHt_Fx_Age'] = label_encoder.transform(titanic.Fx_Age)\n",
    "\n",
    "label_encoder  = LabelEncoder()\n",
    "label_encoder  = label_encoder.fit(titanic.Fx_Fare)\n",
    "titanic['OneHt_Fx_Fare'] = label_encoder.transform(titanic.Fx_Fare)\n",
    "\n",
    "label_encoder  = LabelEncoder()\n",
    "label_encoder  = label_encoder.fit(titanic.Ft_Alone)\n",
    "titanic['OneHt_Ft_Alone'] = label_encoder.transform(titanic.Ft_Alone)\n",
    "\n",
    "label_encoder  = LabelEncoder()\n",
    "label_encoder  = label_encoder.fit(titanic.Ft_Prioridade)\n",
    "titanic['OneHt_Ft_Prioridade'] = label_encoder.transform(titanic.Ft_Prioridade)"
   ]
  },
  {
   "cell_type": "code",
   "execution_count": null,
   "metadata": {
    "ExecuteTime": {
     "end_time": "2019-08-13T17:04:18.598750Z",
     "start_time": "2019-08-13T17:04:18.592757Z"
    }
   },
   "outputs": [],
   "source": [
    "feture=titanic[['Survived','Pclass','Sex',\n",
    "'OneHt_Ft_Familia',\n",
    "'OneHt_Ft_Cabin',\n",
    "'OneHt_Ft_Title',\n",
    "'OneHt_Embarked',\n",
    "'OneHt_Fx_Age',                \n",
    "'OneHt_Fx_Fare',                \n",
    "'OneHt_Ft_Alone',\n",
    "'OneHt_Ft_Prioridade'\n",
    "               ]]"
   ]
  },
  {
   "cell_type": "code",
   "execution_count": null,
   "metadata": {
    "ExecuteTime": {
     "end_time": "2019-08-13T17:04:19.721394Z",
     "start_time": "2019-08-13T17:04:18.984744Z"
    }
   },
   "outputs": [],
   "source": [
    "plt.figure(figsize = (16,5))\n",
    "\n",
    "g = sns.heatmap(feture.corr(),annot=True, fmt = \".2f\", cmap = \"coolwarm\", linewidths=.5)\n"
   ]
  },
  {
   "cell_type": "markdown",
   "metadata": {},
   "source": [
    "## Binarização"
   ]
  },
  {
   "cell_type": "code",
   "execution_count": null,
   "metadata": {
    "ExecuteTime": {
     "end_time": "2019-08-13T14:33:29.014428Z",
     "start_time": "2019-08-13T14:33:28.946806Z"
    }
   },
   "outputs": [],
   "source": [
    "#titanic = pd.get_dummies(titanic, columns = [\"OneHt_Ft_Pclass\"] , prefix=\"BIN_Pclass\")\n",
    "#titanic = pd.get_dummies(titanic, columns = [\"OneHt_Ft_Sex\"]    , prefix=\"BIN_Sex\")      \n",
    "#titanic = pd.get_dummies(titanic, columns = [\"OneHt_Ft_Prioridade\"], prefix=\"BIN_Prioridade\")\n",
    "titanic = pd.get_dummies(titanic, columns = [\"OneHt_Ft_Familia\"]       , prefix=\"BIN_Ft_Familia\"  ,drop_first=True)\n",
    "\n",
    "titanic = pd.get_dummies(titanic, columns = [\"OneHt_Ft_Cabin\"]       , prefix=\"BIN_Ft_Cabin\"  ,drop_first=True)\n",
    "titanic = pd.get_dummies(titanic, columns = [\"OneHt_Ft_Title\"]       , prefix=\"BIN_Ft_Title\"   ,drop_first=True)\n",
    "titanic = pd.get_dummies(titanic, columns = [\"OneHt_Embarked\"]       , prefix=\"BIN_Embarked\"   ,drop_first=True)\n",
    "titanic = pd.get_dummies(titanic, columns = [\"OneHt_Fx_Age\"]         , prefix=\"BIN_Fx_Age\"     ,drop_first=True)\n",
    "titanic = pd.get_dummies(titanic, columns = [\"OneHt_Fx_Fare\"]        , prefix=\"BIN_Fx_Fare\"     ,drop_first=True)\n",
    "titanic = pd.get_dummies(titanic, columns = [\"OneHt_Ft_Alone\"]       , prefix=\"BIN_Ft_Alone\")\n",
    "titanic = pd.get_dummies(titanic, columns = [\"OneHt_Ft_Prioridade\"]  , prefix=\"BIN_Ft_Prioridade\",drop_first=True   )\n",
    "\n"
   ]
  },
  {
   "cell_type": "markdown",
   "metadata": {},
   "source": [
    "# Construindo Modelo\n",
    "\n"
   ]
  },
  {
   "cell_type": "code",
   "execution_count": null,
   "metadata": {
    "ExecuteTime": {
     "end_time": "2019-08-13T18:09:47.665291Z",
     "start_time": "2019-08-13T18:09:47.659287Z"
    }
   },
   "outputs": [],
   "source": [
    "print(titanic[0:891].Survived.isna().sum())\n",
    "print(titanic[891:1309].Survived.isna().sum())"
   ]
  },
  {
   "cell_type": "code",
   "execution_count": null,
   "metadata": {
    "ExecuteTime": {
     "end_time": "2019-08-13T18:09:48.245016Z",
     "start_time": "2019-08-13T18:09:48.046887Z"
    }
   },
   "outputs": [],
   "source": [
    "titanic.loc[titanic.Status_Survived=='Morto','Survived']='0'\n",
    "titanic.loc[titanic.Status_Survived=='Vivo' ,'Survived']='1'\n",
    "\n",
    "\n",
    "train=titanic[0:891]\n",
    "test= titanic[891:1309]\n",
    "IDtest = test_csv['PassengerId']\n",
    "train.Survived= train.Survived.astype(int)\n"
   ]
  },
  {
   "cell_type": "code",
   "execution_count": null,
   "metadata": {
    "ExecuteTime": {
     "end_time": "2019-08-13T18:09:48.436517Z",
     "start_time": "2019-08-13T18:09:48.430527Z"
    }
   },
   "outputs": [],
   "source": [
    "titanic.groupby('Survived').Survived.count()"
   ]
  },
  {
   "cell_type": "code",
   "execution_count": null,
   "metadata": {
    "ExecuteTime": {
     "end_time": "2019-08-13T18:09:48.788212Z",
     "start_time": "2019-08-13T18:09:48.781219Z"
    }
   },
   "outputs": [],
   "source": [
    "train.groupby('Survived').Survived.count()"
   ]
  },
  {
   "cell_type": "code",
   "execution_count": null,
   "metadata": {
    "ExecuteTime": {
     "end_time": "2019-08-13T18:09:49.179408Z",
     "start_time": "2019-08-13T18:09:49.173393Z"
    }
   },
   "outputs": [],
   "source": [
    " train = train.drop(labels =['level_0','index','PassengerId','Name','Title',\n",
    "                            'Ticket','SibSp','Parch','Cabin','Embarked','Age_y',\n",
    "                            #'Age',\n",
    "                            #'Fare',\n",
    "                            #'Norm_Age','Norm_Fare', \n",
    "                            'Fx_Age',\n",
    "                            'Fx_Fare',\n",
    "                            'Status_Survived',\n",
    "                            'Ft_Cabin',\n",
    "                            'Ft_Alone',\n",
    "                            'Ft_Prioridade',\n",
    "                            ],\n",
    "                    axis = 1)"
   ]
  },
  {
   "cell_type": "code",
   "execution_count": null,
   "metadata": {
    "ExecuteTime": {
     "end_time": "2019-08-13T18:09:49.744925Z",
     "start_time": "2019-08-13T18:09:49.739938Z"
    }
   },
   "outputs": [],
   "source": [
    " test = test.drop(labels =['level_0','index','PassengerId','Name','Title',\n",
    "                            'Ticket','SibSp','Parch','Cabin','Embarked','Age_y',\n",
    "                            #'Age',\n",
    "                            #'Fare',\n",
    "                            #'Norm_Age','Norm_Fare', \n",
    "                            'Fx_Age',\n",
    "                            'Fx_Fare',\n",
    "                            'Status_Survived',\n",
    "                            'Ft_Cabin',\n",
    "                            'Ft_Alone',\n",
    "                            'Ft_Prioridade',\n",
    "                            ],\n",
    "                    axis = 1)"
   ]
  },
  {
   "cell_type": "code",
   "execution_count": null,
   "metadata": {
    "ExecuteTime": {
     "end_time": "2019-08-13T18:09:50.309539Z",
     "start_time": "2019-08-13T18:09:50.299551Z"
    }
   },
   "outputs": [],
   "source": [
    "train.info()"
   ]
  },
  {
   "cell_type": "code",
   "execution_count": null,
   "metadata": {
    "ExecuteTime": {
     "end_time": "2019-08-13T18:07:46.741219Z",
     "start_time": "2019-08-13T18:07:46.727691Z"
    }
   },
   "outputs": [],
   "source": [
    "train.head()"
   ]
  },
  {
   "cell_type": "code",
   "execution_count": null,
   "metadata": {
    "ExecuteTime": {
     "end_time": "2019-08-13T18:09:54.392560Z",
     "start_time": "2019-08-13T18:09:54.387574Z"
    }
   },
   "outputs": [],
   "source": [
    "from sklearn.model_selection import train_test_split\n",
    "\n",
    "y_train = np.array(train[\"Survived\"])\n",
    "X_train = np.array(train.drop(labels = [\"Survived\"],axis = 1))\n",
    "\n",
    "#X_train, X_test, y_train, y_test = train_test_split(X, y, test_size = 0.2, random_state = 0)"
   ]
  },
  {
   "cell_type": "code",
   "execution_count": null,
   "metadata": {
    "ExecuteTime": {
     "end_time": "2019-08-13T18:09:55.143946Z",
     "start_time": "2019-08-13T18:09:55.139961Z"
    }
   },
   "outputs": [],
   "source": [
    "X_train"
   ]
  },
  {
   "cell_type": "code",
   "execution_count": null,
   "metadata": {
    "ExecuteTime": {
     "end_time": "2019-08-13T20:09:06.278143Z",
     "start_time": "2019-08-13T20:09:00.994869Z"
    }
   },
   "outputs": [],
   "source": [
    "import matplotlib.pyplot as plt\n",
    "from sklearn import datasets\n",
    "from sklearn.svm import SVC\n",
    "from mlxtend.plotting import plot_decision_regions\n",
    "\n",
    "plt.figure(figsize=(16,8))\n",
    "# Loading some example data\n",
    "train[\"Survived\"] =train[\"Survived\"].astype(int)\n",
    "X = np.array(train[['Fare','Age']])\n",
    "y = np.array(train[\"Survived\"])\n",
    "\n",
    "# Training a classifier\n",
    "svm =SVC(C=0.5, kernel='linear')\n",
    "#svm= SVC(decision_function_shape = 'ovr')\n",
    "svm.fit(X, y)\n",
    "\n",
    "# Plotting decision regions\n",
    "plot_decision_regions(X, y, clf=svm, legend=2)\n",
    "\n",
    "# Adding axes annotations\n",
    "plt.xlabel('Title')\n",
    "plt.title('SVM on Titanic')\n",
    "\n",
    "plt.show()"
   ]
  },
  {
   "cell_type": "code",
   "execution_count": null,
   "metadata": {
    "ExecuteTime": {
     "end_time": "2019-08-13T20:12:51.175615Z",
     "start_time": "2019-08-13T20:12:51.150263Z"
    }
   },
   "outputs": [],
   "source": [
    "X[:, 0]"
   ]
  },
  {
   "cell_type": "code",
   "execution_count": null,
   "metadata": {
    "ExecuteTime": {
     "end_time": "2019-08-13T21:31:01.003104Z",
     "start_time": "2019-08-13T21:30:49.365928Z"
    }
   },
   "outputs": [],
   "source": [
    "# Loading Plotting Utilities\n",
    "import matplotlib.pyplot as plt\n",
    "import matplotlib.gridspec as gridspec\n",
    "import itertools\n",
    "from mlxtend.plotting import plot_decision_regions\n",
    "import numpy as np\n",
    "\n",
    "from sklearn.linear_model import LogisticRegression\n",
    "from sklearn.naive_bayes import GaussianNB \n",
    "from sklearn.ensemble import RandomForestClassifier\n",
    "from sklearn.svm import SVC\n",
    "\n",
    "\n",
    "\n",
    "\n",
    "plt.figure(figsize=(16,8))\n",
    "\n",
    "# Initializing Classifiers\n",
    "clf1 = LogisticRegression(random_state=2, solver='lbfgs')\n",
    "clf2 = RandomForestClassifier(n_estimators=100, \n",
    "                              random_state=1)\n",
    "clf3 = GaussianNB()\n",
    "clf4 = SVC(gamma='auto')\n",
    "\n",
    "gs = gridspec.GridSpec(2, 2)\n",
    "\n",
    "fig = plt.figure(figsize=(10,8))\n",
    "\n",
    "labels = ['Logistic Regression', 'Random Forest', 'Naive Bayes', 'SVM']\n",
    "for clf, lab, grd in zip([clf1, clf2, clf3, clf4],\n",
    "                         labels,\n",
    "                         itertools.product([0, 1], repeat=2)):\n",
    "\n",
    "    clf.fit(X, y)\n",
    "    ax = plt.subplot(gs[grd[0], grd[1]])\n",
    "    fig = plot_decision_regions(X=X, y=y, clf=clf, legend=2)\n",
    "    plt.title(lab)\n",
    "\n",
    "plt.show()"
   ]
  },
  {
   "cell_type": "code",
   "execution_count": null,
   "metadata": {
    "ExecuteTime": {
     "end_time": "2019-08-13T14:34:11.541106Z",
     "start_time": "2019-08-13T14:33:53.674108Z"
    }
   },
   "outputs": [],
   "source": [
    "# Modeling step Test differents algorithms \n",
    "kfold = StratifiedKFold(n_splits=3)\n",
    "random_state = 2\n",
    "classifiers = []\n",
    "classifiers.append(SVC(random_state=random_state))\n",
    "classifiers.append(DecisionTreeClassifier(random_state=random_state))\n",
    "classifiers.append(AdaBoostClassifier(DecisionTreeClassifier(random_state=random_state),random_state=random_state,learning_rate=0.1))\n",
    "classifiers.append(RandomForestClassifier(random_state=random_state))\n",
    "classifiers.append(ExtraTreesClassifier(random_state=random_state))\n",
    "classifiers.append(GradientBoostingClassifier(random_state=random_state))\n",
    "classifiers.append(MLPClassifier(random_state=random_state))\n",
    "classifiers.append(KNeighborsClassifier())\n",
    "classifiers.append(LogisticRegression(random_state = random_state))\n",
    "classifiers.append(LinearDiscriminantAnalysis())\n",
    "\n",
    "cv_results = []\n",
    "for classifier in classifiers :\n",
    "    cv_results.append(cross_val_score(classifier, X_train, y = y_train, scoring = \"accuracy\", cv = kfold, n_jobs=4))\n",
    "\n",
    "cv_means = []\n",
    "cv_std = []\n",
    "for cv_result in cv_results:\n",
    "    cv_means.append(cv_result.mean())\n",
    "    cv_std.append(cv_result.std())\n",
    "\n",
    "cv_res = pd.DataFrame({\"CrossValMeans\":cv_means,\"CrossValerrors\": cv_std,\"Algorithm\":[\"SVC\",\"DecisionTree\",\"AdaBoost\",\n",
    "\"RandomForest\",\"ExtraTrees\",\"GradientBoosting\",\"MultipleLayerPerceptron\",\"KNeighboors\",\"LogisticRegression\",\"LinearDiscriminantAnalysis\"]})\n",
    "\n",
    "g = sns.barplot(\"CrossValMeans\",\"Algorithm\",data = cv_res, palette=\"Set3\",orient = \"h\",**{'xerr':cv_std})\n",
    "g.set_xlabel(\"Mean Accuracy\")\n",
    "g = g.set_title(\"Cross validation scores\")"
   ]
  },
  {
   "cell_type": "code",
   "execution_count": null,
   "metadata": {
    "ExecuteTime": {
     "end_time": "2019-08-13T14:34:21.874117Z",
     "start_time": "2019-08-13T14:34:21.024334Z"
    }
   },
   "outputs": [],
   "source": [
    "# Adaboost\n",
    "DTC = DecisionTreeClassifier()\n",
    "\n",
    "adaDTC = AdaBoostClassifier(DTC, random_state=7)\n",
    "\n",
    "ada_param_grid = {\"base_estimator__criterion\" : [\"gini\", \"entropy\"],\n",
    "              \"base_estimator__splitter\" :   [\"best\", \"random\"],\n",
    "              \"algorithm\" : [\"SAMME\",\"SAMME.R\"],\n",
    "              \"n_estimators\" :[1,2],\n",
    "              \"learning_rate\":  [0.0001, 0.001, 0.01, 0.1, 0.2, 0.3,1.5]}\n",
    "\n",
    "gsadaDTC = GridSearchCV(adaDTC,param_grid = ada_param_grid, cv=kfold, scoring=\"accuracy\", n_jobs= 4, verbose = 1)\n",
    "\n",
    "gsadaDTC.fit(X_train,y_train)\n",
    "\n",
    "ada_best = gsadaDTC.best_estimator_\n",
    "gsadaDTC.best_score_\n"
   ]
  },
  {
   "cell_type": "code",
   "execution_count": null,
   "metadata": {
    "ExecuteTime": {
     "end_time": "2019-08-13T14:38:55.522925Z",
     "start_time": "2019-08-13T14:38:51.966387Z"
    }
   },
   "outputs": [],
   "source": [
    "#ExtraTrees \n",
    "ExtC = ExtraTreesClassifier()\n",
    "\n",
    "\n",
    "## Search grid for optimal parameters\n",
    "ex_param_grid = {\"max_depth\": [None],\n",
    "              \"max_features\": [10],\n",
    "              \"min_samples_split\": [2, 3, 10],\n",
    "              \"min_samples_leaf\": [1, 3, 10],\n",
    "              \"bootstrap\": [False],\n",
    "              \"n_estimators\" :[100,300],\n",
    "              \"criterion\": [\"gini\"]}\n",
    "\n",
    "\n",
    "gsExtC = GridSearchCV(ExtC,param_grid = ex_param_grid, cv=kfold, scoring=\"accuracy\", n_jobs= 4, verbose = 1)\n",
    "\n",
    "gsExtC.fit(X_train,y_train)\n",
    "\n",
    "ExtC_best = gsExtC.best_estimator_\n",
    "\n",
    "# Best score\n",
    "gsExtC.best_score_"
   ]
  },
  {
   "cell_type": "code",
   "execution_count": null,
   "metadata": {
    "ExecuteTime": {
     "end_time": "2019-08-13T14:35:02.108292Z",
     "start_time": "2019-08-13T14:34:56.184030Z"
    }
   },
   "outputs": [],
   "source": [
    "# RFC Parameters tunning \n",
    "RFC = RandomForestClassifier()\n",
    "\n",
    "\n",
    "## Search grid for optimal parameters\n",
    "rf_param_grid = {\"max_depth\": [None],\n",
    "              \"max_features\": [37],\n",
    "              \"min_samples_split\": [2, 3, 10],\n",
    "              \"min_samples_leaf\": [1, 3, 10],\n",
    "              \"bootstrap\": [False],\n",
    "              \"n_estimators\" :[100,300],\n",
    "              \"criterion\": [\"gini\"]}\n",
    "\n",
    "\n",
    "gsRFC = GridSearchCV(RFC,param_grid = rf_param_grid, cv=kfold, scoring=\"accuracy\", n_jobs= 4, verbose = 1)\n",
    "\n",
    "gsRFC.fit(X_train,y_train)\n",
    "\n",
    "RFC_best = gsRFC.best_estimator_\n",
    "\n",
    "# Best score\n",
    "gsRFC.best_score_"
   ]
  },
  {
   "cell_type": "code",
   "execution_count": null,
   "metadata": {
    "ExecuteTime": {
     "end_time": "2019-08-13T14:35:27.262902Z",
     "start_time": "2019-08-13T14:35:22.663667Z"
    }
   },
   "outputs": [],
   "source": [
    "# Gradient boosting tunning\n",
    "\n",
    "GBC = GradientBoostingClassifier()\n",
    "gb_param_grid = {'loss' : [\"deviance\"],\n",
    "              'n_estimators' : [100,200,300],\n",
    "              'learning_rate': [0.1, 0.05, 0.01],\n",
    "              'max_depth': [4, 8],\n",
    "              'min_samples_leaf': [100,150],\n",
    "              'max_features': [0.3, 0.1] \n",
    "              }\n",
    "\n",
    "gsGBC = GridSearchCV(GBC,param_grid = gb_param_grid, cv=kfold, scoring=\"accuracy\", n_jobs= 4, verbose = 1)\n",
    "\n",
    "gsGBC.fit(X_train,y_train)\n",
    "\n",
    "GBC_best = gsGBC.best_estimator_\n",
    "\n",
    "# Best score\n",
    "gsGBC.best_score_"
   ]
  },
  {
   "cell_type": "code",
   "execution_count": null,
   "metadata": {
    "ExecuteTime": {
     "end_time": "2019-08-13T14:35:32.365563Z",
     "start_time": "2019-08-13T14:35:29.279068Z"
    }
   },
   "outputs": [],
   "source": [
    "### SVC classifier\n",
    "SVMC = SVC(probability=True)\n",
    "svc_param_grid = {'kernel': ['rbf'], \n",
    "                  'gamma': [ 0.001, 0.01, 0.1, 1],\n",
    "                  'C': [1, 10, 50, 100,200,300, 1000]}\n",
    "\n",
    "gsSVMC = GridSearchCV(SVMC,param_grid = svc_param_grid, cv=kfold, scoring=\"accuracy\", n_jobs= 4, verbose = 1)\n",
    "\n",
    "gsSVMC.fit(X_train,y_train)\n",
    "\n",
    "SVMC_best = gsSVMC.best_estimator_\n",
    "\n",
    "# Best score\n",
    "gsSVMC.best_score_"
   ]
  },
  {
   "cell_type": "code",
   "execution_count": null,
   "metadata": {
    "ExecuteTime": {
     "end_time": "2019-08-13T14:35:35.331051Z",
     "start_time": "2019-08-13T14:35:34.550736Z"
    }
   },
   "outputs": [],
   "source": [
    "### META MODELING  WITH ADABOOST, RF, EXTRATREES and GRADIENTBOOSTING\n",
    "\n",
    "# Adaboost\n",
    "DTC = DecisionTreeClassifier()\n",
    "\n",
    "adaDTC = AdaBoostClassifier(DTC, random_state=7)\n",
    "\n",
    "ada_param_grid = {\"base_estimator__criterion\" : [\"gini\", \"entropy\"],\n",
    "              \"base_estimator__splitter\" :   [\"best\", \"random\"],\n",
    "              \"algorithm\" : [\"SAMME\",\"SAMME.R\"],\n",
    "              \"n_estimators\" :[1,2],\n",
    "              \"learning_rate\":  [0.0001, 0.001, 0.01, 0.1, 0.2, 0.3,1.5]}\n",
    "\n",
    "gsadaDTC = GridSearchCV(adaDTC,param_grid = ada_param_grid, cv=kfold, scoring=\"accuracy\", n_jobs= 4, verbose = 1)\n",
    "\n",
    "gsadaDTC.fit(X_train,y_train)\n",
    "\n",
    "ada_best = gsadaDTC.best_estimator_\n",
    "\n",
    "gsadaDTC.best_score_"
   ]
  },
  {
   "cell_type": "code",
   "execution_count": null,
   "metadata": {
    "ExecuteTime": {
     "end_time": "2019-08-13T14:35:41.147179Z",
     "start_time": "2019-08-13T14:35:40.559679Z"
    }
   },
   "outputs": [],
   "source": [
    "neighbors = np.arange(1, 9)\n",
    "weight_options = [\"uniform\", \"distance\"]\n",
    "\n",
    "knn = KNeighborsClassifier()\n",
    "\n",
    "param_grid = dict(n_neighbors = neighbors, weights = weight_options)\n",
    "\n",
    "gsKNN = GridSearchCV(knn, cv=kfold, param_grid = param_grid, scoring=\"accuracy\", n_jobs= 4, verbose = 1)\n",
    "\n",
    "gsKNN.fit(X_train,y_train)\n",
    "    \n",
    "Knn_best = gsKNN.best_estimator_\n",
    "\n",
    "gsKNN.best_score_"
   ]
  },
  {
   "cell_type": "code",
   "execution_count": null,
   "metadata": {
    "ExecuteTime": {
     "end_time": "2019-08-13T14:35:45.076283Z",
     "start_time": "2019-08-13T14:35:43.215640Z"
    }
   },
   "outputs": [],
   "source": [
    "param_grid={\"C\":np.logspace(-3,3,7), \n",
    "            \"penalty\":[\"l1\",\"l2\"]}# l1 lasso l2 ridge\n",
    "\n",
    "logreg= LogisticRegression()\n",
    "\n",
    "gslogreg = GridSearchCV(logreg, param_grid = param_grid, cv = 5, verbose=True, n_jobs=-1)\n",
    "\n",
    "gslogreg.fit(X_train, y_train)\n",
    "\n",
    "lgreg_best =  gslogreg.best_estimator_\n",
    "\n",
    "gslogreg.best_score_"
   ]
  },
  {
   "cell_type": "code",
   "execution_count": null,
   "metadata": {
    "ExecuteTime": {
     "end_time": "2019-08-13T14:39:20.872122Z",
     "start_time": "2019-08-13T14:39:17.300616Z"
    },
    "scrolled": false
   },
   "outputs": [],
   "source": [
    "def plot_learning_curve(estimator, title, X, y, ylim=None, cv=None,\n",
    "                        n_jobs=-1, train_sizes=np.linspace(.1, 1.0, 5)):\n",
    "    \"\"\"Generate a simple plot of the test and training learning curve\"\"\"\n",
    "    plt.figure(figsize = (8,3))\n",
    "    plt.title(title)\n",
    "    if ylim is not None:\n",
    "        plt.ylim(*ylim)\n",
    "    plt.xlabel(\"Training examples\")\n",
    "    plt.ylabel(\"Score\")\n",
    "    train_sizes, train_scores, test_scores = learning_curve(estimator, X, y, cv=cv, n_jobs=n_jobs, train_sizes=train_sizes)\n",
    "    train_scores_mean = np.mean(train_scores, axis=1)\n",
    "    train_scores_std = np.std(train_scores, axis=1)\n",
    "    test_scores_mean = np.mean(test_scores, axis=1)\n",
    "    test_scores_std = np.std(test_scores, axis=1)\n",
    "    plt.grid()\n",
    "\n",
    "    plt.fill_between(train_sizes, train_scores_mean - train_scores_std,\n",
    "                     train_scores_mean + train_scores_std, alpha=0.1,\n",
    "                     color=\"r\")\n",
    "    \n",
    "    plt.fill_between(train_sizes, test_scores_mean - test_scores_std,\n",
    "                     test_scores_mean + test_scores_std, alpha=0.1, color=\"g\")\n",
    "    \n",
    "    plt.plot(train_sizes, train_scores_mean, 'o-', color=\"r\",\n",
    "             label=\"Training score\")\n",
    "    \n",
    "    plt.plot(train_sizes, test_scores_mean, 'o-', color=\"g\",\n",
    "             label=\"Cross-validation score\")\n",
    "\n",
    "    plt.legend(loc=\"best\")\n",
    "    return plt\n",
    "g = plot_learning_curve(gsadaDTC.best_estimator_,\"DecisionTreeClassifier\",X_train,y_train,cv=kfold)\n",
    "g = plot_learning_curve(gsExtC.best_estimator_,\"ExtraTrees learning curves\",X_train,y_train,cv=kfold)\n",
    "g = plot_learning_curve(gsRFC.best_estimator_,\"RF mearning curves\",X_train,y_train,cv=kfold)\n",
    "g = plot_learning_curve(gsSVMC.best_estimator_,\"SVC learning curves\",X_train,y_train,cv=kfold)\n",
    "g = plot_learning_curve(gsadaDTC.best_estimator_,\"AdaBoost learning curves\",X_train,y_train,cv=kfold)\n",
    "g = plot_learning_curve(gsGBC.best_estimator_,\"GradientBoosting learning curves\",X_train,y_train,cv=kfold)\n",
    "g = plot_learning_curve(gsKNN.best_estimator_,\"KNN\",X_train,y_train,cv=kfold)\n",
    "g = plot_learning_curve(gslogreg.best_estimator_,\"LogisticRegression\",X_train,y_train,cv=kfold)"
   ]
  },
  {
   "cell_type": "markdown",
   "metadata": {},
   "source": [
    "# Feature Selection Baseado em Algoritmos de Árvore"
   ]
  },
  {
   "cell_type": "code",
   "execution_count": null,
   "metadata": {
    "ExecuteTime": {
     "end_time": "2019-08-13T18:17:45.835055Z",
     "start_time": "2019-08-13T18:17:45.809047Z"
    }
   },
   "outputs": [],
   "source": [
    "X_feature_select= train.drop(labels = [\"Survived\"],axis = 1)"
   ]
  },
  {
   "cell_type": "code",
   "execution_count": null,
   "metadata": {
    "ExecuteTime": {
     "end_time": "2019-08-13T14:40:25.982316Z",
     "start_time": "2019-08-13T14:40:23.979807Z"
    }
   },
   "outputs": [],
   "source": [
    "nrows = ncols = 2\n",
    "fig, axes = plt.subplots(nrows = nrows, ncols = ncols, sharex=\"all\", figsize=(15,15))\n",
    "\n",
    "names_classifiers = [(\"AdaBoosting\", ada_best),\n",
    "                     (\"ExtraTrees\",ExtC_best),\n",
    "                     (\"RandomForest\",RFC_best),\n",
    "                     (\"GradientBoosting\",GBC_best)]\n",
    "\n",
    "nclassifier = 0\n",
    "for row in range(nrows):\n",
    "    for col in range(ncols):\n",
    "        name = names_classifiers[nclassifier][0]\n",
    "        classifier = names_classifiers[nclassifier][1]\n",
    "        indices = np.argsort(classifier.feature_importances_)[::-1][:40]\n",
    "        g = sns.barplot(y=X_feature_select.columns[indices][:40],x = classifier.feature_importances_[indices][:40] , orient='h',ax=axes[row][col])\n",
    "        g.set_xlabel(\"Relative importance\",fontsize=12)\n",
    "        g.set_ylabel(\"Features\",fontsize=12)\n",
    "        g.tick_params(labelsize=9)\n",
    "        g.set_title(name + \" feature importance\")\n",
    "        nclassifier += 1\n"
   ]
  },
  {
   "cell_type": "markdown",
   "metadata": {},
   "source": [
    "# Predict"
   ]
  },
  {
   "cell_type": "code",
   "execution_count": null,
   "metadata": {
    "ExecuteTime": {
     "end_time": "2019-08-13T18:18:06.935551Z",
     "start_time": "2019-08-13T18:18:06.929058Z"
    }
   },
   "outputs": [],
   "source": [
    "#y = np.array(train[[\"Survived\"]])\n",
    "#X = np.array(train.drop(labels = [\"Survived\"],axis = 1))\n",
    "y_test = np.array(test[[\"Survived\"]])\n",
    "X_test = np.array(test.drop(labels = [\"Survived\"],axis = 1))\n"
   ]
  },
  {
   "cell_type": "code",
   "execution_count": null,
   "metadata": {
    "ExecuteTime": {
     "end_time": "2019-08-13T14:36:32.398402Z",
     "start_time": "2019-08-13T14:36:32.112192Z"
    }
   },
   "outputs": [],
   "source": [
    "votingC = VotingClassifier(estimators=[('rfc',    RFC_best), \n",
    "                                       ('extc',   ExtC_best),\n",
    "                                       ('svc',    SVMC_best) ,\n",
    "                                       ('adac',   ada_best),\n",
    "                                       ('gbc',    GBC_best),\n",
    "                                       ('logreg', lgreg_best)\n",
    "                                       ], voting='soft', n_jobs=4)\n",
    "\n",
    "votingC = votingC.fit(X_train, y_train)\n"
   ]
  },
  {
   "cell_type": "code",
   "execution_count": null,
   "metadata": {
    "ExecuteTime": {
     "end_time": "2019-08-13T18:19:49.891431Z",
     "start_time": "2019-08-13T18:19:49.886445Z"
    }
   },
   "outputs": [],
   "source": [
    "X_test = np.array(test[['Fare','Age']])\n"
   ]
  },
  {
   "cell_type": "code",
   "execution_count": null,
   "metadata": {},
   "outputs": [],
   "source": [
    "clf4"
   ]
  },
  {
   "cell_type": "code",
   "execution_count": null,
   "metadata": {
    "ExecuteTime": {
     "end_time": "2019-08-13T18:20:07.004112Z",
     "start_time": "2019-08-13T18:20:06.990132Z"
    }
   },
   "outputs": [],
   "source": [
    "#test_Survived = pd.Series(votingC.predict(X_test), name=\"Survived\")\n",
    "\n",
    "test_Survived = pd.Series(clf4.predict(X_test) , name=\"Survived\")\n",
    "\n",
    "results = pd.concat([IDtest,test_Survived],axis=1,ignore_index=False)\n",
    "\n",
    "results.to_csv(\"ensemble_python_voting.csv\",index=False)"
   ]
  },
  {
   "cell_type": "code",
   "execution_count": null,
   "metadata": {
    "ExecuteTime": {
     "end_time": "2019-08-13T18:20:34.557851Z",
     "start_time": "2019-08-13T18:20:34.519339Z"
    }
   },
   "outputs": [],
   "source": [
    "results.Survived.unique()"
   ]
  },
  {
   "cell_type": "code",
   "execution_count": null,
   "metadata": {},
   "outputs": [],
   "source": []
  }
 ],
 "metadata": {
  "gist": {
   "data": {
    "description": "https://github.com/Pantoja87/Titanic-Disaster.git",
    "public": true
   },
   "id": ""
  },
  "hide_input": false,
  "kernelspec": {
   "display_name": "Python 3",
   "language": "python",
   "name": "python3"
  },
  "nbTranslate": {
   "displayLangs": [
    "*"
   ],
   "hotkey": "alt-t",
   "langInMainMenu": true,
   "sourceLang": "en",
   "targetLang": "fr",
   "useGoogleTranslate": true
  },
  "toc": {
   "base_numbering": 1,
   "nav_menu": {},
   "number_sections": true,
   "sideBar": true,
   "skip_h1_title": false,
   "title_cell": "Table of Contents",
   "title_sidebar": "Contents",
   "toc_cell": true,
   "toc_position": {
    "height": "calc(100% - 180px)",
    "left": "10px",
    "top": "150px",
    "width": "165px"
   },
   "toc_section_display": true,
   "toc_window_display": true
  },
  "varInspector": {
   "cols": {
    "lenName": 16,
    "lenType": 16,
    "lenVar": 40
   },
   "kernels_config": {
    "python": {
     "delete_cmd_postfix": "",
     "delete_cmd_prefix": "del ",
     "library": "var_list.py",
     "varRefreshCmd": "print(var_dic_list())"
    },
    "r": {
     "delete_cmd_postfix": ") ",
     "delete_cmd_prefix": "rm(",
     "library": "var_list.r",
     "varRefreshCmd": "cat(var_dic_list()) "
    }
   },
   "types_to_exclude": [
    "module",
    "function",
    "builtin_function_or_method",
    "instance",
    "_Feature"
   ],
   "window_display": false
  }
 },
 "nbformat": 4,
 "nbformat_minor": 2
}
