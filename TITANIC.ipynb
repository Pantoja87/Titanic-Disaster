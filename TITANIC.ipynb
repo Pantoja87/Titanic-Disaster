{
 "cells": [
  {
   "cell_type": "markdown",
   "metadata": {
    "toc": true
   },
   "source": [
    "<h1>Table of Contents<span class=\"tocSkip\"></span></h1>\n",
    "<div class=\"toc\"><ul class=\"toc-item\"><li><span><a href=\"#Import-Dataset-Titanic\" data-toc-modified-id=\"Import-Dataset-Titanic-1\"><span class=\"toc-item-num\">1&nbsp;&nbsp;</span>Import Dataset Titanic</a></span><ul class=\"toc-item\"><li><span><a href=\"#Join-datasets\" data-toc-modified-id=\"Join-datasets-1.1\"><span class=\"toc-item-num\">1.1&nbsp;&nbsp;</span>Join datasets</a></span></li></ul></li><li><span><a href=\"#Analise-exploratoria-do-Dataset\" data-toc-modified-id=\"Analise-exploratoria-do-Dataset-2\"><span class=\"toc-item-num\">2&nbsp;&nbsp;</span>Analise exploratoria do Dataset</a></span><ul class=\"toc-item\"><li><span><a href=\"#Title\" data-toc-modified-id=\"Title-2.1\"><span class=\"toc-item-num\">2.1&nbsp;&nbsp;</span>Title</a></span></li><li><span><a href=\"#Acompanhado\" data-toc-modified-id=\"Acompanhado-2.2\"><span class=\"toc-item-num\">2.2&nbsp;&nbsp;</span>Acompanhado</a></span></li><li><span><a href=\"#Embarked\" data-toc-modified-id=\"Embarked-2.3\"><span class=\"toc-item-num\">2.3&nbsp;&nbsp;</span>Embarked</a></span></li><li><span><a href=\"#Input-Age\" data-toc-modified-id=\"Input-Age-2.4\"><span class=\"toc-item-num\">2.4&nbsp;&nbsp;</span>Input Age</a></span></li><li><span><a href=\"#Input-Fare\" data-toc-modified-id=\"Input-Fare-2.5\"><span class=\"toc-item-num\">2.5&nbsp;&nbsp;</span>Input Fare</a></span></li><li><span><a href=\"#Input-Cabin\" data-toc-modified-id=\"Input-Cabin-2.6\"><span class=\"toc-item-num\">2.6&nbsp;&nbsp;</span>Input Cabin</a></span></li></ul></li><li><span><a href=\"#Continuando-analise-exploratória\" data-toc-modified-id=\"Continuando-analise-exploratória-3\"><span class=\"toc-item-num\">3&nbsp;&nbsp;</span>Continuando analise exploratória</a></span></li><li><span><a href=\"#Feature-Engineer\" data-toc-modified-id=\"Feature-Engineer-4\"><span class=\"toc-item-num\">4&nbsp;&nbsp;</span>Feature Engineer</a></span><ul class=\"toc-item\"><li><span><a href=\"#Sibsp\" data-toc-modified-id=\"Sibsp-4.1\"><span class=\"toc-item-num\">4.1&nbsp;&nbsp;</span>Sibsp</a></span></li><li><span><a href=\"#Parch\" data-toc-modified-id=\"Parch-4.2\"><span class=\"toc-item-num\">4.2&nbsp;&nbsp;</span>Parch</a></span></li><li><span><a href=\"#Nomrmalização-Age-e-Fare-Min/Max\" data-toc-modified-id=\"Nomrmalização-Age-e-Fare-Min/Max-4.3\"><span class=\"toc-item-num\">4.3&nbsp;&nbsp;</span>Nomrmalização Age e Fare Min/Max</a></span></li><li><span><a href=\"#Ft_Prioridade\" data-toc-modified-id=\"Ft_Prioridade-4.4\"><span class=\"toc-item-num\">4.4&nbsp;&nbsp;</span>Ft_Prioridade</a></span></li></ul></li><li><span><a href=\"#Label-Enconding\" data-toc-modified-id=\"Label-Enconding-5\"><span class=\"toc-item-num\">5&nbsp;&nbsp;</span>Label Enconding</a></span><ul class=\"toc-item\"><li><span><a href=\"#Binarização\" data-toc-modified-id=\"Binarização-5.1\"><span class=\"toc-item-num\">5.1&nbsp;&nbsp;</span>Binarização</a></span></li></ul></li><li><span><a href=\"#Construindo-Modelo\" data-toc-modified-id=\"Construindo-Modelo-6\"><span class=\"toc-item-num\">6&nbsp;&nbsp;</span>Construindo Modelo</a></span></li><li><span><a href=\"#Feature-Selection-Baseado-em-Algoritmos-de-Árvore\" data-toc-modified-id=\"Feature-Selection-Baseado-em-Algoritmos-de-Árvore-7\"><span class=\"toc-item-num\">7&nbsp;&nbsp;</span>Feature Selection Baseado em Algoritmos de Árvore</a></span></li><li><span><a href=\"#Predict\" data-toc-modified-id=\"Predict-8\"><span class=\"toc-item-num\">8&nbsp;&nbsp;</span>Predict</a></span></li></ul></div>"
   ]
  },
  {
   "cell_type": "code",
   "execution_count": 740,
   "metadata": {
    "ExecuteTime": {
     "end_time": "2019-08-15T22:43:59.567584Z",
     "start_time": "2019-08-15T22:43:59.556589Z"
    }
   },
   "outputs": [],
   "source": [
    "\n",
    "import pandas as pd\n",
    "import numpy as np\n",
    "import matplotlib.pyplot as plt\n",
    "import seaborn as sns\n",
    "\n",
    "from sklearn.model_selection import GridSearchCV, cross_val_score, StratifiedKFold, learning_curve\n",
    "from sklearn.ensemble import RandomForestClassifier, AdaBoostClassifier, GradientBoostingClassifier, ExtraTreesClassifier, VotingClassifier\n",
    "from sklearn.discriminant_analysis import LinearDiscriminantAnalysis\n",
    "from sklearn.linear_model import LogisticRegression\n",
    "from sklearn.neighbors import KNeighborsClassifier\n",
    "from sklearn.tree import DecisionTreeClassifier\n",
    "from sklearn.neural_network import MLPClassifier\n",
    "from sklearn.svm import SVC\n",
    "\n",
    "from sklearn.preprocessing import LabelEncoder,OneHotEncoder\n",
    "\n",
    "from sklearn.metrics import classification_report\n",
    "from sklearn.metrics import confusion_matrix\n",
    "from sklearn.neighbors import KNeighborsClassifier \n",
    "from sklearn.model_selection import train_test_split\n",
    "\n",
    "#IMAGENS.\n",
    "from IPython.display import Image as img\n",
    "\n",
    "#OUTROS.\n",
    "%matplotlib inline\n",
    "import warnings\n",
    "warnings.filterwarnings('ignore')"
   ]
  },
  {
   "cell_type": "markdown",
   "metadata": {},
   "source": [
    " # Import Dataset Titanic"
   ]
  },
  {
   "cell_type": "code",
   "execution_count": 741,
   "metadata": {
    "ExecuteTime": {
     "end_time": "2019-08-15T22:43:59.681466Z",
     "start_time": "2019-08-15T22:43:59.569586Z"
    }
   },
   "outputs": [],
   "source": [
    "train_csv= pd.read_csv('train.csv')\n",
    "test_csv = pd.read_csv('test.csv')"
   ]
  },
  {
   "cell_type": "code",
   "execution_count": 742,
   "metadata": {
    "ExecuteTime": {
     "end_time": "2019-08-15T22:43:59.747513Z",
     "start_time": "2019-08-15T22:43:59.683468Z"
    }
   },
   "outputs": [
    {
     "name": "stdout",
     "output_type": "stream",
     "text": [
      "<class 'pandas.core.frame.DataFrame'>\n",
      "RangeIndex: 891 entries, 0 to 890\n",
      "Data columns (total 12 columns):\n",
      "PassengerId    891 non-null int64\n",
      "Survived       891 non-null int64\n",
      "Pclass         891 non-null int64\n",
      "Name           891 non-null object\n",
      "Sex            891 non-null object\n",
      "Age            714 non-null float64\n",
      "SibSp          891 non-null int64\n",
      "Parch          891 non-null int64\n",
      "Ticket         891 non-null object\n",
      "Fare           891 non-null float64\n",
      "Cabin          204 non-null object\n",
      "Embarked       889 non-null object\n",
      "dtypes: float64(2), int64(5), object(5)\n",
      "memory usage: 66.2+ KB\n"
     ]
    }
   ],
   "source": [
    "train_csv.info()"
   ]
  },
  {
   "cell_type": "code",
   "execution_count": 743,
   "metadata": {
    "ExecuteTime": {
     "end_time": "2019-08-15T22:43:59.822217Z",
     "start_time": "2019-08-15T22:43:59.749514Z"
    }
   },
   "outputs": [
    {
     "name": "stdout",
     "output_type": "stream",
     "text": [
      "<class 'pandas.core.frame.DataFrame'>\n",
      "RangeIndex: 418 entries, 0 to 417\n",
      "Data columns (total 11 columns):\n",
      "PassengerId    418 non-null int64\n",
      "Pclass         418 non-null int64\n",
      "Name           418 non-null object\n",
      "Sex            418 non-null object\n",
      "Age            332 non-null float64\n",
      "SibSp          418 non-null int64\n",
      "Parch          418 non-null int64\n",
      "Ticket         418 non-null object\n",
      "Fare           417 non-null float64\n",
      "Cabin          91 non-null object\n",
      "Embarked       418 non-null object\n",
      "dtypes: float64(2), int64(4), object(5)\n",
      "memory usage: 27.8+ KB\n"
     ]
    }
   ],
   "source": [
    "test_csv.info()"
   ]
  },
  {
   "cell_type": "markdown",
   "metadata": {},
   "source": [
    "## Join datasets"
   ]
  },
  {
   "cell_type": "code",
   "execution_count": 744,
   "metadata": {
    "ExecuteTime": {
     "end_time": "2019-08-15T22:43:59.915786Z",
     "start_time": "2019-08-15T22:43:59.823218Z"
    }
   },
   "outputs": [],
   "source": [
    "titanic=pd.concat([train_csv,test_csv],axis=0,ignore_index=False)\n"
   ]
  },
  {
   "cell_type": "code",
   "execution_count": 745,
   "metadata": {
    "ExecuteTime": {
     "end_time": "2019-08-15T22:44:00.007583Z",
     "start_time": "2019-08-15T22:43:59.916786Z"
    }
   },
   "outputs": [
    {
     "name": "stdout",
     "output_type": "stream",
     "text": [
      "<class 'pandas.core.frame.DataFrame'>\n",
      "Int64Index: 1309 entries, 0 to 417\n",
      "Data columns (total 12 columns):\n",
      "Age            1046 non-null float64\n",
      "Cabin          295 non-null object\n",
      "Embarked       1307 non-null object\n",
      "Fare           1308 non-null float64\n",
      "Name           1309 non-null object\n",
      "Parch          1309 non-null int64\n",
      "PassengerId    1309 non-null int64\n",
      "Pclass         1309 non-null int64\n",
      "Sex            1309 non-null object\n",
      "SibSp          1309 non-null int64\n",
      "Survived       891 non-null float64\n",
      "Ticket         1309 non-null object\n",
      "dtypes: float64(3), int64(4), object(5)\n",
      "memory usage: 107.4+ KB\n"
     ]
    }
   ],
   "source": [
    "titanic.info()"
   ]
  },
  {
   "cell_type": "markdown",
   "metadata": {},
   "source": [
    "# Analise exploratoria do Dataset "
   ]
  },
  {
   "cell_type": "code",
   "execution_count": 746,
   "metadata": {
    "ExecuteTime": {
     "end_time": "2019-08-15T22:44:00.134801Z",
     "start_time": "2019-08-15T22:44:00.008584Z"
    }
   },
   "outputs": [
    {
     "name": "stdout",
     "output_type": "stream",
     "text": [
      "Percentual de Sobreviventes x Não Sobreviventes -  Survived\n",
      "0.0    41.94\n",
      "1.0    26.13\n",
      "Name: Sex, dtype: float64\n"
     ]
    }
   ],
   "source": [
    "print('Percentual de Sobreviventes x Não Sobreviventes - ',\n",
    "       round(titanic.groupby('Survived').Sex.count()/titanic.Name.count()*100,2))"
   ]
  },
  {
   "cell_type": "code",
   "execution_count": 747,
   "metadata": {
    "ExecuteTime": {
     "end_time": "2019-08-15T22:44:00.263429Z",
     "start_time": "2019-08-15T22:44:00.136785Z"
    }
   },
   "outputs": [
    {
     "name": "stdout",
     "output_type": "stream",
     "text": [
      "Missig Values:\n"
     ]
    },
    {
     "data": {
      "text/plain": [
       "Age             263\n",
       "Cabin          1014\n",
       "Embarked          2\n",
       "Fare              1\n",
       "Name              0\n",
       "Parch             0\n",
       "PassengerId       0\n",
       "Pclass            0\n",
       "Sex               0\n",
       "SibSp             0\n",
       "Survived        418\n",
       "Ticket            0\n",
       "dtype: int64"
      ]
     },
     "execution_count": 747,
     "metadata": {},
     "output_type": "execute_result"
    }
   ],
   "source": [
    "print('Missig Values:')\n",
    "titanic.isnull().sum()"
   ]
  },
  {
   "cell_type": "markdown",
   "metadata": {},
   "source": [
    "* Cabin e Age são os que mais faltam valores\n",
    "* Survived são do conjunto de teste, é o que vamos prever, por isso estão nulos"
   ]
  },
  {
   "cell_type": "code",
   "execution_count": 748,
   "metadata": {
    "ExecuteTime": {
     "end_time": "2019-08-15T22:44:00.558551Z",
     "start_time": "2019-08-15T22:44:00.266418Z"
    }
   },
   "outputs": [
    {
     "data": {
      "text/plain": [
       "Text(0.5, 1.0, 'Distribution of the field Age')"
      ]
     },
     "execution_count": 748,
     "metadata": {},
     "output_type": "execute_result"
    },
    {
     "data": {
      "image/png": "[encoded data removed]",
      "text/plain": [
       "<Figure size 432x288 with 1 Axes>"
      ]
     },
     "metadata": {
      "needs_background": "light"
     },
     "output_type": "display_data"
    }
   ],
   "source": [
    "titanic.Age.hist()\n",
    "plt.title(\"Distribution of the field Age\")"
   ]
  },
  {
   "cell_type": "markdown",
   "metadata": {},
   "source": [
    "* there are a concentration of the age between 18 and 35 years"
   ]
  },
  {
   "cell_type": "code",
   "execution_count": 749,
   "metadata": {
    "ExecuteTime": {
     "end_time": "2019-08-15T22:44:00.727679Z",
     "start_time": "2019-08-15T22:44:00.559551Z"
    }
   },
   "outputs": [
    {
     "data": {
      "text/plain": [
       "Text(0.5, 1.0, 'Distribution of the field Fare')"
      ]
     },
     "execution_count": 749,
     "metadata": {},
     "output_type": "execute_result"
    },
    {
     "data": {
      "image/png": "[encoded data removed]",
      "text/plain": [
       "<Figure size 432x288 with 1 Axes>"
      ]
     },
     "metadata": {
      "needs_background": "light"
     },
     "output_type": "display_data"
    }
   ],
   "source": [
    "titanic.Fare.hist()\n",
    "plt.title(\"Distribution of the field Fare\")"
   ]
  },
  {
   "cell_type": "markdown",
   "metadata": {},
   "source": [
    "* there are a concentration of the Fare between 0 and 50"
   ]
  },
  {
   "cell_type": "markdown",
   "metadata": {},
   "source": [
    " Com base no valores da feature Age e Cabin, vamos começar por elas o preenchimento dos \"Missing Values\""
   ]
  },
  {
   "cell_type": "markdown",
   "metadata": {},
   "source": [
    "## Title"
   ]
  },
  {
   "cell_type": "code",
   "execution_count": 750,
   "metadata": {
    "ExecuteTime": {
     "end_time": "2019-08-15T22:44:00.734686Z",
     "start_time": "2019-08-15T22:44:00.728680Z"
    }
   },
   "outputs": [],
   "source": [
    "titanic['Title']=[i.split(\",\")[1].split(\".\")[0].strip() for i in titanic[\"Name\"]]"
   ]
  },
  {
   "cell_type": "code",
   "execution_count": 751,
   "metadata": {
    "ExecuteTime": {
     "end_time": "2019-08-15T22:44:00.862373Z",
     "start_time": "2019-08-15T22:44:00.737687Z"
    }
   },
   "outputs": [
    {
     "data": {
      "text/plain": [
       "Embarked\n",
       "C    270\n",
       "Q    123\n",
       "S    914\n",
       "Name: Title, dtype: int64"
      ]
     },
     "execution_count": 751,
     "metadata": {},
     "output_type": "execute_result"
    }
   ],
   "source": [
    "titanic.groupby('Embarked').Title.count()"
   ]
  },
  {
   "cell_type": "code",
   "execution_count": 752,
   "metadata": {
    "ExecuteTime": {
     "end_time": "2019-08-15T22:44:01.425719Z",
     "start_time": "2019-08-15T22:44:00.864374Z"
    }
   },
   "outputs": [
    {
     "data": {
      "text/plain": [
       "Text(0.5, 1.0, 'Quantidade de passageiros por Title')"
      ]
     },
     "execution_count": 752,
     "metadata": {},
     "output_type": "execute_result"
    },
    {
     "data": {
      "image/png": "[encoded data removed]",
      "text/plain": [
       "<Figure size 1080x1080 with 1 Axes>"
      ]
     },
     "metadata": {
      "needs_background": "light"
     },
     "output_type": "display_data"
    }
   ],
   "source": [
    "g = sns.factorplot(\"Title\",\n",
    "                   data=titanic,\n",
    "                   size=15, \n",
    "                   kind=\"count\", \n",
    "                   palette=\"muted\")\n",
    "g.despine(left=True)\n",
    "g = g.set_ylabels(\"Count\")\n",
    "plt.title('Quantidade de passageiros por Title')"
   ]
  },
  {
   "cell_type": "markdown",
   "metadata": {},
   "source": [
    "* Há uma padrão em Mr, Mrs, Miss e Master\n",
    "* Vamos agrupar os outros que possuem poucos passageiros"
   ]
  },
  {
   "cell_type": "code",
   "execution_count": 753,
   "metadata": {
    "ExecuteTime": {
     "end_time": "2019-08-15T22:44:01.436727Z",
     "start_time": "2019-08-15T22:44:01.427720Z"
    }
   },
   "outputs": [],
   "source": [
    "titanic[\"Title\"] = titanic[\"Title\"].replace(['Lady', 'the Countess','Countess','Capt', 'Col','Don', 'Dr', 'Major', 'Rev', 'Sir', 'Jonkheer', 'Dona'], 'Rare')\n",
    "titanic[\"Title\"] = titanic[\"Title\"].replace(['Mme','Mlle','Ms'], 'Miss')"
   ]
  },
  {
   "cell_type": "code",
   "execution_count": 754,
   "metadata": {
    "ExecuteTime": {
     "end_time": "2019-08-15T22:44:01.702598Z",
     "start_time": "2019-08-15T22:44:01.437728Z"
    }
   },
   "outputs": [
    {
     "data": {
      "text/plain": [
       "Text(0.5, 1.0, 'Quantidade de passageiros por Title')"
      ]
     },
     "execution_count": 754,
     "metadata": {},
     "output_type": "execute_result"
    },
    {
     "data": {
      "image/png": "[encoded data removed]",
      "text/plain": [
       "<Figure size 432x432 with 1 Axes>"
      ]
     },
     "metadata": {
      "needs_background": "light"
     },
     "output_type": "display_data"
    }
   ],
   "source": [
    "g = sns.factorplot(\"Title\",\n",
    "                   data=titanic,\n",
    "                   size=6, \n",
    "                   kind=\"count\", \n",
    "                   palette=\"muted\")\n",
    "g.despine(left=True)\n",
    "g = g.set_ylabels(\"Count\")\n",
    "plt.title('Quantidade de passageiros por Title')"
   ]
  },
  {
   "cell_type": "code",
   "execution_count": 755,
   "metadata": {
    "ExecuteTime": {
     "end_time": "2019-08-15T22:44:01.710604Z",
     "start_time": "2019-08-15T22:44:01.703599Z"
    }
   },
   "outputs": [
    {
     "data": {
      "text/plain": [
       "Title\n",
       "Master     61\n",
       "Miss      265\n",
       "Mr        757\n",
       "Mrs       197\n",
       "Rare       29\n",
       "Name: Title, dtype: int64"
      ]
     },
     "execution_count": 755,
     "metadata": {},
     "output_type": "execute_result"
    }
   ],
   "source": [
    "titanic.groupby('Title').Title.count()"
   ]
  },
  {
   "cell_type": "markdown",
   "metadata": {},
   "source": [
    "* Master - Homens Jovens\n",
    "* Miss - é usado antes de sobrenomes ou nomes completos de mulheres que não são casadas. É algo próximo a “senhorita”, em português.\n",
    "\n",
    "* Mr - Se utiliza antes de sobrenomes ou nomes completos de homens em geral, independente do seu estado civil.\n",
    "* Mrs- é usado antes de sobrenomes ou nomes completos de mulheres casadas.\n",
    "* Ms- é usado antes de sobrenomes ou nomes completos de mulheres em geral,independente do seu estado civil\n",
    "\n",
    "\n"
   ]
  },
  {
   "cell_type": "markdown",
   "metadata": {
    "ExecuteTime": {
     "end_time": "2019-08-15T22:21:32.036116Z",
     "start_time": "2019-08-15T22:21:32.032611Z"
    }
   },
   "source": [
    "## Acompanhado"
   ]
  },
  {
   "cell_type": "code",
   "execution_count": 756,
   "metadata": {
    "ExecuteTime": {
     "end_time": "2019-08-15T22:44:01.785179Z",
     "start_time": "2019-08-15T22:44:01.711592Z"
    }
   },
   "outputs": [],
   "source": [
    "titanic['Ft_Acompanhado'] = titanic['SibSp'] + titanic['Parch']"
   ]
  },
  {
   "cell_type": "code",
   "execution_count": 757,
   "metadata": {
    "ExecuteTime": {
     "end_time": "2019-08-15T22:44:02.385078Z",
     "start_time": "2019-08-15T22:44:01.787166Z"
    }
   },
   "outputs": [
    {
     "data": {
      "image/png": "[encoded data removed]",
      "text/plain": [
       "<Figure size 900x360 with 1 Axes>"
      ]
     },
     "metadata": {
      "needs_background": "light"
     },
     "output_type": "display_data"
    }
   ],
   "source": [
    "axes = sns.factorplot('Ft_Acompanhado','Survived',hue='Ft_Acompanhado' ,\n",
    "                      data=titanic, aspect = 2.5, )"
   ]
  },
  {
   "cell_type": "markdown",
   "metadata": {
    "ExecuteTime": {
     "end_time": "2019-08-15T22:21:57.147409Z",
     "start_time": "2019-08-15T22:21:57.144408Z"
    }
   },
   "source": [
    "## Embarked"
   ]
  },
  {
   "cell_type": "code",
   "execution_count": 758,
   "metadata": {
    "ExecuteTime": {
     "end_time": "2019-08-15T22:44:02.393097Z",
     "start_time": "2019-08-15T22:44:02.386102Z"
    }
   },
   "outputs": [],
   "source": [
    "mode =  titanic.Embarked.mode()\n",
    "titanic.loc[titanic.Embarked.isna(),'Embarked'] = 'S'\n"
   ]
  },
  {
   "cell_type": "code",
   "execution_count": 759,
   "metadata": {
    "ExecuteTime": {
     "end_time": "2019-08-15T22:44:02.712822Z",
     "start_time": "2019-08-15T22:44:02.394085Z"
    }
   },
   "outputs": [
    {
     "data": {
      "image/png": "[encoded data removed]",
      "text/plain": [
       "<Figure size 900x360 with 1 Axes>"
      ]
     },
     "metadata": {
      "needs_background": "light"
     },
     "output_type": "display_data"
    }
   ],
   "source": [
    "axes = sns.factorplot('Embarked','Survived',hue='Embarked', \n",
    "                      data=titanic, aspect = 2.5, )"
   ]
  },
  {
   "cell_type": "markdown",
   "metadata": {},
   "source": [
    "## Input Age"
   ]
  },
  {
   "cell_type": "code",
   "execution_count": 760,
   "metadata": {
    "ExecuteTime": {
     "end_time": "2019-08-15T22:44:02.723847Z",
     "start_time": "2019-08-15T22:44:02.713822Z"
    }
   },
   "outputs": [],
   "source": [
    "df_media= titanic.groupby(['Ft_Acompanhado','Embarked','Title','Pclass']).Age.median().reset_index()"
   ]
  },
  {
   "cell_type": "code",
   "execution_count": 761,
   "metadata": {
    "ExecuteTime": {
     "end_time": "2019-08-15T22:44:02.792855Z",
     "start_time": "2019-08-15T22:44:02.724847Z"
    },
    "code_folding": []
   },
   "outputs": [],
   "source": [
    "df_merge= pd.merge(titanic,df_media, on=['Ft_Acompanhado','Embarked','Title','Pclass']).reset_index()   "
   ]
  },
  {
   "cell_type": "code",
   "execution_count": 762,
   "metadata": {
    "ExecuteTime": {
     "end_time": "2019-08-15T22:44:02.863883Z",
     "start_time": "2019-08-15T22:44:02.796824Z"
    }
   },
   "outputs": [],
   "source": [
    "df_merge.loc[df_merge.Age_x.isna()==True,'Age_x'] = df_merge.loc[df_merge.Age_x.isna()==True,'Age_y']\n",
    "del df_merge['Age_y']"
   ]
  },
  {
   "cell_type": "code",
   "execution_count": 763,
   "metadata": {
    "ExecuteTime": {
     "end_time": "2019-08-15T22:44:02.943666Z",
     "start_time": "2019-08-15T22:44:02.866869Z"
    }
   },
   "outputs": [],
   "source": [
    "df_merge =df_merge.rename(columns={'Age_x':'Age'})"
   ]
  },
  {
   "cell_type": "code",
   "execution_count": 764,
   "metadata": {
    "ExecuteTime": {
     "end_time": "2019-08-15T22:44:03.026269Z",
     "start_time": "2019-08-15T22:44:02.945684Z"
    }
   },
   "outputs": [],
   "source": [
    "titanic=df_merge"
   ]
  },
  {
   "cell_type": "code",
   "execution_count": 765,
   "metadata": {
    "ExecuteTime": {
     "end_time": "2019-08-15T22:44:03.105323Z",
     "start_time": "2019-08-15T22:44:03.027261Z"
    }
   },
   "outputs": [],
   "source": [
    "df_media2 = titanic.groupby(['Pclass','Title']).Age.mean().reset_index()\n"
   ]
  },
  {
   "cell_type": "code",
   "execution_count": 766,
   "metadata": {
    "ExecuteTime": {
     "end_time": "2019-08-15T22:44:03.193377Z",
     "start_time": "2019-08-15T22:44:03.106329Z"
    }
   },
   "outputs": [],
   "source": [
    "df_merge2= pd.merge(titanic,df_media2, on=['Pclass','Title']).reset_index()   \n"
   ]
  },
  {
   "cell_type": "code",
   "execution_count": 767,
   "metadata": {
    "ExecuteTime": {
     "end_time": "2019-08-15T22:44:03.272871Z",
     "start_time": "2019-08-15T22:44:03.195379Z"
    }
   },
   "outputs": [],
   "source": [
    "df_merge2.loc[df_merge2.Age_x.isna()==True,'Age_x'] = df_merge2.loc[df_merge2.Age_x.isna()==True,'Age_y']\n",
    "\n"
   ]
  },
  {
   "cell_type": "code",
   "execution_count": 768,
   "metadata": {
    "ExecuteTime": {
     "end_time": "2019-08-15T22:44:03.335406Z",
     "start_time": "2019-08-15T22:44:03.274369Z"
    }
   },
   "outputs": [],
   "source": [
    "df_merge2 =df_merge2.rename(columns={'Age_x':'Age'})\n"
   ]
  },
  {
   "cell_type": "code",
   "execution_count": 769,
   "metadata": {
    "ExecuteTime": {
     "end_time": "2019-08-15T22:44:03.391463Z",
     "start_time": "2019-08-15T22:44:03.336407Z"
    }
   },
   "outputs": [],
   "source": [
    "titanic=df_merge2"
   ]
  },
  {
   "cell_type": "code",
   "execution_count": 770,
   "metadata": {
    "ExecuteTime": {
     "end_time": "2019-08-15T22:44:03.460140Z",
     "start_time": "2019-08-15T22:44:03.392464Z"
    }
   },
   "outputs": [],
   "source": [
    "del titanic['level_0']\n",
    "del titanic['index']\n",
    "del titanic['Age_y']\n"
   ]
  },
  {
   "cell_type": "code",
   "execution_count": 771,
   "metadata": {
    "ExecuteTime": {
     "end_time": "2019-08-15T22:44:03.546489Z",
     "start_time": "2019-08-15T22:44:03.461141Z"
    }
   },
   "outputs": [
    {
     "name": "stdout",
     "output_type": "stream",
     "text": [
      "Missig Values:\n"
     ]
    },
    {
     "data": {
      "text/plain": [
       "Age                  0\n",
       "Cabin             1014\n",
       "Embarked             0\n",
       "Fare                 1\n",
       "Name                 0\n",
       "Parch                0\n",
       "PassengerId          0\n",
       "Pclass               0\n",
       "Sex                  0\n",
       "SibSp                0\n",
       "Survived           418\n",
       "Ticket               0\n",
       "Title                0\n",
       "Ft_Acompanhado       0\n",
       "dtype: int64"
      ]
     },
     "execution_count": 771,
     "metadata": {},
     "output_type": "execute_result"
    }
   ],
   "source": [
    "print('Missig Values:')\n",
    "titanic.isnull().sum()"
   ]
  },
  {
   "cell_type": "code",
   "execution_count": 772,
   "metadata": {
    "ExecuteTime": {
     "end_time": "2019-08-15T22:44:03.603906Z",
     "start_time": "2019-08-15T22:44:03.547472Z"
    }
   },
   "outputs": [],
   "source": [
    "titanic=titanic.sort_values('PassengerId').reset_index()"
   ]
  },
  {
   "cell_type": "code",
   "execution_count": 773,
   "metadata": {
    "ExecuteTime": {
     "end_time": "2019-08-15T22:44:03.661084Z",
     "start_time": "2019-08-15T22:44:03.604911Z"
    }
   },
   "outputs": [
    {
     "name": "stdout",
     "output_type": "stream",
     "text": [
      "0\n",
      "418\n"
     ]
    }
   ],
   "source": [
    "print(titanic[0:891].Survived.isna().sum())\n",
    "print(titanic[891:1309].Survived.isna().sum())"
   ]
  },
  {
   "cell_type": "code",
   "execution_count": 774,
   "metadata": {
    "ExecuteTime": {
     "end_time": "2019-08-15T22:44:03.730042Z",
     "start_time": "2019-08-15T22:44:03.663074Z"
    }
   },
   "outputs": [],
   "source": [
    "titanic.loc[titanic.Age < 1 ,'Age'] = 1"
   ]
  },
  {
   "cell_type": "code",
   "execution_count": 775,
   "metadata": {
    "ExecuteTime": {
     "end_time": "2019-08-15T22:44:03.963179Z",
     "start_time": "2019-08-15T22:44:03.731812Z"
    }
   },
   "outputs": [
    {
     "data": {
      "text/plain": [
       "Text(0.5, 1.0, 'Distribution of the field Age')"
      ]
     },
     "execution_count": 775,
     "metadata": {},
     "output_type": "execute_result"
    },
    {
     "data": {
      "image/png": "[encoded data removed]",
      "text/plain": [
       "<Figure size 432x288 with 1 Axes>"
      ]
     },
     "metadata": {
      "needs_background": "light"
     },
     "output_type": "display_data"
    }
   ],
   "source": [
    "titanic[titanic.Survived.isna()==False].Age.hist()\n",
    "plt.title(\"Distribution of the field Age\")"
   ]
  },
  {
   "cell_type": "code",
   "execution_count": 776,
   "metadata": {
    "ExecuteTime": {
     "end_time": "2019-08-15T22:44:03.970184Z",
     "start_time": "2019-08-15T22:44:03.964196Z"
    }
   },
   "outputs": [],
   "source": [
    "titanic['Survived_Lbl']=titanic.Survived.map({0:'M',1:'V'})"
   ]
  },
  {
   "cell_type": "code",
   "execution_count": 777,
   "metadata": {
    "ExecuteTime": {
     "end_time": "2019-08-15T22:44:04.046476Z",
     "start_time": "2019-08-15T22:44:03.971185Z"
    }
   },
   "outputs": [],
   "source": [
    "df_age= titanic.groupby(['Age']).agg({'Survived_Lbl':'count','Survived':'sum'}).reset_index()\n",
    "df_age = df_age.rename(columns={'Age':'Age','Survived_Lbl':'Qtd_total','Survived':'Qtd_Sobreviventes'})"
   ]
  },
  {
   "cell_type": "code",
   "execution_count": 778,
   "metadata": {
    "ExecuteTime": {
     "end_time": "2019-08-15T22:44:04.118480Z",
     "start_time": "2019-08-15T22:44:04.047274Z"
    }
   },
   "outputs": [],
   "source": [
    "df_age = df_age.sort_values('Qtd_total',ascending=False)"
   ]
  },
  {
   "cell_type": "code",
   "execution_count": 779,
   "metadata": {
    "ExecuteTime": {
     "end_time": "2019-08-15T22:44:04.196485Z",
     "start_time": "2019-08-15T22:44:04.119494Z"
    }
   },
   "outputs": [
    {
     "name": "stdout",
     "output_type": "stream",
     "text": [
      "891\n",
      "342\n"
     ]
    }
   ],
   "source": [
    "\n",
    "df_age['Prob'] = df_age.Qtd_Sobreviventes/df_age.Qtd_total\n",
    "\n",
    "Qtd_total= df_age.Qtd_total.sum().astype(int)\n",
    "print(Qtd_total)\n",
    "df_age['Prob_Sobreviver'] = df_age.Qtd_Sobreviventes/Qtd_total\n",
    "\n",
    "\n",
    "Qtd_total_Sobreviventes= df_age.Qtd_Sobreviventes.sum().astype(int)\n",
    "print(Qtd_total_Sobreviventes)\n",
    "df_age['Prob_Sobreviver_sobre_sobrevividos'] = df_age.Qtd_Sobreviventes/Qtd_total_Sobreviventes\n",
    "\n",
    "\n",
    "\n"
   ]
  },
  {
   "cell_type": "code",
   "execution_count": 780,
   "metadata": {
    "ExecuteTime": {
     "end_time": "2019-08-15T22:44:04.277807Z",
     "start_time": "2019-08-15T22:44:04.197468Z"
    }
   },
   "outputs": [],
   "source": [
    "df_age['Prob_não_Sobreviver'] = 1-df_age.Prob_Sobreviver\n",
    "df_age['Prob_não_Sobreviver_sobre_sobrevivesntes'] = 1-df_age.Prob_Sobreviver_sobre_sobrevividos\n"
   ]
  },
  {
   "cell_type": "code",
   "execution_count": 781,
   "metadata": {
    "ExecuteTime": {
     "end_time": "2019-08-15T22:44:04.351806Z",
     "start_time": "2019-08-15T22:44:04.279325Z"
    }
   },
   "outputs": [],
   "source": [
    "df_age = df_age.sort_values('Prob',ascending=False)"
   ]
  },
  {
   "cell_type": "code",
   "execution_count": 782,
   "metadata": {
    "ExecuteTime": {
     "end_time": "2019-08-15T22:44:04.451782Z",
     "start_time": "2019-08-15T22:44:04.353812Z"
    }
   },
   "outputs": [
    {
     "data": {
      "text/html": [
       "<div>\n",
       "<style scoped>\n",
       "    .dataframe tbody tr th:only-of-type {\n",
       "        vertical-align: middle;\n",
       "    }\n",
       "\n",
       "    .dataframe tbody tr th {\n",
       "        vertical-align: top;\n",
       "    }\n",
       "\n",
       "    .dataframe thead th {\n",
       "        text-align: right;\n",
       "    }\n",
       "</style>\n",
       "<table border=\"1\" class=\"dataframe\">\n",
       "  <thead>\n",
       "    <tr style=\"text-align: right;\">\n",
       "      <th></th>\n",
       "      <th>Age</th>\n",
       "      <th>Qtd_total</th>\n",
       "      <th>Qtd_Sobreviventes</th>\n",
       "      <th>Prob</th>\n",
       "      <th>Prob_Sobreviver</th>\n",
       "      <th>Prob_Sobreviver_sobre_sobrevividos</th>\n",
       "      <th>Prob_não_Sobreviver</th>\n",
       "      <th>Prob_não_Sobreviver_sobre_sobrevivesntes</th>\n",
       "    </tr>\n",
       "  </thead>\n",
       "  <tbody>\n",
       "    <tr>\n",
       "      <th>30</th>\n",
       "      <td>22.000000</td>\n",
       "      <td>46</td>\n",
       "      <td>25.0</td>\n",
       "      <td>0.543478</td>\n",
       "      <td>0.028058</td>\n",
       "      <td>0.073099</td>\n",
       "      <td>0.971942</td>\n",
       "      <td>0.926901</td>\n",
       "    </tr>\n",
       "    <tr>\n",
       "      <th>54</th>\n",
       "      <td>35.000000</td>\n",
       "      <td>23</td>\n",
       "      <td>16.0</td>\n",
       "      <td>0.695652</td>\n",
       "      <td>0.017957</td>\n",
       "      <td>0.046784</td>\n",
       "      <td>0.982043</td>\n",
       "      <td>0.953216</td>\n",
       "    </tr>\n",
       "    <tr>\n",
       "      <th>34</th>\n",
       "      <td>24.000000</td>\n",
       "      <td>30</td>\n",
       "      <td>15.0</td>\n",
       "      <td>0.500000</td>\n",
       "      <td>0.016835</td>\n",
       "      <td>0.043860</td>\n",
       "      <td>0.983165</td>\n",
       "      <td>0.956140</td>\n",
       "    </tr>\n",
       "    <tr>\n",
       "      <th>55</th>\n",
       "      <td>36.000000</td>\n",
       "      <td>27</td>\n",
       "      <td>12.0</td>\n",
       "      <td>0.444444</td>\n",
       "      <td>0.013468</td>\n",
       "      <td>0.035088</td>\n",
       "      <td>0.986532</td>\n",
       "      <td>0.964912</td>\n",
       "    </tr>\n",
       "    <tr>\n",
       "      <th>0</th>\n",
       "      <td>1.000000</td>\n",
       "      <td>15</td>\n",
       "      <td>12.0</td>\n",
       "      <td>0.800000</td>\n",
       "      <td>0.013468</td>\n",
       "      <td>0.035088</td>\n",
       "      <td>0.986532</td>\n",
       "      <td>0.964912</td>\n",
       "    </tr>\n",
       "    <tr>\n",
       "      <th>40</th>\n",
       "      <td>27.000000</td>\n",
       "      <td>18</td>\n",
       "      <td>11.0</td>\n",
       "      <td>0.611111</td>\n",
       "      <td>0.012346</td>\n",
       "      <td>0.032164</td>\n",
       "      <td>0.987654</td>\n",
       "      <td>0.967836</td>\n",
       "    </tr>\n",
       "    <tr>\n",
       "      <th>45</th>\n",
       "      <td>30.000000</td>\n",
       "      <td>27</td>\n",
       "      <td>11.0</td>\n",
       "      <td>0.407407</td>\n",
       "      <td>0.012346</td>\n",
       "      <td>0.032164</td>\n",
       "      <td>0.987654</td>\n",
       "      <td>0.967836</td>\n",
       "    </tr>\n",
       "    <tr>\n",
       "      <th>44</th>\n",
       "      <td>29.000000</td>\n",
       "      <td>42</td>\n",
       "      <td>10.0</td>\n",
       "      <td>0.238095</td>\n",
       "      <td>0.011223</td>\n",
       "      <td>0.029240</td>\n",
       "      <td>0.988777</td>\n",
       "      <td>0.970760</td>\n",
       "    </tr>\n",
       "    <tr>\n",
       "      <th>26</th>\n",
       "      <td>19.000000</td>\n",
       "      <td>27</td>\n",
       "      <td>10.0</td>\n",
       "      <td>0.370370</td>\n",
       "      <td>0.011223</td>\n",
       "      <td>0.029240</td>\n",
       "      <td>0.988777</td>\n",
       "      <td>0.970760</td>\n",
       "    </tr>\n",
       "    <tr>\n",
       "      <th>38</th>\n",
       "      <td>26.000000</td>\n",
       "      <td>60</td>\n",
       "      <td>10.0</td>\n",
       "      <td>0.166667</td>\n",
       "      <td>0.011223</td>\n",
       "      <td>0.029240</td>\n",
       "      <td>0.988777</td>\n",
       "      <td>0.970760</td>\n",
       "    </tr>\n",
       "    <tr>\n",
       "      <th>48</th>\n",
       "      <td>32.000000</td>\n",
       "      <td>18</td>\n",
       "      <td>9.0</td>\n",
       "      <td>0.500000</td>\n",
       "      <td>0.010101</td>\n",
       "      <td>0.026316</td>\n",
       "      <td>0.989899</td>\n",
       "      <td>0.973684</td>\n",
       "    </tr>\n",
       "    <tr>\n",
       "      <th>24</th>\n",
       "      <td>18.000000</td>\n",
       "      <td>26</td>\n",
       "      <td>9.0</td>\n",
       "      <td>0.346154</td>\n",
       "      <td>0.010101</td>\n",
       "      <td>0.026316</td>\n",
       "      <td>0.989899</td>\n",
       "      <td>0.973684</td>\n",
       "    </tr>\n",
       "    <tr>\n",
       "      <th>68</th>\n",
       "      <td>45.000000</td>\n",
       "      <td>27</td>\n",
       "      <td>9.0</td>\n",
       "      <td>0.333333</td>\n",
       "      <td>0.010101</td>\n",
       "      <td>0.026316</td>\n",
       "      <td>0.989899</td>\n",
       "      <td>0.973684</td>\n",
       "    </tr>\n",
       "    <tr>\n",
       "      <th>42</th>\n",
       "      <td>28.000000</td>\n",
       "      <td>33</td>\n",
       "      <td>9.0</td>\n",
       "      <td>0.272727</td>\n",
       "      <td>0.010101</td>\n",
       "      <td>0.026316</td>\n",
       "      <td>0.989899</td>\n",
       "      <td>0.973684</td>\n",
       "    </tr>\n",
       "    <tr>\n",
       "      <th>47</th>\n",
       "      <td>31.000000</td>\n",
       "      <td>17</td>\n",
       "      <td>8.0</td>\n",
       "      <td>0.470588</td>\n",
       "      <td>0.008979</td>\n",
       "      <td>0.023392</td>\n",
       "      <td>0.991021</td>\n",
       "      <td>0.976608</td>\n",
       "    </tr>\n",
       "    <tr>\n",
       "      <th>3</th>\n",
       "      <td>4.000000</td>\n",
       "      <td>11</td>\n",
       "      <td>7.0</td>\n",
       "      <td>0.636364</td>\n",
       "      <td>0.007856</td>\n",
       "      <td>0.020468</td>\n",
       "      <td>0.992144</td>\n",
       "      <td>0.979532</td>\n",
       "    </tr>\n",
       "    <tr>\n",
       "      <th>58</th>\n",
       "      <td>38.000000</td>\n",
       "      <td>13</td>\n",
       "      <td>7.0</td>\n",
       "      <td>0.538462</td>\n",
       "      <td>0.007856</td>\n",
       "      <td>0.020468</td>\n",
       "      <td>0.992144</td>\n",
       "      <td>0.979532</td>\n",
       "    </tr>\n",
       "    <tr>\n",
       "      <th>61</th>\n",
       "      <td>40.000000</td>\n",
       "      <td>15</td>\n",
       "      <td>7.0</td>\n",
       "      <td>0.466667</td>\n",
       "      <td>0.007856</td>\n",
       "      <td>0.020468</td>\n",
       "      <td>0.992144</td>\n",
       "      <td>0.979532</td>\n",
       "    </tr>\n",
       "    <tr>\n",
       "      <th>52</th>\n",
       "      <td>34.000000</td>\n",
       "      <td>15</td>\n",
       "      <td>6.0</td>\n",
       "      <td>0.400000</td>\n",
       "      <td>0.006734</td>\n",
       "      <td>0.017544</td>\n",
       "      <td>0.993266</td>\n",
       "      <td>0.982456</td>\n",
       "    </tr>\n",
       "    <tr>\n",
       "      <th>36</th>\n",
       "      <td>25.000000</td>\n",
       "      <td>23</td>\n",
       "      <td>6.0</td>\n",
       "      <td>0.260870</td>\n",
       "      <td>0.006734</td>\n",
       "      <td>0.017544</td>\n",
       "      <td>0.993266</td>\n",
       "      <td>0.982456</td>\n",
       "    </tr>\n",
       "    <tr>\n",
       "      <th>51</th>\n",
       "      <td>33.000000</td>\n",
       "      <td>15</td>\n",
       "      <td>6.0</td>\n",
       "      <td>0.400000</td>\n",
       "      <td>0.006734</td>\n",
       "      <td>0.017544</td>\n",
       "      <td>0.993266</td>\n",
       "      <td>0.982456</td>\n",
       "    </tr>\n",
       "    <tr>\n",
       "      <th>72</th>\n",
       "      <td>48.000000</td>\n",
       "      <td>9</td>\n",
       "      <td>6.0</td>\n",
       "      <td>0.666667</td>\n",
       "      <td>0.006734</td>\n",
       "      <td>0.017544</td>\n",
       "      <td>0.993266</td>\n",
       "      <td>0.982456</td>\n",
       "    </tr>\n",
       "    <tr>\n",
       "      <th>21</th>\n",
       "      <td>16.000000</td>\n",
       "      <td>17</td>\n",
       "      <td>6.0</td>\n",
       "      <td>0.352941</td>\n",
       "      <td>0.006734</td>\n",
       "      <td>0.017544</td>\n",
       "      <td>0.993266</td>\n",
       "      <td>0.982456</td>\n",
       "    </tr>\n",
       "    <tr>\n",
       "      <th>64</th>\n",
       "      <td>42.000000</td>\n",
       "      <td>13</td>\n",
       "      <td>6.0</td>\n",
       "      <td>0.461538</td>\n",
       "      <td>0.006734</td>\n",
       "      <td>0.017544</td>\n",
       "      <td>0.993266</td>\n",
       "      <td>0.982456</td>\n",
       "    </tr>\n",
       "    <tr>\n",
       "      <th>22</th>\n",
       "      <td>17.000000</td>\n",
       "      <td>13</td>\n",
       "      <td>6.0</td>\n",
       "      <td>0.461538</td>\n",
       "      <td>0.006734</td>\n",
       "      <td>0.017544</td>\n",
       "      <td>0.993266</td>\n",
       "      <td>0.982456</td>\n",
       "    </tr>\n",
       "    <tr>\n",
       "      <th>60</th>\n",
       "      <td>39.000000</td>\n",
       "      <td>14</td>\n",
       "      <td>5.0</td>\n",
       "      <td>0.357143</td>\n",
       "      <td>0.005612</td>\n",
       "      <td>0.014620</td>\n",
       "      <td>0.994388</td>\n",
       "      <td>0.985380</td>\n",
       "    </tr>\n",
       "    <tr>\n",
       "      <th>29</th>\n",
       "      <td>21.000000</td>\n",
       "      <td>24</td>\n",
       "      <td>5.0</td>\n",
       "      <td>0.208333</td>\n",
       "      <td>0.005612</td>\n",
       "      <td>0.014620</td>\n",
       "      <td>0.994388</td>\n",
       "      <td>0.985380</td>\n",
       "    </tr>\n",
       "    <tr>\n",
       "      <th>32</th>\n",
       "      <td>23.000000</td>\n",
       "      <td>15</td>\n",
       "      <td>5.0</td>\n",
       "      <td>0.333333</td>\n",
       "      <td>0.005612</td>\n",
       "      <td>0.014620</td>\n",
       "      <td>0.994388</td>\n",
       "      <td>0.985380</td>\n",
       "    </tr>\n",
       "    <tr>\n",
       "      <th>74</th>\n",
       "      <td>50.000000</td>\n",
       "      <td>10</td>\n",
       "      <td>5.0</td>\n",
       "      <td>0.500000</td>\n",
       "      <td>0.005612</td>\n",
       "      <td>0.014620</td>\n",
       "      <td>0.994388</td>\n",
       "      <td>0.985380</td>\n",
       "    </tr>\n",
       "    <tr>\n",
       "      <th>2</th>\n",
       "      <td>3.000000</td>\n",
       "      <td>6</td>\n",
       "      <td>5.0</td>\n",
       "      <td>0.833333</td>\n",
       "      <td>0.005612</td>\n",
       "      <td>0.014620</td>\n",
       "      <td>0.994388</td>\n",
       "      <td>0.985380</td>\n",
       "    </tr>\n",
       "    <tr>\n",
       "      <th>...</th>\n",
       "      <td>...</td>\n",
       "      <td>...</td>\n",
       "      <td>...</td>\n",
       "      <td>...</td>\n",
       "      <td>...</td>\n",
       "      <td>...</td>\n",
       "      <td>...</td>\n",
       "      <td>...</td>\n",
       "    </tr>\n",
       "    <tr>\n",
       "      <th>82</th>\n",
       "      <td>57.000000</td>\n",
       "      <td>2</td>\n",
       "      <td>0.0</td>\n",
       "      <td>0.000000</td>\n",
       "      <td>0.000000</td>\n",
       "      <td>0.000000</td>\n",
       "      <td>1.000000</td>\n",
       "      <td>1.000000</td>\n",
       "    </tr>\n",
       "    <tr>\n",
       "      <th>94</th>\n",
       "      <td>70.000000</td>\n",
       "      <td>2</td>\n",
       "      <td>0.0</td>\n",
       "      <td>0.000000</td>\n",
       "      <td>0.000000</td>\n",
       "      <td>0.000000</td>\n",
       "      <td>1.000000</td>\n",
       "      <td>1.000000</td>\n",
       "    </tr>\n",
       "    <tr>\n",
       "      <th>84</th>\n",
       "      <td>59.000000</td>\n",
       "      <td>2</td>\n",
       "      <td>0.0</td>\n",
       "      <td>0.000000</td>\n",
       "      <td>0.000000</td>\n",
       "      <td>0.000000</td>\n",
       "      <td>1.000000</td>\n",
       "      <td>1.000000</td>\n",
       "    </tr>\n",
       "    <tr>\n",
       "      <th>39</th>\n",
       "      <td>26.500000</td>\n",
       "      <td>0</td>\n",
       "      <td>0.0</td>\n",
       "      <td>NaN</td>\n",
       "      <td>0.000000</td>\n",
       "      <td>0.000000</td>\n",
       "      <td>1.000000</td>\n",
       "      <td>1.000000</td>\n",
       "    </tr>\n",
       "    <tr>\n",
       "      <th>86</th>\n",
       "      <td>60.500000</td>\n",
       "      <td>0</td>\n",
       "      <td>0.0</td>\n",
       "      <td>NaN</td>\n",
       "      <td>0.000000</td>\n",
       "      <td>0.000000</td>\n",
       "      <td>1.000000</td>\n",
       "      <td>1.000000</td>\n",
       "    </tr>\n",
       "    <tr>\n",
       "      <th>69</th>\n",
       "      <td>45.500000</td>\n",
       "      <td>2</td>\n",
       "      <td>0.0</td>\n",
       "      <td>0.000000</td>\n",
       "      <td>0.000000</td>\n",
       "      <td>0.000000</td>\n",
       "      <td>1.000000</td>\n",
       "      <td>1.000000</td>\n",
       "    </tr>\n",
       "    <tr>\n",
       "      <th>14</th>\n",
       "      <td>11.500000</td>\n",
       "      <td>0</td>\n",
       "      <td>0.0</td>\n",
       "      <td>NaN</td>\n",
       "      <td>0.000000</td>\n",
       "      <td>0.000000</td>\n",
       "      <td>1.000000</td>\n",
       "      <td>1.000000</td>\n",
       "    </tr>\n",
       "    <tr>\n",
       "      <th>31</th>\n",
       "      <td>22.500000</td>\n",
       "      <td>0</td>\n",
       "      <td>0.0</td>\n",
       "      <td>NaN</td>\n",
       "      <td>0.000000</td>\n",
       "      <td>0.000000</td>\n",
       "      <td>1.000000</td>\n",
       "      <td>1.000000</td>\n",
       "    </tr>\n",
       "    <tr>\n",
       "      <th>93</th>\n",
       "      <td>67.000000</td>\n",
       "      <td>0</td>\n",
       "      <td>0.0</td>\n",
       "      <td>NaN</td>\n",
       "      <td>0.000000</td>\n",
       "      <td>0.000000</td>\n",
       "      <td>1.000000</td>\n",
       "      <td>1.000000</td>\n",
       "    </tr>\n",
       "    <tr>\n",
       "      <th>59</th>\n",
       "      <td>38.500000</td>\n",
       "      <td>0</td>\n",
       "      <td>0.0</td>\n",
       "      <td>NaN</td>\n",
       "      <td>0.000000</td>\n",
       "      <td>0.000000</td>\n",
       "      <td>1.000000</td>\n",
       "      <td>1.000000</td>\n",
       "    </tr>\n",
       "    <tr>\n",
       "      <th>6</th>\n",
       "      <td>6.155227</td>\n",
       "      <td>0</td>\n",
       "      <td>0.0</td>\n",
       "      <td>NaN</td>\n",
       "      <td>0.000000</td>\n",
       "      <td>0.000000</td>\n",
       "      <td>1.000000</td>\n",
       "      <td>1.000000</td>\n",
       "    </tr>\n",
       "    <tr>\n",
       "      <th>70</th>\n",
       "      <td>46.000000</td>\n",
       "      <td>3</td>\n",
       "      <td>0.0</td>\n",
       "      <td>0.000000</td>\n",
       "      <td>0.000000</td>\n",
       "      <td>0.000000</td>\n",
       "      <td>1.000000</td>\n",
       "      <td>1.000000</td>\n",
       "    </tr>\n",
       "    <tr>\n",
       "      <th>41</th>\n",
       "      <td>27.813212</td>\n",
       "      <td>7</td>\n",
       "      <td>0.0</td>\n",
       "      <td>0.000000</td>\n",
       "      <td>0.000000</td>\n",
       "      <td>0.000000</td>\n",
       "      <td>1.000000</td>\n",
       "      <td>1.000000</td>\n",
       "    </tr>\n",
       "    <tr>\n",
       "      <th>46</th>\n",
       "      <td>30.500000</td>\n",
       "      <td>2</td>\n",
       "      <td>0.0</td>\n",
       "      <td>0.000000</td>\n",
       "      <td>0.000000</td>\n",
       "      <td>0.000000</td>\n",
       "      <td>1.000000</td>\n",
       "      <td>1.000000</td>\n",
       "    </tr>\n",
       "    <tr>\n",
       "      <th>18</th>\n",
       "      <td>14.250000</td>\n",
       "      <td>1</td>\n",
       "      <td>0.0</td>\n",
       "      <td>0.000000</td>\n",
       "      <td>0.000000</td>\n",
       "      <td>0.000000</td>\n",
       "      <td>1.000000</td>\n",
       "      <td>1.000000</td>\n",
       "    </tr>\n",
       "    <tr>\n",
       "      <th>35</th>\n",
       "      <td>24.500000</td>\n",
       "      <td>1</td>\n",
       "      <td>0.0</td>\n",
       "      <td>0.000000</td>\n",
       "      <td>0.000000</td>\n",
       "      <td>0.000000</td>\n",
       "      <td>1.000000</td>\n",
       "      <td>1.000000</td>\n",
       "    </tr>\n",
       "    <tr>\n",
       "      <th>80</th>\n",
       "      <td>55.500000</td>\n",
       "      <td>1</td>\n",
       "      <td>0.0</td>\n",
       "      <td>0.000000</td>\n",
       "      <td>0.000000</td>\n",
       "      <td>0.000000</td>\n",
       "      <td>1.000000</td>\n",
       "      <td>1.000000</td>\n",
       "    </tr>\n",
       "    <tr>\n",
       "      <th>33</th>\n",
       "      <td>23.500000</td>\n",
       "      <td>1</td>\n",
       "      <td>0.0</td>\n",
       "      <td>0.000000</td>\n",
       "      <td>0.000000</td>\n",
       "      <td>0.000000</td>\n",
       "      <td>1.000000</td>\n",
       "      <td>1.000000</td>\n",
       "    </tr>\n",
       "    <tr>\n",
       "      <th>28</th>\n",
       "      <td>20.500000</td>\n",
       "      <td>1</td>\n",
       "      <td>0.0</td>\n",
       "      <td>0.000000</td>\n",
       "      <td>0.000000</td>\n",
       "      <td>0.000000</td>\n",
       "      <td>1.000000</td>\n",
       "      <td>1.000000</td>\n",
       "    </tr>\n",
       "    <tr>\n",
       "      <th>25</th>\n",
       "      <td>18.500000</td>\n",
       "      <td>1</td>\n",
       "      <td>0.0</td>\n",
       "      <td>0.000000</td>\n",
       "      <td>0.000000</td>\n",
       "      <td>0.000000</td>\n",
       "      <td>1.000000</td>\n",
       "      <td>1.000000</td>\n",
       "    </tr>\n",
       "    <tr>\n",
       "      <th>53</th>\n",
       "      <td>34.500000</td>\n",
       "      <td>1</td>\n",
       "      <td>0.0</td>\n",
       "      <td>0.000000</td>\n",
       "      <td>0.000000</td>\n",
       "      <td>0.000000</td>\n",
       "      <td>1.000000</td>\n",
       "      <td>1.000000</td>\n",
       "    </tr>\n",
       "    <tr>\n",
       "      <th>56</th>\n",
       "      <td>36.500000</td>\n",
       "      <td>1</td>\n",
       "      <td>0.0</td>\n",
       "      <td>0.000000</td>\n",
       "      <td>0.000000</td>\n",
       "      <td>0.000000</td>\n",
       "      <td>1.000000</td>\n",
       "      <td>1.000000</td>\n",
       "    </tr>\n",
       "    <tr>\n",
       "      <th>12</th>\n",
       "      <td>10.000000</td>\n",
       "      <td>2</td>\n",
       "      <td>0.0</td>\n",
       "      <td>0.000000</td>\n",
       "      <td>0.000000</td>\n",
       "      <td>0.000000</td>\n",
       "      <td>1.000000</td>\n",
       "      <td>1.000000</td>\n",
       "    </tr>\n",
       "    <tr>\n",
       "      <th>92</th>\n",
       "      <td>66.000000</td>\n",
       "      <td>1</td>\n",
       "      <td>0.0</td>\n",
       "      <td>0.000000</td>\n",
       "      <td>0.000000</td>\n",
       "      <td>0.000000</td>\n",
       "      <td>1.000000</td>\n",
       "      <td>1.000000</td>\n",
       "    </tr>\n",
       "    <tr>\n",
       "      <th>95</th>\n",
       "      <td>70.500000</td>\n",
       "      <td>1</td>\n",
       "      <td>0.0</td>\n",
       "      <td>0.000000</td>\n",
       "      <td>0.000000</td>\n",
       "      <td>0.000000</td>\n",
       "      <td>1.000000</td>\n",
       "      <td>1.000000</td>\n",
       "    </tr>\n",
       "    <tr>\n",
       "      <th>97</th>\n",
       "      <td>74.000000</td>\n",
       "      <td>1</td>\n",
       "      <td>0.0</td>\n",
       "      <td>0.000000</td>\n",
       "      <td>0.000000</td>\n",
       "      <td>0.000000</td>\n",
       "      <td>1.000000</td>\n",
       "      <td>1.000000</td>\n",
       "    </tr>\n",
       "    <tr>\n",
       "      <th>91</th>\n",
       "      <td>65.000000</td>\n",
       "      <td>3</td>\n",
       "      <td>0.0</td>\n",
       "      <td>0.000000</td>\n",
       "      <td>0.000000</td>\n",
       "      <td>0.000000</td>\n",
       "      <td>1.000000</td>\n",
       "      <td>1.000000</td>\n",
       "    </tr>\n",
       "    <tr>\n",
       "      <th>10</th>\n",
       "      <td>8.500000</td>\n",
       "      <td>3</td>\n",
       "      <td>0.0</td>\n",
       "      <td>0.000000</td>\n",
       "      <td>0.000000</td>\n",
       "      <td>0.000000</td>\n",
       "      <td>1.000000</td>\n",
       "      <td>1.000000</td>\n",
       "    </tr>\n",
       "    <tr>\n",
       "      <th>62</th>\n",
       "      <td>40.500000</td>\n",
       "      <td>2</td>\n",
       "      <td>0.0</td>\n",
       "      <td>0.000000</td>\n",
       "      <td>0.000000</td>\n",
       "      <td>0.000000</td>\n",
       "      <td>1.000000</td>\n",
       "      <td>1.000000</td>\n",
       "    </tr>\n",
       "    <tr>\n",
       "      <th>98</th>\n",
       "      <td>76.000000</td>\n",
       "      <td>0</td>\n",
       "      <td>0.0</td>\n",
       "      <td>NaN</td>\n",
       "      <td>0.000000</td>\n",
       "      <td>0.000000</td>\n",
       "      <td>1.000000</td>\n",
       "      <td>1.000000</td>\n",
       "    </tr>\n",
       "  </tbody>\n",
       "</table>\n",
       "<p>100 rows × 8 columns</p>\n",
       "</div>"
      ],
      "text/plain": [
       "          Age  Qtd_total  Qtd_Sobreviventes      Prob  Prob_Sobreviver  \\\n",
       "30  22.000000         46               25.0  0.543478         0.028058   \n",
       "54  35.000000         23               16.0  0.695652         0.017957   \n",
       "34  24.000000         30               15.0  0.500000         0.016835   \n",
       "55  36.000000         27               12.0  0.444444         0.013468   \n",
       "0    1.000000         15               12.0  0.800000         0.013468   \n",
       "40  27.000000         18               11.0  0.611111         0.012346   \n",
       "45  30.000000         27               11.0  0.407407         0.012346   \n",
       "44  29.000000         42               10.0  0.238095         0.011223   \n",
       "26  19.000000         27               10.0  0.370370         0.011223   \n",
       "38  26.000000         60               10.0  0.166667         0.011223   \n",
       "48  32.000000         18                9.0  0.500000         0.010101   \n",
       "24  18.000000         26                9.0  0.346154         0.010101   \n",
       "68  45.000000         27                9.0  0.333333         0.010101   \n",
       "42  28.000000         33                9.0  0.272727         0.010101   \n",
       "47  31.000000         17                8.0  0.470588         0.008979   \n",
       "3    4.000000         11                7.0  0.636364         0.007856   \n",
       "58  38.000000         13                7.0  0.538462         0.007856   \n",
       "61  40.000000         15                7.0  0.466667         0.007856   \n",
       "52  34.000000         15                6.0  0.400000         0.006734   \n",
       "36  25.000000         23                6.0  0.260870         0.006734   \n",
       "51  33.000000         15                6.0  0.400000         0.006734   \n",
       "72  48.000000          9                6.0  0.666667         0.006734   \n",
       "21  16.000000         17                6.0  0.352941         0.006734   \n",
       "64  42.000000         13                6.0  0.461538         0.006734   \n",
       "22  17.000000         13                6.0  0.461538         0.006734   \n",
       "60  39.000000         14                5.0  0.357143         0.005612   \n",
       "29  21.000000         24                5.0  0.208333         0.005612   \n",
       "32  23.000000         15                5.0  0.333333         0.005612   \n",
       "74  50.000000         10                5.0  0.500000         0.005612   \n",
       "2    3.000000          6                5.0  0.833333         0.005612   \n",
       "..        ...        ...                ...       ...              ...   \n",
       "82  57.000000          2                0.0  0.000000         0.000000   \n",
       "94  70.000000          2                0.0  0.000000         0.000000   \n",
       "84  59.000000          2                0.0  0.000000         0.000000   \n",
       "39  26.500000          0                0.0       NaN         0.000000   \n",
       "86  60.500000          0                0.0       NaN         0.000000   \n",
       "69  45.500000          2                0.0  0.000000         0.000000   \n",
       "14  11.500000          0                0.0       NaN         0.000000   \n",
       "31  22.500000          0                0.0       NaN         0.000000   \n",
       "93  67.000000          0                0.0       NaN         0.000000   \n",
       "59  38.500000          0                0.0       NaN         0.000000   \n",
       "6    6.155227          0                0.0       NaN         0.000000   \n",
       "70  46.000000          3                0.0  0.000000         0.000000   \n",
       "41  27.813212          7                0.0  0.000000         0.000000   \n",
       "46  30.500000          2                0.0  0.000000         0.000000   \n",
       "18  14.250000          1                0.0  0.000000         0.000000   \n",
       "35  24.500000          1                0.0  0.000000         0.000000   \n",
       "80  55.500000          1                0.0  0.000000         0.000000   \n",
       "33  23.500000          1                0.0  0.000000         0.000000   \n",
       "28  20.500000          1                0.0  0.000000         0.000000   \n",
       "25  18.500000          1                0.0  0.000000         0.000000   \n",
       "53  34.500000          1                0.0  0.000000         0.000000   \n",
       "56  36.500000          1                0.0  0.000000         0.000000   \n",
       "12  10.000000          2                0.0  0.000000         0.000000   \n",
       "92  66.000000          1                0.0  0.000000         0.000000   \n",
       "95  70.500000          1                0.0  0.000000         0.000000   \n",
       "97  74.000000          1                0.0  0.000000         0.000000   \n",
       "91  65.000000          3                0.0  0.000000         0.000000   \n",
       "10   8.500000          3                0.0  0.000000         0.000000   \n",
       "62  40.500000          2                0.0  0.000000         0.000000   \n",
       "98  76.000000          0                0.0       NaN         0.000000   \n",
       "\n",
       "    Prob_Sobreviver_sobre_sobrevividos  Prob_não_Sobreviver  \\\n",
       "30                            0.073099             0.971942   \n",
       "54                            0.046784             0.982043   \n",
       "34                            0.043860             0.983165   \n",
       "55                            0.035088             0.986532   \n",
       "0                             0.035088             0.986532   \n",
       "40                            0.032164             0.987654   \n",
       "45                            0.032164             0.987654   \n",
       "44                            0.029240             0.988777   \n",
       "26                            0.029240             0.988777   \n",
       "38                            0.029240             0.988777   \n",
       "48                            0.026316             0.989899   \n",
       "24                            0.026316             0.989899   \n",
       "68                            0.026316             0.989899   \n",
       "42                            0.026316             0.989899   \n",
       "47                            0.023392             0.991021   \n",
       "3                             0.020468             0.992144   \n",
       "58                            0.020468             0.992144   \n",
       "61                            0.020468             0.992144   \n",
       "52                            0.017544             0.993266   \n",
       "36                            0.017544             0.993266   \n",
       "51                            0.017544             0.993266   \n",
       "72                            0.017544             0.993266   \n",
       "21                            0.017544             0.993266   \n",
       "64                            0.017544             0.993266   \n",
       "22                            0.017544             0.993266   \n",
       "60                            0.014620             0.994388   \n",
       "29                            0.014620             0.994388   \n",
       "32                            0.014620             0.994388   \n",
       "74                            0.014620             0.994388   \n",
       "2                             0.014620             0.994388   \n",
       "..                                 ...                  ...   \n",
       "82                            0.000000             1.000000   \n",
       "94                            0.000000             1.000000   \n",
       "84                            0.000000             1.000000   \n",
       "39                            0.000000             1.000000   \n",
       "86                            0.000000             1.000000   \n",
       "69                            0.000000             1.000000   \n",
       "14                            0.000000             1.000000   \n",
       "31                            0.000000             1.000000   \n",
       "93                            0.000000             1.000000   \n",
       "59                            0.000000             1.000000   \n",
       "6                             0.000000             1.000000   \n",
       "70                            0.000000             1.000000   \n",
       "41                            0.000000             1.000000   \n",
       "46                            0.000000             1.000000   \n",
       "18                            0.000000             1.000000   \n",
       "35                            0.000000             1.000000   \n",
       "80                            0.000000             1.000000   \n",
       "33                            0.000000             1.000000   \n",
       "28                            0.000000             1.000000   \n",
       "25                            0.000000             1.000000   \n",
       "53                            0.000000             1.000000   \n",
       "56                            0.000000             1.000000   \n",
       "12                            0.000000             1.000000   \n",
       "92                            0.000000             1.000000   \n",
       "95                            0.000000             1.000000   \n",
       "97                            0.000000             1.000000   \n",
       "91                            0.000000             1.000000   \n",
       "10                            0.000000             1.000000   \n",
       "62                            0.000000             1.000000   \n",
       "98                            0.000000             1.000000   \n",
       "\n",
       "    Prob_não_Sobreviver_sobre_sobrevivesntes  \n",
       "30                                  0.926901  \n",
       "54                                  0.953216  \n",
       "34                                  0.956140  \n",
       "55                                  0.964912  \n",
       "0                                   0.964912  \n",
       "40                                  0.967836  \n",
       "45                                  0.967836  \n",
       "44                                  0.970760  \n",
       "26                                  0.970760  \n",
       "38                                  0.970760  \n",
       "48                                  0.973684  \n",
       "24                                  0.973684  \n",
       "68                                  0.973684  \n",
       "42                                  0.973684  \n",
       "47                                  0.976608  \n",
       "3                                   0.979532  \n",
       "58                                  0.979532  \n",
       "61                                  0.979532  \n",
       "52                                  0.982456  \n",
       "36                                  0.982456  \n",
       "51                                  0.982456  \n",
       "72                                  0.982456  \n",
       "21                                  0.982456  \n",
       "64                                  0.982456  \n",
       "22                                  0.982456  \n",
       "60                                  0.985380  \n",
       "29                                  0.985380  \n",
       "32                                  0.985380  \n",
       "74                                  0.985380  \n",
       "2                                   0.985380  \n",
       "..                                       ...  \n",
       "82                                  1.000000  \n",
       "94                                  1.000000  \n",
       "84                                  1.000000  \n",
       "39                                  1.000000  \n",
       "86                                  1.000000  \n",
       "69                                  1.000000  \n",
       "14                                  1.000000  \n",
       "31                                  1.000000  \n",
       "93                                  1.000000  \n",
       "59                                  1.000000  \n",
       "6                                   1.000000  \n",
       "70                                  1.000000  \n",
       "41                                  1.000000  \n",
       "46                                  1.000000  \n",
       "18                                  1.000000  \n",
       "35                                  1.000000  \n",
       "80                                  1.000000  \n",
       "33                                  1.000000  \n",
       "28                                  1.000000  \n",
       "25                                  1.000000  \n",
       "53                                  1.000000  \n",
       "56                                  1.000000  \n",
       "12                                  1.000000  \n",
       "92                                  1.000000  \n",
       "95                                  1.000000  \n",
       "97                                  1.000000  \n",
       "91                                  1.000000  \n",
       "10                                  1.000000  \n",
       "62                                  1.000000  \n",
       "98                                  1.000000  \n",
       "\n",
       "[100 rows x 8 columns]"
      ]
     },
     "execution_count": 782,
     "metadata": {},
     "output_type": "execute_result"
    }
   ],
   "source": [
    "df_age.sort_values('Prob_Sobreviver',ascending=False)"
   ]
  },
  {
   "cell_type": "code",
   "execution_count": 783,
   "metadata": {
    "ExecuteTime": {
     "end_time": "2019-08-15T22:44:04.670170Z",
     "start_time": "2019-08-15T22:44:04.452786Z"
    }
   },
   "outputs": [
    {
     "data": {
      "text/plain": [
       "<matplotlib.axes._subplots.AxesSubplot at 0x2d502b70>"
      ]
     },
     "execution_count": 783,
     "metadata": {},
     "output_type": "execute_result"
    },
    {
     "data": {
      "image/png": "[encoded data removed]",
      "text/plain": [
       "<Figure size 432x288 with 1 Axes>"
      ]
     },
     "metadata": {
      "needs_background": "light"
     },
     "output_type": "display_data"
    }
   ],
   "source": [
    "df_age.Prob_Sobreviver.hist()"
   ]
  },
  {
   "cell_type": "markdown",
   "metadata": {},
   "source": [
    "## Input Fare"
   ]
  },
  {
   "cell_type": "code",
   "execution_count": 784,
   "metadata": {
    "ExecuteTime": {
     "end_time": "2019-08-15T22:44:04.677160Z",
     "start_time": "2019-08-15T22:44:04.671152Z"
    }
   },
   "outputs": [],
   "source": [
    "titanic.loc[titanic.Fare.isna(),'Fare']=titanic.Fare.mean()"
   ]
  },
  {
   "cell_type": "code",
   "execution_count": 785,
   "metadata": {
    "ExecuteTime": {
     "end_time": "2019-08-15T22:44:04.754731Z",
     "start_time": "2019-08-15T22:44:04.678661Z"
    },
    "scrolled": true
   },
   "outputs": [
    {
     "data": {
      "text/plain": [
       "index                0\n",
       "Age                  0\n",
       "Cabin             1014\n",
       "Embarked             0\n",
       "Fare                 0\n",
       "Name                 0\n",
       "Parch                0\n",
       "PassengerId          0\n",
       "Pclass               0\n",
       "Sex                  0\n",
       "SibSp                0\n",
       "Survived           418\n",
       "Ticket               0\n",
       "Title                0\n",
       "Ft_Acompanhado       0\n",
       "Survived_Lbl       418\n",
       "dtype: int64"
      ]
     },
     "execution_count": 785,
     "metadata": {},
     "output_type": "execute_result"
    }
   ],
   "source": [
    "titanic.isna().sum()"
   ]
  },
  {
   "cell_type": "code",
   "execution_count": 786,
   "metadata": {
    "ExecuteTime": {
     "end_time": "2019-08-15T22:44:04.829170Z",
     "start_time": "2019-08-15T22:44:04.755750Z"
    }
   },
   "outputs": [],
   "source": [
    "titanic.loc[titanic.Fare < 1.000 ,'Fare'] = 1.000"
   ]
  },
  {
   "cell_type": "code",
   "execution_count": 787,
   "metadata": {
    "ExecuteTime": {
     "end_time": "2019-08-15T22:44:04.899013Z",
     "start_time": "2019-08-15T22:44:04.830674Z"
    }
   },
   "outputs": [
    {
     "data": {
      "text/plain": [
       "count    1309.000000\n",
       "mean       33.308466\n",
       "std        51.730638\n",
       "min         1.000000\n",
       "25%         7.895800\n",
       "50%        14.454200\n",
       "75%        31.275000\n",
       "max       512.329200\n",
       "Name: Fare, dtype: float64"
      ]
     },
     "execution_count": 787,
     "metadata": {},
     "output_type": "execute_result"
    }
   ],
   "source": [
    "titanic.Fare.describe()"
   ]
  },
  {
   "cell_type": "code",
   "execution_count": 788,
   "metadata": {
    "ExecuteTime": {
     "end_time": "2019-08-15T22:44:05.120188Z",
     "start_time": "2019-08-15T22:44:04.900004Z"
    }
   },
   "outputs": [
    {
     "data": {
      "text/plain": [
       "<matplotlib.axes._subplots.AxesSubplot at 0x2d543490>"
      ]
     },
     "execution_count": 788,
     "metadata": {},
     "output_type": "execute_result"
    },
    {
     "data": {
      "image/png": "[encoded data removed]",
      "text/plain": [
       "<Figure size 432x288 with 1 Axes>"
      ]
     },
     "metadata": {
      "needs_background": "light"
     },
     "output_type": "display_data"
    }
   ],
   "source": [
    "titanic.Fare.hist()"
   ]
  },
  {
   "cell_type": "code",
   "execution_count": 789,
   "metadata": {
    "ExecuteTime": {
     "end_time": "2019-08-15T22:44:05.131196Z",
     "start_time": "2019-08-15T22:44:05.121206Z"
    }
   },
   "outputs": [],
   "source": [
    "df_fare= titanic.groupby(['Fare']).agg({'Survived_Lbl':'count','Survived':'sum'}).reset_index()\n",
    "df_fare = df_fare.rename(columns={'Fare':'Fare','Survived_Lbl':'Qtd_total','Survived':'Qtd_Sobreviventes'})"
   ]
  },
  {
   "cell_type": "code",
   "execution_count": 790,
   "metadata": {
    "ExecuteTime": {
     "end_time": "2019-08-15T22:44:05.210104Z",
     "start_time": "2019-08-15T22:44:05.132196Z"
    }
   },
   "outputs": [],
   "source": [
    "df_fare = df_fare.sort_values('Qtd_total',ascending=False)\n"
   ]
  },
  {
   "cell_type": "code",
   "execution_count": 791,
   "metadata": {
    "ExecuteTime": {
     "end_time": "2019-08-15T22:44:05.288106Z",
     "start_time": "2019-08-15T22:44:05.211684Z"
    }
   },
   "outputs": [
    {
     "name": "stdout",
     "output_type": "stream",
     "text": [
      "891\n",
      "342\n"
     ]
    }
   ],
   "source": [
    "df_fare['Prob'] = df_fare.Qtd_Sobreviventes/df_fare.Qtd_total\n",
    "\n",
    "\n",
    "Qtd_total= df_fare.Qtd_total.sum().astype(int)\n",
    "print(Qtd_total)\n",
    "df_fare['Prob_Sobreviver'] = df_fare.Qtd_Sobreviventes/Qtd_total\n",
    "\n",
    "\n",
    "Qtd_total_Sobreviventes= df_fare.Qtd_Sobreviventes.sum().astype(int)\n",
    "print(Qtd_total_Sobreviventes)\n",
    "df_fare['Prob_Sobreviver_sobre_sobrevividos'] = df_fare.Qtd_Sobreviventes/Qtd_total_Sobreviventes\n"
   ]
  },
  {
   "cell_type": "code",
   "execution_count": 792,
   "metadata": {
    "ExecuteTime": {
     "end_time": "2019-08-15T22:44:05.368471Z",
     "start_time": "2019-08-15T22:44:05.290116Z"
    }
   },
   "outputs": [],
   "source": [
    "df_fare['Prob_não_Sobreviver'] = 1-df_fare.Prob_Sobreviver\n",
    "df_fare['Prob_não_Sobreviver_sobre_sobrevivesntes'] = 1-df_fare.Prob_Sobreviver_sobre_sobrevividos\n"
   ]
  },
  {
   "cell_type": "code",
   "execution_count": 793,
   "metadata": {
    "ExecuteTime": {
     "end_time": "2019-08-15T22:44:05.443436Z",
     "start_time": "2019-08-15T22:44:05.369865Z"
    }
   },
   "outputs": [],
   "source": [
    "df_fare =df_fare.sort_values('Prob',ascending=False)"
   ]
  },
  {
   "cell_type": "code",
   "execution_count": 794,
   "metadata": {
    "ExecuteTime": {
     "end_time": "2019-08-15T22:44:05.536435Z",
     "start_time": "2019-08-15T22:44:05.444383Z"
    }
   },
   "outputs": [
    {
     "data": {
      "text/html": [
       "<div>\n",
       "<style scoped>\n",
       "    .dataframe tbody tr th:only-of-type {\n",
       "        vertical-align: middle;\n",
       "    }\n",
       "\n",
       "    .dataframe tbody tr th {\n",
       "        vertical-align: top;\n",
       "    }\n",
       "\n",
       "    .dataframe thead th {\n",
       "        text-align: right;\n",
       "    }\n",
       "</style>\n",
       "<table border=\"1\" class=\"dataframe\">\n",
       "  <thead>\n",
       "    <tr style=\"text-align: right;\">\n",
       "      <th></th>\n",
       "      <th>Fare</th>\n",
       "      <th>Qtd_total</th>\n",
       "      <th>Qtd_Sobreviventes</th>\n",
       "      <th>Prob</th>\n",
       "      <th>Prob_Sobreviver</th>\n",
       "      <th>Prob_Sobreviver_sobre_sobrevividos</th>\n",
       "      <th>Prob_não_Sobreviver</th>\n",
       "      <th>Prob_não_Sobreviver_sobre_sobrevivesntes</th>\n",
       "    </tr>\n",
       "  </thead>\n",
       "  <tbody>\n",
       "    <tr>\n",
       "      <th>52</th>\n",
       "      <td>8.0500</td>\n",
       "      <td>43</td>\n",
       "      <td>5.0</td>\n",
       "      <td>0.116279</td>\n",
       "      <td>0.005612</td>\n",
       "      <td>0.014620</td>\n",
       "      <td>0.994388</td>\n",
       "      <td>0.985380</td>\n",
       "    </tr>\n",
       "    <tr>\n",
       "      <th>100</th>\n",
       "      <td>13.0000</td>\n",
       "      <td>42</td>\n",
       "      <td>16.0</td>\n",
       "      <td>0.380952</td>\n",
       "      <td>0.017957</td>\n",
       "      <td>0.046784</td>\n",
       "      <td>0.982043</td>\n",
       "      <td>0.953216</td>\n",
       "    </tr>\n",
       "    <tr>\n",
       "      <th>49</th>\n",
       "      <td>7.8958</td>\n",
       "      <td>38</td>\n",
       "      <td>1.0</td>\n",
       "      <td>0.026316</td>\n",
       "      <td>0.001122</td>\n",
       "      <td>0.002924</td>\n",
       "      <td>0.998878</td>\n",
       "      <td>0.997076</td>\n",
       "    </tr>\n",
       "    <tr>\n",
       "      <th>36</th>\n",
       "      <td>7.7500</td>\n",
       "      <td>34</td>\n",
       "      <td>12.0</td>\n",
       "      <td>0.352941</td>\n",
       "      <td>0.013468</td>\n",
       "      <td>0.035088</td>\n",
       "      <td>0.986532</td>\n",
       "      <td>0.964912</td>\n",
       "    </tr>\n",
       "    <tr>\n",
       "      <th>159</th>\n",
       "      <td>26.0000</td>\n",
       "      <td>31</td>\n",
       "      <td>15.0</td>\n",
       "      <td>0.483871</td>\n",
       "      <td>0.016835</td>\n",
       "      <td>0.043860</td>\n",
       "      <td>0.983165</td>\n",
       "      <td>0.956140</td>\n",
       "    </tr>\n",
       "    <tr>\n",
       "      <th>84</th>\n",
       "      <td>10.5000</td>\n",
       "      <td>24</td>\n",
       "      <td>9.0</td>\n",
       "      <td>0.375000</td>\n",
       "      <td>0.010101</td>\n",
       "      <td>0.026316</td>\n",
       "      <td>0.989899</td>\n",
       "      <td>0.973684</td>\n",
       "    </tr>\n",
       "    <tr>\n",
       "      <th>50</th>\n",
       "      <td>7.9250</td>\n",
       "      <td>18</td>\n",
       "      <td>8.0</td>\n",
       "      <td>0.444444</td>\n",
       "      <td>0.008979</td>\n",
       "      <td>0.023392</td>\n",
       "      <td>0.991021</td>\n",
       "      <td>0.976608</td>\n",
       "    </tr>\n",
       "    <tr>\n",
       "      <th>37</th>\n",
       "      <td>7.7750</td>\n",
       "      <td>16</td>\n",
       "      <td>3.0</td>\n",
       "      <td>0.187500</td>\n",
       "      <td>0.003367</td>\n",
       "      <td>0.008772</td>\n",
       "      <td>0.996633</td>\n",
       "      <td>0.991228</td>\n",
       "    </tr>\n",
       "    <tr>\n",
       "      <th>19</th>\n",
       "      <td>7.2292</td>\n",
       "      <td>15</td>\n",
       "      <td>4.0</td>\n",
       "      <td>0.266667</td>\n",
       "      <td>0.004489</td>\n",
       "      <td>0.011696</td>\n",
       "      <td>0.995511</td>\n",
       "      <td>0.988304</td>\n",
       "    </tr>\n",
       "    <tr>\n",
       "      <th>164</th>\n",
       "      <td>26.5500</td>\n",
       "      <td>15</td>\n",
       "      <td>8.0</td>\n",
       "      <td>0.533333</td>\n",
       "      <td>0.008979</td>\n",
       "      <td>0.023392</td>\n",
       "      <td>0.991021</td>\n",
       "      <td>0.976608</td>\n",
       "    </tr>\n",
       "    <tr>\n",
       "      <th>0</th>\n",
       "      <td>1.0000</td>\n",
       "      <td>15</td>\n",
       "      <td>1.0</td>\n",
       "      <td>0.066667</td>\n",
       "      <td>0.001122</td>\n",
       "      <td>0.002924</td>\n",
       "      <td>0.998878</td>\n",
       "      <td>0.997076</td>\n",
       "    </tr>\n",
       "    <tr>\n",
       "      <th>63</th>\n",
       "      <td>8.6625</td>\n",
       "      <td>13</td>\n",
       "      <td>1.0</td>\n",
       "      <td>0.076923</td>\n",
       "      <td>0.001122</td>\n",
       "      <td>0.002924</td>\n",
       "      <td>0.998878</td>\n",
       "      <td>0.997076</td>\n",
       "    </tr>\n",
       "    <tr>\n",
       "      <th>20</th>\n",
       "      <td>7.2500</td>\n",
       "      <td>13</td>\n",
       "      <td>1.0</td>\n",
       "      <td>0.076923</td>\n",
       "      <td>0.001122</td>\n",
       "      <td>0.002924</td>\n",
       "      <td>0.998878</td>\n",
       "      <td>0.997076</td>\n",
       "    </tr>\n",
       "    <tr>\n",
       "      <th>45</th>\n",
       "      <td>7.8542</td>\n",
       "      <td>13</td>\n",
       "      <td>3.0</td>\n",
       "      <td>0.230769</td>\n",
       "      <td>0.003367</td>\n",
       "      <td>0.008772</td>\n",
       "      <td>0.996633</td>\n",
       "      <td>0.991228</td>\n",
       "    </tr>\n",
       "    <tr>\n",
       "      <th>18</th>\n",
       "      <td>7.2250</td>\n",
       "      <td>12</td>\n",
       "      <td>3.0</td>\n",
       "      <td>0.250000</td>\n",
       "      <td>0.003367</td>\n",
       "      <td>0.008772</td>\n",
       "      <td>0.996633</td>\n",
       "      <td>0.991228</td>\n",
       "    </tr>\n",
       "    <tr>\n",
       "      <th>75</th>\n",
       "      <td>9.5000</td>\n",
       "      <td>9</td>\n",
       "      <td>2.0</td>\n",
       "      <td>0.222222</td>\n",
       "      <td>0.002245</td>\n",
       "      <td>0.005848</td>\n",
       "      <td>0.997755</td>\n",
       "      <td>0.994152</td>\n",
       "    </tr>\n",
       "    <tr>\n",
       "      <th>128</th>\n",
       "      <td>16.1000</td>\n",
       "      <td>9</td>\n",
       "      <td>2.0</td>\n",
       "      <td>0.222222</td>\n",
       "      <td>0.002245</td>\n",
       "      <td>0.005848</td>\n",
       "      <td>0.997755</td>\n",
       "      <td>0.994152</td>\n",
       "    </tr>\n",
       "    <tr>\n",
       "      <th>152</th>\n",
       "      <td>24.1500</td>\n",
       "      <td>8</td>\n",
       "      <td>1.0</td>\n",
       "      <td>0.125000</td>\n",
       "      <td>0.001122</td>\n",
       "      <td>0.002924</td>\n",
       "      <td>0.998878</td>\n",
       "      <td>0.997076</td>\n",
       "    </tr>\n",
       "    <tr>\n",
       "      <th>120</th>\n",
       "      <td>15.5000</td>\n",
       "      <td>8</td>\n",
       "      <td>3.0</td>\n",
       "      <td>0.375000</td>\n",
       "      <td>0.003367</td>\n",
       "      <td>0.008772</td>\n",
       "      <td>0.996633</td>\n",
       "      <td>0.991228</td>\n",
       "    </tr>\n",
       "    <tr>\n",
       "      <th>181</th>\n",
       "      <td>31.2750</td>\n",
       "      <td>7</td>\n",
       "      <td>0.0</td>\n",
       "      <td>0.000000</td>\n",
       "      <td>0.000000</td>\n",
       "      <td>0.000000</td>\n",
       "      <td>1.000000</td>\n",
       "      <td>1.000000</td>\n",
       "    </tr>\n",
       "    <tr>\n",
       "      <th>222</th>\n",
       "      <td>56.4958</td>\n",
       "      <td>7</td>\n",
       "      <td>5.0</td>\n",
       "      <td>0.714286</td>\n",
       "      <td>0.005612</td>\n",
       "      <td>0.014620</td>\n",
       "      <td>0.994388</td>\n",
       "      <td>0.985380</td>\n",
       "    </tr>\n",
       "    <tr>\n",
       "      <th>113</th>\n",
       "      <td>14.5000</td>\n",
       "      <td>7</td>\n",
       "      <td>2.0</td>\n",
       "      <td>0.285714</td>\n",
       "      <td>0.002245</td>\n",
       "      <td>0.005848</td>\n",
       "      <td>0.997755</td>\n",
       "      <td>0.994152</td>\n",
       "    </tr>\n",
       "    <tr>\n",
       "      <th>111</th>\n",
       "      <td>14.4542</td>\n",
       "      <td>7</td>\n",
       "      <td>1.0</td>\n",
       "      <td>0.142857</td>\n",
       "      <td>0.001122</td>\n",
       "      <td>0.002924</td>\n",
       "      <td>0.998878</td>\n",
       "      <td>0.997076</td>\n",
       "    </tr>\n",
       "    <tr>\n",
       "      <th>14</th>\n",
       "      <td>7.0500</td>\n",
       "      <td>7</td>\n",
       "      <td>0.0</td>\n",
       "      <td>0.000000</td>\n",
       "      <td>0.000000</td>\n",
       "      <td>0.000000</td>\n",
       "      <td>1.000000</td>\n",
       "      <td>1.000000</td>\n",
       "    </tr>\n",
       "    <tr>\n",
       "      <th>216</th>\n",
       "      <td>52.0000</td>\n",
       "      <td>7</td>\n",
       "      <td>3.0</td>\n",
       "      <td>0.428571</td>\n",
       "      <td>0.003367</td>\n",
       "      <td>0.008772</td>\n",
       "      <td>0.996633</td>\n",
       "      <td>0.991228</td>\n",
       "    </tr>\n",
       "    <tr>\n",
       "      <th>236</th>\n",
       "      <td>69.5500</td>\n",
       "      <td>7</td>\n",
       "      <td>0.0</td>\n",
       "      <td>0.000000</td>\n",
       "      <td>0.000000</td>\n",
       "      <td>0.000000</td>\n",
       "      <td>1.000000</td>\n",
       "      <td>1.000000</td>\n",
       "    </tr>\n",
       "    <tr>\n",
       "      <th>208</th>\n",
       "      <td>46.9000</td>\n",
       "      <td>6</td>\n",
       "      <td>0.0</td>\n",
       "      <td>0.000000</td>\n",
       "      <td>0.000000</td>\n",
       "      <td>0.000000</td>\n",
       "      <td>1.000000</td>\n",
       "      <td>1.000000</td>\n",
       "    </tr>\n",
       "    <tr>\n",
       "      <th>202</th>\n",
       "      <td>39.6875</td>\n",
       "      <td>6</td>\n",
       "      <td>0.0</td>\n",
       "      <td>0.000000</td>\n",
       "      <td>0.000000</td>\n",
       "      <td>0.000000</td>\n",
       "      <td>1.000000</td>\n",
       "      <td>1.000000</td>\n",
       "    </tr>\n",
       "    <tr>\n",
       "      <th>176</th>\n",
       "      <td>30.0000</td>\n",
       "      <td>6</td>\n",
       "      <td>5.0</td>\n",
       "      <td>0.833333</td>\n",
       "      <td>0.005612</td>\n",
       "      <td>0.014620</td>\n",
       "      <td>0.994388</td>\n",
       "      <td>0.985380</td>\n",
       "    </tr>\n",
       "    <tr>\n",
       "      <th>142</th>\n",
       "      <td>21.0000</td>\n",
       "      <td>6</td>\n",
       "      <td>2.0</td>\n",
       "      <td>0.333333</td>\n",
       "      <td>0.002245</td>\n",
       "      <td>0.005848</td>\n",
       "      <td>0.997755</td>\n",
       "      <td>0.994152</td>\n",
       "    </tr>\n",
       "    <tr>\n",
       "      <th>40</th>\n",
       "      <td>7.7958</td>\n",
       "      <td>6</td>\n",
       "      <td>2.0</td>\n",
       "      <td>0.333333</td>\n",
       "      <td>0.002245</td>\n",
       "      <td>0.005848</td>\n",
       "      <td>0.997755</td>\n",
       "      <td>0.994152</td>\n",
       "    </tr>\n",
       "    <tr>\n",
       "      <th>160</th>\n",
       "      <td>26.2500</td>\n",
       "      <td>6</td>\n",
       "      <td>4.0</td>\n",
       "      <td>0.666667</td>\n",
       "      <td>0.004489</td>\n",
       "      <td>0.011696</td>\n",
       "      <td>0.995511</td>\n",
       "      <td>0.988304</td>\n",
       "    </tr>\n",
       "    <tr>\n",
       "      <th>169</th>\n",
       "      <td>27.9000</td>\n",
       "      <td>6</td>\n",
       "      <td>0.0</td>\n",
       "      <td>0.000000</td>\n",
       "      <td>0.000000</td>\n",
       "      <td>0.000000</td>\n",
       "      <td>1.000000</td>\n",
       "      <td>1.000000</td>\n",
       "    </tr>\n",
       "  </tbody>\n",
       "</table>\n",
       "</div>"
      ],
      "text/plain": [
       "        Fare  Qtd_total  Qtd_Sobreviventes      Prob  Prob_Sobreviver  \\\n",
       "52    8.0500         43                5.0  0.116279         0.005612   \n",
       "100  13.0000         42               16.0  0.380952         0.017957   \n",
       "49    7.8958         38                1.0  0.026316         0.001122   \n",
       "36    7.7500         34               12.0  0.352941         0.013468   \n",
       "159  26.0000         31               15.0  0.483871         0.016835   \n",
       "84   10.5000         24                9.0  0.375000         0.010101   \n",
       "50    7.9250         18                8.0  0.444444         0.008979   \n",
       "37    7.7750         16                3.0  0.187500         0.003367   \n",
       "19    7.2292         15                4.0  0.266667         0.004489   \n",
       "164  26.5500         15                8.0  0.533333         0.008979   \n",
       "0     1.0000         15                1.0  0.066667         0.001122   \n",
       "63    8.6625         13                1.0  0.076923         0.001122   \n",
       "20    7.2500         13                1.0  0.076923         0.001122   \n",
       "45    7.8542         13                3.0  0.230769         0.003367   \n",
       "18    7.2250         12                3.0  0.250000         0.003367   \n",
       "75    9.5000          9                2.0  0.222222         0.002245   \n",
       "128  16.1000          9                2.0  0.222222         0.002245   \n",
       "152  24.1500          8                1.0  0.125000         0.001122   \n",
       "120  15.5000          8                3.0  0.375000         0.003367   \n",
       "181  31.2750          7                0.0  0.000000         0.000000   \n",
       "222  56.4958          7                5.0  0.714286         0.005612   \n",
       "113  14.5000          7                2.0  0.285714         0.002245   \n",
       "111  14.4542          7                1.0  0.142857         0.001122   \n",
       "14    7.0500          7                0.0  0.000000         0.000000   \n",
       "216  52.0000          7                3.0  0.428571         0.003367   \n",
       "236  69.5500          7                0.0  0.000000         0.000000   \n",
       "208  46.9000          6                0.0  0.000000         0.000000   \n",
       "202  39.6875          6                0.0  0.000000         0.000000   \n",
       "176  30.0000          6                5.0  0.833333         0.005612   \n",
       "142  21.0000          6                2.0  0.333333         0.002245   \n",
       "40    7.7958          6                2.0  0.333333         0.002245   \n",
       "160  26.2500          6                4.0  0.666667         0.004489   \n",
       "169  27.9000          6                0.0  0.000000         0.000000   \n",
       "\n",
       "     Prob_Sobreviver_sobre_sobrevividos  Prob_não_Sobreviver  \\\n",
       "52                             0.014620             0.994388   \n",
       "100                            0.046784             0.982043   \n",
       "49                             0.002924             0.998878   \n",
       "36                             0.035088             0.986532   \n",
       "159                            0.043860             0.983165   \n",
       "84                             0.026316             0.989899   \n",
       "50                             0.023392             0.991021   \n",
       "37                             0.008772             0.996633   \n",
       "19                             0.011696             0.995511   \n",
       "164                            0.023392             0.991021   \n",
       "0                              0.002924             0.998878   \n",
       "63                             0.002924             0.998878   \n",
       "20                             0.002924             0.998878   \n",
       "45                             0.008772             0.996633   \n",
       "18                             0.008772             0.996633   \n",
       "75                             0.005848             0.997755   \n",
       "128                            0.005848             0.997755   \n",
       "152                            0.002924             0.998878   \n",
       "120                            0.008772             0.996633   \n",
       "181                            0.000000             1.000000   \n",
       "222                            0.014620             0.994388   \n",
       "113                            0.005848             0.997755   \n",
       "111                            0.002924             0.998878   \n",
       "14                             0.000000             1.000000   \n",
       "216                            0.008772             0.996633   \n",
       "236                            0.000000             1.000000   \n",
       "208                            0.000000             1.000000   \n",
       "202                            0.000000             1.000000   \n",
       "176                            0.014620             0.994388   \n",
       "142                            0.005848             0.997755   \n",
       "40                             0.005848             0.997755   \n",
       "160                            0.011696             0.995511   \n",
       "169                            0.000000             1.000000   \n",
       "\n",
       "     Prob_não_Sobreviver_sobre_sobrevivesntes  \n",
       "52                                   0.985380  \n",
       "100                                  0.953216  \n",
       "49                                   0.997076  \n",
       "36                                   0.964912  \n",
       "159                                  0.956140  \n",
       "84                                   0.973684  \n",
       "50                                   0.976608  \n",
       "37                                   0.991228  \n",
       "19                                   0.988304  \n",
       "164                                  0.976608  \n",
       "0                                    0.997076  \n",
       "63                                   0.997076  \n",
       "20                                   0.997076  \n",
       "45                                   0.991228  \n",
       "18                                   0.991228  \n",
       "75                                   0.994152  \n",
       "128                                  0.994152  \n",
       "152                                  0.997076  \n",
       "120                                  0.991228  \n",
       "181                                  1.000000  \n",
       "222                                  0.985380  \n",
       "113                                  0.994152  \n",
       "111                                  0.997076  \n",
       "14                                   1.000000  \n",
       "216                                  0.991228  \n",
       "236                                  1.000000  \n",
       "208                                  1.000000  \n",
       "202                                  1.000000  \n",
       "176                                  0.985380  \n",
       "142                                  0.994152  \n",
       "40                                   0.994152  \n",
       "160                                  0.988304  \n",
       "169                                  1.000000  "
      ]
     },
     "execution_count": 794,
     "metadata": {},
     "output_type": "execute_result"
    }
   ],
   "source": [
    "df_fare[df_fare.Qtd_total>5].sort_values(['Qtd_total'],ascending=False)"
   ]
  },
  {
   "cell_type": "markdown",
   "metadata": {},
   "source": [
    "## Input Cabin"
   ]
  },
  {
   "cell_type": "markdown",
   "metadata": {},
   "source": [
    " Vamos tentar combinar informações de Ticket e Fare para tentar determinar a Cabin"
   ]
  },
  {
   "cell_type": "code",
   "execution_count": 795,
   "metadata": {
    "ExecuteTime": {
     "end_time": "2019-08-15T22:44:05.610030Z",
     "start_time": "2019-08-15T22:44:05.537436Z"
    }
   },
   "outputs": [],
   "source": [
    "titanic['Ft_Cabin'] = titanic['Ticket'].str.strip()"
   ]
  },
  {
   "cell_type": "code",
   "execution_count": 796,
   "metadata": {
    "ExecuteTime": {
     "end_time": "2019-08-15T22:44:05.688182Z",
     "start_time": "2019-08-15T22:44:05.611028Z"
    }
   },
   "outputs": [
    {
     "data": {
      "text/plain": [
       "array(['A', 'PC', 'STON', nan, 'PP', 'C', 'SC', 'S', 'CA', 'SO', 'W',\n",
       "       'SOTON', 'Fa', 'LINE', 'F', 'SW', 'SCO', 'P', 'WE', 'AQ', 'LP'],\n",
       "      dtype=object)"
      ]
     },
     "execution_count": 796,
     "metadata": {},
     "output_type": "execute_result"
    }
   ],
   "source": [
    "titanic.Ft_Cabin.str.extract('([a-zA-Z]+)', expand=False).unique()"
   ]
  },
  {
   "cell_type": "code",
   "execution_count": 797,
   "metadata": {
    "ExecuteTime": {
     "end_time": "2019-08-15T22:44:05.769427Z",
     "start_time": "2019-08-15T22:44:05.689678Z"
    }
   },
   "outputs": [],
   "source": [
    "titanic['Ft_Cabin'] = titanic.Ft_Cabin.str.extract('([a-zA-Z])', expand=False)"
   ]
  },
  {
   "cell_type": "code",
   "execution_count": 798,
   "metadata": {
    "ExecuteTime": {
     "end_time": "2019-08-15T22:44:06.397351Z",
     "start_time": "2019-08-15T22:44:05.771415Z"
    }
   },
   "outputs": [],
   "source": [
    "titanic.Ft_Cabin[titanic.Ft_Cabin.isna()] = 'Uknow'"
   ]
  },
  {
   "cell_type": "code",
   "execution_count": 799,
   "metadata": {
    "ExecuteTime": {
     "end_time": "2019-08-15T22:44:06.470279Z",
     "start_time": "2019-08-15T22:44:06.398231Z"
    }
   },
   "outputs": [
    {
     "data": {
      "text/plain": [
       "Ft_Cabin\n",
       "A         42\n",
       "C         77\n",
       "F         13\n",
       "L          5\n",
       "P         98\n",
       "S         98\n",
       "Uknow    957\n",
       "W         19\n",
       "Name: Ft_Cabin, dtype: int64"
      ]
     },
     "execution_count": 799,
     "metadata": {},
     "output_type": "execute_result"
    }
   ],
   "source": [
    "titanic.groupby('Ft_Cabin').Ft_Cabin.count()"
   ]
  },
  {
   "cell_type": "code",
   "execution_count": 800,
   "metadata": {
    "ExecuteTime": {
     "end_time": "2019-08-15T22:44:06.546614Z",
     "start_time": "2019-08-15T22:44:06.471270Z"
    }
   },
   "outputs": [
    {
     "data": {
      "text/plain": [
       "index                0\n",
       "Age                  0\n",
       "Cabin             1014\n",
       "Embarked             0\n",
       "Fare                 0\n",
       "Name                 0\n",
       "Parch                0\n",
       "PassengerId          0\n",
       "Pclass               0\n",
       "Sex                  0\n",
       "SibSp                0\n",
       "Survived           418\n",
       "Ticket               0\n",
       "Title                0\n",
       "Ft_Acompanhado       0\n",
       "Survived_Lbl       418\n",
       "Ft_Cabin             0\n",
       "dtype: int64"
      ]
     },
     "execution_count": 800,
     "metadata": {},
     "output_type": "execute_result"
    }
   ],
   "source": [
    "titanic.isna().sum()"
   ]
  },
  {
   "cell_type": "code",
   "execution_count": 801,
   "metadata": {
    "ExecuteTime": {
     "end_time": "2019-08-15T22:44:07.227350Z",
     "start_time": "2019-08-15T22:44:06.547614Z"
    }
   },
   "outputs": [],
   "source": [
    "titanic.Ft_Cabin[titanic.Ft_Cabin =='NI'] = titanic.Cabin[titanic.Ft_Cabin =='NI'].str.extract('([a-zA-Z])', expand=False)"
   ]
  },
  {
   "cell_type": "code",
   "execution_count": 802,
   "metadata": {
    "ExecuteTime": {
     "end_time": "2019-08-15T22:44:07.805852Z",
     "start_time": "2019-08-15T22:44:07.228852Z"
    }
   },
   "outputs": [],
   "source": [
    "titanic.Ft_Cabin[titanic.Ft_Cabin.isna()] = 'NI'"
   ]
  },
  {
   "cell_type": "code",
   "execution_count": 803,
   "metadata": {
    "ExecuteTime": {
     "end_time": "2019-08-15T22:44:07.884936Z",
     "start_time": "2019-08-15T22:44:07.807354Z"
    }
   },
   "outputs": [],
   "source": [
    "titanic[\"Ft_Cabin\"] = titanic[\"Ft_Cabin\"].replace(['L','T','W'], 'G')\n"
   ]
  },
  {
   "cell_type": "code",
   "execution_count": 804,
   "metadata": {
    "ExecuteTime": {
     "end_time": "2019-08-15T22:44:08.012317Z",
     "start_time": "2019-08-15T22:44:07.885938Z"
    }
   },
   "outputs": [],
   "source": [
    "titanic.loc[titanic.Cabin.isna(),'Cabin'] = 'NI'"
   ]
  },
  {
   "cell_type": "code",
   "execution_count": 805,
   "metadata": {
    "ExecuteTime": {
     "end_time": "2019-08-15T22:44:08.094430Z",
     "start_time": "2019-08-15T22:44:08.013511Z"
    }
   },
   "outputs": [],
   "source": [
    "titanic.loc[titanic.Ft_Cabin.isna(),'Ft_Cabin'] = 'NI'\n"
   ]
  },
  {
   "cell_type": "code",
   "execution_count": 806,
   "metadata": {
    "ExecuteTime": {
     "end_time": "2019-08-15T22:44:08.179910Z",
     "start_time": "2019-08-15T22:44:08.095827Z"
    }
   },
   "outputs": [
    {
     "data": {
      "text/plain": [
       "Ft_Cabin\n",
       "A         29\n",
       "C         47\n",
       "F          7\n",
       "G         17\n",
       "P         65\n",
       "S         65\n",
       "Uknow    661\n",
       "Name: Survived, dtype: int64"
      ]
     },
     "execution_count": 806,
     "metadata": {},
     "output_type": "execute_result"
    }
   ],
   "source": [
    "titanic.groupby('Ft_Cabin').Survived.count()\n"
   ]
  },
  {
   "cell_type": "markdown",
   "metadata": {},
   "source": [
    "# Continuando analise exploratória "
   ]
  },
  {
   "cell_type": "code",
   "execution_count": 807,
   "metadata": {
    "ExecuteTime": {
     "end_time": "2019-08-15T22:44:08.443577Z",
     "start_time": "2019-08-15T22:44:08.188906Z"
    }
   },
   "outputs": [
    {
     "data": {
      "text/plain": [
       "Text(0.5, 1.0, 'Boxplot - Age x sex')"
      ]
     },
     "execution_count": 807,
     "metadata": {},
     "output_type": "execute_result"
    },
    {
     "data": {
      "image/png": "[encoded data removed]",
      "text/plain": [
       "<Figure size 432x432 with 1 Axes>"
      ]
     },
     "metadata": {
      "needs_background": "light"
     },
     "output_type": "display_data"
    }
   ],
   "source": [
    "g = sns.factorplot(x=\"Sex\",y=\"Age\",data=titanic,kind=\"box\", size = 6 , \n",
    "palette = \"muted\")\n",
    "g.despine(left=True)\n",
    "g = g.set_ylabels(\"Age\")\n",
    "plt.title('Boxplot - Age x sex')"
   ]
  },
  {
   "cell_type": "code",
   "execution_count": 808,
   "metadata": {
    "ExecuteTime": {
     "end_time": "2019-08-15T22:44:08.774565Z",
     "start_time": "2019-08-15T22:44:08.448596Z"
    }
   },
   "outputs": [
    {
     "data": {
      "text/plain": [
       "Text(0.5, 1.0, 'Boxplot - Fare x sex')"
      ]
     },
     "execution_count": 808,
     "metadata": {},
     "output_type": "execute_result"
    },
    {
     "data": {
      "image/png": "[encoded data removed]",
      "text/plain": [
       "<Figure size 432x432 with 1 Axes>"
      ]
     },
     "metadata": {
      "needs_background": "light"
     },
     "output_type": "display_data"
    }
   ],
   "source": [
    "g = sns.factorplot(x=\"Ft_Acompanhado\",y=\"Age\",data=titanic,kind=\"box\", size = 6 , \n",
    "palette = \"muted\")\n",
    "g.despine(left=True)\n",
    "g = g.set_ylabels(\"Fare\")\n",
    "plt.title('Boxplot - Fare x sex')"
   ]
  },
  {
   "cell_type": "code",
   "execution_count": 809,
   "metadata": {
    "ExecuteTime": {
     "end_time": "2019-08-15T22:44:09.039785Z",
     "start_time": "2019-08-15T22:44:08.775551Z"
    }
   },
   "outputs": [
    {
     "data": {
      "text/plain": [
       "Text(0.5, 1.0, 'Boxplot - Age x Pclass')"
      ]
     },
     "execution_count": 809,
     "metadata": {},
     "output_type": "execute_result"
    },
    {
     "data": {
      "image/png": "[encoded data removed]",
      "text/plain": [
       "<Figure size 432x432 with 1 Axes>"
      ]
     },
     "metadata": {
      "needs_background": "light"
     },
     "output_type": "display_data"
    }
   ],
   "source": [
    "g = sns.factorplot(x=\"Title\",y=\"Age\",data=titanic,kind=\"box\", size = 6 , \n",
    "palette = \"muted\")\n",
    "g.despine(left=True)\n",
    "g = g.set_ylabels(\"Age\")\n",
    "plt.title('Boxplot - Age x Pclass')"
   ]
  },
  {
   "cell_type": "code",
   "execution_count": 810,
   "metadata": {
    "ExecuteTime": {
     "end_time": "2019-08-15T22:44:09.255828Z",
     "start_time": "2019-08-15T22:44:09.040785Z"
    }
   },
   "outputs": [
    {
     "data": {
      "text/plain": [
       "Text(0.5, 1.0, 'Boxplot - Fare x Pclass')"
      ]
     },
     "execution_count": 810,
     "metadata": {},
     "output_type": "execute_result"
    },
    {
     "data": {
      "image/png": "[encoded data removed]",
      "text/plain": [
       "<Figure size 432x432 with 1 Axes>"
      ]
     },
     "metadata": {
      "needs_background": "light"
     },
     "output_type": "display_data"
    }
   ],
   "source": [
    "g = sns.factorplot(x=\"Embarked\",y=\"Age\",data=titanic,kind=\"box\", size = 6 , \n",
    "palette = \"muted\")\n",
    "g.despine(left=True)\n",
    "g = g.set_ylabels(\"Fare\")\n",
    "plt.title('Boxplot - Fare x Pclass')"
   ]
  },
  {
   "cell_type": "code",
   "execution_count": 811,
   "metadata": {
    "ExecuteTime": {
     "end_time": "2019-08-15T22:44:09.528082Z",
     "start_time": "2019-08-15T22:44:09.256829Z"
    }
   },
   "outputs": [
    {
     "data": {
      "text/plain": [
       "Text(0.5, 1.0, 'Boxplot - Age x Embarked')"
      ]
     },
     "execution_count": 811,
     "metadata": {},
     "output_type": "execute_result"
    },
    {
     "data": {
      "image/png": "[encoded data removed]",
      "text/plain": [
       "<Figure size 432x432 with 1 Axes>"
      ]
     },
     "metadata": {
      "needs_background": "light"
     },
     "output_type": "display_data"
    }
   ],
   "source": [
    "g = sns.factorplot(x=\"Ft_Cabin\",y=\"Age\",data=titanic,kind=\"box\", size = 6 , \n",
    "palette = \"muted\")\n",
    "g.despine(left=True)\n",
    "g = g.set_ylabels(\"Age\")\n",
    "plt.title('Boxplot - Age x Embarked')"
   ]
  },
  {
   "cell_type": "code",
   "execution_count": 812,
   "metadata": {
    "ExecuteTime": {
     "end_time": "2019-08-15T22:44:09.766954Z",
     "start_time": "2019-08-15T22:44:09.530075Z"
    }
   },
   "outputs": [
    {
     "data": {
      "text/plain": [
       "Text(0.5, 1.0, 'Boxplot - Age x Title')"
      ]
     },
     "execution_count": 812,
     "metadata": {},
     "output_type": "execute_result"
    },
    {
     "data": {
      "image/png": "[encoded data removed]",
      "text/plain": [
       "<Figure size 432x432 with 1 Axes>"
      ]
     },
     "metadata": {
      "needs_background": "light"
     },
     "output_type": "display_data"
    }
   ],
   "source": [
    "g = sns.factorplot(x=\"Title\",y=\"Age\",data=titanic,kind=\"box\", size = 6 , \n",
    "palette = \"muted\")\n",
    "g.despine(left=True)\n",
    "g = g.set_ylabels(\"Age\")\n",
    "plt.title('Boxplot - Age x Title')"
   ]
  },
  {
   "cell_type": "markdown",
   "metadata": {},
   "source": [
    "# Feature Engineer"
   ]
  },
  {
   "cell_type": "markdown",
   "metadata": {},
   "source": [
    "\n",
    "## Sibsp\n"
   ]
  },
  {
   "cell_type": "markdown",
   "metadata": {},
   "source": [
    "sibsp : O conjunto de dados define relações familiares desta forma  \n",
    "Irmão = irmã, irmão, meio-irmão, irmã adotiva  \n",
    "Esposa = marido, esposa (amantes e noivas foram ignorados)  "
   ]
  },
  {
   "cell_type": "markdown",
   "metadata": {},
   "source": [
    "## Parch\n",
    "parch : O conjunto de dados define as relações familiares desta forma   \n",
    "Pai = mãe, pai  \n",
    "Criança = filha, filho, enteada, enteado  \n",
    "Algumas crianças viajavam apenas com uma babá, portanto parch = 0 para elas."
   ]
  },
  {
   "cell_type": "code",
   "execution_count": 813,
   "metadata": {
    "ExecuteTime": {
     "end_time": "2019-08-15T22:44:09.777947Z",
     "start_time": "2019-08-15T22:44:09.767949Z"
    }
   },
   "outputs": [],
   "source": [
    "titanic['Ft_Alone']=0\n",
    "titanic.loc[(titanic.SibSp==0)&(titanic.Parch==0), 'Ft_Alone']=1"
   ]
  },
  {
   "cell_type": "markdown",
   "metadata": {},
   "source": [
    "## Nomrmalização Age e Fare Min/Max"
   ]
  },
  {
   "cell_type": "code",
   "execution_count": 814,
   "metadata": {
    "ExecuteTime": {
     "end_time": "2019-08-15T22:44:09.873029Z",
     "start_time": "2019-08-15T22:44:09.778949Z"
    }
   },
   "outputs": [],
   "source": [
    "from sklearn import preprocessing\n",
    "\n",
    "scaler = preprocessing.MinMaxScaler(feature_range=(0,1))\n",
    "# fit and transform in one step\n",
    "titanic['Norm_Age'] = scaler.fit_transform(titanic[['Age']])\n",
    "titanic['Norm_Fare'] = scaler.fit_transform(titanic[['Fare']])\n"
   ]
  },
  {
   "cell_type": "code",
   "execution_count": 815,
   "metadata": {
    "ExecuteTime": {
     "end_time": "2019-08-15T22:44:10.181497Z",
     "start_time": "2019-08-15T22:44:09.874011Z"
    }
   },
   "outputs": [
    {
     "data": {
      "image/png": "[encoded data removed]",
      "text/plain": [
       "<Figure size 432x288 with 1 Axes>"
      ]
     },
     "metadata": {
      "needs_background": "light"
     },
     "output_type": "display_data"
    }
   ],
   "source": [
    "ax = sns.scatterplot(x=\"Norm_Age\", y=\"Norm_Fare\", hue='Survived', data=titanic)"
   ]
  },
  {
   "cell_type": "markdown",
   "metadata": {},
   "source": [
    "# Label Enconding"
   ]
  },
  {
   "cell_type": "code",
   "execution_count": 816,
   "metadata": {
    "ExecuteTime": {
     "end_time": "2019-08-15T22:44:10.193522Z",
     "start_time": "2019-08-15T22:44:10.182498Z"
    }
   },
   "outputs": [
    {
     "name": "stdout",
     "output_type": "stream",
     "text": [
      "<class 'pandas.core.frame.DataFrame'>\n",
      "RangeIndex: 1309 entries, 0 to 1308\n",
      "Data columns (total 20 columns):\n",
      "index             1309 non-null int64\n",
      "Age               1309 non-null float64\n",
      "Cabin             1309 non-null object\n",
      "Embarked          1309 non-null object\n",
      "Fare              1309 non-null float64\n",
      "Name              1309 non-null object\n",
      "Parch             1309 non-null int64\n",
      "PassengerId       1309 non-null int64\n",
      "Pclass            1309 non-null int64\n",
      "Sex               1309 non-null object\n",
      "SibSp             1309 non-null int64\n",
      "Survived          891 non-null float64\n",
      "Ticket            1309 non-null object\n",
      "Title             1309 non-null object\n",
      "Ft_Acompanhado    1309 non-null int64\n",
      "Survived_Lbl      891 non-null object\n",
      "Ft_Cabin          1309 non-null object\n",
      "Ft_Alone          1309 non-null int64\n",
      "Norm_Age          1309 non-null float64\n",
      "Norm_Fare         1309 non-null float64\n",
      "dtypes: float64(5), int64(7), object(8)\n",
      "memory usage: 163.7+ KB\n"
     ]
    }
   ],
   "source": [
    "titanic.info()"
   ]
  },
  {
   "cell_type": "code",
   "execution_count": 817,
   "metadata": {
    "ExecuteTime": {
     "end_time": "2019-08-15T22:44:13.947706Z",
     "start_time": "2019-08-15T22:44:13.941714Z"
    }
   },
   "outputs": [],
   "source": [
    "titanic.Sex=titanic.Sex.map({'male':1,'female':0})\n",
    "titanic.Sex =titanic.Sex.astype(int)"
   ]
  },
  {
   "cell_type": "code",
   "execution_count": 819,
   "metadata": {
    "ExecuteTime": {
     "end_time": "2019-08-15T22:45:20.143008Z",
     "start_time": "2019-08-15T22:45:20.122994Z"
    }
   },
   "outputs": [],
   "source": [
    "\n",
    "label_encoder  = LabelEncoder()\n",
    "label_encoder  = label_encoder.fit(titanic.Ft_Cabin)\n",
    "titanic['OneHt_Ft_Cabin'] = label_encoder.transform(titanic.Ft_Cabin)\n",
    "\n",
    "label_encoder  = LabelEncoder()\n",
    "label_encoder  = label_encoder.fit(titanic.Title)\n",
    "titanic['OneHt_Ft_Title'] = label_encoder.transform(titanic.Title)\n",
    "\n",
    "\n",
    "label_encoder  = LabelEncoder()\n",
    "label_encoder  = label_encoder.fit(titanic.Embarked)\n",
    "titanic['OneHt_Embarked'] = label_encoder.transform(titanic.Embarked)\n",
    "\n",
    "\n",
    "label_encoder  = LabelEncoder()\n",
    "label_encoder  = label_encoder.fit(titanic.Ft_Alone)\n",
    "titanic['OneHt_Ft_Alone'] = label_encoder.transform(titanic.Ft_Alone)\n",
    "\n",
    "label_encoder  = LabelEncoder()\n",
    "label_encoder  = label_encoder.fit(titanic.Ft_Acompanhado)\n",
    "titanic['OneHt_Ft_Acompanhado'] = label_encoder.transform(titanic.Ft_Acompanhado)"
   ]
  },
  {
   "cell_type": "code",
   "execution_count": 820,
   "metadata": {
    "ExecuteTime": {
     "end_time": "2019-08-15T22:45:20.865742Z",
     "start_time": "2019-08-15T22:45:20.860739Z"
    }
   },
   "outputs": [],
   "source": [
    "feture=titanic[['Survived','Pclass','Sex',\n",
    "'OneHt_Ft_Cabin',\n",
    "'OneHt_Ft_Title',\n",
    "'OneHt_Embarked',\n",
    "'OneHt_Ft_Alone'\n",
    "               ]]"
   ]
  },
  {
   "cell_type": "code",
   "execution_count": 821,
   "metadata": {
    "ExecuteTime": {
     "end_time": "2019-08-15T22:45:24.535236Z",
     "start_time": "2019-08-15T22:45:24.091934Z"
    }
   },
   "outputs": [
    {
     "data": {
      "image/png": "[encoded data removed]",
      "text/plain": [
       "<Figure size 1152x360 with 2 Axes>"
      ]
     },
     "metadata": {
      "needs_background": "light"
     },
     "output_type": "display_data"
    }
   ],
   "source": [
    "plt.figure(figsize = (16,5))\n",
    "\n",
    "g = sns.heatmap(feture.corr(),annot=True, fmt = \".2f\", cmap = \"coolwarm\", linewidths=.5)\n"
   ]
  },
  {
   "cell_type": "markdown",
   "metadata": {},
   "source": [
    "## Binarização"
   ]
  },
  {
   "cell_type": "code",
   "execution_count": 822,
   "metadata": {
    "ExecuteTime": {
     "end_time": "2019-08-15T22:45:53.944546Z",
     "start_time": "2019-08-15T22:45:53.874483Z"
    }
   },
   "outputs": [
    {
     "ename": "KeyError",
     "evalue": "\"None of [Index(['OneHt_Ft_Familia'], dtype='object')] are in the [columns]\"",
     "output_type": "error",
     "traceback": [
      "\u001b[1;31m---------------------------------------------------------------------------\u001b[0m",
      "\u001b[1;31mKeyError\u001b[0m                                  Traceback (most recent call last)",
      "\u001b[1;32m<ipython-input-822-aca028d05ede>\u001b[0m in \u001b[0;36m<module>\u001b[1;34m\u001b[0m\n\u001b[0;32m      2\u001b[0m \u001b[1;31m#titanic = pd.get_dummies(titanic, columns = [\"OneHt_Ft_Sex\"]    , prefix=\"BIN_Sex\")\u001b[0m\u001b[1;33m\u001b[0m\u001b[1;33m\u001b[0m\u001b[0m\n\u001b[0;32m      3\u001b[0m \u001b[1;31m#titanic = pd.get_dummies(titanic, columns = [\"OneHt_Ft_Prioridade\"], prefix=\"BIN_Prioridade\")\u001b[0m\u001b[1;33m\u001b[0m\u001b[1;33m\u001b[0m\u001b[0m\n\u001b[1;32m----> 4\u001b[1;33m \u001b[0mtitanic\u001b[0m \u001b[1;33m=\u001b[0m \u001b[0mpd\u001b[0m\u001b[1;33m.\u001b[0m\u001b[0mget_dummies\u001b[0m\u001b[1;33m(\u001b[0m\u001b[0mtitanic\u001b[0m\u001b[1;33m,\u001b[0m \u001b[0mcolumns\u001b[0m \u001b[1;33m=\u001b[0m \u001b[1;33m[\u001b[0m\u001b[1;34m\"OneHt_Ft_Familia\"\u001b[0m\u001b[1;33m]\u001b[0m       \u001b[1;33m,\u001b[0m \u001b[0mprefix\u001b[0m\u001b[1;33m=\u001b[0m\u001b[1;34m\"BIN_Ft_Familia\"\u001b[0m  \u001b[1;33m,\u001b[0m\u001b[0mdrop_first\u001b[0m\u001b[1;33m=\u001b[0m\u001b[1;32mTrue\u001b[0m\u001b[1;33m)\u001b[0m\u001b[1;33m\u001b[0m\u001b[0m\n\u001b[0m\u001b[0;32m      5\u001b[0m \u001b[1;33m\u001b[0m\u001b[0m\n\u001b[0;32m      6\u001b[0m \u001b[0mtitanic\u001b[0m \u001b[1;33m=\u001b[0m \u001b[0mpd\u001b[0m\u001b[1;33m.\u001b[0m\u001b[0mget_dummies\u001b[0m\u001b[1;33m(\u001b[0m\u001b[0mtitanic\u001b[0m\u001b[1;33m,\u001b[0m \u001b[0mcolumns\u001b[0m \u001b[1;33m=\u001b[0m \u001b[1;33m[\u001b[0m\u001b[1;34m\"OneHt_Ft_Cabin\"\u001b[0m\u001b[1;33m]\u001b[0m       \u001b[1;33m,\u001b[0m \u001b[0mprefix\u001b[0m\u001b[1;33m=\u001b[0m\u001b[1;34m\"BIN_Ft_Cabin\"\u001b[0m  \u001b[1;33m,\u001b[0m\u001b[0mdrop_first\u001b[0m\u001b[1;33m=\u001b[0m\u001b[1;32mTrue\u001b[0m\u001b[1;33m)\u001b[0m\u001b[1;33m\u001b[0m\u001b[0m\n",
      "\u001b[1;32mc:\\users\\robson.pantoja\\appdata\\local\\programs\\python\\python36-32\\lib\\site-packages\\pandas\\core\\reshape\\reshape.py\u001b[0m in \u001b[0;36mget_dummies\u001b[1;34m(data, prefix, prefix_sep, dummy_na, columns, sparse, drop_first, dtype)\u001b[0m\n\u001b[0;32m    810\u001b[0m                 include=dtypes_to_encode)\n\u001b[0;32m    811\u001b[0m         \u001b[1;32melse\u001b[0m\u001b[1;33m:\u001b[0m\u001b[1;33m\u001b[0m\u001b[0m\n\u001b[1;32m--> 812\u001b[1;33m             \u001b[0mdata_to_encode\u001b[0m \u001b[1;33m=\u001b[0m \u001b[0mdata\u001b[0m\u001b[1;33m[\u001b[0m\u001b[0mcolumns\u001b[0m\u001b[1;33m]\u001b[0m\u001b[1;33m\u001b[0m\u001b[0m\n\u001b[0m\u001b[0;32m    813\u001b[0m \u001b[1;33m\u001b[0m\u001b[0m\n\u001b[0;32m    814\u001b[0m         \u001b[1;31m# validate prefixes and separator to avoid silently dropping cols\u001b[0m\u001b[1;33m\u001b[0m\u001b[1;33m\u001b[0m\u001b[0m\n",
      "\u001b[1;32mc:\\users\\robson.pantoja\\appdata\\local\\programs\\python\\python36-32\\lib\\site-packages\\pandas\\core\\frame.py\u001b[0m in \u001b[0;36m__getitem__\u001b[1;34m(self, key)\u001b[0m\n\u001b[0;32m   2932\u001b[0m                 \u001b[0mkey\u001b[0m \u001b[1;33m=\u001b[0m \u001b[0mlist\u001b[0m\u001b[1;33m(\u001b[0m\u001b[0mkey\u001b[0m\u001b[1;33m)\u001b[0m\u001b[1;33m\u001b[0m\u001b[0m\n\u001b[0;32m   2933\u001b[0m             indexer = self.loc._convert_to_indexer(key, axis=1,\n\u001b[1;32m-> 2934\u001b[1;33m                                                    raise_missing=True)\n\u001b[0m\u001b[0;32m   2935\u001b[0m \u001b[1;33m\u001b[0m\u001b[0m\n\u001b[0;32m   2936\u001b[0m         \u001b[1;31m# take() does not accept boolean indexers\u001b[0m\u001b[1;33m\u001b[0m\u001b[1;33m\u001b[0m\u001b[0m\n",
      "\u001b[1;32mc:\\users\\robson.pantoja\\appdata\\local\\programs\\python\\python36-32\\lib\\site-packages\\pandas\\core\\indexing.py\u001b[0m in \u001b[0;36m_convert_to_indexer\u001b[1;34m(self, obj, axis, is_setter, raise_missing)\u001b[0m\n\u001b[0;32m   1352\u001b[0m                 kwargs = {'raise_missing': True if is_setter else\n\u001b[0;32m   1353\u001b[0m                           raise_missing}\n\u001b[1;32m-> 1354\u001b[1;33m                 \u001b[1;32mreturn\u001b[0m \u001b[0mself\u001b[0m\u001b[1;33m.\u001b[0m\u001b[0m_get_listlike_indexer\u001b[0m\u001b[1;33m(\u001b[0m\u001b[0mobj\u001b[0m\u001b[1;33m,\u001b[0m \u001b[0maxis\u001b[0m\u001b[1;33m,\u001b[0m \u001b[1;33m**\u001b[0m\u001b[0mkwargs\u001b[0m\u001b[1;33m)\u001b[0m\u001b[1;33m[\u001b[0m\u001b[1;36m1\u001b[0m\u001b[1;33m]\u001b[0m\u001b[1;33m\u001b[0m\u001b[0m\n\u001b[0m\u001b[0;32m   1355\u001b[0m         \u001b[1;32melse\u001b[0m\u001b[1;33m:\u001b[0m\u001b[1;33m\u001b[0m\u001b[0m\n\u001b[0;32m   1356\u001b[0m             \u001b[1;32mtry\u001b[0m\u001b[1;33m:\u001b[0m\u001b[1;33m\u001b[0m\u001b[0m\n",
      "\u001b[1;32mc:\\users\\robson.pantoja\\appdata\\local\\programs\\python\\python36-32\\lib\\site-packages\\pandas\\core\\indexing.py\u001b[0m in \u001b[0;36m_get_listlike_indexer\u001b[1;34m(self, key, axis, raise_missing)\u001b[0m\n\u001b[0;32m   1159\u001b[0m         self._validate_read_indexer(keyarr, indexer,\n\u001b[0;32m   1160\u001b[0m                                     \u001b[0mo\u001b[0m\u001b[1;33m.\u001b[0m\u001b[0m_get_axis_number\u001b[0m\u001b[1;33m(\u001b[0m\u001b[0maxis\u001b[0m\u001b[1;33m)\u001b[0m\u001b[1;33m,\u001b[0m\u001b[1;33m\u001b[0m\u001b[0m\n\u001b[1;32m-> 1161\u001b[1;33m                                     raise_missing=raise_missing)\n\u001b[0m\u001b[0;32m   1162\u001b[0m         \u001b[1;32mreturn\u001b[0m \u001b[0mkeyarr\u001b[0m\u001b[1;33m,\u001b[0m \u001b[0mindexer\u001b[0m\u001b[1;33m\u001b[0m\u001b[0m\n\u001b[0;32m   1163\u001b[0m \u001b[1;33m\u001b[0m\u001b[0m\n",
      "\u001b[1;32mc:\\users\\robson.pantoja\\appdata\\local\\programs\\python\\python36-32\\lib\\site-packages\\pandas\\core\\indexing.py\u001b[0m in \u001b[0;36m_validate_read_indexer\u001b[1;34m(self, key, indexer, axis, raise_missing)\u001b[0m\n\u001b[0;32m   1244\u001b[0m                 raise KeyError(\n\u001b[0;32m   1245\u001b[0m                     u\"None of [{key}] are in the [{axis}]\".format(\n\u001b[1;32m-> 1246\u001b[1;33m                         key=key, axis=self.obj._get_axis_name(axis)))\n\u001b[0m\u001b[0;32m   1247\u001b[0m \u001b[1;33m\u001b[0m\u001b[0m\n\u001b[0;32m   1248\u001b[0m             \u001b[1;31m# We (temporarily) allow for some missing keys with .loc, except in\u001b[0m\u001b[1;33m\u001b[0m\u001b[1;33m\u001b[0m\u001b[0m\n",
      "\u001b[1;31mKeyError\u001b[0m: \"None of [Index(['OneHt_Ft_Familia'], dtype='object')] are in the [columns]\""
     ]
    }
   ],
   "source": [
    "#titanic = pd.get_dummies(titanic, columns = [\"OneHt_Ft_Pclass\"] , prefix=\"BIN_Pclass\")\n",
    "#titanic = pd.get_dummies(titanic, columns = [\"OneHt_Ft_Sex\"]    , prefix=\"BIN_Sex\")      \n",
    "#titanic = pd.get_dummies(titanic, columns = [\"OneHt_Ft_Prioridade\"], prefix=\"BIN_Prioridade\")\n",
    "\n",
    "titanic = pd.get_dummies(titanic, columns = [\"OneHt_Ft_Cabin\"]       , prefix=\"BIN_Ft_Cabin\"  ,drop_first=True)\n",
    "titanic = pd.get_dummies(titanic, columns = [\"OneHt_Ft_Title\"]       , prefix=\"BIN_Ft_Title\"   ,drop_first=True)\n",
    "titanic = pd.get_dummies(titanic, columns = [\"OneHt_Embarked\"]       , prefix=\"BIN_Embarked\"   ,drop_first=True)\n",
    "titanic = pd.get_dummies(titanic, columns = [\"OneHt_Fx_Age\"]         , prefix=\"BIN_Fx_Age\"     ,drop_first=True)\n",
    "titanic = pd.get_dummies(titanic, columns = [\"OneHt_Fx_Fare\"]        , prefix=\"BIN_Fx_Fare\"     ,drop_first=True)\n",
    "titanic = pd.get_dummies(titanic, columns = [\"OneHt_Ft_Alone\"]       , prefix=\"BIN_Ft_Alone\")\n",
    "titanic = pd.get_dummies(titanic, columns = [\"OneHt_Ft_Prioridade\"]  , prefix=\"BIN_Ft_Prioridade\",drop_first=True   )\n",
    "\n"
   ]
  },
  {
   "cell_type": "markdown",
   "metadata": {},
   "source": [
    "# Construindo Modelo\n",
    "\n"
   ]
  },
  {
   "cell_type": "code",
   "execution_count": 837,
   "metadata": {
    "ExecuteTime": {
     "end_time": "2019-08-15T22:49:33.021129Z",
     "start_time": "2019-08-15T22:49:33.016147Z"
    }
   },
   "outputs": [
    {
     "name": "stdout",
     "output_type": "stream",
     "text": [
      "0\n",
      "418\n"
     ]
    }
   ],
   "source": [
    "print(titanic[0:891].Survived.isna().sum())\n",
    "print(titanic[891:1309].Survived.isna().sum())"
   ]
  },
  {
   "cell_type": "code",
   "execution_count": 838,
   "metadata": {
    "ExecuteTime": {
     "end_time": "2019-08-15T22:49:34.025024Z",
     "start_time": "2019-08-15T22:49:33.472068Z"
    }
   },
   "outputs": [],
   "source": [
    "train=titanic[0:891]\n",
    "test= titanic[891:1309]\n",
    "IDtest = test_csv['PassengerId']\n",
    "train.Survived= train.Survived.astype(int)\n"
   ]
  },
  {
   "cell_type": "code",
   "execution_count": null,
   "metadata": {
    "ExecuteTime": {
     "end_time": "2019-08-15T22:49:34.060614Z",
     "start_time": "2019-08-15T22:49:33.926Z"
    }
   },
   "outputs": [],
   "source": [
    "titanic.groupby('Survived').Survived.count()"
   ]
  },
  {
   "cell_type": "code",
   "execution_count": 839,
   "metadata": {
    "ExecuteTime": {
     "end_time": "2019-08-15T22:49:34.471514Z",
     "start_time": "2019-08-15T22:49:34.463503Z"
    }
   },
   "outputs": [
    {
     "data": {
      "text/plain": [
       "Survived\n",
       "0    549\n",
       "1    342\n",
       "Name: Survived, dtype: int64"
      ]
     },
     "execution_count": 839,
     "metadata": {},
     "output_type": "execute_result"
    }
   ],
   "source": [
    "train.groupby('Survived').Survived.count()"
   ]
  },
  {
   "cell_type": "code",
   "execution_count": 840,
   "metadata": {
    "ExecuteTime": {
     "end_time": "2019-08-15T22:49:35.069210Z",
     "start_time": "2019-08-15T22:49:35.065210Z"
    }
   },
   "outputs": [],
   "source": [
    " train = train.drop(labels =['index','PassengerId','Name','Title',\n",
    "                            'Ticket','SibSp','Parch','Cabin','Embarked',\n",
    "                            'Survived_Lbl',\n",
    "                            #'Age','Fare',\n",
    "                            'Norm_Age','Norm_Fare', \n",
    "                            'Ft_Cabin',\n",
    "                            'Ft_Alone'\n",
    "                            ],\n",
    "                    axis = 1)"
   ]
  },
  {
   "cell_type": "code",
   "execution_count": 841,
   "metadata": {
    "ExecuteTime": {
     "end_time": "2019-08-15T22:49:35.662140Z",
     "start_time": "2019-08-15T22:49:35.656154Z"
    }
   },
   "outputs": [],
   "source": [
    " test = test.drop(labels =[ 'index','PassengerId','Name','Title',\n",
    "                            'Ticket','SibSp','Parch','Cabin','Embarked',\n",
    "                            'Survived_Lbl',\n",
    "                            #'Age','Fare',\n",
    "                            'Norm_Age','Norm_Fare', \n",
    "                            'Ft_Cabin',\n",
    "                            'Ft_Alone'\n",
    "                            ],\n",
    "                    axis = 1)"
   ]
  },
  {
   "cell_type": "code",
   "execution_count": 842,
   "metadata": {
    "ExecuteTime": {
     "end_time": "2019-08-15T22:49:36.297556Z",
     "start_time": "2019-08-15T22:49:36.288551Z"
    }
   },
   "outputs": [
    {
     "name": "stdout",
     "output_type": "stream",
     "text": [
      "<class 'pandas.core.frame.DataFrame'>\n",
      "RangeIndex: 891 entries, 0 to 890\n",
      "Data columns (total 10 columns):\n",
      "Age               891 non-null float64\n",
      "Fare              891 non-null float64\n",
      "Pclass            891 non-null int64\n",
      "Sex               891 non-null int32\n",
      "Survived          891 non-null int32\n",
      "Ft_Acompanhado    891 non-null int32\n",
      "OneHt_Ft_Cabin    891 non-null int32\n",
      "OneHt_Ft_Title    891 non-null int32\n",
      "OneHt_Embarked    891 non-null int32\n",
      "OneHt_Ft_Alone    891 non-null int32\n",
      "dtypes: float64(2), int32(7), int64(1)\n",
      "memory usage: 45.3 KB\n"
     ]
    }
   ],
   "source": [
    "train.info()"
   ]
  },
  {
   "cell_type": "code",
   "execution_count": 843,
   "metadata": {
    "ExecuteTime": {
     "end_time": "2019-08-15T22:49:41.139600Z",
     "start_time": "2019-08-15T22:49:41.127592Z"
    }
   },
   "outputs": [
    {
     "data": {
      "text/html": [
       "<div>\n",
       "<style scoped>\n",
       "    .dataframe tbody tr th:only-of-type {\n",
       "        vertical-align: middle;\n",
       "    }\n",
       "\n",
       "    .dataframe tbody tr th {\n",
       "        vertical-align: top;\n",
       "    }\n",
       "\n",
       "    .dataframe thead th {\n",
       "        text-align: right;\n",
       "    }\n",
       "</style>\n",
       "<table border=\"1\" class=\"dataframe\">\n",
       "  <thead>\n",
       "    <tr style=\"text-align: right;\">\n",
       "      <th></th>\n",
       "      <th>Age</th>\n",
       "      <th>Fare</th>\n",
       "      <th>Pclass</th>\n",
       "      <th>Sex</th>\n",
       "      <th>Survived</th>\n",
       "      <th>Ft_Acompanhado</th>\n",
       "      <th>OneHt_Ft_Cabin</th>\n",
       "      <th>OneHt_Ft_Title</th>\n",
       "      <th>OneHt_Embarked</th>\n",
       "      <th>OneHt_Ft_Alone</th>\n",
       "    </tr>\n",
       "  </thead>\n",
       "  <tbody>\n",
       "    <tr>\n",
       "      <th>0</th>\n",
       "      <td>22.0</td>\n",
       "      <td>7.2500</td>\n",
       "      <td>3</td>\n",
       "      <td>1</td>\n",
       "      <td>0</td>\n",
       "      <td>1</td>\n",
       "      <td>0</td>\n",
       "      <td>2</td>\n",
       "      <td>2</td>\n",
       "      <td>0</td>\n",
       "    </tr>\n",
       "    <tr>\n",
       "      <th>1</th>\n",
       "      <td>38.0</td>\n",
       "      <td>71.2833</td>\n",
       "      <td>1</td>\n",
       "      <td>0</td>\n",
       "      <td>1</td>\n",
       "      <td>1</td>\n",
       "      <td>4</td>\n",
       "      <td>3</td>\n",
       "      <td>0</td>\n",
       "      <td>0</td>\n",
       "    </tr>\n",
       "    <tr>\n",
       "      <th>2</th>\n",
       "      <td>26.0</td>\n",
       "      <td>7.9250</td>\n",
       "      <td>3</td>\n",
       "      <td>0</td>\n",
       "      <td>1</td>\n",
       "      <td>0</td>\n",
       "      <td>5</td>\n",
       "      <td>1</td>\n",
       "      <td>2</td>\n",
       "      <td>1</td>\n",
       "    </tr>\n",
       "    <tr>\n",
       "      <th>3</th>\n",
       "      <td>35.0</td>\n",
       "      <td>53.1000</td>\n",
       "      <td>1</td>\n",
       "      <td>0</td>\n",
       "      <td>1</td>\n",
       "      <td>1</td>\n",
       "      <td>6</td>\n",
       "      <td>3</td>\n",
       "      <td>2</td>\n",
       "      <td>0</td>\n",
       "    </tr>\n",
       "    <tr>\n",
       "      <th>4</th>\n",
       "      <td>35.0</td>\n",
       "      <td>8.0500</td>\n",
       "      <td>3</td>\n",
       "      <td>1</td>\n",
       "      <td>0</td>\n",
       "      <td>0</td>\n",
       "      <td>6</td>\n",
       "      <td>2</td>\n",
       "      <td>2</td>\n",
       "      <td>1</td>\n",
       "    </tr>\n",
       "  </tbody>\n",
       "</table>\n",
       "</div>"
      ],
      "text/plain": [
       "    Age     Fare  Pclass  Sex  Survived  Ft_Acompanhado  OneHt_Ft_Cabin  \\\n",
       "0  22.0   7.2500       3    1         0               1               0   \n",
       "1  38.0  71.2833       1    0         1               1               4   \n",
       "2  26.0   7.9250       3    0         1               0               5   \n",
       "3  35.0  53.1000       1    0         1               1               6   \n",
       "4  35.0   8.0500       3    1         0               0               6   \n",
       "\n",
       "   OneHt_Ft_Title  OneHt_Embarked  OneHt_Ft_Alone  \n",
       "0               2               2               0  \n",
       "1               3               0               0  \n",
       "2               1               2               1  \n",
       "3               3               2               0  \n",
       "4               2               2               1  "
      ]
     },
     "execution_count": 843,
     "metadata": {},
     "output_type": "execute_result"
    }
   ],
   "source": [
    "train.head()"
   ]
  },
  {
   "cell_type": "code",
   "execution_count": 844,
   "metadata": {
    "ExecuteTime": {
     "end_time": "2019-08-15T22:49:45.044967Z",
     "start_time": "2019-08-15T22:49:45.039980Z"
    }
   },
   "outputs": [],
   "source": [
    "from sklearn.model_selection import train_test_split\n",
    "\n",
    "y_train = np.array(train[\"Survived\"])\n",
    "X_train = np.array(train.drop(labels = [\"Survived\"],axis = 1))\n",
    "\n",
    "#X_train, X_test, y_train, y_test = train_test_split(X, y, test_size = 0.2, random_state = 0)"
   ]
  },
  {
   "cell_type": "code",
   "execution_count": 868,
   "metadata": {
    "ExecuteTime": {
     "end_time": "2019-08-15T23:00:10.859736Z",
     "start_time": "2019-08-15T23:00:05.944120Z"
    }
   },
   "outputs": [
    {
     "data": {
      "image/png": "[encoded data removed]",
      "text/plain": [
       "<Figure size 1152x576 with 1 Axes>"
      ]
     },
     "metadata": {
      "needs_background": "light"
     },
     "output_type": "display_data"
    }
   ],
   "source": [
    "import matplotlib.pyplot as plt\n",
    "from sklearn import datasets\n",
    "from sklearn.svm import SVC\n",
    "from mlxtend.plotting import plot_decision_regions\n",
    "\n",
    "plt.figure(figsize=(16,8))\n",
    "# Loading some example data\n",
    "train[\"Survived\"] =train[\"Survived\"].astype(int)\n",
    "X = np.array(train[['Sex','Ft_Acompanhado']])\n",
    "y = np.array(train[\"Survived\"])\n",
    "\n",
    "# Training a classifier\n",
    "#svm =SVC(C=0.5, kernel='linear')\n",
    "svm= SVC(decision_function_shape = 'ovo')\n",
    "svm.fit(X, y)\n",
    "\n",
    "# Plotting decision regions\n",
    "plot_decision_regions(X, y, clf=svm, legend=2)\n",
    "\n",
    "# Adding axes annotations\n",
    "plt.xlabel('Title')\n",
    "plt.title('SVM on Titanic')\n",
    "\n",
    "plt.show()"
   ]
  },
  {
   "cell_type": "code",
   "execution_count": 862,
   "metadata": {
    "ExecuteTime": {
     "end_time": "2019-08-15T22:58:30.657954Z",
     "start_time": "2019-08-15T22:58:22.616614Z"
    }
   },
   "outputs": [
    {
     "data": {
      "text/plain": [
       "<Figure size 1152x576 with 0 Axes>"
      ]
     },
     "metadata": {},
     "output_type": "display_data"
    },
    {
     "data": {
      "image/png": "[encoded data removed]",
      "text/plain": [
       "<Figure size 720x576 with 4 Axes>"
      ]
     },
     "metadata": {
      "needs_background": "light"
     },
     "output_type": "display_data"
    }
   ],
   "source": [
    "# Loading Plotting Utilities\n",
    "import matplotlib.pyplot as plt\n",
    "import matplotlib.gridspec as gridspec\n",
    "import itertools\n",
    "from mlxtend.plotting import plot_decision_regions\n",
    "import numpy as np\n",
    "\n",
    "from sklearn.linear_model import LogisticRegression\n",
    "from sklearn.naive_bayes import GaussianNB \n",
    "from sklearn.ensemble import RandomForestClassifier\n",
    "from sklearn.svm import SVC\n",
    "\n",
    "\n",
    "\n",
    "\n",
    "plt.figure(figsize=(16,8))\n",
    "\n",
    "# Initializing Classifiers\n",
    "clf1 = LogisticRegression(random_state=2, solver='lbfgs')\n",
    "clf2 = RandomForestClassifier(n_estimators=100, \n",
    "                              random_state=1)\n",
    "clf3 = GaussianNB()\n",
    "clf4 = SVC(gamma='auto')\n",
    "\n",
    "gs = gridspec.GridSpec(2, 2)\n",
    "\n",
    "fig = plt.figure(figsize=(10,8))\n",
    "\n",
    "labels = ['Logistic Regression', 'Random Forest', 'Naive Bayes', 'SVM']\n",
    "for clf, lab, grd in zip([clf1, clf2, clf3, clf4],\n",
    "                         labels,\n",
    "                         itertools.product([0, 1], repeat=2)):\n",
    "\n",
    "    clf.fit(X, y)\n",
    "    ax = plt.subplot(gs[grd[0], grd[1]])\n",
    "    fig = plot_decision_regions(X=X, y=y, clf=clf, legend=2)\n",
    "    plt.title(lab)\n",
    "\n",
    "plt.show()"
   ]
  },
  {
   "cell_type": "code",
   "execution_count": null,
   "metadata": {
    "ExecuteTime": {
     "end_time": "2019-08-13T14:34:11.541106Z",
     "start_time": "2019-08-13T14:33:53.674108Z"
    }
   },
   "outputs": [],
   "source": [
    "# Modeling step Test differents algorithms \n",
    "kfold = StratifiedKFold(n_splits=3)\n",
    "random_state = 2\n",
    "classifiers = []\n",
    "classifiers.append(SVC(random_state=random_state))\n",
    "classifiers.append(DecisionTreeClassifier(random_state=random_state))\n",
    "classifiers.append(AdaBoostClassifier(DecisionTreeClassifier(random_state=random_state),random_state=random_state,learning_rate=0.1))\n",
    "classifiers.append(RandomForestClassifier(random_state=random_state))\n",
    "classifiers.append(ExtraTreesClassifier(random_state=random_state))\n",
    "classifiers.append(GradientBoostingClassifier(random_state=random_state))\n",
    "classifiers.append(MLPClassifier(random_state=random_state))\n",
    "classifiers.append(KNeighborsClassifier())\n",
    "classifiers.append(LogisticRegression(random_state = random_state))\n",
    "classifiers.append(LinearDiscriminantAnalysis())\n",
    "\n",
    "cv_results = []\n",
    "for classifier in classifiers :\n",
    "    cv_results.append(cross_val_score(classifier, X_train, y = y_train, scoring = \"accuracy\", cv = kfold, n_jobs=4))\n",
    "\n",
    "cv_means = []\n",
    "cv_std = []\n",
    "for cv_result in cv_results:\n",
    "    cv_means.append(cv_result.mean())\n",
    "    cv_std.append(cv_result.std())\n",
    "\n",
    "cv_res = pd.DataFrame({\"CrossValMeans\":cv_means,\"CrossValerrors\": cv_std,\"Algorithm\":[\"SVC\",\"DecisionTree\",\"AdaBoost\",\n",
    "\"RandomForest\",\"ExtraTrees\",\"GradientBoosting\",\"MultipleLayerPerceptron\",\"KNeighboors\",\"LogisticRegression\",\"LinearDiscriminantAnalysis\"]})\n",
    "\n",
    "g = sns.barplot(\"CrossValMeans\",\"Algorithm\",data = cv_res, palette=\"Set3\",orient = \"h\",**{'xerr':cv_std})\n",
    "g.set_xlabel(\"Mean Accuracy\")\n",
    "g = g.set_title(\"Cross validation scores\")"
   ]
  },
  {
   "cell_type": "code",
   "execution_count": null,
   "metadata": {
    "ExecuteTime": {
     "end_time": "2019-08-13T14:34:21.874117Z",
     "start_time": "2019-08-13T14:34:21.024334Z"
    }
   },
   "outputs": [],
   "source": [
    "# Adaboost\n",
    "DTC = DecisionTreeClassifier()\n",
    "\n",
    "adaDTC = AdaBoostClassifier(DTC, random_state=7)\n",
    "\n",
    "ada_param_grid = {\"base_estimator__criterion\" : [\"gini\", \"entropy\"],\n",
    "              \"base_estimator__splitter\" :   [\"best\", \"random\"],\n",
    "              \"algorithm\" : [\"SAMME\",\"SAMME.R\"],\n",
    "              \"n_estimators\" :[1,2],\n",
    "              \"learning_rate\":  [0.0001, 0.001, 0.01, 0.1, 0.2, 0.3,1.5]}\n",
    "\n",
    "gsadaDTC = GridSearchCV(adaDTC,param_grid = ada_param_grid, cv=kfold, scoring=\"accuracy\", n_jobs= 4, verbose = 1)\n",
    "\n",
    "gsadaDTC.fit(X_train,y_train)\n",
    "\n",
    "ada_best = gsadaDTC.best_estimator_\n",
    "gsadaDTC.best_score_\n"
   ]
  },
  {
   "cell_type": "code",
   "execution_count": null,
   "metadata": {
    "ExecuteTime": {
     "end_time": "2019-08-13T14:38:55.522925Z",
     "start_time": "2019-08-13T14:38:51.966387Z"
    }
   },
   "outputs": [],
   "source": [
    "#ExtraTrees \n",
    "ExtC = ExtraTreesClassifier()\n",
    "\n",
    "\n",
    "## Search grid for optimal parameters\n",
    "ex_param_grid = {\"max_depth\": [None],\n",
    "              \"max_features\": [10],\n",
    "              \"min_samples_split\": [2, 3, 10],\n",
    "              \"min_samples_leaf\": [1, 3, 10],\n",
    "              \"bootstrap\": [False],\n",
    "              \"n_estimators\" :[100,300],\n",
    "              \"criterion\": [\"gini\"]}\n",
    "\n",
    "\n",
    "gsExtC = GridSearchCV(ExtC,param_grid = ex_param_grid, cv=kfold, scoring=\"accuracy\", n_jobs= 4, verbose = 1)\n",
    "\n",
    "gsExtC.fit(X_train,y_train)\n",
    "\n",
    "ExtC_best = gsExtC.best_estimator_\n",
    "\n",
    "# Best score\n",
    "gsExtC.best_score_"
   ]
  },
  {
   "cell_type": "code",
   "execution_count": null,
   "metadata": {
    "ExecuteTime": {
     "end_time": "2019-08-13T14:35:02.108292Z",
     "start_time": "2019-08-13T14:34:56.184030Z"
    }
   },
   "outputs": [],
   "source": [
    "# RFC Parameters tunning \n",
    "RFC = RandomForestClassifier()\n",
    "\n",
    "\n",
    "## Search grid for optimal parameters\n",
    "rf_param_grid = {\"max_depth\": [None],\n",
    "              \"max_features\": [37],\n",
    "              \"min_samples_split\": [2, 3, 10],\n",
    "              \"min_samples_leaf\": [1, 3, 10],\n",
    "              \"bootstrap\": [False],\n",
    "              \"n_estimators\" :[100,300],\n",
    "              \"criterion\": [\"gini\"]}\n",
    "\n",
    "\n",
    "gsRFC = GridSearchCV(RFC,param_grid = rf_param_grid, cv=kfold, scoring=\"accuracy\", n_jobs= 4, verbose = 1)\n",
    "\n",
    "gsRFC.fit(X_train,y_train)\n",
    "\n",
    "RFC_best = gsRFC.best_estimator_\n",
    "\n",
    "# Best score\n",
    "gsRFC.best_score_"
   ]
  },
  {
   "cell_type": "code",
   "execution_count": null,
   "metadata": {
    "ExecuteTime": {
     "end_time": "2019-08-13T14:35:27.262902Z",
     "start_time": "2019-08-13T14:35:22.663667Z"
    }
   },
   "outputs": [],
   "source": [
    "# Gradient boosting tunning\n",
    "\n",
    "GBC = GradientBoostingClassifier()\n",
    "gb_param_grid = {'loss' : [\"deviance\"],\n",
    "              'n_estimators' : [100,200,300],\n",
    "              'learning_rate': [0.1, 0.05, 0.01],\n",
    "              'max_depth': [4, 8],\n",
    "              'min_samples_leaf': [100,150],\n",
    "              'max_features': [0.3, 0.1] \n",
    "              }\n",
    "\n",
    "gsGBC = GridSearchCV(GBC,param_grid = gb_param_grid, cv=kfold, scoring=\"accuracy\", n_jobs= 4, verbose = 1)\n",
    "\n",
    "gsGBC.fit(X_train,y_train)\n",
    "\n",
    "GBC_best = gsGBC.best_estimator_\n",
    "\n",
    "# Best score\n",
    "gsGBC.best_score_"
   ]
  },
  {
   "cell_type": "code",
   "execution_count": null,
   "metadata": {
    "ExecuteTime": {
     "end_time": "2019-08-13T14:35:32.365563Z",
     "start_time": "2019-08-13T14:35:29.279068Z"
    }
   },
   "outputs": [],
   "source": [
    "### SVC classifier\n",
    "SVMC = SVC(probability=True)\n",
    "svc_param_grid = {'kernel': ['rbf'], \n",
    "                  'gamma': [ 0.001, 0.01, 0.1, 1],\n",
    "                  'C': [1, 10, 50, 100,200,300, 1000]}\n",
    "\n",
    "gsSVMC = GridSearchCV(SVMC,param_grid = svc_param_grid, cv=kfold, scoring=\"accuracy\", n_jobs= 4, verbose = 1)\n",
    "\n",
    "gsSVMC.fit(X_train,y_train)\n",
    "\n",
    "SVMC_best = gsSVMC.best_estimator_\n",
    "\n",
    "# Best score\n",
    "gsSVMC.best_score_"
   ]
  },
  {
   "cell_type": "code",
   "execution_count": null,
   "metadata": {
    "ExecuteTime": {
     "end_time": "2019-08-13T14:35:35.331051Z",
     "start_time": "2019-08-13T14:35:34.550736Z"
    }
   },
   "outputs": [],
   "source": [
    "### META MODELING  WITH ADABOOST, RF, EXTRATREES and GRADIENTBOOSTING\n",
    "\n",
    "# Adaboost\n",
    "DTC = DecisionTreeClassifier()\n",
    "\n",
    "adaDTC = AdaBoostClassifier(DTC, random_state=7)\n",
    "\n",
    "ada_param_grid = {\"base_estimator__criterion\" : [\"gini\", \"entropy\"],\n",
    "              \"base_estimator__splitter\" :   [\"best\", \"random\"],\n",
    "              \"algorithm\" : [\"SAMME\",\"SAMME.R\"],\n",
    "              \"n_estimators\" :[1,2],\n",
    "              \"learning_rate\":  [0.0001, 0.001, 0.01, 0.1, 0.2, 0.3,1.5]}\n",
    "\n",
    "gsadaDTC = GridSearchCV(adaDTC,param_grid = ada_param_grid, cv=kfold, scoring=\"accuracy\", n_jobs= 4, verbose = 1)\n",
    "\n",
    "gsadaDTC.fit(X_train,y_train)\n",
    "\n",
    "ada_best = gsadaDTC.best_estimator_\n",
    "\n",
    "gsadaDTC.best_score_"
   ]
  },
  {
   "cell_type": "code",
   "execution_count": null,
   "metadata": {
    "ExecuteTime": {
     "end_time": "2019-08-13T14:35:41.147179Z",
     "start_time": "2019-08-13T14:35:40.559679Z"
    }
   },
   "outputs": [],
   "source": [
    "neighbors = np.arange(1, 9)\n",
    "weight_options = [\"uniform\", \"distance\"]\n",
    "\n",
    "knn = KNeighborsClassifier()\n",
    "\n",
    "param_grid = dict(n_neighbors = neighbors, weights = weight_options)\n",
    "\n",
    "gsKNN = GridSearchCV(knn, cv=kfold, param_grid = param_grid, scoring=\"accuracy\", n_jobs= 4, verbose = 1)\n",
    "\n",
    "gsKNN.fit(X_train,y_train)\n",
    "    \n",
    "Knn_best = gsKNN.best_estimator_\n",
    "\n",
    "gsKNN.best_score_"
   ]
  },
  {
   "cell_type": "code",
   "execution_count": null,
   "metadata": {
    "ExecuteTime": {
     "end_time": "2019-08-13T14:35:45.076283Z",
     "start_time": "2019-08-13T14:35:43.215640Z"
    }
   },
   "outputs": [],
   "source": [
    "param_grid={\"C\":np.logspace(-3,3,7), \n",
    "            \"penalty\":[\"l1\",\"l2\"]}# l1 lasso l2 ridge\n",
    "\n",
    "logreg= LogisticRegression()\n",
    "\n",
    "gslogreg = GridSearchCV(logreg, param_grid = param_grid, cv = 5, verbose=True, n_jobs=-1)\n",
    "\n",
    "gslogreg.fit(X_train, y_train)\n",
    "\n",
    "lgreg_best =  gslogreg.best_estimator_\n",
    "\n",
    "gslogreg.best_score_"
   ]
  },
  {
   "cell_type": "code",
   "execution_count": null,
   "metadata": {
    "ExecuteTime": {
     "end_time": "2019-08-13T14:39:20.872122Z",
     "start_time": "2019-08-13T14:39:17.300616Z"
    },
    "scrolled": false
   },
   "outputs": [],
   "source": [
    "def plot_learning_curve(estimator, title, X, y, ylim=None, cv=None,\n",
    "                        n_jobs=-1, train_sizes=np.linspace(.1, 1.0, 5)):\n",
    "    \"\"\"Generate a simple plot of the test and training learning curve\"\"\"\n",
    "    plt.figure(figsize = (8,3))\n",
    "    plt.title(title)\n",
    "    if ylim is not None:\n",
    "        plt.ylim(*ylim)\n",
    "    plt.xlabel(\"Training examples\")\n",
    "    plt.ylabel(\"Score\")\n",
    "    train_sizes, train_scores, test_scores = learning_curve(estimator, X, y, cv=cv, n_jobs=n_jobs, train_sizes=train_sizes)\n",
    "    train_scores_mean = np.mean(train_scores, axis=1)\n",
    "    train_scores_std = np.std(train_scores, axis=1)\n",
    "    test_scores_mean = np.mean(test_scores, axis=1)\n",
    "    test_scores_std = np.std(test_scores, axis=1)\n",
    "    plt.grid()\n",
    "\n",
    "    plt.fill_between(train_sizes, train_scores_mean - train_scores_std,\n",
    "                     train_scores_mean + train_scores_std, alpha=0.1,\n",
    "                     color=\"r\")\n",
    "    \n",
    "    plt.fill_between(train_sizes, test_scores_mean - test_scores_std,\n",
    "                     test_scores_mean + test_scores_std, alpha=0.1, color=\"g\")\n",
    "    \n",
    "    plt.plot(train_sizes, train_scores_mean, 'o-', color=\"r\",\n",
    "             label=\"Training score\")\n",
    "    \n",
    "    plt.plot(train_sizes, test_scores_mean, 'o-', color=\"g\",\n",
    "             label=\"Cross-validation score\")\n",
    "\n",
    "    plt.legend(loc=\"best\")\n",
    "    return plt\n",
    "g = plot_learning_curve(gsadaDTC.best_estimator_,\"DecisionTreeClassifier\",X_train,y_train,cv=kfold)\n",
    "g = plot_learning_curve(gsExtC.best_estimator_,\"ExtraTrees learning curves\",X_train,y_train,cv=kfold)\n",
    "g = plot_learning_curve(gsRFC.best_estimator_,\"RF mearning curves\",X_train,y_train,cv=kfold)\n",
    "g = plot_learning_curve(gsSVMC.best_estimator_,\"SVC learning curves\",X_train,y_train,cv=kfold)\n",
    "g = plot_learning_curve(gsadaDTC.best_estimator_,\"AdaBoost learning curves\",X_train,y_train,cv=kfold)\n",
    "g = plot_learning_curve(gsGBC.best_estimator_,\"GradientBoosting learning curves\",X_train,y_train,cv=kfold)\n",
    "g = plot_learning_curve(gsKNN.best_estimator_,\"KNN\",X_train,y_train,cv=kfold)\n",
    "g = plot_learning_curve(gslogreg.best_estimator_,\"LogisticRegression\",X_train,y_train,cv=kfold)"
   ]
  },
  {
   "cell_type": "markdown",
   "metadata": {},
   "source": [
    "# Feature Selection Baseado em Algoritmos de Árvore"
   ]
  },
  {
   "cell_type": "code",
   "execution_count": null,
   "metadata": {
    "ExecuteTime": {
     "end_time": "2019-08-13T18:17:45.835055Z",
     "start_time": "2019-08-13T18:17:45.809047Z"
    }
   },
   "outputs": [],
   "source": [
    "X_feature_select= train.drop(labels = [\"Survived\"],axis = 1)"
   ]
  },
  {
   "cell_type": "code",
   "execution_count": null,
   "metadata": {
    "ExecuteTime": {
     "end_time": "2019-08-13T14:40:25.982316Z",
     "start_time": "2019-08-13T14:40:23.979807Z"
    }
   },
   "outputs": [],
   "source": [
    "nrows = ncols = 2\n",
    "fig, axes = plt.subplots(nrows = nrows, ncols = ncols, sharex=\"all\", figsize=(15,15))\n",
    "\n",
    "names_classifiers = [(\"AdaBoosting\", ada_best),\n",
    "                     (\"ExtraTrees\",ExtC_best),\n",
    "                     (\"RandomForest\",RFC_best),\n",
    "                     (\"GradientBoosting\",GBC_best)]\n",
    "\n",
    "nclassifier = 0\n",
    "for row in range(nrows):\n",
    "    for col in range(ncols):\n",
    "        name = names_classifiers[nclassifier][0]\n",
    "        classifier = names_classifiers[nclassifier][1]\n",
    "        indices = np.argsort(classifier.feature_importances_)[::-1][:40]\n",
    "        g = sns.barplot(y=X_feature_select.columns[indices][:40],x = classifier.feature_importances_[indices][:40] , orient='h',ax=axes[row][col])\n",
    "        g.set_xlabel(\"Relative importance\",fontsize=12)\n",
    "        g.set_ylabel(\"Features\",fontsize=12)\n",
    "        g.tick_params(labelsize=9)\n",
    "        g.set_title(name + \" feature importance\")\n",
    "        nclassifier += 1\n"
   ]
  },
  {
   "cell_type": "markdown",
   "metadata": {},
   "source": [
    "# Predict"
   ]
  },
  {
   "cell_type": "code",
   "execution_count": null,
   "metadata": {
    "ExecuteTime": {
     "end_time": "2019-08-13T18:18:06.935551Z",
     "start_time": "2019-08-13T18:18:06.929058Z"
    }
   },
   "outputs": [],
   "source": [
    "#y = np.array(train[[\"Survived\"]])\n",
    "#X = np.array(train.drop(labels = [\"Survived\"],axis = 1))\n",
    "y_test = np.array(test[[\"Survived\"]])\n",
    "X_test = np.array(test.drop(labels = [\"Survived\"],axis = 1))\n"
   ]
  },
  {
   "cell_type": "code",
   "execution_count": null,
   "metadata": {
    "ExecuteTime": {
     "end_time": "2019-08-13T14:36:32.398402Z",
     "start_time": "2019-08-13T14:36:32.112192Z"
    }
   },
   "outputs": [],
   "source": [
    "votingC = VotingClassifier(estimators=[('rfc',    RFC_best), \n",
    "                                       ('extc',   ExtC_best),\n",
    "                                       ('svc',    SVMC_best) ,\n",
    "                                       ('adac',   ada_best),\n",
    "                                       ('gbc',    GBC_best),\n",
    "                                       ('logreg', lgreg_best)\n",
    "                                       ], voting='soft', n_jobs=4)\n",
    "\n",
    "votingC = votingC.fit(X_train, y_train)\n"
   ]
  },
  {
   "cell_type": "code",
   "execution_count": null,
   "metadata": {
    "ExecuteTime": {
     "end_time": "2019-08-13T18:19:49.891431Z",
     "start_time": "2019-08-13T18:19:49.886445Z"
    }
   },
   "outputs": [],
   "source": [
    "X_test = np.array(test[['Fare','Age']])\n"
   ]
  },
  {
   "cell_type": "code",
   "execution_count": null,
   "metadata": {},
   "outputs": [],
   "source": [
    "clf4"
   ]
  },
  {
   "cell_type": "code",
   "execution_count": null,
   "metadata": {
    "ExecuteTime": {
     "end_time": "2019-08-13T18:20:07.004112Z",
     "start_time": "2019-08-13T18:20:06.990132Z"
    }
   },
   "outputs": [],
   "source": [
    "#test_Survived = pd.Series(votingC.predict(X_test), name=\"Survived\")\n",
    "\n",
    "test_Survived = pd.Series(clf4.predict(X_test) , name=\"Survived\")\n",
    "\n",
    "results = pd.concat([IDtest,test_Survived],axis=1,ignore_index=False)\n",
    "\n",
    "results.to_csv(\"ensemble_python_voting.csv\",index=False)"
   ]
  },
  {
   "cell_type": "code",
   "execution_count": null,
   "metadata": {
    "ExecuteTime": {
     "end_time": "2019-08-13T18:20:34.557851Z",
     "start_time": "2019-08-13T18:20:34.519339Z"
    }
   },
   "outputs": [],
   "source": [
    "results.Survived.unique()"
   ]
  },
  {
   "cell_type": "code",
   "execution_count": null,
   "metadata": {},
   "outputs": [],
   "source": []
  }
 ],
 "metadata": {
  "gist": {
   "data": {
    "description": "https://github.com/Pantoja87/Titanic-Disaster.git",
    "public": true
   },
   "id": ""
  },
  "hide_input": false,
  "kernelspec": {
   "display_name": "Python 3",
   "language": "python",
   "name": "python3"
  },
  "nbTranslate": {
   "displayLangs": [
    "*"
   ],
   "hotkey": "alt-t",
   "langInMainMenu": true,
   "sourceLang": "en",
   "targetLang": "fr",
   "useGoogleTranslate": true
  },
  "toc": {
   "base_numbering": 1,
   "nav_menu": {},
   "number_sections": true,
   "sideBar": true,
   "skip_h1_title": false,
   "title_cell": "Table of Contents",
   "title_sidebar": "Contents",
   "toc_cell": true,
   "toc_position": {
    "height": "calc(100% - 180px)",
    "left": "10px",
    "top": "150px",
    "width": "165px"
   },
   "toc_section_display": true,
   "toc_window_display": true
  },
  "varInspector": {
   "cols": {
    "lenName": 16,
    "lenType": 16,
    "lenVar": 40
   },
   "kernels_config": {
    "python": {
     "delete_cmd_postfix": "",
     "delete_cmd_prefix": "del ",
     "library": "var_list.py",
     "varRefreshCmd": "print(var_dic_list())"
    },
    "r": {
     "delete_cmd_postfix": ") ",
     "delete_cmd_prefix": "rm(",
     "library": "var_list.r",
     "varRefreshCmd": "cat(var_dic_list()) "
    }
   },
   "types_to_exclude": [
    "module",
    "function",
    "builtin_function_or_method",
    "instance",
    "_Feature"
   ],
   "window_display": false
  }
 },
 "nbformat": 4,
 "nbformat_minor": 2
}
